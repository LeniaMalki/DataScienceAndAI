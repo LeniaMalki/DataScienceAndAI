{
 "cells": [
  {
   "cell_type": "markdown",
   "metadata": {},
   "source": [
    "## DAT405 Introduction to Data Science and AI\n",
    "# Assignment 4: Spam classification using Naïve Bayes\n",
    "\n",
    "Student name | Hours spent on the tasks\n",
    "------------ | -------------\n",
    "Lenia Malki | 10\n",
    "Maële Belmont | 10\n",
    "\n",
    "ask:\n",
    "- binarize value"
   ]
  },
  {
   "cell_type": "markdown",
   "metadata": {},
   "source": [
    "## Setup\n",
    "Python modules need to be loaded to solve the tasks."
   ]
  },
  {
   "cell_type": "code",
   "execution_count": 23,
   "metadata": {},
   "outputs": [],
   "source": [
    "import numpy as np\n",
    "import matplotlib.pyplot as plt\n",
    "import pandas as pd\n",
    "from sklearn.model_selection import train_test_split\n",
    "from sklearn import metrics\n",
    "import os\n",
    "from sklearn.naive_bayes import MultinomialNB\n",
    "from sklearn.naive_bayes import BernoulliNB\n",
    "from sklearn.feature_extraction.text import CountVectorizer\n",
    "import seaborn as sns"
   ]
  },
  {
   "cell_type": "markdown",
   "metadata": {},
   "source": [
    "## Task 1 - Preprocessing: \n",
    "#### a. Note that the email files contain a lot of extra information, besides the actual message. Ignore that for now and run on the entire text. Further down (in the higher grade part), you will be asked to filter out the headers and footers. "
   ]
  },
  {
   "cell_type": "markdown",
   "metadata": {},
   "source": [
    "#### b. We don’t want to train and test on the same data. Split the spam and the ham datasets in a training set and a test set."
   ]
  },
  {
   "cell_type": "code",
   "execution_count": 24,
   "metadata": {},
   "outputs": [],
   "source": [
    "#Method which saves files of a directory to a dataframe\n",
    "def getFiles(folderpath):\n",
    "    filepaths  = [os.path.join(folderpath, name) for name in os.listdir(folderpath)]\n",
    "    df = pd.DataFrame(filepaths)\n",
    "    return df\n",
    "\n",
    "#Assign dataframes to variables\n",
    "e_ham_files = getFiles('easy_ham')\n",
    "h_ham_files = getFiles('hard_ham') \n",
    "spam_ham_files = getFiles('spam')\n",
    "\n",
    "#Method which extract all messages from a dataframe containing file-paths\n",
    "def getFileContent(dataFrame,k):\n",
    "    messages = []\n",
    "    for i in range(len(dataFrame)):\n",
    "        filename = dataFrame.iloc[i,0]\n",
    "        with open(filename, encoding=\"Latin-1\") as f:\n",
    "            messages.append([f.read(),k]) #The \"k\" indicates whether it is spam=1 or ham=0\n",
    "    data = pd.DataFrame(messages, columns=[\"Content\",\"Type\"])\n",
    "    return data"
   ]
  },
  {
   "cell_type": "code",
   "execution_count": 25,
   "metadata": {},
   "outputs": [],
   "source": [
    "#Assigning file contents from directory to respective data frames\n",
    "easyHamContent = getFileContent(e_ham_files,0)\n",
    "hardHamContent = getFileContent(h_ham_files,0)\n",
    "spamContent = getFileContent(spam_ham_files,1)\n",
    "\n",
    "# Split data frames into training set and test set (70-30)\n",
    "easyHamTrain, easyHamTest = train_test_split(easyHamContent, test_size=0.3, random_state=0)\n",
    "hardHamTrain, hardHamTest = train_test_split(hardHamContent, test_size=0.3, random_state=0)\n",
    "spamTrain, spamTest = train_test_split(spamContent, test_size=0.3, random_state=0)"
   ]
  },
  {
   "cell_type": "markdown",
   "metadata": {},
   "source": [
    "## Task 2 - Write a Python program that:\n",
    "#### a. Uses four datasets (hamtrain, spamtrain, hamtest, and spamtest)"
   ]
  },
  {
   "cell_type": "markdown",
   "metadata": {},
   "source": [
    "#### b. Using a Naïve Bayes classifier (e.g. Sklearn), classifies the test sets and reports the  percentage of ham and spam test sets that were classified correctly. You can use CountVectorizer to transform the email texts into vectors. Please note that there are different types of Naïve Bayes Classifier in SKlearn (Document is available here). Test two of these classifiers: 1. Multinomial Naive Bayes and 2. Bernoulli Naive Bayes that are well suited for this problem. For the case of Bernoulli Naive Bayes you should use the parameter binarize to make the features binary. Discuss the differences between these two classifiers. "
   ]
  },
  {
   "cell_type": "code",
   "execution_count": 57,
   "metadata": {},
   "outputs": [],
   "source": [
    "def bayesClassifier(classiferType, hamTrain, spamTrain, hamTest, spamTest):\n",
    "    \n",
    "    #Setting up parameters for classifer\n",
    "    x_train = pd.concat([hamTrain[\"Content\"], spamTrain[\"Content\"]])\n",
    "    y_train = pd.concat([hamTrain[\"Type\"], spamTrain[\"Type\"]])\n",
    "    x_test = pd.concat([hamTest[\"Content\"], spamTest[\"Content\"]])\n",
    "    y_test = pd.concat([hamTest[\"Type\"], spamTest[\"Type\"]])\n",
    "    \n",
    "    #Convert a collection of text documents to a matrix of token counts.\n",
    "    #Needed in order to convert string to float for fitting \n",
    "    vectorizer = CountVectorizer()\n",
    "    vectorizer.fit(x_train)\n",
    "    trainVector = vectorizer.transform(x_train)\n",
    "    testVector = vectorizer.transform(x_test)\n",
    "    \n",
    "    if classiferType == 'Multinomial Naive Bayes':\n",
    "        clf = MultinomialNB() # Multinomial Naive Bayes\n",
    "    elif classiferType == 'Bernoulli Naive Bayes':\n",
    "        clf = BernoulliNB(fit_prior=False, binarize=1) # Bernouilli Naive Bayes\n",
    "\n",
    "    #Fitting the model\n",
    "    clf.fit(trainVector, y_train) \n",
    "    y_pred = clf.predict(testVector)\n",
    "\n",
    "    # Model Accuracy, how often is the classifier correct?\n",
    "    print(\"Accuracy with \" +  str(classiferType) + \" {:.2f}% \".format(metrics.accuracy_score(y_test, y_pred)*100))\n",
    "    \n",
    "    # Confusion matrix\n",
    "    confusionMatrix = metrics.confusion_matrix(y_test, y_pred)\n",
    "\n",
    "    # Create figure with Seaborn\n",
    "    plt.figure(figsize=(4,4))\n",
    "    sns.heatmap(confusionMatrix, annot=True, fmt=\".2f\", linewidths=.5, square = True, cmap = 'Blues_r')\n",
    "    plt.xlabel('Predicted') #modify x label\n",
    "    plt.ylabel('Actual') #modify y label\n",
    "    plt.title('Accuracy Score: {:.2f}%'.format(metrics.accuracy_score(y_test, y_pred)*100), size = 9); #set title\n",
    "    plt.show() #display the matrix\n"
   ]
  },
  {
   "cell_type": "markdown",
   "metadata": {},
   "source": [
    "Differences between the two classifiers:\n",
    "\n",
    "\n",
    "\n",
    "\n",
    "\n"
   ]
  },
  {
   "cell_type": "markdown",
   "metadata": {},
   "source": [
    "## Task 3 - Run your program on\n",
    "#### i. Spam versus easy-ham"
   ]
  },
  {
   "cell_type": "code",
   "execution_count": 58,
   "metadata": {},
   "outputs": [
    {
     "name": "stdout",
     "output_type": "stream",
     "text": [
      "Accuracy with Multinomial Naive Bayes 97.71% \n"
     ]
    },
    {
     "data": {
      "image/png": "[encoded data removed]",
      "text/plain": [
       "<Figure size 288x288 with 2 Axes>"
      ]
     },
     "metadata": {
      "needs_background": "light"
     },
     "output_type": "display_data"
    },
    {
     "name": "stdout",
     "output_type": "stream",
     "text": [
      "Accuracy with Bernoulli Naive Bayes 88.33% \n"
     ]
    },
    {
     "data": {
      "image/png": "[encoded data removed]",
      "text/plain": [
       "<Figure size 288x288 with 2 Axes>"
      ]
     },
     "metadata": {
      "needs_background": "light"
     },
     "output_type": "display_data"
    }
   ],
   "source": [
    "bayesClassifier('Multinomial Naive Bayes', easyHamTrain, spamTrain, easyHamTest, spamTest)\n",
    "bayesClassifier('Bernoulli Naive Bayes', easyHamTrain, spamTrain, easyHamTest, spamTest)"
   ]
  },
  {
   "cell_type": "markdown",
   "metadata": {},
   "source": [
    "#### ii. Spam versus hard-ham"
   ]
  },
  {
   "cell_type": "code",
   "execution_count": 59,
   "metadata": {},
   "outputs": [
    {
     "name": "stdout",
     "output_type": "stream",
     "text": [
      "Accuracy with Multinomial Naive Bayes 92.04% \n"
     ]
    },
    {
     "data": {
      "image/png": "[encoded data removed]",
      "text/plain": [
       "<Figure size 288x288 with 2 Axes>"
      ]
     },
     "metadata": {
      "needs_background": "light"
     },
     "output_type": "display_data"
    },
    {
     "name": "stdout",
     "output_type": "stream",
     "text": [
      "Accuracy with Bernoulli Naive Bayes 84.07% \n"
     ]
    },
    {
     "data": {
      "image/png": "[encoded data removed]",
      "text/plain": [
       "<Figure size 288x288 with 2 Axes>"
      ]
     },
     "metadata": {
      "needs_background": "light"
     },
     "output_type": "display_data"
    }
   ],
   "source": [
    "bayesClassifier('Multinomial Naive Bayes', hardHamTrain, spamTrain, hardHamTest, spamTest)\n",
    "bayesClassifier('Bernoulli Naive Bayes', hardHamTrain, spamTrain, hardHamTest, spamTest)"
   ]
  },
  {
   "cell_type": "markdown",
   "metadata": {},
   "source": [
    "## Task 4 - To avoid classification based on common and uninformative words it is common to filter these out. \n",
    "#### a. Argue why this may be useful. Try finding the words that are too common/uncommon in the dataset. "
   ]
  },
  {
   "cell_type": "markdown",
   "metadata": {},
   "source": [
    "#### b. Use the parameters in Sklearn’s CountVectorizer to filter out these words. Run the updated program on your data and record how the results differ from 3. You have two options to do this in Sklearn: either using the words found in part (a) or letting Sklearn do it for you."
   ]
  },
  {
   "cell_type": "markdown",
   "metadata": {},
   "source": [
    "## Task 5 - Filter out the headers and the footers of the emails before you run on them. The format may vary somewhat between emails, which can make this a bit tricky, so perfect filtering is not required. Run your program again and answer the following questions: \n",
    "#### a. Does the result improve from 3 and 4?"
   ]
  },
  {
   "cell_type": "markdown",
   "metadata": {},
   "source": [
    "#### b. The split of the data set into a training set and a test set can lead to very skewed results. Why is this, and do you have suggestions on remedies?"
   ]
  },
  {
   "cell_type": "markdown",
   "metadata": {},
   "source": [
    "#### c. What do you expect would happen if your training set were mostly spam messages while your test set were mostly ham messages?"
   ]
  },
  {
   "cell_type": "code",
   "execution_count": null,
   "metadata": {},
   "outputs": [],
   "source": []
  }
 ],
 "metadata": {
  "kernelspec": {
   "display_name": "Python 3",
   "language": "python",
   "name": "python3"
  },
  "language_info": {
   "codemirror_mode": {
    "name": "ipython",
    "version": 3
   },
   "file_extension": ".py",
   "mimetype": "text/x-python",
   "name": "python",
   "nbconvert_exporter": "python",
   "pygments_lexer": "ipython3",
   "version": "3.8.5"
  }
 },
 "nbformat": 4,
 "nbformat_minor": 4
}
