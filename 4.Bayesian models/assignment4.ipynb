{
 "cells": [
  {
   "cell_type": "markdown",
   "metadata": {},
   "source": [
    "## DAT405 Introduction to Data Science and AI\n",
    "# Assignment 4: Spam classification using Naïve Bayes\n",
    "\n",
    "Student name | Hours spent on the tasks\n",
    "------------ | -------------\n",
    "Lenia Malki | 10\n",
    "Maële Belmont | 10\n",
    "\n",
    "ask:\n",
    "- binarize value"
   ]
  },
  {
   "cell_type": "markdown",
   "metadata": {},
   "source": [
    "## Setup\n",
    "Python modules need to be loaded to solve the tasks."
   ]
  },
  {
   "cell_type": "code",
   "execution_count": 244,
   "metadata": {},
   "outputs": [],
   "source": [
    "import numpy as np\n",
    "import matplotlib.pyplot as plt\n",
    "import pandas as pd\n",
    "from sklearn.model_selection import train_test_split\n",
    "from sklearn import metrics\n",
    "import os\n",
    "from sklearn.naive_bayes import MultinomialNB\n",
    "from sklearn.naive_bayes import BernoulliNB\n",
    "from sklearn.feature_extraction.text import CountVectorizer\n",
    "import seaborn as sns\n",
    "from IPython.display import display_html "
   ]
  },
  {
   "cell_type": "markdown",
   "metadata": {},
   "source": [
    "## Task 1 - Preprocessing: \n",
    "#### a. Note that the email files contain a lot of extra information, besides the actual message. Ignore that for now and run on the entire text. Further down (in the higher grade part), you will be asked to filter out the headers and footers. "
   ]
  },
  {
   "cell_type": "markdown",
   "metadata": {},
   "source": [
    "#### b. We don’t want to train and test on the same data. Split the spam and the ham datasets in a training set and a test set."
   ]
  },
  {
   "cell_type": "code",
   "execution_count": 24,
   "metadata": {},
   "outputs": [],
   "source": [
    "#Method which saves files of a directory to a dataframe\n",
    "def getFiles(folderpath):\n",
    "    filepaths  = [os.path.join(folderpath, name) for name in os.listdir(folderpath)]\n",
    "    df = pd.DataFrame(filepaths)\n",
    "    return df\n",
    "\n",
    "#Assign dataframes to variables\n",
    "e_ham_files = getFiles('easy_ham')\n",
    "h_ham_files = getFiles('hard_ham') \n",
    "spam_ham_files = getFiles('spam')\n",
    "\n",
    "#Method which extract all messages from a dataframe containing file-paths\n",
    "def getFileContent(dataFrame,k):\n",
    "    messages = []\n",
    "    for i in range(len(dataFrame)):\n",
    "        filename = dataFrame.iloc[i,0]\n",
    "        with open(filename, encoding=\"Latin-1\") as f:\n",
    "            messages.append([f.read(),k]) #The \"k\" indicates whether it is spam=1 or ham=0\n",
    "    data = pd.DataFrame(messages, columns=[\"Content\",\"Type\"])\n",
    "    return data"
   ]
  },
  {
   "cell_type": "code",
   "execution_count": 25,
   "metadata": {},
   "outputs": [],
   "source": [
    "#Assigning file contents from directory to respective data frames\n",
    "easyHamContent = getFileContent(e_ham_files,0)\n",
    "hardHamContent = getFileContent(h_ham_files,0)\n",
    "spamContent = getFileContent(spam_ham_files,1)\n",
    "\n",
    "# Split data frames into training set and test set (70-30)\n",
    "easyHamTrain, easyHamTest = train_test_split(easyHamContent, test_size=0.3, random_state=0)\n",
    "hardHamTrain, hardHamTest = train_test_split(hardHamContent, test_size=0.3, random_state=0)\n",
    "spamTrain, spamTest = train_test_split(spamContent, test_size=0.3, random_state=0)"
   ]
  },
  {
   "cell_type": "markdown",
   "metadata": {},
   "source": [
    "## Task 2 - Write a Python program that:\n",
    "#### a. Uses four datasets (hamtrain, spamtrain, hamtest, and spamtest)"
   ]
  },
  {
   "cell_type": "markdown",
   "metadata": {},
   "source": [
    "#### b. Using a Naïve Bayes classifier (e.g. Sklearn), classifies the test sets and reports the  percentage of ham and spam test sets that were classified correctly. You can use CountVectorizer to transform the email texts into vectors. Please note that there are different types of Naïve Bayes Classifier in SKlearn (Document is available here). Test two of these classifiers: 1. Multinomial Naive Bayes and 2. Bernoulli Naive Bayes that are well suited for this problem. For the case of Bernoulli Naive Bayes you should use the parameter binarize to make the features binary. Discuss the differences between these two classifiers. "
   ]
  },
  {
   "cell_type": "code",
   "execution_count": 249,
   "metadata": {},
   "outputs": [],
   "source": [
    "def bayesClassifier(hamTrain, spamTrain, hamTest, spamTest):\n",
    "    \n",
    "    #Setting up parameters for classifer\n",
    "    x_train = pd.concat([hamTrain[\"Content\"], spamTrain[\"Content\"]])\n",
    "    y_train = pd.concat([hamTrain[\"Type\"], spamTrain[\"Type\"]])\n",
    "    x_test = pd.concat([hamTest[\"Content\"], spamTest[\"Content\"]])\n",
    "    y_test = pd.concat([hamTest[\"Type\"], spamTest[\"Type\"]])\n",
    "    \n",
    "    #Convert a collection of text documents to a matrix of token counts.\n",
    "    #Needed in order to convert string to float for fitting \n",
    "    vectorizer = CountVectorizer()\n",
    "    vectorizer.fit(x_train)\n",
    "    trainVector = vectorizer.transform(x_train)\n",
    "    testVector = vectorizer.transform(x_test)\n",
    "\n",
    "    clf_MNB = MultinomialNB() # Multinomial Naive Bayes\n",
    "    clf_BNB = BernoulliNB(fit_prior=False, binarize=1) # Bernouilli Naive Bayes\n",
    "\n",
    "    #Fitting the model\n",
    "    clf_MNB.fit(trainVector, y_train)\n",
    "    clf_BNB.fit(trainVector, y_train)\n",
    "    y_pred_MNB = clf_MNB.predict(testVector)\n",
    "    y_pred_BNB = clf_BNB.predict(testVector)\n",
    "\n",
    "    # Confusion matrix\n",
    "    confusionMatrixMNB = metrics.confusion_matrix(y_test, y_pred_MNB)\n",
    "    confusionMatrixBNB = metrics.confusion_matrix(y_test, y_pred_BNB)\n",
    "\n",
    "    # Create figure with Seaborn\n",
    "    fig, axs = plt.subplots(1, 2)\n",
    "    plt.subplots_adjust(left=0.1,\n",
    "                    bottom=0.1, \n",
    "                    right=2, \n",
    "                    top=0.9, \n",
    "                    wspace=0.4, \n",
    "                    hspace=0.4)\n",
    "    sns.heatmap(confusionMatrixMNB, annot=True, fmt=\".2f\", linewidths=.5, square = True, cmap = 'Blues_r', ax=axs[0], cbar=False)\n",
    "    axs[0].set_xlabel('Predicted') #modify x label\n",
    "    axs[0].set_ylabel('Actual') #modify y label\n",
    "    sns.heatmap(confusionMatrixBNB, annot=True, fmt=\".2f\", linewidths=.5, square = True, cmap = 'Blues_r', ax=axs[1], cbar=False)\n",
    "    axs[1].set_xlabel('Predicted') #modify x label\n",
    "    axs[1].set_ylabel('Actual') #modify y label\n",
    "    \n",
    "    axs[0].set_title('Accuracy Score Multinomial Naive Bayes: {:.2f}%'.format(metrics.accuracy_score(y_test, y_pred_MNB)*100), size = 12); #set title\n",
    "    axs[1].set_title('Accuracy Score Bernouilli Naive Bayes: {:.2f}%'.format(metrics.accuracy_score(y_test, y_pred_BNB)*100), size = 12); #set title\n"
   ]
  },
  {
   "cell_type": "markdown",
   "metadata": {},
   "source": [
    "Differences between the two classifiers:\n",
    "\n",
    "\n",
    "\n",
    "\n",
    "\n"
   ]
  },
  {
   "cell_type": "markdown",
   "metadata": {},
   "source": [
    "## Task 3 - Run your program on\n",
    "#### i. Spam versus easy-ham"
   ]
  },
  {
   "cell_type": "code",
   "execution_count": 250,
   "metadata": {},
   "outputs": [
    {
     "data": {
      "image/png": "[encoded data removed]",
      "text/plain": [
       "<Figure size 432x288 with 2 Axes>"
      ]
     },
     "metadata": {
      "needs_background": "light"
     },
     "output_type": "display_data"
    }
   ],
   "source": [
    "bayesClassifier(easyHamTrain, spamTrain, easyHamTest, spamTest)"
   ]
  },
  {
   "cell_type": "markdown",
   "metadata": {},
   "source": [
    "#### ii. Spam versus hard-ham"
   ]
  },
  {
   "cell_type": "code",
   "execution_count": 252,
   "metadata": {},
   "outputs": [
    {
     "data": {
      "image/png": "[encoded data removed]",
      "text/plain": [
       "<Figure size 432x288 with 2 Axes>"
      ]
     },
     "metadata": {
      "needs_background": "light"
     },
     "output_type": "display_data"
    }
   ],
   "source": [
    "bayesClassifier(hardHamTrain, spamTrain, hardHamTest, spamTest)"
   ]
  },
  {
   "cell_type": "markdown",
   "metadata": {},
   "source": [
    "## Task 4 - To avoid classification based on common and uninformative words it is common to filter these out. \n",
    "#### a. Argue why this may be useful. Try finding the words that are too common/uncommon in the dataset. "
   ]
  },
  {
   "cell_type": "code",
   "execution_count": 253,
   "metadata": {},
   "outputs": [],
   "source": [
    "def countWords(data, numberTOdisplay):\n",
    "    countVect = CountVectorizer()\n",
    "    countMatrix = countVect.fit_transform(data['Content'])\n",
    "    countArray = countMatrix.toarray()\n",
    "    words = pd.DataFrame(data=countArray,columns = countVect.get_feature_names())\n",
    "    wordsSum = pd.DataFrame(words.sum(axis=0).sort_values(axis=0, ascending=False)).reset_index()\n",
    "    wordsSum.columns = ['Word', 'Occurence']\n",
    "    common = wordsSum.iloc[: numberTOdisplay, :]\n",
    "    uncommon = wordsSum.tail(numberTOdisplay)\n",
    "    df1_styler = common.style.set_table_attributes(\"style='display:inline'\").set_caption('%.0f most common words in the dataset:' %(numberTOdisplay))\n",
    "    df2_styler = uncommon.style.set_table_attributes(\"style='display:inline'\").set_caption('%.0f of the most uncommon words in the dataset:' %(numberTOdisplay))\n",
    "\n",
    "    display_html(df1_styler._repr_html_()+df2_styler._repr_html_(), raw=True)"
   ]
  },
  {
   "cell_type": "code",
   "execution_count": 254,
   "metadata": {},
   "outputs": [
    {
     "name": "stdout",
     "output_type": "stream",
     "text": [
      "EASY-HAM\n"
     ]
    },
    {
     "data": {
      "text/html": [
       "<style  type=\"text/css\" >\n",
       "</style><table id=\"T_75cf23ea_8c41_11ec_a868_f40f24310007\" style='display:inline'><caption>10 most common words in the dataset:</caption><thead>    <tr>        <th class=\"blank level0\" ></th>        <th class=\"col_heading level0 col0\" >Word</th>        <th class=\"col_heading level0 col1\" >Occurence</th>    </tr></thead><tbody>\n",
       "                <tr>\n",
       "                        <th id=\"T_75cf23ea_8c41_11ec_a868_f40f24310007level0_row0\" class=\"row_heading level0 row0\" >0</th>\n",
       "                        <td id=\"T_75cf23ea_8c41_11ec_a868_f40f24310007row0_col0\" class=\"data row0 col0\" >com</td>\n",
       "                        <td id=\"T_75cf23ea_8c41_11ec_a868_f40f24310007row0_col1\" class=\"data row0 col1\" >38878</td>\n",
       "            </tr>\n",
       "            <tr>\n",
       "                        <th id=\"T_75cf23ea_8c41_11ec_a868_f40f24310007level0_row1\" class=\"row_heading level0 row1\" >1</th>\n",
       "                        <td id=\"T_75cf23ea_8c41_11ec_a868_f40f24310007row1_col0\" class=\"data row1 col0\" >to</td>\n",
       "                        <td id=\"T_75cf23ea_8c41_11ec_a868_f40f24310007row1_col1\" class=\"data row1 col1\" >24254</td>\n",
       "            </tr>\n",
       "            <tr>\n",
       "                        <th id=\"T_75cf23ea_8c41_11ec_a868_f40f24310007level0_row2\" class=\"row_heading level0 row2\" >2</th>\n",
       "                        <td id=\"T_75cf23ea_8c41_11ec_a868_f40f24310007row2_col0\" class=\"data row2 col0\" >the</td>\n",
       "                        <td id=\"T_75cf23ea_8c41_11ec_a868_f40f24310007row2_col1\" class=\"data row2 col1\" >24092</td>\n",
       "            </tr>\n",
       "            <tr>\n",
       "                        <th id=\"T_75cf23ea_8c41_11ec_a868_f40f24310007level0_row3\" class=\"row_heading level0 row3\" >3</th>\n",
       "                        <td id=\"T_75cf23ea_8c41_11ec_a868_f40f24310007row3_col0\" class=\"data row3 col0\" >2002</td>\n",
       "                        <td id=\"T_75cf23ea_8c41_11ec_a868_f40f24310007row3_col1\" class=\"data row3 col1\" >22279</td>\n",
       "            </tr>\n",
       "            <tr>\n",
       "                        <th id=\"T_75cf23ea_8c41_11ec_a868_f40f24310007level0_row4\" class=\"row_heading level0 row4\" >4</th>\n",
       "                        <td id=\"T_75cf23ea_8c41_11ec_a868_f40f24310007row4_col0\" class=\"data row4 col0\" >from</td>\n",
       "                        <td id=\"T_75cf23ea_8c41_11ec_a868_f40f24310007row4_col1\" class=\"data row4 col1\" >21795</td>\n",
       "            </tr>\n",
       "            <tr>\n",
       "                        <th id=\"T_75cf23ea_8c41_11ec_a868_f40f24310007level0_row5\" class=\"row_heading level0 row5\" >5</th>\n",
       "                        <td id=\"T_75cf23ea_8c41_11ec_a868_f40f24310007row5_col0\" class=\"data row5 col0\" >net</td>\n",
       "                        <td id=\"T_75cf23ea_8c41_11ec_a868_f40f24310007row5_col1\" class=\"data row5 col1\" >19312</td>\n",
       "            </tr>\n",
       "            <tr>\n",
       "                        <th id=\"T_75cf23ea_8c41_11ec_a868_f40f24310007level0_row6\" class=\"row_heading level0 row6\" >6</th>\n",
       "                        <td id=\"T_75cf23ea_8c41_11ec_a868_f40f24310007row6_col0\" class=\"data row6 col0\" >with</td>\n",
       "                        <td id=\"T_75cf23ea_8c41_11ec_a868_f40f24310007row6_col1\" class=\"data row6 col1\" >16461</td>\n",
       "            </tr>\n",
       "            <tr>\n",
       "                        <th id=\"T_75cf23ea_8c41_11ec_a868_f40f24310007level0_row7\" class=\"row_heading level0 row7\" >7</th>\n",
       "                        <td id=\"T_75cf23ea_8c41_11ec_a868_f40f24310007row7_col0\" class=\"data row7 col0\" >by</td>\n",
       "                        <td id=\"T_75cf23ea_8c41_11ec_a868_f40f24310007row7_col1\" class=\"data row7 col1\" >16373</td>\n",
       "            </tr>\n",
       "            <tr>\n",
       "                        <th id=\"T_75cf23ea_8c41_11ec_a868_f40f24310007level0_row8\" class=\"row_heading level0 row8\" >8</th>\n",
       "                        <td id=\"T_75cf23ea_8c41_11ec_a868_f40f24310007row8_col0\" class=\"data row8 col0\" >for</td>\n",
       "                        <td id=\"T_75cf23ea_8c41_11ec_a868_f40f24310007row8_col1\" class=\"data row8 col1\" >16063</td>\n",
       "            </tr>\n",
       "            <tr>\n",
       "                        <th id=\"T_75cf23ea_8c41_11ec_a868_f40f24310007level0_row9\" class=\"row_heading level0 row9\" >9</th>\n",
       "                        <td id=\"T_75cf23ea_8c41_11ec_a868_f40f24310007row9_col0\" class=\"data row9 col0\" >localhost</td>\n",
       "                        <td id=\"T_75cf23ea_8c41_11ec_a868_f40f24310007row9_col1\" class=\"data row9 col1\" >15846</td>\n",
       "            </tr>\n",
       "    </tbody></table><style  type=\"text/css\" >\n",
       "</style><table id=\"T_75cf6846_8c41_11ec_a868_f40f24310007\" style='display:inline'><caption>10 of the most uncommon words in the dataset:</caption><thead>    <tr>        <th class=\"blank level0\" ></th>        <th class=\"col_heading level0 col0\" >Word</th>        <th class=\"col_heading level0 col1\" >Occurence</th>    </tr></thead><tbody>\n",
       "                <tr>\n",
       "                        <th id=\"T_75cf6846_8c41_11ec_a868_f40f24310007level0_row0\" class=\"row_heading level0 row0\" >48736</th>\n",
       "                        <td id=\"T_75cf6846_8c41_11ec_a868_f40f24310007row0_col0\" class=\"data row0 col0\" >db50544158</td>\n",
       "                        <td id=\"T_75cf6846_8c41_11ec_a868_f40f24310007row0_col1\" class=\"data row0 col1\" >1</td>\n",
       "            </tr>\n",
       "            <tr>\n",
       "                        <th id=\"T_75cf6846_8c41_11ec_a868_f40f24310007level0_row1\" class=\"row_heading level0 row1\" >48737</th>\n",
       "                        <td id=\"T_75cf6846_8c41_11ec_a868_f40f24310007row1_col0\" class=\"data row1 col0\" >db5de16f16</td>\n",
       "                        <td id=\"T_75cf6846_8c41_11ec_a868_f40f24310007row1_col1\" class=\"data row1 col1\" >1</td>\n",
       "            </tr>\n",
       "            <tr>\n",
       "                        <th id=\"T_75cf6846_8c41_11ec_a868_f40f24310007level0_row2\" class=\"row_heading level0 row2\" >48738</th>\n",
       "                        <td id=\"T_75cf6846_8c41_11ec_a868_f40f24310007row2_col0\" class=\"data row2 col0\" >db61416f49</td>\n",
       "                        <td id=\"T_75cf6846_8c41_11ec_a868_f40f24310007row2_col1\" class=\"data row2 col1\" >1</td>\n",
       "            </tr>\n",
       "            <tr>\n",
       "                        <th id=\"T_75cf6846_8c41_11ec_a868_f40f24310007level0_row3\" class=\"row_heading level0 row3\" >48739</th>\n",
       "                        <td id=\"T_75cf6846_8c41_11ec_a868_f40f24310007row3_col0\" class=\"data row3 col0\" >db68d44158</td>\n",
       "                        <td id=\"T_75cf6846_8c41_11ec_a868_f40f24310007row3_col1\" class=\"data row3 col1\" >1</td>\n",
       "            </tr>\n",
       "            <tr>\n",
       "                        <th id=\"T_75cf6846_8c41_11ec_a868_f40f24310007level0_row4\" class=\"row_heading level0 row4\" >48740</th>\n",
       "                        <td id=\"T_75cf6846_8c41_11ec_a868_f40f24310007row4_col0\" class=\"data row4 col0\" >racketeering</td>\n",
       "                        <td id=\"T_75cf6846_8c41_11ec_a868_f40f24310007row4_col1\" class=\"data row4 col1\" >1</td>\n",
       "            </tr>\n",
       "            <tr>\n",
       "                        <th id=\"T_75cf6846_8c41_11ec_a868_f40f24310007level0_row5\" class=\"row_heading level0 row5\" >48741</th>\n",
       "                        <td id=\"T_75cf6846_8c41_11ec_a868_f40f24310007row5_col0\" class=\"data row5 col0\" >db70116f03</td>\n",
       "                        <td id=\"T_75cf6846_8c41_11ec_a868_f40f24310007row5_col1\" class=\"data row5 col1\" >1</td>\n",
       "            </tr>\n",
       "            <tr>\n",
       "                        <th id=\"T_75cf6846_8c41_11ec_a868_f40f24310007level0_row6\" class=\"row_heading level0 row6\" >48742</th>\n",
       "                        <td id=\"T_75cf6846_8c41_11ec_a868_f40f24310007row6_col0\" class=\"data row6 col0\" >db7683f951</td>\n",
       "                        <td id=\"T_75cf6846_8c41_11ec_a868_f40f24310007row6_col1\" class=\"data row6 col1\" >1</td>\n",
       "            </tr>\n",
       "            <tr>\n",
       "                        <th id=\"T_75cf6846_8c41_11ec_a868_f40f24310007level0_row7\" class=\"row_heading level0 row7\" >48743</th>\n",
       "                        <td id=\"T_75cf6846_8c41_11ec_a868_f40f24310007row7_col0\" class=\"data row7 col0\" >db8fa29409e</td>\n",
       "                        <td id=\"T_75cf6846_8c41_11ec_a868_f40f24310007row7_col1\" class=\"data row7 col1\" >1</td>\n",
       "            </tr>\n",
       "            <tr>\n",
       "                        <th id=\"T_75cf6846_8c41_11ec_a868_f40f24310007level0_row8\" class=\"row_heading level0 row8\" >48744</th>\n",
       "                        <td id=\"T_75cf6846_8c41_11ec_a868_f40f24310007row8_col0\" class=\"data row8 col0\" >db956294191</td>\n",
       "                        <td id=\"T_75cf6846_8c41_11ec_a868_f40f24310007row8_col1\" class=\"data row8 col1\" >1</td>\n",
       "            </tr>\n",
       "            <tr>\n",
       "                        <th id=\"T_75cf6846_8c41_11ec_a868_f40f24310007level0_row9\" class=\"row_heading level0 row9\" >48745</th>\n",
       "                        <td id=\"T_75cf6846_8c41_11ec_a868_f40f24310007row9_col0\" class=\"data row9 col0\" >brush</td>\n",
       "                        <td id=\"T_75cf6846_8c41_11ec_a868_f40f24310007row9_col1\" class=\"data row9 col1\" >1</td>\n",
       "            </tr>\n",
       "    </tbody></table>"
      ]
     },
     "metadata": {},
     "output_type": "display_data"
    }
   ],
   "source": [
    "print('EASY-HAM')\n",
    "countWords(easyHamContent, 10)"
   ]
  },
  {
   "cell_type": "markdown",
   "metadata": {},
   "source": [
    "---"
   ]
  },
  {
   "cell_type": "code",
   "execution_count": 255,
   "metadata": {
    "scrolled": false
   },
   "outputs": [
    {
     "name": "stdout",
     "output_type": "stream",
     "text": [
      "HARD-HAM\n"
     ]
    },
    {
     "data": {
      "text/html": [
       "<style  type=\"text/css\" >\n",
       "</style><table id=\"T_771063ea_8c41_11ec_a868_f40f24310007\" style='display:inline'><caption>10 most common words in the dataset:</caption><thead>    <tr>        <th class=\"blank level0\" ></th>        <th class=\"col_heading level0 col0\" >Word</th>        <th class=\"col_heading level0 col1\" >Occurence</th>    </tr></thead><tbody>\n",
       "                <tr>\n",
       "                        <th id=\"T_771063ea_8c41_11ec_a868_f40f24310007level0_row0\" class=\"row_heading level0 row0\" >0</th>\n",
       "                        <td id=\"T_771063ea_8c41_11ec_a868_f40f24310007row0_col0\" class=\"data row0 col0\" >com</td>\n",
       "                        <td id=\"T_771063ea_8c41_11ec_a868_f40f24310007row0_col1\" class=\"data row0 col1\" >25080</td>\n",
       "            </tr>\n",
       "            <tr>\n",
       "                        <th id=\"T_771063ea_8c41_11ec_a868_f40f24310007level0_row1\" class=\"row_heading level0 row1\" >1</th>\n",
       "                        <td id=\"T_771063ea_8c41_11ec_a868_f40f24310007row1_col0\" class=\"data row1 col0\" >http</td>\n",
       "                        <td id=\"T_771063ea_8c41_11ec_a868_f40f24310007row1_col1\" class=\"data row1 col1\" >23389</td>\n",
       "            </tr>\n",
       "            <tr>\n",
       "                        <th id=\"T_771063ea_8c41_11ec_a868_f40f24310007level0_row2\" class=\"row_heading level0 row2\" >2</th>\n",
       "                        <td id=\"T_771063ea_8c41_11ec_a868_f40f24310007row2_col0\" class=\"data row2 col0\" >td</td>\n",
       "                        <td id=\"T_771063ea_8c41_11ec_a868_f40f24310007row2_col1\" class=\"data row2 col1\" >22786</td>\n",
       "            </tr>\n",
       "            <tr>\n",
       "                        <th id=\"T_771063ea_8c41_11ec_a868_f40f24310007level0_row3\" class=\"row_heading level0 row3\" >3</th>\n",
       "                        <td id=\"T_771063ea_8c41_11ec_a868_f40f24310007row3_col0\" class=\"data row3 col0\" >width</td>\n",
       "                        <td id=\"T_771063ea_8c41_11ec_a868_f40f24310007row3_col1\" class=\"data row3 col1\" >17740</td>\n",
       "            </tr>\n",
       "            <tr>\n",
       "                        <th id=\"T_771063ea_8c41_11ec_a868_f40f24310007level0_row4\" class=\"row_heading level0 row4\" >4</th>\n",
       "                        <td id=\"T_771063ea_8c41_11ec_a868_f40f24310007row4_col0\" class=\"data row4 col0\" >3d</td>\n",
       "                        <td id=\"T_771063ea_8c41_11ec_a868_f40f24310007row4_col1\" class=\"data row4 col1\" >14164</td>\n",
       "            </tr>\n",
       "            <tr>\n",
       "                        <th id=\"T_771063ea_8c41_11ec_a868_f40f24310007level0_row5\" class=\"row_heading level0 row5\" >5</th>\n",
       "                        <td id=\"T_771063ea_8c41_11ec_a868_f40f24310007row5_col0\" class=\"data row5 col0\" >font</td>\n",
       "                        <td id=\"T_771063ea_8c41_11ec_a868_f40f24310007row5_col1\" class=\"data row5 col1\" >13015</td>\n",
       "            </tr>\n",
       "            <tr>\n",
       "                        <th id=\"T_771063ea_8c41_11ec_a868_f40f24310007level0_row6\" class=\"row_heading level0 row6\" >6</th>\n",
       "                        <td id=\"T_771063ea_8c41_11ec_a868_f40f24310007row6_col0\" class=\"data row6 col0\" >www</td>\n",
       "                        <td id=\"T_771063ea_8c41_11ec_a868_f40f24310007row6_col1\" class=\"data row6 col1\" >13007</td>\n",
       "            </tr>\n",
       "            <tr>\n",
       "                        <th id=\"T_771063ea_8c41_11ec_a868_f40f24310007level0_row7\" class=\"row_heading level0 row7\" >7</th>\n",
       "                        <td id=\"T_771063ea_8c41_11ec_a868_f40f24310007row7_col0\" class=\"data row7 col0\" >tr</td>\n",
       "                        <td id=\"T_771063ea_8c41_11ec_a868_f40f24310007row7_col1\" class=\"data row7 col1\" >11429</td>\n",
       "            </tr>\n",
       "            <tr>\n",
       "                        <th id=\"T_771063ea_8c41_11ec_a868_f40f24310007level0_row8\" class=\"row_heading level0 row8\" >8</th>\n",
       "                        <td id=\"T_771063ea_8c41_11ec_a868_f40f24310007row8_col0\" class=\"data row8 col0\" >the</td>\n",
       "                        <td id=\"T_771063ea_8c41_11ec_a868_f40f24310007row8_col1\" class=\"data row8 col1\" >10705</td>\n",
       "            </tr>\n",
       "            <tr>\n",
       "                        <th id=\"T_771063ea_8c41_11ec_a868_f40f24310007level0_row9\" class=\"row_heading level0 row9\" >9</th>\n",
       "                        <td id=\"T_771063ea_8c41_11ec_a868_f40f24310007row9_col0\" class=\"data row9 col0\" >br</td>\n",
       "                        <td id=\"T_771063ea_8c41_11ec_a868_f40f24310007row9_col1\" class=\"data row9 col1\" >10251</td>\n",
       "            </tr>\n",
       "    </tbody></table><style  type=\"text/css\" >\n",
       "</style><table id=\"T_7710a288_8c41_11ec_a868_f40f24310007\" style='display:inline'><caption>10 of the most uncommon words in the dataset:</caption><thead>    <tr>        <th class=\"blank level0\" ></th>        <th class=\"col_heading level0 col0\" >Word</th>        <th class=\"col_heading level0 col1\" >Occurence</th>    </tr></thead><tbody>\n",
       "                <tr>\n",
       "                        <th id=\"T_7710a288_8c41_11ec_a868_f40f24310007level0_row0\" class=\"row_heading level0 row0\" >36270</th>\n",
       "                        <td id=\"T_7710a288_8c41_11ec_a868_f40f24310007row0_col0\" class=\"data row0 col0\" >itri</td>\n",
       "                        <td id=\"T_7710a288_8c41_11ec_a868_f40f24310007row0_col1\" class=\"data row0 col1\" >1</td>\n",
       "            </tr>\n",
       "            <tr>\n",
       "                        <th id=\"T_7710a288_8c41_11ec_a868_f40f24310007level0_row1\" class=\"row_heading level0 row1\" >36271</th>\n",
       "                        <td id=\"T_7710a288_8c41_11ec_a868_f40f24310007row1_col0\" class=\"data row1 col0\" >itsa</td>\n",
       "                        <td id=\"T_7710a288_8c41_11ec_a868_f40f24310007row1_col1\" class=\"data row1 col1\" >1</td>\n",
       "            </tr>\n",
       "            <tr>\n",
       "                        <th id=\"T_7710a288_8c41_11ec_a868_f40f24310007level0_row2\" class=\"row_heading level0 row2\" >36272</th>\n",
       "                        <td id=\"T_7710a288_8c41_11ec_a868_f40f24310007row2_col0\" class=\"data row2 col0\" >ittees</td>\n",
       "                        <td id=\"T_7710a288_8c41_11ec_a868_f40f24310007row2_col1\" class=\"data row2 col1\" >1</td>\n",
       "            </tr>\n",
       "            <tr>\n",
       "                        <th id=\"T_7710a288_8c41_11ec_a868_f40f24310007level0_row3\" class=\"row_heading level0 row3\" >36273</th>\n",
       "                        <td id=\"T_7710a288_8c41_11ec_a868_f40f24310007row3_col0\" class=\"data row3 col0\" >itunes</td>\n",
       "                        <td id=\"T_7710a288_8c41_11ec_a868_f40f24310007row3_col1\" class=\"data row3 col1\" >1</td>\n",
       "            </tr>\n",
       "            <tr>\n",
       "                        <th id=\"T_7710a288_8c41_11ec_a868_f40f24310007level0_row4\" class=\"row_heading level0 row4\" >36274</th>\n",
       "                        <td id=\"T_7710a288_8c41_11ec_a868_f40f24310007row4_col0\" class=\"data row4 col0\" >itw</td>\n",
       "                        <td id=\"T_7710a288_8c41_11ec_a868_f40f24310007row4_col1\" class=\"data row4 col1\" >1</td>\n",
       "            </tr>\n",
       "            <tr>\n",
       "                        <th id=\"T_7710a288_8c41_11ec_a868_f40f24310007level0_row5\" class=\"row_heading level0 row5\" >36275</th>\n",
       "                        <td id=\"T_7710a288_8c41_11ec_a868_f40f24310007row5_col0\" class=\"data row5 col0\" >itzagas</td>\n",
       "                        <td id=\"T_7710a288_8c41_11ec_a868_f40f24310007row5_col1\" class=\"data row5 col1\" >1</td>\n",
       "            </tr>\n",
       "            <tr>\n",
       "                        <th id=\"T_7710a288_8c41_11ec_a868_f40f24310007level0_row6\" class=\"row_heading level0 row6\" >36276</th>\n",
       "                        <td id=\"T_7710a288_8c41_11ec_a868_f40f24310007row6_col0\" class=\"data row6 col0\" >itís</td>\n",
       "                        <td id=\"T_7710a288_8c41_11ec_a868_f40f24310007row6_col1\" class=\"data row6 col1\" >1</td>\n",
       "            </tr>\n",
       "            <tr>\n",
       "                        <th id=\"T_7710a288_8c41_11ec_a868_f40f24310007level0_row7\" class=\"row_heading level0 row7\" >36277</th>\n",
       "                        <td id=\"T_7710a288_8c41_11ec_a868_f40f24310007row7_col0\" class=\"data row7 col0\" >iuolnsvwjtgljyuvjughsyehjtkbkei</td>\n",
       "                        <td id=\"T_7710a288_8c41_11ec_a868_f40f24310007row7_col1\" class=\"data row7 col1\" >1</td>\n",
       "            </tr>\n",
       "            <tr>\n",
       "                        <th id=\"T_7710a288_8c41_11ec_a868_f40f24310007level0_row8\" class=\"row_heading level0 row8\" >36278</th>\n",
       "                        <td id=\"T_7710a288_8c41_11ec_a868_f40f24310007row8_col0\" class=\"data row8 col0\" >iusr</td>\n",
       "                        <td id=\"T_7710a288_8c41_11ec_a868_f40f24310007row8_col1\" class=\"data row8 col1\" >1</td>\n",
       "            </tr>\n",
       "            <tr>\n",
       "                        <th id=\"T_7710a288_8c41_11ec_a868_f40f24310007level0_row9\" class=\"row_heading level0 row9\" >36279</th>\n",
       "                        <td id=\"T_7710a288_8c41_11ec_a868_f40f24310007row9_col0\" class=\"data row9 col0\" >hthzr</td>\n",
       "                        <td id=\"T_7710a288_8c41_11ec_a868_f40f24310007row9_col1\" class=\"data row9 col1\" >1</td>\n",
       "            </tr>\n",
       "    </tbody></table>"
      ]
     },
     "metadata": {},
     "output_type": "display_data"
    }
   ],
   "source": [
    "print('HARD-HAM')\n",
    "countWords(hardHamContent, 10)"
   ]
  },
  {
   "cell_type": "markdown",
   "metadata": {},
   "source": [
    "---"
   ]
  },
  {
   "cell_type": "code",
   "execution_count": 257,
   "metadata": {
    "scrolled": false
   },
   "outputs": [
    {
     "name": "stdout",
     "output_type": "stream",
     "text": [
      "SPAM\n"
     ]
    },
    {
     "data": {
      "text/html": [
       "<style  type=\"text/css\" >\n",
       "</style><table id=\"T_7a32da30_8c41_11ec_a868_f40f24310007\" style='display:inline'><caption>10 most common words in the dataset:</caption><thead>    <tr>        <th class=\"blank level0\" ></th>        <th class=\"col_heading level0 col0\" >Word</th>        <th class=\"col_heading level0 col1\" >Occurence</th>    </tr></thead><tbody>\n",
       "                <tr>\n",
       "                        <th id=\"T_7a32da30_8c41_11ec_a868_f40f24310007level0_row0\" class=\"row_heading level0 row0\" >0</th>\n",
       "                        <td id=\"T_7a32da30_8c41_11ec_a868_f40f24310007row0_col0\" class=\"data row0 col0\" >3d</td>\n",
       "                        <td id=\"T_7a32da30_8c41_11ec_a868_f40f24310007row0_col1\" class=\"data row0 col1\" >11212</td>\n",
       "            </tr>\n",
       "            <tr>\n",
       "                        <th id=\"T_7a32da30_8c41_11ec_a868_f40f24310007level0_row1\" class=\"row_heading level0 row1\" >1</th>\n",
       "                        <td id=\"T_7a32da30_8c41_11ec_a868_f40f24310007row1_col0\" class=\"data row1 col0\" >font</td>\n",
       "                        <td id=\"T_7a32da30_8c41_11ec_a868_f40f24310007row1_col1\" class=\"data row1 col1\" >9235</td>\n",
       "            </tr>\n",
       "            <tr>\n",
       "                        <th id=\"T_7a32da30_8c41_11ec_a868_f40f24310007level0_row2\" class=\"row_heading level0 row2\" >2</th>\n",
       "                        <td id=\"T_7a32da30_8c41_11ec_a868_f40f24310007row2_col0\" class=\"data row2 col0\" >to</td>\n",
       "                        <td id=\"T_7a32da30_8c41_11ec_a868_f40f24310007row2_col1\" class=\"data row2 col1\" >6527</td>\n",
       "            </tr>\n",
       "            <tr>\n",
       "                        <th id=\"T_7a32da30_8c41_11ec_a868_f40f24310007level0_row3\" class=\"row_heading level0 row3\" >3</th>\n",
       "                        <td id=\"T_7a32da30_8c41_11ec_a868_f40f24310007row3_col0\" class=\"data row3 col0\" >the</td>\n",
       "                        <td id=\"T_7a32da30_8c41_11ec_a868_f40f24310007row3_col1\" class=\"data row3 col1\" >6027</td>\n",
       "            </tr>\n",
       "            <tr>\n",
       "                        <th id=\"T_7a32da30_8c41_11ec_a868_f40f24310007level0_row4\" class=\"row_heading level0 row4\" >4</th>\n",
       "                        <td id=\"T_7a32da30_8c41_11ec_a868_f40f24310007row4_col0\" class=\"data row4 col0\" >com</td>\n",
       "                        <td id=\"T_7a32da30_8c41_11ec_a868_f40f24310007row4_col1\" class=\"data row4 col1\" >5940</td>\n",
       "            </tr>\n",
       "            <tr>\n",
       "                        <th id=\"T_7a32da30_8c41_11ec_a868_f40f24310007level0_row5\" class=\"row_heading level0 row5\" >5</th>\n",
       "                        <td id=\"T_7a32da30_8c41_11ec_a868_f40f24310007row5_col0\" class=\"data row5 col0\" >td</td>\n",
       "                        <td id=\"T_7a32da30_8c41_11ec_a868_f40f24310007row5_col1\" class=\"data row5 col1\" >5479</td>\n",
       "            </tr>\n",
       "            <tr>\n",
       "                        <th id=\"T_7a32da30_8c41_11ec_a868_f40f24310007level0_row6\" class=\"row_heading level0 row6\" >6</th>\n",
       "                        <td id=\"T_7a32da30_8c41_11ec_a868_f40f24310007row6_col0\" class=\"data row6 col0\" >from</td>\n",
       "                        <td id=\"T_7a32da30_8c41_11ec_a868_f40f24310007row6_col1\" class=\"data row6 col1\" >4260</td>\n",
       "            </tr>\n",
       "            <tr>\n",
       "                        <th id=\"T_7a32da30_8c41_11ec_a868_f40f24310007level0_row7\" class=\"row_heading level0 row7\" >7</th>\n",
       "                        <td id=\"T_7a32da30_8c41_11ec_a868_f40f24310007row7_col0\" class=\"data row7 col0\" >for</td>\n",
       "                        <td id=\"T_7a32da30_8c41_11ec_a868_f40f24310007row7_col1\" class=\"data row7 col1\" >3964</td>\n",
       "            </tr>\n",
       "            <tr>\n",
       "                        <th id=\"T_7a32da30_8c41_11ec_a868_f40f24310007level0_row8\" class=\"row_heading level0 row8\" >8</th>\n",
       "                        <td id=\"T_7a32da30_8c41_11ec_a868_f40f24310007row8_col0\" class=\"data row8 col0\" >and</td>\n",
       "                        <td id=\"T_7a32da30_8c41_11ec_a868_f40f24310007row8_col1\" class=\"data row8 col1\" >3829</td>\n",
       "            </tr>\n",
       "            <tr>\n",
       "                        <th id=\"T_7a32da30_8c41_11ec_a868_f40f24310007level0_row9\" class=\"row_heading level0 row9\" >9</th>\n",
       "                        <td id=\"T_7a32da30_8c41_11ec_a868_f40f24310007row9_col0\" class=\"data row9 col0\" >of</td>\n",
       "                        <td id=\"T_7a32da30_8c41_11ec_a868_f40f24310007row9_col1\" class=\"data row9 col1\" >3699</td>\n",
       "            </tr>\n",
       "    </tbody></table><style  type=\"text/css\" >\n",
       "</style><table id=\"T_7a331888_8c41_11ec_a868_f40f24310007\" style='display:inline'><caption>10 of the most uncommon words in the dataset:</caption><thead>    <tr>        <th class=\"blank level0\" ></th>        <th class=\"col_heading level0 col0\" >Word</th>        <th class=\"col_heading level0 col1\" >Occurence</th>    </tr></thead><tbody>\n",
       "                <tr>\n",
       "                        <th id=\"T_7a331888_8c41_11ec_a868_f40f24310007level0_row0\" class=\"row_heading level0 row0\" >45941</th>\n",
       "                        <td id=\"T_7a331888_8c41_11ec_a868_f40f24310007row0_col0\" class=\"data row0 col0\" >ljwznob7rty95ps1o65lguul</td>\n",
       "                        <td id=\"T_7a331888_8c41_11ec_a868_f40f24310007row0_col1\" class=\"data row0 col1\" >1</td>\n",
       "            </tr>\n",
       "            <tr>\n",
       "                        <th id=\"T_7a331888_8c41_11ec_a868_f40f24310007level0_row1\" class=\"row_heading level0 row1\" >45942</th>\n",
       "                        <td id=\"T_7a331888_8c41_11ec_a868_f40f24310007row1_col0\" class=\"data row1 col0\" >ljxicj4nciagicagidxicj4nciagicagidwvzm9udd48yj48zm9udcbjb2xvcj0iizawmdbgriig</td>\n",
       "                        <td id=\"T_7a331888_8c41_11ec_a868_f40f24310007row1_col1\" class=\"data row1 col1\" >1</td>\n",
       "            </tr>\n",
       "            <tr>\n",
       "                        <th id=\"T_7a331888_8c41_11ec_a868_f40f24310007level0_row2\" class=\"row_heading level0 row2\" >45943</th>\n",
       "                        <td id=\"T_7a331888_8c41_11ec_a868_f40f24310007row2_col0\" class=\"data row2 col0\" >ljxicj4nciagicagidxicj4nciagicagif9fx19fx19fxzxipjxppjxmb250ignvbg9ypsijmdaw</td>\n",
       "                        <td id=\"T_7a331888_8c41_11ec_a868_f40f24310007row2_col1\" class=\"data row2 col1\" >1</td>\n",
       "            </tr>\n",
       "            <tr>\n",
       "                        <th id=\"T_7a331888_8c41_11ec_a868_f40f24310007level0_row3\" class=\"row_heading level0 row3\" >45944</th>\n",
       "                        <td id=\"T_7a331888_8c41_11ec_a868_f40f24310007row3_col0\" class=\"data row3 col0\" >ljy0ljiwoc4yntivchjvbw8vzhzyl3bpyziuz2lmiib3awr0ad0imtewiibozwlnahq9ijg5ij48</td>\n",
       "                        <td id=\"T_7a331888_8c41_11ec_a868_f40f24310007row3_col1\" class=\"data row3 col1\" >1</td>\n",
       "            </tr>\n",
       "            <tr>\n",
       "                        <th id=\"T_7a331888_8c41_11ec_a868_f40f24310007level0_row4\" class=\"row_heading level0 row4\" >45945</th>\n",
       "                        <td id=\"T_7a331888_8c41_11ec_a868_f40f24310007row4_col0\" class=\"data row4 col0\" >ljztr3xxkdzi4akkwnul9euwm4pkwak71j4fbjpeudlfwuabwcgaac6n0h8skup9b</td>\n",
       "                        <td id=\"T_7a331888_8c41_11ec_a868_f40f24310007row4_col1\" class=\"data row4 col1\" >1</td>\n",
       "            </tr>\n",
       "            <tr>\n",
       "                        <th id=\"T_7a331888_8c41_11ec_a868_f40f24310007level0_row5\" class=\"row_heading level0 row5\" >45946</th>\n",
       "                        <td id=\"T_7a331888_8c41_11ec_a868_f40f24310007row5_col0\" class=\"data row5 col0\" >lk0h8duacadk5kehj8ksnkrfbwppnj</td>\n",
       "                        <td id=\"T_7a331888_8c41_11ec_a868_f40f24310007row5_col1\" class=\"data row5 col1\" >1</td>\n",
       "            </tr>\n",
       "            <tr>\n",
       "                        <th id=\"T_7a331888_8c41_11ec_a868_f40f24310007level0_row6\" class=\"row_heading level0 row6\" >45947</th>\n",
       "                        <td id=\"T_7a331888_8c41_11ec_a868_f40f24310007row6_col0\" class=\"data row6 col0\" >lk1xbyabs6goooirp2ylisxjbufiylvyl6nda9xamhxsomvhcgzesyybfcor4edlhh4l1nva704b</td>\n",
       "                        <td id=\"T_7a331888_8c41_11ec_a868_f40f24310007row6_col1\" class=\"data row6 col1\" >1</td>\n",
       "            </tr>\n",
       "            <tr>\n",
       "                        <th id=\"T_7a331888_8c41_11ec_a868_f40f24310007level0_row7\" class=\"row_heading level0 row7\" >45948</th>\n",
       "                        <td id=\"T_7a331888_8c41_11ec_a868_f40f24310007row7_col0\" class=\"data row7 col0\" >lk3rmfplx6ececnkaek9kgpqnkpn</td>\n",
       "                        <td id=\"T_7a331888_8c41_11ec_a868_f40f24310007row7_col1\" class=\"data row7 col1\" >1</td>\n",
       "            </tr>\n",
       "            <tr>\n",
       "                        <th id=\"T_7a331888_8c41_11ec_a868_f40f24310007level0_row8\" class=\"row_heading level0 row8\" >45949</th>\n",
       "                        <td id=\"T_7a331888_8c41_11ec_a868_f40f24310007row8_col0\" class=\"data row8 col0\" >lkhaskpatdy9odjzsqwxumftbf1kmwwoy</td>\n",
       "                        <td id=\"T_7a331888_8c41_11ec_a868_f40f24310007row8_col1\" class=\"data row8 col1\" >1</td>\n",
       "            </tr>\n",
       "            <tr>\n",
       "                        <th id=\"T_7a331888_8c41_11ec_a868_f40f24310007level0_row9\" class=\"row_heading level0 row9\" >45950</th>\n",
       "                        <td id=\"T_7a331888_8c41_11ec_a868_f40f24310007row9_col0\" class=\"data row9 col0\" >ierpy2sgyw5kienvy2sgdg8gy29tzsbpbiegpc9mb250pjwvdgq</td>\n",
       "                        <td id=\"T_7a331888_8c41_11ec_a868_f40f24310007row9_col1\" class=\"data row9 col1\" >1</td>\n",
       "            </tr>\n",
       "    </tbody></table>"
      ]
     },
     "metadata": {},
     "output_type": "display_data"
    }
   ],
   "source": [
    "print('SPAM')\n",
    "countWords(spamContent, 10)"
   ]
  },
  {
   "cell_type": "markdown",
   "metadata": {},
   "source": [
    "---"
   ]
  },
  {
   "cell_type": "markdown",
   "metadata": {},
   "source": [
    "#### b. Use the parameters in Sklearn’s CountVectorizer to filter out these words. Run the updated program on your data and record how the results differ from 3. You have two options to do this in Sklearn: either using the words found in part (a) or letting Sklearn do it for you.\n",
    "\n",
    "> Max_df stands for maximum document frequency. We can ignore words which occur frequently. These words could be like the word ‘the’ that occur in every document and does not provide and valuable information to our text classification or any other machine learning model and can be safely ignored. Max_df looks at how many documents contain the word and if it exceeds the max_df threshold then it is eliminated from the sparse matrix. This parameter can again 2 types of values, percentage and absolute. [Source: TowardsDataScience](https://towardsdatascience.com/basics-of-countvectorizer-e26677900f9c)\n"
   ]
  },
  {
   "cell_type": "code",
   "execution_count": 270,
   "metadata": {},
   "outputs": [],
   "source": [
    "def bayesClassifierFiltered(hamTrain, spamTrain, hamTest, spamTest, max_df):\n",
    "    \n",
    "    #Setting up parameters for classifer\n",
    "    x_train = pd.concat([hamTrain[\"Content\"], spamTrain[\"Content\"]])\n",
    "    y_train = pd.concat([hamTrain[\"Type\"], spamTrain[\"Type\"]])\n",
    "    x_test = pd.concat([hamTest[\"Content\"], spamTest[\"Content\"]])\n",
    "    y_test = pd.concat([hamTest[\"Type\"], spamTest[\"Type\"]])\n",
    "    \n",
    "    #Convert a collection of text documents to a matrix of token counts.\n",
    "    #Needed in order to convert string to float for fitting \n",
    "    vectorizer = CountVectorizer(max_df = max_df)\n",
    "    vectorizer.fit(x_train)\n",
    "    trainVector = vectorizer.transform(x_train)\n",
    "    testVector = vectorizer.transform(x_test)\n",
    "\n",
    "    clf_MNB = MultinomialNB() # Multinomial Naive Bayes\n",
    "    clf_BNB = BernoulliNB(fit_prior=False, binarize=1) # Bernouilli Naive Bayes\n",
    "\n",
    "    #Fitting the model\n",
    "    clf_MNB.fit(trainVector, y_train)\n",
    "    clf_BNB.fit(trainVector, y_train)\n",
    "    y_pred_MNB = clf_MNB.predict(testVector)\n",
    "    y_pred_BNB = clf_BNB.predict(testVector)\n",
    "\n",
    "    # Confusion matrix\n",
    "    confusionMatrixMNB = metrics.confusion_matrix(y_test, y_pred_MNB)\n",
    "    confusionMatrixBNB = metrics.confusion_matrix(y_test, y_pred_BNB)\n",
    "\n",
    "    # Create figure with Seaborn\n",
    "    fig, axs = plt.subplots(1, 2)\n",
    "    plt.subplots_adjust(left=0.1,\n",
    "                    bottom=0.1, \n",
    "                    right=2, \n",
    "                    top=0.9, \n",
    "                    wspace=0.4, \n",
    "                    hspace=0.4)\n",
    "    sns.heatmap(confusionMatrixMNB, annot=True, fmt=\".2f\", linewidths=.5, square = True, cmap = 'Blues_r', ax=axs[0], cbar=False)\n",
    "    axs[0].set_xlabel('Predicted') #modify x label\n",
    "    axs[0].set_ylabel('Actual') #modify y label\n",
    "    sns.heatmap(confusionMatrixBNB, annot=True, fmt=\".2f\", linewidths=.5, square = True, cmap = 'Blues_r', ax=axs[1], cbar=False)\n",
    "    axs[1].set_xlabel('Predicted') #modify x label\n",
    "    axs[1].set_ylabel('Actual') #modify y label\n",
    "    \n",
    "    axs[0].set_title('Accuracy Score Multinomial Naive Bayes: {:.2f}%'.format(metrics.accuracy_score(y_test, y_pred_MNB)*100), size = 12); #set title\n",
    "    axs[1].set_title('Accuracy Score Bernouilli Naive Bayes: {:.2f}%'.format(metrics.accuracy_score(y_test, y_pred_BNB)*100), size = 12); #set title\n"
   ]
  },
  {
   "cell_type": "markdown",
   "metadata": {},
   "source": [
    "#### i. Spam versus Easy Ham"
   ]
  },
  {
   "cell_type": "code",
   "execution_count": 271,
   "metadata": {},
   "outputs": [
    {
     "data": {
      "image/png": "[encoded data removed]",
      "text/plain": [
       "<Figure size 432x288 with 2 Axes>"
      ]
     },
     "metadata": {
      "needs_background": "light"
     },
     "output_type": "display_data"
    }
   ],
   "source": [
    "bayesClassifierFiltered(easyHamTrain, spamTrain, easyHamTest, spamTest, 1)"
   ]
  },
  {
   "cell_type": "markdown",
   "metadata": {},
   "source": [
    "#### ii. Spam versus hard-ham"
   ]
  },
  {
   "cell_type": "code",
   "execution_count": 272,
   "metadata": {},
   "outputs": [
    {
     "data": {
      "image/png": "[encoded data removed]",
      "text/plain": [
       "<Figure size 432x288 with 2 Axes>"
      ]
     },
     "metadata": {
      "needs_background": "light"
     },
     "output_type": "display_data"
    }
   ],
   "source": [
    "bayesClassifierFiltered(hardHamTrain, spamTrain, hardHamTest, spamTest, 1)"
   ]
  },
  {
   "cell_type": "markdown",
   "metadata": {},
   "source": [
    "## Task 5 - Filter out the headers and the footers of the emails before you run on them. The format may vary somewhat between emails, which can make this a bit tricky, so perfect filtering is not required. Run your program again and answer the following questions: \n",
    "#### a. Does the result improve from 3 and 4?"
   ]
  },
  {
   "cell_type": "markdown",
   "metadata": {},
   "source": [
    "#### b. The split of the data set into a training set and a test set can lead to very skewed results. Why is this, and do you have suggestions on remedies?"
   ]
  },
  {
   "cell_type": "markdown",
   "metadata": {},
   "source": [
    "#### c. What do you expect would happen if your training set were mostly spam messages while your test set were mostly ham messages?"
   ]
  }
 ],
 "metadata": {
  "kernelspec": {
   "display_name": "Python 3",
   "language": "python",
   "name": "python3"
  },
  "language_info": {
   "codemirror_mode": {
    "name": "ipython",
    "version": 3
   },
   "file_extension": ".py",
   "mimetype": "text/x-python",
   "name": "python",
   "nbconvert_exporter": "python",
   "pygments_lexer": "ipython3",
   "version": "3.8.5"
  }
 },
 "nbformat": 4,
 "nbformat_minor": 4
}
