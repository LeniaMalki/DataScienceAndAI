{
 "cells": [
  {
   "cell_type": "markdown",
   "metadata": {},
   "source": [
    "## DAT405 Introduction to Data Science and AI\n",
    "# Assignment 4: Spam classification using Naïve Bayes\n",
    "\n",
    "Student name | Hours spent on the tasks\n",
    "------------ | -------------\n",
    "Lenia Malki | 10\n",
    "Maële Belmont | 10\n"
   ]
  },
  {
   "cell_type": "markdown",
   "metadata": {},
   "source": [
    "## Setup\n",
    "Python modules need to be loaded to solve the tasks."
   ]
  },
  {
   "cell_type": "code",
   "execution_count": 17,
   "metadata": {},
   "outputs": [],
   "source": [
    "import numpy as np\n",
    "import matplotlib.pyplot as plt\n",
    "import pandas as pd\n",
    "from sklearn.model_selection import train_test_split\n",
    "from sklearn import metrics\n",
    "import os\n",
    "from sklearn.naive_bayes import MultinomialNB\n",
    "from sklearn.naive_bayes import BernoulliNB\n",
    "from sklearn.feature_extraction.text import CountVectorizer\n",
    "import seaborn as sns\n",
    "from IPython.display import display_html "
   ]
  },
  {
   "cell_type": "markdown",
   "metadata": {},
   "source": [
    "## Task 1 - Preprocessing: \n",
    "#### a. Note that the email files contain a lot of extra information, besides the actual message. Ignore that for now and run on the entire text. Further down (in the higher grade part), you will be asked to filter out the headers and footers. "
   ]
  },
  {
   "cell_type": "markdown",
   "metadata": {},
   "source": [
    "#### b. We don’t want to train and test on the same data. Split the spam and the ham datasets in a training set and a test set."
   ]
  },
  {
   "cell_type": "code",
   "execution_count": 30,
   "metadata": {},
   "outputs": [],
   "source": [
    "#Function which updates figure numbers throughout the notebook \n",
    "#Run only if you want to reset the count\n",
    "figureNmr = 0\n",
    "def getFigureNmr():\n",
    "    global figureNmr\n",
    "    figureNmr = figureNmr + 1\n",
    "    return figureNmr"
   ]
  },
  {
   "cell_type": "code",
   "execution_count": 31,
   "metadata": {},
   "outputs": [],
   "source": [
    "#Method which saves files of a directory to a dataframe\n",
    "def getFiles(folderpath):\n",
    "    filepaths  = [os.path.join(folderpath, name) for name in os.listdir(folderpath)]\n",
    "    df = pd.DataFrame(filepaths)\n",
    "    return df\n",
    "\n",
    "#Assign dataframes to variables\n",
    "e_ham_files = getFiles('easy_ham')\n",
    "h_ham_files = getFiles('hard_ham') \n",
    "spam_ham_files = getFiles('spam')\n",
    "\n",
    "#Method which extract all messages from a dataframe containing file-paths\n",
    "def getFileContent(dataFrame,k):\n",
    "    messages = []\n",
    "    for i in range(len(dataFrame)):\n",
    "        filename = dataFrame.iloc[i,0]\n",
    "        with open(filename, encoding=\"Latin-1\") as f:\n",
    "            messages.append([f.read(),k]) #The \"k\" indicates whether it is spam=1 or ham=0\n",
    "    data = pd.DataFrame(messages, columns=[\"Content\",\"Type\"])\n",
    "    return data"
   ]
  },
  {
   "cell_type": "code",
   "execution_count": 32,
   "metadata": {},
   "outputs": [],
   "source": [
    "#Assigning file contents from directory to respective data frames\n",
    "easyHamContent = getFileContent(e_ham_files,0)\n",
    "hardHamContent = getFileContent(h_ham_files,0)\n",
    "spamContent = getFileContent(spam_ham_files,1)\n",
    "\n",
    "# Split data frames into training set and test set (70-30)\n",
    "easyHamTrain, easyHamTest = train_test_split(easyHamContent, test_size=0.3, random_state=0)\n",
    "hardHamTrain, hardHamTest = train_test_split(hardHamContent, test_size=0.3, random_state=0)\n",
    "spamTrain, spamTest = train_test_split(spamContent, test_size=0.3, random_state=0)"
   ]
  },
  {
   "cell_type": "markdown",
   "metadata": {},
   "source": [
    "## Task 2 - Write a Python program that:\n",
    "#### a. Uses four datasets (hamtrain, spamtrain, hamtest, and spamtest)"
   ]
  },
  {
   "cell_type": "markdown",
   "metadata": {},
   "source": [
    "#### b. Using a Naïve Bayes classifier (e.g. Sklearn), classifies the test sets and reports the  percentage of ham and spam test sets that were classified correctly. You can use CountVectorizer to transform the email texts into vectors. Please note that there are different types of Naïve Bayes Classifier in SKlearn (Document is available here). Test two of these classifiers: 1. Multinomial Naive Bayes and 2. Bernoulli Naive Bayes that are well suited for this problem. For the case of Bernoulli Naive Bayes you should use the parameter binarize to make the features binary. Discuss the differences between these two classifiers. "
   ]
  },
  {
   "cell_type": "code",
   "execution_count": 33,
   "metadata": {},
   "outputs": [],
   "source": [
    "def bayesClassifier(hamTrain, spamTrain, hamTest, spamTest):  \n",
    "    #Setting up parameters for classifer\n",
    "    x_train = pd.concat([hamTrain[\"Content\"], spamTrain[\"Content\"]])\n",
    "    y_train = pd.concat([hamTrain[\"Type\"], spamTrain[\"Type\"]])\n",
    "    x_test = pd.concat([hamTest[\"Content\"], spamTest[\"Content\"]])\n",
    "    y_test = pd.concat([hamTest[\"Type\"], spamTest[\"Type\"]])\n",
    "    \n",
    "    #Convert a collection of text documents to a matrix of token counts.\n",
    "    #Needed in order to convert string to float for fitting \n",
    "    vectorizer = CountVectorizer()\n",
    "    vectorizer.fit(x_train) #Learn a vocabulary dictionary\n",
    "    trainVector = vectorizer.transform(x_train) #encode document as a vector\n",
    "    testVector = vectorizer.transform(x_test) #encode document as a vector\n",
    "    \n",
    "    # Create classifiers\n",
    "    clf_MNB = MultinomialNB() # Multinomial Naive Bayes\n",
    "    clf_BNB = BernoulliNB(fit_prior=False, binarize=1) # Bernouilli Naive Bayes\n",
    "\n",
    "    #Model fitting \n",
    "    clf_MNB.fit(trainVector, y_train) \n",
    "    clf_BNB.fit(trainVector, y_train) \n",
    "    \n",
    "    #Perform classification on array of test vectors\n",
    "    y_pred_MNB = clf_MNB.predict(testVector) \n",
    "    y_pred_BNB = clf_BNB.predict(testVector)\n",
    "\n",
    "    # Confusion matrix\n",
    "    confusionMatrixMNB = metrics.confusion_matrix(y_test, y_pred_MNB)\n",
    "    confusionMatrixBNB = metrics.confusion_matrix(y_test, y_pred_BNB)\n",
    "\n",
    "    # Create figure with Seaborn\n",
    "    fig, axs = plt.subplots(1, 2)\n",
    "    plt.subplots_adjust(left=0.1, bottom=0.1, right=2, top=0.9, wspace=0.4, hspace=0.4)\n",
    "    sns.heatmap(confusionMatrixMNB, annot=True, fmt=\".2f\", linewidths=.5, square = True, cmap = 'Blues_r', ax=axs[0], cbar=False)\n",
    "    axs[0].set_xlabel('Predicted') \n",
    "    axs[0].set_ylabel('Actual') \n",
    "    sns.heatmap(confusionMatrixBNB, annot=True, fmt=\".2f\", linewidths=.5, square = True, cmap = 'Blues_r', ax=axs[1], cbar=False)\n",
    "    axs[1].set_xlabel('Predicted') \n",
    "    axs[1].set_ylabel('Actual') \n",
    "    \n",
    "    axs[0].set_title('Fig: ' + str(getFigureNmr()) + ' Accuracy Score Multinomial Naive Bayes: {:.2f}%'.format(metrics.accuracy_score(y_test, y_pred_MNB)*100), size = 12); #set title\n",
    "    axs[1].set_title('Fig: ' + str(getFigureNmr()) + ' Accuracy Score Bernouilli Naive Bayes: {:.2f}%'.format(metrics.accuracy_score(y_test, y_pred_BNB)*100), size = 12); #set title"
   ]
  },
  {
   "cell_type": "markdown",
   "metadata": {},
   "source": [
    "Observing the results in task 3.i and 3.ii, we can see that the Bernoulli naive bayes (BNB) classifier generates a lesser accuracy score, independently from the level of ham data, as compared to the multinomial naive bayes (MNB) classifier. Both classifiers did however score lesser when running the program on hard spam. There is a distinct difference between the two models. The MNB classifier counts the occurrence of a feature, such as counting how many times a certain word x apperars, while BNB works with binary/boolean features, related to Bernoulli trials where a trial has exactly two outcomes: success or failure. The \"trial\" would in this case investigate whether a word is present or not.\n",
    "\n",
    "Considering the natures of these two models, it is self explanatory why the BNB classifier scores lower. With the BNB classifier, information can be lost. If a given word, example \"Bitcoin\" appears 10 times, the BNB classifier would only count this once as opposed to the MNB classifier,  diminishing its true impact on the classification.\n",
    "\n",
    "Looking more closely at the confusion matrices of task 3.i, we can see that neither models have any significant difficulties classifying ham mails though a lot more spam mails that get classified as ham. In the case of hard ham, the amount of miss classified emails differs quite a lot as compared to those of the easy ham. Both models classified ham as spam though this misclassification occurs almost twice as much with the BNB classifier. As discussed earlier, the lower accuracy score of the BNB classifier is consistent, meaning that it scored lower than the MNB classifier. The individual differences between accuracy scores on easy vs. hard data does not however vary greatly.  "
   ]
  },
  {
   "cell_type": "markdown",
   "metadata": {},
   "source": [
    "## Task 3 - Run your program on\n",
    "#### i. Spam versus easy-ham"
   ]
  },
  {
   "cell_type": "code",
   "execution_count": 34,
   "metadata": {},
   "outputs": [
    {
     "data": {
      "image/png": "[encoded data removed]",
      "text/plain": [
       "<Figure size 432x288 with 2 Axes>"
      ]
     },
     "metadata": {
      "needs_background": "light"
     },
     "output_type": "display_data"
    }
   ],
   "source": [
    "bayesClassifier(easyHamTrain, spamTrain, easyHamTest, spamTest)"
   ]
  },
  {
   "cell_type": "markdown",
   "metadata": {},
   "source": [
    "#### ii. Spam versus hard-ham"
   ]
  },
  {
   "cell_type": "code",
   "execution_count": 35,
   "metadata": {},
   "outputs": [
    {
     "data": {
      "image/png": "[encoded data removed]",
      "text/plain": [
       "<Figure size 432x288 with 2 Axes>"
      ]
     },
     "metadata": {
      "needs_background": "light"
     },
     "output_type": "display_data"
    }
   ],
   "source": [
    "bayesClassifier(hardHamTrain, spamTrain, hardHamTest, spamTest)"
   ]
  },
  {
   "cell_type": "markdown",
   "metadata": {},
   "source": [
    "## Task 4 - To avoid classification based on common and uninformative words it is common to filter these out. \n",
    "#### a. Argue why this may be useful. Try finding the words that are too common/uncommon in the dataset. "
   ]
  },
  {
   "cell_type": "markdown",
   "metadata": {},
   "source": [
    "As the classifiers train on words, it is important to only include words which provide a good base for the identification of the nature of the mail, i.e. being good indicators which add value to the classification process. For example, the most common word among the \"easy ham\" and \"hard ham\" dataset is \"com\". This word could however be seen as a \"neutral\" word. Intuitively, it is of common knowledge that the \"com\" belongs to a domain and does not necessarily classify an email as spam or ham. They are a part of standard email formats. Including such words in the training set interferes with the accuracy of the model. We can thus ignore these words. This goes for the common English words as \"to\", \"the\" and \"with\" as well, among many others. These words are called stop words, which are a language's most common words. The CountVectorizer has a parameter which can be set to filter out these stop words. This can be done by setting the parameter stop_words = \"English''. In doing so, we can filter out all of these words which do not give any significant value to the classification process.   "
   ]
  },
  {
   "cell_type": "code",
   "execution_count": 53,
   "metadata": {},
   "outputs": [],
   "source": [
    "def countWords(data, numberTOdisplay):\n",
    "    # Convert words to numbers\n",
    "    countVect = CountVectorizer()\n",
    "    countMatrix = countVect.fit_transform(data['Content'])\n",
    "    countArray = countMatrix.toarray()\n",
    "    # df with word occurence in each document (documents as rows and all the words found in the documents as columns)\n",
    "    words = pd.DataFrame(data=countArray,columns = countVect.get_feature_names())  \n",
    "    # df with number of occurence of every words \n",
    "    wordsSum = pd.DataFrame(words.sum(axis=0).sort_values(axis=0, ascending=False)).reset_index()\n",
    "    wordsSum.columns = ['Word', 'Occurence'] # Assign names to columns\n",
    "    # df with 'numberTOdisplay' most common words\n",
    "    common = wordsSum.iloc[: numberTOdisplay, :]\n",
    "    # df with 'numberTOdisplay' of the most uncommon words\n",
    "    uncommon = wordsSum.tail(numberTOdisplay) \n",
    "    \n",
    "    # Display dataframes 'common' and 'uncommon' next to each other\n",
    "    tableLeft = common.style.set_table_attributes(\"style='display:inline'\").set_caption('%.0f most common words in the dataset:' %(numberTOdisplay))\n",
    "    tableRight = uncommon.style.set_table_attributes(\"style='display:inline'\").set_caption('%.0f of the most uncommon words in the dataset:' %(numberTOdisplay))\n",
    "    display_html(tableLeft._repr_html_()+tableRight._repr_html_(), raw=True)"
   ]
  },
  {
   "cell_type": "code",
   "execution_count": 54,
   "metadata": {},
   "outputs": [
    {
     "name": "stdout",
     "output_type": "stream",
     "text": [
      "Figure 22: Tables over commom/uncommon words for EASY-HAM dataset\n"
     ]
    },
    {
     "data": {
      "text/html": [
       "<style  type=\"text/css\" >\n",
       "</style><table id=\"T_a852764c_8dd5_11ec_865a_f40f24310007\" style='display:inline'><caption>10 most common words in the dataset:</caption><thead>    <tr>        <th class=\"blank level0\" ></th>        <th class=\"col_heading level0 col0\" >Word</th>        <th class=\"col_heading level0 col1\" >Occurence</th>    </tr></thead><tbody>\n",
       "                <tr>\n",
       "                        <th id=\"T_a852764c_8dd5_11ec_865a_f40f24310007level0_row0\" class=\"row_heading level0 row0\" >0</th>\n",
       "                        <td id=\"T_a852764c_8dd5_11ec_865a_f40f24310007row0_col0\" class=\"data row0 col0\" >com</td>\n",
       "                        <td id=\"T_a852764c_8dd5_11ec_865a_f40f24310007row0_col1\" class=\"data row0 col1\" >38878</td>\n",
       "            </tr>\n",
       "            <tr>\n",
       "                        <th id=\"T_a852764c_8dd5_11ec_865a_f40f24310007level0_row1\" class=\"row_heading level0 row1\" >1</th>\n",
       "                        <td id=\"T_a852764c_8dd5_11ec_865a_f40f24310007row1_col0\" class=\"data row1 col0\" >to</td>\n",
       "                        <td id=\"T_a852764c_8dd5_11ec_865a_f40f24310007row1_col1\" class=\"data row1 col1\" >24254</td>\n",
       "            </tr>\n",
       "            <tr>\n",
       "                        <th id=\"T_a852764c_8dd5_11ec_865a_f40f24310007level0_row2\" class=\"row_heading level0 row2\" >2</th>\n",
       "                        <td id=\"T_a852764c_8dd5_11ec_865a_f40f24310007row2_col0\" class=\"data row2 col0\" >the</td>\n",
       "                        <td id=\"T_a852764c_8dd5_11ec_865a_f40f24310007row2_col1\" class=\"data row2 col1\" >24092</td>\n",
       "            </tr>\n",
       "            <tr>\n",
       "                        <th id=\"T_a852764c_8dd5_11ec_865a_f40f24310007level0_row3\" class=\"row_heading level0 row3\" >3</th>\n",
       "                        <td id=\"T_a852764c_8dd5_11ec_865a_f40f24310007row3_col0\" class=\"data row3 col0\" >2002</td>\n",
       "                        <td id=\"T_a852764c_8dd5_11ec_865a_f40f24310007row3_col1\" class=\"data row3 col1\" >22279</td>\n",
       "            </tr>\n",
       "            <tr>\n",
       "                        <th id=\"T_a852764c_8dd5_11ec_865a_f40f24310007level0_row4\" class=\"row_heading level0 row4\" >4</th>\n",
       "                        <td id=\"T_a852764c_8dd5_11ec_865a_f40f24310007row4_col0\" class=\"data row4 col0\" >from</td>\n",
       "                        <td id=\"T_a852764c_8dd5_11ec_865a_f40f24310007row4_col1\" class=\"data row4 col1\" >21795</td>\n",
       "            </tr>\n",
       "            <tr>\n",
       "                        <th id=\"T_a852764c_8dd5_11ec_865a_f40f24310007level0_row5\" class=\"row_heading level0 row5\" >5</th>\n",
       "                        <td id=\"T_a852764c_8dd5_11ec_865a_f40f24310007row5_col0\" class=\"data row5 col0\" >net</td>\n",
       "                        <td id=\"T_a852764c_8dd5_11ec_865a_f40f24310007row5_col1\" class=\"data row5 col1\" >19312</td>\n",
       "            </tr>\n",
       "            <tr>\n",
       "                        <th id=\"T_a852764c_8dd5_11ec_865a_f40f24310007level0_row6\" class=\"row_heading level0 row6\" >6</th>\n",
       "                        <td id=\"T_a852764c_8dd5_11ec_865a_f40f24310007row6_col0\" class=\"data row6 col0\" >with</td>\n",
       "                        <td id=\"T_a852764c_8dd5_11ec_865a_f40f24310007row6_col1\" class=\"data row6 col1\" >16461</td>\n",
       "            </tr>\n",
       "            <tr>\n",
       "                        <th id=\"T_a852764c_8dd5_11ec_865a_f40f24310007level0_row7\" class=\"row_heading level0 row7\" >7</th>\n",
       "                        <td id=\"T_a852764c_8dd5_11ec_865a_f40f24310007row7_col0\" class=\"data row7 col0\" >by</td>\n",
       "                        <td id=\"T_a852764c_8dd5_11ec_865a_f40f24310007row7_col1\" class=\"data row7 col1\" >16373</td>\n",
       "            </tr>\n",
       "            <tr>\n",
       "                        <th id=\"T_a852764c_8dd5_11ec_865a_f40f24310007level0_row8\" class=\"row_heading level0 row8\" >8</th>\n",
       "                        <td id=\"T_a852764c_8dd5_11ec_865a_f40f24310007row8_col0\" class=\"data row8 col0\" >for</td>\n",
       "                        <td id=\"T_a852764c_8dd5_11ec_865a_f40f24310007row8_col1\" class=\"data row8 col1\" >16063</td>\n",
       "            </tr>\n",
       "            <tr>\n",
       "                        <th id=\"T_a852764c_8dd5_11ec_865a_f40f24310007level0_row9\" class=\"row_heading level0 row9\" >9</th>\n",
       "                        <td id=\"T_a852764c_8dd5_11ec_865a_f40f24310007row9_col0\" class=\"data row9 col0\" >localhost</td>\n",
       "                        <td id=\"T_a852764c_8dd5_11ec_865a_f40f24310007row9_col1\" class=\"data row9 col1\" >15846</td>\n",
       "            </tr>\n",
       "    </tbody></table><style  type=\"text/css\" >\n",
       "</style><table id=\"T_a852b512_8dd5_11ec_865a_f40f24310007\" style='display:inline'><caption>10 of the most uncommon words in the dataset:</caption><thead>    <tr>        <th class=\"blank level0\" ></th>        <th class=\"col_heading level0 col0\" >Word</th>        <th class=\"col_heading level0 col1\" >Occurence</th>    </tr></thead><tbody>\n",
       "                <tr>\n",
       "                        <th id=\"T_a852b512_8dd5_11ec_865a_f40f24310007level0_row0\" class=\"row_heading level0 row0\" >48736</th>\n",
       "                        <td id=\"T_a852b512_8dd5_11ec_865a_f40f24310007row0_col0\" class=\"data row0 col0\" >db50544158</td>\n",
       "                        <td id=\"T_a852b512_8dd5_11ec_865a_f40f24310007row0_col1\" class=\"data row0 col1\" >1</td>\n",
       "            </tr>\n",
       "            <tr>\n",
       "                        <th id=\"T_a852b512_8dd5_11ec_865a_f40f24310007level0_row1\" class=\"row_heading level0 row1\" >48737</th>\n",
       "                        <td id=\"T_a852b512_8dd5_11ec_865a_f40f24310007row1_col0\" class=\"data row1 col0\" >db5de16f16</td>\n",
       "                        <td id=\"T_a852b512_8dd5_11ec_865a_f40f24310007row1_col1\" class=\"data row1 col1\" >1</td>\n",
       "            </tr>\n",
       "            <tr>\n",
       "                        <th id=\"T_a852b512_8dd5_11ec_865a_f40f24310007level0_row2\" class=\"row_heading level0 row2\" >48738</th>\n",
       "                        <td id=\"T_a852b512_8dd5_11ec_865a_f40f24310007row2_col0\" class=\"data row2 col0\" >db61416f49</td>\n",
       "                        <td id=\"T_a852b512_8dd5_11ec_865a_f40f24310007row2_col1\" class=\"data row2 col1\" >1</td>\n",
       "            </tr>\n",
       "            <tr>\n",
       "                        <th id=\"T_a852b512_8dd5_11ec_865a_f40f24310007level0_row3\" class=\"row_heading level0 row3\" >48739</th>\n",
       "                        <td id=\"T_a852b512_8dd5_11ec_865a_f40f24310007row3_col0\" class=\"data row3 col0\" >db68d44158</td>\n",
       "                        <td id=\"T_a852b512_8dd5_11ec_865a_f40f24310007row3_col1\" class=\"data row3 col1\" >1</td>\n",
       "            </tr>\n",
       "            <tr>\n",
       "                        <th id=\"T_a852b512_8dd5_11ec_865a_f40f24310007level0_row4\" class=\"row_heading level0 row4\" >48740</th>\n",
       "                        <td id=\"T_a852b512_8dd5_11ec_865a_f40f24310007row4_col0\" class=\"data row4 col0\" >racketeering</td>\n",
       "                        <td id=\"T_a852b512_8dd5_11ec_865a_f40f24310007row4_col1\" class=\"data row4 col1\" >1</td>\n",
       "            </tr>\n",
       "            <tr>\n",
       "                        <th id=\"T_a852b512_8dd5_11ec_865a_f40f24310007level0_row5\" class=\"row_heading level0 row5\" >48741</th>\n",
       "                        <td id=\"T_a852b512_8dd5_11ec_865a_f40f24310007row5_col0\" class=\"data row5 col0\" >db70116f03</td>\n",
       "                        <td id=\"T_a852b512_8dd5_11ec_865a_f40f24310007row5_col1\" class=\"data row5 col1\" >1</td>\n",
       "            </tr>\n",
       "            <tr>\n",
       "                        <th id=\"T_a852b512_8dd5_11ec_865a_f40f24310007level0_row6\" class=\"row_heading level0 row6\" >48742</th>\n",
       "                        <td id=\"T_a852b512_8dd5_11ec_865a_f40f24310007row6_col0\" class=\"data row6 col0\" >db7683f951</td>\n",
       "                        <td id=\"T_a852b512_8dd5_11ec_865a_f40f24310007row6_col1\" class=\"data row6 col1\" >1</td>\n",
       "            </tr>\n",
       "            <tr>\n",
       "                        <th id=\"T_a852b512_8dd5_11ec_865a_f40f24310007level0_row7\" class=\"row_heading level0 row7\" >48743</th>\n",
       "                        <td id=\"T_a852b512_8dd5_11ec_865a_f40f24310007row7_col0\" class=\"data row7 col0\" >db8fa29409e</td>\n",
       "                        <td id=\"T_a852b512_8dd5_11ec_865a_f40f24310007row7_col1\" class=\"data row7 col1\" >1</td>\n",
       "            </tr>\n",
       "            <tr>\n",
       "                        <th id=\"T_a852b512_8dd5_11ec_865a_f40f24310007level0_row8\" class=\"row_heading level0 row8\" >48744</th>\n",
       "                        <td id=\"T_a852b512_8dd5_11ec_865a_f40f24310007row8_col0\" class=\"data row8 col0\" >db956294191</td>\n",
       "                        <td id=\"T_a852b512_8dd5_11ec_865a_f40f24310007row8_col1\" class=\"data row8 col1\" >1</td>\n",
       "            </tr>\n",
       "            <tr>\n",
       "                        <th id=\"T_a852b512_8dd5_11ec_865a_f40f24310007level0_row9\" class=\"row_heading level0 row9\" >48745</th>\n",
       "                        <td id=\"T_a852b512_8dd5_11ec_865a_f40f24310007row9_col0\" class=\"data row9 col0\" >brush</td>\n",
       "                        <td id=\"T_a852b512_8dd5_11ec_865a_f40f24310007row9_col1\" class=\"data row9 col1\" >1</td>\n",
       "            </tr>\n",
       "    </tbody></table>"
      ]
     },
     "metadata": {},
     "output_type": "display_data"
    }
   ],
   "source": [
    "print('Figure ' + str(getFigureNmr()) + ': Tables over commom/uncommon words for EASY-HAM dataset')\n",
    "countWords(easyHamContent, 10)"
   ]
  },
  {
   "cell_type": "markdown",
   "metadata": {},
   "source": [
    "---"
   ]
  },
  {
   "cell_type": "code",
   "execution_count": 38,
   "metadata": {
    "scrolled": false
   },
   "outputs": [
    {
     "name": "stdout",
     "output_type": "stream",
     "text": [
      "Figure 6: Tables over commom/uncommon words for HARD-HAM dataset\n"
     ]
    },
    {
     "data": {
      "text/html": [
       "<style  type=\"text/css\" >\n",
       "</style><table id=\"T_d939b980_8db9_11ec_865a_f40f24310007\" style='display:inline'><caption>10 most common words in the dataset:</caption><thead>    <tr>        <th class=\"blank level0\" ></th>        <th class=\"col_heading level0 col0\" >Word</th>        <th class=\"col_heading level0 col1\" >Occurence</th>    </tr></thead><tbody>\n",
       "                <tr>\n",
       "                        <th id=\"T_d939b980_8db9_11ec_865a_f40f24310007level0_row0\" class=\"row_heading level0 row0\" >0</th>\n",
       "                        <td id=\"T_d939b980_8db9_11ec_865a_f40f24310007row0_col0\" class=\"data row0 col0\" >com</td>\n",
       "                        <td id=\"T_d939b980_8db9_11ec_865a_f40f24310007row0_col1\" class=\"data row0 col1\" >25080</td>\n",
       "            </tr>\n",
       "            <tr>\n",
       "                        <th id=\"T_d939b980_8db9_11ec_865a_f40f24310007level0_row1\" class=\"row_heading level0 row1\" >1</th>\n",
       "                        <td id=\"T_d939b980_8db9_11ec_865a_f40f24310007row1_col0\" class=\"data row1 col0\" >http</td>\n",
       "                        <td id=\"T_d939b980_8db9_11ec_865a_f40f24310007row1_col1\" class=\"data row1 col1\" >23389</td>\n",
       "            </tr>\n",
       "            <tr>\n",
       "                        <th id=\"T_d939b980_8db9_11ec_865a_f40f24310007level0_row2\" class=\"row_heading level0 row2\" >2</th>\n",
       "                        <td id=\"T_d939b980_8db9_11ec_865a_f40f24310007row2_col0\" class=\"data row2 col0\" >td</td>\n",
       "                        <td id=\"T_d939b980_8db9_11ec_865a_f40f24310007row2_col1\" class=\"data row2 col1\" >22786</td>\n",
       "            </tr>\n",
       "            <tr>\n",
       "                        <th id=\"T_d939b980_8db9_11ec_865a_f40f24310007level0_row3\" class=\"row_heading level0 row3\" >3</th>\n",
       "                        <td id=\"T_d939b980_8db9_11ec_865a_f40f24310007row3_col0\" class=\"data row3 col0\" >width</td>\n",
       "                        <td id=\"T_d939b980_8db9_11ec_865a_f40f24310007row3_col1\" class=\"data row3 col1\" >17740</td>\n",
       "            </tr>\n",
       "            <tr>\n",
       "                        <th id=\"T_d939b980_8db9_11ec_865a_f40f24310007level0_row4\" class=\"row_heading level0 row4\" >4</th>\n",
       "                        <td id=\"T_d939b980_8db9_11ec_865a_f40f24310007row4_col0\" class=\"data row4 col0\" >3d</td>\n",
       "                        <td id=\"T_d939b980_8db9_11ec_865a_f40f24310007row4_col1\" class=\"data row4 col1\" >14164</td>\n",
       "            </tr>\n",
       "            <tr>\n",
       "                        <th id=\"T_d939b980_8db9_11ec_865a_f40f24310007level0_row5\" class=\"row_heading level0 row5\" >5</th>\n",
       "                        <td id=\"T_d939b980_8db9_11ec_865a_f40f24310007row5_col0\" class=\"data row5 col0\" >font</td>\n",
       "                        <td id=\"T_d939b980_8db9_11ec_865a_f40f24310007row5_col1\" class=\"data row5 col1\" >13015</td>\n",
       "            </tr>\n",
       "            <tr>\n",
       "                        <th id=\"T_d939b980_8db9_11ec_865a_f40f24310007level0_row6\" class=\"row_heading level0 row6\" >6</th>\n",
       "                        <td id=\"T_d939b980_8db9_11ec_865a_f40f24310007row6_col0\" class=\"data row6 col0\" >www</td>\n",
       "                        <td id=\"T_d939b980_8db9_11ec_865a_f40f24310007row6_col1\" class=\"data row6 col1\" >13007</td>\n",
       "            </tr>\n",
       "            <tr>\n",
       "                        <th id=\"T_d939b980_8db9_11ec_865a_f40f24310007level0_row7\" class=\"row_heading level0 row7\" >7</th>\n",
       "                        <td id=\"T_d939b980_8db9_11ec_865a_f40f24310007row7_col0\" class=\"data row7 col0\" >tr</td>\n",
       "                        <td id=\"T_d939b980_8db9_11ec_865a_f40f24310007row7_col1\" class=\"data row7 col1\" >11429</td>\n",
       "            </tr>\n",
       "            <tr>\n",
       "                        <th id=\"T_d939b980_8db9_11ec_865a_f40f24310007level0_row8\" class=\"row_heading level0 row8\" >8</th>\n",
       "                        <td id=\"T_d939b980_8db9_11ec_865a_f40f24310007row8_col0\" class=\"data row8 col0\" >the</td>\n",
       "                        <td id=\"T_d939b980_8db9_11ec_865a_f40f24310007row8_col1\" class=\"data row8 col1\" >10705</td>\n",
       "            </tr>\n",
       "            <tr>\n",
       "                        <th id=\"T_d939b980_8db9_11ec_865a_f40f24310007level0_row9\" class=\"row_heading level0 row9\" >9</th>\n",
       "                        <td id=\"T_d939b980_8db9_11ec_865a_f40f24310007row9_col0\" class=\"data row9 col0\" >br</td>\n",
       "                        <td id=\"T_d939b980_8db9_11ec_865a_f40f24310007row9_col1\" class=\"data row9 col1\" >10251</td>\n",
       "            </tr>\n",
       "    </tbody></table><style  type=\"text/css\" >\n",
       "</style><table id=\"T_d939fe40_8db9_11ec_865a_f40f24310007\" style='display:inline'><caption>10 of the most uncommon words in the dataset:</caption><thead>    <tr>        <th class=\"blank level0\" ></th>        <th class=\"col_heading level0 col0\" >Word</th>        <th class=\"col_heading level0 col1\" >Occurence</th>    </tr></thead><tbody>\n",
       "                <tr>\n",
       "                        <th id=\"T_d939fe40_8db9_11ec_865a_f40f24310007level0_row0\" class=\"row_heading level0 row0\" >36270</th>\n",
       "                        <td id=\"T_d939fe40_8db9_11ec_865a_f40f24310007row0_col0\" class=\"data row0 col0\" >itri</td>\n",
       "                        <td id=\"T_d939fe40_8db9_11ec_865a_f40f24310007row0_col1\" class=\"data row0 col1\" >1</td>\n",
       "            </tr>\n",
       "            <tr>\n",
       "                        <th id=\"T_d939fe40_8db9_11ec_865a_f40f24310007level0_row1\" class=\"row_heading level0 row1\" >36271</th>\n",
       "                        <td id=\"T_d939fe40_8db9_11ec_865a_f40f24310007row1_col0\" class=\"data row1 col0\" >itsa</td>\n",
       "                        <td id=\"T_d939fe40_8db9_11ec_865a_f40f24310007row1_col1\" class=\"data row1 col1\" >1</td>\n",
       "            </tr>\n",
       "            <tr>\n",
       "                        <th id=\"T_d939fe40_8db9_11ec_865a_f40f24310007level0_row2\" class=\"row_heading level0 row2\" >36272</th>\n",
       "                        <td id=\"T_d939fe40_8db9_11ec_865a_f40f24310007row2_col0\" class=\"data row2 col0\" >ittees</td>\n",
       "                        <td id=\"T_d939fe40_8db9_11ec_865a_f40f24310007row2_col1\" class=\"data row2 col1\" >1</td>\n",
       "            </tr>\n",
       "            <tr>\n",
       "                        <th id=\"T_d939fe40_8db9_11ec_865a_f40f24310007level0_row3\" class=\"row_heading level0 row3\" >36273</th>\n",
       "                        <td id=\"T_d939fe40_8db9_11ec_865a_f40f24310007row3_col0\" class=\"data row3 col0\" >itunes</td>\n",
       "                        <td id=\"T_d939fe40_8db9_11ec_865a_f40f24310007row3_col1\" class=\"data row3 col1\" >1</td>\n",
       "            </tr>\n",
       "            <tr>\n",
       "                        <th id=\"T_d939fe40_8db9_11ec_865a_f40f24310007level0_row4\" class=\"row_heading level0 row4\" >36274</th>\n",
       "                        <td id=\"T_d939fe40_8db9_11ec_865a_f40f24310007row4_col0\" class=\"data row4 col0\" >itw</td>\n",
       "                        <td id=\"T_d939fe40_8db9_11ec_865a_f40f24310007row4_col1\" class=\"data row4 col1\" >1</td>\n",
       "            </tr>\n",
       "            <tr>\n",
       "                        <th id=\"T_d939fe40_8db9_11ec_865a_f40f24310007level0_row5\" class=\"row_heading level0 row5\" >36275</th>\n",
       "                        <td id=\"T_d939fe40_8db9_11ec_865a_f40f24310007row5_col0\" class=\"data row5 col0\" >itzagas</td>\n",
       "                        <td id=\"T_d939fe40_8db9_11ec_865a_f40f24310007row5_col1\" class=\"data row5 col1\" >1</td>\n",
       "            </tr>\n",
       "            <tr>\n",
       "                        <th id=\"T_d939fe40_8db9_11ec_865a_f40f24310007level0_row6\" class=\"row_heading level0 row6\" >36276</th>\n",
       "                        <td id=\"T_d939fe40_8db9_11ec_865a_f40f24310007row6_col0\" class=\"data row6 col0\" >itís</td>\n",
       "                        <td id=\"T_d939fe40_8db9_11ec_865a_f40f24310007row6_col1\" class=\"data row6 col1\" >1</td>\n",
       "            </tr>\n",
       "            <tr>\n",
       "                        <th id=\"T_d939fe40_8db9_11ec_865a_f40f24310007level0_row7\" class=\"row_heading level0 row7\" >36277</th>\n",
       "                        <td id=\"T_d939fe40_8db9_11ec_865a_f40f24310007row7_col0\" class=\"data row7 col0\" >iuolnsvwjtgljyuvjughsyehjtkbkei</td>\n",
       "                        <td id=\"T_d939fe40_8db9_11ec_865a_f40f24310007row7_col1\" class=\"data row7 col1\" >1</td>\n",
       "            </tr>\n",
       "            <tr>\n",
       "                        <th id=\"T_d939fe40_8db9_11ec_865a_f40f24310007level0_row8\" class=\"row_heading level0 row8\" >36278</th>\n",
       "                        <td id=\"T_d939fe40_8db9_11ec_865a_f40f24310007row8_col0\" class=\"data row8 col0\" >iusr</td>\n",
       "                        <td id=\"T_d939fe40_8db9_11ec_865a_f40f24310007row8_col1\" class=\"data row8 col1\" >1</td>\n",
       "            </tr>\n",
       "            <tr>\n",
       "                        <th id=\"T_d939fe40_8db9_11ec_865a_f40f24310007level0_row9\" class=\"row_heading level0 row9\" >36279</th>\n",
       "                        <td id=\"T_d939fe40_8db9_11ec_865a_f40f24310007row9_col0\" class=\"data row9 col0\" >hthzr</td>\n",
       "                        <td id=\"T_d939fe40_8db9_11ec_865a_f40f24310007row9_col1\" class=\"data row9 col1\" >1</td>\n",
       "            </tr>\n",
       "    </tbody></table>"
      ]
     },
     "metadata": {},
     "output_type": "display_data"
    }
   ],
   "source": [
    "print('Figure ' + str(getFigureNmr()) + ': Tables over commom/uncommon words for HARD-HAM dataset')\n",
    "countWords(hardHamContent, 10)"
   ]
  },
  {
   "cell_type": "markdown",
   "metadata": {},
   "source": [
    "---"
   ]
  },
  {
   "cell_type": "code",
   "execution_count": 39,
   "metadata": {
    "scrolled": false
   },
   "outputs": [
    {
     "name": "stdout",
     "output_type": "stream",
     "text": [
      "Figure 7: Tables over commom/uncommon words for SPAM dataset\n"
     ]
    },
    {
     "data": {
      "text/html": [
       "<style  type=\"text/css\" >\n",
       "</style><table id=\"T_d9b20e8a_8db9_11ec_865a_f40f24310007\" style='display:inline'><caption>10 most common words in the dataset:</caption><thead>    <tr>        <th class=\"blank level0\" ></th>        <th class=\"col_heading level0 col0\" >Word</th>        <th class=\"col_heading level0 col1\" >Occurence</th>    </tr></thead><tbody>\n",
       "                <tr>\n",
       "                        <th id=\"T_d9b20e8a_8db9_11ec_865a_f40f24310007level0_row0\" class=\"row_heading level0 row0\" >0</th>\n",
       "                        <td id=\"T_d9b20e8a_8db9_11ec_865a_f40f24310007row0_col0\" class=\"data row0 col0\" >3d</td>\n",
       "                        <td id=\"T_d9b20e8a_8db9_11ec_865a_f40f24310007row0_col1\" class=\"data row0 col1\" >11212</td>\n",
       "            </tr>\n",
       "            <tr>\n",
       "                        <th id=\"T_d9b20e8a_8db9_11ec_865a_f40f24310007level0_row1\" class=\"row_heading level0 row1\" >1</th>\n",
       "                        <td id=\"T_d9b20e8a_8db9_11ec_865a_f40f24310007row1_col0\" class=\"data row1 col0\" >font</td>\n",
       "                        <td id=\"T_d9b20e8a_8db9_11ec_865a_f40f24310007row1_col1\" class=\"data row1 col1\" >9235</td>\n",
       "            </tr>\n",
       "            <tr>\n",
       "                        <th id=\"T_d9b20e8a_8db9_11ec_865a_f40f24310007level0_row2\" class=\"row_heading level0 row2\" >2</th>\n",
       "                        <td id=\"T_d9b20e8a_8db9_11ec_865a_f40f24310007row2_col0\" class=\"data row2 col0\" >to</td>\n",
       "                        <td id=\"T_d9b20e8a_8db9_11ec_865a_f40f24310007row2_col1\" class=\"data row2 col1\" >6527</td>\n",
       "            </tr>\n",
       "            <tr>\n",
       "                        <th id=\"T_d9b20e8a_8db9_11ec_865a_f40f24310007level0_row3\" class=\"row_heading level0 row3\" >3</th>\n",
       "                        <td id=\"T_d9b20e8a_8db9_11ec_865a_f40f24310007row3_col0\" class=\"data row3 col0\" >the</td>\n",
       "                        <td id=\"T_d9b20e8a_8db9_11ec_865a_f40f24310007row3_col1\" class=\"data row3 col1\" >6027</td>\n",
       "            </tr>\n",
       "            <tr>\n",
       "                        <th id=\"T_d9b20e8a_8db9_11ec_865a_f40f24310007level0_row4\" class=\"row_heading level0 row4\" >4</th>\n",
       "                        <td id=\"T_d9b20e8a_8db9_11ec_865a_f40f24310007row4_col0\" class=\"data row4 col0\" >com</td>\n",
       "                        <td id=\"T_d9b20e8a_8db9_11ec_865a_f40f24310007row4_col1\" class=\"data row4 col1\" >5940</td>\n",
       "            </tr>\n",
       "            <tr>\n",
       "                        <th id=\"T_d9b20e8a_8db9_11ec_865a_f40f24310007level0_row5\" class=\"row_heading level0 row5\" >5</th>\n",
       "                        <td id=\"T_d9b20e8a_8db9_11ec_865a_f40f24310007row5_col0\" class=\"data row5 col0\" >td</td>\n",
       "                        <td id=\"T_d9b20e8a_8db9_11ec_865a_f40f24310007row5_col1\" class=\"data row5 col1\" >5479</td>\n",
       "            </tr>\n",
       "            <tr>\n",
       "                        <th id=\"T_d9b20e8a_8db9_11ec_865a_f40f24310007level0_row6\" class=\"row_heading level0 row6\" >6</th>\n",
       "                        <td id=\"T_d9b20e8a_8db9_11ec_865a_f40f24310007row6_col0\" class=\"data row6 col0\" >from</td>\n",
       "                        <td id=\"T_d9b20e8a_8db9_11ec_865a_f40f24310007row6_col1\" class=\"data row6 col1\" >4260</td>\n",
       "            </tr>\n",
       "            <tr>\n",
       "                        <th id=\"T_d9b20e8a_8db9_11ec_865a_f40f24310007level0_row7\" class=\"row_heading level0 row7\" >7</th>\n",
       "                        <td id=\"T_d9b20e8a_8db9_11ec_865a_f40f24310007row7_col0\" class=\"data row7 col0\" >for</td>\n",
       "                        <td id=\"T_d9b20e8a_8db9_11ec_865a_f40f24310007row7_col1\" class=\"data row7 col1\" >3964</td>\n",
       "            </tr>\n",
       "            <tr>\n",
       "                        <th id=\"T_d9b20e8a_8db9_11ec_865a_f40f24310007level0_row8\" class=\"row_heading level0 row8\" >8</th>\n",
       "                        <td id=\"T_d9b20e8a_8db9_11ec_865a_f40f24310007row8_col0\" class=\"data row8 col0\" >and</td>\n",
       "                        <td id=\"T_d9b20e8a_8db9_11ec_865a_f40f24310007row8_col1\" class=\"data row8 col1\" >3829</td>\n",
       "            </tr>\n",
       "            <tr>\n",
       "                        <th id=\"T_d9b20e8a_8db9_11ec_865a_f40f24310007level0_row9\" class=\"row_heading level0 row9\" >9</th>\n",
       "                        <td id=\"T_d9b20e8a_8db9_11ec_865a_f40f24310007row9_col0\" class=\"data row9 col0\" >of</td>\n",
       "                        <td id=\"T_d9b20e8a_8db9_11ec_865a_f40f24310007row9_col1\" class=\"data row9 col1\" >3699</td>\n",
       "            </tr>\n",
       "    </tbody></table><style  type=\"text/css\" >\n",
       "</style><table id=\"T_d9b24b16_8db9_11ec_865a_f40f24310007\" style='display:inline'><caption>10 of the most uncommon words in the dataset:</caption><thead>    <tr>        <th class=\"blank level0\" ></th>        <th class=\"col_heading level0 col0\" >Word</th>        <th class=\"col_heading level0 col1\" >Occurence</th>    </tr></thead><tbody>\n",
       "                <tr>\n",
       "                        <th id=\"T_d9b24b16_8db9_11ec_865a_f40f24310007level0_row0\" class=\"row_heading level0 row0\" >45941</th>\n",
       "                        <td id=\"T_d9b24b16_8db9_11ec_865a_f40f24310007row0_col0\" class=\"data row0 col0\" >ljwznob7rty95ps1o65lguul</td>\n",
       "                        <td id=\"T_d9b24b16_8db9_11ec_865a_f40f24310007row0_col1\" class=\"data row0 col1\" >1</td>\n",
       "            </tr>\n",
       "            <tr>\n",
       "                        <th id=\"T_d9b24b16_8db9_11ec_865a_f40f24310007level0_row1\" class=\"row_heading level0 row1\" >45942</th>\n",
       "                        <td id=\"T_d9b24b16_8db9_11ec_865a_f40f24310007row1_col0\" class=\"data row1 col0\" >ljxicj4nciagicagidxicj4nciagicagidwvzm9udd48yj48zm9udcbjb2xvcj0iizawmdbgriig</td>\n",
       "                        <td id=\"T_d9b24b16_8db9_11ec_865a_f40f24310007row1_col1\" class=\"data row1 col1\" >1</td>\n",
       "            </tr>\n",
       "            <tr>\n",
       "                        <th id=\"T_d9b24b16_8db9_11ec_865a_f40f24310007level0_row2\" class=\"row_heading level0 row2\" >45943</th>\n",
       "                        <td id=\"T_d9b24b16_8db9_11ec_865a_f40f24310007row2_col0\" class=\"data row2 col0\" >ljxicj4nciagicagidxicj4nciagicagif9fx19fx19fxzxipjxppjxmb250ignvbg9ypsijmdaw</td>\n",
       "                        <td id=\"T_d9b24b16_8db9_11ec_865a_f40f24310007row2_col1\" class=\"data row2 col1\" >1</td>\n",
       "            </tr>\n",
       "            <tr>\n",
       "                        <th id=\"T_d9b24b16_8db9_11ec_865a_f40f24310007level0_row3\" class=\"row_heading level0 row3\" >45944</th>\n",
       "                        <td id=\"T_d9b24b16_8db9_11ec_865a_f40f24310007row3_col0\" class=\"data row3 col0\" >ljy0ljiwoc4yntivchjvbw8vzhzyl3bpyziuz2lmiib3awr0ad0imtewiibozwlnahq9ijg5ij48</td>\n",
       "                        <td id=\"T_d9b24b16_8db9_11ec_865a_f40f24310007row3_col1\" class=\"data row3 col1\" >1</td>\n",
       "            </tr>\n",
       "            <tr>\n",
       "                        <th id=\"T_d9b24b16_8db9_11ec_865a_f40f24310007level0_row4\" class=\"row_heading level0 row4\" >45945</th>\n",
       "                        <td id=\"T_d9b24b16_8db9_11ec_865a_f40f24310007row4_col0\" class=\"data row4 col0\" >ljztr3xxkdzi4akkwnul9euwm4pkwak71j4fbjpeudlfwuabwcgaac6n0h8skup9b</td>\n",
       "                        <td id=\"T_d9b24b16_8db9_11ec_865a_f40f24310007row4_col1\" class=\"data row4 col1\" >1</td>\n",
       "            </tr>\n",
       "            <tr>\n",
       "                        <th id=\"T_d9b24b16_8db9_11ec_865a_f40f24310007level0_row5\" class=\"row_heading level0 row5\" >45946</th>\n",
       "                        <td id=\"T_d9b24b16_8db9_11ec_865a_f40f24310007row5_col0\" class=\"data row5 col0\" >lk0h8duacadk5kehj8ksnkrfbwppnj</td>\n",
       "                        <td id=\"T_d9b24b16_8db9_11ec_865a_f40f24310007row5_col1\" class=\"data row5 col1\" >1</td>\n",
       "            </tr>\n",
       "            <tr>\n",
       "                        <th id=\"T_d9b24b16_8db9_11ec_865a_f40f24310007level0_row6\" class=\"row_heading level0 row6\" >45947</th>\n",
       "                        <td id=\"T_d9b24b16_8db9_11ec_865a_f40f24310007row6_col0\" class=\"data row6 col0\" >lk1xbyabs6goooirp2ylisxjbufiylvyl6nda9xamhxsomvhcgzesyybfcor4edlhh4l1nva704b</td>\n",
       "                        <td id=\"T_d9b24b16_8db9_11ec_865a_f40f24310007row6_col1\" class=\"data row6 col1\" >1</td>\n",
       "            </tr>\n",
       "            <tr>\n",
       "                        <th id=\"T_d9b24b16_8db9_11ec_865a_f40f24310007level0_row7\" class=\"row_heading level0 row7\" >45948</th>\n",
       "                        <td id=\"T_d9b24b16_8db9_11ec_865a_f40f24310007row7_col0\" class=\"data row7 col0\" >lk3rmfplx6ececnkaek9kgpqnkpn</td>\n",
       "                        <td id=\"T_d9b24b16_8db9_11ec_865a_f40f24310007row7_col1\" class=\"data row7 col1\" >1</td>\n",
       "            </tr>\n",
       "            <tr>\n",
       "                        <th id=\"T_d9b24b16_8db9_11ec_865a_f40f24310007level0_row8\" class=\"row_heading level0 row8\" >45949</th>\n",
       "                        <td id=\"T_d9b24b16_8db9_11ec_865a_f40f24310007row8_col0\" class=\"data row8 col0\" >lkhaskpatdy9odjzsqwxumftbf1kmwwoy</td>\n",
       "                        <td id=\"T_d9b24b16_8db9_11ec_865a_f40f24310007row8_col1\" class=\"data row8 col1\" >1</td>\n",
       "            </tr>\n",
       "            <tr>\n",
       "                        <th id=\"T_d9b24b16_8db9_11ec_865a_f40f24310007level0_row9\" class=\"row_heading level0 row9\" >45950</th>\n",
       "                        <td id=\"T_d9b24b16_8db9_11ec_865a_f40f24310007row9_col0\" class=\"data row9 col0\" >ierpy2sgyw5kienvy2sgdg8gy29tzsbpbiegpc9mb250pjwvdgq</td>\n",
       "                        <td id=\"T_d9b24b16_8db9_11ec_865a_f40f24310007row9_col1\" class=\"data row9 col1\" >1</td>\n",
       "            </tr>\n",
       "    </tbody></table>"
      ]
     },
     "metadata": {},
     "output_type": "display_data"
    }
   ],
   "source": [
    "print('Figure ' + str(getFigureNmr()) + ': Tables over commom/uncommon words for SPAM dataset')\n",
    "countWords(spamContent, 10)"
   ]
  },
  {
   "cell_type": "markdown",
   "metadata": {},
   "source": [
    "---"
   ]
  },
  {
   "cell_type": "markdown",
   "metadata": {},
   "source": [
    "#### b. Use the parameters in Sklearn’s CountVectorizer to filter out these words. Run the updated program on your data and record how the results differ from 3. You have two options to do this in Sklearn: either using the words found in part (a) or letting Sklearn do it for you.\n",
    "\n",
    "Max_df designates maximum document frequency. This parameter ignores words occuring in more than a certain number of documents (number defined by max_df), such as the common words listed in Figures 5, 6 and 7.  [Source: TowardsDataScience](https://towardsdatascience.com/basics-of-countvectorizer-e26677900f9c)\n",
    "\n",
    "Furthermore, with the use of min_df, we can filter out words which are very uncommon, occuring maybe in only one, two or three emails. After having experimented with the two parameters, we found that a max_df of 0.9 (representing 90% of the total number of documents) and a min_df of 3 and 1 documents respectivly genereated greater accuracy scores.\n",
    "\n",
    "As seen in figure 8-11, some accuracy scores did improve, especially for the BNB classifier on easy-ham data. This has proved that filtering out and \"cleaning\" up the data strengthens the model's accuracy and thus the liability."
   ]
  },
  {
   "cell_type": "code",
   "execution_count": 43,
   "metadata": {},
   "outputs": [],
   "source": [
    "def bayesClassifierFiltered(hamTrain, spamTrain, hamTest, spamTest, max, min):\n",
    "    \n",
    "    #Setting up parameters for classifer\n",
    "    x_train = pd.concat([hamTrain[\"Content\"], spamTrain[\"Content\"]])\n",
    "    y_train = pd.concat([hamTrain[\"Type\"], spamTrain[\"Type\"]])\n",
    "    x_test = pd.concat([hamTest[\"Content\"], spamTest[\"Content\"]])\n",
    "    y_test = pd.concat([hamTest[\"Type\"], spamTest[\"Type\"]])\n",
    "    \n",
    "    #Convert a collection of text documents to a matrix of token counts.\n",
    "    #Needed in order to convert string to float for fitting \n",
    "    vectorizer = CountVectorizer(stop_words=\"english\", max_df = max, min_df = min)\n",
    "    vectorizer.fit(x_train)\n",
    "    trainVector = vectorizer.transform(x_train)\n",
    "    testVector = vectorizer.transform(x_test)\n",
    "    \n",
    "    # Create classifiers\n",
    "    clf_MNB = MultinomialNB() # Multinomial Naive Bayes\n",
    "    clf_BNB = BernoulliNB(fit_prior=False, binarize=1) # Bernouilli Naive Bayes\n",
    "\n",
    "    #Fitting the model\n",
    "    clf_MNB.fit(trainVector, y_train)\n",
    "    clf_BNB.fit(trainVector, y_train)\n",
    "    y_pred_MNB = clf_MNB.predict(testVector)\n",
    "    y_pred_BNB = clf_BNB.predict(testVector)\n",
    "\n",
    "    # Confusion matrix\n",
    "    confusionMatrixMNB = metrics.confusion_matrix(y_test, y_pred_MNB)\n",
    "    confusionMatrixBNB = metrics.confusion_matrix(y_test, y_pred_BNB)\n",
    "\n",
    "    # Create figure with Seaborn\n",
    "    fig, axs = plt.subplots(1, 2)\n",
    "    plt.subplots_adjust(left=0.1, bottom=0.1, right=2, top=0.9, wspace=0.4, hspace=0.4)\n",
    "    # Left figure - Confusion matrix for Multinomial Naive Bayes\n",
    "    sns.heatmap(confusionMatrixMNB, annot=True, fmt=\".2f\", linewidths=.5, square = True, cmap = 'Blues_r', ax=axs[0], cbar=False)\n",
    "    axs[0].set_xlabel('Predicted') #modify x label\n",
    "    axs[0].set_ylabel('Actual') #modify y label\n",
    "    # Right figure - Confusion matrix for Bernouilli Naive Bayes\n",
    "    sns.heatmap(confusionMatrixBNB, annot=True, fmt=\".2f\", linewidths=.5, square = True, cmap = 'Blues_r', ax=axs[1], cbar=False)\n",
    "    axs[1].set_xlabel('Predicted') #modify x label\n",
    "    axs[1].set_ylabel('Actual') #modify y label\n",
    "    \n",
    "    axs[0].set_title('Fig: ' + str(getFigureNmr()) + ' Accuracy Score Multinomial Naive Bayes: {:.2f}%'.format(metrics.accuracy_score(y_test, y_pred_MNB)*100), size = 12); #set title\n",
    "    axs[1].set_title('Fig: ' + str(getFigureNmr()) + ' Accuracy Score Bernouilli Naive Bayes: {:.2f}%'.format(metrics.accuracy_score(y_test, y_pred_BNB)*100), size = 12); #set title\n"
   ]
  },
  {
   "cell_type": "markdown",
   "metadata": {},
   "source": [
    "#### i. Spam versus Easy Ham"
   ]
  },
  {
   "cell_type": "code",
   "execution_count": 45,
   "metadata": {},
   "outputs": [
    {
     "data": {
      "image/png": "[encoded data removed]",
      "text/plain": [
       "<Figure size 432x288 with 2 Axes>"
      ]
     },
     "metadata": {
      "needs_background": "light"
     },
     "output_type": "display_data"
    }
   ],
   "source": [
    "bayesClassifierFiltered(easyHamTrain, spamTrain, easyHamTest, spamTest, 0.9, 3)"
   ]
  },
  {
   "cell_type": "markdown",
   "metadata": {},
   "source": [
    "#### ii. Spam versus hard-ham"
   ]
  },
  {
   "cell_type": "code",
   "execution_count": 46,
   "metadata": {},
   "outputs": [
    {
     "data": {
      "image/png": "[encoded data removed]",
      "text/plain": [
       "<Figure size 432x288 with 2 Axes>"
      ]
     },
     "metadata": {
      "needs_background": "light"
     },
     "output_type": "display_data"
    }
   ],
   "source": [
    "bayesClassifierFiltered(hardHamTrain, spamTrain, hardHamTest, spamTest, 0.9, 1)"
   ]
  },
  {
   "cell_type": "markdown",
   "metadata": {},
   "source": [
    "## Task 5 - Filter out the headers and the footers of the emails before you run on them. The format may vary somewhat between emails, which can make this a bit tricky, so perfect filtering is not required. Run your program again and answer the following questions: \n",
    "#### a. Does the result improve from 3 and 4?\n"
   ]
  },
  {
   "cell_type": "code",
   "execution_count": 72,
   "metadata": {},
   "outputs": [],
   "source": [
    "'''\n",
    "A common pattern was observed in the documents:\n",
    "- The header is separated from the message by two line breaks ('\\n\\n').\n",
    "- The footer is separated from the message by about four line breaks minimum ('\\n\\n\\n\\n').\n",
    "FILTER USED: \n",
    "1. We first separate (split) the header and the rest of the message when there is '\\n\\n' \n",
    "and create a dataframe containing the rest of the message. \n",
    "2. In the dataframe created, we split the message from the footer when there is '\\n\\n\\n\\n' \n",
    "and create a dataframe containing the message.\n",
    "'''\n",
    "def HeaderAndFooterFilter(k, dfContent):\n",
    "    header = [] # list conataining header\n",
    "    rest = [] # list conataining rest = message+footer\n",
    "    # Split the header and rest when there are two line breaks ('\\n\\n')\n",
    "    for i in range(len(dfContent)):\n",
    "        if '\\n\\n' in dfContent['Content'][i]:\n",
    "            h, m = dfContent['Content'][i].split('\\n\\n', 1) \n",
    "            header.append([h, k]) # k = type ham=0 or spam=1\n",
    "            rest.append([m, k])\n",
    "        else:\n",
    "            header.append(['', k]) \n",
    "            rest.append([dfContent['Content'][i], k])\n",
    "    headerDF = pd.DataFrame(header)\n",
    "    restDF = pd.DataFrame(rest)\n",
    "    restDF.columns = ['Content', 'Type']\n",
    "    \n",
    "    message = [] # list conataining message only\n",
    "    footer = [] # list conataining footer\n",
    "    # Split the message and footer when there are four lines breaks ('\\n\\n\\n\\n')\n",
    "    for i in range(len(restDF)):\n",
    "        if '\\n\\n\\n\\n' in restDF['Content'][i]:\n",
    "            m, f = restDF['Content'][i].split('\\n\\n\\n\\n', 1) \n",
    "            message.append([m, k]) # k = type ham=0 or spam=1\n",
    "            footer.append([f, k])\n",
    "        else:\n",
    "            message.append([restDF['Content'][i], k])\n",
    "            footer.append(['', k])\n",
    "    messageDF = pd.DataFrame(message)\n",
    "    messageDF.columns = ['Content', 'Type']\n",
    "    mailTrain, mailTest = train_test_split(messageDF, test_size=0.3, random_state=0)\n",
    "    return mailTrain, mailTest"
   ]
  },
  {
   "cell_type": "markdown",
   "metadata": {},
   "source": [
    "#### i. Spam versus Easy-Ham"
   ]
  },
  {
   "cell_type": "code",
   "execution_count": 73,
   "metadata": {},
   "outputs": [
    {
     "data": {
      "image/png": "[encoded data removed]",
      "text/plain": [
       "<Figure size 432x288 with 2 Axes>"
      ]
     },
     "metadata": {
      "needs_background": "light"
     },
     "output_type": "display_data"
    }
   ],
   "source": [
    "easyTrain, easyTest = HeaderAndFooterFilter(0, easyHamContent)\n",
    "spamTrain, spamTest = HeaderAndFooterFilter(1, spamContent)\n",
    "bayesClassifier(easyTrain, spamTrain, easyTest, spamTest)"
   ]
  },
  {
   "cell_type": "markdown",
   "metadata": {},
   "source": [
    "#### ii. Spam versus Hard-Ham"
   ]
  },
  {
   "cell_type": "code",
   "execution_count": 74,
   "metadata": {},
   "outputs": [
    {
     "data": {
      "image/png": "[encoded data removed]",
      "text/plain": [
       "<Figure size 432x288 with 2 Axes>"
      ]
     },
     "metadata": {
      "needs_background": "light"
     },
     "output_type": "display_data"
    }
   ],
   "source": [
    "hardTrain, hardTest = HeaderAndFooterFilter(0, hardHamContent)\n",
    "bayesClassifier(hardTrain, spamTrain, hardTest, spamTest)"
   ]
  },
  {
   "cell_type": "markdown",
   "metadata": {},
   "source": [
    "#### b. The split of the data set into a training set and a test set can lead to very skewed results. Why is this, and do you have suggestions on remedies?"
   ]
  },
  {
   "cell_type": "markdown",
   "metadata": {},
   "source": [
    "First of all, it is important to note that we use CountVectorizer() on training sets in order to set up the dictionary containing unique words which have been tokenized. In other words, our dictionary is only a subset. The x_train variable used in building up the dictionary is itself a subset as it contains split up content from ham data and spam data respectively. Ultimately, our dictionary is missing unique words which may only be present in the test data. \n",
    "\n",
    "Furthermore, as we train the model on x_train, which again consists of a subset of ham and spam training data, the content of these two data sets influence the results of the model. If the amount of spam emails in this set was very low, the dictionary would in return not contain a necessary amount of unique words in order to be used in the classification of spam emails later on. It is also important to choose the parameters max_df and min_df carefully as too much tuning might filter out words which has an important impact on the classification.\n",
    "\n",
    "In order to avoid biased splits, one solution would be take an average of multiple splits. In other words, we could use k-fold cross-validation as we are dealing with a limited set of data."
   ]
  },
  {
   "cell_type": "markdown",
   "metadata": {},
   "source": [
    "#### c. What do you expect would happen if your training set were mostly spam messages while your test set were mostly ham messages?"
   ]
  },
  {
   "cell_type": "markdown",
   "metadata": {},
   "source": [
    "The number of ham emails which would be classified as spam would increase, i.e the number of false positives would increase. This is because, when training on a set which consists of mostly spam, the model would classify a greater amount of words of the ham emails as spam as that is what it has been trained on."
   ]
  }
 ],
 "metadata": {
  "kernelspec": {
   "display_name": "Python 3",
   "language": "python",
   "name": "python3"
  },
  "language_info": {
   "codemirror_mode": {
    "name": "ipython",
    "version": 3
   },
   "file_extension": ".py",
   "mimetype": "text/x-python",
   "name": "python",
   "nbconvert_exporter": "python",
   "pygments_lexer": "ipython3",
   "version": "3.8.5"
  }
 },
 "nbformat": 4,
 "nbformat_minor": 4
}
