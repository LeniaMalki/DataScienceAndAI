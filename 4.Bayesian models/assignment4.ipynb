{
 "cells": [
  {
   "cell_type": "markdown",
   "metadata": {},
   "source": [
    "## DAT405 Introduction to Data Science and AI\n",
    "# Assignment 4: Spam classification using Naïve Bayes\n",
    "\n",
    "Student name | Hours spent on the tasks\n",
    "------------ | -------------\n",
    "Lenia Malki | 10\n",
    "Maële Belmont | 10\n",
    "\n",
    "ask:\n",
    "- question 1: open 1 mail or all of them? store them in lists or dataframe? why can't open file number 2 in easy_ham and file number 4 in hard_ham? "
   ]
  },
  {
   "cell_type": "markdown",
   "metadata": {},
   "source": [
    "## Setup\n",
    "Python modules need to be loaded to solve the tasks."
   ]
  },
  {
   "cell_type": "code",
   "execution_count": 4,
   "metadata": {},
   "outputs": [],
   "source": [
    "import numpy as np\n",
    "import math\n",
    "import matplotlib.pyplot as plt\n",
    "import pandas as pd"
   ]
  },
  {
   "cell_type": "markdown",
   "metadata": {},
   "source": [
    "## Introduction\n",
    "There will be an overall grade for this assignment. To get a pass grade (grade 3), you need to pass \n",
    "items 1-3 below. To receive higher grades, finish items 4 and 5 as well.<br>\n",
    "In this assignment you will implement a Naïve Bayes classifier in Python that will classify emails into \n",
    "spam and non-spam (“ham”) classes. Your program should be able to train on a given set of spam \n",
    "and “ham” datasets.   You will work with the datasets available at https://spamassassin.apache.org/old/publiccorpus/. \n",
    "There are three types of files in this location: \n",
    "1. easy-ham: non-spam messages typically quite easy to differentiate from spam messages. \n",
    "2. hard-ham: non-spam messages more difficult to differentiate\n",
    "3. spam: spam messages\n",
    "\n",
    "Read the “readme.html” for a full description of the file contents. The .bz2-file can be unzipped using \n",
    "the linux command\n",
    "tar –xjvf file.bz2\n",
    "which will result in a directory named “file”, containing all email messages as separate files. "
   ]
  },
  {
   "cell_type": "markdown",
   "metadata": {},
   "source": [
    "## Task 1 - Preprocessing: \n",
    "#### a. Note that the email files contain a lot of extra information, besides the actual message. Ignore that for now and run on the entire text. Further down (in the higher grade part), you will be asked to filter out the headers and footers. "
   ]
  },
  {
   "cell_type": "code",
   "execution_count": 78,
   "metadata": {},
   "outputs": [
    {
     "name": "stdout",
     "output_type": "stream",
     "text": [
      "['hard_ham/0035.4fe7648654fa3fa1ae5379894f00474f', 'hard_ham/0044.27a8944e81a2e9238f2de89eca51321d', 'hard_ham/0050.055a745d0040ad87b4695a1f23502a81', 'hard_ham/0239.34e6b6125909c0d998370aacc82daefe', 'hard_ham/0054.a1ec171dcbc37d0b4f68e7e2074f33ca', 'hard_ham/0202.9b71c90c298d453025eae7bbcc46018b', 'hard_ham/0228.651a40f1c0b2ba19122eccebccbae788', 'hard_ham/0034.3b223f26d69f641451a5d95faa9cb564', 'hard_ham/0198.9938b1b97c018592ea6fcec265fb5ef7', 'hard_ham/0143.078ced89f2de25e9423f53798e6e3a70', 'hard_ham/0009.2bc1d4efa31fc78edb6e4bd82f68023f', 'hard_ham/0013.f35f66ce3e2c580dbb32b105e0f70c7d', 'hard_ham/0003.0aa92b5f121c27c6e094fd89c6c89448', 'hard_ham/0007.7f2ea3a532284cff3321e5ba159cdb50', 'hard_ham/0229.603a14ce10e319ac433b686a3f9e9999', 'hard_ham/0150.1a4004bb9fde0616def0888607679f9d', 'hard_ham/0125.708a97786a1fe270ac3fc8f7a3a533ef', 'hard_ham/0065.52a367dec6ebe3bbe92b08f2a2c0fd7e', 'hard_ham/0235.a4ac9d7b43ea2bbf8dbb763e9160ee95', 'hard_ham/0132.2893a03c7ec608a1416bef197a3ac13c', 'hard_ham/0025.15d4566a6f33d21e7f2fe5c452e1a9fe', 'hard_ham/0135.b09cf763aa3b510180a239fb6e103718', 'hard_ham/0099.cbdd0b8a16893d7f13c2b753d5c67844', 'hard_ham/0249.62d4972416adbbd0e9fd583835622980', 'hard_ham/0052.ae8ff272d7ef31c406cad02f476fefed', 'hard_ham/0033.6a01f21844e78eba1202be887c1d9473', 'hard_ham/0078.aa6431fbd6f6eb44d9f3964ae28115b3', 'hard_ham/0096.35188664501272e51fd054e157bc6e24', 'hard_ham/0002.2fe846db6e3249836abdbfcae459bf2a', 'hard_ham/0187.6559101f460c8314781b71609d62ac9f', 'hard_ham/0060.a19a223f84a35ed42e2f297c18e25a01', 'hard_ham/0014.97d87718c6480f977d58fc65d985ca7e', 'hard_ham/0248.0e24cff47672d14846badc564585a93e', 'hard_ham/0214.4a88cbb01e5c7f05db4e12180bc122db', 'hard_ham/0238.7c7d6921e671bbe18ebb5f893cd9bb35', 'hard_ham/0246.3aa0f2e88ef357632bc485b6bb2b3121', 'hard_ham/0166.4b3874844ccb78cd7ca2cd03876124b0', 'hard_ham/0008.aa277082dc0b40dedc51b2e758a115a9', 'hard_ham/0188.7fc83c7dcf3fa40cb98e61a8e8661a03', 'hard_ham/0153.569daf40165213f3b4116b586362b142', 'hard_ham/0043.bab3a56e1280de37538e023d2feb1f5b', 'hard_ham/0051.6977edf4fd92543b1c9af246ebdc00cb', 'hard_ham/0195.cc05aaf538fa33658a78098cebfbcc25', 'hard_ham/0037.31bd6e9b2333e081b4edcaa5db136f22', 'hard_ham/0205.48ffcce8693fbd4db12efb61a2c2d841', 'hard_ham/0012.4886c21374847658730208b7804fe483', 'hard_ham/0113.0b75c7040df645232a1a3ad2c12d6648', 'hard_ham/0225.57081800f804ace547318b1bc499f4c6', 'hard_ham/0193.db3e40c7d92cc223f91149f8d3a4e1b2', 'hard_ham/0111.2633c2d3c9eef038b6f9a2fad1567dc0', 'hard_ham/0250.7c6cc716ce3f3bfad7130dd3c8d7b072', 'hard_ham/0047.4bd712df1ecd85521703fc4d8e11b3bc', 'hard_ham/0119.3286c319826c8a681e0dd0598da947c1', 'hard_ham/0041.2475050fd26b3f86a35315dd7d732521', 'hard_ham/0130.44765f110b4eae780ec00770d8062ae8', 'hard_ham/0070.5deaf32310b325587f24b037b0453293', 'hard_ham/0213.10129f7ac3cdf7aaf98bec60f1f3a2ef', 'hard_ham/0164.82c660c5e1f778f96a4e36ab9aec323b', 'hard_ham/0053.ccd1056dc3ff533d76a97044bac52087', 'hard_ham/0230.cc7e33f6fb35ec73315649e151d66111', 'hard_ham/0221.cecc5d590b4439a306e218b773adac08', 'hard_ham/0030.76c4bd87d3ccc6da6916ec5a5e08800d', 'hard_ham/0066.d168110777d3c36b0e47114d37ea7ac9', 'hard_ham/0097.8b611c66f47a5dfc476a015fc2395e12', 'hard_ham/0010.a0f25ac43e31765f180d409984179eab', 'hard_ham/0137.e182dacf304ecdeb76230d7c5374aed3', 'hard_ham/0215.1ffcedd5f17f05e48d04a0a634154c93', 'hard_ham/0161.199b3947c40a3a72ab6407d91eee0557', 'hard_ham/0124.c62aedaf5026c8308691697beff88744', 'hard_ham/0026.3824ad4c30f4e1bd3e3d37057e9359a6', 'hard_ham/0180.d0c8419e4982b2fa0c716508fb783a68', 'hard_ham/0220.eb242d1945f31e1c05ae1df9b3bf2537', 'hard_ham/0098.e9afe23402251639779bbc1fa0476a9e', 'hard_ham/0068.f68cf801185aa7338a1d9c4f7f94f9e3', 'hard_ham/0236.62765917ab1fc98fe9e118aef0894765', 'hard_ham/0046.21f3118a4e2dcbd69da205122a74c9a4', 'hard_ham/0234.c0f66f67b77b7c0e9ad66bd7abaf5f55', 'hard_ham/0112.c4b72b2b2c41d649c3bd0da4230b8209', 'hard_ham/0199.bdcf433ea9d96d36e5a564d787aaa926', 'hard_ham/0019.ae2729d4b8ec4324da2fe392fe4429d6', 'hard_ham/0206.6a591b7b90744a8a411dd6f8c0e73ca6', 'hard_ham/0004.409015be23edf1c42f319a870114664c', 'hard_ham/0201.a69d994a7a76f49be4f4e8b839adc00a', 'hard_ham/0015.83cd6f657e9603870fae4eb810bc5995', 'hard_ham/0057.717eebaa7c78882c834af60986732047', 'hard_ham/0018.4c0db481993d05a5a0d1ff09eb9faace', 'hard_ham/0059.25b37bae69bc0677f978d000dd27b0ba', 'hard_ham/0175.9da6791d7966edcb9afaab078736deb1', 'hard_ham/0128.cec40637e142496b2603c0ee474d05e7', 'hard_ham/0247.9afc6950aad655603a1f70edf4ba2bb7', 'hard_ham/0093.cfcd17be3040443dac38f2ac62a5e6da', 'hard_ham/0022.2988baa63bae8377269759384f4d73bc', 'hard_ham/0117.fddcee5e4df575edc769d13a84cb32fe', 'hard_ham/0157.09827ed42b5f694067929fc00393630e', 'hard_ham/0209.2f5c7d5bc39fefaae26e95ed5d8538cb', 'hard_ham/0242.cc7e33f6fb35ec73315649e151d66111', 'hard_ham/0005.ebf0581994d57466ee431c7e5cf7794d', 'hard_ham/0102.b695d3ad06a93e2582942191f2625775', 'hard_ham/0086.04312590605a3ce851e6b050f6f2de57', 'hard_ham/0159.bcc0a572f666161e68caf5313590bd3b', 'hard_ham/0126.d002ec3f8a9aff31258bf03d62abdafa', 'hard_ham/0191.47a4267102621d60e7de985f0f738f96', 'hard_ham/0197.68819fc91d34c82433074d7bd3127dcc', 'hard_ham/0036.87385983942b734179f43c0d6a98877a', 'hard_ham/0076.a01ff724c532fc577e147fa5067a98b0', 'hard_ham/0142.0220f772ab37ba8d5899fc62f6878edf', 'hard_ham/0118.a5ef40817ff77d4c51fe1c3344a22772', 'hard_ham/0032.72c3e5f2fa8153c666ac73ce1fe69301', 'hard_ham/0203.c5cd59a6164b565d92a6861f6491cac4', 'hard_ham/0160.6afa0b4b6fd169beb74a46759a413fda', 'hard_ham/0103.bc00398d739e5fcaee7def4053a1a325', 'hard_ham/0171.786d4f37f37d9043eb4fc2d3521b78b4', 'hard_ham/0090.c635b9156abd6dc5e823c0fbf6784a00', 'hard_ham/0196.9dc01775acba34e580ddf9a56ea6891e', 'hard_ham/0165.18c2e9e1217c3a39dc3b2b9199c061ff', 'hard_ham/0020.e5ece82dbfb6bc8e293f42622847cf4a', 'hard_ham/0168.763c69f3bcd63f717973b33bd623c0cf', 'hard_ham/0231.7c6cc716ce3f3bfad7130dd3c8d7b072', 'hard_ham/0092.713381323ace2b4dcfd199b0a6e37d1f', 'hard_ham/0016.78bb8fe3937725c2fa25f4c35049cbff', 'hard_ham/0064.e734509b9d9c377ce658371aaf23cb9c', 'hard_ham/0049.4fa50cd805f98094b0523c763ec15d43', 'hard_ham/0091.e58454a15b042d784ac1b882e84d1a91', 'hard_ham/0084.ba0c10521c2c57d8047425d27b715d82', 'hard_ham/0149.e1ec56ec424ba53efb7b0a20cf50bec1', 'hard_ham/0094.b3c07fb6511124bee5482743dbb9b2a1', 'hard_ham/0177.7bf03ee9001454f9f3b4d258cd926098', 'hard_ham/0055.4c0a6eb2a79113071b05b84bf3851050', 'hard_ham/0148.014cfdedea92c36045cd5a966f1e3796', 'hard_ham/0139.37c6b32ba39eaa510af007deef725ec2', 'hard_ham/0106.18a17ea14a3b19054865590946c02951', 'hard_ham/0110.ee703cc28c9764a0d059472260ddc2f7', 'hard_ham/0081.bd5e31379a156bee77022a672548d34b', 'hard_ham/0144.ac882e3f2cd7c60dfa9c061637ba7ef7', 'hard_ham/0104.3d0aad734b9c4d3a4902dace99863038', 'hard_ham/0204.9cc1bb260964bd6c5c5e4736f5f1ecd6', 'hard_ham/0189.c1612db4bc2ad5fd3d5fe35dad0e3a2b', 'hard_ham/0045.de344c9b463eb9f9e363afff3a323e11', 'hard_ham/0114.bdb2ef06777c7fd65c3e8f0ab90c899a', 'hard_ham/0200.b3ec97a024684e66fd16c530f2e0a4f6', 'hard_ham/0100.677049857629e4f2399fc01ab8085e26', 'hard_ham/0133.d4a1ca8e0fcb12df4042bd8df916d69a', 'hard_ham/0141.82c48bdf90cb29370a2783a3523f3b04', 'hard_ham/0185.704c2b14ea22ac4937c30e0c25e253b3', 'hard_ham/0062.e3a985be60ba49bf4b084159189f7376', 'hard_ham/0121.05eb8cf2ea8592ffd4be29698e07f67b', 'hard_ham/0048.4e73c67f3a4096ba479d25a5edd240e1', 'hard_ham/0021.7c2e9c94ea3ec3a3ea116f01d1a5e539', 'hard_ham/0146.e49cd86bb6e497e11c9ca1ca27cd5893', 'hard_ham/0122.11a1666297a9d767e7bc2866bf4f8482', 'hard_ham/0182.b7ddf319da0b2846f1f78a20e7a6fc9c', 'hard_ham/0063.d84fa51cf5329f5e5b2f0c83b7ec94d0', 'hard_ham/0244.4a88cbb01e5c7f05db4e12180bc122db', 'hard_ham/0082.d90dad45eec3020fbc0c8ffed76ae12d', 'hard_ham/0207.b84fe135fb77395651a5b88a1f808cf9', 'hard_ham/0216.3aa0f2e88ef357632bc485b6bb2b3121', 'hard_ham/0218.0e24cff47672d14846badc564585a93e', 'hard_ham/0178.5b7f2a0e87c853e8c8e13d556c1320d2', 'hard_ham/0190.5a3b0581835fba34b28985bbea2c8f41', 'hard_ham/0116.5bba95bae3a932fe0d9ced8093ea5e3b', 'hard_ham/0061.6483b12feb81e79827e8b39a98e1a6a7', 'hard_ham/0219.62d4972416adbbd0e9fd583835622980', 'hard_ham/0001.f0cf04027e74802f09f723cb8916b48e', 'hard_ham/0129.187d5f6eb8880e76a396afb77e9a7241', 'hard_ham/0152.11f72139fb68f9d4fdc1d72d6803437c', 'hard_ham/0223.a4ac9d7b43ea2bbf8dbb763e9160ee95', 'hard_ham/0162.5258f5bbb6d86187bbd7b58851ce3b06', 'hard_ham/0167.e069a1be61effd430e3eea8441f5ae90', 'hard_ham/0024.aed7657369f5d6cffe71818d06a8de42', 'hard_ham/0163.0123b1afbae948c7fa80a8ab79786e16', 'hard_ham/0211.bd3cf04241bf141dff4739b94b29f61c', 'hard_ham/0183.d354a2c8435e0bf4fa6ba98a1a46ed35', 'hard_ham/0071.67b73cb2972c6e868f8e4da7c1e00728', 'hard_ham/0233.cecc5d590b4439a306e218b773adac08', 'hard_ham/0140.0d1eca4253384df024692c75f8540c4f', 'hard_ham/0101.cd2b8042ad679e164e16512ab4448c79', 'hard_ham/0169.6ba188c524a39a3795a12518b0b27a4b', 'hard_ham/0226.7c7d6921e671bbe18ebb5f893cd9bb35', 'hard_ham/0011.f05ea98120d5d24b79119896b16cef66', 'hard_ham/0006.b14155850b5d2dd221534f5595515459', 'hard_ham/0123.9d19f1f1473ce11154e898d5fd9e83da', 'hard_ham/0136.bd2d54da3eaadd1f4428f48a28844d39', 'hard_ham/0056.5a2d7682765ade8f025450dfc82be013', 'hard_ham/0245.1ffcedd5f17f05e48d04a0a634154c93', 'hard_ham/0227.34e6b6125909c0d998370aacc82daefe', 'hard_ham/0089.3d9fb6a3389140f0c6820b7b9f306082', 'hard_ham/0028.fd45453350359f2fca8fbf13ee44bf2d', 'hard_ham/0237.57081800f804ace547318b1bc499f4c6', 'hard_ham/0079.394974089196bddcfb45e9afe5de4729', 'hard_ham/0243.10129f7ac3cdf7aaf98bec60f1f3a2ef', 'hard_ham/0042.a6e6bbb86e12badb0f0cb871176e7493', 'hard_ham/0174.b78c73f91532150a15ced38fddbbedf4', 'hard_ham/0083.1c3e3b1aaf3ae5007653c6b007e884c5', 'hard_ham/0115.32aa502e928becbe2db939baa9697928', 'hard_ham/0154.b7e55edcd1795f418e9949a9092b8018', 'hard_ham/0212.303d36b53cbcad976738908b7c7ea688', 'hard_ham/0210.aa264fefcd8fe85855dc2f400c4683e7', 'hard_ham/0074.b6030281bdc89e6b039b77b49a130867', 'hard_ham/0217.9afc6950aad655603a1f70edf4ba2bb7', 'hard_ham/0029.cebbcfd6de93eb527880fdc53e71c9f1', 'hard_ham/0027.67c81ed875f5095080aec2de21d50d70', 'hard_ham/0241.603a14ce10e319ac433b686a3f9e9999', 'hard_ham/0131.fa0961b38faf5f7e1a9ec384074a7142', 'hard_ham/0095.3ab54d86bb56d59bdf2d4a1cd5626357', 'hard_ham/0170.71dbfb9d9c57413a67cd865d58c776de', 'hard_ham/0073.f27080aade7899011067836222260a45', 'hard_ham/0222.c0f66f67b77b7c0e9ad66bd7abaf5f55', 'hard_ham/0240.651a40f1c0b2ba19122eccebccbae788', 'hard_ham/0069.1619d00c647317402bd8fa9a52208059', 'hard_ham/0151.0402ce39c606a9988884acd4707463cf', 'hard_ham/0080.e44805299d6fa2525a63dbd61b46ca12', 'hard_ham/0058.4bec4e6fb854edf50efcc42c7398895e', 'hard_ham/0105.715d378af3c7a2d96650489d6b31d44e', 'hard_ham/0085.4fb964cb2196252ba42e56c3fa73dfc0', 'hard_ham/0077.31f800b4c1ae3f38304bead296d558f0', 'hard_ham/0232.eb242d1945f31e1c05ae1df9b3bf2537', 'hard_ham/0145.f3857becbb757216bd6224a2c217d1f7', 'hard_ham/0224.62765917ab1fc98fe9e118aef0894765', 'hard_ham/0138.6f5a6164234f79dfaaa530134395bef1', 'hard_ham/0087.6412e8694e9acaba1c61029437002a99', 'hard_ham/0031.6d5310f0ef66bc099725be92aab80398', 'hard_ham/0038.9fc6b97854121a9c1dc34b0160620558', 'hard_ham/0186.4d84e4bcd7c9ee568f5b33f8883a54ab', 'hard_ham/0039.3607c74dc1b009386c48b366593ab199', 'hard_ham/0156.d8a5e5bc0173393fb1e169921e1c3ee6', 'hard_ham/0172.6ee66cdc7ca685330f84d09379c995dd', 'hard_ham/0208.df5d7a4e950a3aa80a71fbb5186b0f87', 'hard_ham/0023.cb5d5eef370b20c455e62dd60f071fd9', 'hard_ham/0120.472f6d6d8c73039c595840dd32206781', 'hard_ham/0184.290d2aac65ac6b71689d7f223f1bb5fd', 'hard_ham/0108.fb6dd14733e5d6ea5b43a18d2ae30643', 'hard_ham/0107.2a822005f2b0fb70922c690ae6c2b4bf', 'hard_ham/0075.b233a905fb7f4cc8f9f878aeb9f7b36d', 'hard_ham/0134.ca96f74042d05c1a1d29ca30467cfcd5', 'hard_ham/0067.e68ea49deda9195d0ed5a76fead4ed10', 'hard_ham/0158.ea156bc818540dd76784fac2f6969783', 'hard_ham/0072.f402a6a3597d1febbba535bf17345b22', 'hard_ham/0147.a8f9704ac90938addc69c4c09c14eb5e', 'hard_ham/0040.2dd88939d59c472d733cdaf1f49e075a', 'hard_ham/0173.7020d254bb5a5582cac3c174523e6f77', 'hard_ham/0176.f2008afaf29620e7f07bb6853809d55a', 'hard_ham/0179.b2b936a8501444b213f61f9ff193b480', 'hard_ham/0194.d25929908330db4d7f1d959a295651e0', 'hard_ham/0088.48d3bb634ecf0709b146a7575e9d6d22', 'hard_ham/0127.a26e8e698f479e0baf3d41c47ffcd33c', 'hard_ham/0192.cf20f9fad988387e4cf44390a7f2a2b4', 'hard_ham/0181.4750eb0bfa983cb33844255f8f6a2094', 'hard_ham/0155.4b7d1d147b6a15245d7ce572ef804b74', 'hard_ham/0109.a7cf1e85d45487b4b1eb01326ef7340e', 'hard_ham/0017.24b9a958860c4e29ddf4e58b4dc31c7e']\n"
     ]
    },
    {
     "ename": "UnicodeDecodeError",
     "evalue": "'utf-8' codec can't decode byte 0xa0 in position 4434: invalid start byte",
     "output_type": "error",
     "traceback": [
      "\u001b[0;31m---------------------------------------------------------------------------\u001b[0m",
      "\u001b[0;31mUnicodeDecodeError\u001b[0m                        Traceback (most recent call last)",
      "\u001b[0;32m<ipython-input-78-490c2b2f6ac2>\u001b[0m in \u001b[0;36m<module>\u001b[0;34m\u001b[0m\n\u001b[1;32m      8\u001b[0m \u001b[0;34m\u001b[0m\u001b[0m\n\u001b[1;32m      9\u001b[0m \u001b[0;32mwith\u001b[0m \u001b[0mopen\u001b[0m\u001b[0;34m(\u001b[0m\u001b[0mfilepaths\u001b[0m\u001b[0;34m[\u001b[0m\u001b[0;36m3\u001b[0m\u001b[0;34m]\u001b[0m\u001b[0;34m,\u001b[0m \u001b[0;34m'r'\u001b[0m\u001b[0;34m)\u001b[0m \u001b[0;32mas\u001b[0m \u001b[0mf\u001b[0m\u001b[0;34m:\u001b[0m\u001b[0;34m\u001b[0m\u001b[0;34m\u001b[0m\u001b[0m\n\u001b[0;32m---> 10\u001b[0;31m         \u001b[0mfile\u001b[0m \u001b[0;34m=\u001b[0m \u001b[0mf\u001b[0m\u001b[0;34m.\u001b[0m\u001b[0mreadlines\u001b[0m\u001b[0;34m(\u001b[0m\u001b[0;34m)\u001b[0m\u001b[0;34m\u001b[0m\u001b[0;34m\u001b[0m\u001b[0m\n\u001b[0m\u001b[1;32m     11\u001b[0m         \u001b[0mall_files\u001b[0m\u001b[0;34m.\u001b[0m\u001b[0mappend\u001b[0m\u001b[0;34m(\u001b[0m\u001b[0mfile\u001b[0m\u001b[0;34m)\u001b[0m\u001b[0;34m\u001b[0m\u001b[0;34m\u001b[0m\u001b[0m\n\u001b[1;32m     12\u001b[0m \u001b[0mprint\u001b[0m\u001b[0;34m(\u001b[0m\u001b[0mall_files\u001b[0m\u001b[0;34m)\u001b[0m\u001b[0;34m\u001b[0m\u001b[0;34m\u001b[0m\u001b[0m\n",
      "\u001b[0;32m~/opt/anaconda3/lib/python3.8/codecs.py\u001b[0m in \u001b[0;36mdecode\u001b[0;34m(self, input, final)\u001b[0m\n\u001b[1;32m    320\u001b[0m         \u001b[0;31m# decode input (taking the buffer into account)\u001b[0m\u001b[0;34m\u001b[0m\u001b[0;34m\u001b[0m\u001b[0;34m\u001b[0m\u001b[0m\n\u001b[1;32m    321\u001b[0m         \u001b[0mdata\u001b[0m \u001b[0;34m=\u001b[0m \u001b[0mself\u001b[0m\u001b[0;34m.\u001b[0m\u001b[0mbuffer\u001b[0m \u001b[0;34m+\u001b[0m \u001b[0minput\u001b[0m\u001b[0;34m\u001b[0m\u001b[0;34m\u001b[0m\u001b[0m\n\u001b[0;32m--> 322\u001b[0;31m         \u001b[0;34m(\u001b[0m\u001b[0mresult\u001b[0m\u001b[0;34m,\u001b[0m \u001b[0mconsumed\u001b[0m\u001b[0;34m)\u001b[0m \u001b[0;34m=\u001b[0m \u001b[0mself\u001b[0m\u001b[0;34m.\u001b[0m\u001b[0m_buffer_decode\u001b[0m\u001b[0;34m(\u001b[0m\u001b[0mdata\u001b[0m\u001b[0;34m,\u001b[0m \u001b[0mself\u001b[0m\u001b[0;34m.\u001b[0m\u001b[0merrors\u001b[0m\u001b[0;34m,\u001b[0m \u001b[0mfinal\u001b[0m\u001b[0;34m)\u001b[0m\u001b[0;34m\u001b[0m\u001b[0;34m\u001b[0m\u001b[0m\n\u001b[0m\u001b[1;32m    323\u001b[0m         \u001b[0;31m# keep undecoded input until the next call\u001b[0m\u001b[0;34m\u001b[0m\u001b[0;34m\u001b[0m\u001b[0;34m\u001b[0m\u001b[0m\n\u001b[1;32m    324\u001b[0m         \u001b[0mself\u001b[0m\u001b[0;34m.\u001b[0m\u001b[0mbuffer\u001b[0m \u001b[0;34m=\u001b[0m \u001b[0mdata\u001b[0m\u001b[0;34m[\u001b[0m\u001b[0mconsumed\u001b[0m\u001b[0;34m:\u001b[0m\u001b[0;34m]\u001b[0m\u001b[0;34m\u001b[0m\u001b[0;34m\u001b[0m\u001b[0m\n",
      "\u001b[0;31mUnicodeDecodeError\u001b[0m: 'utf-8' codec can't decode byte 0xa0 in position 4434: invalid start byte"
     ]
    }
   ],
   "source": [
    "import os\n",
    "\n",
    "folderpath = r\"hard_ham\" # make sure to put the 'r' in front\n",
    "filepaths  = [os.path.join(folderpath, name) for name in os.listdir(folderpath)]\n",
    "print(filepaths)\n",
    "\n",
    "all_files = []\n",
    "\n",
    "with open(filepaths[3], 'r') as f:\n",
    "        file = f.readlines()\n",
    "        all_files.append(file)\n",
    "print(all_files)\n",
    "\n",
    "for path in filepaths:\n",
    "    with open(path, 'r') as f:\n",
    "        file = f.readlines()\n",
    "        all_files.append(file)\n",
    "print(all_files)"
   ]
  },
  {
   "cell_type": "markdown",
   "metadata": {},
   "source": [
    "#### b. We don’t want to train and test on the same data. Split the spam and the ham datasets in a training set and a test set."
   ]
  },
  {
   "cell_type": "markdown",
   "metadata": {},
   "source": [
    "## Task 2 - Write a Python program that:\n",
    "#### a. Uses four datasets (hamtrain, spamtrain, hamtest, and spamtest)"
   ]
  },
  {
   "cell_type": "markdown",
   "metadata": {},
   "source": [
    "#### b. Using a Naïve Bayes classifier (e.g. Sklearn), classifies the test sets and reports the  percentage of ham and spam test sets that were classified correctly. You can use CountVectorizer to transform the email texts into vectors. Please note that there are different types of Naïve Bayes Classifier in SKlearn (Document is available here). Test two of these classifiers: 1. Multinomial Naive Bayes and 2. Bernoulli Naive Bayes that are well suited for this problem. For the case of Bernoulli Naive Bayes you should use the parameter binarize to make the features binary. Discuss the differences between these two classifiers. "
   ]
  },
  {
   "cell_type": "markdown",
   "metadata": {},
   "source": [
    "## Task 3 - Run your program on\n",
    "#### i. Spam versus easy-ham"
   ]
  },
  {
   "cell_type": "markdown",
   "metadata": {},
   "source": [
    "#### ii. Spam versus hard-ham"
   ]
  },
  {
   "cell_type": "markdown",
   "metadata": {},
   "source": [
    "## Task 4 - To avoid classification based on common and uninformative words it is common to filter these out. \n",
    "#### a. Argue why this may be useful. Try finding the words that are too common/uncommon in the dataset. "
   ]
  },
  {
   "cell_type": "markdown",
   "metadata": {},
   "source": [
    "#### b. Use the parameters in Sklearn’s CountVectorizer to filter out these words. Run the updated program on your data and record how the results differ from 3. You have two options to do this in Sklearn: either using the words found in part (a) or letting Sklearn do it for you."
   ]
  },
  {
   "cell_type": "markdown",
   "metadata": {},
   "source": [
    "## Task 5 - Filter out the headers and the footers of the emails before you run on them. The format may vary somewhat between emails, which can make this a bit tricky, so perfect filtering is not required. Run your program again and answer the following questions: \n",
    "#### a. Does the result improve from 3 and 4?"
   ]
  },
  {
   "cell_type": "markdown",
   "metadata": {},
   "source": [
    "#### b. The split of the data set into a training set and a test set can lead to very skewed results. Why is this, and do you have suggestions on remedies?"
   ]
  },
  {
   "cell_type": "markdown",
   "metadata": {},
   "source": [
    "#### c. What do you expect would happen if your training set were mostly spam messages while your test set were mostly ham messages?"
   ]
  },
  {
   "cell_type": "code",
   "execution_count": null,
   "metadata": {},
   "outputs": [],
   "source": []
  }
 ],
 "metadata": {
  "kernelspec": {
   "display_name": "Python 3",
   "language": "python",
   "name": "python3"
  },
  "language_info": {
   "codemirror_mode": {
    "name": "ipython",
    "version": 3
   },
   "file_extension": ".py",
   "mimetype": "text/x-python",
   "name": "python",
   "nbconvert_exporter": "python",
   "pygments_lexer": "ipython3",
   "version": "3.8.5"
  }
 },
 "nbformat": 4,
 "nbformat_minor": 4
}
