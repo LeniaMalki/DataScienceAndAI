{
 "cells": [
  {
   "cell_type": "markdown",
   "metadata": {},
   "source": [
    "$\\qquad$ $\\qquad$$\\qquad$  **DAT405 Introduction to Data Science and AI, 2019-2020, Reading Period 3** <br />\n",
    "$\\qquad$ $\\qquad$$\\qquad$                   **Assignment 5: Reinforcement learning and Classification 2** <br />\n",
    "$\\qquad$ $\\qquad$$\\qquad$                   **Grader: Newton** <br />\n",
    "$\\qquad$ $\\qquad$$\\qquad$                     **Due Date: 23rd February, 23:59** <br />\n",
    "$\\qquad$ $\\qquad$$\\qquad$                   **Submitted by: Name, Personal No., Email** <br />\n",
    "\n",
    "\n",
    "---\n",
    "\n",
    "\n",
    "General guidelines:\n",
    "*   All solutions to theoretical and pratical problems must be submitted in this ipynb notebook, and equations wherever required, should be formatted using LaTeX math-mode.\n",
    "*   All discussion regarding practical problems, along with solutions and plots should be specified in this notebook. All plots/results should be visible such that the notebook do not have to be run. But the code in the notebook should reproduce the plots/results if we choose to do so.\n",
    "*   Your name, personal number and email address should be specified above.\n",
    "*   All tables and other additional information should be included in this notebook.\n",
    "*   Before submitting, make sure that your code can run on another computer. That all plots can show on another computer including all your writing. It is good to check if your code can run here: https://colab.research.google.com.\n"
   ]
  },
  {
   "cell_type": "markdown",
   "metadata": {},
   "source": [
    "Self-check \n",
    "1. Have you answered all questions to the best of your ability? \n",
    "2. Anything else you can easily check? (details, terminology, arguments, commenting for code etc.?) \n",
    "\n",
    "Grading will be based on a qualitative assessment of each assignment. It is important to:\n",
    "*\tPresent clear arguments\n",
    "*\tPresent the results in a pedagogical way\n",
    "*\tShow understanding of the topics (e.g, write a pseudocode) \n",
    "*\tGive correct solutions\n",
    "*\tMake sure that the code is well commented \n",
    "\n",
    "**Again, as mentioned in general guidelines, all code should be written here. And this same ipython notebook file (RLAssignment.ipynb) should be submitted with answers and code written in it. NO SEPERATE FILE SHALL BE ACCEPTED.** \n"
   ]
  },
  {
   "cell_type": "markdown",
   "metadata": {},
   "source": [
    "# Primer\n",
    "\n",
    "## Decision Making\n",
    "The problem of **decision making under uncertainty** (commonly known as **reinforcement learning**) can be broken down into\n",
    "two parts. First, how do we learn about the world? This involves both the\n",
    "problem of modeling our initial uncertainty about the world, and that of drawing conclusions from evidence and our initial belief. Secondly, given what we\n",
    "currently know about the world, how should we decide what to do, taking into\n",
    "account future events and observations that may change our conclusions?\n",
    "Typically, this will involve creating long-term plans covering possible future\n",
    "eventualities. That is, when planning under uncertainty, we also need to take\n",
    "into account what possible future knowledge could be generated when implementing our plans. Intuitively, executing plans which involve trying out new\n",
    "things should give more information, but it is hard to tell whether this information will be beneficial. The choice between doing something which is already\n",
    "known to produce good results and experiment with something new is known\n",
    "as the **exploration-exploitation dilemma**.\n",
    "\n",
    "## The exploration-exploitation trade-off\n",
    "\n",
    "Consider the problem of selecting a restaurant to go to during a vacation.Lets say the\n",
    "best restaurant you have found so far was **Les Epinards**. The food there is\n",
    "usually to your taste and satisfactory. However, a well-known recommendations\n",
    "website suggests that **King’s Arm** is really good! It is tempting to try it out. But\n",
    "there is a risk involved. It may turn out to be much worse than **Les Epinards**,\n",
    "in which case you will regret going there. On the other hand, it could also be\n",
    "much better. What should you do?\n",
    "It all depends on how much information you have about either restaurant,\n",
    "and how many more days you’ll stay in town. If this is your last day, then it’s\n",
    "probably a better idea to go to **Les Epinards**, unless you are expecting **King’s\n",
    "Arm** to be significantly better. However, if you are going to stay there longer,\n",
    "trying out **King’s Arm** is a good bet. If you are lucky, you will be getting much\n",
    "better food for the remaining time, while otherwise you will have missed only\n",
    "one good meal out of many, making the potential risk quite small."
   ]
  },
  {
   "cell_type": "markdown",
   "metadata": {},
   "source": [
    "## Overview\n",
    "* To make things concrete, we will first focus on decision making under **no** uncertainity, i.e, given we have a world model, we can calculate the exact and optimal actions to take in it. We shall first introduce **Markov Decision Process (MDP)** as the world model. Then we give one algorithm (out of many) to solve it.\n",
    "\n",
    "\n",
    "* Next, we will work through one type of reinforcement learning algorithm called Q-learning. Q-learning is an algorithm for making decisions under uncertainity, where uncertainity is over the possible world model (here MDP). It will find the optimal policy for the **unknown** MDP, assuming we do infinite exploration."
   ]
  },
  {
   "cell_type": "markdown",
   "metadata": {},
   "source": [
    "## Markov Decision Process"
   ]
  },
  {
   "cell_type": "markdown",
   "metadata": {},
   "source": [
    "Markov Decision Process (MDP) provides a mathematical framework for modeling decision-making. It is a discrete time (distinct points in time) stochastic (randomly determined) process.\n",
    "\n",
    "MDPs are made up of 4 parts:  \n",
    "S: Finite set of states (Ex: s<sub>1</sub>, s<sub>2</sub> ... s<sub>N</sub>)  \n",
    "A: Finite set of actions (Ex: North, South, East, West)  \n",
    "P<sub>a</sub>(s,s'): Probability that action *a* in state *s* at time *t* will lead to state *s'* at time *t + 1*  \n",
    "R<sub>a</sub>(s,s'): Immediate reward received after moving from state *s* to state *s'* by action *a*\n",
    "\n",
    "An agent acts in an MDP at time *t*, by taking certain action *a* in state *s*, going to state *s'*, and getting a reward *r* from the world. It then repeats the process for certain no. of times, either finite or infinite.\n",
    "\n",
    "We also include a $5^{th}$ part in the description of an MDP called Gamma $\\gamma$.  \n",
    "$\\gamma$: The discount factor between 0 (inclusive) and 1 (exclusive). This determines how much credit you want to give to the future. If you think that the future reward is as important as the current reward you would set this to 0.99999. If you don't care about the future rewards you would set this to 0 and you only care about the current reward. For example, if your discount factor is 0.8 and after 5 steps you get a reward of 4 the present value of that reward is $0.8^4 * 5$ or ~2.\n",
    "\n",
    "An MDP is a collection of states such that each state has a selection of actions associated with them. With each state-action pair comes a reward *r* (can be 0). Define a policy function: $\\pi: s \\rightarrow a$, which tells which action to take at each state.\n",
    "  \n",
    "We now use the famous dynamic programming equation, also known as Bellman Equation, to define optimality in an MDP. The following equation defines what we call the **value function** of state *s* following some fixed policy $\\pi$:  \n",
    "\n",
    "$$V^\\pi(s) = \\sum_{s'} P_{\\pi(s)}(s,s') [R_{\\pi(s)}(s,s') + \\gamma V^\\pi(s')]$$\n",
    "\n",
    "We call $V^\\pi$ as the value of policy $\\pi$.  \n",
    "  \n",
    "Now, to find the **optimal** policy you will need to find the action that gives the highest reward.  \n",
    "\n",
    "$$V^*(s) = max_a \\sum_{s'} P_a(s,s') [R_a(s,s') + \\gamma V^*(s')]$$\n",
    "\n",
    "A real world example would be an inventory control system. Your states would be the amount of items you have in stock. Your actions would be the amount to order. The discrete time would be the days of the month. The reward would be the profit.  \n",
    "\n",
    "A major drawback of MDPs is called the \"Curse of Dimensionality\". This states that the more states/actions you have the more computational difficult it is to solve.   \n"
   ]
  },
  {
   "cell_type": "markdown",
   "metadata": {},
   "source": [
    "## Question 1 (2 points)"
   ]
  },
  {
   "cell_type": "markdown",
   "metadata": {},
   "source": [
    "For the first question of the notebook, we give a quick example of an MDP. We would to see if you can put the definitions above into practice.\n",
    "\n",
    "**Question a**: Given the following deterministic MDP (you select North, you move North), what is the optimal policy (path with the most points)?\n",
    "  \n",
    "*Notes*:  \n",
    "  * The number in the box is the reward.  \n",
    "  * Once you hit the end you are done. (Absorbing state)\n",
    "  * S is the starting point.  \n",
    "  * F is the ending point.  \n",
    "  * Use N for North, E for East, S for South, and W for West. Not all actions are available at each state, for example, you can't choose N and W at starting state, as there exists no valid next states in those directions.  \n",
    "  * Pass the directions as a single string. Ex: ESWN will make a circle.  \n",
    "  \n",
    "\n",
    "\n",
    "| | | |\n",
    "|----------|----------|---------|\n",
    "|S|1|1|\n",
    "|1 |0|1|  \n",
    "|-1|-1|0|  \n",
    "|0 |0|F|\n",
    "\n",
    "*Answer*: <br>\n",
    "SENESSS is the path with the most points, it scores 4 points."
   ]
  },
  {
   "cell_type": "markdown",
   "metadata": {},
   "source": [
    "Question b,c will attempt to firm up your knowledge of the parts of an MDP. Just remember that for a state denoted by (x,y), state N/E/S/W to that are (x,y-1),(x+1,y),(x,y+1),(x-1,y) respectively. We take (0,0) as the starting state S.\n",
    "\n",
    "**Question b:** What is the probability of going from state (1,0) to state (2,0) using action E ? ( i.e,  $P_E((1,0),(2,0))$ )<br>\n",
    "*Answer*:<br>\n",
    "$P_E((1,0),(2,0)) = 1$\n",
    "\n",
    "\n",
    "**Question c:** What is the reward for moving from state (1,0) to state (2,0) ? ( i.e, $R_E((1,0),(2,0))$ )<br>\n",
    "*Answer*:<br>\n",
    "$R_E((1,0),(2,0)) = 1$"
   ]
  },
  {
   "cell_type": "markdown",
   "metadata": {},
   "source": [
    "## Value Iteration"
   ]
  },
  {
   "cell_type": "markdown",
   "metadata": {},
   "source": [
    "The value iteration is one algorithm that can be used to find the optimal policy ($\\pi^*$). Note that for any policy $\\pi^*$ to be optimal, it must satisfy the Bellman equation for optimal value function $V^*$. For any candidate $V^*$, it must be such that plugging it in the RHS (right-hand-side) of Bellman equation should give the same $V^*$ again (by the recursive nature of this equation). This property will form the basis of our algorithm. Essentially, due to certain mathematical results, repeated application of RHS to any intial value function $V^0(s)$ will eventually lead to the value $V$ which statifies the Bellman equation. Hence repeated application of Bellman equation for optimal value function will also lead to optimal value function, we can then extract the optimal actions by simply noting the actions that satisfy the equation.    \n",
    "\n",
    "The value function is based on the Bellman Equation for optimal value, which we recall here:  \n",
    "$$V^*(s) = max_a \\sum_{s'} P_a(s,s') [R_a(s,s') + \\gamma V^*(s')]$$"
   ]
  },
  {
   "cell_type": "markdown",
   "metadata": {},
   "source": [
    "Example: Below is a 3x3 grid. We are going to walk through a few iterations to firm up your understanding. Lets assume this time that success of taking any action is 0.8. Meaning if we take E from a valid state (x,y), we will go (x+1,y) 0.8 percent of time, but remain in same state the remaining time. We will have a discount factor ($\\gamma$) of 0.9. Assume $V^0(s')=0$ for all s'. \n",
    "\n",
    "| | | |  \n",
    "|----------|----------|---------|  \n",
    "|0|0|0|\n",
    "|0|10|0|  \n",
    "|0|0|0|  \n",
    "\n",
    "\n",
    "**Iteration 1**: It is trivial, V(s) becomes the $max_a \\sum_{s'} P_a(s,s') R_a(s,s')$ since $V^0$ was zero for s'.\n",
    "\n",
    "| | | |  \n",
    "|----------|----------|---------|  \n",
    "|0|8|0|\n",
    "|8|2|8|  \n",
    "|0|8|0|  \n",
    "  \n",
    "**Iteration 2**:  \n",
    "  \n",
    "Staring with cell (0,0): We find the expected value of each move:  \n",
    "Action N: 0  \n",
    "Action E: 0.8( 0 + 0.9 \\* 8) + 0.2(0 + 0.9 \\* 0) = 5.76  \n",
    "Action S: 0.8( 0 + 0.9 \\* 8) + 0.2(0 + 0.9 \\* 0) = 5.76  \n",
    "Action W: 0\n",
    "\n",
    "Hence any action between E and S would have been best at this stage.\n",
    "\n",
    "Similarly for cell (1,0):\n",
    "\n",
    "Action S: 0.8( 10 + 0.9 \\* 2) + 0.2(0 + 0.9 \\* 8) = 10.88 (Action S is the maximizing action)  \n",
    "\n",
    "Similar calculations for remaining cells give us:\n",
    "\n",
    "| | | |  \n",
    "|----------|----------|---------|  \n",
    "|5.76|10.88|5.76|\n",
    "|10.88|8.12|10.88|  \n",
    "|5.76|10.88|5.76|  \n"
   ]
  },
  {
   "cell_type": "markdown",
   "metadata": {},
   "source": [
    "## Question 2 (4 points)\n",
    "Please code the value iteration algorithm just described here, and show the optimal value function of the above 3x3 grid problem at convergence."
   ]
  },
  {
   "cell_type": "code",
   "execution_count": null,
   "metadata": {},
   "outputs": [],
   "source": [
    "# Firstly, initialize the reawrd and value function\n",
    "import numpy as np\n",
    "r = np.array([[0,0,0],[0,10,0],[0,0,0]])\n",
    "v = np.array ([[0,0,0],[0,0,0],[0,0,0]])\n",
    "\n",
    "# Getting dimensions of the matrices in order to make code easier to read  \n",
    "dim = r.shape # The dinemsions of matrix r \n",
    "lastRow = dim[0]-1\n",
    "firstRow = (dim[0]-3)\n",
    "lastCol = dim[1]-1\n",
    "firstCol = (dim[1]-3)\n",
    "\n",
    "# Set up variables:\n",
    "success = 0.8 # Given in problem statement\n",
    "disc = 0.9 # Aka gamma    \n",
    "epsilon = 1"
   ]
  },
  {
   "cell_type": "code",
   "execution_count": null,
   "metadata": {},
   "outputs": [],
   "source": [
    "# Function for restarting the arrays to their origirnal values, if wanted\n",
    "def restartArrays():\n",
    "    global r \n",
    "    global v\n",
    "    r = np.array([[0,0,0],[0,10,0],[0,0,0]])\n",
    "    v = np.array ([[0,0,0],[0,0,0],[0,0,0]])"
   ]
  },
  {
   "cell_type": "code",
   "execution_count": null,
   "metadata": {},
   "outputs": [],
   "source": [
    "# Method for aquiring actions at each state, s = (x,y).\n",
    "# Returns a list of possible actions by removing those actions which are not possisble.\n",
    "# In other words, we are assuming that it is possible to go N/S/W/E for each s = (x,y) until proven wrong\n",
    "def getActions(x,y):\n",
    "    \n",
    "    # Initialization \n",
    "    N = (x-1,y,'N')\n",
    "    S = (x+1,y,'S')\n",
    "    E = (x,y+1,'E')\n",
    "    W = (x,y-1,'W')\n",
    "\n",
    "    # List of possible actions. Assume from the begginning that all directions are possible. \n",
    "    actions = [N,S,E,W] \n",
    "    \n",
    "    if x == lastRow: \n",
    "        actions.remove(S) # At last row, can't go dowm --> Remove S-action from actions\n",
    "    if x == firstRow:\n",
    "        actions.remove(N) # At first row, can't go up --> Remove N-action from actions\n",
    "    if y == lastCol: \n",
    "        actions.remove(E) # At last col, can't go right --> Remove E-action from actions\n",
    "    if y == firstCol:\n",
    "        actions.remove(W) # At first col, can't go left --> Remove W-action from actions\n",
    "    return actions    "
   ]
  },
  {
   "cell_type": "code",
   "execution_count": null,
   "metadata": {},
   "outputs": [],
   "source": [
    "import copy\n",
    "def valueIter(rew,val): # Takes in a reward and value matrix\n",
    "\n",
    "    copied_val = copy.copy(val) # Copies over the given matrix to a new variable \n",
    "    \n",
    "    # Index for np.arrays do not correspond to actual number of rows and columns when referencing, hence the additional +1\n",
    "    for x in range(lastRow+1):\n",
    "        for y in range(lastCol+1):\n",
    "\n",
    "            values = []  # Array which hold expected values\n",
    "            max_value = 0;\n",
    "            actions = getActions(x,y) # Get action state of current (x,y)\n",
    "            \n",
    "            # For each action...\n",
    "            for a in actions:\n",
    "                \n",
    "                current_reward = rew[a[0],a[1]]\n",
    "                new_value = copied_val[a[0],a[1]]\n",
    "                \n",
    "                old_reward = rew[x,y]\n",
    "                old_value = copied_val[x,y]\n",
    "                \n",
    "                # calculate the expected value and...\n",
    "                exp = success*(current_reward + disc*new_value)+ (1-success)*(old_reward + disc*old_value)\n",
    "                values.append(exp)\n",
    "        \n",
    "            # get the maximun of the expected values and...\n",
    "            max_value = round(max(values),2)\n",
    "            \n",
    "            # update the value matrix with the maximun value.\n",
    "            val[x,y] = (max_value)\n",
    "    \n",
    "    # Once having looped through the entire matrix, check if the absolute difference between \n",
    "    # the updated value matrix and the copy is greater or equal to epsilon. If not, script is finished and the resulting\n",
    "    # value function is returned. \n",
    "    for x in range(lastRow+1):\n",
    "        for y in range(lastCol+1):\n",
    "            if (abs(copied_val[x,y] - val[x,y]) >= epsilon):\n",
    "                valueIter(rew, val)\n",
    "                return val\n",
    "    print('Value function at convergence: ')\n",
    "    return val"
   ]
  },
  {
   "cell_type": "code",
   "execution_count": null,
   "metadata": {},
   "outputs": [],
   "source": [
    "restartArrays()"
   ]
  },
  {
   "cell_type": "code",
   "execution_count": null,
   "metadata": {},
   "outputs": [],
   "source": [
    "valueIter(r,v)"
   ]
  },
  {
   "cell_type": "markdown",
   "metadata": {},
   "source": [
    "## Reinforcement Learning (RL)\n",
    "Until now, we understood that knowing the MDP, specifically $P_a(s,s')$ and $R_a(s,s')$ allows us to efficiently find the optimal policy using value iteration algorithm, but RL or decision making under uncertainity arises from the question of making optimal decisions without knowing the true world model (MDP in this case).\n",
    "\n",
    "So far we have defined the value of a state $V^\\pi$, let us define the value of an action, $Q^\\pi$:\n",
    "\n",
    "$$Q^\\pi(s,a) = \\sum_{s'} P_a(s,s') [R_a(s,s') + \\gamma V^\\pi(s')]$$\n",
    "\n",
    "i.e, the value of taking action *a* from state *s* and then following $\\pi$ onwards. Similarly, the optimal Q-value equation is:\n",
    "\n",
    "$$Q^*(s,a) = \\sum_{s'} P_a(s,s') [R_a(s,s') + \\gamma V^*(s')]$$\n",
    "\n",
    "## Q-learning\n",
    "\n",
    "Q-learning algorithm can be used by an agent unaware of its surroundings (unknown MDP). All it can do is take an action *a* at time *t* from state *s* and observe the reward *r* and next state *s'*, and repeat this process again. So how it can learn to act optimally under such uninformative conditions ? Answer is using Q-learning. Without going into its justification, we simply state the main-update rule of this algorithm below:\n",
    "\n",
    "![alt text](https://chalmersuniversity.box.com/shared/static/5anbos4s9luoayb32jk6w3wy3w4jk3g3.png)\n",
    "\n",
    "Where we simply maintain Q(s,a) value for each state-action pair in a table. It is proven to converge to the optimal policy of the underlying unknown MDP for certain values of learning rate $\\alpha$. For our case, we set a constant $\\alpha=0.1$.\n",
    "\n",
    "## OpenAI Gym\n",
    "\n",
    "We shall use already available simulators for different environments (world) using the popular OpenAI Gym library. It just implements [differnt types of simulators](https://gym.openai.com/) including ATARI games. Although here we will only focus on simple ones, such as [Chain enviroment](https://gym.openai.com/envs/NChain-v0/).\n",
    "![alt text](https://chalmersuniversity.box.com/shared/static/6tthbzhpofq9gzlowhr3w8if0xvyxb2b.jpg)\n",
    "\n",
    "## Question 3 (1 point)\n",
    "Basically, there are 5 states, and two actions 'a' and 'b'. Each transition (s,a,s') is noted with its corresponding reward. You are to first familiarize with the framework using its [documentation](http://gym.openai.com/docs/), and then implement the Q-learning algorithm for the Chain enviroment (called 'NChain-v0') using default parameters. Finally print the $Q^*$ table at convergence. Take $\\gamma=0.95$. You can refer to the Q-learning Jupyter notebook shown in class, uploaded on Canvas."
   ]
  },
  {
   "cell_type": "code",
   "execution_count": 47,
   "metadata": {},
   "outputs": [
    {
     "name": "stderr",
     "output_type": "stream",
     "text": [
      "\n"
     ]
    },
    {
     "ename": "ModuleNotFoundError",
     "evalue": "No module named 'gym_toytext'",
     "output_type": "error",
     "traceback": [
      "\u001b[1;31m---------------------------------------------------------------------------\u001b[0m",
      "\u001b[1;31mModuleNotFoundError\u001b[0m                       Traceback (most recent call last)",
      "\u001b[1;32m~\\AppData\\Local\\Temp/ipykernel_45540/57272848.py\u001b[0m in \u001b[0;36m<module>\u001b[1;34m\u001b[0m\n\u001b[0;32m      1\u001b[0m \u001b[1;32mimport\u001b[0m \u001b[0mgym\u001b[0m\u001b[1;33m\u001b[0m\u001b[1;33m\u001b[0m\u001b[0m\n\u001b[1;32m----> 2\u001b[1;33m \u001b[1;32mimport\u001b[0m \u001b[0mgym_toytext\u001b[0m\u001b[1;33m\u001b[0m\u001b[1;33m\u001b[0m\u001b[0m\n\u001b[0m\u001b[0;32m      3\u001b[0m \u001b[1;32mimport\u001b[0m \u001b[0mnumpy\u001b[0m \u001b[1;32mas\u001b[0m \u001b[0mnp\u001b[0m\u001b[1;33m\u001b[0m\u001b[1;33m\u001b[0m\u001b[0m\n\u001b[0;32m      4\u001b[0m \u001b[1;32mimport\u001b[0m \u001b[0mrandom\u001b[0m\u001b[1;33m\u001b[0m\u001b[1;33m\u001b[0m\u001b[0m\n\u001b[0;32m      5\u001b[0m \u001b[1;32mimport\u001b[0m \u001b[0mmath\u001b[0m\u001b[1;33m\u001b[0m\u001b[1;33m\u001b[0m\u001b[0m\n",
      "\u001b[1;31mModuleNotFoundError\u001b[0m: No module named 'gym_toytext'"
     ]
    }
   ],
   "source": [
    "import gym\n",
    "import gym_toytext\n",
    "import numpy as np\n",
    "import random\n",
    "import math\n",
    "\n",
    "env = gym.make('NChain-v0')\n",
    "\n",
    "num_episodes = 150 # what value should be in there?? 15000\n",
    "gamma = 0.95 \n",
    "learning_rate = 0.5\n",
    "epsilon = 0.1 \n",
    "\n",
    "# initialize the Q table\n",
    "actionNB = env.action_space.n # number of actions\n",
    "stateNB = env.observation_space.n # number of states\n",
    "Q = np.zeros((stateNB, actionNB))\n",
    "\n",
    "for _ in range(num_episodes):\n",
    "    state = env.reset()\n",
    "    done = False\n",
    "    while done == False:\n",
    "        # First we select an action:\n",
    "        if random.uniform(0, 1) < epsilon: # Flip a skewed coin\n",
    "            action = env.action_space.sample() # Explore action space\n",
    "        else:\n",
    "            action = np.argmax(Q[state,:]) # Exploit learned values\n",
    "        # Then we perform the action and receive the feedback from the environment\n",
    "        new_state, reward, done, info = env.step(action)\n",
    "        # Finally we learn from the experience by updating the Q-value of the selected action\n",
    "        update = reward + (gamma*np.max(Q[new_state,:])) - Q[state, action]\n",
    "        Q[state,action] += learning_rate*update \n",
    "        state = new_state\n",
    "print('𝑄∗ table at convergence:\\n', Q)"
   ]
  },
  {
   "cell_type": "markdown",
   "metadata": {},
   "source": [
    "## Question 4 (2 points)\n",
    "\n",
    "a. Verify that the optimal $Q^*$ value obtained using Q-learning is same as the optimal value function $V^*$ for the corresponding MDP's optimal action. You would have to first define the MDP corresponding to Chain enviroment.<br>\n",
    "Recall the value function:  \n",
    "$$V^*(s) = max_a \\sum_{s'} P_a(s,s') [R_a(s,s') + \\gamma V^*(s')]$$"
   ]
  },
  {
   "cell_type": "code",
   "execution_count": 97,
   "metadata": {},
   "outputs": [],
   "source": [
    "import numpy as np\n",
    "# Start with initialize the state space \n",
    "state_space = [1,2,3,4,5] # Works as coordinates \n",
    "action_space = [0,1] # Where 0 = backwards and 1 = forward\n",
    "\n",
    "p = 0.8 # Transition probability / Success rate\n",
    "q = (1-p)\n",
    "\n",
    "ga = 0.9 # Gamma\n",
    "ep = 1 # Epsilon"
   ]
  },
  {
   "cell_type": "code",
   "execution_count": 98,
   "metadata": {},
   "outputs": [],
   "source": [
    "def getRewardSpace(state):\n",
    "    # Initialization \n",
    "\n",
    "    # List of possible actions. Assume from the begginning that all directions are possible. \n",
    "    rewards = [2,0,10] \n",
    "    \n",
    "    if state == 0:\n",
    "        rewards.remove(10)\n",
    "    elif state == 4:\n",
    "        rewards.remove(0)\n",
    "    else:\n",
    "        rewards = [2,0]\n",
    "        \n",
    "    return rewards    "
   ]
  },
  {
   "cell_type": "code",
   "execution_count": 119,
   "metadata": {},
   "outputs": [],
   "source": [
    "import copy\n",
    "k = 1\n",
    "def valueIteration(R,V):\n",
    "    v = copy.copy(V)\n",
    "    \n",
    "    # Loop through each state\n",
    "    for state in range(0,len(state_space)): # 0,1,2,3,4 where 4 = last state\n",
    "        \n",
    "        values = []  # Array which hold expected values\n",
    "        max_value = 0\n",
    "        reward_space = getRewardSpace(state) # Gets the possile rewards for the current state\n",
    "\n",
    "        # Loop through each action. Always 0 and 1\n",
    "        for a in action_space: # First 0 then 1\n",
    "            \n",
    "            if a == 0: # Left movement, back to start\n",
    "                r_new = reward_space[0] # Will either be 2 or 0 depending on state\n",
    "                v_new = v[0]\n",
    "                \n",
    "            else: # Right movement\n",
    "                r_new = reward_space[1] # Will either be 0 or 10 depending on state\n",
    "                \n",
    "                if state == 4: # Last state\n",
    "                    v_new = v[4] # Makes sure that we don't get out of bounds error\n",
    "                else:\n",
    "                    v_new = v[state+1]\n",
    "            \n",
    "            r_curr = R[state] # Always the same\n",
    "            v_curr = v[state] # Always the same\n",
    "\n",
    "            #print('Action: ' + str(a) + ' for state: ' + str(state))\n",
    "            #print('new_reward: '+ str(r_new) +' new_value: '+ str(v_new) +' old_reward: '+ str(r_curr) +' old_value: '+ str(v_curr))\n",
    "            \n",
    "            exp = p*(r_new + ga*v_new)+ q*(r_curr + ga*v_curr)\n",
    "            values.append(exp)\n",
    "\n",
    "        max_value = max(values)\n",
    "        V[state] = round(max_value,2) \n",
    "    \n",
    "    for s in range(0,len(state_space)):\n",
    "        global k\n",
    "        if (abs(v[state] - V[state]) >= ep):\n",
    "            print('Iteration ' + str(k) +' : ' + str(V))\n",
    "            k = k+1\n",
    "            valueIteration(R, V)\n",
    "            return V\n",
    "            \n",
    "    print(\"Optimal value function: \", V)"
   ]
  },
  {
   "cell_type": "code",
   "execution_count": 120,
   "metadata": {},
   "outputs": [
    {
     "name": "stdout",
     "output_type": "stream",
     "text": [
      "Iteration 1 : [2.0, 1.6, 1.6, 1.6, 10.0]\n",
      "Iteration 2 : [3.8, 3.33, 3.33, 7.49, 19.0]\n",
      "Iteration 3 : [5.42, 4.94, 5.99, 15.03, 27.1]\n",
      "Iteration 4 : [6.88, 6.39, 11.9, 22.22, 34.39]\n",
      "Iteration 5 : [8.19, 9.72, 18.14, 28.76, 40.95]\n",
      "Iteration 6 : [9.37, 14.81, 23.97, 34.66, 46.86]\n",
      "Iteration 7 : [12.75, 19.92, 29.27, 39.98, 52.17]\n",
      "Iteration 8 : [17.04, 24.66, 34.05, 44.76, 56.95]\n",
      "Iteration 9 : [21.22, 28.95, 38.36, 49.06, 61.26]\n",
      "Iteration 10 : [25.06, 32.83, 42.23, 52.94, 65.13]\n",
      "Iteration 11 : [28.55, 36.31, 45.72, 56.42, 68.62]\n",
      "Iteration 12 : [31.68, 39.45, 48.85, 59.56, 71.76]\n",
      "Iteration 13 : [34.51, 42.27, 51.68, 62.39, 74.58]\n",
      "Iteration 14 : [37.05, 44.82, 54.22, 64.93, 77.12]\n",
      "Iteration 15 : [39.34, 47.11, 56.51, 67.21, 79.41]\n",
      "Iteration 16 : [41.4, 49.17, 58.56, 69.27, 81.47]\n",
      "Iteration 17 : [43.25, 51.01, 60.42, 71.13, 83.32]\n",
      "Iteration 18 : [44.91, 52.68, 62.09, 72.79, 84.99]\n",
      "Iteration 19 : [46.41, 54.19, 63.59, 74.3, 86.49]\n",
      "Iteration 20 : [47.77, 55.54, 64.94, 75.65, 87.84]\n",
      "Iteration 21 : [48.99, 56.75, 66.16, 76.86, 89.06]\n",
      "Iteration 22 : [50.08, 57.85, 67.25, 77.96, 90.15]\n",
      "Optimal value function:  [51.07, 58.83, 68.24, 78.94, 91.13]\n"
     ]
    }
   ],
   "source": [
    "# Initialize the reward and value functions\n",
    "R = [2, 0, 0, 0, 10] # Reward function\n",
    "V = [0, 0, 0, 0, 0] # Initial value function\n",
    "\n",
    "opt_valfunc = valueIteration(R,V)"
   ]
  },
  {
   "cell_type": "markdown",
   "metadata": {},
   "source": [
    "b. What is the importance of exploration in RL ? Explain with an example."
   ]
  },
  {
   "cell_type": "markdown",
   "metadata": {},
   "source": [
    "## Question 5 (1 point)\n",
    "\n",
    "Briefly discuss the k-armed bandit problem formulation and it's distinguishing feature as a special case of the reinforcement learning problem formulation."
   ]
  },
  {
   "cell_type": "markdown",
   "metadata": {},
   "source": [
    "The k-armed bandit problem, also known as the multi-armed bandit (CMAB) problem, deals with scenarios where actions have to take place in an environment without knowledge about the specifics behind the risks and predicted rewards. In other words, it can be applied to aspects where there is a dilemma between exploration vs exploitation - is it worth taking the risk or will the action of not exploring it be of greater loss? We thus have three main components of the CMAP problem - the current and only state, possible actions at that state and the corresponding reward of that action. What stands out with this MDP is the fact that it only involves one state. It can in other words be defined as a stateless MDP. As a result of not having any states, the rewards are only dependent on action taken, meaning that we are not taking into consideration the previous action taken and hence, the reward of one action does not affect the reward of a future action as the reward distributions are fixed for each bandit. That is why the k-armed bandit problem is considered a special case of reinforcement learning (RL) problem, as opposed to the general problem formulations of RL problems where finite MDPs are dealt with."
   ]
  },
  {
   "cell_type": "markdown",
   "metadata": {},
   "source": [
    "## Note\n",
    "\n",
    "* Until now, we have described algorithms for when no. of states and actions are finite. In coming weeks, you will be taught how to extend these methods to continous state enviroments like ATARI games.\n",
    "\n",
    "# References\n",
    "Primer/text based on the following references:\n",
    "* http://www.cse.chalmers.se/~chrdimi/downloads/book.pdf\n",
    "* https://github.com/olethrosdc/ml-society-science/blob/master/notes.pdf"
   ]
  },
  {
   "cell_type": "code",
   "execution_count": null,
   "metadata": {},
   "outputs": [],
   "source": []
  }
 ],
 "metadata": {
  "kernelspec": {
   "display_name": "Python 3 (ipykernel)",
   "language": "python",
   "name": "python3"
  },
  "language_info": {
   "codemirror_mode": {
    "name": "ipython",
    "version": 3
   },
   "file_extension": ".py",
   "mimetype": "text/x-python",
   "name": "python",
   "nbconvert_exporter": "python",
   "pygments_lexer": "ipython3",
   "version": "3.9.7"
  }
 },
 "nbformat": 4,
 "nbformat_minor": 2
}
