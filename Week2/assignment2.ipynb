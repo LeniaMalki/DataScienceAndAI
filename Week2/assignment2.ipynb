{
 "cells": [
  {
   "cell_type": "markdown",
   "metadata": {},
   "source": [
    "## DAT405 Introduction to Data Science and AI\n",
    "# Assignment 2: Regression and classification\n",
    "\n",
    "Student name | Hours spent on the tasks\n",
    "------------ | -------------\n",
    "Lenia Malki | 6\n",
    "Maële Belmont | 6\n",
    "\n"
   ]
  },
  {
   "cell_type": "markdown",
   "metadata": {},
   "source": [
    "## Setup\n",
    "Python modules need to be loaded to solve the tasks."
   ]
  },
  {
   "cell_type": "code",
   "execution_count": 1,
   "metadata": {},
   "outputs": [],
   "source": [
    "import numpy as np\n",
    "import matplotlib.pyplot as plt\n",
    "import pandas as pd\n",
    "import plotly.express as px\n",
    "from sklearn import linear_model\n",
    "from sklearn.linear_model import LinearRegression\n",
    "from sklearn.linear_model import LogisticRegression\n",
    "from sklearn.linear_model import Ridge\n",
    "from PIL import Image\n",
    "from sklearn import datasets\n",
    "from sklearn.model_selection import train_test_split\n",
    "from sklearn.neighbors import KNeighborsClassifier\n",
    "from sklearn import metrics\n",
    "from sklearn.metrics import confusion_matrix"
   ]
  },
  {
   "cell_type": "markdown",
   "metadata": {},
   "source": [
    "## Task 1\n",
    "#### The following [web page](https://www.hemnet.se/salda/bostader?location_ids%5B%5D=940808&item_types%5B%5D=villa&sold_age=6m) lists the selling prices of villas in Landvetter that were sold in the past 6 months. Find a linear regression model that relates the living area to the selling price. (You may transcribe the values from the web page into your program or into a data file by hand, or you can write a program to do this, but don’t spend too much time doing this because “web scraping” is not the main objective of this assignment!)"
   ]
  },
  {
   "cell_type": "code",
   "execution_count": 20,
   "metadata": {},
   "outputs": [
    {
     "name": "stdout",
     "output_type": "stream",
     "text": [
      "Figure 1:\n"
     ]
    },
    {
     "data": {
      "application/vnd.plotly.v1+json": {
       "config": {
        "plotlyServerURL": "https://plot.ly"
       },
       "data": [
        {
         "customdata": [
          [
           "Backatorpsvägen 6"
          ],
          [
           "Berghemsvägen 9"
          ],
          [
           "Blåklockevägen 136"
          ],
          [
           "Blåklockevägen 141"
          ],
          [
           "Borgåsvägen 12"
          ],
          [
           "Borgåsvägen 41"
          ],
          [
           "Brunnbergsvägen 10"
          ],
          [
           "Byvägen 35"
          ],
          [
           "Bårekulla sjöväg 22"
          ],
          [
           "Doppingvägen 18"
          ],
          [
           "Dörravägen 5"
          ],
          [
           "Ekvägen 3"
          ],
          [
           "Furuhöjdsvägen 3"
          ],
          [
           "Furuhöjdsvägen 6"
          ],
          [
           "Furuvägen 16"
          ],
          [
           "Hallonvägen 15"
          ],
          [
           "Hjortronvägen 7"
          ],
          [
           "Härkeshultsvägen 22"
          ],
          [
           "Högåsvägen 21"
          ],
          [
           "Junibacken 12"
          ],
          [
           "Lisebergsvägen 40"
          ],
          [
           "Milstensvägen 8"
          ],
          [
           "Myrvägen 8"
          ],
          [
           "Nytorpsvägen 22"
          ],
          [
           "Prästängsvägen 30"
          ],
          [
           "Solvägen 18"
          ],
          [
           "Sprängbäcksvägen 11"
          ],
          [
           "Södra Stommen 80"
          ],
          [
           "Timmervägen 55"
          ],
          [
           "Trollbackevägen 10"
          ],
          [
           "Uppegårdsvägen 49"
          ],
          [
           "Uppegårdsvägen 53"
          ],
          [
           "Vibergsvägen 3"
          ],
          [
           "Vitsippevägen 4"
          ],
          [
           "Västergårdsvägen 13"
          ]
         ],
         "hovertemplate": "Living area (m2)=%{x}<br>Price (kr)=%{y}<br>Adress=%{customdata[0]}<extra></extra>",
         "legendgroup": "",
         "marker": {
          "color": "#636efa",
          "symbol": "circle"
         },
         "mode": "markers",
         "name": "",
         "orientation": "v",
         "showlegend": false,
         "type": "scatter",
         "x": [
          145,
          144,
          105,
          194,
          240,
          262,
          150,
          152,
          80,
          188,
          160,
          146,
          243,
          262,
          90,
          164,
          120,
          187,
          219,
          153,
          210,
          218,
          75,
          140,
          192,
          65,
          84,
          108,
          120,
          180,
          152,
          120,
          122,
          140,
          230
         ],
         "xaxis": "x",
         "y": [
          7700000,
          5850000,
          5300000,
          7250000,
          6900000,
          8600000,
          7700000,
          7550000,
          1900000,
          7100000,
          4895000,
          4900000,
          6450000,
          7850000,
          4600000,
          6800000,
          5350000,
          6120000,
          10300000,
          3400000,
          7800000,
          6550000,
          3625000,
          6330000,
          5900000,
          3400000,
          4900000,
          4050000,
          6000000,
          5000000,
          4050000,
          6080000,
          4597000,
          6700000,
          7300000
         ],
         "yaxis": "y"
        },
        {
         "hovertemplate": "<b>OLS trendline</b><br>Price (kr) = 22477.8 * Living area (m2) + 2.39487e+06<br>R<sup>2</sup>=0.501607<br><br>Living area (m2)=%{x}<br>Price (kr)=%{y} <b>(trend)</b><extra></extra>",
         "legendgroup": "Overall Trendline",
         "line": {
          "color": "black"
         },
         "mode": "lines",
         "name": "Overall Trendline",
         "showlegend": true,
         "type": "scatter",
         "x": [
          65,
          75,
          80,
          84,
          90,
          105,
          108,
          120,
          120,
          120,
          122,
          140,
          140,
          144,
          145,
          146,
          150,
          152,
          152,
          153,
          160,
          164,
          180,
          187,
          188,
          192,
          194,
          210,
          218,
          219,
          230,
          240,
          243,
          262,
          262
         ],
         "xaxis": "x",
         "y": [
          3855925.8362443396,
          4080703.9054420507,
          4193092.940040906,
          4283004.16771999,
          4417871.0092386175,
          4755038.113035183,
          4822471.533794496,
          5092205.216831749,
          5092205.216831749,
          5092205.216831749,
          5137160.830671292,
          5541761.355227171,
          5541761.355227171,
          5631672.5829062555,
          5654150.389826027,
          5676628.196745798,
          5766539.424424883,
          5811495.038264425,
          5811495.038264425,
          5833972.845184196,
          5991317.493622594,
          6081228.721301678,
          6440873.632018015,
          6598218.280456413,
          6620696.087376183,
          6710607.315055268,
          6755562.92889481,
          7115207.839611148,
          7295030.294969317,
          7317508.101889087,
          7564763.97800657,
          7789542.04720428,
          7856975.467963593,
          8284053.799439244,
          8284053.799439244
         ],
         "yaxis": "y"
        }
       ],
       "layout": {
        "legend": {
         "tracegroupgap": 0
        },
        "template": {
         "data": {
          "bar": [
           {
            "error_x": {
             "color": "#2a3f5f"
            },
            "error_y": {
             "color": "#2a3f5f"
            },
            "marker": {
             "line": {
              "color": "#E5ECF6",
              "width": 0.5
             },
             "pattern": {
              "fillmode": "overlay",
              "size": 10,
              "solidity": 0.2
             }
            },
            "type": "bar"
           }
          ],
          "barpolar": [
           {
            "marker": {
             "line": {
              "color": "#E5ECF6",
              "width": 0.5
             },
             "pattern": {
              "fillmode": "overlay",
              "size": 10,
              "solidity": 0.2
             }
            },
            "type": "barpolar"
           }
          ],
          "carpet": [
           {
            "aaxis": {
             "endlinecolor": "#2a3f5f",
             "gridcolor": "white",
             "linecolor": "white",
             "minorgridcolor": "white",
             "startlinecolor": "#2a3f5f"
            },
            "baxis": {
             "endlinecolor": "#2a3f5f",
             "gridcolor": "white",
             "linecolor": "white",
             "minorgridcolor": "white",
             "startlinecolor": "#2a3f5f"
            },
            "type": "carpet"
           }
          ],
          "choropleth": [
           {
            "colorbar": {
             "outlinewidth": 0,
             "ticks": ""
            },
            "type": "choropleth"
           }
          ],
          "contour": [
           {
            "colorbar": {
             "outlinewidth": 0,
             "ticks": ""
            },
            "colorscale": [
             [
              0,
              "#0d0887"
             ],
             [
              0.1111111111111111,
              "#46039f"
             ],
             [
              0.2222222222222222,
              "#7201a8"
             ],
             [
              0.3333333333333333,
              "#9c179e"
             ],
             [
              0.4444444444444444,
              "#bd3786"
             ],
             [
              0.5555555555555556,
              "#d8576b"
             ],
             [
              0.6666666666666666,
              "#ed7953"
             ],
             [
              0.7777777777777778,
              "#fb9f3a"
             ],
             [
              0.8888888888888888,
              "#fdca26"
             ],
             [
              1,
              "#f0f921"
             ]
            ],
            "type": "contour"
           }
          ],
          "contourcarpet": [
           {
            "colorbar": {
             "outlinewidth": 0,
             "ticks": ""
            },
            "type": "contourcarpet"
           }
          ],
          "heatmap": [
           {
            "colorbar": {
             "outlinewidth": 0,
             "ticks": ""
            },
            "colorscale": [
             [
              0,
              "#0d0887"
             ],
             [
              0.1111111111111111,
              "#46039f"
             ],
             [
              0.2222222222222222,
              "#7201a8"
             ],
             [
              0.3333333333333333,
              "#9c179e"
             ],
             [
              0.4444444444444444,
              "#bd3786"
             ],
             [
              0.5555555555555556,
              "#d8576b"
             ],
             [
              0.6666666666666666,
              "#ed7953"
             ],
             [
              0.7777777777777778,
              "#fb9f3a"
             ],
             [
              0.8888888888888888,
              "#fdca26"
             ],
             [
              1,
              "#f0f921"
             ]
            ],
            "type": "heatmap"
           }
          ],
          "heatmapgl": [
           {
            "colorbar": {
             "outlinewidth": 0,
             "ticks": ""
            },
            "colorscale": [
             [
              0,
              "#0d0887"
             ],
             [
              0.1111111111111111,
              "#46039f"
             ],
             [
              0.2222222222222222,
              "#7201a8"
             ],
             [
              0.3333333333333333,
              "#9c179e"
             ],
             [
              0.4444444444444444,
              "#bd3786"
             ],
             [
              0.5555555555555556,
              "#d8576b"
             ],
             [
              0.6666666666666666,
              "#ed7953"
             ],
             [
              0.7777777777777778,
              "#fb9f3a"
             ],
             [
              0.8888888888888888,
              "#fdca26"
             ],
             [
              1,
              "#f0f921"
             ]
            ],
            "type": "heatmapgl"
           }
          ],
          "histogram": [
           {
            "marker": {
             "pattern": {
              "fillmode": "overlay",
              "size": 10,
              "solidity": 0.2
             }
            },
            "type": "histogram"
           }
          ],
          "histogram2d": [
           {
            "colorbar": {
             "outlinewidth": 0,
             "ticks": ""
            },
            "colorscale": [
             [
              0,
              "#0d0887"
             ],
             [
              0.1111111111111111,
              "#46039f"
             ],
             [
              0.2222222222222222,
              "#7201a8"
             ],
             [
              0.3333333333333333,
              "#9c179e"
             ],
             [
              0.4444444444444444,
              "#bd3786"
             ],
             [
              0.5555555555555556,
              "#d8576b"
             ],
             [
              0.6666666666666666,
              "#ed7953"
             ],
             [
              0.7777777777777778,
              "#fb9f3a"
             ],
             [
              0.8888888888888888,
              "#fdca26"
             ],
             [
              1,
              "#f0f921"
             ]
            ],
            "type": "histogram2d"
           }
          ],
          "histogram2dcontour": [
           {
            "colorbar": {
             "outlinewidth": 0,
             "ticks": ""
            },
            "colorscale": [
             [
              0,
              "#0d0887"
             ],
             [
              0.1111111111111111,
              "#46039f"
             ],
             [
              0.2222222222222222,
              "#7201a8"
             ],
             [
              0.3333333333333333,
              "#9c179e"
             ],
             [
              0.4444444444444444,
              "#bd3786"
             ],
             [
              0.5555555555555556,
              "#d8576b"
             ],
             [
              0.6666666666666666,
              "#ed7953"
             ],
             [
              0.7777777777777778,
              "#fb9f3a"
             ],
             [
              0.8888888888888888,
              "#fdca26"
             ],
             [
              1,
              "#f0f921"
             ]
            ],
            "type": "histogram2dcontour"
           }
          ],
          "mesh3d": [
           {
            "colorbar": {
             "outlinewidth": 0,
             "ticks": ""
            },
            "type": "mesh3d"
           }
          ],
          "parcoords": [
           {
            "line": {
             "colorbar": {
              "outlinewidth": 0,
              "ticks": ""
             }
            },
            "type": "parcoords"
           }
          ],
          "pie": [
           {
            "automargin": true,
            "type": "pie"
           }
          ],
          "scatter": [
           {
            "marker": {
             "colorbar": {
              "outlinewidth": 0,
              "ticks": ""
             }
            },
            "type": "scatter"
           }
          ],
          "scatter3d": [
           {
            "line": {
             "colorbar": {
              "outlinewidth": 0,
              "ticks": ""
             }
            },
            "marker": {
             "colorbar": {
              "outlinewidth": 0,
              "ticks": ""
             }
            },
            "type": "scatter3d"
           }
          ],
          "scattercarpet": [
           {
            "marker": {
             "colorbar": {
              "outlinewidth": 0,
              "ticks": ""
             }
            },
            "type": "scattercarpet"
           }
          ],
          "scattergeo": [
           {
            "marker": {
             "colorbar": {
              "outlinewidth": 0,
              "ticks": ""
             }
            },
            "type": "scattergeo"
           }
          ],
          "scattergl": [
           {
            "marker": {
             "colorbar": {
              "outlinewidth": 0,
              "ticks": ""
             }
            },
            "type": "scattergl"
           }
          ],
          "scattermapbox": [
           {
            "marker": {
             "colorbar": {
              "outlinewidth": 0,
              "ticks": ""
             }
            },
            "type": "scattermapbox"
           }
          ],
          "scatterpolar": [
           {
            "marker": {
             "colorbar": {
              "outlinewidth": 0,
              "ticks": ""
             }
            },
            "type": "scatterpolar"
           }
          ],
          "scatterpolargl": [
           {
            "marker": {
             "colorbar": {
              "outlinewidth": 0,
              "ticks": ""
             }
            },
            "type": "scatterpolargl"
           }
          ],
          "scatterternary": [
           {
            "marker": {
             "colorbar": {
              "outlinewidth": 0,
              "ticks": ""
             }
            },
            "type": "scatterternary"
           }
          ],
          "surface": [
           {
            "colorbar": {
             "outlinewidth": 0,
             "ticks": ""
            },
            "colorscale": [
             [
              0,
              "#0d0887"
             ],
             [
              0.1111111111111111,
              "#46039f"
             ],
             [
              0.2222222222222222,
              "#7201a8"
             ],
             [
              0.3333333333333333,
              "#9c179e"
             ],
             [
              0.4444444444444444,
              "#bd3786"
             ],
             [
              0.5555555555555556,
              "#d8576b"
             ],
             [
              0.6666666666666666,
              "#ed7953"
             ],
             [
              0.7777777777777778,
              "#fb9f3a"
             ],
             [
              0.8888888888888888,
              "#fdca26"
             ],
             [
              1,
              "#f0f921"
             ]
            ],
            "type": "surface"
           }
          ],
          "table": [
           {
            "cells": {
             "fill": {
              "color": "#EBF0F8"
             },
             "line": {
              "color": "white"
             }
            },
            "header": {
             "fill": {
              "color": "#C8D4E3"
             },
             "line": {
              "color": "white"
             }
            },
            "type": "table"
           }
          ]
         },
         "layout": {
          "annotationdefaults": {
           "arrowcolor": "#2a3f5f",
           "arrowhead": 0,
           "arrowwidth": 1
          },
          "autotypenumbers": "strict",
          "coloraxis": {
           "colorbar": {
            "outlinewidth": 0,
            "ticks": ""
           }
          },
          "colorscale": {
           "diverging": [
            [
             0,
             "#8e0152"
            ],
            [
             0.1,
             "#c51b7d"
            ],
            [
             0.2,
             "#de77ae"
            ],
            [
             0.3,
             "#f1b6da"
            ],
            [
             0.4,
             "#fde0ef"
            ],
            [
             0.5,
             "#f7f7f7"
            ],
            [
             0.6,
             "#e6f5d0"
            ],
            [
             0.7,
             "#b8e186"
            ],
            [
             0.8,
             "#7fbc41"
            ],
            [
             0.9,
             "#4d9221"
            ],
            [
             1,
             "#276419"
            ]
           ],
           "sequential": [
            [
             0,
             "#0d0887"
            ],
            [
             0.1111111111111111,
             "#46039f"
            ],
            [
             0.2222222222222222,
             "#7201a8"
            ],
            [
             0.3333333333333333,
             "#9c179e"
            ],
            [
             0.4444444444444444,
             "#bd3786"
            ],
            [
             0.5555555555555556,
             "#d8576b"
            ],
            [
             0.6666666666666666,
             "#ed7953"
            ],
            [
             0.7777777777777778,
             "#fb9f3a"
            ],
            [
             0.8888888888888888,
             "#fdca26"
            ],
            [
             1,
             "#f0f921"
            ]
           ],
           "sequentialminus": [
            [
             0,
             "#0d0887"
            ],
            [
             0.1111111111111111,
             "#46039f"
            ],
            [
             0.2222222222222222,
             "#7201a8"
            ],
            [
             0.3333333333333333,
             "#9c179e"
            ],
            [
             0.4444444444444444,
             "#bd3786"
            ],
            [
             0.5555555555555556,
             "#d8576b"
            ],
            [
             0.6666666666666666,
             "#ed7953"
            ],
            [
             0.7777777777777778,
             "#fb9f3a"
            ],
            [
             0.8888888888888888,
             "#fdca26"
            ],
            [
             1,
             "#f0f921"
            ]
           ]
          },
          "colorway": [
           "#636efa",
           "#EF553B",
           "#00cc96",
           "#ab63fa",
           "#FFA15A",
           "#19d3f3",
           "#FF6692",
           "#B6E880",
           "#FF97FF",
           "#FECB52"
          ],
          "font": {
           "color": "#2a3f5f"
          },
          "geo": {
           "bgcolor": "white",
           "lakecolor": "white",
           "landcolor": "#E5ECF6",
           "showlakes": true,
           "showland": true,
           "subunitcolor": "white"
          },
          "hoverlabel": {
           "align": "left"
          },
          "hovermode": "closest",
          "mapbox": {
           "style": "light"
          },
          "paper_bgcolor": "white",
          "plot_bgcolor": "#E5ECF6",
          "polar": {
           "angularaxis": {
            "gridcolor": "white",
            "linecolor": "white",
            "ticks": ""
           },
           "bgcolor": "#E5ECF6",
           "radialaxis": {
            "gridcolor": "white",
            "linecolor": "white",
            "ticks": ""
           }
          },
          "scene": {
           "xaxis": {
            "backgroundcolor": "#E5ECF6",
            "gridcolor": "white",
            "gridwidth": 2,
            "linecolor": "white",
            "showbackground": true,
            "ticks": "",
            "zerolinecolor": "white"
           },
           "yaxis": {
            "backgroundcolor": "#E5ECF6",
            "gridcolor": "white",
            "gridwidth": 2,
            "linecolor": "white",
            "showbackground": true,
            "ticks": "",
            "zerolinecolor": "white"
           },
           "zaxis": {
            "backgroundcolor": "#E5ECF6",
            "gridcolor": "white",
            "gridwidth": 2,
            "linecolor": "white",
            "showbackground": true,
            "ticks": "",
            "zerolinecolor": "white"
           }
          },
          "shapedefaults": {
           "line": {
            "color": "#2a3f5f"
           }
          },
          "ternary": {
           "aaxis": {
            "gridcolor": "white",
            "linecolor": "white",
            "ticks": ""
           },
           "baxis": {
            "gridcolor": "white",
            "linecolor": "white",
            "ticks": ""
           },
           "bgcolor": "#E5ECF6",
           "caxis": {
            "gridcolor": "white",
            "linecolor": "white",
            "ticks": ""
           }
          },
          "title": {
           "x": 0.05
          },
          "xaxis": {
           "automargin": true,
           "gridcolor": "white",
           "linecolor": "white",
           "ticks": "",
           "title": {
            "standoff": 15
           },
           "zerolinecolor": "white",
           "zerolinewidth": 2
          },
          "yaxis": {
           "automargin": true,
           "gridcolor": "white",
           "linecolor": "white",
           "ticks": "",
           "title": {
            "standoff": 15
           },
           "zerolinecolor": "white",
           "zerolinewidth": 2
          }
         }
        },
        "title": {
         "text": "Price vs. living area in Landvetter"
        },
        "xaxis": {
         "anchor": "y",
         "domain": [
          0,
          1
         ],
         "title": {
          "text": "Living area (m2)"
         }
        },
        "yaxis": {
         "anchor": "x",
         "domain": [
          0,
          1
         ],
         "title": {
          "text": "Price (kr)"
         }
        }
       }
      },
      "text/html": [
       "<div>                            <div id=\"7cb8105f-cf52-4833-a257-6136b75e5d54\" class=\"plotly-graph-div\" style=\"height:525px; width:100%;\"></div>            <script type=\"text/javascript\">                require([\"plotly\"], function(Plotly) {                    window.PLOTLYENV=window.PLOTLYENV || {};                                    if (document.getElementById(\"7cb8105f-cf52-4833-a257-6136b75e5d54\")) {                    Plotly.newPlot(                        \"7cb8105f-cf52-4833-a257-6136b75e5d54\",                        [{\"customdata\":[[\"Backatorpsv\\u00e4gen 6\"],[\"Berghemsv\\u00e4gen 9\"],[\"Bl\\u00e5klockev\\u00e4gen 136\"],[\"Bl\\u00e5klockev\\u00e4gen 141\"],[\"Borg\\u00e5sv\\u00e4gen 12\"],[\"Borg\\u00e5sv\\u00e4gen 41\"],[\"Brunnbergsv\\u00e4gen 10\"],[\"Byv\\u00e4gen 35\"],[\"B\\u00e5rekulla sj\\u00f6v\\u00e4g 22\"],[\"Doppingv\\u00e4gen 18\"],[\"D\\u00f6rrav\\u00e4gen 5\"],[\"Ekv\\u00e4gen 3\"],[\"Furuh\\u00f6jdsv\\u00e4gen 3\"],[\"Furuh\\u00f6jdsv\\u00e4gen 6\"],[\"Furuv\\u00e4gen 16\"],[\"Hallonv\\u00e4gen 15\"],[\"Hjortronv\\u00e4gen 7\"],[\"H\\u00e4rkeshultsv\\u00e4gen 22\"],[\"H\\u00f6g\\u00e5sv\\u00e4gen 21\"],[\"Junibacken 12\"],[\"Lisebergsv\\u00e4gen 40\"],[\"Milstensv\\u00e4gen 8\"],[\"Myrv\\u00e4gen 8\"],[\"Nytorpsv\\u00e4gen 22\"],[\"Pr\\u00e4st\\u00e4ngsv\\u00e4gen 30\"],[\"Solv\\u00e4gen 18\"],[\"Spr\\u00e4ngb\\u00e4cksv\\u00e4gen 11\"],[\"S\\u00f6dra Stommen 80\"],[\"Timmerv\\u00e4gen 55\"],[\"Trollbackev\\u00e4gen 10\"],[\"Uppeg\\u00e5rdsv\\u00e4gen 49\"],[\"Uppeg\\u00e5rdsv\\u00e4gen 53\"],[\"Vibergsv\\u00e4gen 3\"],[\"Vitsippev\\u00e4gen 4\"],[\"V\\u00e4sterg\\u00e5rdsv\\u00e4gen 13\"]],\"hovertemplate\":\"Living area (m2)=%{x}<br>Price (kr)=%{y}<br>Adress=%{customdata[0]}<extra></extra>\",\"legendgroup\":\"\",\"marker\":{\"color\":\"#636efa\",\"symbol\":\"circle\"},\"mode\":\"markers\",\"name\":\"\",\"orientation\":\"v\",\"showlegend\":false,\"x\":[145.0,144.0,105.0,194.0,240.0,262.0,150.0,152.0,80.0,188.0,160.0,146.0,243.0,262.0,90.0,164.0,120.0,187.0,219.0,153.0,210.0,218.0,75.0,140.0,192.0,65.0,84.0,108.0,120.0,180.0,152.0,120.0,122.0,140.0,230.0],\"xaxis\":\"x\",\"y\":[7700000,5850000,5300000,7250000,6900000,8600000,7700000,7550000,1900000,7100000,4895000,4900000,6450000,7850000,4600000,6800000,5350000,6120000,10300000,3400000,7800000,6550000,3625000,6330000,5900000,3400000,4900000,4050000,6000000,5000000,4050000,6080000,4597000,6700000,7300000],\"yaxis\":\"y\",\"type\":\"scatter\"},{\"hovertemplate\":\"<b>OLS trendline</b><br>Price (kr) = 22477.8 * Living area (m2) + 2.39487e+06<br>R<sup>2</sup>=0.501607<br><br>Living area (m2)=%{x}<br>Price (kr)=%{y} <b>(trend)</b><extra></extra>\",\"legendgroup\":\"Overall Trendline\",\"line\":{\"color\":\"black\"},\"mode\":\"lines\",\"name\":\"Overall Trendline\",\"showlegend\":true,\"x\":[65.0,75.0,80.0,84.0,90.0,105.0,108.0,120.0,120.0,120.0,122.0,140.0,140.0,144.0,145.0,146.0,150.0,152.0,152.0,153.0,160.0,164.0,180.0,187.0,188.0,192.0,194.0,210.0,218.0,219.0,230.0,240.0,243.0,262.0,262.0],\"y\":[3855925.8362443396,4080703.9054420507,4193092.940040906,4283004.16771999,4417871.0092386175,4755038.113035183,4822471.533794496,5092205.216831749,5092205.216831749,5092205.216831749,5137160.830671292,5541761.355227171,5541761.355227171,5631672.5829062555,5654150.389826027,5676628.196745798,5766539.424424883,5811495.038264425,5811495.038264425,5833972.845184196,5991317.493622594,6081228.721301678,6440873.632018015,6598218.280456413,6620696.087376183,6710607.315055268,6755562.92889481,7115207.839611148,7295030.294969317,7317508.101889087,7564763.97800657,7789542.04720428,7856975.467963593,8284053.799439244,8284053.799439244],\"type\":\"scatter\",\"xaxis\":\"x\",\"yaxis\":\"y\"}],                        {\"template\":{\"data\":{\"bar\":[{\"error_x\":{\"color\":\"#2a3f5f\"},\"error_y\":{\"color\":\"#2a3f5f\"},\"marker\":{\"line\":{\"color\":\"#E5ECF6\",\"width\":0.5},\"pattern\":{\"fillmode\":\"overlay\",\"size\":10,\"solidity\":0.2}},\"type\":\"bar\"}],\"barpolar\":[{\"marker\":{\"line\":{\"color\":\"#E5ECF6\",\"width\":0.5},\"pattern\":{\"fillmode\":\"overlay\",\"size\":10,\"solidity\":0.2}},\"type\":\"barpolar\"}],\"carpet\":[{\"aaxis\":{\"endlinecolor\":\"#2a3f5f\",\"gridcolor\":\"white\",\"linecolor\":\"white\",\"minorgridcolor\":\"white\",\"startlinecolor\":\"#2a3f5f\"},\"baxis\":{\"endlinecolor\":\"#2a3f5f\",\"gridcolor\":\"white\",\"linecolor\":\"white\",\"minorgridcolor\":\"white\",\"startlinecolor\":\"#2a3f5f\"},\"type\":\"carpet\"}],\"choropleth\":[{\"colorbar\":{\"outlinewidth\":0,\"ticks\":\"\"},\"type\":\"choropleth\"}],\"contour\":[{\"colorbar\":{\"outlinewidth\":0,\"ticks\":\"\"},\"colorscale\":[[0.0,\"#0d0887\"],[0.1111111111111111,\"#46039f\"],[0.2222222222222222,\"#7201a8\"],[0.3333333333333333,\"#9c179e\"],[0.4444444444444444,\"#bd3786\"],[0.5555555555555556,\"#d8576b\"],[0.6666666666666666,\"#ed7953\"],[0.7777777777777778,\"#fb9f3a\"],[0.8888888888888888,\"#fdca26\"],[1.0,\"#f0f921\"]],\"type\":\"contour\"}],\"contourcarpet\":[{\"colorbar\":{\"outlinewidth\":0,\"ticks\":\"\"},\"type\":\"contourcarpet\"}],\"heatmap\":[{\"colorbar\":{\"outlinewidth\":0,\"ticks\":\"\"},\"colorscale\":[[0.0,\"#0d0887\"],[0.1111111111111111,\"#46039f\"],[0.2222222222222222,\"#7201a8\"],[0.3333333333333333,\"#9c179e\"],[0.4444444444444444,\"#bd3786\"],[0.5555555555555556,\"#d8576b\"],[0.6666666666666666,\"#ed7953\"],[0.7777777777777778,\"#fb9f3a\"],[0.8888888888888888,\"#fdca26\"],[1.0,\"#f0f921\"]],\"type\":\"heatmap\"}],\"heatmapgl\":[{\"colorbar\":{\"outlinewidth\":0,\"ticks\":\"\"},\"colorscale\":[[0.0,\"#0d0887\"],[0.1111111111111111,\"#46039f\"],[0.2222222222222222,\"#7201a8\"],[0.3333333333333333,\"#9c179e\"],[0.4444444444444444,\"#bd3786\"],[0.5555555555555556,\"#d8576b\"],[0.6666666666666666,\"#ed7953\"],[0.7777777777777778,\"#fb9f3a\"],[0.8888888888888888,\"#fdca26\"],[1.0,\"#f0f921\"]],\"type\":\"heatmapgl\"}],\"histogram\":[{\"marker\":{\"pattern\":{\"fillmode\":\"overlay\",\"size\":10,\"solidity\":0.2}},\"type\":\"histogram\"}],\"histogram2d\":[{\"colorbar\":{\"outlinewidth\":0,\"ticks\":\"\"},\"colorscale\":[[0.0,\"#0d0887\"],[0.1111111111111111,\"#46039f\"],[0.2222222222222222,\"#7201a8\"],[0.3333333333333333,\"#9c179e\"],[0.4444444444444444,\"#bd3786\"],[0.5555555555555556,\"#d8576b\"],[0.6666666666666666,\"#ed7953\"],[0.7777777777777778,\"#fb9f3a\"],[0.8888888888888888,\"#fdca26\"],[1.0,\"#f0f921\"]],\"type\":\"histogram2d\"}],\"histogram2dcontour\":[{\"colorbar\":{\"outlinewidth\":0,\"ticks\":\"\"},\"colorscale\":[[0.0,\"#0d0887\"],[0.1111111111111111,\"#46039f\"],[0.2222222222222222,\"#7201a8\"],[0.3333333333333333,\"#9c179e\"],[0.4444444444444444,\"#bd3786\"],[0.5555555555555556,\"#d8576b\"],[0.6666666666666666,\"#ed7953\"],[0.7777777777777778,\"#fb9f3a\"],[0.8888888888888888,\"#fdca26\"],[1.0,\"#f0f921\"]],\"type\":\"histogram2dcontour\"}],\"mesh3d\":[{\"colorbar\":{\"outlinewidth\":0,\"ticks\":\"\"},\"type\":\"mesh3d\"}],\"parcoords\":[{\"line\":{\"colorbar\":{\"outlinewidth\":0,\"ticks\":\"\"}},\"type\":\"parcoords\"}],\"pie\":[{\"automargin\":true,\"type\":\"pie\"}],\"scatter\":[{\"marker\":{\"colorbar\":{\"outlinewidth\":0,\"ticks\":\"\"}},\"type\":\"scatter\"}],\"scatter3d\":[{\"line\":{\"colorbar\":{\"outlinewidth\":0,\"ticks\":\"\"}},\"marker\":{\"colorbar\":{\"outlinewidth\":0,\"ticks\":\"\"}},\"type\":\"scatter3d\"}],\"scattercarpet\":[{\"marker\":{\"colorbar\":{\"outlinewidth\":0,\"ticks\":\"\"}},\"type\":\"scattercarpet\"}],\"scattergeo\":[{\"marker\":{\"colorbar\":{\"outlinewidth\":0,\"ticks\":\"\"}},\"type\":\"scattergeo\"}],\"scattergl\":[{\"marker\":{\"colorbar\":{\"outlinewidth\":0,\"ticks\":\"\"}},\"type\":\"scattergl\"}],\"scattermapbox\":[{\"marker\":{\"colorbar\":{\"outlinewidth\":0,\"ticks\":\"\"}},\"type\":\"scattermapbox\"}],\"scatterpolar\":[{\"marker\":{\"colorbar\":{\"outlinewidth\":0,\"ticks\":\"\"}},\"type\":\"scatterpolar\"}],\"scatterpolargl\":[{\"marker\":{\"colorbar\":{\"outlinewidth\":0,\"ticks\":\"\"}},\"type\":\"scatterpolargl\"}],\"scatterternary\":[{\"marker\":{\"colorbar\":{\"outlinewidth\":0,\"ticks\":\"\"}},\"type\":\"scatterternary\"}],\"surface\":[{\"colorbar\":{\"outlinewidth\":0,\"ticks\":\"\"},\"colorscale\":[[0.0,\"#0d0887\"],[0.1111111111111111,\"#46039f\"],[0.2222222222222222,\"#7201a8\"],[0.3333333333333333,\"#9c179e\"],[0.4444444444444444,\"#bd3786\"],[0.5555555555555556,\"#d8576b\"],[0.6666666666666666,\"#ed7953\"],[0.7777777777777778,\"#fb9f3a\"],[0.8888888888888888,\"#fdca26\"],[1.0,\"#f0f921\"]],\"type\":\"surface\"}],\"table\":[{\"cells\":{\"fill\":{\"color\":\"#EBF0F8\"},\"line\":{\"color\":\"white\"}},\"header\":{\"fill\":{\"color\":\"#C8D4E3\"},\"line\":{\"color\":\"white\"}},\"type\":\"table\"}]},\"layout\":{\"annotationdefaults\":{\"arrowcolor\":\"#2a3f5f\",\"arrowhead\":0,\"arrowwidth\":1},\"autotypenumbers\":\"strict\",\"coloraxis\":{\"colorbar\":{\"outlinewidth\":0,\"ticks\":\"\"}},\"colorscale\":{\"diverging\":[[0,\"#8e0152\"],[0.1,\"#c51b7d\"],[0.2,\"#de77ae\"],[0.3,\"#f1b6da\"],[0.4,\"#fde0ef\"],[0.5,\"#f7f7f7\"],[0.6,\"#e6f5d0\"],[0.7,\"#b8e186\"],[0.8,\"#7fbc41\"],[0.9,\"#4d9221\"],[1,\"#276419\"]],\"sequential\":[[0.0,\"#0d0887\"],[0.1111111111111111,\"#46039f\"],[0.2222222222222222,\"#7201a8\"],[0.3333333333333333,\"#9c179e\"],[0.4444444444444444,\"#bd3786\"],[0.5555555555555556,\"#d8576b\"],[0.6666666666666666,\"#ed7953\"],[0.7777777777777778,\"#fb9f3a\"],[0.8888888888888888,\"#fdca26\"],[1.0,\"#f0f921\"]],\"sequentialminus\":[[0.0,\"#0d0887\"],[0.1111111111111111,\"#46039f\"],[0.2222222222222222,\"#7201a8\"],[0.3333333333333333,\"#9c179e\"],[0.4444444444444444,\"#bd3786\"],[0.5555555555555556,\"#d8576b\"],[0.6666666666666666,\"#ed7953\"],[0.7777777777777778,\"#fb9f3a\"],[0.8888888888888888,\"#fdca26\"],[1.0,\"#f0f921\"]]},\"colorway\":[\"#636efa\",\"#EF553B\",\"#00cc96\",\"#ab63fa\",\"#FFA15A\",\"#19d3f3\",\"#FF6692\",\"#B6E880\",\"#FF97FF\",\"#FECB52\"],\"font\":{\"color\":\"#2a3f5f\"},\"geo\":{\"bgcolor\":\"white\",\"lakecolor\":\"white\",\"landcolor\":\"#E5ECF6\",\"showlakes\":true,\"showland\":true,\"subunitcolor\":\"white\"},\"hoverlabel\":{\"align\":\"left\"},\"hovermode\":\"closest\",\"mapbox\":{\"style\":\"light\"},\"paper_bgcolor\":\"white\",\"plot_bgcolor\":\"#E5ECF6\",\"polar\":{\"angularaxis\":{\"gridcolor\":\"white\",\"linecolor\":\"white\",\"ticks\":\"\"},\"bgcolor\":\"#E5ECF6\",\"radialaxis\":{\"gridcolor\":\"white\",\"linecolor\":\"white\",\"ticks\":\"\"}},\"scene\":{\"xaxis\":{\"backgroundcolor\":\"#E5ECF6\",\"gridcolor\":\"white\",\"gridwidth\":2,\"linecolor\":\"white\",\"showbackground\":true,\"ticks\":\"\",\"zerolinecolor\":\"white\"},\"yaxis\":{\"backgroundcolor\":\"#E5ECF6\",\"gridcolor\":\"white\",\"gridwidth\":2,\"linecolor\":\"white\",\"showbackground\":true,\"ticks\":\"\",\"zerolinecolor\":\"white\"},\"zaxis\":{\"backgroundcolor\":\"#E5ECF6\",\"gridcolor\":\"white\",\"gridwidth\":2,\"linecolor\":\"white\",\"showbackground\":true,\"ticks\":\"\",\"zerolinecolor\":\"white\"}},\"shapedefaults\":{\"line\":{\"color\":\"#2a3f5f\"}},\"ternary\":{\"aaxis\":{\"gridcolor\":\"white\",\"linecolor\":\"white\",\"ticks\":\"\"},\"baxis\":{\"gridcolor\":\"white\",\"linecolor\":\"white\",\"ticks\":\"\"},\"bgcolor\":\"#E5ECF6\",\"caxis\":{\"gridcolor\":\"white\",\"linecolor\":\"white\",\"ticks\":\"\"}},\"title\":{\"x\":0.05},\"xaxis\":{\"automargin\":true,\"gridcolor\":\"white\",\"linecolor\":\"white\",\"ticks\":\"\",\"title\":{\"standoff\":15},\"zerolinecolor\":\"white\",\"zerolinewidth\":2},\"yaxis\":{\"automargin\":true,\"gridcolor\":\"white\",\"linecolor\":\"white\",\"ticks\":\"\",\"title\":{\"standoff\":15},\"zerolinecolor\":\"white\",\"zerolinewidth\":2}}},\"xaxis\":{\"anchor\":\"y\",\"domain\":[0.0,1.0],\"title\":{\"text\":\"Living area (m2)\"}},\"yaxis\":{\"anchor\":\"x\",\"domain\":[0.0,1.0],\"title\":{\"text\":\"Price (kr)\"}},\"legend\":{\"tracegroupgap\":0},\"title\":{\"text\":\"Price vs. living area in Landvetter\"}},                        {\"responsive\": true}                    ).then(function(){\n",
       "                            \n",
       "var gd = document.getElementById('7cb8105f-cf52-4833-a257-6136b75e5d54');\n",
       "var x = new MutationObserver(function (mutations, observer) {{\n",
       "        var display = window.getComputedStyle(gd).display;\n",
       "        if (!display || display === 'none') {{\n",
       "            console.log([gd, 'removed!']);\n",
       "            Plotly.purge(gd);\n",
       "            observer.disconnect();\n",
       "        }}\n",
       "}});\n",
       "\n",
       "// Listen for the removal of the full notebook cells\n",
       "var notebookContainer = gd.closest('#notebook-container');\n",
       "if (notebookContainer) {{\n",
       "    x.observe(notebookContainer, {childList: true});\n",
       "}}\n",
       "\n",
       "// Listen for the clearing of the current output cell\n",
       "var outputEl = gd.closest('.output');\n",
       "if (outputEl) {{\n",
       "    x.observe(outputEl, {childList: true});\n",
       "}}\n",
       "\n",
       "                        })                };                });            </script>        </div>"
      ]
     },
     "metadata": {},
     "output_type": "display_data"
    }
   ],
   "source": [
    "# Read dataframe\n",
    "rawData = pd.read_csv('living-area-vs-selling-price.csv')\n",
    "\n",
    "# Create dataframe without rows containing NaN values\n",
    "finalData = rawData.dropna()\n",
    "\n",
    "# Print figure number\n",
    "print('Figure 1:')\n",
    "\n",
    "#Create Plotly figure\n",
    "#Ordinary Least Squares regression trendline \n",
    "fig = px.scatter(finalData, x='Living area (m2)', \n",
    "            y='Price (kr)', hover_data=['Adress'],\n",
    "            title='Price vs. living area in Landvetter', \n",
    "            trendline='ols', trendline_scope='overall', trendline_color_override='black')\n",
    "#Display figure\n",
    "fig.show()"
   ]
  },
  {
   "cell_type": "markdown",
   "metadata": {},
   "source": [
    "#### i. What are the values of the slope and intercept of the regression line?"
   ]
  },
  {
   "cell_type": "code",
   "execution_count": 4,
   "metadata": {},
   "outputs": [
    {
     "name": "stdout",
     "output_type": "stream",
     "text": [
      "Slope: 22477.806920 \n",
      "Intercept: 2394868.386459 \n",
      "\n"
     ]
    }
   ],
   "source": [
    "LRmodel = LinearRegression().fit(finalData[['Living area (m2)']], finalData['Price (kr)'])\n",
    "slope = LRmodel.coef_\n",
    "intercept = LRmodel.intercept_\n",
    "print('Slope: %f \\nIntercept: %f \\n' %(slope, intercept))"
   ]
  },
  {
   "cell_type": "markdown",
   "metadata": {},
   "source": [
    "#### ii. Use this model to predict the selling prices of houses which have living area $100 m^{2}$, $150 m^{2}$ and $200 m^{2}$. "
   ]
  },
  {
   "cell_type": "code",
   "execution_count": 21,
   "metadata": {},
   "outputs": [
    {
     "name": "stdout",
     "output_type": "stream",
     "text": [
      "Figure 2: dataframe with predicted selling price (kr) as a function of the living area (m2)\n"
     ]
    },
    {
     "data": {
      "text/html": [
       "<div>\n",
       "<style scoped>\n",
       "    .dataframe tbody tr th:only-of-type {\n",
       "        vertical-align: middle;\n",
       "    }\n",
       "\n",
       "    .dataframe tbody tr th {\n",
       "        vertical-align: top;\n",
       "    }\n",
       "\n",
       "    .dataframe thead th {\n",
       "        text-align: right;\n",
       "    }\n",
       "</style>\n",
       "<table border=\"1\" class=\"dataframe\">\n",
       "  <thead>\n",
       "    <tr style=\"text-align: right;\">\n",
       "      <th></th>\n",
       "      <th>Living area (m2)</th>\n",
       "      <th>Price (kr)</th>\n",
       "    </tr>\n",
       "  </thead>\n",
       "  <tbody>\n",
       "    <tr>\n",
       "      <th>0</th>\n",
       "      <td>100</td>\n",
       "      <td>4.642649e+06</td>\n",
       "    </tr>\n",
       "    <tr>\n",
       "      <th>1</th>\n",
       "      <td>150</td>\n",
       "      <td>5.766539e+06</td>\n",
       "    </tr>\n",
       "    <tr>\n",
       "      <th>2</th>\n",
       "      <td>200</td>\n",
       "      <td>6.890430e+06</td>\n",
       "    </tr>\n",
       "  </tbody>\n",
       "</table>\n",
       "</div>"
      ],
      "text/plain": [
       "   Living area (m2)    Price (kr)\n",
       "0               100  4.642649e+06\n",
       "1               150  5.766539e+06\n",
       "2               200  6.890430e+06"
      ]
     },
     "metadata": {},
     "output_type": "display_data"
    }
   ],
   "source": [
    "# Create a dictonary with the living areas\n",
    "livingAreaDict = {'Living area (m2)': [100, 150, 200]}\n",
    "\n",
    "# Create a dataframe of the dictonary\n",
    "livingArea = pd.DataFrame(livingAreaDict)\n",
    "\n",
    "# Create 'Price (kr)' column based on the regression line\n",
    "livingArea['Price (kr)'] = slope*livingArea['Living area (m2)'] + intercept\n",
    "\n",
    "# Display livingArea dataframe\n",
    "print('Figure 2: dataframe with predicted selling price (kr) as a function of the living area (m2)')\n",
    "display(livingArea)"
   ]
  },
  {
   "cell_type": "markdown",
   "metadata": {},
   "source": [
    "#### iii. Draw a residual plot"
   ]
  },
  {
   "cell_type": "code",
   "execution_count": 22,
   "metadata": {},
   "outputs": [
    {
     "name": "stdout",
     "output_type": "stream",
     "text": [
      "Figure 3: \n"
     ]
    },
    {
     "data": {
      "image/png": "[encoded data removed]",
      "text/plain": [
       "<Figure size 432x288 with 1 Axes>"
      ]
     },
     "metadata": {
      "needs_background": "light"
     },
     "output_type": "display_data"
    }
   ],
   "source": [
    "#Create residual plot using Seaborn\n",
    "sns.residplot(data = finalData ,x = 'Living area (m2)', y = 'Price (kr)').set(title='Residual plot')\n",
    "\n",
    "# Print figure number\n",
    "print('Figure 3: ')\n",
    "# Change y label\n",
    "plt.ylabel('Residuals')\n",
    "# Display the plot\n",
    "plt.show()"
   ]
  },
  {
   "cell_type": "markdown",
   "metadata": {},
   "source": [
    "#### iv. Discuss the results, and how the model could be improved."
   ]
  },
  {
   "cell_type": "markdown",
   "metadata": {},
   "source": [
    "Based on figure 4, it is evident that the residuals are balanced though there is a high variance. This somewhat random pattern of the residuals suggest that a linear model would be a more appropriate fit than a non-linear one. From figure 2, we can see that there is a potential positive relationship between living area and price. With the help of a correlation analysis, we can measure the strength of the linear relationship between the two. A correlation value of approximately 0.708 indicates that there is a rather strong positive linear relationship between the two variables."
   ]
  },
  {
   "cell_type": "code",
   "execution_count": 8,
   "metadata": {},
   "outputs": [
    {
     "data": {
      "text/plain": [
       "0.7082424189866006"
      ]
     },
     "execution_count": 8,
     "metadata": {},
     "output_type": "execute_result"
    }
   ],
   "source": [
    "# Correlation between living area and price\n",
    "finalData['Living area (m2)'].corr(finalData['Price (kr)']) "
   ]
  },
  {
   "cell_type": "markdown",
   "metadata": {},
   "source": [
    "## Task 2\n",
    "#### Use a confusion matrix to evaluate the use of logistic regression to classify the iris data set. Use the one-vs-rest option to use the same setup as in the lectures for multiclass regression."
   ]
  },
  {
   "cell_type": "markdown",
   "metadata": {},
   "source": [
    "The quality of the logistic regression model can be evaluated using a confusion matrix as presented in figure 2. The accuracy score is very close to 1, indicating that the performance of our classifier is quite strong. The only label which seems to have been misclassified is versicolor to virginica but this only happened once."
   ]
  },
  {
   "cell_type": "code",
   "execution_count": 9,
   "metadata": {},
   "outputs": [],
   "source": [
    "#Load dataset\n",
    "iris = datasets.load_iris()\n",
    "\n",
    "# Split dataset into training set (70%) and test set (30%)\n",
    "X_train, X_test, y_train, y_test = train_test_split(iris.data, iris.target, test_size=0.3, random_state=0)"
   ]
  },
  {
   "cell_type": "code",
   "execution_count": 10,
   "metadata": {},
   "outputs": [],
   "source": [
    "def LOG(X_train, X_test, y_train, y_test, matrix): \n",
    "    #Create Logistic Classifier\n",
    "    #### default value: max_iter = 100 but warning appeared 'lbfgs failed to converge' so we increased max_iter\n",
    "    logReg = LogisticRegression(multi_class='ovr', solver='liblinear') \n",
    "\n",
    "    #Train the model using the training sets\n",
    "    logReg.fit(X_train, y_train)\n",
    "\n",
    "    #Predict the response for test dataset\n",
    "    y_pred = logReg.predict(X_test)\n",
    "    \n",
    "    if matrix == 'No':\n",
    "        print('---------------------------------------------------------------------------------------------------------------------')\n",
    "        print('LOGISTIC CLASSIFIER')\n",
    "\n",
    "        # Model Accuracy, how often is the classifier correct?\n",
    "        print(\"Accuracy:\",metrics.accuracy_score(y_test, y_pred))\n",
    "    \n",
    "    if matrix == 'Yes':\n",
    "        print('---------------------------------------------------------------------------------------------------------------------')\n",
    "        print('LOGISTIC CLASSIFIER - Confusion matrix:')\n",
    "        # Confusion matrix\n",
    "        confusionMatrix = metrics.confusion_matrix(y_test, y_pred)\n",
    "        score = metrics.accuracy_score(y_test, y_pred)\n",
    "        \n",
    "        plt.figure(figsize=(4,4))\n",
    "        sns.heatmap(confusionMatrix, annot=True, fmt=\".3f\", linewidths=.5, square = True, cmap = 'Blues_r');\n",
    "        plt.ylabel('Actual label');\n",
    "        plt.xticks(ticks=[0.5,1.5,2.5], labels=iris.target_names)\n",
    "        plt.yticks(ticks=[0.5,1.5,2.5], labels=iris.target_names)\n",
    "        plt.xlabel('Predicted label');\n",
    "        all_sample_title = 'Accuracy Score: {0}'.format(score)\n",
    "        plt.title(all_sample_title, size = 9);\n",
    "\n",
    "        plt.show()\n"
   ]
  },
  {
   "cell_type": "code",
   "execution_count": 11,
   "metadata": {},
   "outputs": [
    {
     "name": "stdout",
     "output_type": "stream",
     "text": [
      "---------------------------------------------------------------------------------------------------------------------\n",
      "LOGISTIC CLASSIFIER\n",
      "Accuracy: 0.8888888888888888\n",
      "---------------------------------------------------------------------------------------------------------------------\n",
      "LOGISTIC CLASSIFIER - Confusion matrix:\n"
     ]
    },
    {
     "data": {
      "image/png": "[encoded data removed]",
      "text/plain": [
       "<Figure size 288x288 with 2 Axes>"
      ]
     },
     "metadata": {
      "needs_background": "light"
     },
     "output_type": "display_data"
    }
   ],
   "source": [
    "LOG(X_train, X_test, y_train, y_test, 'No')\n",
    "LOG(X_train, X_test, y_train, y_test, 'Yes')"
   ]
  },
  {
   "cell_type": "markdown",
   "metadata": {},
   "source": [
    "## Task 3\n",
    "#### Use k-nearest neighbours to classify the iris data set with some different values for k, and with uniform and distance-based weights. What will happen when k grows larger  for the different cases? Why?\n",
    "\n",
    "> **uniform** : uniform weights. All points in each neighborhood are weighted equally.\n",
    "\n",
    "> **distance** : weight points by the inverse of their distance. in this case, closer neighbors of a query point will have a greater influence than neighbors which are further away.\n",
    "\n",
    "With an increasing k-value for uniform weights, it is evident that the accuracy decreases. Having all neighbours weighted equally can lead to problems. For example, it might be the case that specific data point is in fact much closer to some neigbours however, due to a high concentration of other neighbours whitin the specified scope, this data point will instead be wrongly classified likewise. We can especiially see this happen for k=105, which takes the entire sample set into consideration. It is however worth noting that a higher k-value does not always imply less accuracy. Furthermore, it may be computionally expensive to use too high k-values. In this case, a k-value of 1 and 105 for distance-based weights generates the same accuracy level.       "
   ]
  },
  {
   "cell_type": "code",
   "execution_count": 12,
   "metadata": {},
   "outputs": [],
   "source": [
    "def KNN(X_train, X_test, y_train, y_test, k, weights, dataset, matrix):\n",
    "    '''\n",
    "    k (int): \n",
    "    weights (string):\n",
    "    dataset (dataset):\n",
    "    matrix (string): ye\n",
    "    '''\n",
    "    #Create KNN Classifier\n",
    "    knn= KNeighborsClassifier(n_neighbors=k, weights=weights) \n",
    "\n",
    "    #Train the model using the training sets\n",
    "    knn.fit(X_train, y_train)\n",
    "\n",
    "    #Predict the response for test dataset\n",
    "    y_pred = knn.predict(X_test)\n",
    "    \n",
    "    if matrix == 'No':\n",
    "        usefulValues = [k, weights, metrics.accuracy_score(y_test, y_pred)]\n",
    "    \n",
    "        return usefulValues\n",
    "    \n",
    "    if matrix == 'Yes':\n",
    "        print('---------------------------------------------------------------------------------------------------------------------')\n",
    "        print('KNN CLASSIFIER - k: %f, weights: %s - Confusion matrix:' %(k, weights))\n",
    "        # Confusion matrix\n",
    "        confusionMatrix = metrics.confusion_matrix(y_test, y_pred)\n",
    "        score = metrics.accuracy_score(y_test, y_pred)\n",
    "        \n",
    "        plt.figure(figsize=(4,4))\n",
    "        sns.heatmap(confusionMatrix, annot=True, fmt=\".3f\", linewidths=.5, square = True, cmap = 'Blues_r');\n",
    "        plt.ylabel('Actual label');\n",
    "        plt.xticks(ticks=[0.5,1.5,2.5], labels=iris.target_names)\n",
    "        plt.yticks(ticks=[0.5,1.5,2.5], labels=iris.target_names)\n",
    "        plt.xlabel('Predicted label');\n",
    "        all_sample_title = 'Accuracy Score: {0}'.format(score)\n",
    "        plt.title(all_sample_title, size = 9);\n",
    "\n",
    "        plt.show()\n",
    "\n",
    "    \n",
    "    "
   ]
  },
  {
   "cell_type": "code",
   "execution_count": 23,
   "metadata": {},
   "outputs": [
    {
     "name": "stdout",
     "output_type": "stream",
     "text": [
      "Figure 4:\n"
     ]
    },
    {
     "data": {
      "text/html": [
       "<div>\n",
       "<style scoped>\n",
       "    .dataframe tbody tr th:only-of-type {\n",
       "        vertical-align: middle;\n",
       "    }\n",
       "\n",
       "    .dataframe tbody tr th {\n",
       "        vertical-align: top;\n",
       "    }\n",
       "\n",
       "    .dataframe thead th {\n",
       "        text-align: right;\n",
       "    }\n",
       "</style>\n",
       "<table border=\"1\" class=\"dataframe\">\n",
       "  <thead>\n",
       "    <tr style=\"text-align: right;\">\n",
       "      <th></th>\n",
       "      <th>k</th>\n",
       "      <th>Weights</th>\n",
       "      <th>Accuracy</th>\n",
       "    </tr>\n",
       "  </thead>\n",
       "  <tbody>\n",
       "    <tr>\n",
       "      <th>0</th>\n",
       "      <td>1</td>\n",
       "      <td>uniform</td>\n",
       "      <td>0.977778</td>\n",
       "    </tr>\n",
       "    <tr>\n",
       "      <th>1</th>\n",
       "      <td>40</td>\n",
       "      <td>uniform</td>\n",
       "      <td>0.888889</td>\n",
       "    </tr>\n",
       "    <tr>\n",
       "      <th>2</th>\n",
       "      <td>105</td>\n",
       "      <td>uniform</td>\n",
       "      <td>0.244444</td>\n",
       "    </tr>\n",
       "    <tr>\n",
       "      <th>3</th>\n",
       "      <td>1</td>\n",
       "      <td>distance</td>\n",
       "      <td>0.977778</td>\n",
       "    </tr>\n",
       "    <tr>\n",
       "      <th>4</th>\n",
       "      <td>40</td>\n",
       "      <td>distance</td>\n",
       "      <td>0.977778</td>\n",
       "    </tr>\n",
       "    <tr>\n",
       "      <th>5</th>\n",
       "      <td>105</td>\n",
       "      <td>distance</td>\n",
       "      <td>0.977778</td>\n",
       "    </tr>\n",
       "  </tbody>\n",
       "</table>\n",
       "</div>"
      ],
      "text/plain": [
       "     k   Weights  Accuracy\n",
       "0    1   uniform  0.977778\n",
       "1   40   uniform  0.888889\n",
       "2  105   uniform  0.244444\n",
       "3    1  distance  0.977778\n",
       "4   40  distance  0.977778\n",
       "5  105  distance  0.977778"
      ]
     },
     "metadata": {},
     "output_type": "display_data"
    }
   ],
   "source": [
    "# Store [k, weights, metrics.accuracy_score(y_test, y_pred)] in a list\n",
    "U1 = KNN(X_train, X_test, y_train, y_test, 1, 'uniform', iris, 'No')\n",
    "U40 = KNN(X_train, X_test, y_train, y_test, 40, 'uniform', iris, 'No')\n",
    "U105 = KNN(X_train, X_test, y_train, y_test, 105, 'uniform', iris, 'No')\n",
    "\n",
    "D1 = KNN(X_train, X_test, y_train, y_test, 1, 'distance', iris, 'No')\n",
    "D40 = KNN(X_train, X_test, y_train, y_test, 40, 'distance', iris, 'No')\n",
    "D105 = KNN(X_train, X_test, y_train, y_test, 105, 'distance', iris, 'No')\n",
    "\n",
    "# Create a dictionnary with k, weights, accuracy\n",
    "comparisonDict = {'k':[U1[0], U40[0], U105[0], D1[0], D40[0], D105[0]],\n",
    "        'Weights':[U1[1], U40[1], U105[1], D1[1], D40[1], D105[1]], \n",
    "        'Accuracy':[U1[2], U40[2], U105[2], D1[2], D40[2], D105[2]]}\n",
    "\n",
    "# Create a dataframe with the information in the dictionnary\n",
    "comparisonDF = pd.DataFrame(comparisonDict)\n",
    " \n",
    "# Display the dataframe with k, weights and accuracy \n",
    "print('Figure 4:')\n",
    "display(comparisonDF)"
   ]
  },
  {
   "cell_type": "markdown",
   "metadata": {},
   "source": [
    "## Task 4\n",
    "#### Compare the classification models for the iris data set that are generated by k-nearest neighbours (for the different settings from question 3) and by logistic regression. Calculate confusion matrices for these models and discuss the performance of the various models. "
   ]
  },
  {
   "cell_type": "markdown",
   "metadata": {},
   "source": [
    "The KNN-classifier with distance based weights results in the highest accuracy as opposed to the KNN-classifier with uniform based weights and the logistic classifier. We can also see that the 40NN-classifier with uniform weights has the same accuracy as the logistic classifier. They both miss classify the versicolor specie however, the 40NN-classifier also misclassified virginica. It is clear that using the euclidean distance when classifying generates a better accuracy. However, one drawback to mention regarding KNN-classifiers is that the K-value has to be chosen carefully in order to yield a high accuracy."
   ]
  },
  {
   "cell_type": "markdown",
   "metadata": {},
   "source": [
    "### Classification models comparison "
   ]
  },
  {
   "cell_type": "code",
   "execution_count": 14,
   "metadata": {},
   "outputs": [
    {
     "name": "stdout",
     "output_type": "stream",
     "text": [
      "---------------------------------------------------------------------------------------------------------------------\n",
      "KNN CLASSIFIER\n"
     ]
    },
    {
     "data": {
      "text/html": [
       "<div>\n",
       "<style scoped>\n",
       "    .dataframe tbody tr th:only-of-type {\n",
       "        vertical-align: middle;\n",
       "    }\n",
       "\n",
       "    .dataframe tbody tr th {\n",
       "        vertical-align: top;\n",
       "    }\n",
       "\n",
       "    .dataframe thead th {\n",
       "        text-align: right;\n",
       "    }\n",
       "</style>\n",
       "<table border=\"1\" class=\"dataframe\">\n",
       "  <thead>\n",
       "    <tr style=\"text-align: right;\">\n",
       "      <th></th>\n",
       "      <th>k</th>\n",
       "      <th>Weights</th>\n",
       "      <th>Accuracy</th>\n",
       "    </tr>\n",
       "  </thead>\n",
       "  <tbody>\n",
       "    <tr>\n",
       "      <th>0</th>\n",
       "      <td>1</td>\n",
       "      <td>uniform</td>\n",
       "      <td>0.977778</td>\n",
       "    </tr>\n",
       "    <tr>\n",
       "      <th>1</th>\n",
       "      <td>40</td>\n",
       "      <td>uniform</td>\n",
       "      <td>0.888889</td>\n",
       "    </tr>\n",
       "    <tr>\n",
       "      <th>2</th>\n",
       "      <td>105</td>\n",
       "      <td>uniform</td>\n",
       "      <td>0.244444</td>\n",
       "    </tr>\n",
       "    <tr>\n",
       "      <th>3</th>\n",
       "      <td>1</td>\n",
       "      <td>distance</td>\n",
       "      <td>0.977778</td>\n",
       "    </tr>\n",
       "    <tr>\n",
       "      <th>4</th>\n",
       "      <td>40</td>\n",
       "      <td>distance</td>\n",
       "      <td>0.977778</td>\n",
       "    </tr>\n",
       "    <tr>\n",
       "      <th>5</th>\n",
       "      <td>105</td>\n",
       "      <td>distance</td>\n",
       "      <td>0.977778</td>\n",
       "    </tr>\n",
       "  </tbody>\n",
       "</table>\n",
       "</div>"
      ],
      "text/plain": [
       "     k   Weights  Accuracy\n",
       "0    1   uniform  0.977778\n",
       "1   40   uniform  0.888889\n",
       "2  105   uniform  0.244444\n",
       "3    1  distance  0.977778\n",
       "4   40  distance  0.977778\n",
       "5  105  distance  0.977778"
      ]
     },
     "metadata": {},
     "output_type": "display_data"
    },
    {
     "name": "stdout",
     "output_type": "stream",
     "text": [
      "---------------------------------------------------------------------------------------------------------------------\n",
      "LOGISTIC CLASSIFIER\n",
      "Accuracy: 0.8888888888888888\n"
     ]
    }
   ],
   "source": [
    "print('---------------------------------------------------------------------------------------------------------------------')\n",
    "print('KNN CLASSIFIER')\n",
    "display(comparisonDF)\n",
    "LOG(X_train, X_test, y_train, y_test, 'No')"
   ]
  },
  {
   "cell_type": "markdown",
   "metadata": {},
   "source": [
    "### Confusion Matrices\n",
    "**k-nearest neighbours regression with uniform-based weight**"
   ]
  },
  {
   "cell_type": "code",
   "execution_count": 15,
   "metadata": {},
   "outputs": [
    {
     "name": "stdout",
     "output_type": "stream",
     "text": [
      "---------------------------------------------------------------------------------------------------------------------\n",
      "KNN CLASSIFIER - k: 1.000000, weights: uniform - Confusion matrix:\n"
     ]
    },
    {
     "data": {
      "image/png": "[encoded data removed]",
      "text/plain": [
       "<Figure size 288x288 with 2 Axes>"
      ]
     },
     "metadata": {
      "needs_background": "light"
     },
     "output_type": "display_data"
    },
    {
     "name": "stdout",
     "output_type": "stream",
     "text": [
      "---------------------------------------------------------------------------------------------------------------------\n",
      "KNN CLASSIFIER - k: 40.000000, weights: uniform - Confusion matrix:\n"
     ]
    },
    {
     "data": {
      "image/png": "[encoded data removed]",
      "text/plain": [
       "<Figure size 288x288 with 2 Axes>"
      ]
     },
     "metadata": {
      "needs_background": "light"
     },
     "output_type": "display_data"
    },
    {
     "name": "stdout",
     "output_type": "stream",
     "text": [
      "---------------------------------------------------------------------------------------------------------------------\n",
      "KNN CLASSIFIER - k: 105.000000, weights: uniform - Confusion matrix:\n"
     ]
    },
    {
     "data": {
      "image/png": "[encoded data removed]",
      "text/plain": [
       "<Figure size 288x288 with 2 Axes>"
      ]
     },
     "metadata": {
      "needs_background": "light"
     },
     "output_type": "display_data"
    }
   ],
   "source": [
    "KNN(X_train, X_test, y_train, y_test, 1, 'uniform', iris, 'Yes')\n",
    "KNN(X_train, X_test, y_train, y_test, 40, 'uniform', iris, 'Yes')\n",
    "U105 = KNN(X_train, X_test, y_train, y_test, 105, 'uniform', iris, 'Yes')"
   ]
  },
  {
   "cell_type": "markdown",
   "metadata": {},
   "source": [
    "**k-nearest neighbours regression with distance-based weight**"
   ]
  },
  {
   "cell_type": "code",
   "execution_count": 16,
   "metadata": {},
   "outputs": [
    {
     "name": "stdout",
     "output_type": "stream",
     "text": [
      "---------------------------------------------------------------------------------------------------------------------\n",
      "KNN CLASSIFIER - k: 1.000000, weights: distance - Confusion matrix:\n"
     ]
    },
    {
     "data": {
      "image/png": "[encoded data removed]",
      "text/plain": [
       "<Figure size 288x288 with 2 Axes>"
      ]
     },
     "metadata": {
      "needs_background": "light"
     },
     "output_type": "display_data"
    },
    {
     "name": "stdout",
     "output_type": "stream",
     "text": [
      "---------------------------------------------------------------------------------------------------------------------\n",
      "KNN CLASSIFIER - k: 40.000000, weights: distance - Confusion matrix:\n"
     ]
    },
    {
     "data": {
      "image/png": "[encoded data removed]",
      "text/plain": [
       "<Figure size 288x288 with 2 Axes>"
      ]
     },
     "metadata": {
      "needs_background": "light"
     },
     "output_type": "display_data"
    },
    {
     "name": "stdout",
     "output_type": "stream",
     "text": [
      "---------------------------------------------------------------------------------------------------------------------\n",
      "KNN CLASSIFIER - k: 105.000000, weights: distance - Confusion matrix:\n"
     ]
    },
    {
     "data": {
      "image/png": "[encoded data removed]",
      "text/plain": [
       "<Figure size 288x288 with 2 Axes>"
      ]
     },
     "metadata": {
      "needs_background": "light"
     },
     "output_type": "display_data"
    }
   ],
   "source": [
    "KNN(X_train, X_test, y_train, y_test, 1, 'distance', iris, 'Yes')\n",
    "KNN(X_train, X_test, y_train, y_test, 40, 'distance', iris, 'Yes')\n",
    "KNN(X_train, X_test, y_train, y_test, 105, 'distance', iris, 'Yes')"
   ]
  },
  {
   "cell_type": "markdown",
   "metadata": {},
   "source": [
    "**Logistic regression**"
   ]
  },
  {
   "cell_type": "code",
   "execution_count": 17,
   "metadata": {},
   "outputs": [
    {
     "name": "stdout",
     "output_type": "stream",
     "text": [
      "---------------------------------------------------------------------------------------------------------------------\n",
      "LOGISTIC CLASSIFIER - Confusion matrix:\n"
     ]
    },
    {
     "data": {
      "image/png": "[encoded data removed]",
      "text/plain": [
       "<Figure size 288x288 with 2 Axes>"
      ]
     },
     "metadata": {
      "needs_background": "light"
     },
     "output_type": "display_data"
    }
   ],
   "source": [
    "LOG(X_train, X_test, y_train, y_test, 'Yes')"
   ]
  },
  {
   "cell_type": "markdown",
   "metadata": {},
   "source": [
    "## Task 5\n",
    "#### Explain why it is important to use a separate test (and sometimes validation) set."
   ]
  },
  {
   "cell_type": "code",
   "execution_count": null,
   "metadata": {},
   "outputs": [],
   "source": []
  }
 ],
 "metadata": {
  "kernelspec": {
   "display_name": "Python 3 (ipykernel)",
   "language": "python",
   "name": "python3"
  },
  "language_info": {
   "codemirror_mode": {
    "name": "ipython",
    "version": 3
   },
   "file_extension": ".py",
   "mimetype": "text/x-python",
   "name": "python",
   "nbconvert_exporter": "python",
   "pygments_lexer": "ipython3",
   "version": "3.9.7"
  }
 },
 "nbformat": 4,
 "nbformat_minor": 4
}
