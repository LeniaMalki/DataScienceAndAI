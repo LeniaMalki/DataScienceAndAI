{
 "cells": [
  {
   "cell_type": "markdown",
   "metadata": {},
   "source": [
    "# Assignment 1: Introduction to Data Science and Python\n",
    "\n",
    "Student name | Hours spent on the tasks\n",
    "------------ | -------------\n",
    "Lenia Malki | 8\n",
    "Maële Belmont | 8\n",
    "\n",
    "asdfghjk\n",
    "TEST\n",
    "\n",
    "To do:\n",
    "- show available year list\n",
    "- reference"
   ]
  },
  {
   "cell_type": "markdown",
   "metadata": {},
   "source": [
    "## Setup\n",
    "Python modules need to be loaded to solve the tasks below."
   ]
  },
  {
   "cell_type": "code",
   "execution_count": 41,
   "metadata": {},
   "outputs": [],
   "source": [
    "import numpy as np\n",
    "import matplotlib.pyplot as plt\n",
    "import pandas as pd\n",
    "import seaborn as sns\n",
    "import plotly.express as px\n",
    "from sklearn.linear_model import LinearRegression"
   ]
  },
  {
   "cell_type": "markdown",
   "metadata": {},
   "source": [
    "## Task 1 - Download some data related to GDP per capita and life expectancy <br>\n",
    "#### A. Write a Python program that draws a scatter plot of GDP per capita vs life expectancy. State any assumptions and motivate decisions that you make when selecting data to be plotted, and in combining data. [1p]\n",
    "\n"
   ]
  },
  {
   "cell_type": "code",
   "execution_count": 48,
   "metadata": {},
   "outputs": [],
   "source": [
    "def readCSV(csv_file, column1, column2, title):\n",
    "    \"\"\"\n",
    "    input: \n",
    "    - csv_file (string): name of csv file\n",
    "    - column1 (string): name of column for data other than GDP\n",
    "    - column2 (string): name of column for data about GDP\n",
    "    - title (string): Title of the plot\n",
    "    output:\n",
    "    - dataframe containing data for the chosen year without NaN values\n",
    "    \"\"\"\n",
    "    #Read the csv file containing the downloaded data\n",
    "    rawData = pd.read_csv(csv_file)\n",
    "    \n",
    "    '''\n",
    "    # Create list of years available with the data\n",
    "    yearList = [] #create empty list\n",
    "    for i in range(len(rawData)): #if there is no NaN in column1 or column2 of row i and the year of row i has not been added to the list... \n",
    "        if (pd.isnull(rawData[column1][i])==False) & (pd.isnull(rawData[column2][i])==False) & (rawData['Year'][i] not in yearList):\n",
    "                yearList.append(rawData['Year'][i]) #...the year of row i is added to the list.\n",
    "    \n",
    "    yearList = [int(i) for i in yearList] #convert string to integer\n",
    "    display(yearList.sort())\n",
    "    '''\n",
    "    \n",
    "    #Create a new table with the data for year of interest chosen by the user\n",
    "    year = int(input('Year of interest for the data \"%s\": \\n' % (title)))\n",
    "    print('---------------------------------------------------------------------------------------------------------------------')\n",
    "    yearData = rawData.loc[rawData['Year']==year].reset_index()\n",
    "        \n",
    "    #Replace NaN values in 'Continent' by the continent value for every country\n",
    "    year2015 = rawData.loc[rawData['Year']==2015].reset_index() #continents are defined only in 2015, but we want them to be defined for all the years.\n",
    "    \n",
    "    for i in range(len(yearData)):\n",
    "        for j in range(len(year2015)):\n",
    "            if yearData['Entity'][i] == year2015['Entity'][j]: #compare the 'Entity' of the chosen year to the 'Entity' in 2015 and if they are the same...\n",
    "                yearData.at[i, 'Continent'] = year2015['Continent'][j] #...assign the 'Continent' value of 2015 to the 'Continent' value of the chosen year 'Continent' value of 2015 to the 'Continent' value of the chosen year\n",
    "\n",
    "    #Create a new table with only the relevant columns\n",
    "    relevantColumns = yearData.loc[:, ['Entity','Year', column1, column2, 'Continent']]\n",
    "\n",
    "    #Create a new table without rows containing NaN values\n",
    "    finalData = relevantColumns.dropna()\n",
    "    return finalData\n",
    "\n",
    "def aboveSD(finalData, ylabel):\n",
    "    \"\"\"\n",
    "    inputs: \n",
    "    - finalData: dataframe containing the data of interest\n",
    "    - ylabel: data topic?\n",
    "    output:\n",
    "    - dataframe with value of data above the standard mean\n",
    "    \"\"\" \n",
    "    column1=finalData.columns[2]\n",
    "    column2=finalData.columns[3]\n",
    "    \n",
    "    #Print useful statistical values\n",
    "    mean = finalData[column2].mean()\n",
    "    sd = finalData[column2].std()\n",
    "    oneSDAboveMean = mean + sd\n",
    "\n",
    "    Filter = finalData[column2] >= oneSDAboveMean\n",
    "    tableSDAboveMean = finalData[['Entity','Year', column2]]\n",
    "\n",
    "    print('Dataframe with countries having', ylabel ,'higher than the standard mean.')\n",
    "    display(tableSDAboveMean[Filter])\n",
    "    \n",
    "def plotFigure(finalData, xlabel, ylabel, title):\n",
    "    \"\"\"\n",
    "    input: \n",
    "    - finalData: dataframe will be plotted\n",
    "    - xlabel: label displayed under x-axis\n",
    "    - ylabel: label displayed under y-axis\n",
    "    - title of the plot\n",
    "    output:\n",
    "    - figure with the plot\n",
    "    \"\"\" \n",
    "    ###Plot \n",
    "    try:\n",
    "    #Set axis limits\n",
    "        year = finalData['Year'].values[0]\n",
    "        column1=finalData.columns[2]\n",
    "        column2=finalData.columns[3]\n",
    "        minimum_x = finalData[column1].min()-100 \n",
    "        maximum_x = finalData[column1].max()+10000\n",
    "        minimum_y = finalData[column2].min()-1 \n",
    "        maximum_y = finalData[column2].max()+1\n",
    "\n",
    "        #Create Plotly figure\n",
    "        fig = px.scatter(finalData, x=column1, \n",
    "                     y=column2, \n",
    "                     color='Continent', hover_data=['Entity'], \n",
    "                     log_x=True, title=f'{title}, {year}',\n",
    "                     labels={column1: xlabel, column2: ylabel},\n",
    "                     trendline='ols', \n",
    "                     trendline_options=dict(log_x=True), trendline_scope='overall', trendline_color_override='black', \n",
    "                     range_x=[minimum_x, maximum_x], range_y=[minimum_y, maximum_y])\n",
    "        #Display figure\n",
    "        fig.show()\n",
    "    except:\n",
    "        print('---------------------------------------------------------------------------------------------------------------------')\n",
    "        print('No data available for this year, please run the cell again and try with another year.\\n')\n"
   ]
  },
  {
   "cell_type": "markdown",
   "metadata": {},
   "source": [
    "---"
   ]
  },
  {
   "cell_type": "code",
   "execution_count": 25,
   "metadata": {},
   "outputs": [
    {
     "name": "stdout",
     "output_type": "stream",
     "text": [
      "Year of interest for the data \"Life expectancy vs. GDP per capita\": \n",
      "2018\n",
      "---------------------------------------------------------------------------------------------------------------------\n"
     ]
    },
    {
     "data": {
      "application/vnd.plotly.v1+json": {
       "config": {
        "plotlyServerURL": "https://plot.ly"
       },
       "data": [
        {
         "customdata": [
          [
           "Afghanistan"
          ],
          [
           "Armenia"
          ],
          [
           "Azerbaijan"
          ],
          [
           "Bahrain"
          ],
          [
           "Bangladesh"
          ],
          [
           "Cambodia"
          ],
          [
           "China"
          ],
          [
           "Georgia"
          ],
          [
           "Hong Kong"
          ],
          [
           "India"
          ],
          [
           "Indonesia"
          ],
          [
           "Iran"
          ],
          [
           "Iraq"
          ],
          [
           "Israel"
          ],
          [
           "Japan"
          ],
          [
           "Jordan"
          ],
          [
           "Kazakhstan"
          ],
          [
           "Kuwait"
          ],
          [
           "Kyrgyzstan"
          ],
          [
           "Laos"
          ],
          [
           "Lebanon"
          ],
          [
           "Malaysia"
          ],
          [
           "Mongolia"
          ],
          [
           "Myanmar"
          ],
          [
           "Nepal"
          ],
          [
           "North Korea"
          ],
          [
           "Oman"
          ],
          [
           "Pakistan"
          ],
          [
           "Palestine"
          ],
          [
           "Philippines"
          ],
          [
           "Qatar"
          ],
          [
           "Saudi Arabia"
          ],
          [
           "Singapore"
          ],
          [
           "South Korea"
          ],
          [
           "Sri Lanka"
          ],
          [
           "Syria"
          ],
          [
           "Taiwan"
          ],
          [
           "Tajikistan"
          ],
          [
           "Thailand"
          ],
          [
           "Turkey"
          ],
          [
           "Turkmenistan"
          ],
          [
           "United Arab Emirates"
          ],
          [
           "Uzbekistan"
          ],
          [
           "Vietnam"
          ],
          [
           "Yemen"
          ]
         ],
         "hovertemplate": "Continent=Asia<br>GDP per capita ($)=%{x}<br>Life expectancy (years)=%{y}<br>Entity=%{customdata[0]}<extra></extra>",
         "legendgroup": "Asia",
         "marker": {
          "color": "#636efa",
          "symbol": "circle"
         },
         "mode": "markers",
         "name": "Asia",
         "orientation": "v",
         "showlegend": true,
         "type": "scatter",
         "x": [
          1934.555,
          11454.4251,
          16628.0553,
          39498.7672,
          4099.253,
          3628.5611,
          13101.7064,
          11984.9049,
          50839.3714,
          6806.4986,
          11851.7372,
          17011.3042,
          12835.8126,
          32954.7701,
          38673.8081,
          11506.3383,
          25307.5554,
          65520.7367,
          5176.9883,
          6450.9066,
          12558.9669,
          24842.3559,
          13382.5423,
          5838.2173,
          2727.4238,
          1596.3517,
          36477.6365,
          5510.3967,
          5207.7569,
          8139.1395,
          153764.1643,
          50304.7502,
          68402.3451,
          37927.6095,
          11662.9064,
          3349.4597,
          44663.8642,
          4440.3819,
          16648.6237,
          19270.2202,
          26318.366,
          76397.8181,
          11220.3702,
          6814.1423,
          2284.8899
         ],
         "xaxis": "x",
         "y": [
          64.486,
          74.945,
          72.86399999999999,
          77.163,
          72.32,
          69.57,
          76.704,
          73.6,
          84.68700000000001,
          69.416,
          71.509,
          76.479,
          70.454,
          82.819,
          84.47,
          74.405,
          73.236,
          75.398,
          71.321,
          67.61,
          78.875,
          75.997,
          69.689,
          66.867,
          70.47800000000001,
          72.095,
          77.633,
          67.11399999999999,
          73.895,
          71.095,
          80.1,
          74.998,
          83.458,
          82.846,
          76.812,
          71.779,
          80.283,
          70.87899999999999,
          76.931,
          77.437,
          68.07300000000001,
          77.814,
          71.57300000000001,
          75.317,
          66.096
         ],
         "yaxis": "y"
        },
        {
         "customdata": [
          [
           "Albania"
          ],
          [
           "Austria"
          ],
          [
           "Belarus"
          ],
          [
           "Belgium"
          ],
          [
           "Bosnia and Herzegovina"
          ],
          [
           "Bulgaria"
          ],
          [
           "Croatia"
          ],
          [
           "Cyprus"
          ],
          [
           "Czechia"
          ],
          [
           "Denmark"
          ],
          [
           "Estonia"
          ],
          [
           "Finland"
          ],
          [
           "France"
          ],
          [
           "Germany"
          ],
          [
           "Greece"
          ],
          [
           "Hungary"
          ],
          [
           "Iceland"
          ],
          [
           "Ireland"
          ],
          [
           "Italy"
          ],
          [
           "Latvia"
          ],
          [
           "Lithuania"
          ],
          [
           "Luxembourg"
          ],
          [
           "Malta"
          ],
          [
           "Moldova"
          ],
          [
           "Montenegro"
          ],
          [
           "Netherlands"
          ],
          [
           "North Macedonia"
          ],
          [
           "Norway"
          ],
          [
           "Poland"
          ],
          [
           "Portugal"
          ],
          [
           "Romania"
          ],
          [
           "Russia"
          ],
          [
           "Serbia"
          ],
          [
           "Slovakia"
          ],
          [
           "Slovenia"
          ],
          [
           "Spain"
          ],
          [
           "Sweden"
          ],
          [
           "Switzerland"
          ],
          [
           "Ukraine"
          ],
          [
           "United Kingdom"
          ]
         ],
         "hovertemplate": "Continent=Europe<br>GDP per capita ($)=%{x}<br>Life expectancy (years)=%{y}<br>Entity=%{customdata[0]}<extra></extra>",
         "legendgroup": "Europe",
         "marker": {
          "color": "#EF553B",
          "symbol": "circle"
         },
         "mode": "markers",
         "name": "Europe",
         "orientation": "v",
         "showlegend": true,
         "type": "scatter",
         "x": [
          11104.1665,
          42988.0709,
          18727.3176,
          39756.2031,
          10460.5201,
          18444.2602,
          22012.3147,
          27184.4166,
          30748.5084,
          46312.3443,
          27408.6649,
          38896.7005,
          38515.9193,
          46177.6187,
          23450.7658,
          25622.8123,
          43438.5412,
          64684.302,
          34364.1682,
          24312.6778,
          27370.5548,
          57427.5003,
          32028.9124,
          6746.7285,
          19504.1588,
          47474.1095,
          13074.2313,
          84580.1362,
          27455.237,
          27035.6002,
          20126.2922,
          24668.9079,
          14124.1177,
          27075.5344,
          29244.9198,
          31496.52,
          45541.8921,
          61372.7301,
          9813.3637,
          38058.0856
         ],
         "xaxis": "x",
         "y": [
          78.458,
          81.434,
          74.59,
          81.468,
          77.262,
          74.928,
          78.342,
          80.828,
          79.222,
          80.78399999999999,
          78.567,
          81.736,
          82.541,
          81.18,
          82.072,
          76.70100000000001,
          82.855,
          82.103,
          83.352,
          75.172,
          75.737,
          82.102,
          82.376,
          71.808,
          76.77,
          82.14299999999999,
          75.688,
          82.271,
          78.544,
          81.857,
          75.92399999999999,
          72.38600000000001,
          75.84899999999999,
          77.388,
          81.172,
          83.43299999999999,
          82.654,
          83.63,
          71.953,
          81.236
         ],
         "yaxis": "y"
        },
        {
         "customdata": [
          [
           "Algeria"
          ],
          [
           "Angola"
          ],
          [
           "Benin"
          ],
          [
           "Botswana"
          ],
          [
           "Burkina Faso"
          ],
          [
           "Burundi"
          ],
          [
           "Cameroon"
          ],
          [
           "Cape Verde"
          ],
          [
           "Central African Republic"
          ],
          [
           "Chad"
          ],
          [
           "Comoros"
          ],
          [
           "Congo"
          ],
          [
           "Cote d'Ivoire"
          ],
          [
           "Democratic Republic of Congo"
          ],
          [
           "Djibouti"
          ],
          [
           "Egypt"
          ],
          [
           "Equatorial Guinea"
          ],
          [
           "Eswatini"
          ],
          [
           "Ethiopia"
          ],
          [
           "Gabon"
          ],
          [
           "Gambia"
          ],
          [
           "Ghana"
          ],
          [
           "Guinea"
          ],
          [
           "Guinea-Bissau"
          ],
          [
           "Kenya"
          ],
          [
           "Lesotho"
          ],
          [
           "Liberia"
          ],
          [
           "Libya"
          ],
          [
           "Madagascar"
          ],
          [
           "Malawi"
          ],
          [
           "Mali"
          ],
          [
           "Mauritania"
          ],
          [
           "Mauritius"
          ],
          [
           "Morocco"
          ],
          [
           "Mozambique"
          ],
          [
           "Namibia"
          ],
          [
           "Niger"
          ],
          [
           "Nigeria"
          ],
          [
           "Rwanda"
          ],
          [
           "Sao Tome and Principe"
          ],
          [
           "Senegal"
          ],
          [
           "Seychelles"
          ],
          [
           "Sierra Leone"
          ],
          [
           "South Africa"
          ],
          [
           "Sudan"
          ],
          [
           "Tanzania"
          ],
          [
           "Togo"
          ],
          [
           "Tunisia"
          ],
          [
           "Uganda"
          ],
          [
           "Zambia"
          ],
          [
           "Zimbabwe"
          ]
         ],
         "hovertemplate": "Continent=Africa<br>GDP per capita ($)=%{x}<br>Life expectancy (years)=%{y}<br>Entity=%{customdata[0]}<extra></extra>",
         "legendgroup": "Africa",
         "marker": {
          "color": "#00cc96",
          "symbol": "circle"
         },
         "mode": "markers",
         "name": "Africa",
         "orientation": "v",
         "showlegend": true,
         "type": "scatter",
         "x": [
          14228.025,
          7771.4418,
          2220.1766,
          15842.1301,
          1589.6242,
          651.3589,
          2888.0459,
          6831.215999999999,
          623.4889,
          2046.3631,
          1724.4206,
          5714.5917,
          3713.6436,
          859.3817,
          3295.6815,
          11957.2122,
          28528.952999999998,
          8068.2118,
          1838.4903,
          17613.5564,
          1882.2399,
          4267.0667,
          1606.4666,
          1501.4136,
          3377.4704,
          2731.4661,
          818.4211,
          15013.3124,
          1427.6004,
          1116.6402,
          1667.2951,
          3457.515,
          20138.5723,
          8451.1355,
          1132.7709,
          9043.1202,
          964.6601,
          5237.6623,
          1929.2851,
          3730.2045,
          2617.1244,
          29531.0612,
          1683.8497,
          12165.7948,
          3379.5957,
          2874.9629,
          1451.3609,
          11353.8865,
          2045.4203,
          3534.0337,
          1611.4052
         ],
         "xaxis": "x",
         "y": [
          76.693,
          60.782,
          61.47,
          69.275,
          61.174,
          61.247,
          58.92100000000001,
          72.782,
          52.805,
          53.977,
          64.118,
          64.29,
          57.422,
          60.368,
          66.582,
          71.825,
          58.402,
          59.401,
          66.24,
          66.187,
          61.735,
          63.78,
          61.185,
          58.003,
          66.342,
          53.705,
          63.73,
          72.72399999999999,
          66.681,
          63.798,
          58.893,
          64.704,
          74.863,
          76.453,
          60.163000000000004,
          63.373000000000005,
          62.023999999999994,
          54.332,
          68.7,
          70.17,
          67.665,
          73.333,
          54.309,
          63.857,
          65.095,
          65.015,
          60.76,
          76.505,
          62.973,
          63.51,
          61.195
         ],
         "yaxis": "y"
        },
        {
         "customdata": [
          [
           "Argentina"
          ],
          [
           "Bolivia"
          ],
          [
           "Brazil"
          ],
          [
           "Chile"
          ],
          [
           "Colombia"
          ],
          [
           "Ecuador"
          ],
          [
           "Paraguay"
          ],
          [
           "Peru"
          ],
          [
           "Uruguay"
          ],
          [
           "Venezuela"
          ]
         ],
         "hovertemplate": "Continent=South America<br>GDP per capita ($)=%{x}<br>Life expectancy (years)=%{y}<br>Entity=%{customdata[0]}<extra></extra>",
         "legendgroup": "South America",
         "marker": {
          "color": "#ab63fa",
          "symbol": "circle"
         },
         "mode": "markers",
         "name": "South America",
         "orientation": "v",
         "showlegend": true,
         "type": "scatter",
         "x": [
          18556.3831,
          6695.7746,
          14033.5656,
          22104.7654,
          13545.0495,
          10638.8251,
          9338.9484,
          12310.0847,
          20185.836,
          10709.9506
         ],
         "xaxis": "x",
         "y": [
          76.52,
          71.23899999999999,
          75.672,
          80.042,
          77.109,
          76.8,
          74.131,
          76.516,
          77.77,
          72.128
         ],
         "yaxis": "y"
        },
        {
         "customdata": [
          [
           "Australia"
          ],
          [
           "New Zealand"
          ]
         ],
         "hovertemplate": "Continent=Oceania<br>GDP per capita ($)=%{x}<br>Life expectancy (years)=%{y}<br>Entity=%{customdata[0]}<extra></extra>",
         "legendgroup": "Oceania",
         "marker": {
          "color": "#FFA15A",
          "symbol": "circle"
         },
         "mode": "markers",
         "name": "Oceania",
         "orientation": "v",
         "showlegend": true,
         "type": "scatter",
         "x": [
          49830.7993,
          35336.1363
         ],
         "xaxis": "x",
         "y": [
          83.281,
          82.145
         ],
         "yaxis": "y"
        },
        {
         "customdata": [
          [
           "Barbados"
          ],
          [
           "Canada"
          ],
          [
           "Costa Rica"
          ],
          [
           "Cuba"
          ],
          [
           "Dominica"
          ],
          [
           "Dominican Republic"
          ],
          [
           "El Salvador"
          ],
          [
           "Guatemala"
          ],
          [
           "Haiti"
          ],
          [
           "Honduras"
          ],
          [
           "Jamaica"
          ],
          [
           "Mexico"
          ],
          [
           "Nicaragua"
          ],
          [
           "Panama"
          ],
          [
           "Puerto Rico"
          ],
          [
           "Saint Lucia"
          ],
          [
           "Trinidad and Tobago"
          ],
          [
           "United States"
          ]
         ],
         "hovertemplate": "Continent=North America<br>GDP per capita ($)=%{x}<br>Life expectancy (years)=%{y}<br>Entity=%{customdata[0]}<extra></extra>",
         "legendgroup": "North America",
         "marker": {
          "color": "#19d3f3",
          "symbol": "circle"
         },
         "mode": "markers",
         "name": "North America",
         "orientation": "v",
         "showlegend": true,
         "type": "scatter",
         "x": [
          11995.1868,
          44868.7435,
          14686.2539,
          8325.6313,
          9021.1737,
          15912.3995,
          8598.1982,
          7402.1146,
          1729.0432,
          5041.6354,
          7272.9805,
          16494.078999999998,
          4952.4772,
          22637.1482,
          35076.2933,
          10475.3689,
          28549.4083,
          55334.7394
         ],
         "xaxis": "x",
         "y": [
          79.081,
          82.315,
          80.095,
          78.726,
          74.806,
          73.892,
          73.096,
          74.063,
          63.66,
          75.08800000000001,
          74.368,
          74.992,
          74.275,
          78.329,
          79.952,
          76.057,
          73.38,
          78.851
         ],
         "yaxis": "y"
        },
        {
         "hovertemplate": "<b>OLS trendline</b><br>Life expectancy = 12.2435 * log10(GDP per capita) + 23.3933<br>R<sup>2</sup>=0.674900<br><br>GDP per capita ($)=%{x}<br>Life expectancy (years)=%{y} <b>(trend)</b><extra></extra>",
         "legendgroup": "Overall Trendline",
         "line": {
          "color": "black"
         },
         "mode": "lines",
         "name": "Overall Trendline",
         "showlegend": true,
         "type": "scatter",
         "x": [
          623.4889,
          651.3589,
          818.4211,
          859.3817,
          964.6601,
          1116.6402,
          1132.7709,
          1427.6004,
          1451.3609,
          1501.4136,
          1589.6242,
          1596.3517,
          1606.4666,
          1611.4052,
          1667.2951,
          1683.8497,
          1724.4206,
          1729.0432,
          1838.4903,
          1882.2399,
          1929.2851,
          1934.555,
          2045.4203,
          2046.3631,
          2220.1766,
          2284.8899,
          2617.1244,
          2727.4238,
          2731.4661,
          2874.9629,
          2888.0459,
          3295.6815,
          3349.4597,
          3377.4704,
          3379.5957,
          3457.515,
          3534.0337,
          3628.5611,
          3713.6436,
          3730.2045,
          4099.253,
          4267.0667,
          4440.3819,
          4952.4772,
          5041.6354,
          5176.9883,
          5207.7569,
          5237.6623,
          5510.3967,
          5714.5917,
          5838.2173,
          6450.9066,
          6695.7746,
          6746.7285,
          6806.4986,
          6814.1423,
          6831.215999999999,
          7272.9805,
          7402.1146,
          7771.4418,
          8068.2118,
          8139.1395,
          8325.6313,
          8451.1355,
          8598.1982,
          9021.1737,
          9043.1202,
          9338.9484,
          9813.3637,
          10460.5201,
          10475.3689,
          10638.8251,
          10709.9506,
          11104.1665,
          11220.3702,
          11353.8865,
          11454.4251,
          11506.3383,
          11662.9064,
          11851.7372,
          11957.2122,
          11984.9049,
          11995.1868,
          12165.7948,
          12310.0847,
          12558.9669,
          12835.8126,
          13074.2313,
          13101.7064,
          13382.5423,
          13545.0495,
          14033.5656,
          14124.1177,
          14228.025,
          14686.2539,
          15013.3124,
          15842.1301,
          15912.3995,
          16494.078999999998,
          16628.0553,
          16648.6237,
          17011.3042,
          17613.5564,
          18444.2602,
          18556.3831,
          18727.3176,
          19270.2202,
          19504.1588,
          20126.2922,
          20138.5723,
          20185.836,
          22012.3147,
          22104.7654,
          22637.1482,
          23450.7658,
          24312.6778,
          24668.9079,
          24842.3559,
          25307.5554,
          25622.8123,
          26318.366,
          27035.6002,
          27075.5344,
          27184.4166,
          27370.5548,
          27408.6649,
          27455.237,
          28528.952999999998,
          28549.4083,
          29244.9198,
          29531.0612,
          30748.5084,
          31496.52,
          32028.9124,
          32954.7701,
          34364.1682,
          35076.2933,
          35336.1363,
          36477.6365,
          37927.6095,
          38058.0856,
          38515.9193,
          38673.8081,
          38896.7005,
          39498.7672,
          39756.2031,
          42988.0709,
          43438.5412,
          44663.8642,
          44868.7435,
          45541.8921,
          46177.6187,
          46312.3443,
          47474.1095,
          49830.7993,
          50304.7502,
          50839.3714,
          55334.7394,
          57427.5003,
          61372.7301,
          64684.302,
          65520.7367,
          68402.3451,
          76397.8181,
          84580.1362,
          153764.1643
         ],
         "xaxis": "x",
         "y": [
          57.61177456401782,
          57.84429852984073,
          59.0583207160562,
          59.317996582145824,
          59.932475981838394,
          60.71041502805758,
          60.7866776470929,
          62.016715693085146,
          62.10448638059992,
          62.284771017970186,
          62.58833782858632,
          62.61079379533511,
          62.644379203218534,
          62.660700525714475,
          62.84199875978983,
          62.894533782169034,
          63.02113008332279,
          63.03536488947232,
          63.36172148565642,
          63.486772095614796,
          63.61803998224978,
          63.63254450318047,
          63.92885532831497,
          63.93130567106117,
          64.36478464429723,
          64.51755606074306,
          65.23942165871155,
          65.45892630219048,
          65.4668011864009,
          65.7390529137909,
          65.76319521675677,
          66.46525149717489,
          66.55131745788017,
          66.59559968430295,
          66.598944575381,
          66.72014694892974,
          66.83654117257058,
          66.97689764228858,
          67.10013803847173,
          67.12379761896717,
          67.6254392970027,
          67.83877871284402,
          68.05047975049777,
          68.63084810810938,
          68.72572238227303,
          68.86659301013411,
          68.89810189639414,
          68.92854891827223,
          69.19846142495422,
          69.39193738287359,
          69.50574132019926,
          70.03638071114904,
          70.23448141701707,
          70.27479201642382,
          70.32169105861877,
          70.32765902031235,
          70.3409654891101,
          70.67416506054138,
          70.7677468006601,
          71.02664533290861,
          71.2259167608913,
          71.2724567733044,
          71.39291667815782,
          71.4724736024068,
          71.56420664243296,
          71.81955209615332,
          71.83247215178038,
          72.00363226966343,
          72.26711139712604,
          72.60668956344294,
          72.61423214325607,
          72.69656163945183,
          72.73199186000633,
          72.92419641336022,
          72.97955198181722,
          73.04245127780709,
          73.08932855730203,
          73.11337285562753,
          73.18523793452542,
          73.27063907273161,
          73.31775112618304,
          73.3300516281546,
          73.33461139308143,
          73.40970654956489,
          73.47240005420346,
          73.57883126528145,
          73.69477050089907,
          73.79263029909475,
          73.80379268631125,
          73.9165646482217,
          73.98074472847425,
          74.16914075888357,
          74.2033405138671,
          74.24231514460749,
          74.410864215771,
          74.52797928529918,
          74.81370650411904,
          74.83723971364284,
          75.02814522055539,
          75.07116140895,
          75.07773466392005,
          75.19232492871447,
          75.37731740044462,
          75.62236108544838,
          75.65458707540768,
          75.70334370167721,
          75.85529902256216,
          75.91946165831986,
          76.08642074999173,
          76.08966411305032,
          76.10212875487214,
          76.5627166440891,
          76.58500222553685,
          76.71154864161265,
          76.89930657467734,
          77.09123280581302,
          77.16857657279549,
          77.20583177731906,
          77.30448276054494,
          77.37031114954347,
          77.51272909635483,
          77.65569758771555,
          77.66354593691705,
          77.68488611130016,
          77.72117074587497,
          77.72856925489596,
          77.73759658087714,
          77.94158108361151,
          77.94539221803055,
          78.07337747763742,
          78.12515057327214,
          78.33996277389795,
          78.46776677834035,
          78.55689480199952,
          78.70842151560772,
          78.9311007811491,
          79.04016412561442,
          79.07940905518953,
          79.24846277051059,
          79.45573028273473,
          79.47399106777145,
          79.53757559714835,
          79.55932825422578,
          79.58988588702047,
          79.67155955895086,
          79.70610287458173,
          80.12168467792499,
          80.17711437400978,
          80.32502886214918,
          80.34936420654569,
          80.4285449072379,
          80.502256449775,
          80.51774731654523,
          80.64948813416466,
          80.90710393829814,
          80.95743872133072,
          81.01365077663787,
          81.46418337646939,
          81.66157361882436,
          82.01486630009133,
          82.29430524900967,
          82.3626224580208,
          82.59148064543464,
          83.1792906391693,
          83.72029937189481,
          86.89854975894261
         ],
         "yaxis": "y"
        }
       ],
       "layout": {
        "legend": {
         "title": {
          "text": "Continent"
         },
         "tracegroupgap": 0
        },
        "template": {
         "data": {
          "bar": [
           {
            "error_x": {
             "color": "#2a3f5f"
            },
            "error_y": {
             "color": "#2a3f5f"
            },
            "marker": {
             "line": {
              "color": "#E5ECF6",
              "width": 0.5
             },
             "pattern": {
              "fillmode": "overlay",
              "size": 10,
              "solidity": 0.2
             }
            },
            "type": "bar"
           }
          ],
          "barpolar": [
           {
            "marker": {
             "line": {
              "color": "#E5ECF6",
              "width": 0.5
             },
             "pattern": {
              "fillmode": "overlay",
              "size": 10,
              "solidity": 0.2
             }
            },
            "type": "barpolar"
           }
          ],
          "carpet": [
           {
            "aaxis": {
             "endlinecolor": "#2a3f5f",
             "gridcolor": "white",
             "linecolor": "white",
             "minorgridcolor": "white",
             "startlinecolor": "#2a3f5f"
            },
            "baxis": {
             "endlinecolor": "#2a3f5f",
             "gridcolor": "white",
             "linecolor": "white",
             "minorgridcolor": "white",
             "startlinecolor": "#2a3f5f"
            },
            "type": "carpet"
           }
          ],
          "choropleth": [
           {
            "colorbar": {
             "outlinewidth": 0,
             "ticks": ""
            },
            "type": "choropleth"
           }
          ],
          "contour": [
           {
            "colorbar": {
             "outlinewidth": 0,
             "ticks": ""
            },
            "colorscale": [
             [
              0,
              "#0d0887"
             ],
             [
              0.1111111111111111,
              "#46039f"
             ],
             [
              0.2222222222222222,
              "#7201a8"
             ],
             [
              0.3333333333333333,
              "#9c179e"
             ],
             [
              0.4444444444444444,
              "#bd3786"
             ],
             [
              0.5555555555555556,
              "#d8576b"
             ],
             [
              0.6666666666666666,
              "#ed7953"
             ],
             [
              0.7777777777777778,
              "#fb9f3a"
             ],
             [
              0.8888888888888888,
              "#fdca26"
             ],
             [
              1,
              "#f0f921"
             ]
            ],
            "type": "contour"
           }
          ],
          "contourcarpet": [
           {
            "colorbar": {
             "outlinewidth": 0,
             "ticks": ""
            },
            "type": "contourcarpet"
           }
          ],
          "heatmap": [
           {
            "colorbar": {
             "outlinewidth": 0,
             "ticks": ""
            },
            "colorscale": [
             [
              0,
              "#0d0887"
             ],
             [
              0.1111111111111111,
              "#46039f"
             ],
             [
              0.2222222222222222,
              "#7201a8"
             ],
             [
              0.3333333333333333,
              "#9c179e"
             ],
             [
              0.4444444444444444,
              "#bd3786"
             ],
             [
              0.5555555555555556,
              "#d8576b"
             ],
             [
              0.6666666666666666,
              "#ed7953"
             ],
             [
              0.7777777777777778,
              "#fb9f3a"
             ],
             [
              0.8888888888888888,
              "#fdca26"
             ],
             [
              1,
              "#f0f921"
             ]
            ],
            "type": "heatmap"
           }
          ],
          "heatmapgl": [
           {
            "colorbar": {
             "outlinewidth": 0,
             "ticks": ""
            },
            "colorscale": [
             [
              0,
              "#0d0887"
             ],
             [
              0.1111111111111111,
              "#46039f"
             ],
             [
              0.2222222222222222,
              "#7201a8"
             ],
             [
              0.3333333333333333,
              "#9c179e"
             ],
             [
              0.4444444444444444,
              "#bd3786"
             ],
             [
              0.5555555555555556,
              "#d8576b"
             ],
             [
              0.6666666666666666,
              "#ed7953"
             ],
             [
              0.7777777777777778,
              "#fb9f3a"
             ],
             [
              0.8888888888888888,
              "#fdca26"
             ],
             [
              1,
              "#f0f921"
             ]
            ],
            "type": "heatmapgl"
           }
          ],
          "histogram": [
           {
            "marker": {
             "pattern": {
              "fillmode": "overlay",
              "size": 10,
              "solidity": 0.2
             }
            },
            "type": "histogram"
           }
          ],
          "histogram2d": [
           {
            "colorbar": {
             "outlinewidth": 0,
             "ticks": ""
            },
            "colorscale": [
             [
              0,
              "#0d0887"
             ],
             [
              0.1111111111111111,
              "#46039f"
             ],
             [
              0.2222222222222222,
              "#7201a8"
             ],
             [
              0.3333333333333333,
              "#9c179e"
             ],
             [
              0.4444444444444444,
              "#bd3786"
             ],
             [
              0.5555555555555556,
              "#d8576b"
             ],
             [
              0.6666666666666666,
              "#ed7953"
             ],
             [
              0.7777777777777778,
              "#fb9f3a"
             ],
             [
              0.8888888888888888,
              "#fdca26"
             ],
             [
              1,
              "#f0f921"
             ]
            ],
            "type": "histogram2d"
           }
          ],
          "histogram2dcontour": [
           {
            "colorbar": {
             "outlinewidth": 0,
             "ticks": ""
            },
            "colorscale": [
             [
              0,
              "#0d0887"
             ],
             [
              0.1111111111111111,
              "#46039f"
             ],
             [
              0.2222222222222222,
              "#7201a8"
             ],
             [
              0.3333333333333333,
              "#9c179e"
             ],
             [
              0.4444444444444444,
              "#bd3786"
             ],
             [
              0.5555555555555556,
              "#d8576b"
             ],
             [
              0.6666666666666666,
              "#ed7953"
             ],
             [
              0.7777777777777778,
              "#fb9f3a"
             ],
             [
              0.8888888888888888,
              "#fdca26"
             ],
             [
              1,
              "#f0f921"
             ]
            ],
            "type": "histogram2dcontour"
           }
          ],
          "mesh3d": [
           {
            "colorbar": {
             "outlinewidth": 0,
             "ticks": ""
            },
            "type": "mesh3d"
           }
          ],
          "parcoords": [
           {
            "line": {
             "colorbar": {
              "outlinewidth": 0,
              "ticks": ""
             }
            },
            "type": "parcoords"
           }
          ],
          "pie": [
           {
            "automargin": true,
            "type": "pie"
           }
          ],
          "scatter": [
           {
            "marker": {
             "colorbar": {
              "outlinewidth": 0,
              "ticks": ""
             }
            },
            "type": "scatter"
           }
          ],
          "scatter3d": [
           {
            "line": {
             "colorbar": {
              "outlinewidth": 0,
              "ticks": ""
             }
            },
            "marker": {
             "colorbar": {
              "outlinewidth": 0,
              "ticks": ""
             }
            },
            "type": "scatter3d"
           }
          ],
          "scattercarpet": [
           {
            "marker": {
             "colorbar": {
              "outlinewidth": 0,
              "ticks": ""
             }
            },
            "type": "scattercarpet"
           }
          ],
          "scattergeo": [
           {
            "marker": {
             "colorbar": {
              "outlinewidth": 0,
              "ticks": ""
             }
            },
            "type": "scattergeo"
           }
          ],
          "scattergl": [
           {
            "marker": {
             "colorbar": {
              "outlinewidth": 0,
              "ticks": ""
             }
            },
            "type": "scattergl"
           }
          ],
          "scattermapbox": [
           {
            "marker": {
             "colorbar": {
              "outlinewidth": 0,
              "ticks": ""
             }
            },
            "type": "scattermapbox"
           }
          ],
          "scatterpolar": [
           {
            "marker": {
             "colorbar": {
              "outlinewidth": 0,
              "ticks": ""
             }
            },
            "type": "scatterpolar"
           }
          ],
          "scatterpolargl": [
           {
            "marker": {
             "colorbar": {
              "outlinewidth": 0,
              "ticks": ""
             }
            },
            "type": "scatterpolargl"
           }
          ],
          "scatterternary": [
           {
            "marker": {
             "colorbar": {
              "outlinewidth": 0,
              "ticks": ""
             }
            },
            "type": "scatterternary"
           }
          ],
          "surface": [
           {
            "colorbar": {
             "outlinewidth": 0,
             "ticks": ""
            },
            "colorscale": [
             [
              0,
              "#0d0887"
             ],
             [
              0.1111111111111111,
              "#46039f"
             ],
             [
              0.2222222222222222,
              "#7201a8"
             ],
             [
              0.3333333333333333,
              "#9c179e"
             ],
             [
              0.4444444444444444,
              "#bd3786"
             ],
             [
              0.5555555555555556,
              "#d8576b"
             ],
             [
              0.6666666666666666,
              "#ed7953"
             ],
             [
              0.7777777777777778,
              "#fb9f3a"
             ],
             [
              0.8888888888888888,
              "#fdca26"
             ],
             [
              1,
              "#f0f921"
             ]
            ],
            "type": "surface"
           }
          ],
          "table": [
           {
            "cells": {
             "fill": {
              "color": "#EBF0F8"
             },
             "line": {
              "color": "white"
             }
            },
            "header": {
             "fill": {
              "color": "#C8D4E3"
             },
             "line": {
              "color": "white"
             }
            },
            "type": "table"
           }
          ]
         },
         "layout": {
          "annotationdefaults": {
           "arrowcolor": "#2a3f5f",
           "arrowhead": 0,
           "arrowwidth": 1
          },
          "autotypenumbers": "strict",
          "coloraxis": {
           "colorbar": {
            "outlinewidth": 0,
            "ticks": ""
           }
          },
          "colorscale": {
           "diverging": [
            [
             0,
             "#8e0152"
            ],
            [
             0.1,
             "#c51b7d"
            ],
            [
             0.2,
             "#de77ae"
            ],
            [
             0.3,
             "#f1b6da"
            ],
            [
             0.4,
             "#fde0ef"
            ],
            [
             0.5,
             "#f7f7f7"
            ],
            [
             0.6,
             "#e6f5d0"
            ],
            [
             0.7,
             "#b8e186"
            ],
            [
             0.8,
             "#7fbc41"
            ],
            [
             0.9,
             "#4d9221"
            ],
            [
             1,
             "#276419"
            ]
           ],
           "sequential": [
            [
             0,
             "#0d0887"
            ],
            [
             0.1111111111111111,
             "#46039f"
            ],
            [
             0.2222222222222222,
             "#7201a8"
            ],
            [
             0.3333333333333333,
             "#9c179e"
            ],
            [
             0.4444444444444444,
             "#bd3786"
            ],
            [
             0.5555555555555556,
             "#d8576b"
            ],
            [
             0.6666666666666666,
             "#ed7953"
            ],
            [
             0.7777777777777778,
             "#fb9f3a"
            ],
            [
             0.8888888888888888,
             "#fdca26"
            ],
            [
             1,
             "#f0f921"
            ]
           ],
           "sequentialminus": [
            [
             0,
             "#0d0887"
            ],
            [
             0.1111111111111111,
             "#46039f"
            ],
            [
             0.2222222222222222,
             "#7201a8"
            ],
            [
             0.3333333333333333,
             "#9c179e"
            ],
            [
             0.4444444444444444,
             "#bd3786"
            ],
            [
             0.5555555555555556,
             "#d8576b"
            ],
            [
             0.6666666666666666,
             "#ed7953"
            ],
            [
             0.7777777777777778,
             "#fb9f3a"
            ],
            [
             0.8888888888888888,
             "#fdca26"
            ],
            [
             1,
             "#f0f921"
            ]
           ]
          },
          "colorway": [
           "#636efa",
           "#EF553B",
           "#00cc96",
           "#ab63fa",
           "#FFA15A",
           "#19d3f3",
           "#FF6692",
           "#B6E880",
           "#FF97FF",
           "#FECB52"
          ],
          "font": {
           "color": "#2a3f5f"
          },
          "geo": {
           "bgcolor": "white",
           "lakecolor": "white",
           "landcolor": "#E5ECF6",
           "showlakes": true,
           "showland": true,
           "subunitcolor": "white"
          },
          "hoverlabel": {
           "align": "left"
          },
          "hovermode": "closest",
          "mapbox": {
           "style": "light"
          },
          "paper_bgcolor": "white",
          "plot_bgcolor": "#E5ECF6",
          "polar": {
           "angularaxis": {
            "gridcolor": "white",
            "linecolor": "white",
            "ticks": ""
           },
           "bgcolor": "#E5ECF6",
           "radialaxis": {
            "gridcolor": "white",
            "linecolor": "white",
            "ticks": ""
           }
          },
          "scene": {
           "xaxis": {
            "backgroundcolor": "#E5ECF6",
            "gridcolor": "white",
            "gridwidth": 2,
            "linecolor": "white",
            "showbackground": true,
            "ticks": "",
            "zerolinecolor": "white"
           },
           "yaxis": {
            "backgroundcolor": "#E5ECF6",
            "gridcolor": "white",
            "gridwidth": 2,
            "linecolor": "white",
            "showbackground": true,
            "ticks": "",
            "zerolinecolor": "white"
           },
           "zaxis": {
            "backgroundcolor": "#E5ECF6",
            "gridcolor": "white",
            "gridwidth": 2,
            "linecolor": "white",
            "showbackground": true,
            "ticks": "",
            "zerolinecolor": "white"
           }
          },
          "shapedefaults": {
           "line": {
            "color": "#2a3f5f"
           }
          },
          "ternary": {
           "aaxis": {
            "gridcolor": "white",
            "linecolor": "white",
            "ticks": ""
           },
           "baxis": {
            "gridcolor": "white",
            "linecolor": "white",
            "ticks": ""
           },
           "bgcolor": "#E5ECF6",
           "caxis": {
            "gridcolor": "white",
            "linecolor": "white",
            "ticks": ""
           }
          },
          "title": {
           "x": 0.05
          },
          "xaxis": {
           "automargin": true,
           "gridcolor": "white",
           "linecolor": "white",
           "ticks": "",
           "title": {
            "standoff": 15
           },
           "zerolinecolor": "white",
           "zerolinewidth": 2
          },
          "yaxis": {
           "automargin": true,
           "gridcolor": "white",
           "linecolor": "white",
           "ticks": "",
           "title": {
            "standoff": 15
           },
           "zerolinecolor": "white",
           "zerolinewidth": 2
          }
         }
        },
        "title": {
         "text": "Life expectancy vs. GDP per capita, 2018"
        },
        "xaxis": {
         "anchor": "y",
         "domain": [
          0,
          1
         ],
         "range": [
          2.7189074773809407,
          5.214218873312952
         ],
         "title": {
          "text": "GDP per capita ($)"
         },
         "type": "log"
        },
        "yaxis": {
         "anchor": "x",
         "domain": [
          0,
          1
         ],
         "range": [
          51.805,
          85.68700000000001
         ],
         "title": {
          "text": "Life expectancy (years)"
         }
        }
       }
      },
      "text/html": [
       "<div>                            <div id=\"838b581f-0e23-4856-a36a-eab734a22789\" class=\"plotly-graph-div\" style=\"height:525px; width:100%;\"></div>            <script type=\"text/javascript\">                require([\"plotly\"], function(Plotly) {                    window.PLOTLYENV=window.PLOTLYENV || {};                                    if (document.getElementById(\"838b581f-0e23-4856-a36a-eab734a22789\")) {                    Plotly.newPlot(                        \"838b581f-0e23-4856-a36a-eab734a22789\",                        [{\"customdata\":[[\"Afghanistan\"],[\"Armenia\"],[\"Azerbaijan\"],[\"Bahrain\"],[\"Bangladesh\"],[\"Cambodia\"],[\"China\"],[\"Georgia\"],[\"Hong Kong\"],[\"India\"],[\"Indonesia\"],[\"Iran\"],[\"Iraq\"],[\"Israel\"],[\"Japan\"],[\"Jordan\"],[\"Kazakhstan\"],[\"Kuwait\"],[\"Kyrgyzstan\"],[\"Laos\"],[\"Lebanon\"],[\"Malaysia\"],[\"Mongolia\"],[\"Myanmar\"],[\"Nepal\"],[\"North Korea\"],[\"Oman\"],[\"Pakistan\"],[\"Palestine\"],[\"Philippines\"],[\"Qatar\"],[\"Saudi Arabia\"],[\"Singapore\"],[\"South Korea\"],[\"Sri Lanka\"],[\"Syria\"],[\"Taiwan\"],[\"Tajikistan\"],[\"Thailand\"],[\"Turkey\"],[\"Turkmenistan\"],[\"United Arab Emirates\"],[\"Uzbekistan\"],[\"Vietnam\"],[\"Yemen\"]],\"hovertemplate\":\"Continent=Asia<br>GDP per capita ($)=%{x}<br>Life expectancy (years)=%{y}<br>Entity=%{customdata[0]}<extra></extra>\",\"legendgroup\":\"Asia\",\"marker\":{\"color\":\"#636efa\",\"symbol\":\"circle\"},\"mode\":\"markers\",\"name\":\"Asia\",\"orientation\":\"v\",\"showlegend\":true,\"x\":[1934.555,11454.4251,16628.0553,39498.7672,4099.253,3628.5611,13101.7064,11984.9049,50839.3714,6806.4986,11851.7372,17011.3042,12835.8126,32954.7701,38673.8081,11506.3383,25307.5554,65520.7367,5176.9883,6450.9066,12558.9669,24842.3559,13382.5423,5838.2173,2727.4238,1596.3517,36477.6365,5510.3967,5207.7569,8139.1395,153764.1643,50304.7502,68402.3451,37927.6095,11662.9064,3349.4597,44663.8642,4440.3819,16648.6237,19270.2202,26318.366,76397.8181,11220.3702,6814.1423,2284.8899],\"xaxis\":\"x\",\"y\":[64.486,74.945,72.86399999999999,77.163,72.32,69.57,76.704,73.6,84.68700000000001,69.416,71.509,76.479,70.454,82.819,84.47,74.405,73.236,75.398,71.321,67.61,78.875,75.997,69.689,66.867,70.47800000000001,72.095,77.633,67.11399999999999,73.895,71.095,80.1,74.998,83.458,82.846,76.812,71.779,80.283,70.87899999999999,76.931,77.437,68.07300000000001,77.814,71.57300000000001,75.317,66.096],\"yaxis\":\"y\",\"type\":\"scatter\"},{\"customdata\":[[\"Albania\"],[\"Austria\"],[\"Belarus\"],[\"Belgium\"],[\"Bosnia and Herzegovina\"],[\"Bulgaria\"],[\"Croatia\"],[\"Cyprus\"],[\"Czechia\"],[\"Denmark\"],[\"Estonia\"],[\"Finland\"],[\"France\"],[\"Germany\"],[\"Greece\"],[\"Hungary\"],[\"Iceland\"],[\"Ireland\"],[\"Italy\"],[\"Latvia\"],[\"Lithuania\"],[\"Luxembourg\"],[\"Malta\"],[\"Moldova\"],[\"Montenegro\"],[\"Netherlands\"],[\"North Macedonia\"],[\"Norway\"],[\"Poland\"],[\"Portugal\"],[\"Romania\"],[\"Russia\"],[\"Serbia\"],[\"Slovakia\"],[\"Slovenia\"],[\"Spain\"],[\"Sweden\"],[\"Switzerland\"],[\"Ukraine\"],[\"United Kingdom\"]],\"hovertemplate\":\"Continent=Europe<br>GDP per capita ($)=%{x}<br>Life expectancy (years)=%{y}<br>Entity=%{customdata[0]}<extra></extra>\",\"legendgroup\":\"Europe\",\"marker\":{\"color\":\"#EF553B\",\"symbol\":\"circle\"},\"mode\":\"markers\",\"name\":\"Europe\",\"orientation\":\"v\",\"showlegend\":true,\"x\":[11104.1665,42988.0709,18727.3176,39756.2031,10460.5201,18444.2602,22012.3147,27184.4166,30748.5084,46312.3443,27408.6649,38896.7005,38515.9193,46177.6187,23450.7658,25622.8123,43438.5412,64684.302,34364.1682,24312.6778,27370.5548,57427.5003,32028.9124,6746.7285,19504.1588,47474.1095,13074.2313,84580.1362,27455.237,27035.6002,20126.2922,24668.9079,14124.1177,27075.5344,29244.9198,31496.52,45541.8921,61372.7301,9813.3637,38058.0856],\"xaxis\":\"x\",\"y\":[78.458,81.434,74.59,81.468,77.262,74.928,78.342,80.828,79.222,80.78399999999999,78.567,81.736,82.541,81.18,82.072,76.70100000000001,82.855,82.103,83.352,75.172,75.737,82.102,82.376,71.808,76.77,82.14299999999999,75.688,82.271,78.544,81.857,75.92399999999999,72.38600000000001,75.84899999999999,77.388,81.172,83.43299999999999,82.654,83.63,71.953,81.236],\"yaxis\":\"y\",\"type\":\"scatter\"},{\"customdata\":[[\"Algeria\"],[\"Angola\"],[\"Benin\"],[\"Botswana\"],[\"Burkina Faso\"],[\"Burundi\"],[\"Cameroon\"],[\"Cape Verde\"],[\"Central African Republic\"],[\"Chad\"],[\"Comoros\"],[\"Congo\"],[\"Cote d'Ivoire\"],[\"Democratic Republic of Congo\"],[\"Djibouti\"],[\"Egypt\"],[\"Equatorial Guinea\"],[\"Eswatini\"],[\"Ethiopia\"],[\"Gabon\"],[\"Gambia\"],[\"Ghana\"],[\"Guinea\"],[\"Guinea-Bissau\"],[\"Kenya\"],[\"Lesotho\"],[\"Liberia\"],[\"Libya\"],[\"Madagascar\"],[\"Malawi\"],[\"Mali\"],[\"Mauritania\"],[\"Mauritius\"],[\"Morocco\"],[\"Mozambique\"],[\"Namibia\"],[\"Niger\"],[\"Nigeria\"],[\"Rwanda\"],[\"Sao Tome and Principe\"],[\"Senegal\"],[\"Seychelles\"],[\"Sierra Leone\"],[\"South Africa\"],[\"Sudan\"],[\"Tanzania\"],[\"Togo\"],[\"Tunisia\"],[\"Uganda\"],[\"Zambia\"],[\"Zimbabwe\"]],\"hovertemplate\":\"Continent=Africa<br>GDP per capita ($)=%{x}<br>Life expectancy (years)=%{y}<br>Entity=%{customdata[0]}<extra></extra>\",\"legendgroup\":\"Africa\",\"marker\":{\"color\":\"#00cc96\",\"symbol\":\"circle\"},\"mode\":\"markers\",\"name\":\"Africa\",\"orientation\":\"v\",\"showlegend\":true,\"x\":[14228.025,7771.4418,2220.1766,15842.1301,1589.6242,651.3589,2888.0459,6831.215999999999,623.4889,2046.3631,1724.4206,5714.5917,3713.6436,859.3817,3295.6815,11957.2122,28528.952999999998,8068.2118,1838.4903,17613.5564,1882.2399,4267.0667,1606.4666,1501.4136,3377.4704,2731.4661,818.4211,15013.3124,1427.6004,1116.6402,1667.2951,3457.515,20138.5723,8451.1355,1132.7709,9043.1202,964.6601,5237.6623,1929.2851,3730.2045,2617.1244,29531.0612,1683.8497,12165.7948,3379.5957,2874.9629,1451.3609,11353.8865,2045.4203,3534.0337,1611.4052],\"xaxis\":\"x\",\"y\":[76.693,60.782,61.47,69.275,61.174,61.247,58.92100000000001,72.782,52.805,53.977,64.118,64.29,57.422,60.368,66.582,71.825,58.402,59.401,66.24,66.187,61.735,63.78,61.185,58.003,66.342,53.705,63.73,72.72399999999999,66.681,63.798,58.893,64.704,74.863,76.453,60.163000000000004,63.373000000000005,62.023999999999994,54.332,68.7,70.17,67.665,73.333,54.309,63.857,65.095,65.015,60.76,76.505,62.973,63.51,61.195],\"yaxis\":\"y\",\"type\":\"scatter\"},{\"customdata\":[[\"Argentina\"],[\"Bolivia\"],[\"Brazil\"],[\"Chile\"],[\"Colombia\"],[\"Ecuador\"],[\"Paraguay\"],[\"Peru\"],[\"Uruguay\"],[\"Venezuela\"]],\"hovertemplate\":\"Continent=South America<br>GDP per capita ($)=%{x}<br>Life expectancy (years)=%{y}<br>Entity=%{customdata[0]}<extra></extra>\",\"legendgroup\":\"South America\",\"marker\":{\"color\":\"#ab63fa\",\"symbol\":\"circle\"},\"mode\":\"markers\",\"name\":\"South America\",\"orientation\":\"v\",\"showlegend\":true,\"x\":[18556.3831,6695.7746,14033.5656,22104.7654,13545.0495,10638.8251,9338.9484,12310.0847,20185.836,10709.9506],\"xaxis\":\"x\",\"y\":[76.52,71.23899999999999,75.672,80.042,77.109,76.8,74.131,76.516,77.77,72.128],\"yaxis\":\"y\",\"type\":\"scatter\"},{\"customdata\":[[\"Australia\"],[\"New Zealand\"]],\"hovertemplate\":\"Continent=Oceania<br>GDP per capita ($)=%{x}<br>Life expectancy (years)=%{y}<br>Entity=%{customdata[0]}<extra></extra>\",\"legendgroup\":\"Oceania\",\"marker\":{\"color\":\"#FFA15A\",\"symbol\":\"circle\"},\"mode\":\"markers\",\"name\":\"Oceania\",\"orientation\":\"v\",\"showlegend\":true,\"x\":[49830.7993,35336.1363],\"xaxis\":\"x\",\"y\":[83.281,82.145],\"yaxis\":\"y\",\"type\":\"scatter\"},{\"customdata\":[[\"Barbados\"],[\"Canada\"],[\"Costa Rica\"],[\"Cuba\"],[\"Dominica\"],[\"Dominican Republic\"],[\"El Salvador\"],[\"Guatemala\"],[\"Haiti\"],[\"Honduras\"],[\"Jamaica\"],[\"Mexico\"],[\"Nicaragua\"],[\"Panama\"],[\"Puerto Rico\"],[\"Saint Lucia\"],[\"Trinidad and Tobago\"],[\"United States\"]],\"hovertemplate\":\"Continent=North America<br>GDP per capita ($)=%{x}<br>Life expectancy (years)=%{y}<br>Entity=%{customdata[0]}<extra></extra>\",\"legendgroup\":\"North America\",\"marker\":{\"color\":\"#19d3f3\",\"symbol\":\"circle\"},\"mode\":\"markers\",\"name\":\"North America\",\"orientation\":\"v\",\"showlegend\":true,\"x\":[11995.1868,44868.7435,14686.2539,8325.6313,9021.1737,15912.3995,8598.1982,7402.1146,1729.0432,5041.6354,7272.9805,16494.078999999998,4952.4772,22637.1482,35076.2933,10475.3689,28549.4083,55334.7394],\"xaxis\":\"x\",\"y\":[79.081,82.315,80.095,78.726,74.806,73.892,73.096,74.063,63.66,75.08800000000001,74.368,74.992,74.275,78.329,79.952,76.057,73.38,78.851],\"yaxis\":\"y\",\"type\":\"scatter\"},{\"hovertemplate\":\"<b>OLS trendline</b><br>Life expectancy = 12.2435 * log10(GDP per capita) + 23.3933<br>R<sup>2</sup>=0.674900<br><br>GDP per capita ($)=%{x}<br>Life expectancy (years)=%{y} <b>(trend)</b><extra></extra>\",\"legendgroup\":\"Overall Trendline\",\"line\":{\"color\":\"black\"},\"mode\":\"lines\",\"name\":\"Overall Trendline\",\"showlegend\":true,\"x\":[623.4889,651.3589,818.4211,859.3817,964.6601,1116.6402,1132.7709,1427.6004,1451.3609,1501.4136,1589.6242,1596.3517,1606.4666,1611.4052,1667.2951,1683.8497,1724.4206,1729.0432,1838.4903,1882.2399,1929.2851,1934.555,2045.4203,2046.3631,2220.1766,2284.8899,2617.1244,2727.4238,2731.4661,2874.9629,2888.0459,3295.6815,3349.4597,3377.4704,3379.5957,3457.515,3534.0337,3628.5611,3713.6436,3730.2045,4099.253,4267.0667,4440.3819,4952.4772,5041.6354,5176.9883,5207.7569,5237.6623,5510.3967,5714.5917,5838.2173,6450.9066,6695.7746,6746.7285,6806.4986,6814.1423,6831.215999999999,7272.9805,7402.1146,7771.4418,8068.2118,8139.1395,8325.6313,8451.1355,8598.1982,9021.1737,9043.1202,9338.9484,9813.3637,10460.5201,10475.3689,10638.8251,10709.9506,11104.1665,11220.3702,11353.8865,11454.4251,11506.3383,11662.9064,11851.7372,11957.2122,11984.9049,11995.1868,12165.7948,12310.0847,12558.9669,12835.8126,13074.2313,13101.7064,13382.5423,13545.0495,14033.5656,14124.1177,14228.025,14686.2539,15013.3124,15842.1301,15912.3995,16494.078999999998,16628.0553,16648.6237,17011.3042,17613.5564,18444.2602,18556.3831,18727.3176,19270.2202,19504.1588,20126.2922,20138.5723,20185.836,22012.3147,22104.7654,22637.1482,23450.7658,24312.6778,24668.9079,24842.3559,25307.5554,25622.8123,26318.366,27035.6002,27075.5344,27184.4166,27370.5548,27408.6649,27455.237,28528.952999999998,28549.4083,29244.9198,29531.0612,30748.5084,31496.52,32028.9124,32954.7701,34364.1682,35076.2933,35336.1363,36477.6365,37927.6095,38058.0856,38515.9193,38673.8081,38896.7005,39498.7672,39756.2031,42988.0709,43438.5412,44663.8642,44868.7435,45541.8921,46177.6187,46312.3443,47474.1095,49830.7993,50304.7502,50839.3714,55334.7394,57427.5003,61372.7301,64684.302,65520.7367,68402.3451,76397.8181,84580.1362,153764.1643],\"y\":[57.61177456401782,57.84429852984073,59.0583207160562,59.317996582145824,59.932475981838394,60.71041502805758,60.7866776470929,62.016715693085146,62.10448638059992,62.284771017970186,62.58833782858632,62.61079379533511,62.644379203218534,62.660700525714475,62.84199875978983,62.894533782169034,63.02113008332279,63.03536488947232,63.36172148565642,63.486772095614796,63.61803998224978,63.63254450318047,63.92885532831497,63.93130567106117,64.36478464429723,64.51755606074306,65.23942165871155,65.45892630219048,65.4668011864009,65.7390529137909,65.76319521675677,66.46525149717489,66.55131745788017,66.59559968430295,66.598944575381,66.72014694892974,66.83654117257058,66.97689764228858,67.10013803847173,67.12379761896717,67.6254392970027,67.83877871284402,68.05047975049777,68.63084810810938,68.72572238227303,68.86659301013411,68.89810189639414,68.92854891827223,69.19846142495422,69.39193738287359,69.50574132019926,70.03638071114904,70.23448141701707,70.27479201642382,70.32169105861877,70.32765902031235,70.3409654891101,70.67416506054138,70.7677468006601,71.02664533290861,71.2259167608913,71.2724567733044,71.39291667815782,71.4724736024068,71.56420664243296,71.81955209615332,71.83247215178038,72.00363226966343,72.26711139712604,72.60668956344294,72.61423214325607,72.69656163945183,72.73199186000633,72.92419641336022,72.97955198181722,73.04245127780709,73.08932855730203,73.11337285562753,73.18523793452542,73.27063907273161,73.31775112618304,73.3300516281546,73.33461139308143,73.40970654956489,73.47240005420346,73.57883126528145,73.69477050089907,73.79263029909475,73.80379268631125,73.9165646482217,73.98074472847425,74.16914075888357,74.2033405138671,74.24231514460749,74.410864215771,74.52797928529918,74.81370650411904,74.83723971364284,75.02814522055539,75.07116140895,75.07773466392005,75.19232492871447,75.37731740044462,75.62236108544838,75.65458707540768,75.70334370167721,75.85529902256216,75.91946165831986,76.08642074999173,76.08966411305032,76.10212875487214,76.5627166440891,76.58500222553685,76.71154864161265,76.89930657467734,77.09123280581302,77.16857657279549,77.20583177731906,77.30448276054494,77.37031114954347,77.51272909635483,77.65569758771555,77.66354593691705,77.68488611130016,77.72117074587497,77.72856925489596,77.73759658087714,77.94158108361151,77.94539221803055,78.07337747763742,78.12515057327214,78.33996277389795,78.46776677834035,78.55689480199952,78.70842151560772,78.9311007811491,79.04016412561442,79.07940905518953,79.24846277051059,79.45573028273473,79.47399106777145,79.53757559714835,79.55932825422578,79.58988588702047,79.67155955895086,79.70610287458173,80.12168467792499,80.17711437400978,80.32502886214918,80.34936420654569,80.4285449072379,80.502256449775,80.51774731654523,80.64948813416466,80.90710393829814,80.95743872133072,81.01365077663787,81.46418337646939,81.66157361882436,82.01486630009133,82.29430524900967,82.3626224580208,82.59148064543464,83.1792906391693,83.72029937189481,86.89854975894261],\"type\":\"scatter\",\"xaxis\":\"x\",\"yaxis\":\"y\"}],                        {\"template\":{\"data\":{\"bar\":[{\"error_x\":{\"color\":\"#2a3f5f\"},\"error_y\":{\"color\":\"#2a3f5f\"},\"marker\":{\"line\":{\"color\":\"#E5ECF6\",\"width\":0.5},\"pattern\":{\"fillmode\":\"overlay\",\"size\":10,\"solidity\":0.2}},\"type\":\"bar\"}],\"barpolar\":[{\"marker\":{\"line\":{\"color\":\"#E5ECF6\",\"width\":0.5},\"pattern\":{\"fillmode\":\"overlay\",\"size\":10,\"solidity\":0.2}},\"type\":\"barpolar\"}],\"carpet\":[{\"aaxis\":{\"endlinecolor\":\"#2a3f5f\",\"gridcolor\":\"white\",\"linecolor\":\"white\",\"minorgridcolor\":\"white\",\"startlinecolor\":\"#2a3f5f\"},\"baxis\":{\"endlinecolor\":\"#2a3f5f\",\"gridcolor\":\"white\",\"linecolor\":\"white\",\"minorgridcolor\":\"white\",\"startlinecolor\":\"#2a3f5f\"},\"type\":\"carpet\"}],\"choropleth\":[{\"colorbar\":{\"outlinewidth\":0,\"ticks\":\"\"},\"type\":\"choropleth\"}],\"contour\":[{\"colorbar\":{\"outlinewidth\":0,\"ticks\":\"\"},\"colorscale\":[[0.0,\"#0d0887\"],[0.1111111111111111,\"#46039f\"],[0.2222222222222222,\"#7201a8\"],[0.3333333333333333,\"#9c179e\"],[0.4444444444444444,\"#bd3786\"],[0.5555555555555556,\"#d8576b\"],[0.6666666666666666,\"#ed7953\"],[0.7777777777777778,\"#fb9f3a\"],[0.8888888888888888,\"#fdca26\"],[1.0,\"#f0f921\"]],\"type\":\"contour\"}],\"contourcarpet\":[{\"colorbar\":{\"outlinewidth\":0,\"ticks\":\"\"},\"type\":\"contourcarpet\"}],\"heatmap\":[{\"colorbar\":{\"outlinewidth\":0,\"ticks\":\"\"},\"colorscale\":[[0.0,\"#0d0887\"],[0.1111111111111111,\"#46039f\"],[0.2222222222222222,\"#7201a8\"],[0.3333333333333333,\"#9c179e\"],[0.4444444444444444,\"#bd3786\"],[0.5555555555555556,\"#d8576b\"],[0.6666666666666666,\"#ed7953\"],[0.7777777777777778,\"#fb9f3a\"],[0.8888888888888888,\"#fdca26\"],[1.0,\"#f0f921\"]],\"type\":\"heatmap\"}],\"heatmapgl\":[{\"colorbar\":{\"outlinewidth\":0,\"ticks\":\"\"},\"colorscale\":[[0.0,\"#0d0887\"],[0.1111111111111111,\"#46039f\"],[0.2222222222222222,\"#7201a8\"],[0.3333333333333333,\"#9c179e\"],[0.4444444444444444,\"#bd3786\"],[0.5555555555555556,\"#d8576b\"],[0.6666666666666666,\"#ed7953\"],[0.7777777777777778,\"#fb9f3a\"],[0.8888888888888888,\"#fdca26\"],[1.0,\"#f0f921\"]],\"type\":\"heatmapgl\"}],\"histogram\":[{\"marker\":{\"pattern\":{\"fillmode\":\"overlay\",\"size\":10,\"solidity\":0.2}},\"type\":\"histogram\"}],\"histogram2d\":[{\"colorbar\":{\"outlinewidth\":0,\"ticks\":\"\"},\"colorscale\":[[0.0,\"#0d0887\"],[0.1111111111111111,\"#46039f\"],[0.2222222222222222,\"#7201a8\"],[0.3333333333333333,\"#9c179e\"],[0.4444444444444444,\"#bd3786\"],[0.5555555555555556,\"#d8576b\"],[0.6666666666666666,\"#ed7953\"],[0.7777777777777778,\"#fb9f3a\"],[0.8888888888888888,\"#fdca26\"],[1.0,\"#f0f921\"]],\"type\":\"histogram2d\"}],\"histogram2dcontour\":[{\"colorbar\":{\"outlinewidth\":0,\"ticks\":\"\"},\"colorscale\":[[0.0,\"#0d0887\"],[0.1111111111111111,\"#46039f\"],[0.2222222222222222,\"#7201a8\"],[0.3333333333333333,\"#9c179e\"],[0.4444444444444444,\"#bd3786\"],[0.5555555555555556,\"#d8576b\"],[0.6666666666666666,\"#ed7953\"],[0.7777777777777778,\"#fb9f3a\"],[0.8888888888888888,\"#fdca26\"],[1.0,\"#f0f921\"]],\"type\":\"histogram2dcontour\"}],\"mesh3d\":[{\"colorbar\":{\"outlinewidth\":0,\"ticks\":\"\"},\"type\":\"mesh3d\"}],\"parcoords\":[{\"line\":{\"colorbar\":{\"outlinewidth\":0,\"ticks\":\"\"}},\"type\":\"parcoords\"}],\"pie\":[{\"automargin\":true,\"type\":\"pie\"}],\"scatter\":[{\"marker\":{\"colorbar\":{\"outlinewidth\":0,\"ticks\":\"\"}},\"type\":\"scatter\"}],\"scatter3d\":[{\"line\":{\"colorbar\":{\"outlinewidth\":0,\"ticks\":\"\"}},\"marker\":{\"colorbar\":{\"outlinewidth\":0,\"ticks\":\"\"}},\"type\":\"scatter3d\"}],\"scattercarpet\":[{\"marker\":{\"colorbar\":{\"outlinewidth\":0,\"ticks\":\"\"}},\"type\":\"scattercarpet\"}],\"scattergeo\":[{\"marker\":{\"colorbar\":{\"outlinewidth\":0,\"ticks\":\"\"}},\"type\":\"scattergeo\"}],\"scattergl\":[{\"marker\":{\"colorbar\":{\"outlinewidth\":0,\"ticks\":\"\"}},\"type\":\"scattergl\"}],\"scattermapbox\":[{\"marker\":{\"colorbar\":{\"outlinewidth\":0,\"ticks\":\"\"}},\"type\":\"scattermapbox\"}],\"scatterpolar\":[{\"marker\":{\"colorbar\":{\"outlinewidth\":0,\"ticks\":\"\"}},\"type\":\"scatterpolar\"}],\"scatterpolargl\":[{\"marker\":{\"colorbar\":{\"outlinewidth\":0,\"ticks\":\"\"}},\"type\":\"scatterpolargl\"}],\"scatterternary\":[{\"marker\":{\"colorbar\":{\"outlinewidth\":0,\"ticks\":\"\"}},\"type\":\"scatterternary\"}],\"surface\":[{\"colorbar\":{\"outlinewidth\":0,\"ticks\":\"\"},\"colorscale\":[[0.0,\"#0d0887\"],[0.1111111111111111,\"#46039f\"],[0.2222222222222222,\"#7201a8\"],[0.3333333333333333,\"#9c179e\"],[0.4444444444444444,\"#bd3786\"],[0.5555555555555556,\"#d8576b\"],[0.6666666666666666,\"#ed7953\"],[0.7777777777777778,\"#fb9f3a\"],[0.8888888888888888,\"#fdca26\"],[1.0,\"#f0f921\"]],\"type\":\"surface\"}],\"table\":[{\"cells\":{\"fill\":{\"color\":\"#EBF0F8\"},\"line\":{\"color\":\"white\"}},\"header\":{\"fill\":{\"color\":\"#C8D4E3\"},\"line\":{\"color\":\"white\"}},\"type\":\"table\"}]},\"layout\":{\"annotationdefaults\":{\"arrowcolor\":\"#2a3f5f\",\"arrowhead\":0,\"arrowwidth\":1},\"autotypenumbers\":\"strict\",\"coloraxis\":{\"colorbar\":{\"outlinewidth\":0,\"ticks\":\"\"}},\"colorscale\":{\"diverging\":[[0,\"#8e0152\"],[0.1,\"#c51b7d\"],[0.2,\"#de77ae\"],[0.3,\"#f1b6da\"],[0.4,\"#fde0ef\"],[0.5,\"#f7f7f7\"],[0.6,\"#e6f5d0\"],[0.7,\"#b8e186\"],[0.8,\"#7fbc41\"],[0.9,\"#4d9221\"],[1,\"#276419\"]],\"sequential\":[[0.0,\"#0d0887\"],[0.1111111111111111,\"#46039f\"],[0.2222222222222222,\"#7201a8\"],[0.3333333333333333,\"#9c179e\"],[0.4444444444444444,\"#bd3786\"],[0.5555555555555556,\"#d8576b\"],[0.6666666666666666,\"#ed7953\"],[0.7777777777777778,\"#fb9f3a\"],[0.8888888888888888,\"#fdca26\"],[1.0,\"#f0f921\"]],\"sequentialminus\":[[0.0,\"#0d0887\"],[0.1111111111111111,\"#46039f\"],[0.2222222222222222,\"#7201a8\"],[0.3333333333333333,\"#9c179e\"],[0.4444444444444444,\"#bd3786\"],[0.5555555555555556,\"#d8576b\"],[0.6666666666666666,\"#ed7953\"],[0.7777777777777778,\"#fb9f3a\"],[0.8888888888888888,\"#fdca26\"],[1.0,\"#f0f921\"]]},\"colorway\":[\"#636efa\",\"#EF553B\",\"#00cc96\",\"#ab63fa\",\"#FFA15A\",\"#19d3f3\",\"#FF6692\",\"#B6E880\",\"#FF97FF\",\"#FECB52\"],\"font\":{\"color\":\"#2a3f5f\"},\"geo\":{\"bgcolor\":\"white\",\"lakecolor\":\"white\",\"landcolor\":\"#E5ECF6\",\"showlakes\":true,\"showland\":true,\"subunitcolor\":\"white\"},\"hoverlabel\":{\"align\":\"left\"},\"hovermode\":\"closest\",\"mapbox\":{\"style\":\"light\"},\"paper_bgcolor\":\"white\",\"plot_bgcolor\":\"#E5ECF6\",\"polar\":{\"angularaxis\":{\"gridcolor\":\"white\",\"linecolor\":\"white\",\"ticks\":\"\"},\"bgcolor\":\"#E5ECF6\",\"radialaxis\":{\"gridcolor\":\"white\",\"linecolor\":\"white\",\"ticks\":\"\"}},\"scene\":{\"xaxis\":{\"backgroundcolor\":\"#E5ECF6\",\"gridcolor\":\"white\",\"gridwidth\":2,\"linecolor\":\"white\",\"showbackground\":true,\"ticks\":\"\",\"zerolinecolor\":\"white\"},\"yaxis\":{\"backgroundcolor\":\"#E5ECF6\",\"gridcolor\":\"white\",\"gridwidth\":2,\"linecolor\":\"white\",\"showbackground\":true,\"ticks\":\"\",\"zerolinecolor\":\"white\"},\"zaxis\":{\"backgroundcolor\":\"#E5ECF6\",\"gridcolor\":\"white\",\"gridwidth\":2,\"linecolor\":\"white\",\"showbackground\":true,\"ticks\":\"\",\"zerolinecolor\":\"white\"}},\"shapedefaults\":{\"line\":{\"color\":\"#2a3f5f\"}},\"ternary\":{\"aaxis\":{\"gridcolor\":\"white\",\"linecolor\":\"white\",\"ticks\":\"\"},\"baxis\":{\"gridcolor\":\"white\",\"linecolor\":\"white\",\"ticks\":\"\"},\"bgcolor\":\"#E5ECF6\",\"caxis\":{\"gridcolor\":\"white\",\"linecolor\":\"white\",\"ticks\":\"\"}},\"title\":{\"x\":0.05},\"xaxis\":{\"automargin\":true,\"gridcolor\":\"white\",\"linecolor\":\"white\",\"ticks\":\"\",\"title\":{\"standoff\":15},\"zerolinecolor\":\"white\",\"zerolinewidth\":2},\"yaxis\":{\"automargin\":true,\"gridcolor\":\"white\",\"linecolor\":\"white\",\"ticks\":\"\",\"title\":{\"standoff\":15},\"zerolinecolor\":\"white\",\"zerolinewidth\":2}}},\"xaxis\":{\"anchor\":\"y\",\"domain\":[0.0,1.0],\"title\":{\"text\":\"GDP per capita ($)\"},\"type\":\"log\",\"range\":[2.7189074773809407,5.214218873312952]},\"yaxis\":{\"anchor\":\"x\",\"domain\":[0.0,1.0],\"title\":{\"text\":\"Life expectancy (years)\"},\"range\":[51.805,85.68700000000001]},\"legend\":{\"title\":{\"text\":\"Continent\"},\"tracegroupgap\":0},\"title\":{\"text\":\"Life expectancy vs. GDP per capita, 2018\"}},                        {\"responsive\": true}                    ).then(function(){\n",
       "                            \n",
       "var gd = document.getElementById('838b581f-0e23-4856-a36a-eab734a22789');\n",
       "var x = new MutationObserver(function (mutations, observer) {{\n",
       "        var display = window.getComputedStyle(gd).display;\n",
       "        if (!display || display === 'none') {{\n",
       "            console.log([gd, 'removed!']);\n",
       "            Plotly.purge(gd);\n",
       "            observer.disconnect();\n",
       "        }}\n",
       "}});\n",
       "\n",
       "// Listen for the removal of the full notebook cells\n",
       "var notebookContainer = gd.closest('#notebook-container');\n",
       "if (notebookContainer) {{\n",
       "    x.observe(notebookContainer, {childList: true});\n",
       "}}\n",
       "\n",
       "// Listen for the clearing of the current output cell\n",
       "var outputEl = gd.closest('.output');\n",
       "if (outputEl) {{\n",
       "    x.observe(outputEl, {childList: true});\n",
       "}}\n",
       "\n",
       "                        })                };                });            </script>        </div>"
      ]
     },
     "metadata": {},
     "output_type": "display_data"
    }
   ],
   "source": [
    "plotFigure(readCSV('life-expectancy-vs-gdp-per-capita.csv',\n",
    "          'GDP per capita',\n",
    "          'Life expectancy',\n",
    "          'Life expectancy vs. GDP per capita'), 'GDP per capita ($)', \n",
    "           'Life expectancy (years)', 'Life expectancy vs. GDP per capita')"
   ]
  },
  {
   "cell_type": "markdown",
   "metadata": {},
   "source": [
    "#### B. Consider whether the results obtained seem reasonable and discuss what might be the explanation for the results you obtained. [1p]"
   ]
  },
  {
   "cell_type": "code",
   "execution_count": null,
   "metadata": {},
   "outputs": [],
   "source": []
  },
  {
   "cell_type": "markdown",
   "metadata": {},
   "source": [
    "#### C. Did you do any data cleaning (e.g., by removing entries that you think are not useful) for the task of drawing scatter plot(s) and the task of answering the questions d, e, f, and g? If so, explain what kind of entries that you chose to remove and why. If not, explain why you did not need to. [0.5p]"
   ]
  },
  {
   "cell_type": "code",
   "execution_count": null,
   "metadata": {},
   "outputs": [],
   "source": []
  },
  {
   "cell_type": "markdown",
   "metadata": {},
   "source": [
    "#### D. Which countries have a life expectancy higher than one standard deviation above the mean? [0.5p]"
   ]
  },
  {
   "cell_type": "code",
   "execution_count": 26,
   "metadata": {},
   "outputs": [
    {
     "name": "stdout",
     "output_type": "stream",
     "text": [
      "Year of interest for the data \"Life expectancy vs. GDP per capita\": \n",
      "2018\n",
      "---------------------------------------------------------------------------------------------------------------------\n",
      "Dataframe with countries having Life expectancy vs. GDP per capita higher than the standard mean.\n"
     ]
    },
    {
     "data": {
      "text/html": [
       "<div>\n",
       "<style scoped>\n",
       "    .dataframe tbody tr th:only-of-type {\n",
       "        vertical-align: middle;\n",
       "    }\n",
       "\n",
       "    .dataframe tbody tr th {\n",
       "        vertical-align: top;\n",
       "    }\n",
       "\n",
       "    .dataframe thead th {\n",
       "        text-align: right;\n",
       "    }\n",
       "</style>\n",
       "<table border=\"1\" class=\"dataframe\">\n",
       "  <thead>\n",
       "    <tr style=\"text-align: right;\">\n",
       "      <th></th>\n",
       "      <th>Entity</th>\n",
       "      <th>Year</th>\n",
       "      <th>Life expectancy</th>\n",
       "    </tr>\n",
       "  </thead>\n",
       "  <tbody>\n",
       "    <tr>\n",
       "      <th>14</th>\n",
       "      <td>Australia</td>\n",
       "      <td>2018</td>\n",
       "      <td>83.281</td>\n",
       "    </tr>\n",
       "    <tr>\n",
       "      <th>15</th>\n",
       "      <td>Austria</td>\n",
       "      <td>2018</td>\n",
       "      <td>81.434</td>\n",
       "    </tr>\n",
       "    <tr>\n",
       "      <th>22</th>\n",
       "      <td>Belgium</td>\n",
       "      <td>2018</td>\n",
       "      <td>81.468</td>\n",
       "    </tr>\n",
       "    <tr>\n",
       "      <th>39</th>\n",
       "      <td>Canada</td>\n",
       "      <td>2018</td>\n",
       "      <td>82.315</td>\n",
       "    </tr>\n",
       "    <tr>\n",
       "      <th>56</th>\n",
       "      <td>Cyprus</td>\n",
       "      <td>2018</td>\n",
       "      <td>80.828</td>\n",
       "    </tr>\n",
       "    <tr>\n",
       "      <th>60</th>\n",
       "      <td>Denmark</td>\n",
       "      <td>2018</td>\n",
       "      <td>80.784</td>\n",
       "    </tr>\n",
       "    <tr>\n",
       "      <th>78</th>\n",
       "      <td>Finland</td>\n",
       "      <td>2018</td>\n",
       "      <td>81.736</td>\n",
       "    </tr>\n",
       "    <tr>\n",
       "      <th>81</th>\n",
       "      <td>France</td>\n",
       "      <td>2018</td>\n",
       "      <td>82.541</td>\n",
       "    </tr>\n",
       "    <tr>\n",
       "      <th>87</th>\n",
       "      <td>Germany</td>\n",
       "      <td>2018</td>\n",
       "      <td>81.180</td>\n",
       "    </tr>\n",
       "    <tr>\n",
       "      <th>90</th>\n",
       "      <td>Greece</td>\n",
       "      <td>2018</td>\n",
       "      <td>82.072</td>\n",
       "    </tr>\n",
       "    <tr>\n",
       "      <th>101</th>\n",
       "      <td>Hong Kong</td>\n",
       "      <td>2018</td>\n",
       "      <td>84.687</td>\n",
       "    </tr>\n",
       "    <tr>\n",
       "      <th>103</th>\n",
       "      <td>Iceland</td>\n",
       "      <td>2018</td>\n",
       "      <td>82.855</td>\n",
       "    </tr>\n",
       "    <tr>\n",
       "      <th>108</th>\n",
       "      <td>Ireland</td>\n",
       "      <td>2018</td>\n",
       "      <td>82.103</td>\n",
       "    </tr>\n",
       "    <tr>\n",
       "      <th>110</th>\n",
       "      <td>Israel</td>\n",
       "      <td>2018</td>\n",
       "      <td>82.819</td>\n",
       "    </tr>\n",
       "    <tr>\n",
       "      <th>111</th>\n",
       "      <td>Italy</td>\n",
       "      <td>2018</td>\n",
       "      <td>83.352</td>\n",
       "    </tr>\n",
       "    <tr>\n",
       "      <th>113</th>\n",
       "      <td>Japan</td>\n",
       "      <td>2018</td>\n",
       "      <td>84.470</td>\n",
       "    </tr>\n",
       "    <tr>\n",
       "      <th>130</th>\n",
       "      <td>Luxembourg</td>\n",
       "      <td>2018</td>\n",
       "      <td>82.102</td>\n",
       "    </tr>\n",
       "    <tr>\n",
       "      <th>137</th>\n",
       "      <td>Malta</td>\n",
       "      <td>2018</td>\n",
       "      <td>82.376</td>\n",
       "    </tr>\n",
       "    <tr>\n",
       "      <th>157</th>\n",
       "      <td>Netherlands</td>\n",
       "      <td>2018</td>\n",
       "      <td>82.143</td>\n",
       "    </tr>\n",
       "    <tr>\n",
       "      <th>159</th>\n",
       "      <td>New Zealand</td>\n",
       "      <td>2018</td>\n",
       "      <td>82.145</td>\n",
       "    </tr>\n",
       "    <tr>\n",
       "      <th>169</th>\n",
       "      <td>Norway</td>\n",
       "      <td>2018</td>\n",
       "      <td>82.271</td>\n",
       "    </tr>\n",
       "    <tr>\n",
       "      <th>181</th>\n",
       "      <td>Portugal</td>\n",
       "      <td>2018</td>\n",
       "      <td>81.857</td>\n",
       "    </tr>\n",
       "    <tr>\n",
       "      <th>203</th>\n",
       "      <td>Singapore</td>\n",
       "      <td>2018</td>\n",
       "      <td>83.458</td>\n",
       "    </tr>\n",
       "    <tr>\n",
       "      <th>206</th>\n",
       "      <td>Slovenia</td>\n",
       "      <td>2018</td>\n",
       "      <td>81.172</td>\n",
       "    </tr>\n",
       "    <tr>\n",
       "      <th>211</th>\n",
       "      <td>South Korea</td>\n",
       "      <td>2018</td>\n",
       "      <td>82.846</td>\n",
       "    </tr>\n",
       "    <tr>\n",
       "      <th>214</th>\n",
       "      <td>Spain</td>\n",
       "      <td>2018</td>\n",
       "      <td>83.433</td>\n",
       "    </tr>\n",
       "    <tr>\n",
       "      <th>219</th>\n",
       "      <td>Sweden</td>\n",
       "      <td>2018</td>\n",
       "      <td>82.654</td>\n",
       "    </tr>\n",
       "    <tr>\n",
       "      <th>220</th>\n",
       "      <td>Switzerland</td>\n",
       "      <td>2018</td>\n",
       "      <td>83.630</td>\n",
       "    </tr>\n",
       "    <tr>\n",
       "      <th>239</th>\n",
       "      <td>United Kingdom</td>\n",
       "      <td>2018</td>\n",
       "      <td>81.236</td>\n",
       "    </tr>\n",
       "  </tbody>\n",
       "</table>\n",
       "</div>"
      ],
      "text/plain": [
       "             Entity  Year  Life expectancy\n",
       "14        Australia  2018           83.281\n",
       "15          Austria  2018           81.434\n",
       "22          Belgium  2018           81.468\n",
       "39           Canada  2018           82.315\n",
       "56           Cyprus  2018           80.828\n",
       "60          Denmark  2018           80.784\n",
       "78          Finland  2018           81.736\n",
       "81           France  2018           82.541\n",
       "87          Germany  2018           81.180\n",
       "90           Greece  2018           82.072\n",
       "101       Hong Kong  2018           84.687\n",
       "103         Iceland  2018           82.855\n",
       "108         Ireland  2018           82.103\n",
       "110          Israel  2018           82.819\n",
       "111           Italy  2018           83.352\n",
       "113           Japan  2018           84.470\n",
       "130      Luxembourg  2018           82.102\n",
       "137           Malta  2018           82.376\n",
       "157     Netherlands  2018           82.143\n",
       "159     New Zealand  2018           82.145\n",
       "169          Norway  2018           82.271\n",
       "181        Portugal  2018           81.857\n",
       "203       Singapore  2018           83.458\n",
       "206        Slovenia  2018           81.172\n",
       "211     South Korea  2018           82.846\n",
       "214           Spain  2018           83.433\n",
       "219          Sweden  2018           82.654\n",
       "220     Switzerland  2018           83.630\n",
       "239  United Kingdom  2018           81.236"
      ]
     },
     "metadata": {},
     "output_type": "display_data"
    }
   ],
   "source": [
    "aboveSD(readCSV('life-expectancy-vs-gdp-per-capita.csv',\n",
    "          'GDP per capita',\n",
    "          'Life expectancy',\n",
    "          'Life expectancy vs. GDP per capita'), 'Life expectancy vs. GDP per capita')"
   ]
  },
  {
   "cell_type": "markdown",
   "metadata": {},
   "source": [
    "#### E. Which countries have high life expectancy but have low GDP (per capita)? [0.5p]"
   ]
  },
  {
   "cell_type": "code",
   "execution_count": null,
   "metadata": {},
   "outputs": [],
   "source": []
  },
  {
   "cell_type": "markdown",
   "metadata": {},
   "source": [
    "#### F. Does every strong economy (normally indicated by GDP) have high life expectancy? [1p]"
   ]
  },
  {
   "cell_type": "code",
   "execution_count": null,
   "metadata": {},
   "outputs": [],
   "source": []
  },
  {
   "cell_type": "markdown",
   "metadata": {},
   "source": [
    "#### G. Related to question f, what would happen if you use GDP per capita as an indicator of strong economy? Explain the results you obtained, and discuss any insights you get from comparing the results of g and f. [1p]"
   ]
  },
  {
   "cell_type": "code",
   "execution_count": null,
   "metadata": {},
   "outputs": [],
   "source": []
  },
  {
   "cell_type": "markdown",
   "metadata": {},
   "source": [
    "## Task 2 - Download some other data sets, e.g. related to happiness and life satisfaction, trust, corruption, etc. <br>\n",
    "#### A.\tThink of several meaningful questions that can be answered with these data, make several informative visualisations to answer those questions. State any assumptions and motivate decisions that you make when selecting data to be plotted, and in combining data. [2.5p] "
   ]
  },
  {
   "cell_type": "markdown",
   "metadata": {},
   "source": [
    "##### 1. Happiness vs. GDP per capita"
   ]
  },
  {
   "cell_type": "code",
   "execution_count": 49,
   "metadata": {},
   "outputs": [
    {
     "name": "stdout",
     "output_type": "stream",
     "text": [
      "Year of interest for the data \"Happiness vs. GDP per capita\": \n",
      "2016\n",
      "---------------------------------------------------------------------------------------------------------------------\n"
     ]
    },
    {
     "data": {
      "application/vnd.plotly.v1+json": {
       "config": {
        "plotlyServerURL": "https://plot.ly"
       },
       "data": [
        {
         "customdata": [
          [
           "Afghanistan"
          ],
          [
           "Armenia"
          ],
          [
           "Azerbaijan"
          ],
          [
           "Bahrain"
          ],
          [
           "Bangladesh"
          ],
          [
           "Cambodia"
          ],
          [
           "China"
          ],
          [
           "Georgia"
          ],
          [
           "Hong Kong"
          ],
          [
           "India"
          ],
          [
           "Indonesia"
          ],
          [
           "Iran"
          ],
          [
           "Iraq"
          ],
          [
           "Israel"
          ],
          [
           "Japan"
          ],
          [
           "Jordan"
          ],
          [
           "Kazakhstan"
          ],
          [
           "Kuwait"
          ],
          [
           "Kyrgyzstan"
          ],
          [
           "Lebanon"
          ],
          [
           "Mongolia"
          ],
          [
           "Myanmar"
          ],
          [
           "Nepal"
          ],
          [
           "Pakistan"
          ],
          [
           "Palestine"
          ],
          [
           "Philippines"
          ],
          [
           "Saudi Arabia"
          ],
          [
           "Singapore"
          ],
          [
           "South Korea"
          ],
          [
           "Tajikistan"
          ],
          [
           "Thailand"
          ],
          [
           "Turkey"
          ],
          [
           "Turkmenistan"
          ],
          [
           "United Arab Emirates"
          ],
          [
           "Uzbekistan"
          ],
          [
           "Vietnam"
          ]
         ],
         "hovertemplate": "Continent=Asia<br>GDP per capita ($)=%{x}<br>Life satisfaction (scale: 0-10)=%{y}<br>Entity=%{customdata[0]}<extra></extra>",
         "legendgroup": "Asia",
         "marker": {
          "color": "#636efa",
          "symbol": "circle"
         },
         "mode": "markers",
         "name": "Asia",
         "orientation": "v",
         "showlegend": true,
         "type": "scatter",
         "x": [
          2057.06797755329,
          11303.0678498177,
          14238.784136618799,
          47937.7090620549,
          3920.1445072358297,
          3733.5246262096503,
          13487.8224816787,
          12963.7439586374,
          58096.2992560876,
          5851.3948804932,
          10531.1109693569,
          14205.2116338951,
          11191.1150421081,
          38234.7244825066,
          40031.270764058,
          10036.5436154339,
          24210.8629616382,
          54708.9797919819,
          4912.3824843088505,
          16100.9227973306,
          10940.4186480461,
          4482.92679957997,
          3315.8144141419,
          4421.581929297229,
          6438.933640288679,
          7705.053769713109,
          48625.8438167915,
          91307.5036202199,
          39814.658927928904,
          3113.25451664416,
          16782.0986705337,
          26385.001938334302,
          13562.528476251102,
          66510.9029855157,
          6346.33477752569,
          6767.7788320975205
         ],
         "xaxis": "x",
         "y": [
          4.22,
          4.325,
          5.303999999999999,
          6.17,
          4.556,
          4.461,
          5.325,
          4.448,
          5.497999999999999,
          4.178999999999999,
          5.136,
          4.6530000000000005,
          4.413,
          7.159,
          5.955,
          5.271,
          5.534,
          5.947,
          4.857,
          5.271,
          5.0569999999999995,
          4.623,
          5.1,
          5.5489999999999995,
          4.907,
          5.431,
          6.474,
          6.0329999999999995,
          5.971,
          5.104,
          6.074,
          5.3260000000000005,
          5.8870000000000005,
          6.831,
          5.893,
          5.062
         ],
         "yaxis": "y"
        },
        {
         "customdata": [
          [
           "Albania"
          ],
          [
           "Austria"
          ],
          [
           "Belarus"
          ],
          [
           "Belgium"
          ],
          [
           "Bosnia and Herzegovina"
          ],
          [
           "Bulgaria"
          ],
          [
           "Croatia"
          ],
          [
           "Cyprus"
          ],
          [
           "Czechia"
          ],
          [
           "Denmark"
          ],
          [
           "Estonia"
          ],
          [
           "Finland"
          ],
          [
           "France"
          ],
          [
           "Germany"
          ],
          [
           "Greece"
          ],
          [
           "Hungary"
          ],
          [
           "Iceland"
          ],
          [
           "Ireland"
          ],
          [
           "Italy"
          ],
          [
           "Kosovo"
          ],
          [
           "Latvia"
          ],
          [
           "Lithuania"
          ],
          [
           "Luxembourg"
          ],
          [
           "Malta"
          ],
          [
           "Moldova"
          ],
          [
           "Montenegro"
          ],
          [
           "Netherlands"
          ],
          [
           "North Macedonia"
          ],
          [
           "Norway"
          ],
          [
           "Poland"
          ],
          [
           "Portugal"
          ],
          [
           "Romania"
          ],
          [
           "Russia"
          ],
          [
           "Serbia"
          ],
          [
           "Slovakia"
          ],
          [
           "Slovenia"
          ],
          [
           "Spain"
          ],
          [
           "Sweden"
          ],
          [
           "Switzerland"
          ],
          [
           "Ukraine"
          ],
          [
           "United Kingdom"
          ]
         ],
         "hovertemplate": "Continent=Europe<br>GDP per capita ($)=%{x}<br>Life satisfaction (scale: 0-10)=%{y}<br>Entity=%{customdata[0]}<extra></extra>",
         "legendgroup": "Europe",
         "marker": {
          "color": "#EF553B",
          "symbol": "circle"
         },
         "mode": "markers",
         "name": "Europe",
         "orientation": "v",
         "showlegend": true,
         "type": "scatter",
         "x": [
          12291.8733773928,
          53269.3062047537,
          17822.606594541798,
          49828.9629137518,
          13194.3254000959,
          20513.10095142,
          25599.8436234435,
          36523.7332079973,
          37014.9592935816,
          54185.0084787703,
          32130.3008763844,
          46206.78781304941,
          43705.1475593257,
          51803.2354226767,
          28226.907278441402,
          28170.8213622975,
          54665.7639158138,
          72864.4891443774,
          40837.7376281437,
          10179.9250989091,
          27503.1773004104,
          31925.8034212317,
          113035.834714458,
          40536.7181783198,
          10942.5508739575,
          18797.9056157308,
          53847.8265545448,
          15491.7435930236,
          63104.100394726906,
          28682.6939326326,
          31847.5377347647,
          25145.0133479761,
          25490.708257464103,
          16182.8216850199,
          29250.1180428621,
          34858.5119502257,
          38477.5791805612,
          51334.4320301641,
          68663.2438230835,
          11534.638001777701,
          45268.7304537314
         ],
         "xaxis": "x",
         "y": [
          4.511,
          7.047999999999999,
          5.178,
          6.949,
          5.181,
          4.838,
          5.417000000000001,
          5.795,
          6.736000000000001,
          7.558,
          5.65,
          7.66,
          6.475,
          6.874,
          5.303,
          5.449,
          7.51,
          7.041,
          5.955,
          5.7589999999999995,
          5.94,
          5.8660000000000005,
          6.9670000000000005,
          6.591,
          5.577999999999999,
          5.303999999999999,
          7.541,
          5.346,
          7.596,
          6.162000000000001,
          5.447,
          5.968999999999999,
          5.855,
          5.752999999999999,
          5.992999999999999,
          5.937,
          6.319,
          7.369,
          7.459,
          4.029,
          6.824
         ],
         "yaxis": "y"
        },
        {
         "customdata": [
          [
           "Algeria"
          ],
          [
           "Benin"
          ],
          [
           "Botswana"
          ],
          [
           "Burkina Faso"
          ],
          [
           "Cameroon"
          ],
          [
           "Central African Republic"
          ],
          [
           "Chad"
          ],
          [
           "Congo"
          ],
          [
           "Cote d'Ivoire"
          ],
          [
           "Democratic Republic of Congo"
          ],
          [
           "Egypt"
          ],
          [
           "Ethiopia"
          ],
          [
           "Gabon"
          ],
          [
           "Ghana"
          ],
          [
           "Guinea"
          ],
          [
           "Kenya"
          ],
          [
           "Lesotho"
          ],
          [
           "Liberia"
          ],
          [
           "Libya"
          ],
          [
           "Madagascar"
          ],
          [
           "Malawi"
          ],
          [
           "Mali"
          ],
          [
           "Mauritania"
          ],
          [
           "Mauritius"
          ],
          [
           "Morocco"
          ],
          [
           "Niger"
          ],
          [
           "Nigeria"
          ],
          [
           "Rwanda"
          ],
          [
           "Senegal"
          ],
          [
           "Sierra Leone"
          ],
          [
           "Somalia"
          ],
          [
           "South Africa"
          ],
          [
           "Tanzania"
          ],
          [
           "Togo"
          ],
          [
           "Tunisia"
          ],
          [
           "Uganda"
          ],
          [
           "Zambia"
          ],
          [
           "Zimbabwe"
          ]
         ],
         "hovertemplate": "Continent=Africa<br>GDP per capita ($)=%{x}<br>Life satisfaction (scale: 0-10)=%{y}<br>Entity=%{customdata[0]}<extra></extra>",
         "legendgroup": "Africa",
         "marker": {
          "color": "#00cc96",
          "symbol": "circle"
         },
         "mode": "markers",
         "name": "Africa",
         "orientation": "v",
         "showlegend": true,
         "type": "scatter",
         "x": [
          11826.1664161029,
          2961.4404159762,
          17117.272788253,
          1981.429813531,
          3524.4430414256603,
          884.495196541199,
          1687.05356916322,
          4551.37045105585,
          4615.70925676518,
          1055.57291467758,
          10795.8087418385,
          1894.89736397042,
          15359.740396366598,
          4712.51435451414,
          2253.4776825851,
          3952.75813183016,
          2776.74098382062,
          1516.35571427608,
          10592.4309433663,
          1565.8675531016502,
          1428.4239172607402,
          2198.5603811900896,
          5045.89672406524,
          20646.9330000973,
          7106.24124906058,
          1151.65787379293,
          5284.8932279969395,
          1950.52626543078,
          3067.66557684345,
          1610.55096934817,
          879.889370871728,
          12702.9170758026,
          2441.63694514804,
          1976.80779349156,
          10524.9135954983,
          2075.01166590088,
          3467.8874478279304,
          3173.6108286295503
         ],
         "xaxis": "x",
         "y": [
          5.341,
          4.007,
          3.4989999999999997,
          4.206,
          4.816,
          2.693,
          4.029,
          4.119,
          4.543,
          4.522,
          4.5569999999999995,
          4.298,
          4.832,
          4.513999999999999,
          3.603,
          4.396,
          3.8080000000000003,
          3.355,
          5.434,
          3.6630000000000003,
          3.4760000000000004,
          4.016,
          4.4719999999999995,
          5.61,
          5.386,
          4.235,
          5.22,
          3.333,
          4.595,
          4.7330000000000005,
          4.668,
          4.77,
          2.903,
          3.8789999999999996,
          4.521,
          4.2330000000000005,
          4.348,
          3.735
         ],
         "yaxis": "y"
        },
        {
         "customdata": [
          [
           "Argentina"
          ],
          [
           "Bolivia"
          ],
          [
           "Brazil"
          ],
          [
           "Chile"
          ],
          [
           "Colombia"
          ],
          [
           "Ecuador"
          ],
          [
           "Paraguay"
          ],
          [
           "Peru"
          ],
          [
           "Uruguay"
          ]
         ],
         "hovertemplate": "Continent=South America<br>GDP per capita ($)=%{x}<br>Life satisfaction (scale: 0-10)=%{y}<br>Entity=%{customdata[0]}<extra></extra>",
         "legendgroup": "South America",
         "marker": {
          "color": "#ab63fa",
          "symbol": "circle"
         },
         "mode": "markers",
         "name": "South America",
         "orientation": "v",
         "showlegend": true,
         "type": "scatter",
         "x": [
          23189.5274451329,
          8202.54423164277,
          14451.1528421912,
          24531.3577390249,
          14194.515663803,
          11551.6159731776,
          12170.7843887945,
          12403.687141686201,
          22724.0221342831
         ],
         "xaxis": "x",
         "y": [
          6.4270000000000005,
          5.77,
          6.375,
          6.579,
          6.234,
          6.115,
          5.801,
          5.7010000000000005,
          6.171
         ],
         "yaxis": "y"
        },
        {
         "customdata": [
          [
           "Australia"
          ],
          [
           "New Zealand"
          ]
         ],
         "hovertemplate": "Continent=Oceania<br>GDP per capita ($)=%{x}<br>Life satisfaction (scale: 0-10)=%{y}<br>Entity=%{customdata[0]}<extra></extra>",
         "legendgroup": "Oceania",
         "marker": {
          "color": "#FFA15A",
          "symbol": "circle"
         },
         "mode": "markers",
         "name": "Oceania",
         "orientation": "v",
         "showlegend": true,
         "type": "scatter",
         "x": [
          48197.43118917401,
          41672.1012399483
         ],
         "xaxis": "x",
         "y": [
          7.25,
          7.226
         ],
         "yaxis": "y"
        },
        {
         "customdata": [
          [
           "Canada"
          ],
          [
           "Costa Rica"
          ],
          [
           "Dominican Republic"
          ],
          [
           "El Salvador"
          ],
          [
           "Guatemala"
          ],
          [
           "Haiti"
          ],
          [
           "Honduras"
          ],
          [
           "Mexico"
          ],
          [
           "Nicaragua"
          ],
          [
           "Panama"
          ],
          [
           "United States"
          ]
         ],
         "hovertemplate": "Continent=North America<br>GDP per capita ($)=%{x}<br>Life satisfaction (scale: 0-10)=%{y}<br>Entity=%{customdata[0]}<extra></extra>",
         "legendgroup": "North America",
         "marker": {
          "color": "#19d3f3",
          "symbol": "circle"
         },
         "mode": "markers",
         "name": "North America",
         "orientation": "v",
         "showlegend": true,
         "type": "scatter",
         "x": [
          47457.5853457244,
          19736.6653042295,
          16166.6115259959,
          8309.44179938698,
          8206.04798668298,
          2952.6170942867498,
          5395.61455082235,
          19539.2612488443,
          5811.8830583031895,
          29332.414539356803,
          59112.2422096532
         ],
         "xaxis": "x",
         "y": [
          7.245,
          7.136,
          5.239,
          6.14,
          6.359,
          3.352,
          5.648,
          6.824,
          6.013,
          6.117999999999999,
          6.803999999999999
         ],
         "yaxis": "y"
        },
        {
         "hovertemplate": "<b>OLS trendline</b><br>Life satisfaction in Cantril Ladder (World Happiness Report 2021) = 1.79739 * log10(GDP per capita, PPP (constant 2017 international $)) + -1.91159<br>R<sup>2</sup>=0.670719<br><br>GDP per capita ($)=%{x}<br>Life satisfaction (scale: 0-10)=%{y} <b>(trend)</b><extra></extra>",
         "legendgroup": "Overall Trendline",
         "line": {
          "color": "black"
         },
         "mode": "lines",
         "name": "Overall Trendline",
         "showlegend": true,
         "type": "scatter",
         "x": [
          879.889370871728,
          884.495196541199,
          1055.57291467758,
          1151.65787379293,
          1428.4239172607402,
          1516.35571427608,
          1565.8675531016502,
          1610.55096934817,
          1687.05356916322,
          1894.89736397042,
          1950.52626543078,
          1976.80779349156,
          1981.429813531,
          2057.06797755329,
          2075.01166590088,
          2198.5603811900896,
          2253.4776825851,
          2441.63694514804,
          2776.74098382062,
          2952.6170942867498,
          2961.4404159762,
          3067.66557684345,
          3113.25451664416,
          3173.6108286295503,
          3315.8144141419,
          3467.8874478279304,
          3524.4430414256603,
          3733.5246262096503,
          3920.1445072358297,
          3952.75813183016,
          4421.581929297229,
          4482.92679957997,
          4551.37045105585,
          4615.70925676518,
          4712.51435451414,
          4912.3824843088505,
          5045.89672406524,
          5284.8932279969395,
          5395.61455082235,
          5811.8830583031895,
          5851.3948804932,
          6346.33477752569,
          6438.933640288679,
          6767.7788320975205,
          7106.24124906058,
          7705.053769713109,
          8202.54423164277,
          8206.04798668298,
          8309.44179938698,
          10036.5436154339,
          10179.9250989091,
          10524.9135954983,
          10531.1109693569,
          10592.4309433663,
          10795.8087418385,
          10940.4186480461,
          10942.5508739575,
          11191.1150421081,
          11303.0678498177,
          11534.638001777701,
          11551.6159731776,
          11826.1664161029,
          12170.7843887945,
          12291.8733773928,
          12403.687141686201,
          12702.9170758026,
          12963.7439586374,
          13194.3254000959,
          13487.8224816787,
          13562.528476251102,
          14194.515663803,
          14205.2116338951,
          14238.784136618799,
          14451.1528421912,
          15359.740396366598,
          15491.7435930236,
          16100.9227973306,
          16166.6115259959,
          16182.8216850199,
          16782.0986705337,
          17117.272788253,
          17822.606594541798,
          18797.9056157308,
          19539.2612488443,
          19736.6653042295,
          20513.10095142,
          20646.9330000973,
          22724.0221342831,
          23189.5274451329,
          24210.8629616382,
          24531.3577390249,
          25145.0133479761,
          25490.708257464103,
          25599.8436234435,
          26385.001938334302,
          27503.1773004104,
          28170.8213622975,
          28226.907278441402,
          28682.6939326326,
          29250.1180428621,
          29332.414539356803,
          31847.5377347647,
          31925.8034212317,
          32130.3008763844,
          34858.5119502257,
          36523.7332079973,
          37014.9592935816,
          38234.7244825066,
          38477.5791805612,
          39814.658927928904,
          40031.270764058,
          40536.7181783198,
          40837.7376281437,
          41672.1012399483,
          43705.1475593257,
          45268.7304537314,
          46206.78781304941,
          47457.5853457244,
          47937.7090620549,
          48197.43118917401,
          48625.8438167915,
          49828.9629137518,
          51334.4320301641,
          51803.2354226767,
          53269.3062047537,
          53847.8265545448,
          54185.0084787703,
          54665.7639158138,
          54708.9797919819,
          58096.2992560876,
          59112.2422096532,
          63104.100394726906,
          66510.9029855157,
          68663.2438230835,
          72864.4891443774,
          91307.5036202199,
          113035.834714458
         ],
         "xaxis": "x",
         "y": [
          3.3806840583190447,
          3.3847594647430435,
          3.522785705372494,
          3.5907902468563964,
          3.75890630027561,
          3.805537648163147,
          3.830618253524786,
          3.8525813208546613,
          3.888806558939556,
          3.979496945073904,
          4.002083099072381,
          4.012530660787272,
          4.014353657370043,
          4.043597040346958,
          4.050376599551106,
          4.095523083594893,
          4.114781831217893,
          4.177380883426926,
          4.27777259646707,
          4.325712046993674,
          4.3280412244930115,
          4.355550244310962,
          4.367065403147112,
          4.38205388246957,
          4.416269905941148,
          4.45127360301219,
          4.463901143878173,
          4.508887065753322,
          4.546961197461741,
          4.55342848790176,
          4.640920636098381,
          4.651676142251883,
          4.663503910274741,
          4.674461242064428,
          4.690663314320911,
          4.7230872400329105,
          4.744019928340212,
          4.7801435434659325,
          4.7963284657071075,
          4.85434081070437,
          4.859629691623592,
          4.923011944390963,
          4.934319248965062,
          4.973200680459154,
          5.011294103825165,
          5.07444657153758,
          5.1232867781001925,
          5.1236201416512746,
          5.133393964437236,
          5.280801781819367,
          5.291874410779867,
          5.3178896996295,
          5.318349201224908,
          5.3228812245359745,
          5.33772680841825,
          5.348113469891683,
          5.348265588609577,
          5.365798705348956,
          5.3735687595387045,
          5.389399480147297,
          5.390547602310656,
          5.408883175811292,
          5.4313048178189725,
          5.439032695743867,
          5.446101322368383,
          5.464709049084378,
          5.480574543844945,
          5.49433667224978,
          5.511510069292246,
          5.515821678053642,
          5.551373823613529,
          5.551961802490419,
          5.553804478610903,
          5.565360931460008,
          5.612958198711842,
          5.619638049070067,
          5.649745106767073,
          5.652923307838156,
          5.653705613240978,
          5.682089973598671,
          5.697526467848181,
          5.729046597622457,
          5.77063495623198,
          5.80082866167958,
          5.808675396609223,
          5.838795168336679,
          5.843871402248308,
          5.918695967139813,
          5.934524998740395,
          5.9681691388974745,
          5.978434579579849,
          5.997721044496224,
          6.008379601746013,
          6.0117144898729915,
          6.0352958687891185,
          6.067695080519318,
          6.086417806860437,
          6.087970365605035,
          6.100474137489737,
          6.115765731473852,
          6.1179588857535965,
          6.182175981717444,
          6.184091949225609,
          6.189076024059144,
          6.252692801374392,
          6.289119200098984,
          6.2995478399723766,
          6.324856274983809,
          6.329798683385841,
          6.356463372443201,
          6.360698691778543,
          6.370493024364036,
          6.376268185884868,
          6.392055931289505,
          6.429238802141169,
          6.456677203068532,
          6.472687354294628,
          6.493536779987188,
          6.5013943012919775,
          6.5056120775442885,
          6.512519897711215,
          6.531598607816337,
          6.554833261941722,
          6.561929564524709,
          6.583714164051809,
          6.592145950862818,
          6.597018605331057,
          6.60391387422758,
          6.60453072766674,
          6.651424266717889,
          6.66495672295523,
          6.715966805283994,
          6.757010592530911,
          6.78187108968436,
          6.828228567654087,
          7.004355414038857,
          7.170990501060585
         ],
         "yaxis": "y"
        }
       ],
       "layout": {
        "legend": {
         "title": {
          "text": "Continent"
         },
         "tracegroupgap": 0
        },
        "template": {
         "data": {
          "bar": [
           {
            "error_x": {
             "color": "#2a3f5f"
            },
            "error_y": {
             "color": "#2a3f5f"
            },
            "marker": {
             "line": {
              "color": "#E5ECF6",
              "width": 0.5
             },
             "pattern": {
              "fillmode": "overlay",
              "size": 10,
              "solidity": 0.2
             }
            },
            "type": "bar"
           }
          ],
          "barpolar": [
           {
            "marker": {
             "line": {
              "color": "#E5ECF6",
              "width": 0.5
             },
             "pattern": {
              "fillmode": "overlay",
              "size": 10,
              "solidity": 0.2
             }
            },
            "type": "barpolar"
           }
          ],
          "carpet": [
           {
            "aaxis": {
             "endlinecolor": "#2a3f5f",
             "gridcolor": "white",
             "linecolor": "white",
             "minorgridcolor": "white",
             "startlinecolor": "#2a3f5f"
            },
            "baxis": {
             "endlinecolor": "#2a3f5f",
             "gridcolor": "white",
             "linecolor": "white",
             "minorgridcolor": "white",
             "startlinecolor": "#2a3f5f"
            },
            "type": "carpet"
           }
          ],
          "choropleth": [
           {
            "colorbar": {
             "outlinewidth": 0,
             "ticks": ""
            },
            "type": "choropleth"
           }
          ],
          "contour": [
           {
            "colorbar": {
             "outlinewidth": 0,
             "ticks": ""
            },
            "colorscale": [
             [
              0,
              "#0d0887"
             ],
             [
              0.1111111111111111,
              "#46039f"
             ],
             [
              0.2222222222222222,
              "#7201a8"
             ],
             [
              0.3333333333333333,
              "#9c179e"
             ],
             [
              0.4444444444444444,
              "#bd3786"
             ],
             [
              0.5555555555555556,
              "#d8576b"
             ],
             [
              0.6666666666666666,
              "#ed7953"
             ],
             [
              0.7777777777777778,
              "#fb9f3a"
             ],
             [
              0.8888888888888888,
              "#fdca26"
             ],
             [
              1,
              "#f0f921"
             ]
            ],
            "type": "contour"
           }
          ],
          "contourcarpet": [
           {
            "colorbar": {
             "outlinewidth": 0,
             "ticks": ""
            },
            "type": "contourcarpet"
           }
          ],
          "heatmap": [
           {
            "colorbar": {
             "outlinewidth": 0,
             "ticks": ""
            },
            "colorscale": [
             [
              0,
              "#0d0887"
             ],
             [
              0.1111111111111111,
              "#46039f"
             ],
             [
              0.2222222222222222,
              "#7201a8"
             ],
             [
              0.3333333333333333,
              "#9c179e"
             ],
             [
              0.4444444444444444,
              "#bd3786"
             ],
             [
              0.5555555555555556,
              "#d8576b"
             ],
             [
              0.6666666666666666,
              "#ed7953"
             ],
             [
              0.7777777777777778,
              "#fb9f3a"
             ],
             [
              0.8888888888888888,
              "#fdca26"
             ],
             [
              1,
              "#f0f921"
             ]
            ],
            "type": "heatmap"
           }
          ],
          "heatmapgl": [
           {
            "colorbar": {
             "outlinewidth": 0,
             "ticks": ""
            },
            "colorscale": [
             [
              0,
              "#0d0887"
             ],
             [
              0.1111111111111111,
              "#46039f"
             ],
             [
              0.2222222222222222,
              "#7201a8"
             ],
             [
              0.3333333333333333,
              "#9c179e"
             ],
             [
              0.4444444444444444,
              "#bd3786"
             ],
             [
              0.5555555555555556,
              "#d8576b"
             ],
             [
              0.6666666666666666,
              "#ed7953"
             ],
             [
              0.7777777777777778,
              "#fb9f3a"
             ],
             [
              0.8888888888888888,
              "#fdca26"
             ],
             [
              1,
              "#f0f921"
             ]
            ],
            "type": "heatmapgl"
           }
          ],
          "histogram": [
           {
            "marker": {
             "pattern": {
              "fillmode": "overlay",
              "size": 10,
              "solidity": 0.2
             }
            },
            "type": "histogram"
           }
          ],
          "histogram2d": [
           {
            "colorbar": {
             "outlinewidth": 0,
             "ticks": ""
            },
            "colorscale": [
             [
              0,
              "#0d0887"
             ],
             [
              0.1111111111111111,
              "#46039f"
             ],
             [
              0.2222222222222222,
              "#7201a8"
             ],
             [
              0.3333333333333333,
              "#9c179e"
             ],
             [
              0.4444444444444444,
              "#bd3786"
             ],
             [
              0.5555555555555556,
              "#d8576b"
             ],
             [
              0.6666666666666666,
              "#ed7953"
             ],
             [
              0.7777777777777778,
              "#fb9f3a"
             ],
             [
              0.8888888888888888,
              "#fdca26"
             ],
             [
              1,
              "#f0f921"
             ]
            ],
            "type": "histogram2d"
           }
          ],
          "histogram2dcontour": [
           {
            "colorbar": {
             "outlinewidth": 0,
             "ticks": ""
            },
            "colorscale": [
             [
              0,
              "#0d0887"
             ],
             [
              0.1111111111111111,
              "#46039f"
             ],
             [
              0.2222222222222222,
              "#7201a8"
             ],
             [
              0.3333333333333333,
              "#9c179e"
             ],
             [
              0.4444444444444444,
              "#bd3786"
             ],
             [
              0.5555555555555556,
              "#d8576b"
             ],
             [
              0.6666666666666666,
              "#ed7953"
             ],
             [
              0.7777777777777778,
              "#fb9f3a"
             ],
             [
              0.8888888888888888,
              "#fdca26"
             ],
             [
              1,
              "#f0f921"
             ]
            ],
            "type": "histogram2dcontour"
           }
          ],
          "mesh3d": [
           {
            "colorbar": {
             "outlinewidth": 0,
             "ticks": ""
            },
            "type": "mesh3d"
           }
          ],
          "parcoords": [
           {
            "line": {
             "colorbar": {
              "outlinewidth": 0,
              "ticks": ""
             }
            },
            "type": "parcoords"
           }
          ],
          "pie": [
           {
            "automargin": true,
            "type": "pie"
           }
          ],
          "scatter": [
           {
            "marker": {
             "colorbar": {
              "outlinewidth": 0,
              "ticks": ""
             }
            },
            "type": "scatter"
           }
          ],
          "scatter3d": [
           {
            "line": {
             "colorbar": {
              "outlinewidth": 0,
              "ticks": ""
             }
            },
            "marker": {
             "colorbar": {
              "outlinewidth": 0,
              "ticks": ""
             }
            },
            "type": "scatter3d"
           }
          ],
          "scattercarpet": [
           {
            "marker": {
             "colorbar": {
              "outlinewidth": 0,
              "ticks": ""
             }
            },
            "type": "scattercarpet"
           }
          ],
          "scattergeo": [
           {
            "marker": {
             "colorbar": {
              "outlinewidth": 0,
              "ticks": ""
             }
            },
            "type": "scattergeo"
           }
          ],
          "scattergl": [
           {
            "marker": {
             "colorbar": {
              "outlinewidth": 0,
              "ticks": ""
             }
            },
            "type": "scattergl"
           }
          ],
          "scattermapbox": [
           {
            "marker": {
             "colorbar": {
              "outlinewidth": 0,
              "ticks": ""
             }
            },
            "type": "scattermapbox"
           }
          ],
          "scatterpolar": [
           {
            "marker": {
             "colorbar": {
              "outlinewidth": 0,
              "ticks": ""
             }
            },
            "type": "scatterpolar"
           }
          ],
          "scatterpolargl": [
           {
            "marker": {
             "colorbar": {
              "outlinewidth": 0,
              "ticks": ""
             }
            },
            "type": "scatterpolargl"
           }
          ],
          "scatterternary": [
           {
            "marker": {
             "colorbar": {
              "outlinewidth": 0,
              "ticks": ""
             }
            },
            "type": "scatterternary"
           }
          ],
          "surface": [
           {
            "colorbar": {
             "outlinewidth": 0,
             "ticks": ""
            },
            "colorscale": [
             [
              0,
              "#0d0887"
             ],
             [
              0.1111111111111111,
              "#46039f"
             ],
             [
              0.2222222222222222,
              "#7201a8"
             ],
             [
              0.3333333333333333,
              "#9c179e"
             ],
             [
              0.4444444444444444,
              "#bd3786"
             ],
             [
              0.5555555555555556,
              "#d8576b"
             ],
             [
              0.6666666666666666,
              "#ed7953"
             ],
             [
              0.7777777777777778,
              "#fb9f3a"
             ],
             [
              0.8888888888888888,
              "#fdca26"
             ],
             [
              1,
              "#f0f921"
             ]
            ],
            "type": "surface"
           }
          ],
          "table": [
           {
            "cells": {
             "fill": {
              "color": "#EBF0F8"
             },
             "line": {
              "color": "white"
             }
            },
            "header": {
             "fill": {
              "color": "#C8D4E3"
             },
             "line": {
              "color": "white"
             }
            },
            "type": "table"
           }
          ]
         },
         "layout": {
          "annotationdefaults": {
           "arrowcolor": "#2a3f5f",
           "arrowhead": 0,
           "arrowwidth": 1
          },
          "autotypenumbers": "strict",
          "coloraxis": {
           "colorbar": {
            "outlinewidth": 0,
            "ticks": ""
           }
          },
          "colorscale": {
           "diverging": [
            [
             0,
             "#8e0152"
            ],
            [
             0.1,
             "#c51b7d"
            ],
            [
             0.2,
             "#de77ae"
            ],
            [
             0.3,
             "#f1b6da"
            ],
            [
             0.4,
             "#fde0ef"
            ],
            [
             0.5,
             "#f7f7f7"
            ],
            [
             0.6,
             "#e6f5d0"
            ],
            [
             0.7,
             "#b8e186"
            ],
            [
             0.8,
             "#7fbc41"
            ],
            [
             0.9,
             "#4d9221"
            ],
            [
             1,
             "#276419"
            ]
           ],
           "sequential": [
            [
             0,
             "#0d0887"
            ],
            [
             0.1111111111111111,
             "#46039f"
            ],
            [
             0.2222222222222222,
             "#7201a8"
            ],
            [
             0.3333333333333333,
             "#9c179e"
            ],
            [
             0.4444444444444444,
             "#bd3786"
            ],
            [
             0.5555555555555556,
             "#d8576b"
            ],
            [
             0.6666666666666666,
             "#ed7953"
            ],
            [
             0.7777777777777778,
             "#fb9f3a"
            ],
            [
             0.8888888888888888,
             "#fdca26"
            ],
            [
             1,
             "#f0f921"
            ]
           ],
           "sequentialminus": [
            [
             0,
             "#0d0887"
            ],
            [
             0.1111111111111111,
             "#46039f"
            ],
            [
             0.2222222222222222,
             "#7201a8"
            ],
            [
             0.3333333333333333,
             "#9c179e"
            ],
            [
             0.4444444444444444,
             "#bd3786"
            ],
            [
             0.5555555555555556,
             "#d8576b"
            ],
            [
             0.6666666666666666,
             "#ed7953"
            ],
            [
             0.7777777777777778,
             "#fb9f3a"
            ],
            [
             0.8888888888888888,
             "#fdca26"
            ],
            [
             1,
             "#f0f921"
            ]
           ]
          },
          "colorway": [
           "#636efa",
           "#EF553B",
           "#00cc96",
           "#ab63fa",
           "#FFA15A",
           "#19d3f3",
           "#FF6692",
           "#B6E880",
           "#FF97FF",
           "#FECB52"
          ],
          "font": {
           "color": "#2a3f5f"
          },
          "geo": {
           "bgcolor": "white",
           "lakecolor": "white",
           "landcolor": "#E5ECF6",
           "showlakes": true,
           "showland": true,
           "subunitcolor": "white"
          },
          "hoverlabel": {
           "align": "left"
          },
          "hovermode": "closest",
          "mapbox": {
           "style": "light"
          },
          "paper_bgcolor": "white",
          "plot_bgcolor": "#E5ECF6",
          "polar": {
           "angularaxis": {
            "gridcolor": "white",
            "linecolor": "white",
            "ticks": ""
           },
           "bgcolor": "#E5ECF6",
           "radialaxis": {
            "gridcolor": "white",
            "linecolor": "white",
            "ticks": ""
           }
          },
          "scene": {
           "xaxis": {
            "backgroundcolor": "#E5ECF6",
            "gridcolor": "white",
            "gridwidth": 2,
            "linecolor": "white",
            "showbackground": true,
            "ticks": "",
            "zerolinecolor": "white"
           },
           "yaxis": {
            "backgroundcolor": "#E5ECF6",
            "gridcolor": "white",
            "gridwidth": 2,
            "linecolor": "white",
            "showbackground": true,
            "ticks": "",
            "zerolinecolor": "white"
           },
           "zaxis": {
            "backgroundcolor": "#E5ECF6",
            "gridcolor": "white",
            "gridwidth": 2,
            "linecolor": "white",
            "showbackground": true,
            "ticks": "",
            "zerolinecolor": "white"
           }
          },
          "shapedefaults": {
           "line": {
            "color": "#2a3f5f"
           }
          },
          "ternary": {
           "aaxis": {
            "gridcolor": "white",
            "linecolor": "white",
            "ticks": ""
           },
           "baxis": {
            "gridcolor": "white",
            "linecolor": "white",
            "ticks": ""
           },
           "bgcolor": "#E5ECF6",
           "caxis": {
            "gridcolor": "white",
            "linecolor": "white",
            "ticks": ""
           }
          },
          "title": {
           "x": 0.05
          },
          "xaxis": {
           "automargin": true,
           "gridcolor": "white",
           "linecolor": "white",
           "ticks": "",
           "title": {
            "standoff": 15
           },
           "zerolinecolor": "white",
           "zerolinewidth": 2
          },
          "yaxis": {
           "automargin": true,
           "gridcolor": "white",
           "linecolor": "white",
           "ticks": "",
           "title": {
            "standoff": 15
           },
           "zerolinecolor": "white",
           "zerolinewidth": 2
          }
         }
        },
        "title": {
         "text": "Happiness vs. GDP per capita, 2016"
        },
        "xaxis": {
         "anchor": "y",
         "domain": [
          0,
          1
         ],
         "range": [
          2.892033001373202,
          5.0900316199935505
         ],
         "title": {
          "text": "GDP per capita ($)"
         },
         "type": "log"
        },
        "yaxis": {
         "anchor": "x",
         "domain": [
          0,
          1
         ],
         "range": [
          1.693,
          8.66
         ],
         "title": {
          "text": "Life satisfaction (scale: 0-10)"
         }
        }
       }
      },
      "text/html": [
       "<div>                            <div id=\"484e35d6-ffe8-4c04-ba77-1135d1ff3e5f\" class=\"plotly-graph-div\" style=\"height:525px; width:100%;\"></div>            <script type=\"text/javascript\">                require([\"plotly\"], function(Plotly) {                    window.PLOTLYENV=window.PLOTLYENV || {};                                    if (document.getElementById(\"484e35d6-ffe8-4c04-ba77-1135d1ff3e5f\")) {                    Plotly.newPlot(                        \"484e35d6-ffe8-4c04-ba77-1135d1ff3e5f\",                        [{\"customdata\":[[\"Afghanistan\"],[\"Armenia\"],[\"Azerbaijan\"],[\"Bahrain\"],[\"Bangladesh\"],[\"Cambodia\"],[\"China\"],[\"Georgia\"],[\"Hong Kong\"],[\"India\"],[\"Indonesia\"],[\"Iran\"],[\"Iraq\"],[\"Israel\"],[\"Japan\"],[\"Jordan\"],[\"Kazakhstan\"],[\"Kuwait\"],[\"Kyrgyzstan\"],[\"Lebanon\"],[\"Mongolia\"],[\"Myanmar\"],[\"Nepal\"],[\"Pakistan\"],[\"Palestine\"],[\"Philippines\"],[\"Saudi Arabia\"],[\"Singapore\"],[\"South Korea\"],[\"Tajikistan\"],[\"Thailand\"],[\"Turkey\"],[\"Turkmenistan\"],[\"United Arab Emirates\"],[\"Uzbekistan\"],[\"Vietnam\"]],\"hovertemplate\":\"Continent=Asia<br>GDP per capita ($)=%{x}<br>Life satisfaction (scale: 0-10)=%{y}<br>Entity=%{customdata[0]}<extra></extra>\",\"legendgroup\":\"Asia\",\"marker\":{\"color\":\"#636efa\",\"symbol\":\"circle\"},\"mode\":\"markers\",\"name\":\"Asia\",\"orientation\":\"v\",\"showlegend\":true,\"x\":[2057.06797755329,11303.0678498177,14238.784136618799,47937.7090620549,3920.1445072358297,3733.5246262096503,13487.8224816787,12963.7439586374,58096.2992560876,5851.3948804932,10531.1109693569,14205.2116338951,11191.1150421081,38234.7244825066,40031.270764058,10036.5436154339,24210.8629616382,54708.9797919819,4912.3824843088505,16100.9227973306,10940.4186480461,4482.92679957997,3315.8144141419,4421.581929297229,6438.933640288679,7705.053769713109,48625.8438167915,91307.5036202199,39814.658927928904,3113.25451664416,16782.0986705337,26385.001938334302,13562.528476251102,66510.9029855157,6346.33477752569,6767.7788320975205],\"xaxis\":\"x\",\"y\":[4.22,4.325,5.303999999999999,6.17,4.556,4.461,5.325,4.448,5.497999999999999,4.178999999999999,5.136,4.6530000000000005,4.413,7.159,5.955,5.271,5.534,5.947,4.857,5.271,5.0569999999999995,4.623,5.1,5.5489999999999995,4.907,5.431,6.474,6.0329999999999995,5.971,5.104,6.074,5.3260000000000005,5.8870000000000005,6.831,5.893,5.062],\"yaxis\":\"y\",\"type\":\"scatter\"},{\"customdata\":[[\"Albania\"],[\"Austria\"],[\"Belarus\"],[\"Belgium\"],[\"Bosnia and Herzegovina\"],[\"Bulgaria\"],[\"Croatia\"],[\"Cyprus\"],[\"Czechia\"],[\"Denmark\"],[\"Estonia\"],[\"Finland\"],[\"France\"],[\"Germany\"],[\"Greece\"],[\"Hungary\"],[\"Iceland\"],[\"Ireland\"],[\"Italy\"],[\"Kosovo\"],[\"Latvia\"],[\"Lithuania\"],[\"Luxembourg\"],[\"Malta\"],[\"Moldova\"],[\"Montenegro\"],[\"Netherlands\"],[\"North Macedonia\"],[\"Norway\"],[\"Poland\"],[\"Portugal\"],[\"Romania\"],[\"Russia\"],[\"Serbia\"],[\"Slovakia\"],[\"Slovenia\"],[\"Spain\"],[\"Sweden\"],[\"Switzerland\"],[\"Ukraine\"],[\"United Kingdom\"]],\"hovertemplate\":\"Continent=Europe<br>GDP per capita ($)=%{x}<br>Life satisfaction (scale: 0-10)=%{y}<br>Entity=%{customdata[0]}<extra></extra>\",\"legendgroup\":\"Europe\",\"marker\":{\"color\":\"#EF553B\",\"symbol\":\"circle\"},\"mode\":\"markers\",\"name\":\"Europe\",\"orientation\":\"v\",\"showlegend\":true,\"x\":[12291.8733773928,53269.3062047537,17822.606594541798,49828.9629137518,13194.3254000959,20513.10095142,25599.8436234435,36523.7332079973,37014.9592935816,54185.0084787703,32130.3008763844,46206.78781304941,43705.1475593257,51803.2354226767,28226.907278441402,28170.8213622975,54665.7639158138,72864.4891443774,40837.7376281437,10179.9250989091,27503.1773004104,31925.8034212317,113035.834714458,40536.7181783198,10942.5508739575,18797.9056157308,53847.8265545448,15491.7435930236,63104.100394726906,28682.6939326326,31847.5377347647,25145.0133479761,25490.708257464103,16182.8216850199,29250.1180428621,34858.5119502257,38477.5791805612,51334.4320301641,68663.2438230835,11534.638001777701,45268.7304537314],\"xaxis\":\"x\",\"y\":[4.511,7.047999999999999,5.178,6.949,5.181,4.838,5.417000000000001,5.795,6.736000000000001,7.558,5.65,7.66,6.475,6.874,5.303,5.449,7.51,7.041,5.955,5.7589999999999995,5.94,5.8660000000000005,6.9670000000000005,6.591,5.577999999999999,5.303999999999999,7.541,5.346,7.596,6.162000000000001,5.447,5.968999999999999,5.855,5.752999999999999,5.992999999999999,5.937,6.319,7.369,7.459,4.029,6.824],\"yaxis\":\"y\",\"type\":\"scatter\"},{\"customdata\":[[\"Algeria\"],[\"Benin\"],[\"Botswana\"],[\"Burkina Faso\"],[\"Cameroon\"],[\"Central African Republic\"],[\"Chad\"],[\"Congo\"],[\"Cote d'Ivoire\"],[\"Democratic Republic of Congo\"],[\"Egypt\"],[\"Ethiopia\"],[\"Gabon\"],[\"Ghana\"],[\"Guinea\"],[\"Kenya\"],[\"Lesotho\"],[\"Liberia\"],[\"Libya\"],[\"Madagascar\"],[\"Malawi\"],[\"Mali\"],[\"Mauritania\"],[\"Mauritius\"],[\"Morocco\"],[\"Niger\"],[\"Nigeria\"],[\"Rwanda\"],[\"Senegal\"],[\"Sierra Leone\"],[\"Somalia\"],[\"South Africa\"],[\"Tanzania\"],[\"Togo\"],[\"Tunisia\"],[\"Uganda\"],[\"Zambia\"],[\"Zimbabwe\"]],\"hovertemplate\":\"Continent=Africa<br>GDP per capita ($)=%{x}<br>Life satisfaction (scale: 0-10)=%{y}<br>Entity=%{customdata[0]}<extra></extra>\",\"legendgroup\":\"Africa\",\"marker\":{\"color\":\"#00cc96\",\"symbol\":\"circle\"},\"mode\":\"markers\",\"name\":\"Africa\",\"orientation\":\"v\",\"showlegend\":true,\"x\":[11826.1664161029,2961.4404159762,17117.272788253,1981.429813531,3524.4430414256603,884.495196541199,1687.05356916322,4551.37045105585,4615.70925676518,1055.57291467758,10795.8087418385,1894.89736397042,15359.740396366598,4712.51435451414,2253.4776825851,3952.75813183016,2776.74098382062,1516.35571427608,10592.4309433663,1565.8675531016502,1428.4239172607402,2198.5603811900896,5045.89672406524,20646.9330000973,7106.24124906058,1151.65787379293,5284.8932279969395,1950.52626543078,3067.66557684345,1610.55096934817,879.889370871728,12702.9170758026,2441.63694514804,1976.80779349156,10524.9135954983,2075.01166590088,3467.8874478279304,3173.6108286295503],\"xaxis\":\"x\",\"y\":[5.341,4.007,3.4989999999999997,4.206,4.816,2.693,4.029,4.119,4.543,4.522,4.5569999999999995,4.298,4.832,4.513999999999999,3.603,4.396,3.8080000000000003,3.355,5.434,3.6630000000000003,3.4760000000000004,4.016,4.4719999999999995,5.61,5.386,4.235,5.22,3.333,4.595,4.7330000000000005,4.668,4.77,2.903,3.8789999999999996,4.521,4.2330000000000005,4.348,3.735],\"yaxis\":\"y\",\"type\":\"scatter\"},{\"customdata\":[[\"Argentina\"],[\"Bolivia\"],[\"Brazil\"],[\"Chile\"],[\"Colombia\"],[\"Ecuador\"],[\"Paraguay\"],[\"Peru\"],[\"Uruguay\"]],\"hovertemplate\":\"Continent=South America<br>GDP per capita ($)=%{x}<br>Life satisfaction (scale: 0-10)=%{y}<br>Entity=%{customdata[0]}<extra></extra>\",\"legendgroup\":\"South America\",\"marker\":{\"color\":\"#ab63fa\",\"symbol\":\"circle\"},\"mode\":\"markers\",\"name\":\"South America\",\"orientation\":\"v\",\"showlegend\":true,\"x\":[23189.5274451329,8202.54423164277,14451.1528421912,24531.3577390249,14194.515663803,11551.6159731776,12170.7843887945,12403.687141686201,22724.0221342831],\"xaxis\":\"x\",\"y\":[6.4270000000000005,5.77,6.375,6.579,6.234,6.115,5.801,5.7010000000000005,6.171],\"yaxis\":\"y\",\"type\":\"scatter\"},{\"customdata\":[[\"Australia\"],[\"New Zealand\"]],\"hovertemplate\":\"Continent=Oceania<br>GDP per capita ($)=%{x}<br>Life satisfaction (scale: 0-10)=%{y}<br>Entity=%{customdata[0]}<extra></extra>\",\"legendgroup\":\"Oceania\",\"marker\":{\"color\":\"#FFA15A\",\"symbol\":\"circle\"},\"mode\":\"markers\",\"name\":\"Oceania\",\"orientation\":\"v\",\"showlegend\":true,\"x\":[48197.43118917401,41672.1012399483],\"xaxis\":\"x\",\"y\":[7.25,7.226],\"yaxis\":\"y\",\"type\":\"scatter\"},{\"customdata\":[[\"Canada\"],[\"Costa Rica\"],[\"Dominican Republic\"],[\"El Salvador\"],[\"Guatemala\"],[\"Haiti\"],[\"Honduras\"],[\"Mexico\"],[\"Nicaragua\"],[\"Panama\"],[\"United States\"]],\"hovertemplate\":\"Continent=North America<br>GDP per capita ($)=%{x}<br>Life satisfaction (scale: 0-10)=%{y}<br>Entity=%{customdata[0]}<extra></extra>\",\"legendgroup\":\"North America\",\"marker\":{\"color\":\"#19d3f3\",\"symbol\":\"circle\"},\"mode\":\"markers\",\"name\":\"North America\",\"orientation\":\"v\",\"showlegend\":true,\"x\":[47457.5853457244,19736.6653042295,16166.6115259959,8309.44179938698,8206.04798668298,2952.6170942867498,5395.61455082235,19539.2612488443,5811.8830583031895,29332.414539356803,59112.2422096532],\"xaxis\":\"x\",\"y\":[7.245,7.136,5.239,6.14,6.359,3.352,5.648,6.824,6.013,6.117999999999999,6.803999999999999],\"yaxis\":\"y\",\"type\":\"scatter\"},{\"hovertemplate\":\"<b>OLS trendline</b><br>Life satisfaction in Cantril Ladder (World Happiness Report 2021) = 1.79739 * log10(GDP per capita, PPP (constant 2017 international $)) + -1.91159<br>R<sup>2</sup>=0.670719<br><br>GDP per capita ($)=%{x}<br>Life satisfaction (scale: 0-10)=%{y} <b>(trend)</b><extra></extra>\",\"legendgroup\":\"Overall Trendline\",\"line\":{\"color\":\"black\"},\"mode\":\"lines\",\"name\":\"Overall Trendline\",\"showlegend\":true,\"x\":[879.889370871728,884.495196541199,1055.57291467758,1151.65787379293,1428.4239172607402,1516.35571427608,1565.8675531016502,1610.55096934817,1687.05356916322,1894.89736397042,1950.52626543078,1976.80779349156,1981.429813531,2057.06797755329,2075.01166590088,2198.5603811900896,2253.4776825851,2441.63694514804,2776.74098382062,2952.6170942867498,2961.4404159762,3067.66557684345,3113.25451664416,3173.6108286295503,3315.8144141419,3467.8874478279304,3524.4430414256603,3733.5246262096503,3920.1445072358297,3952.75813183016,4421.581929297229,4482.92679957997,4551.37045105585,4615.70925676518,4712.51435451414,4912.3824843088505,5045.89672406524,5284.8932279969395,5395.61455082235,5811.8830583031895,5851.3948804932,6346.33477752569,6438.933640288679,6767.7788320975205,7106.24124906058,7705.053769713109,8202.54423164277,8206.04798668298,8309.44179938698,10036.5436154339,10179.9250989091,10524.9135954983,10531.1109693569,10592.4309433663,10795.8087418385,10940.4186480461,10942.5508739575,11191.1150421081,11303.0678498177,11534.638001777701,11551.6159731776,11826.1664161029,12170.7843887945,12291.8733773928,12403.687141686201,12702.9170758026,12963.7439586374,13194.3254000959,13487.8224816787,13562.528476251102,14194.515663803,14205.2116338951,14238.784136618799,14451.1528421912,15359.740396366598,15491.7435930236,16100.9227973306,16166.6115259959,16182.8216850199,16782.0986705337,17117.272788253,17822.606594541798,18797.9056157308,19539.2612488443,19736.6653042295,20513.10095142,20646.9330000973,22724.0221342831,23189.5274451329,24210.8629616382,24531.3577390249,25145.0133479761,25490.708257464103,25599.8436234435,26385.001938334302,27503.1773004104,28170.8213622975,28226.907278441402,28682.6939326326,29250.1180428621,29332.414539356803,31847.5377347647,31925.8034212317,32130.3008763844,34858.5119502257,36523.7332079973,37014.9592935816,38234.7244825066,38477.5791805612,39814.658927928904,40031.270764058,40536.7181783198,40837.7376281437,41672.1012399483,43705.1475593257,45268.7304537314,46206.78781304941,47457.5853457244,47937.7090620549,48197.43118917401,48625.8438167915,49828.9629137518,51334.4320301641,51803.2354226767,53269.3062047537,53847.8265545448,54185.0084787703,54665.7639158138,54708.9797919819,58096.2992560876,59112.2422096532,63104.100394726906,66510.9029855157,68663.2438230835,72864.4891443774,91307.5036202199,113035.834714458],\"y\":[3.3806840583190447,3.3847594647430435,3.522785705372494,3.5907902468563964,3.75890630027561,3.805537648163147,3.830618253524786,3.8525813208546613,3.888806558939556,3.979496945073904,4.002083099072381,4.012530660787272,4.014353657370043,4.043597040346958,4.050376599551106,4.095523083594893,4.114781831217893,4.177380883426926,4.27777259646707,4.325712046993674,4.3280412244930115,4.355550244310962,4.367065403147112,4.38205388246957,4.416269905941148,4.45127360301219,4.463901143878173,4.508887065753322,4.546961197461741,4.55342848790176,4.640920636098381,4.651676142251883,4.663503910274741,4.674461242064428,4.690663314320911,4.7230872400329105,4.744019928340212,4.7801435434659325,4.7963284657071075,4.85434081070437,4.859629691623592,4.923011944390963,4.934319248965062,4.973200680459154,5.011294103825165,5.07444657153758,5.1232867781001925,5.1236201416512746,5.133393964437236,5.280801781819367,5.291874410779867,5.3178896996295,5.318349201224908,5.3228812245359745,5.33772680841825,5.348113469891683,5.348265588609577,5.365798705348956,5.3735687595387045,5.389399480147297,5.390547602310656,5.408883175811292,5.4313048178189725,5.439032695743867,5.446101322368383,5.464709049084378,5.480574543844945,5.49433667224978,5.511510069292246,5.515821678053642,5.551373823613529,5.551961802490419,5.553804478610903,5.565360931460008,5.612958198711842,5.619638049070067,5.649745106767073,5.652923307838156,5.653705613240978,5.682089973598671,5.697526467848181,5.729046597622457,5.77063495623198,5.80082866167958,5.808675396609223,5.838795168336679,5.843871402248308,5.918695967139813,5.934524998740395,5.9681691388974745,5.978434579579849,5.997721044496224,6.008379601746013,6.0117144898729915,6.0352958687891185,6.067695080519318,6.086417806860437,6.087970365605035,6.100474137489737,6.115765731473852,6.1179588857535965,6.182175981717444,6.184091949225609,6.189076024059144,6.252692801374392,6.289119200098984,6.2995478399723766,6.324856274983809,6.329798683385841,6.356463372443201,6.360698691778543,6.370493024364036,6.376268185884868,6.392055931289505,6.429238802141169,6.456677203068532,6.472687354294628,6.493536779987188,6.5013943012919775,6.5056120775442885,6.512519897711215,6.531598607816337,6.554833261941722,6.561929564524709,6.583714164051809,6.592145950862818,6.597018605331057,6.60391387422758,6.60453072766674,6.651424266717889,6.66495672295523,6.715966805283994,6.757010592530911,6.78187108968436,6.828228567654087,7.004355414038857,7.170990501060585],\"type\":\"scatter\",\"xaxis\":\"x\",\"yaxis\":\"y\"}],                        {\"template\":{\"data\":{\"bar\":[{\"error_x\":{\"color\":\"#2a3f5f\"},\"error_y\":{\"color\":\"#2a3f5f\"},\"marker\":{\"line\":{\"color\":\"#E5ECF6\",\"width\":0.5},\"pattern\":{\"fillmode\":\"overlay\",\"size\":10,\"solidity\":0.2}},\"type\":\"bar\"}],\"barpolar\":[{\"marker\":{\"line\":{\"color\":\"#E5ECF6\",\"width\":0.5},\"pattern\":{\"fillmode\":\"overlay\",\"size\":10,\"solidity\":0.2}},\"type\":\"barpolar\"}],\"carpet\":[{\"aaxis\":{\"endlinecolor\":\"#2a3f5f\",\"gridcolor\":\"white\",\"linecolor\":\"white\",\"minorgridcolor\":\"white\",\"startlinecolor\":\"#2a3f5f\"},\"baxis\":{\"endlinecolor\":\"#2a3f5f\",\"gridcolor\":\"white\",\"linecolor\":\"white\",\"minorgridcolor\":\"white\",\"startlinecolor\":\"#2a3f5f\"},\"type\":\"carpet\"}],\"choropleth\":[{\"colorbar\":{\"outlinewidth\":0,\"ticks\":\"\"},\"type\":\"choropleth\"}],\"contour\":[{\"colorbar\":{\"outlinewidth\":0,\"ticks\":\"\"},\"colorscale\":[[0.0,\"#0d0887\"],[0.1111111111111111,\"#46039f\"],[0.2222222222222222,\"#7201a8\"],[0.3333333333333333,\"#9c179e\"],[0.4444444444444444,\"#bd3786\"],[0.5555555555555556,\"#d8576b\"],[0.6666666666666666,\"#ed7953\"],[0.7777777777777778,\"#fb9f3a\"],[0.8888888888888888,\"#fdca26\"],[1.0,\"#f0f921\"]],\"type\":\"contour\"}],\"contourcarpet\":[{\"colorbar\":{\"outlinewidth\":0,\"ticks\":\"\"},\"type\":\"contourcarpet\"}],\"heatmap\":[{\"colorbar\":{\"outlinewidth\":0,\"ticks\":\"\"},\"colorscale\":[[0.0,\"#0d0887\"],[0.1111111111111111,\"#46039f\"],[0.2222222222222222,\"#7201a8\"],[0.3333333333333333,\"#9c179e\"],[0.4444444444444444,\"#bd3786\"],[0.5555555555555556,\"#d8576b\"],[0.6666666666666666,\"#ed7953\"],[0.7777777777777778,\"#fb9f3a\"],[0.8888888888888888,\"#fdca26\"],[1.0,\"#f0f921\"]],\"type\":\"heatmap\"}],\"heatmapgl\":[{\"colorbar\":{\"outlinewidth\":0,\"ticks\":\"\"},\"colorscale\":[[0.0,\"#0d0887\"],[0.1111111111111111,\"#46039f\"],[0.2222222222222222,\"#7201a8\"],[0.3333333333333333,\"#9c179e\"],[0.4444444444444444,\"#bd3786\"],[0.5555555555555556,\"#d8576b\"],[0.6666666666666666,\"#ed7953\"],[0.7777777777777778,\"#fb9f3a\"],[0.8888888888888888,\"#fdca26\"],[1.0,\"#f0f921\"]],\"type\":\"heatmapgl\"}],\"histogram\":[{\"marker\":{\"pattern\":{\"fillmode\":\"overlay\",\"size\":10,\"solidity\":0.2}},\"type\":\"histogram\"}],\"histogram2d\":[{\"colorbar\":{\"outlinewidth\":0,\"ticks\":\"\"},\"colorscale\":[[0.0,\"#0d0887\"],[0.1111111111111111,\"#46039f\"],[0.2222222222222222,\"#7201a8\"],[0.3333333333333333,\"#9c179e\"],[0.4444444444444444,\"#bd3786\"],[0.5555555555555556,\"#d8576b\"],[0.6666666666666666,\"#ed7953\"],[0.7777777777777778,\"#fb9f3a\"],[0.8888888888888888,\"#fdca26\"],[1.0,\"#f0f921\"]],\"type\":\"histogram2d\"}],\"histogram2dcontour\":[{\"colorbar\":{\"outlinewidth\":0,\"ticks\":\"\"},\"colorscale\":[[0.0,\"#0d0887\"],[0.1111111111111111,\"#46039f\"],[0.2222222222222222,\"#7201a8\"],[0.3333333333333333,\"#9c179e\"],[0.4444444444444444,\"#bd3786\"],[0.5555555555555556,\"#d8576b\"],[0.6666666666666666,\"#ed7953\"],[0.7777777777777778,\"#fb9f3a\"],[0.8888888888888888,\"#fdca26\"],[1.0,\"#f0f921\"]],\"type\":\"histogram2dcontour\"}],\"mesh3d\":[{\"colorbar\":{\"outlinewidth\":0,\"ticks\":\"\"},\"type\":\"mesh3d\"}],\"parcoords\":[{\"line\":{\"colorbar\":{\"outlinewidth\":0,\"ticks\":\"\"}},\"type\":\"parcoords\"}],\"pie\":[{\"automargin\":true,\"type\":\"pie\"}],\"scatter\":[{\"marker\":{\"colorbar\":{\"outlinewidth\":0,\"ticks\":\"\"}},\"type\":\"scatter\"}],\"scatter3d\":[{\"line\":{\"colorbar\":{\"outlinewidth\":0,\"ticks\":\"\"}},\"marker\":{\"colorbar\":{\"outlinewidth\":0,\"ticks\":\"\"}},\"type\":\"scatter3d\"}],\"scattercarpet\":[{\"marker\":{\"colorbar\":{\"outlinewidth\":0,\"ticks\":\"\"}},\"type\":\"scattercarpet\"}],\"scattergeo\":[{\"marker\":{\"colorbar\":{\"outlinewidth\":0,\"ticks\":\"\"}},\"type\":\"scattergeo\"}],\"scattergl\":[{\"marker\":{\"colorbar\":{\"outlinewidth\":0,\"ticks\":\"\"}},\"type\":\"scattergl\"}],\"scattermapbox\":[{\"marker\":{\"colorbar\":{\"outlinewidth\":0,\"ticks\":\"\"}},\"type\":\"scattermapbox\"}],\"scatterpolar\":[{\"marker\":{\"colorbar\":{\"outlinewidth\":0,\"ticks\":\"\"}},\"type\":\"scatterpolar\"}],\"scatterpolargl\":[{\"marker\":{\"colorbar\":{\"outlinewidth\":0,\"ticks\":\"\"}},\"type\":\"scatterpolargl\"}],\"scatterternary\":[{\"marker\":{\"colorbar\":{\"outlinewidth\":0,\"ticks\":\"\"}},\"type\":\"scatterternary\"}],\"surface\":[{\"colorbar\":{\"outlinewidth\":0,\"ticks\":\"\"},\"colorscale\":[[0.0,\"#0d0887\"],[0.1111111111111111,\"#46039f\"],[0.2222222222222222,\"#7201a8\"],[0.3333333333333333,\"#9c179e\"],[0.4444444444444444,\"#bd3786\"],[0.5555555555555556,\"#d8576b\"],[0.6666666666666666,\"#ed7953\"],[0.7777777777777778,\"#fb9f3a\"],[0.8888888888888888,\"#fdca26\"],[1.0,\"#f0f921\"]],\"type\":\"surface\"}],\"table\":[{\"cells\":{\"fill\":{\"color\":\"#EBF0F8\"},\"line\":{\"color\":\"white\"}},\"header\":{\"fill\":{\"color\":\"#C8D4E3\"},\"line\":{\"color\":\"white\"}},\"type\":\"table\"}]},\"layout\":{\"annotationdefaults\":{\"arrowcolor\":\"#2a3f5f\",\"arrowhead\":0,\"arrowwidth\":1},\"autotypenumbers\":\"strict\",\"coloraxis\":{\"colorbar\":{\"outlinewidth\":0,\"ticks\":\"\"}},\"colorscale\":{\"diverging\":[[0,\"#8e0152\"],[0.1,\"#c51b7d\"],[0.2,\"#de77ae\"],[0.3,\"#f1b6da\"],[0.4,\"#fde0ef\"],[0.5,\"#f7f7f7\"],[0.6,\"#e6f5d0\"],[0.7,\"#b8e186\"],[0.8,\"#7fbc41\"],[0.9,\"#4d9221\"],[1,\"#276419\"]],\"sequential\":[[0.0,\"#0d0887\"],[0.1111111111111111,\"#46039f\"],[0.2222222222222222,\"#7201a8\"],[0.3333333333333333,\"#9c179e\"],[0.4444444444444444,\"#bd3786\"],[0.5555555555555556,\"#d8576b\"],[0.6666666666666666,\"#ed7953\"],[0.7777777777777778,\"#fb9f3a\"],[0.8888888888888888,\"#fdca26\"],[1.0,\"#f0f921\"]],\"sequentialminus\":[[0.0,\"#0d0887\"],[0.1111111111111111,\"#46039f\"],[0.2222222222222222,\"#7201a8\"],[0.3333333333333333,\"#9c179e\"],[0.4444444444444444,\"#bd3786\"],[0.5555555555555556,\"#d8576b\"],[0.6666666666666666,\"#ed7953\"],[0.7777777777777778,\"#fb9f3a\"],[0.8888888888888888,\"#fdca26\"],[1.0,\"#f0f921\"]]},\"colorway\":[\"#636efa\",\"#EF553B\",\"#00cc96\",\"#ab63fa\",\"#FFA15A\",\"#19d3f3\",\"#FF6692\",\"#B6E880\",\"#FF97FF\",\"#FECB52\"],\"font\":{\"color\":\"#2a3f5f\"},\"geo\":{\"bgcolor\":\"white\",\"lakecolor\":\"white\",\"landcolor\":\"#E5ECF6\",\"showlakes\":true,\"showland\":true,\"subunitcolor\":\"white\"},\"hoverlabel\":{\"align\":\"left\"},\"hovermode\":\"closest\",\"mapbox\":{\"style\":\"light\"},\"paper_bgcolor\":\"white\",\"plot_bgcolor\":\"#E5ECF6\",\"polar\":{\"angularaxis\":{\"gridcolor\":\"white\",\"linecolor\":\"white\",\"ticks\":\"\"},\"bgcolor\":\"#E5ECF6\",\"radialaxis\":{\"gridcolor\":\"white\",\"linecolor\":\"white\",\"ticks\":\"\"}},\"scene\":{\"xaxis\":{\"backgroundcolor\":\"#E5ECF6\",\"gridcolor\":\"white\",\"gridwidth\":2,\"linecolor\":\"white\",\"showbackground\":true,\"ticks\":\"\",\"zerolinecolor\":\"white\"},\"yaxis\":{\"backgroundcolor\":\"#E5ECF6\",\"gridcolor\":\"white\",\"gridwidth\":2,\"linecolor\":\"white\",\"showbackground\":true,\"ticks\":\"\",\"zerolinecolor\":\"white\"},\"zaxis\":{\"backgroundcolor\":\"#E5ECF6\",\"gridcolor\":\"white\",\"gridwidth\":2,\"linecolor\":\"white\",\"showbackground\":true,\"ticks\":\"\",\"zerolinecolor\":\"white\"}},\"shapedefaults\":{\"line\":{\"color\":\"#2a3f5f\"}},\"ternary\":{\"aaxis\":{\"gridcolor\":\"white\",\"linecolor\":\"white\",\"ticks\":\"\"},\"baxis\":{\"gridcolor\":\"white\",\"linecolor\":\"white\",\"ticks\":\"\"},\"bgcolor\":\"#E5ECF6\",\"caxis\":{\"gridcolor\":\"white\",\"linecolor\":\"white\",\"ticks\":\"\"}},\"title\":{\"x\":0.05},\"xaxis\":{\"automargin\":true,\"gridcolor\":\"white\",\"linecolor\":\"white\",\"ticks\":\"\",\"title\":{\"standoff\":15},\"zerolinecolor\":\"white\",\"zerolinewidth\":2},\"yaxis\":{\"automargin\":true,\"gridcolor\":\"white\",\"linecolor\":\"white\",\"ticks\":\"\",\"title\":{\"standoff\":15},\"zerolinecolor\":\"white\",\"zerolinewidth\":2}}},\"xaxis\":{\"anchor\":\"y\",\"domain\":[0.0,1.0],\"title\":{\"text\":\"GDP per capita ($)\"},\"type\":\"log\",\"range\":[2.892033001373202,5.0900316199935505]},\"yaxis\":{\"anchor\":\"x\",\"domain\":[0.0,1.0],\"title\":{\"text\":\"Life satisfaction (scale: 0-10)\"},\"range\":[1.693,8.66]},\"legend\":{\"title\":{\"text\":\"Continent\"},\"tracegroupgap\":0},\"title\":{\"text\":\"Happiness vs. GDP per capita, 2016\"}},                        {\"responsive\": true}                    ).then(function(){\n",
       "                            \n",
       "var gd = document.getElementById('484e35d6-ffe8-4c04-ba77-1135d1ff3e5f');\n",
       "var x = new MutationObserver(function (mutations, observer) {{\n",
       "        var display = window.getComputedStyle(gd).display;\n",
       "        if (!display || display === 'none') {{\n",
       "            console.log([gd, 'removed!']);\n",
       "            Plotly.purge(gd);\n",
       "            observer.disconnect();\n",
       "        }}\n",
       "}});\n",
       "\n",
       "// Listen for the removal of the full notebook cells\n",
       "var notebookContainer = gd.closest('#notebook-container');\n",
       "if (notebookContainer) {{\n",
       "    x.observe(notebookContainer, {childList: true});\n",
       "}}\n",
       "\n",
       "// Listen for the clearing of the current output cell\n",
       "var outputEl = gd.closest('.output');\n",
       "if (outputEl) {{\n",
       "    x.observe(outputEl, {childList: true});\n",
       "}}\n",
       "\n",
       "                        })                };                });            </script>        </div>"
      ]
     },
     "metadata": {},
     "output_type": "display_data"
    }
   ],
   "source": [
    "plotFigure(readCSV('gdp-vs-happiness.csv',\n",
    "          'GDP per capita, PPP (constant 2017 international $)',\n",
    "          'Life satisfaction in Cantril Ladder (World Happiness Report 2021)',\n",
    "          'Happiness vs. GDP per capita'), 'GDP per capita ($)', \n",
    "           'Life satisfaction (scale: 0-10)', 'Happiness vs. GDP per capita')"
   ]
  },
  {
   "cell_type": "markdown",
   "metadata": {},
   "source": [
    "###### Questions\n",
    "---"
   ]
  },
  {
   "cell_type": "markdown",
   "metadata": {},
   "source": [
    "##### 2. Children per women by GDP per capita"
   ]
  },
  {
   "cell_type": "code",
   "execution_count": 50,
   "metadata": {
    "scrolled": false
   },
   "outputs": [
    {
     "name": "stdout",
     "output_type": "stream",
     "text": [
      "Year of interest for the data \"Children per woman vs. GDP per capita\": \n",
      "2016\n",
      "---------------------------------------------------------------------------------------------------------------------\n"
     ]
    },
    {
     "data": {
      "application/vnd.plotly.v1+json": {
       "config": {
        "plotlyServerURL": "https://plot.ly"
       },
       "data": [
        {
         "customdata": [
          [
           "Albania"
          ],
          [
           "Austria"
          ],
          [
           "Belarus"
          ],
          [
           "Belgium"
          ],
          [
           "Bosnia and Herzegovina"
          ],
          [
           "Bulgaria"
          ],
          [
           "Croatia"
          ],
          [
           "Cyprus"
          ],
          [
           "Czechia"
          ],
          [
           "Denmark"
          ],
          [
           "Estonia"
          ],
          [
           "Finland"
          ],
          [
           "France"
          ],
          [
           "Germany"
          ],
          [
           "Greece"
          ],
          [
           "Hungary"
          ],
          [
           "Iceland"
          ],
          [
           "Ireland"
          ],
          [
           "Italy"
          ],
          [
           "Latvia"
          ],
          [
           "Lithuania"
          ],
          [
           "Luxembourg"
          ],
          [
           "Malta"
          ],
          [
           "Moldova"
          ],
          [
           "Montenegro"
          ],
          [
           "Netherlands"
          ],
          [
           "North Macedonia"
          ],
          [
           "Norway"
          ],
          [
           "Poland"
          ],
          [
           "Portugal"
          ],
          [
           "Romania"
          ],
          [
           "Russia"
          ],
          [
           "Serbia"
          ],
          [
           "Slovakia"
          ],
          [
           "Slovenia"
          ],
          [
           "Spain"
          ],
          [
           "Sweden"
          ],
          [
           "Switzerland"
          ],
          [
           "Ukraine"
          ],
          [
           "United Kingdom"
          ]
         ],
         "hovertemplate": "Continent=Europe<br>GDP per capita ($)=%{x}<br>Children per woman=%{y}<br>Entity=%{customdata[0]}<extra></extra>",
         "legendgroup": "Europe",
         "marker": {
          "color": "#636efa",
          "symbol": "circle"
         },
         "mode": "markers",
         "name": "Europe",
         "orientation": "v",
         "showlegend": true,
         "type": "scatter",
         "x": [
          11217.45,
          44791.379,
          16252.168,
          37170.441,
          11081.303999999998,
          17693.746,
          21970.178,
          28137.316000000003,
          29209.607000000004,
          43566.543,
          24504.605,
          38374.273,
          38208.797,
          45852.555,
          23041.721,
          21420.842,
          40422.207,
          71948.953,
          36918.219,
          22435.625,
          24574.676,
          72530.203,
          27904.061,
          5763.8433,
          16879.674,
          44591.039000000004,
          13367.096000000001,
          59646.379,
          25233.961,
          24574.215,
          21949.105,
          22083.897999999997,
          13991.986,
          24178.82,
          26406.225,
          34054.187999999995,
          41898.094,
          62668.328,
          8995.1533,
          38026.512
         ],
         "xaxis": "x",
         "y": [
          1.659,
          1.505,
          1.704,
          1.732,
          1.286,
          1.5419999999999998,
          1.459,
          1.345,
          1.591,
          1.742,
          1.581,
          1.606,
          1.894,
          1.539,
          1.3119999999999998,
          1.4380000000000002,
          1.83,
          1.881,
          1.359,
          1.646,
          1.6569999999999998,
          1.476,
          1.43,
          1.259,
          1.73,
          1.681,
          1.506,
          1.716,
          1.3869999999999998,
          1.277,
          1.584,
          1.7990000000000002,
          1.454,
          1.465,
          1.6,
          1.3159999999999998,
          1.868,
          1.535,
          1.466,
          1.787
         ],
         "yaxis": "y"
        },
        {
         "customdata": [
          [
           "Algeria"
          ],
          [
           "Angola"
          ],
          [
           "Benin"
          ],
          [
           "Botswana"
          ],
          [
           "Burkina Faso"
          ],
          [
           "Burundi"
          ],
          [
           "Cameroon"
          ],
          [
           "Cape Verde"
          ],
          [
           "Central African Republic"
          ],
          [
           "Chad"
          ],
          [
           "Comoros"
          ],
          [
           "Congo"
          ],
          [
           "Cote d'Ivoire"
          ],
          [
           "Democratic Republic of Congo"
          ],
          [
           "Djibouti"
          ],
          [
           "Egypt"
          ],
          [
           "Equatorial Guinea"
          ],
          [
           "Eswatini"
          ],
          [
           "Ethiopia"
          ],
          [
           "Gabon"
          ],
          [
           "Gambia"
          ],
          [
           "Ghana"
          ],
          [
           "Guinea"
          ],
          [
           "Guinea-Bissau"
          ],
          [
           "Kenya"
          ],
          [
           "Lesotho"
          ],
          [
           "Liberia"
          ],
          [
           "Madagascar"
          ],
          [
           "Malawi"
          ],
          [
           "Mali"
          ],
          [
           "Mauritania"
          ],
          [
           "Mauritius"
          ],
          [
           "Morocco"
          ],
          [
           "Mozambique"
          ],
          [
           "Namibia"
          ],
          [
           "Niger"
          ],
          [
           "Nigeria"
          ],
          [
           "Rwanda"
          ],
          [
           "Sao Tome and Principe"
          ],
          [
           "Senegal"
          ],
          [
           "Seychelles"
          ],
          [
           "Sierra Leone"
          ],
          [
           "South Africa"
          ],
          [
           "Sudan"
          ],
          [
           "Tanzania"
          ],
          [
           "Togo"
          ],
          [
           "Tunisia"
          ],
          [
           "Uganda"
          ],
          [
           "Zambia"
          ],
          [
           "Zimbabwe"
          ]
         ],
         "hovertemplate": "Continent=Africa<br>GDP per capita ($)=%{x}<br>Children per woman=%{y}<br>Entity=%{customdata[0]}<extra></extra>",
         "legendgroup": "Africa",
         "marker": {
          "color": "#EF553B",
          "symbol": "circle"
         },
         "mode": "markers",
         "name": "Africa",
         "orientation": "v",
         "showlegend": true,
         "type": "scatter",
         "x": [
          12193.961000000001,
          5246.3335,
          2042.2521,
          14951.116000000002,
          1559.5422,
          803.3457599999999,
          3108.1067,
          6464.2524,
          719.8215299999999,
          1476.6967,
          2849.5518,
          3578.5364,
          3346.5608,
          774.13312,
          3848.7834,
          10877.037,
          15434.622,
          7282.8657,
          1614.9105,
          12357.726999999999,
          2530.0403,
          4798.6992,
          2116.9067,
          1599.0474,
          2999.3271,
          3263.8423,
          749.91693,
          1520.4072,
          1026.3862,
          2238.1941,
          2939.4001,
          21135.746,
          7995.4087,
          1423.2395,
          11000.812,
          903.87964,
          4426.3672,
          1937.4029999999998,
          3594.0679,
          3070.8328,
          24260.727000000003,
          1417.849,
          11720.435,
          4306.9048,
          2418.8311,
          1527.0379999999998,
          10838.534,
          1790.4403,
          3551.9954,
          1821.6588
         ],
         "xaxis": "x",
         "y": [
          3.052,
          5.686,
          4.977,
          2.942,
          5.353,
          5.599,
          4.708,
          2.346,
          4.87,
          5.947,
          4.347,
          4.5360000000000005,
          4.759,
          6.112,
          2.846,
          3.41,
          4.686,
          3.0410000000000004,
          4.456,
          4.039,
          5.337999999999999,
          3.984,
          4.854,
          4.631,
          3.663,
          3.197,
          4.461,
          4.184,
          4.407,
          6.057,
          4.6789999999999985,
          1.406,
          2.489,
          4.992,
          3.4960000000000004,
          7.0870000000000015,
          5.526,
          4.123,
          4.426,
          4.77,
          2.447,
          4.457,
          2.457,
          4.532,
          5.015,
          4.449,
          2.238,
          5.242000000000001,
          4.814,
          3.804
         ],
         "yaxis": "y"
        },
        {
         "customdata": [
          [
           "Antigua and Barbuda"
          ],
          [
           "Aruba"
          ],
          [
           "Bahamas"
          ],
          [
           "Barbados"
          ],
          [
           "Belize"
          ],
          [
           "Canada"
          ],
          [
           "Costa Rica"
          ],
          [
           "Curacao"
          ],
          [
           "Dominican Republic"
          ],
          [
           "El Salvador"
          ],
          [
           "Grenada"
          ],
          [
           "Guatemala"
          ],
          [
           "Haiti"
          ],
          [
           "Honduras"
          ],
          [
           "Jamaica"
          ],
          [
           "Mexico"
          ],
          [
           "Nicaragua"
          ],
          [
           "Panama"
          ],
          [
           "Saint Lucia"
          ],
          [
           "Saint Vincent and the Grenadines"
          ],
          [
           "Trinidad and Tobago"
          ],
          [
           "United States"
          ]
         ],
         "hovertemplate": "Continent=North America<br>GDP per capita ($)=%{x}<br>Children per woman=%{y}<br>Entity=%{customdata[0]}<extra></extra>",
         "legendgroup": "North America",
         "marker": {
          "color": "#00cc96",
          "symbol": "circle"
         },
         "mode": "markers",
         "name": "North America",
         "orientation": "v",
         "showlegend": true,
         "type": "scatter",
         "x": [
          8340.2539,
          29586.152000000002,
          23078.142999999996,
          9424.458,
          6904.5332,
          42062.379,
          14454.995,
          22663.754,
          14307.479,
          6563.7739,
          11212.801000000001,
          7178.0396,
          1657.9170000000001,
          4134.3174,
          6795.1694,
          17171.139,
          5042.4902,
          20807.678,
          7555.6216,
          8062.8394,
          41578.27,
          53984.238
         ],
         "xaxis": "x",
         "y": [
          2.003,
          1.872,
          1.771,
          1.6130000000000002,
          2.391,
          1.548,
          1.789,
          1.872,
          2.387,
          2.079,
          2.104,
          2.9730000000000003,
          3.0410000000000004,
          2.536,
          2.009,
          2.186,
          2.455,
          2.514,
          1.461,
          1.931,
          1.753,
          1.794
         ],
         "yaxis": "y"
        },
        {
         "customdata": [
          [
           "Argentina"
          ],
          [
           "Bolivia"
          ],
          [
           "Brazil"
          ],
          [
           "Chile"
          ],
          [
           "Colombia"
          ],
          [
           "Ecuador"
          ],
          [
           "Paraguay"
          ],
          [
           "Peru"
          ],
          [
           "Suriname"
          ],
          [
           "Uruguay"
          ],
          [
           "Venezuela"
          ]
         ],
         "hovertemplate": "Continent=South America<br>GDP per capita ($)=%{x}<br>Children per woman=%{y}<br>Entity=%{customdata[0]}<extra></extra>",
         "legendgroup": "South America",
         "marker": {
          "color": "#ab63fa",
          "symbol": "circle"
         },
         "mode": "markers",
         "name": "South America",
         "orientation": "v",
         "showlegend": true,
         "type": "scatter",
         "x": [
          16085.712,
          5653.1333,
          13787.687,
          22724.904,
          12593.01,
          9718.9785,
          7930.3447,
          11183.41,
          12004.038999999999,
          19423.277,
          7358.5239
         ],
         "xaxis": "x",
         "y": [
          2.2880000000000003,
          2.829,
          1.747,
          1.713,
          1.843,
          2.475,
          2.479,
          2.297,
          2.469,
          1.991,
          2.317
         ],
         "yaxis": "y"
        },
        {
         "customdata": [
          [
           "Armenia"
          ],
          [
           "Azerbaijan"
          ],
          [
           "Bahrain"
          ],
          [
           "Bangladesh"
          ],
          [
           "Bhutan"
          ],
          [
           "Brunei"
          ],
          [
           "Cambodia"
          ],
          [
           "China"
          ],
          [
           "Georgia"
          ],
          [
           "Hong Kong"
          ],
          [
           "India"
          ],
          [
           "Indonesia"
          ],
          [
           "Iran"
          ],
          [
           "Iraq"
          ],
          [
           "Israel"
          ],
          [
           "Japan"
          ],
          [
           "Jordan"
          ],
          [
           "Kazakhstan"
          ],
          [
           "Kuwait"
          ],
          [
           "Kyrgyzstan"
          ],
          [
           "Laos"
          ],
          [
           "Lebanon"
          ],
          [
           "Macao"
          ],
          [
           "Malaysia"
          ],
          [
           "Maldives"
          ],
          [
           "Mongolia"
          ],
          [
           "Myanmar"
          ],
          [
           "Nepal"
          ],
          [
           "Oman"
          ],
          [
           "Pakistan"
          ],
          [
           "Palestine"
          ],
          [
           "Philippines"
          ],
          [
           "Qatar"
          ],
          [
           "Saudi Arabia"
          ],
          [
           "Singapore"
          ],
          [
           "South Korea"
          ],
          [
           "Sri Lanka"
          ],
          [
           "Syria"
          ],
          [
           "Taiwan"
          ],
          [
           "Tajikistan"
          ],
          [
           "Thailand"
          ],
          [
           "Turkey"
          ],
          [
           "Turkmenistan"
          ],
          [
           "United Arab Emirates"
          ],
          [
           "Uzbekistan"
          ],
          [
           "Vietnam"
          ],
          [
           "Yemen"
          ]
         ],
         "hovertemplate": "Continent=Asia<br>GDP per capita ($)=%{x}<br>Children per woman=%{y}<br>Entity=%{customdata[0]}<extra></extra>",
         "legendgroup": "Asia",
         "marker": {
          "color": "#FFA15A",
          "symbol": "circle"
         },
         "mode": "markers",
         "name": "Asia",
         "orientation": "v",
         "showlegend": true,
         "type": "scatter",
         "x": [
          9381.0264,
          14293.731000000002,
          37689.027,
          3218.9878,
          8239.8018,
          51455.105,
          3046.0073,
          12369.488000000001,
          12487.302,
          39576.734,
          6037.9868,
          10123.332,
          15574.608999999999,
          16266.956,
          35619.473,
          39587.566,
          9002.4961,
          20929.395,
          41474.051,
          10789.443000000001,
          6331.1826,
          15178.339,
          80056.703,
          21804.357000000004,
          13505.962,
          10781.462,
          5484.3887,
          2532.4661,
          29389.609,
          5037.855,
          4484.7881,
          7342.8218,
          94049.18,
          39464.801,
          64978.668,
          35326.344,
          12318.712,
          5438.1191,
          42227.582,
          3971.2961,
          14929.278,
          25548.146,
          20991.088,
          65487.973,
          9338.0146,
          5485.8125,
          2131.6548
         ],
         "xaxis": "x",
         "y": [
          1.744,
          2.109,
          2.033,
          2.09,
          2.014,
          1.915,
          2.559,
          1.675,
          2.059,
          1.295,
          2.266,
          2.362,
          2.083,
          3.864,
          3.059,
          1.3869999999999998,
          2.954,
          2.752,
          2.082,
          3.142,
          2.7510000000000003,
          2.104,
          1.207,
          2.037,
          1.947,
          2.923,
          2.182,
          2.027,
          2.937,
          3.612,
          3.844,
          2.718,
          1.907,
          2.435,
          1.213,
          1.155,
          2.211,
          2.889,
          1.135,
          3.618,
          1.537,
          2.092,
          2.887,
          1.491,
          2.432,
          2.03,
          3.994
         ],
         "yaxis": "y"
        },
        {
         "customdata": [
          [
           "Australia"
          ],
          [
           "Fiji"
          ],
          [
           "New Zealand"
          ]
         ],
         "hovertemplate": "Continent=Oceania<br>GDP per capita ($)=%{x}<br>Children per woman=%{y}<br>Entity=%{customdata[0]}<extra></extra>",
         "legendgroup": "Oceania",
         "marker": {
          "color": "#19d3f3",
          "symbol": "circle"
         },
         "mode": "markers",
         "name": "Oceania",
         "orientation": "v",
         "showlegend": true,
         "type": "scatter",
         "x": [
          46755.23,
          7551.4614,
          35936.344
         ],
         "xaxis": "x",
         "y": [
          1.846,
          2.797,
          1.938
         ],
         "yaxis": "y"
        },
        {
         "hovertemplate": "<b>OLS trendline</b><br>Estimates, 1950 - 2020: Annually interpolated demographic indicators - Total fertility (live births per woman) = -2.08221 * log10(Output-side real GDP per capita (gdppc_o) (PWT 9.1 (2019))) + 11.0533<br>R<sup>2</sup>=0.625740<br><br>GDP per capita ($)=%{x}<br>Children per woman=%{y} <b>(trend)</b><extra></extra>",
         "legendgroup": "Overall Trendline",
         "line": {
          "color": "black"
         },
         "mode": "lines",
         "name": "Overall Trendline",
         "showlegend": true,
         "type": "scatter",
         "x": [
          719.8215299999999,
          749.91693,
          774.13312,
          803.3457599999999,
          903.87964,
          1026.3862,
          1417.849,
          1423.2395,
          1476.6967,
          1520.4072,
          1527.0379999999998,
          1559.5422,
          1599.0474,
          1614.9105,
          1657.9170000000001,
          1790.4403,
          1821.6588,
          1937.4029999999998,
          2042.2521,
          2116.9067,
          2131.6548,
          2238.1941,
          2418.8311,
          2530.0403,
          2532.4661,
          2849.5518,
          2939.4001,
          2999.3271,
          3046.0073,
          3070.8328,
          3108.1067,
          3218.9878,
          3263.8423,
          3346.5608,
          3551.9954,
          3578.5364,
          3594.0679,
          3848.7834,
          3971.2961,
          4134.3174,
          4306.9048,
          4426.3672,
          4484.7881,
          4798.6992,
          5037.855,
          5042.4902,
          5246.3335,
          5438.1191,
          5484.3887,
          5485.8125,
          5653.1333,
          5763.8433,
          6037.9868,
          6331.1826,
          6464.2524,
          6563.7739,
          6795.1694,
          6904.5332,
          7178.0396,
          7282.8657,
          7342.8218,
          7358.5239,
          7551.4614,
          7555.6216,
          7930.3447,
          7995.4087,
          8062.8394,
          8239.8018,
          8340.2539,
          8995.1533,
          9002.4961,
          9338.0146,
          9381.0264,
          9424.458,
          9718.9785,
          10123.332,
          10781.462,
          10789.443000000001,
          10838.534,
          10877.037,
          11000.812,
          11081.303999999998,
          11183.41,
          11212.801000000001,
          11217.45,
          11720.435,
          12004.038999999999,
          12193.961000000001,
          12318.712,
          12357.726999999999,
          12369.488000000001,
          12487.302,
          12593.01,
          13367.096000000001,
          13505.962,
          13787.687,
          13991.986,
          14293.731000000002,
          14307.479,
          14454.995,
          14929.278,
          14951.116000000002,
          15178.339,
          15434.622,
          15574.608999999999,
          16085.712,
          16252.168,
          16266.956,
          16879.674,
          17171.139,
          17693.746,
          19423.277,
          20807.678,
          20929.395,
          20991.088,
          21135.746,
          21420.842,
          21804.357000000004,
          21949.105,
          21970.178,
          22083.897999999997,
          22435.625,
          22663.754,
          22724.904,
          23041.721,
          23078.142999999996,
          24178.82,
          24260.727000000003,
          24504.605,
          24574.215,
          24574.676,
          25233.961,
          25548.146,
          26406.225,
          27904.061,
          28137.316000000003,
          29209.607000000004,
          29389.609,
          29586.152000000002,
          34054.187999999995,
          35326.344,
          35619.473,
          35936.344,
          36918.219,
          37170.441,
          37689.027,
          38026.512,
          38208.797,
          38374.273,
          39464.801,
          39576.734,
          39587.566,
          40422.207,
          41474.051,
          41578.27,
          41898.094,
          42062.379,
          42227.582,
          43566.543,
          44591.039000000004,
          44791.379,
          45852.555,
          46755.23,
          51455.105,
          53984.238,
          59646.379,
          62668.328,
          64978.668,
          65487.973,
          71948.953,
          72530.203,
          80056.703,
          94049.18
         ],
         "xaxis": "x",
         "y": [
          5.103936145726323,
          5.066897062874656,
          5.0381573389488175,
          5.0046610758619945,
          4.8980349101189145,
          4.7830963375567945,
          4.4909219281171415,
          4.4874904260700905,
          4.454147292145499,
          4.427768541478783,
          4.423833311097851,
          4.404786712749322,
          4.382165120816794,
          4.373238422493645,
          4.349471363956344,
          4.279931573028677,
          4.264300001507697,
          4.208594700133032,
          4.160934129252222,
          4.1284675023159325,
          4.122189299203662,
          4.078086216803222,
          4.007899404269543,
          3.96725066133048,
          3.966384040960966,
          3.8597061999676647,
          3.8316334955835654,
          3.813382634669151,
          3.799417006855518,
          3.7920767253800136,
          3.7811664524771444,
          3.7494680683749246,
          3.7369543100486107,
          3.714321585935979,
          3.660447084341251,
          3.6537151973067843,
          3.649798890922704,
          3.587879721907904,
          3.5595433052056764,
          3.523163825708612,
          3.4861806897729988,
          3.4614394879630828,
          3.449582349104759,
          3.3884036015924837,
          3.3444228165695744,
          3.343591181956193,
          3.3077545652585494,
          3.275286992548395,
          3.2676254638554747,
          3.267390731016601,
          3.2402214614834888,
          3.222683108532684,
          3.180664063434434,
          3.1377857179715214,
          3.1189761179718056,
          3.1051599950824444,
          3.073829612739668,
          3.0593914766394867,
          3.024261362944781,
          3.01115081006672,
          3.0037367009877176,
          3.0018049983761905,
          2.978400295783935,
          2.9779022456532633,
          2.934130245292854,
          2.9267412967533932,
          2.919146756116602,
          2.899514078265108,
          2.888556418737986,
          2.820198830372039,
          2.8194609509668798,
          2.7863712414517288,
          2.782215540961557,
          2.7780385692946616,
          2.750211379580886,
          2.7133502579013484,
          2.6563930369024824,
          2.655723879298444,
          2.6516187562562514,
          2.648412020133218,
          2.638179740478753,
          2.6315871908466146,
          2.623292950043478,
          2.620919503172116,
          2.6205446468222675,
          2.5808793471848777,
          2.5592583410158696,
          2.54506305414265,
          2.5358586311976357,
          2.5329991388523982,
          2.5321389208427902,
          2.523566676073619,
          2.515943833586979,
          2.461998861966414,
          2.452652939901201,
          2.4339840427605335,
          2.420682978414982,
          2.4013886876649515,
          2.4005193377755916,
          2.391243435820563,
          2.362049020650561,
          2.3607272196622873,
          2.347087397742527,
          2.3319460665117226,
          2.323781387537304,
          2.2945822314055917,
          2.285272627623401,
          2.2844501765215117,
          2.2510144946350366,
          2.2355331390721194,
          2.208421300614571,
          2.1240860218345503,
          2.061825533133545,
          2.056551171120592,
          2.053889530730636,
          2.0476790560580493,
          2.035562748933751,
          2.0195156620958805,
          2.013532356473524,
          2.0126645745244574,
          2.0079959260823,
          1.9937068649411156,
          1.984558297539822,
          1.982121671759188,
          1.9696016241474172,
          1.9681733376998451,
          1.926041336509165,
          1.9229831722157655,
          1.9139382567307806,
          1.9113730801545117,
          1.9113561162173287,
          1.8874156085695795,
          1.8762258755393102,
          1.8463525116796529,
          1.796460412824299,
          1.788932681241322,
          1.7551112007117915,
          1.7495556598797677,
          1.7435283282418919,
          1.6163425019838655,
          1.5831766715605937,
          1.5757040340360717,
          1.5676950054904246,
          1.543318850967717,
          1.5371618055688572,
          1.5246326889344513,
          1.5165712645339617,
          1.5122467730289237,
          1.5083388826640434,
          1.4829988581850273,
          1.4804376639160512,
          1.4801901960968546,
          1.4613228036193213,
          1.438092728702017,
          1.4358232045499157,
          1.428893908694123,
          1.4253550514577071,
          1.4218103302318568,
          1.3935820061357411,
          1.3725631246099361,
          1.3685093859145496,
          1.347335139230788,
          1.329705755724122,
          1.243089296514789,
          1.1996990874691686,
          1.1095036433006324,
          1.064810974131742,
          1.032072971306384,
          1.025012720684515,
          0.939927397630413,
          0.9326512824384192,
          0.8433684736505231,
          0.6977024498109579
         ],
         "yaxis": "y"
        }
       ],
       "layout": {
        "legend": {
         "title": {
          "text": "Continent"
         },
         "tracegroupgap": 0
        },
        "template": {
         "data": {
          "bar": [
           {
            "error_x": {
             "color": "#2a3f5f"
            },
            "error_y": {
             "color": "#2a3f5f"
            },
            "marker": {
             "line": {
              "color": "#E5ECF6",
              "width": 0.5
             },
             "pattern": {
              "fillmode": "overlay",
              "size": 10,
              "solidity": 0.2
             }
            },
            "type": "bar"
           }
          ],
          "barpolar": [
           {
            "marker": {
             "line": {
              "color": "#E5ECF6",
              "width": 0.5
             },
             "pattern": {
              "fillmode": "overlay",
              "size": 10,
              "solidity": 0.2
             }
            },
            "type": "barpolar"
           }
          ],
          "carpet": [
           {
            "aaxis": {
             "endlinecolor": "#2a3f5f",
             "gridcolor": "white",
             "linecolor": "white",
             "minorgridcolor": "white",
             "startlinecolor": "#2a3f5f"
            },
            "baxis": {
             "endlinecolor": "#2a3f5f",
             "gridcolor": "white",
             "linecolor": "white",
             "minorgridcolor": "white",
             "startlinecolor": "#2a3f5f"
            },
            "type": "carpet"
           }
          ],
          "choropleth": [
           {
            "colorbar": {
             "outlinewidth": 0,
             "ticks": ""
            },
            "type": "choropleth"
           }
          ],
          "contour": [
           {
            "colorbar": {
             "outlinewidth": 0,
             "ticks": ""
            },
            "colorscale": [
             [
              0,
              "#0d0887"
             ],
             [
              0.1111111111111111,
              "#46039f"
             ],
             [
              0.2222222222222222,
              "#7201a8"
             ],
             [
              0.3333333333333333,
              "#9c179e"
             ],
             [
              0.4444444444444444,
              "#bd3786"
             ],
             [
              0.5555555555555556,
              "#d8576b"
             ],
             [
              0.6666666666666666,
              "#ed7953"
             ],
             [
              0.7777777777777778,
              "#fb9f3a"
             ],
             [
              0.8888888888888888,
              "#fdca26"
             ],
             [
              1,
              "#f0f921"
             ]
            ],
            "type": "contour"
           }
          ],
          "contourcarpet": [
           {
            "colorbar": {
             "outlinewidth": 0,
             "ticks": ""
            },
            "type": "contourcarpet"
           }
          ],
          "heatmap": [
           {
            "colorbar": {
             "outlinewidth": 0,
             "ticks": ""
            },
            "colorscale": [
             [
              0,
              "#0d0887"
             ],
             [
              0.1111111111111111,
              "#46039f"
             ],
             [
              0.2222222222222222,
              "#7201a8"
             ],
             [
              0.3333333333333333,
              "#9c179e"
             ],
             [
              0.4444444444444444,
              "#bd3786"
             ],
             [
              0.5555555555555556,
              "#d8576b"
             ],
             [
              0.6666666666666666,
              "#ed7953"
             ],
             [
              0.7777777777777778,
              "#fb9f3a"
             ],
             [
              0.8888888888888888,
              "#fdca26"
             ],
             [
              1,
              "#f0f921"
             ]
            ],
            "type": "heatmap"
           }
          ],
          "heatmapgl": [
           {
            "colorbar": {
             "outlinewidth": 0,
             "ticks": ""
            },
            "colorscale": [
             [
              0,
              "#0d0887"
             ],
             [
              0.1111111111111111,
              "#46039f"
             ],
             [
              0.2222222222222222,
              "#7201a8"
             ],
             [
              0.3333333333333333,
              "#9c179e"
             ],
             [
              0.4444444444444444,
              "#bd3786"
             ],
             [
              0.5555555555555556,
              "#d8576b"
             ],
             [
              0.6666666666666666,
              "#ed7953"
             ],
             [
              0.7777777777777778,
              "#fb9f3a"
             ],
             [
              0.8888888888888888,
              "#fdca26"
             ],
             [
              1,
              "#f0f921"
             ]
            ],
            "type": "heatmapgl"
           }
          ],
          "histogram": [
           {
            "marker": {
             "pattern": {
              "fillmode": "overlay",
              "size": 10,
              "solidity": 0.2
             }
            },
            "type": "histogram"
           }
          ],
          "histogram2d": [
           {
            "colorbar": {
             "outlinewidth": 0,
             "ticks": ""
            },
            "colorscale": [
             [
              0,
              "#0d0887"
             ],
             [
              0.1111111111111111,
              "#46039f"
             ],
             [
              0.2222222222222222,
              "#7201a8"
             ],
             [
              0.3333333333333333,
              "#9c179e"
             ],
             [
              0.4444444444444444,
              "#bd3786"
             ],
             [
              0.5555555555555556,
              "#d8576b"
             ],
             [
              0.6666666666666666,
              "#ed7953"
             ],
             [
              0.7777777777777778,
              "#fb9f3a"
             ],
             [
              0.8888888888888888,
              "#fdca26"
             ],
             [
              1,
              "#f0f921"
             ]
            ],
            "type": "histogram2d"
           }
          ],
          "histogram2dcontour": [
           {
            "colorbar": {
             "outlinewidth": 0,
             "ticks": ""
            },
            "colorscale": [
             [
              0,
              "#0d0887"
             ],
             [
              0.1111111111111111,
              "#46039f"
             ],
             [
              0.2222222222222222,
              "#7201a8"
             ],
             [
              0.3333333333333333,
              "#9c179e"
             ],
             [
              0.4444444444444444,
              "#bd3786"
             ],
             [
              0.5555555555555556,
              "#d8576b"
             ],
             [
              0.6666666666666666,
              "#ed7953"
             ],
             [
              0.7777777777777778,
              "#fb9f3a"
             ],
             [
              0.8888888888888888,
              "#fdca26"
             ],
             [
              1,
              "#f0f921"
             ]
            ],
            "type": "histogram2dcontour"
           }
          ],
          "mesh3d": [
           {
            "colorbar": {
             "outlinewidth": 0,
             "ticks": ""
            },
            "type": "mesh3d"
           }
          ],
          "parcoords": [
           {
            "line": {
             "colorbar": {
              "outlinewidth": 0,
              "ticks": ""
             }
            },
            "type": "parcoords"
           }
          ],
          "pie": [
           {
            "automargin": true,
            "type": "pie"
           }
          ],
          "scatter": [
           {
            "marker": {
             "colorbar": {
              "outlinewidth": 0,
              "ticks": ""
             }
            },
            "type": "scatter"
           }
          ],
          "scatter3d": [
           {
            "line": {
             "colorbar": {
              "outlinewidth": 0,
              "ticks": ""
             }
            },
            "marker": {
             "colorbar": {
              "outlinewidth": 0,
              "ticks": ""
             }
            },
            "type": "scatter3d"
           }
          ],
          "scattercarpet": [
           {
            "marker": {
             "colorbar": {
              "outlinewidth": 0,
              "ticks": ""
             }
            },
            "type": "scattercarpet"
           }
          ],
          "scattergeo": [
           {
            "marker": {
             "colorbar": {
              "outlinewidth": 0,
              "ticks": ""
             }
            },
            "type": "scattergeo"
           }
          ],
          "scattergl": [
           {
            "marker": {
             "colorbar": {
              "outlinewidth": 0,
              "ticks": ""
             }
            },
            "type": "scattergl"
           }
          ],
          "scattermapbox": [
           {
            "marker": {
             "colorbar": {
              "outlinewidth": 0,
              "ticks": ""
             }
            },
            "type": "scattermapbox"
           }
          ],
          "scatterpolar": [
           {
            "marker": {
             "colorbar": {
              "outlinewidth": 0,
              "ticks": ""
             }
            },
            "type": "scatterpolar"
           }
          ],
          "scatterpolargl": [
           {
            "marker": {
             "colorbar": {
              "outlinewidth": 0,
              "ticks": ""
             }
            },
            "type": "scatterpolargl"
           }
          ],
          "scatterternary": [
           {
            "marker": {
             "colorbar": {
              "outlinewidth": 0,
              "ticks": ""
             }
            },
            "type": "scatterternary"
           }
          ],
          "surface": [
           {
            "colorbar": {
             "outlinewidth": 0,
             "ticks": ""
            },
            "colorscale": [
             [
              0,
              "#0d0887"
             ],
             [
              0.1111111111111111,
              "#46039f"
             ],
             [
              0.2222222222222222,
              "#7201a8"
             ],
             [
              0.3333333333333333,
              "#9c179e"
             ],
             [
              0.4444444444444444,
              "#bd3786"
             ],
             [
              0.5555555555555556,
              "#d8576b"
             ],
             [
              0.6666666666666666,
              "#ed7953"
             ],
             [
              0.7777777777777778,
              "#fb9f3a"
             ],
             [
              0.8888888888888888,
              "#fdca26"
             ],
             [
              1,
              "#f0f921"
             ]
            ],
            "type": "surface"
           }
          ],
          "table": [
           {
            "cells": {
             "fill": {
              "color": "#EBF0F8"
             },
             "line": {
              "color": "white"
             }
            },
            "header": {
             "fill": {
              "color": "#C8D4E3"
             },
             "line": {
              "color": "white"
             }
            },
            "type": "table"
           }
          ]
         },
         "layout": {
          "annotationdefaults": {
           "arrowcolor": "#2a3f5f",
           "arrowhead": 0,
           "arrowwidth": 1
          },
          "autotypenumbers": "strict",
          "coloraxis": {
           "colorbar": {
            "outlinewidth": 0,
            "ticks": ""
           }
          },
          "colorscale": {
           "diverging": [
            [
             0,
             "#8e0152"
            ],
            [
             0.1,
             "#c51b7d"
            ],
            [
             0.2,
             "#de77ae"
            ],
            [
             0.3,
             "#f1b6da"
            ],
            [
             0.4,
             "#fde0ef"
            ],
            [
             0.5,
             "#f7f7f7"
            ],
            [
             0.6,
             "#e6f5d0"
            ],
            [
             0.7,
             "#b8e186"
            ],
            [
             0.8,
             "#7fbc41"
            ],
            [
             0.9,
             "#4d9221"
            ],
            [
             1,
             "#276419"
            ]
           ],
           "sequential": [
            [
             0,
             "#0d0887"
            ],
            [
             0.1111111111111111,
             "#46039f"
            ],
            [
             0.2222222222222222,
             "#7201a8"
            ],
            [
             0.3333333333333333,
             "#9c179e"
            ],
            [
             0.4444444444444444,
             "#bd3786"
            ],
            [
             0.5555555555555556,
             "#d8576b"
            ],
            [
             0.6666666666666666,
             "#ed7953"
            ],
            [
             0.7777777777777778,
             "#fb9f3a"
            ],
            [
             0.8888888888888888,
             "#fdca26"
            ],
            [
             1,
             "#f0f921"
            ]
           ],
           "sequentialminus": [
            [
             0,
             "#0d0887"
            ],
            [
             0.1111111111111111,
             "#46039f"
            ],
            [
             0.2222222222222222,
             "#7201a8"
            ],
            [
             0.3333333333333333,
             "#9c179e"
            ],
            [
             0.4444444444444444,
             "#bd3786"
            ],
            [
             0.5555555555555556,
             "#d8576b"
            ],
            [
             0.6666666666666666,
             "#ed7953"
            ],
            [
             0.7777777777777778,
             "#fb9f3a"
            ],
            [
             0.8888888888888888,
             "#fdca26"
            ],
            [
             1,
             "#f0f921"
            ]
           ]
          },
          "colorway": [
           "#636efa",
           "#EF553B",
           "#00cc96",
           "#ab63fa",
           "#FFA15A",
           "#19d3f3",
           "#FF6692",
           "#B6E880",
           "#FF97FF",
           "#FECB52"
          ],
          "font": {
           "color": "#2a3f5f"
          },
          "geo": {
           "bgcolor": "white",
           "lakecolor": "white",
           "landcolor": "#E5ECF6",
           "showlakes": true,
           "showland": true,
           "subunitcolor": "white"
          },
          "hoverlabel": {
           "align": "left"
          },
          "hovermode": "closest",
          "mapbox": {
           "style": "light"
          },
          "paper_bgcolor": "white",
          "plot_bgcolor": "#E5ECF6",
          "polar": {
           "angularaxis": {
            "gridcolor": "white",
            "linecolor": "white",
            "ticks": ""
           },
           "bgcolor": "#E5ECF6",
           "radialaxis": {
            "gridcolor": "white",
            "linecolor": "white",
            "ticks": ""
           }
          },
          "scene": {
           "xaxis": {
            "backgroundcolor": "#E5ECF6",
            "gridcolor": "white",
            "gridwidth": 2,
            "linecolor": "white",
            "showbackground": true,
            "ticks": "",
            "zerolinecolor": "white"
           },
           "yaxis": {
            "backgroundcolor": "#E5ECF6",
            "gridcolor": "white",
            "gridwidth": 2,
            "linecolor": "white",
            "showbackground": true,
            "ticks": "",
            "zerolinecolor": "white"
           },
           "zaxis": {
            "backgroundcolor": "#E5ECF6",
            "gridcolor": "white",
            "gridwidth": 2,
            "linecolor": "white",
            "showbackground": true,
            "ticks": "",
            "zerolinecolor": "white"
           }
          },
          "shapedefaults": {
           "line": {
            "color": "#2a3f5f"
           }
          },
          "ternary": {
           "aaxis": {
            "gridcolor": "white",
            "linecolor": "white",
            "ticks": ""
           },
           "baxis": {
            "gridcolor": "white",
            "linecolor": "white",
            "ticks": ""
           },
           "bgcolor": "#E5ECF6",
           "caxis": {
            "gridcolor": "white",
            "linecolor": "white",
            "ticks": ""
           }
          },
          "title": {
           "x": 0.05
          },
          "xaxis": {
           "automargin": true,
           "gridcolor": "white",
           "linecolor": "white",
           "ticks": "",
           "title": {
            "standoff": 15
           },
           "zerolinecolor": "white",
           "zerolinewidth": 2
          },
          "yaxis": {
           "automargin": true,
           "gridcolor": "white",
           "linecolor": "white",
           "ticks": "",
           "title": {
            "standoff": 15
           },
           "zerolinecolor": "white",
           "zerolinewidth": 2
          }
         }
        },
        "title": {
         "text": "Children per woman vs. GDP per capita, 2016"
        },
        "xaxis": {
         "anchor": "y",
         "domain": [
          0,
          1
         ],
         "range": [
          2.79226665773385,
          5.017238661934686
         ],
         "title": {
          "text": "GDP per capita ($)"
         },
         "type": "log"
        },
        "yaxis": {
         "anchor": "x",
         "domain": [
          0,
          1
         ],
         "range": [
          0.135,
          8.087000000000002
         ],
         "title": {
          "text": "Children per woman"
         }
        }
       }
      },
      "text/html": [
       "<div>                            <div id=\"70331b29-6bd9-4a8a-8a2c-d0e5eaed4af5\" class=\"plotly-graph-div\" style=\"height:525px; width:100%;\"></div>            <script type=\"text/javascript\">                require([\"plotly\"], function(Plotly) {                    window.PLOTLYENV=window.PLOTLYENV || {};                                    if (document.getElementById(\"70331b29-6bd9-4a8a-8a2c-d0e5eaed4af5\")) {                    Plotly.newPlot(                        \"70331b29-6bd9-4a8a-8a2c-d0e5eaed4af5\",                        [{\"customdata\":[[\"Albania\"],[\"Austria\"],[\"Belarus\"],[\"Belgium\"],[\"Bosnia and Herzegovina\"],[\"Bulgaria\"],[\"Croatia\"],[\"Cyprus\"],[\"Czechia\"],[\"Denmark\"],[\"Estonia\"],[\"Finland\"],[\"France\"],[\"Germany\"],[\"Greece\"],[\"Hungary\"],[\"Iceland\"],[\"Ireland\"],[\"Italy\"],[\"Latvia\"],[\"Lithuania\"],[\"Luxembourg\"],[\"Malta\"],[\"Moldova\"],[\"Montenegro\"],[\"Netherlands\"],[\"North Macedonia\"],[\"Norway\"],[\"Poland\"],[\"Portugal\"],[\"Romania\"],[\"Russia\"],[\"Serbia\"],[\"Slovakia\"],[\"Slovenia\"],[\"Spain\"],[\"Sweden\"],[\"Switzerland\"],[\"Ukraine\"],[\"United Kingdom\"]],\"hovertemplate\":\"Continent=Europe<br>GDP per capita ($)=%{x}<br>Children per woman=%{y}<br>Entity=%{customdata[0]}<extra></extra>\",\"legendgroup\":\"Europe\",\"marker\":{\"color\":\"#636efa\",\"symbol\":\"circle\"},\"mode\":\"markers\",\"name\":\"Europe\",\"orientation\":\"v\",\"showlegend\":true,\"x\":[11217.45,44791.379,16252.168,37170.441,11081.303999999998,17693.746,21970.178,28137.316000000003,29209.607000000004,43566.543,24504.605,38374.273,38208.797,45852.555,23041.721,21420.842,40422.207,71948.953,36918.219,22435.625,24574.676,72530.203,27904.061,5763.8433,16879.674,44591.039000000004,13367.096000000001,59646.379,25233.961,24574.215,21949.105,22083.897999999997,13991.986,24178.82,26406.225,34054.187999999995,41898.094,62668.328,8995.1533,38026.512],\"xaxis\":\"x\",\"y\":[1.659,1.505,1.704,1.732,1.286,1.5419999999999998,1.459,1.345,1.591,1.742,1.581,1.606,1.894,1.539,1.3119999999999998,1.4380000000000002,1.83,1.881,1.359,1.646,1.6569999999999998,1.476,1.43,1.259,1.73,1.681,1.506,1.716,1.3869999999999998,1.277,1.584,1.7990000000000002,1.454,1.465,1.6,1.3159999999999998,1.868,1.535,1.466,1.787],\"yaxis\":\"y\",\"type\":\"scatter\"},{\"customdata\":[[\"Algeria\"],[\"Angola\"],[\"Benin\"],[\"Botswana\"],[\"Burkina Faso\"],[\"Burundi\"],[\"Cameroon\"],[\"Cape Verde\"],[\"Central African Republic\"],[\"Chad\"],[\"Comoros\"],[\"Congo\"],[\"Cote d'Ivoire\"],[\"Democratic Republic of Congo\"],[\"Djibouti\"],[\"Egypt\"],[\"Equatorial Guinea\"],[\"Eswatini\"],[\"Ethiopia\"],[\"Gabon\"],[\"Gambia\"],[\"Ghana\"],[\"Guinea\"],[\"Guinea-Bissau\"],[\"Kenya\"],[\"Lesotho\"],[\"Liberia\"],[\"Madagascar\"],[\"Malawi\"],[\"Mali\"],[\"Mauritania\"],[\"Mauritius\"],[\"Morocco\"],[\"Mozambique\"],[\"Namibia\"],[\"Niger\"],[\"Nigeria\"],[\"Rwanda\"],[\"Sao Tome and Principe\"],[\"Senegal\"],[\"Seychelles\"],[\"Sierra Leone\"],[\"South Africa\"],[\"Sudan\"],[\"Tanzania\"],[\"Togo\"],[\"Tunisia\"],[\"Uganda\"],[\"Zambia\"],[\"Zimbabwe\"]],\"hovertemplate\":\"Continent=Africa<br>GDP per capita ($)=%{x}<br>Children per woman=%{y}<br>Entity=%{customdata[0]}<extra></extra>\",\"legendgroup\":\"Africa\",\"marker\":{\"color\":\"#EF553B\",\"symbol\":\"circle\"},\"mode\":\"markers\",\"name\":\"Africa\",\"orientation\":\"v\",\"showlegend\":true,\"x\":[12193.961000000001,5246.3335,2042.2521,14951.116000000002,1559.5422,803.3457599999999,3108.1067,6464.2524,719.8215299999999,1476.6967,2849.5518,3578.5364,3346.5608,774.13312,3848.7834,10877.037,15434.622,7282.8657,1614.9105,12357.726999999999,2530.0403,4798.6992,2116.9067,1599.0474,2999.3271,3263.8423,749.91693,1520.4072,1026.3862,2238.1941,2939.4001,21135.746,7995.4087,1423.2395,11000.812,903.87964,4426.3672,1937.4029999999998,3594.0679,3070.8328,24260.727000000003,1417.849,11720.435,4306.9048,2418.8311,1527.0379999999998,10838.534,1790.4403,3551.9954,1821.6588],\"xaxis\":\"x\",\"y\":[3.052,5.686,4.977,2.942,5.353,5.599,4.708,2.346,4.87,5.947,4.347,4.5360000000000005,4.759,6.112,2.846,3.41,4.686,3.0410000000000004,4.456,4.039,5.337999999999999,3.984,4.854,4.631,3.663,3.197,4.461,4.184,4.407,6.057,4.6789999999999985,1.406,2.489,4.992,3.4960000000000004,7.0870000000000015,5.526,4.123,4.426,4.77,2.447,4.457,2.457,4.532,5.015,4.449,2.238,5.242000000000001,4.814,3.804],\"yaxis\":\"y\",\"type\":\"scatter\"},{\"customdata\":[[\"Antigua and Barbuda\"],[\"Aruba\"],[\"Bahamas\"],[\"Barbados\"],[\"Belize\"],[\"Canada\"],[\"Costa Rica\"],[\"Curacao\"],[\"Dominican Republic\"],[\"El Salvador\"],[\"Grenada\"],[\"Guatemala\"],[\"Haiti\"],[\"Honduras\"],[\"Jamaica\"],[\"Mexico\"],[\"Nicaragua\"],[\"Panama\"],[\"Saint Lucia\"],[\"Saint Vincent and the Grenadines\"],[\"Trinidad and Tobago\"],[\"United States\"]],\"hovertemplate\":\"Continent=North America<br>GDP per capita ($)=%{x}<br>Children per woman=%{y}<br>Entity=%{customdata[0]}<extra></extra>\",\"legendgroup\":\"North America\",\"marker\":{\"color\":\"#00cc96\",\"symbol\":\"circle\"},\"mode\":\"markers\",\"name\":\"North America\",\"orientation\":\"v\",\"showlegend\":true,\"x\":[8340.2539,29586.152000000002,23078.142999999996,9424.458,6904.5332,42062.379,14454.995,22663.754,14307.479,6563.7739,11212.801000000001,7178.0396,1657.9170000000001,4134.3174,6795.1694,17171.139,5042.4902,20807.678,7555.6216,8062.8394,41578.27,53984.238],\"xaxis\":\"x\",\"y\":[2.003,1.872,1.771,1.6130000000000002,2.391,1.548,1.789,1.872,2.387,2.079,2.104,2.9730000000000003,3.0410000000000004,2.536,2.009,2.186,2.455,2.514,1.461,1.931,1.753,1.794],\"yaxis\":\"y\",\"type\":\"scatter\"},{\"customdata\":[[\"Argentina\"],[\"Bolivia\"],[\"Brazil\"],[\"Chile\"],[\"Colombia\"],[\"Ecuador\"],[\"Paraguay\"],[\"Peru\"],[\"Suriname\"],[\"Uruguay\"],[\"Venezuela\"]],\"hovertemplate\":\"Continent=South America<br>GDP per capita ($)=%{x}<br>Children per woman=%{y}<br>Entity=%{customdata[0]}<extra></extra>\",\"legendgroup\":\"South America\",\"marker\":{\"color\":\"#ab63fa\",\"symbol\":\"circle\"},\"mode\":\"markers\",\"name\":\"South America\",\"orientation\":\"v\",\"showlegend\":true,\"x\":[16085.712,5653.1333,13787.687,22724.904,12593.01,9718.9785,7930.3447,11183.41,12004.038999999999,19423.277,7358.5239],\"xaxis\":\"x\",\"y\":[2.2880000000000003,2.829,1.747,1.713,1.843,2.475,2.479,2.297,2.469,1.991,2.317],\"yaxis\":\"y\",\"type\":\"scatter\"},{\"customdata\":[[\"Armenia\"],[\"Azerbaijan\"],[\"Bahrain\"],[\"Bangladesh\"],[\"Bhutan\"],[\"Brunei\"],[\"Cambodia\"],[\"China\"],[\"Georgia\"],[\"Hong Kong\"],[\"India\"],[\"Indonesia\"],[\"Iran\"],[\"Iraq\"],[\"Israel\"],[\"Japan\"],[\"Jordan\"],[\"Kazakhstan\"],[\"Kuwait\"],[\"Kyrgyzstan\"],[\"Laos\"],[\"Lebanon\"],[\"Macao\"],[\"Malaysia\"],[\"Maldives\"],[\"Mongolia\"],[\"Myanmar\"],[\"Nepal\"],[\"Oman\"],[\"Pakistan\"],[\"Palestine\"],[\"Philippines\"],[\"Qatar\"],[\"Saudi Arabia\"],[\"Singapore\"],[\"South Korea\"],[\"Sri Lanka\"],[\"Syria\"],[\"Taiwan\"],[\"Tajikistan\"],[\"Thailand\"],[\"Turkey\"],[\"Turkmenistan\"],[\"United Arab Emirates\"],[\"Uzbekistan\"],[\"Vietnam\"],[\"Yemen\"]],\"hovertemplate\":\"Continent=Asia<br>GDP per capita ($)=%{x}<br>Children per woman=%{y}<br>Entity=%{customdata[0]}<extra></extra>\",\"legendgroup\":\"Asia\",\"marker\":{\"color\":\"#FFA15A\",\"symbol\":\"circle\"},\"mode\":\"markers\",\"name\":\"Asia\",\"orientation\":\"v\",\"showlegend\":true,\"x\":[9381.0264,14293.731000000002,37689.027,3218.9878,8239.8018,51455.105,3046.0073,12369.488000000001,12487.302,39576.734,6037.9868,10123.332,15574.608999999999,16266.956,35619.473,39587.566,9002.4961,20929.395,41474.051,10789.443000000001,6331.1826,15178.339,80056.703,21804.357000000004,13505.962,10781.462,5484.3887,2532.4661,29389.609,5037.855,4484.7881,7342.8218,94049.18,39464.801,64978.668,35326.344,12318.712,5438.1191,42227.582,3971.2961,14929.278,25548.146,20991.088,65487.973,9338.0146,5485.8125,2131.6548],\"xaxis\":\"x\",\"y\":[1.744,2.109,2.033,2.09,2.014,1.915,2.559,1.675,2.059,1.295,2.266,2.362,2.083,3.864,3.059,1.3869999999999998,2.954,2.752,2.082,3.142,2.7510000000000003,2.104,1.207,2.037,1.947,2.923,2.182,2.027,2.937,3.612,3.844,2.718,1.907,2.435,1.213,1.155,2.211,2.889,1.135,3.618,1.537,2.092,2.887,1.491,2.432,2.03,3.994],\"yaxis\":\"y\",\"type\":\"scatter\"},{\"customdata\":[[\"Australia\"],[\"Fiji\"],[\"New Zealand\"]],\"hovertemplate\":\"Continent=Oceania<br>GDP per capita ($)=%{x}<br>Children per woman=%{y}<br>Entity=%{customdata[0]}<extra></extra>\",\"legendgroup\":\"Oceania\",\"marker\":{\"color\":\"#19d3f3\",\"symbol\":\"circle\"},\"mode\":\"markers\",\"name\":\"Oceania\",\"orientation\":\"v\",\"showlegend\":true,\"x\":[46755.23,7551.4614,35936.344],\"xaxis\":\"x\",\"y\":[1.846,2.797,1.938],\"yaxis\":\"y\",\"type\":\"scatter\"},{\"hovertemplate\":\"<b>OLS trendline</b><br>Estimates, 1950 - 2020: Annually interpolated demographic indicators - Total fertility (live births per woman) = -2.08221 * log10(Output-side real GDP per capita (gdppc_o) (PWT 9.1 (2019))) + 11.0533<br>R<sup>2</sup>=0.625740<br><br>GDP per capita ($)=%{x}<br>Children per woman=%{y} <b>(trend)</b><extra></extra>\",\"legendgroup\":\"Overall Trendline\",\"line\":{\"color\":\"black\"},\"mode\":\"lines\",\"name\":\"Overall Trendline\",\"showlegend\":true,\"x\":[719.8215299999999,749.91693,774.13312,803.3457599999999,903.87964,1026.3862,1417.849,1423.2395,1476.6967,1520.4072,1527.0379999999998,1559.5422,1599.0474,1614.9105,1657.9170000000001,1790.4403,1821.6588,1937.4029999999998,2042.2521,2116.9067,2131.6548,2238.1941,2418.8311,2530.0403,2532.4661,2849.5518,2939.4001,2999.3271,3046.0073,3070.8328,3108.1067,3218.9878,3263.8423,3346.5608,3551.9954,3578.5364,3594.0679,3848.7834,3971.2961,4134.3174,4306.9048,4426.3672,4484.7881,4798.6992,5037.855,5042.4902,5246.3335,5438.1191,5484.3887,5485.8125,5653.1333,5763.8433,6037.9868,6331.1826,6464.2524,6563.7739,6795.1694,6904.5332,7178.0396,7282.8657,7342.8218,7358.5239,7551.4614,7555.6216,7930.3447,7995.4087,8062.8394,8239.8018,8340.2539,8995.1533,9002.4961,9338.0146,9381.0264,9424.458,9718.9785,10123.332,10781.462,10789.443000000001,10838.534,10877.037,11000.812,11081.303999999998,11183.41,11212.801000000001,11217.45,11720.435,12004.038999999999,12193.961000000001,12318.712,12357.726999999999,12369.488000000001,12487.302,12593.01,13367.096000000001,13505.962,13787.687,13991.986,14293.731000000002,14307.479,14454.995,14929.278,14951.116000000002,15178.339,15434.622,15574.608999999999,16085.712,16252.168,16266.956,16879.674,17171.139,17693.746,19423.277,20807.678,20929.395,20991.088,21135.746,21420.842,21804.357000000004,21949.105,21970.178,22083.897999999997,22435.625,22663.754,22724.904,23041.721,23078.142999999996,24178.82,24260.727000000003,24504.605,24574.215,24574.676,25233.961,25548.146,26406.225,27904.061,28137.316000000003,29209.607000000004,29389.609,29586.152000000002,34054.187999999995,35326.344,35619.473,35936.344,36918.219,37170.441,37689.027,38026.512,38208.797,38374.273,39464.801,39576.734,39587.566,40422.207,41474.051,41578.27,41898.094,42062.379,42227.582,43566.543,44591.039000000004,44791.379,45852.555,46755.23,51455.105,53984.238,59646.379,62668.328,64978.668,65487.973,71948.953,72530.203,80056.703,94049.18],\"y\":[5.103936145726323,5.066897062874656,5.0381573389488175,5.0046610758619945,4.8980349101189145,4.7830963375567945,4.4909219281171415,4.4874904260700905,4.454147292145499,4.427768541478783,4.423833311097851,4.404786712749322,4.382165120816794,4.373238422493645,4.349471363956344,4.279931573028677,4.264300001507697,4.208594700133032,4.160934129252222,4.1284675023159325,4.122189299203662,4.078086216803222,4.007899404269543,3.96725066133048,3.966384040960966,3.8597061999676647,3.8316334955835654,3.813382634669151,3.799417006855518,3.7920767253800136,3.7811664524771444,3.7494680683749246,3.7369543100486107,3.714321585935979,3.660447084341251,3.6537151973067843,3.649798890922704,3.587879721907904,3.5595433052056764,3.523163825708612,3.4861806897729988,3.4614394879630828,3.449582349104759,3.3884036015924837,3.3444228165695744,3.343591181956193,3.3077545652585494,3.275286992548395,3.2676254638554747,3.267390731016601,3.2402214614834888,3.222683108532684,3.180664063434434,3.1377857179715214,3.1189761179718056,3.1051599950824444,3.073829612739668,3.0593914766394867,3.024261362944781,3.01115081006672,3.0037367009877176,3.0018049983761905,2.978400295783935,2.9779022456532633,2.934130245292854,2.9267412967533932,2.919146756116602,2.899514078265108,2.888556418737986,2.820198830372039,2.8194609509668798,2.7863712414517288,2.782215540961557,2.7780385692946616,2.750211379580886,2.7133502579013484,2.6563930369024824,2.655723879298444,2.6516187562562514,2.648412020133218,2.638179740478753,2.6315871908466146,2.623292950043478,2.620919503172116,2.6205446468222675,2.5808793471848777,2.5592583410158696,2.54506305414265,2.5358586311976357,2.5329991388523982,2.5321389208427902,2.523566676073619,2.515943833586979,2.461998861966414,2.452652939901201,2.4339840427605335,2.420682978414982,2.4013886876649515,2.4005193377755916,2.391243435820563,2.362049020650561,2.3607272196622873,2.347087397742527,2.3319460665117226,2.323781387537304,2.2945822314055917,2.285272627623401,2.2844501765215117,2.2510144946350366,2.2355331390721194,2.208421300614571,2.1240860218345503,2.061825533133545,2.056551171120592,2.053889530730636,2.0476790560580493,2.035562748933751,2.0195156620958805,2.013532356473524,2.0126645745244574,2.0079959260823,1.9937068649411156,1.984558297539822,1.982121671759188,1.9696016241474172,1.9681733376998451,1.926041336509165,1.9229831722157655,1.9139382567307806,1.9113730801545117,1.9113561162173287,1.8874156085695795,1.8762258755393102,1.8463525116796529,1.796460412824299,1.788932681241322,1.7551112007117915,1.7495556598797677,1.7435283282418919,1.6163425019838655,1.5831766715605937,1.5757040340360717,1.5676950054904246,1.543318850967717,1.5371618055688572,1.5246326889344513,1.5165712645339617,1.5122467730289237,1.5083388826640434,1.4829988581850273,1.4804376639160512,1.4801901960968546,1.4613228036193213,1.438092728702017,1.4358232045499157,1.428893908694123,1.4253550514577071,1.4218103302318568,1.3935820061357411,1.3725631246099361,1.3685093859145496,1.347335139230788,1.329705755724122,1.243089296514789,1.1996990874691686,1.1095036433006324,1.064810974131742,1.032072971306384,1.025012720684515,0.939927397630413,0.9326512824384192,0.8433684736505231,0.6977024498109579],\"type\":\"scatter\",\"xaxis\":\"x\",\"yaxis\":\"y\"}],                        {\"template\":{\"data\":{\"bar\":[{\"error_x\":{\"color\":\"#2a3f5f\"},\"error_y\":{\"color\":\"#2a3f5f\"},\"marker\":{\"line\":{\"color\":\"#E5ECF6\",\"width\":0.5},\"pattern\":{\"fillmode\":\"overlay\",\"size\":10,\"solidity\":0.2}},\"type\":\"bar\"}],\"barpolar\":[{\"marker\":{\"line\":{\"color\":\"#E5ECF6\",\"width\":0.5},\"pattern\":{\"fillmode\":\"overlay\",\"size\":10,\"solidity\":0.2}},\"type\":\"barpolar\"}],\"carpet\":[{\"aaxis\":{\"endlinecolor\":\"#2a3f5f\",\"gridcolor\":\"white\",\"linecolor\":\"white\",\"minorgridcolor\":\"white\",\"startlinecolor\":\"#2a3f5f\"},\"baxis\":{\"endlinecolor\":\"#2a3f5f\",\"gridcolor\":\"white\",\"linecolor\":\"white\",\"minorgridcolor\":\"white\",\"startlinecolor\":\"#2a3f5f\"},\"type\":\"carpet\"}],\"choropleth\":[{\"colorbar\":{\"outlinewidth\":0,\"ticks\":\"\"},\"type\":\"choropleth\"}],\"contour\":[{\"colorbar\":{\"outlinewidth\":0,\"ticks\":\"\"},\"colorscale\":[[0.0,\"#0d0887\"],[0.1111111111111111,\"#46039f\"],[0.2222222222222222,\"#7201a8\"],[0.3333333333333333,\"#9c179e\"],[0.4444444444444444,\"#bd3786\"],[0.5555555555555556,\"#d8576b\"],[0.6666666666666666,\"#ed7953\"],[0.7777777777777778,\"#fb9f3a\"],[0.8888888888888888,\"#fdca26\"],[1.0,\"#f0f921\"]],\"type\":\"contour\"}],\"contourcarpet\":[{\"colorbar\":{\"outlinewidth\":0,\"ticks\":\"\"},\"type\":\"contourcarpet\"}],\"heatmap\":[{\"colorbar\":{\"outlinewidth\":0,\"ticks\":\"\"},\"colorscale\":[[0.0,\"#0d0887\"],[0.1111111111111111,\"#46039f\"],[0.2222222222222222,\"#7201a8\"],[0.3333333333333333,\"#9c179e\"],[0.4444444444444444,\"#bd3786\"],[0.5555555555555556,\"#d8576b\"],[0.6666666666666666,\"#ed7953\"],[0.7777777777777778,\"#fb9f3a\"],[0.8888888888888888,\"#fdca26\"],[1.0,\"#f0f921\"]],\"type\":\"heatmap\"}],\"heatmapgl\":[{\"colorbar\":{\"outlinewidth\":0,\"ticks\":\"\"},\"colorscale\":[[0.0,\"#0d0887\"],[0.1111111111111111,\"#46039f\"],[0.2222222222222222,\"#7201a8\"],[0.3333333333333333,\"#9c179e\"],[0.4444444444444444,\"#bd3786\"],[0.5555555555555556,\"#d8576b\"],[0.6666666666666666,\"#ed7953\"],[0.7777777777777778,\"#fb9f3a\"],[0.8888888888888888,\"#fdca26\"],[1.0,\"#f0f921\"]],\"type\":\"heatmapgl\"}],\"histogram\":[{\"marker\":{\"pattern\":{\"fillmode\":\"overlay\",\"size\":10,\"solidity\":0.2}},\"type\":\"histogram\"}],\"histogram2d\":[{\"colorbar\":{\"outlinewidth\":0,\"ticks\":\"\"},\"colorscale\":[[0.0,\"#0d0887\"],[0.1111111111111111,\"#46039f\"],[0.2222222222222222,\"#7201a8\"],[0.3333333333333333,\"#9c179e\"],[0.4444444444444444,\"#bd3786\"],[0.5555555555555556,\"#d8576b\"],[0.6666666666666666,\"#ed7953\"],[0.7777777777777778,\"#fb9f3a\"],[0.8888888888888888,\"#fdca26\"],[1.0,\"#f0f921\"]],\"type\":\"histogram2d\"}],\"histogram2dcontour\":[{\"colorbar\":{\"outlinewidth\":0,\"ticks\":\"\"},\"colorscale\":[[0.0,\"#0d0887\"],[0.1111111111111111,\"#46039f\"],[0.2222222222222222,\"#7201a8\"],[0.3333333333333333,\"#9c179e\"],[0.4444444444444444,\"#bd3786\"],[0.5555555555555556,\"#d8576b\"],[0.6666666666666666,\"#ed7953\"],[0.7777777777777778,\"#fb9f3a\"],[0.8888888888888888,\"#fdca26\"],[1.0,\"#f0f921\"]],\"type\":\"histogram2dcontour\"}],\"mesh3d\":[{\"colorbar\":{\"outlinewidth\":0,\"ticks\":\"\"},\"type\":\"mesh3d\"}],\"parcoords\":[{\"line\":{\"colorbar\":{\"outlinewidth\":0,\"ticks\":\"\"}},\"type\":\"parcoords\"}],\"pie\":[{\"automargin\":true,\"type\":\"pie\"}],\"scatter\":[{\"marker\":{\"colorbar\":{\"outlinewidth\":0,\"ticks\":\"\"}},\"type\":\"scatter\"}],\"scatter3d\":[{\"line\":{\"colorbar\":{\"outlinewidth\":0,\"ticks\":\"\"}},\"marker\":{\"colorbar\":{\"outlinewidth\":0,\"ticks\":\"\"}},\"type\":\"scatter3d\"}],\"scattercarpet\":[{\"marker\":{\"colorbar\":{\"outlinewidth\":0,\"ticks\":\"\"}},\"type\":\"scattercarpet\"}],\"scattergeo\":[{\"marker\":{\"colorbar\":{\"outlinewidth\":0,\"ticks\":\"\"}},\"type\":\"scattergeo\"}],\"scattergl\":[{\"marker\":{\"colorbar\":{\"outlinewidth\":0,\"ticks\":\"\"}},\"type\":\"scattergl\"}],\"scattermapbox\":[{\"marker\":{\"colorbar\":{\"outlinewidth\":0,\"ticks\":\"\"}},\"type\":\"scattermapbox\"}],\"scatterpolar\":[{\"marker\":{\"colorbar\":{\"outlinewidth\":0,\"ticks\":\"\"}},\"type\":\"scatterpolar\"}],\"scatterpolargl\":[{\"marker\":{\"colorbar\":{\"outlinewidth\":0,\"ticks\":\"\"}},\"type\":\"scatterpolargl\"}],\"scatterternary\":[{\"marker\":{\"colorbar\":{\"outlinewidth\":0,\"ticks\":\"\"}},\"type\":\"scatterternary\"}],\"surface\":[{\"colorbar\":{\"outlinewidth\":0,\"ticks\":\"\"},\"colorscale\":[[0.0,\"#0d0887\"],[0.1111111111111111,\"#46039f\"],[0.2222222222222222,\"#7201a8\"],[0.3333333333333333,\"#9c179e\"],[0.4444444444444444,\"#bd3786\"],[0.5555555555555556,\"#d8576b\"],[0.6666666666666666,\"#ed7953\"],[0.7777777777777778,\"#fb9f3a\"],[0.8888888888888888,\"#fdca26\"],[1.0,\"#f0f921\"]],\"type\":\"surface\"}],\"table\":[{\"cells\":{\"fill\":{\"color\":\"#EBF0F8\"},\"line\":{\"color\":\"white\"}},\"header\":{\"fill\":{\"color\":\"#C8D4E3\"},\"line\":{\"color\":\"white\"}},\"type\":\"table\"}]},\"layout\":{\"annotationdefaults\":{\"arrowcolor\":\"#2a3f5f\",\"arrowhead\":0,\"arrowwidth\":1},\"autotypenumbers\":\"strict\",\"coloraxis\":{\"colorbar\":{\"outlinewidth\":0,\"ticks\":\"\"}},\"colorscale\":{\"diverging\":[[0,\"#8e0152\"],[0.1,\"#c51b7d\"],[0.2,\"#de77ae\"],[0.3,\"#f1b6da\"],[0.4,\"#fde0ef\"],[0.5,\"#f7f7f7\"],[0.6,\"#e6f5d0\"],[0.7,\"#b8e186\"],[0.8,\"#7fbc41\"],[0.9,\"#4d9221\"],[1,\"#276419\"]],\"sequential\":[[0.0,\"#0d0887\"],[0.1111111111111111,\"#46039f\"],[0.2222222222222222,\"#7201a8\"],[0.3333333333333333,\"#9c179e\"],[0.4444444444444444,\"#bd3786\"],[0.5555555555555556,\"#d8576b\"],[0.6666666666666666,\"#ed7953\"],[0.7777777777777778,\"#fb9f3a\"],[0.8888888888888888,\"#fdca26\"],[1.0,\"#f0f921\"]],\"sequentialminus\":[[0.0,\"#0d0887\"],[0.1111111111111111,\"#46039f\"],[0.2222222222222222,\"#7201a8\"],[0.3333333333333333,\"#9c179e\"],[0.4444444444444444,\"#bd3786\"],[0.5555555555555556,\"#d8576b\"],[0.6666666666666666,\"#ed7953\"],[0.7777777777777778,\"#fb9f3a\"],[0.8888888888888888,\"#fdca26\"],[1.0,\"#f0f921\"]]},\"colorway\":[\"#636efa\",\"#EF553B\",\"#00cc96\",\"#ab63fa\",\"#FFA15A\",\"#19d3f3\",\"#FF6692\",\"#B6E880\",\"#FF97FF\",\"#FECB52\"],\"font\":{\"color\":\"#2a3f5f\"},\"geo\":{\"bgcolor\":\"white\",\"lakecolor\":\"white\",\"landcolor\":\"#E5ECF6\",\"showlakes\":true,\"showland\":true,\"subunitcolor\":\"white\"},\"hoverlabel\":{\"align\":\"left\"},\"hovermode\":\"closest\",\"mapbox\":{\"style\":\"light\"},\"paper_bgcolor\":\"white\",\"plot_bgcolor\":\"#E5ECF6\",\"polar\":{\"angularaxis\":{\"gridcolor\":\"white\",\"linecolor\":\"white\",\"ticks\":\"\"},\"bgcolor\":\"#E5ECF6\",\"radialaxis\":{\"gridcolor\":\"white\",\"linecolor\":\"white\",\"ticks\":\"\"}},\"scene\":{\"xaxis\":{\"backgroundcolor\":\"#E5ECF6\",\"gridcolor\":\"white\",\"gridwidth\":2,\"linecolor\":\"white\",\"showbackground\":true,\"ticks\":\"\",\"zerolinecolor\":\"white\"},\"yaxis\":{\"backgroundcolor\":\"#E5ECF6\",\"gridcolor\":\"white\",\"gridwidth\":2,\"linecolor\":\"white\",\"showbackground\":true,\"ticks\":\"\",\"zerolinecolor\":\"white\"},\"zaxis\":{\"backgroundcolor\":\"#E5ECF6\",\"gridcolor\":\"white\",\"gridwidth\":2,\"linecolor\":\"white\",\"showbackground\":true,\"ticks\":\"\",\"zerolinecolor\":\"white\"}},\"shapedefaults\":{\"line\":{\"color\":\"#2a3f5f\"}},\"ternary\":{\"aaxis\":{\"gridcolor\":\"white\",\"linecolor\":\"white\",\"ticks\":\"\"},\"baxis\":{\"gridcolor\":\"white\",\"linecolor\":\"white\",\"ticks\":\"\"},\"bgcolor\":\"#E5ECF6\",\"caxis\":{\"gridcolor\":\"white\",\"linecolor\":\"white\",\"ticks\":\"\"}},\"title\":{\"x\":0.05},\"xaxis\":{\"automargin\":true,\"gridcolor\":\"white\",\"linecolor\":\"white\",\"ticks\":\"\",\"title\":{\"standoff\":15},\"zerolinecolor\":\"white\",\"zerolinewidth\":2},\"yaxis\":{\"automargin\":true,\"gridcolor\":\"white\",\"linecolor\":\"white\",\"ticks\":\"\",\"title\":{\"standoff\":15},\"zerolinecolor\":\"white\",\"zerolinewidth\":2}}},\"xaxis\":{\"anchor\":\"y\",\"domain\":[0.0,1.0],\"title\":{\"text\":\"GDP per capita ($)\"},\"type\":\"log\",\"range\":[2.79226665773385,5.017238661934686]},\"yaxis\":{\"anchor\":\"x\",\"domain\":[0.0,1.0],\"title\":{\"text\":\"Children per woman\"},\"range\":[0.135,8.087000000000002]},\"legend\":{\"title\":{\"text\":\"Continent\"},\"tracegroupgap\":0},\"title\":{\"text\":\"Children per woman vs. GDP per capita, 2016\"}},                        {\"responsive\": true}                    ).then(function(){\n",
       "                            \n",
       "var gd = document.getElementById('70331b29-6bd9-4a8a-8a2c-d0e5eaed4af5');\n",
       "var x = new MutationObserver(function (mutations, observer) {{\n",
       "        var display = window.getComputedStyle(gd).display;\n",
       "        if (!display || display === 'none') {{\n",
       "            console.log([gd, 'removed!']);\n",
       "            Plotly.purge(gd);\n",
       "            observer.disconnect();\n",
       "        }}\n",
       "}});\n",
       "\n",
       "// Listen for the removal of the full notebook cells\n",
       "var notebookContainer = gd.closest('#notebook-container');\n",
       "if (notebookContainer) {{\n",
       "    x.observe(notebookContainer, {childList: true});\n",
       "}}\n",
       "\n",
       "// Listen for the clearing of the current output cell\n",
       "var outputEl = gd.closest('.output');\n",
       "if (outputEl) {{\n",
       "    x.observe(outputEl, {childList: true});\n",
       "}}\n",
       "\n",
       "                        })                };                });            </script>        </div>"
      ]
     },
     "metadata": {},
     "output_type": "display_data"
    }
   ],
   "source": [
    "plotFigure(readCSV('children-per-woman-by-gdp-per-capita.csv',\n",
    "          'Output-side real GDP per capita (gdppc_o) (PWT 9.1 (2019))',\n",
    "          'Estimates, 1950 - 2020: Annually interpolated demographic indicators - Total fertility (live births per woman)',\n",
    "          'Children per woman vs. GDP per capita'), 'GDP per capita ($)', \n",
    "           'Children per woman', 'Children per woman vs. GDP per capita')"
   ]
  },
  {
   "cell_type": "markdown",
   "metadata": {},
   "source": [
    "###### Questions\n",
    "---"
   ]
  },
  {
   "cell_type": "markdown",
   "metadata": {},
   "source": [
    "##### 3. Share of adults who smoke and GDP"
   ]
  },
  {
   "cell_type": "code",
   "execution_count": 51,
   "metadata": {},
   "outputs": [
    {
     "name": "stdout",
     "output_type": "stream",
     "text": [
      "Year of interest for the data \"Share of adults who are smoking vs. GDP per capita\": \n",
      "2016\n",
      "---------------------------------------------------------------------------------------------------------------------\n"
     ]
    },
    {
     "data": {
      "application/vnd.plotly.v1+json": {
       "config": {
        "plotlyServerURL": "https://plot.ly"
       },
       "data": [
        {
         "customdata": [
          [
           "Albania"
          ],
          [
           "Austria"
          ],
          [
           "Belarus"
          ],
          [
           "Belgium"
          ],
          [
           "Bosnia and Herzegovina"
          ],
          [
           "Bulgaria"
          ],
          [
           "Croatia"
          ],
          [
           "Cyprus"
          ],
          [
           "Czechia"
          ],
          [
           "Denmark"
          ],
          [
           "Estonia"
          ],
          [
           "Finland"
          ],
          [
           "France"
          ],
          [
           "Germany"
          ],
          [
           "Greece"
          ],
          [
           "Hungary"
          ],
          [
           "Iceland"
          ],
          [
           "Ireland"
          ],
          [
           "Italy"
          ],
          [
           "Latvia"
          ],
          [
           "Lithuania"
          ],
          [
           "Luxembourg"
          ],
          [
           "Malta"
          ],
          [
           "Moldova"
          ],
          [
           "Netherlands"
          ],
          [
           "Norway"
          ],
          [
           "Poland"
          ],
          [
           "Portugal"
          ],
          [
           "Romania"
          ],
          [
           "Russia"
          ],
          [
           "Serbia"
          ],
          [
           "Slovakia"
          ],
          [
           "Slovenia"
          ],
          [
           "Spain"
          ],
          [
           "Sweden"
          ],
          [
           "Switzerland"
          ],
          [
           "Ukraine"
          ],
          [
           "United Kingdom"
          ]
         ],
         "hovertemplate": "Continent=Europe<br>GDP per capita ($)=%{x}<br>Adults who smoke (% of adults)=%{y}<br>Entity=%{customdata[0]}<extra></extra>",
         "legendgroup": "Europe",
         "marker": {
          "color": "#636efa",
          "symbol": "circle"
         },
         "mode": "markers",
         "name": "Europe",
         "orientation": "v",
         "showlegend": true,
         "type": "scatter",
         "x": [
          12291.8733773928,
          53269.3062047537,
          17822.606594541798,
          49828.9629137518,
          13194.3254000959,
          20513.10095142,
          25599.8436234435,
          36523.7332079973,
          37014.9592935816,
          54185.0084787703,
          32130.3008763844,
          46206.78781304941,
          43705.1475593257,
          51803.2354226767,
          28226.907278441402,
          28170.8213622975,
          54665.7639158138,
          72864.4891443774,
          40837.7376281437,
          27503.1773004104,
          31925.8034212317,
          113035.834714458,
          40536.7181783198,
          10942.5508739575,
          53847.8265545448,
          63104.100394726906,
          28682.6939326326,
          31847.5377347647,
          25145.0133479761,
          25490.708257464103,
          16182.8216850199,
          29250.1180428621,
          34858.5119502257,
          38477.5791805612,
          51334.4320301641,
          68663.2438230835,
          11534.638001777701,
          45268.7304537314
         ],
         "xaxis": "x",
         "y": [
          29.7,
          30.7,
          27.5,
          25.5,
          39.1,
          40.1,
          36.3,
          37.1,
          31.9,
          20,
          31.5,
          20.4,
          34.6,
          28.6,
          40.2,
          31.4,
          15,
          24.6,
          23.6,
          37.1,
          28,
          22.5,
          25.9,
          25.1,
          24.3,
          14.1,
          27.4,
          27.5,
          26.8,
          28.7,
          41.2,
          32.1,
          23,
          28.8,
          30.8,
          25.4,
          26.6,
          20.6
         ],
         "yaxis": "y"
        },
        {
         "customdata": [
          [
           "Algeria"
          ],
          [
           "Benin"
          ],
          [
           "Botswana"
          ],
          [
           "Burkina Faso"
          ],
          [
           "Burundi"
          ],
          [
           "Cameroon"
          ],
          [
           "Chad"
          ],
          [
           "Comoros"
          ],
          [
           "Congo"
          ],
          [
           "Cote d'Ivoire"
          ],
          [
           "Egypt"
          ],
          [
           "Eswatini"
          ],
          [
           "Ethiopia"
          ],
          [
           "Gambia"
          ],
          [
           "Ghana"
          ],
          [
           "Kenya"
          ],
          [
           "Lesotho"
          ],
          [
           "Liberia"
          ],
          [
           "Madagascar"
          ],
          [
           "Malawi"
          ],
          [
           "Mali"
          ],
          [
           "Mauritius"
          ],
          [
           "Morocco"
          ],
          [
           "Mozambique"
          ],
          [
           "Namibia"
          ],
          [
           "Niger"
          ],
          [
           "Nigeria"
          ],
          [
           "Rwanda"
          ],
          [
           "Sao Tome and Principe"
          ],
          [
           "Senegal"
          ],
          [
           "Seychelles"
          ],
          [
           "Sierra Leone"
          ],
          [
           "South Africa"
          ],
          [
           "Tanzania"
          ],
          [
           "Togo"
          ],
          [
           "Tunisia"
          ],
          [
           "Uganda"
          ],
          [
           "Zambia"
          ],
          [
           "Zimbabwe"
          ]
         ],
         "hovertemplate": "Continent=Africa<br>GDP per capita ($)=%{x}<br>Adults who smoke (% of adults)=%{y}<br>Entity=%{customdata[0]}<extra></extra>",
         "legendgroup": "Africa",
         "marker": {
          "color": "#EF553B",
          "symbol": "circle"
         },
         "mode": "markers",
         "name": "Africa",
         "orientation": "v",
         "showlegend": true,
         "type": "scatter",
         "x": [
          11826.1664161029,
          2961.4404159762,
          17117.272788253,
          1981.429813531,
          794.60427137057,
          3524.4430414256603,
          1687.05356916322,
          2987.97027465784,
          4551.37045105585,
          4615.70925676518,
          10795.8087418385,
          8321.03191383719,
          1894.89736397042,
          2036.87715930988,
          4712.51435451414,
          3952.75813183016,
          2776.74098382062,
          1516.35571427608,
          1565.8675531016502,
          1428.4239172607402,
          2198.5603811900896,
          20646.9330000973,
          7106.24124906058,
          1273.78363325041,
          10471.2792874759,
          1151.65787379293,
          5284.8932279969395,
          1950.52626543078,
          3878.8298699884003,
          3067.66557684345,
          26309.6859033258,
          1610.55096934817,
          12702.9170758026,
          2441.63694514804,
          1976.80779349156,
          10524.9135954983,
          2075.01166590088,
          3467.8874478279304,
          3173.6108286295503
         ],
         "xaxis": "x",
         "y": [
          19.1,
          7.8,
          24.3,
          16.9,
          13.2,
          9.4,
          12.1,
          20.9,
          15.4,
          13.4,
          21.3,
          10.8,
          4.8,
          15,
          3.9,
          12.4,
          28.7,
          8.8,
          30,
          13.8,
          12.1,
          27.6,
          15.5,
          15.4,
          18.3,
          8.4,
          5,
          13.9,
          5.5,
          9.5,
          21.5,
          21.1,
          32,
          14.1,
          7.9,
          27.1,
          10.9,
          15.2,
          14.3
         ],
         "yaxis": "y"
        },
        {
         "customdata": [
          [
           "Argentina"
          ],
          [
           "Brazil"
          ],
          [
           "Chile"
          ],
          [
           "Colombia"
          ],
          [
           "Guyana"
          ],
          [
           "Paraguay"
          ],
          [
           "Peru"
          ],
          [
           "Uruguay"
          ]
         ],
         "hovertemplate": "Continent=South America<br>GDP per capita ($)=%{x}<br>Adults who smoke (% of adults)=%{y}<br>Entity=%{customdata[0]}<extra></extra>",
         "legendgroup": "South America",
         "marker": {
          "color": "#00cc96",
          "symbol": "circle"
         },
         "mode": "markers",
         "name": "South America",
         "orientation": "v",
         "showlegend": true,
         "type": "scatter",
         "x": [
          23189.5274451329,
          14451.1528421912,
          24531.3577390249,
          14194.515663803,
          11631.043195273602,
          12170.7843887945,
          12403.687141686201,
          22724.0221342831
         ],
         "xaxis": "x",
         "y": [
          23.6,
          17.8,
          45.5,
          8.6,
          13.2,
          14,
          11,
          23.2
         ],
         "yaxis": "y"
        },
        {
         "customdata": [
          [
           "Armenia"
          ],
          [
           "Azerbaijan"
          ],
          [
           "Bahrain"
          ],
          [
           "Bangladesh"
          ],
          [
           "Brunei"
          ],
          [
           "Cambodia"
          ],
          [
           "China"
          ],
          [
           "Georgia"
          ],
          [
           "India"
          ],
          [
           "Indonesia"
          ],
          [
           "Iran"
          ],
          [
           "Iraq"
          ],
          [
           "Israel"
          ],
          [
           "Japan"
          ],
          [
           "Kazakhstan"
          ],
          [
           "Kuwait"
          ],
          [
           "Kyrgyzstan"
          ],
          [
           "Laos"
          ],
          [
           "Lebanon"
          ],
          [
           "Malaysia"
          ],
          [
           "Mongolia"
          ],
          [
           "Myanmar"
          ],
          [
           "Nepal"
          ],
          [
           "Oman"
          ],
          [
           "Pakistan"
          ],
          [
           "Philippines"
          ],
          [
           "Qatar"
          ],
          [
           "Saudi Arabia"
          ],
          [
           "Singapore"
          ],
          [
           "South Korea"
          ],
          [
           "Sri Lanka"
          ],
          [
           "Thailand"
          ],
          [
           "Timor"
          ],
          [
           "Turkey"
          ],
          [
           "United Arab Emirates"
          ],
          [
           "Uzbekistan"
          ]
         ],
         "hovertemplate": "Continent=Asia<br>GDP per capita ($)=%{x}<br>Adults who smoke (% of adults)=%{y}<br>Entity=%{customdata[0]}<extra></extra>",
         "legendgroup": "Asia",
         "marker": {
          "color": "#ab63fa",
          "symbol": "circle"
         },
         "mode": "markers",
         "name": "Asia",
         "orientation": "v",
         "showlegend": true,
         "type": "scatter",
         "x": [
          11303.0678498177,
          14238.784136618799,
          47937.7090620549,
          3920.1445072358297,
          60867.291865741696,
          3733.5246262096503,
          13487.8224816787,
          12963.7439586374,
          5851.3948804932,
          10531.1109693569,
          14205.2116338951,
          11191.1150421081,
          38234.7244825066,
          40031.270764058,
          24210.8629616382,
          54708.9797919819,
          4912.3824843088505,
          6896.12737379045,
          16100.9227973306,
          25541.770511224302,
          10940.4186480461,
          4482.92679957997,
          3315.8144141419,
          30184.870158771402,
          4421.581929297229,
          7705.053769713109,
          95601.8073141158,
          48625.8438167915,
          91307.5036202199,
          39814.658927928904,
          12287.4730695098,
          16782.0986705337,
          3344.5708835156797,
          26385.001938334302,
          66510.9029855157,
          6346.33477752569
         ],
         "xaxis": "x",
         "y": [
          27.5,
          20.3,
          25.3,
          40.1,
          15.7,
          23.6,
          25.1,
          30.1,
          28.8,
          38.1,
          14.6,
          22.6,
          26,
          22.8,
          25.3,
          22.4,
          28.2,
          39.9,
          42.6,
          22.5,
          28.4,
          46.8,
          34.3,
          9.6,
          21.6,
          25.1,
          14.1,
          16.6,
          16.6,
          23.3,
          23.3,
          23.6,
          39.9,
          29.8,
          18.5,
          12.6
         ],
         "yaxis": "y"
        },
        {
         "customdata": [
          [
           "Australia"
          ],
          [
           "Fiji"
          ],
          [
           "Kiribati"
          ],
          [
           "Nauru"
          ],
          [
           "New Zealand"
          ],
          [
           "Palau"
          ],
          [
           "Samoa"
          ],
          [
           "Solomon Islands"
          ],
          [
           "Tonga"
          ],
          [
           "Tuvalu"
          ],
          [
           "Vanuatu"
          ]
         ],
         "hovertemplate": "Continent=Oceania<br>GDP per capita ($)=%{x}<br>Adults who smoke (% of adults)=%{y}<br>Entity=%{customdata[0]}<extra></extra>",
         "legendgroup": "Oceania",
         "marker": {
          "color": "#FFA15A",
          "symbol": "circle"
         },
         "mode": "markers",
         "name": "Oceania",
         "orientation": "v",
         "showlegend": true,
         "type": "scatter",
         "x": [
          48197.43118917401,
          12820.724604795601,
          2247.91977861726,
          13901.9536121477,
          41672.1012399483,
          18268.031657460302,
          6440.79742169426,
          2596.54593765104,
          6312.32630161575,
          3787.8166421954297,
          2973.46761331833
         ],
         "xaxis": "x",
         "y": [
          17.1,
          27.1,
          53.5,
          53.9,
          16,
          24.7,
          29.9,
          38.1,
          30.4,
          50,
          24.8
         ],
         "yaxis": "y"
        },
        {
         "customdata": [
          [
           "Bahamas"
          ],
          [
           "Barbados"
          ],
          [
           "Canada"
          ],
          [
           "Costa Rica"
          ],
          [
           "Dominican Republic"
          ],
          [
           "El Salvador"
          ],
          [
           "Haiti"
          ],
          [
           "Jamaica"
          ],
          [
           "Mexico"
          ],
          [
           "Panama"
          ],
          [
           "United States"
          ]
         ],
         "hovertemplate": "Continent=North America<br>GDP per capita ($)=%{x}<br>Adults who smoke (% of adults)=%{y}<br>Entity=%{customdata[0]}<extra></extra>",
         "legendgroup": "North America",
         "marker": {
          "color": "#19d3f3",
          "symbol": "circle"
         },
         "mode": "markers",
         "name": "North America",
         "orientation": "v",
         "showlegend": true,
         "type": "scatter",
         "x": [
          35558.0724972871,
          15738.0786618241,
          47457.5853457244,
          19736.6653042295,
          16166.6115259959,
          8309.44179938698,
          2952.6170942867498,
          9553.09619583089,
          19539.2612488443,
          29332.414539356803,
          59112.2422096532
         ],
         "xaxis": "x",
         "y": [
          10.9,
          8.8,
          19.1,
          10.5,
          10.1,
          13.3,
          8.6,
          11.6,
          14.8,
          7.6,
          25.7
         ],
         "yaxis": "y"
        },
        {
         "hovertemplate": "<b>OLS trendline</b><br>Prevalence of current tobacco use (% of adults) = 3.88042 * log10(GDP per capita, PPP (constant 2017 international $)) + 6.97571<br>R<sup>2</sup>=0.035607<br><br>GDP per capita ($)=%{x}<br>Adults who smoke (% of adults)=%{y} <b>(trend)</b><extra></extra>",
         "legendgroup": "Overall Trendline",
         "line": {
          "color": "black"
         },
         "mode": "lines",
         "name": "Overall Trendline",
         "showlegend": true,
         "type": "scatter",
         "x": [
          794.60427137057,
          1151.65787379293,
          1273.78363325041,
          1428.4239172607402,
          1516.35571427608,
          1565.8675531016502,
          1610.55096934817,
          1687.05356916322,
          1894.89736397042,
          1950.52626543078,
          1976.80779349156,
          1981.429813531,
          2036.87715930988,
          2075.01166590088,
          2198.5603811900896,
          2247.91977861726,
          2441.63694514804,
          2596.54593765104,
          2776.74098382062,
          2952.6170942867498,
          2961.4404159762,
          2973.46761331833,
          2987.97027465784,
          3067.66557684345,
          3173.6108286295503,
          3315.8144141419,
          3344.5708835156797,
          3467.8874478279304,
          3524.4430414256603,
          3733.5246262096503,
          3787.8166421954297,
          3878.8298699884003,
          3920.1445072358297,
          3952.75813183016,
          4421.581929297229,
          4482.92679957997,
          4551.37045105585,
          4615.70925676518,
          4712.51435451414,
          4912.3824843088505,
          5284.8932279969395,
          5851.3948804932,
          6312.32630161575,
          6346.33477752569,
          6440.79742169426,
          6896.12737379045,
          7106.24124906058,
          7705.053769713109,
          8309.44179938698,
          8321.03191383719,
          9553.09619583089,
          10471.2792874759,
          10524.9135954983,
          10531.1109693569,
          10795.8087418385,
          10940.4186480461,
          10942.5508739575,
          11191.1150421081,
          11303.0678498177,
          11534.638001777701,
          11631.043195273602,
          11826.1664161029,
          12170.7843887945,
          12287.4730695098,
          12291.8733773928,
          12403.687141686201,
          12702.9170758026,
          12820.724604795601,
          12963.7439586374,
          13194.3254000959,
          13487.8224816787,
          13901.9536121477,
          14194.515663803,
          14205.2116338951,
          14238.784136618799,
          14451.1528421912,
          15738.0786618241,
          16100.9227973306,
          16166.6115259959,
          16182.8216850199,
          16782.0986705337,
          17117.272788253,
          17822.606594541798,
          18268.031657460302,
          19539.2612488443,
          19736.6653042295,
          20513.10095142,
          20646.9330000973,
          22724.0221342831,
          23189.5274451329,
          24210.8629616382,
          24531.3577390249,
          25145.0133479761,
          25490.708257464103,
          25541.770511224302,
          25599.8436234435,
          26309.6859033258,
          26385.001938334302,
          27503.1773004104,
          28170.8213622975,
          28226.907278441402,
          28682.6939326326,
          29250.1180428621,
          29332.414539356803,
          30184.870158771402,
          31847.5377347647,
          31925.8034212317,
          32130.3008763844,
          34858.5119502257,
          35558.0724972871,
          36523.7332079973,
          37014.9592935816,
          38234.7244825066,
          38477.5791805612,
          39814.658927928904,
          40031.270764058,
          40536.7181783198,
          40837.7376281437,
          41672.1012399483,
          43705.1475593257,
          45268.7304537314,
          46206.78781304941,
          47457.5853457244,
          47937.7090620549,
          48197.43118917401,
          48625.8438167915,
          49828.9629137518,
          51334.4320301641,
          51803.2354226767,
          53269.3062047537,
          53847.8265545448,
          54185.0084787703,
          54665.7639158138,
          54708.9797919819,
          59112.2422096532,
          60867.291865741696,
          63104.100394726906,
          66510.9029855157,
          68663.2438230835,
          72864.4891443774,
          91307.5036202199,
          95601.8073141158,
          113035.834714458
         ],
         "xaxis": "x",
         "y": [
          18.22951741248957,
          18.854934690495185,
          19.024789132601732,
          19.217884439599104,
          19.31855796643925,
          19.372705082304993,
          19.420121671112565,
          19.498329199821065,
          19.694122832993735,
          19.742884618440414,
          19.76544010809203,
          19.76937581880422,
          19.815887091649415,
          19.847146606071036,
          19.94461442501725,
          19.98203102650338,
          20.121339177395004,
          20.225004289800907,
          20.338077236128594,
          20.44157485689074,
          20.44660337363147,
          20.45343374074163,
          20.461633300720152,
          20.505993251266307,
          20.56321258650743,
          20.637082373965356,
          20.651634683268828,
          20.712652688704807,
          20.739914587232008,
          20.837035764690768,
          20.861365715171885,
          20.90137976310939,
          20.919234913849124,
          20.93319730110987,
          21.122086182276625,
          21.14530650050623,
          21.170841750406794,
          21.194497794806068,
          21.22947683423064,
          21.29947761918119,
          21.422657830675767,
          21.59426236780537,
          21.722044717728394,
          21.73109982188356,
          21.75599916279001,
          21.871114276084576,
          21.921694277114412,
          22.05803564276828,
          22.18529857232273,
          22.187647535359634,
          22.42034452115867,
          22.57500094644149,
          22.58361080626387,
          22.58460283519492,
          22.626437612576474,
          22.6488616232473,
          22.64919003596798,
          22.68704269900724,
          22.70381765393472,
          22.737994973448018,
          22.752021523651948,
          22.7800587877539,
          22.828465404348048,
          22.84454590332171,
          22.84514930393349,
          22.86040993019551,
          22.900582594290384,
          22.916139617508712,
          22.93483498854804,
          22.964546375117507,
          23.00162243074131,
          23.05258783837916,
          23.087685238753885,
          23.088954640345854,
          23.092932837680415,
          23.11788233879471,
          23.261648851603436,
          23.30006134331648,
          23.306922837254092,
          23.308611775008117,
          23.36989144616843,
          23.403217661012015,
          23.471267219401117,
          23.51286739346186,
          23.626239225999008,
          23.64317972880095,
          23.70820602087246,
          23.719165223085138,
          23.880705757149794,
          23.914879430223497,
          23.987514565182195,
          24.009676869401996,
          24.051314877552503,
          24.074325890486374,
          24.077698347859286,
          24.08152565983831,
          24.12761864664767,
          24.13243606004733,
          24.20238348939435,
          24.242804428917037,
          24.24615628494363,
          24.273150975671285,
          24.306164361883095,
          24.31089921485751,
          24.35917744899819,
          24.449539031782916,
          24.45367545963877,
          24.464435697424246,
          24.601779472130836,
          24.635265038529653,
          24.680421291332255,
          24.702935930169893,
          24.75757491288921,
          24.768245196024,
          24.825812227883656,
          24.834955959602745,
          24.856101177339212,
          24.86856931100277,
          24.902653850325382,
          24.982928835206945,
          25.042166252038076,
          25.07673094858218,
          25.12174326995286,
          25.138707059716825,
          25.147812917256413,
          25.162726374629745,
          25.20391585597341,
          25.2540777037792,
          25.269398080326688,
          25.316429370747088,
          25.33463295598069,
          25.345152645687584,
          25.36003900582451,
          25.361370745396215,
          25.491825864840543,
          25.541132597488048,
          25.601952745685338,
          25.690563154867355,
          25.74423507388358,
          25.844317336439715,
          26.224561777144093,
          26.302013531630887,
          26.58431423264359
         ],
         "yaxis": "y"
        }
       ],
       "layout": {
        "legend": {
         "title": {
          "text": "Continent"
         },
         "tracegroupgap": 0
        },
        "template": {
         "data": {
          "bar": [
           {
            "error_x": {
             "color": "#2a3f5f"
            },
            "error_y": {
             "color": "#2a3f5f"
            },
            "marker": {
             "line": {
              "color": "#E5ECF6",
              "width": 0.5
             },
             "pattern": {
              "fillmode": "overlay",
              "size": 10,
              "solidity": 0.2
             }
            },
            "type": "bar"
           }
          ],
          "barpolar": [
           {
            "marker": {
             "line": {
              "color": "#E5ECF6",
              "width": 0.5
             },
             "pattern": {
              "fillmode": "overlay",
              "size": 10,
              "solidity": 0.2
             }
            },
            "type": "barpolar"
           }
          ],
          "carpet": [
           {
            "aaxis": {
             "endlinecolor": "#2a3f5f",
             "gridcolor": "white",
             "linecolor": "white",
             "minorgridcolor": "white",
             "startlinecolor": "#2a3f5f"
            },
            "baxis": {
             "endlinecolor": "#2a3f5f",
             "gridcolor": "white",
             "linecolor": "white",
             "minorgridcolor": "white",
             "startlinecolor": "#2a3f5f"
            },
            "type": "carpet"
           }
          ],
          "choropleth": [
           {
            "colorbar": {
             "outlinewidth": 0,
             "ticks": ""
            },
            "type": "choropleth"
           }
          ],
          "contour": [
           {
            "colorbar": {
             "outlinewidth": 0,
             "ticks": ""
            },
            "colorscale": [
             [
              0,
              "#0d0887"
             ],
             [
              0.1111111111111111,
              "#46039f"
             ],
             [
              0.2222222222222222,
              "#7201a8"
             ],
             [
              0.3333333333333333,
              "#9c179e"
             ],
             [
              0.4444444444444444,
              "#bd3786"
             ],
             [
              0.5555555555555556,
              "#d8576b"
             ],
             [
              0.6666666666666666,
              "#ed7953"
             ],
             [
              0.7777777777777778,
              "#fb9f3a"
             ],
             [
              0.8888888888888888,
              "#fdca26"
             ],
             [
              1,
              "#f0f921"
             ]
            ],
            "type": "contour"
           }
          ],
          "contourcarpet": [
           {
            "colorbar": {
             "outlinewidth": 0,
             "ticks": ""
            },
            "type": "contourcarpet"
           }
          ],
          "heatmap": [
           {
            "colorbar": {
             "outlinewidth": 0,
             "ticks": ""
            },
            "colorscale": [
             [
              0,
              "#0d0887"
             ],
             [
              0.1111111111111111,
              "#46039f"
             ],
             [
              0.2222222222222222,
              "#7201a8"
             ],
             [
              0.3333333333333333,
              "#9c179e"
             ],
             [
              0.4444444444444444,
              "#bd3786"
             ],
             [
              0.5555555555555556,
              "#d8576b"
             ],
             [
              0.6666666666666666,
              "#ed7953"
             ],
             [
              0.7777777777777778,
              "#fb9f3a"
             ],
             [
              0.8888888888888888,
              "#fdca26"
             ],
             [
              1,
              "#f0f921"
             ]
            ],
            "type": "heatmap"
           }
          ],
          "heatmapgl": [
           {
            "colorbar": {
             "outlinewidth": 0,
             "ticks": ""
            },
            "colorscale": [
             [
              0,
              "#0d0887"
             ],
             [
              0.1111111111111111,
              "#46039f"
             ],
             [
              0.2222222222222222,
              "#7201a8"
             ],
             [
              0.3333333333333333,
              "#9c179e"
             ],
             [
              0.4444444444444444,
              "#bd3786"
             ],
             [
              0.5555555555555556,
              "#d8576b"
             ],
             [
              0.6666666666666666,
              "#ed7953"
             ],
             [
              0.7777777777777778,
              "#fb9f3a"
             ],
             [
              0.8888888888888888,
              "#fdca26"
             ],
             [
              1,
              "#f0f921"
             ]
            ],
            "type": "heatmapgl"
           }
          ],
          "histogram": [
           {
            "marker": {
             "pattern": {
              "fillmode": "overlay",
              "size": 10,
              "solidity": 0.2
             }
            },
            "type": "histogram"
           }
          ],
          "histogram2d": [
           {
            "colorbar": {
             "outlinewidth": 0,
             "ticks": ""
            },
            "colorscale": [
             [
              0,
              "#0d0887"
             ],
             [
              0.1111111111111111,
              "#46039f"
             ],
             [
              0.2222222222222222,
              "#7201a8"
             ],
             [
              0.3333333333333333,
              "#9c179e"
             ],
             [
              0.4444444444444444,
              "#bd3786"
             ],
             [
              0.5555555555555556,
              "#d8576b"
             ],
             [
              0.6666666666666666,
              "#ed7953"
             ],
             [
              0.7777777777777778,
              "#fb9f3a"
             ],
             [
              0.8888888888888888,
              "#fdca26"
             ],
             [
              1,
              "#f0f921"
             ]
            ],
            "type": "histogram2d"
           }
          ],
          "histogram2dcontour": [
           {
            "colorbar": {
             "outlinewidth": 0,
             "ticks": ""
            },
            "colorscale": [
             [
              0,
              "#0d0887"
             ],
             [
              0.1111111111111111,
              "#46039f"
             ],
             [
              0.2222222222222222,
              "#7201a8"
             ],
             [
              0.3333333333333333,
              "#9c179e"
             ],
             [
              0.4444444444444444,
              "#bd3786"
             ],
             [
              0.5555555555555556,
              "#d8576b"
             ],
             [
              0.6666666666666666,
              "#ed7953"
             ],
             [
              0.7777777777777778,
              "#fb9f3a"
             ],
             [
              0.8888888888888888,
              "#fdca26"
             ],
             [
              1,
              "#f0f921"
             ]
            ],
            "type": "histogram2dcontour"
           }
          ],
          "mesh3d": [
           {
            "colorbar": {
             "outlinewidth": 0,
             "ticks": ""
            },
            "type": "mesh3d"
           }
          ],
          "parcoords": [
           {
            "line": {
             "colorbar": {
              "outlinewidth": 0,
              "ticks": ""
             }
            },
            "type": "parcoords"
           }
          ],
          "pie": [
           {
            "automargin": true,
            "type": "pie"
           }
          ],
          "scatter": [
           {
            "marker": {
             "colorbar": {
              "outlinewidth": 0,
              "ticks": ""
             }
            },
            "type": "scatter"
           }
          ],
          "scatter3d": [
           {
            "line": {
             "colorbar": {
              "outlinewidth": 0,
              "ticks": ""
             }
            },
            "marker": {
             "colorbar": {
              "outlinewidth": 0,
              "ticks": ""
             }
            },
            "type": "scatter3d"
           }
          ],
          "scattercarpet": [
           {
            "marker": {
             "colorbar": {
              "outlinewidth": 0,
              "ticks": ""
             }
            },
            "type": "scattercarpet"
           }
          ],
          "scattergeo": [
           {
            "marker": {
             "colorbar": {
              "outlinewidth": 0,
              "ticks": ""
             }
            },
            "type": "scattergeo"
           }
          ],
          "scattergl": [
           {
            "marker": {
             "colorbar": {
              "outlinewidth": 0,
              "ticks": ""
             }
            },
            "type": "scattergl"
           }
          ],
          "scattermapbox": [
           {
            "marker": {
             "colorbar": {
              "outlinewidth": 0,
              "ticks": ""
             }
            },
            "type": "scattermapbox"
           }
          ],
          "scatterpolar": [
           {
            "marker": {
             "colorbar": {
              "outlinewidth": 0,
              "ticks": ""
             }
            },
            "type": "scatterpolar"
           }
          ],
          "scatterpolargl": [
           {
            "marker": {
             "colorbar": {
              "outlinewidth": 0,
              "ticks": ""
             }
            },
            "type": "scatterpolargl"
           }
          ],
          "scatterternary": [
           {
            "marker": {
             "colorbar": {
              "outlinewidth": 0,
              "ticks": ""
             }
            },
            "type": "scatterternary"
           }
          ],
          "surface": [
           {
            "colorbar": {
             "outlinewidth": 0,
             "ticks": ""
            },
            "colorscale": [
             [
              0,
              "#0d0887"
             ],
             [
              0.1111111111111111,
              "#46039f"
             ],
             [
              0.2222222222222222,
              "#7201a8"
             ],
             [
              0.3333333333333333,
              "#9c179e"
             ],
             [
              0.4444444444444444,
              "#bd3786"
             ],
             [
              0.5555555555555556,
              "#d8576b"
             ],
             [
              0.6666666666666666,
              "#ed7953"
             ],
             [
              0.7777777777777778,
              "#fb9f3a"
             ],
             [
              0.8888888888888888,
              "#fdca26"
             ],
             [
              1,
              "#f0f921"
             ]
            ],
            "type": "surface"
           }
          ],
          "table": [
           {
            "cells": {
             "fill": {
              "color": "#EBF0F8"
             },
             "line": {
              "color": "white"
             }
            },
            "header": {
             "fill": {
              "color": "#C8D4E3"
             },
             "line": {
              "color": "white"
             }
            },
            "type": "table"
           }
          ]
         },
         "layout": {
          "annotationdefaults": {
           "arrowcolor": "#2a3f5f",
           "arrowhead": 0,
           "arrowwidth": 1
          },
          "autotypenumbers": "strict",
          "coloraxis": {
           "colorbar": {
            "outlinewidth": 0,
            "ticks": ""
           }
          },
          "colorscale": {
           "diverging": [
            [
             0,
             "#8e0152"
            ],
            [
             0.1,
             "#c51b7d"
            ],
            [
             0.2,
             "#de77ae"
            ],
            [
             0.3,
             "#f1b6da"
            ],
            [
             0.4,
             "#fde0ef"
            ],
            [
             0.5,
             "#f7f7f7"
            ],
            [
             0.6,
             "#e6f5d0"
            ],
            [
             0.7,
             "#b8e186"
            ],
            [
             0.8,
             "#7fbc41"
            ],
            [
             0.9,
             "#4d9221"
            ],
            [
             1,
             "#276419"
            ]
           ],
           "sequential": [
            [
             0,
             "#0d0887"
            ],
            [
             0.1111111111111111,
             "#46039f"
            ],
            [
             0.2222222222222222,
             "#7201a8"
            ],
            [
             0.3333333333333333,
             "#9c179e"
            ],
            [
             0.4444444444444444,
             "#bd3786"
            ],
            [
             0.5555555555555556,
             "#d8576b"
            ],
            [
             0.6666666666666666,
             "#ed7953"
            ],
            [
             0.7777777777777778,
             "#fb9f3a"
            ],
            [
             0.8888888888888888,
             "#fdca26"
            ],
            [
             1,
             "#f0f921"
            ]
           ],
           "sequentialminus": [
            [
             0,
             "#0d0887"
            ],
            [
             0.1111111111111111,
             "#46039f"
            ],
            [
             0.2222222222222222,
             "#7201a8"
            ],
            [
             0.3333333333333333,
             "#9c179e"
            ],
            [
             0.4444444444444444,
             "#bd3786"
            ],
            [
             0.5555555555555556,
             "#d8576b"
            ],
            [
             0.6666666666666666,
             "#ed7953"
            ],
            [
             0.7777777777777778,
             "#fb9f3a"
            ],
            [
             0.8888888888888888,
             "#fdca26"
            ],
            [
             1,
             "#f0f921"
            ]
           ]
          },
          "colorway": [
           "#636efa",
           "#EF553B",
           "#00cc96",
           "#ab63fa",
           "#FFA15A",
           "#19d3f3",
           "#FF6692",
           "#B6E880",
           "#FF97FF",
           "#FECB52"
          ],
          "font": {
           "color": "#2a3f5f"
          },
          "geo": {
           "bgcolor": "white",
           "lakecolor": "white",
           "landcolor": "#E5ECF6",
           "showlakes": true,
           "showland": true,
           "subunitcolor": "white"
          },
          "hoverlabel": {
           "align": "left"
          },
          "hovermode": "closest",
          "mapbox": {
           "style": "light"
          },
          "paper_bgcolor": "white",
          "plot_bgcolor": "#E5ECF6",
          "polar": {
           "angularaxis": {
            "gridcolor": "white",
            "linecolor": "white",
            "ticks": ""
           },
           "bgcolor": "#E5ECF6",
           "radialaxis": {
            "gridcolor": "white",
            "linecolor": "white",
            "ticks": ""
           }
          },
          "scene": {
           "xaxis": {
            "backgroundcolor": "#E5ECF6",
            "gridcolor": "white",
            "gridwidth": 2,
            "linecolor": "white",
            "showbackground": true,
            "ticks": "",
            "zerolinecolor": "white"
           },
           "yaxis": {
            "backgroundcolor": "#E5ECF6",
            "gridcolor": "white",
            "gridwidth": 2,
            "linecolor": "white",
            "showbackground": true,
            "ticks": "",
            "zerolinecolor": "white"
           },
           "zaxis": {
            "backgroundcolor": "#E5ECF6",
            "gridcolor": "white",
            "gridwidth": 2,
            "linecolor": "white",
            "showbackground": true,
            "ticks": "",
            "zerolinecolor": "white"
           }
          },
          "shapedefaults": {
           "line": {
            "color": "#2a3f5f"
           }
          },
          "ternary": {
           "aaxis": {
            "gridcolor": "white",
            "linecolor": "white",
            "ticks": ""
           },
           "baxis": {
            "gridcolor": "white",
            "linecolor": "white",
            "ticks": ""
           },
           "bgcolor": "#E5ECF6",
           "caxis": {
            "gridcolor": "white",
            "linecolor": "white",
            "ticks": ""
           }
          },
          "title": {
           "x": 0.05
          },
          "xaxis": {
           "automargin": true,
           "gridcolor": "white",
           "linecolor": "white",
           "ticks": "",
           "title": {
            "standoff": 15
           },
           "zerolinecolor": "white",
           "zerolinewidth": 2
          },
          "yaxis": {
           "automargin": true,
           "gridcolor": "white",
           "linecolor": "white",
           "ticks": "",
           "title": {
            "standoff": 15
           },
           "zerolinecolor": "white",
           "zerolinewidth": 2
          }
         }
        },
        "title": {
         "text": "Share of adults who are smoking vs. GDP per capita, 2016"
        },
        "xaxis": {
         "anchor": "y",
         "domain": [
          0,
          1
         ],
         "range": [
          2.8417374496153496,
          5.0900316199935505
         ],
         "title": {
          "text": "GDP per capita ($)"
         },
         "type": "log"
        },
        "yaxis": {
         "anchor": "x",
         "domain": [
          0,
          1
         ],
         "range": [
          2.9,
          54.9
         ],
         "title": {
          "text": "Adults who smoke (% of adults)"
         }
        }
       }
      },
      "text/html": [
       "<div>                            <div id=\"45419c7a-fdd2-4506-ac4e-614458361ae0\" class=\"plotly-graph-div\" style=\"height:525px; width:100%;\"></div>            <script type=\"text/javascript\">                require([\"plotly\"], function(Plotly) {                    window.PLOTLYENV=window.PLOTLYENV || {};                                    if (document.getElementById(\"45419c7a-fdd2-4506-ac4e-614458361ae0\")) {                    Plotly.newPlot(                        \"45419c7a-fdd2-4506-ac4e-614458361ae0\",                        [{\"customdata\":[[\"Albania\"],[\"Austria\"],[\"Belarus\"],[\"Belgium\"],[\"Bosnia and Herzegovina\"],[\"Bulgaria\"],[\"Croatia\"],[\"Cyprus\"],[\"Czechia\"],[\"Denmark\"],[\"Estonia\"],[\"Finland\"],[\"France\"],[\"Germany\"],[\"Greece\"],[\"Hungary\"],[\"Iceland\"],[\"Ireland\"],[\"Italy\"],[\"Latvia\"],[\"Lithuania\"],[\"Luxembourg\"],[\"Malta\"],[\"Moldova\"],[\"Netherlands\"],[\"Norway\"],[\"Poland\"],[\"Portugal\"],[\"Romania\"],[\"Russia\"],[\"Serbia\"],[\"Slovakia\"],[\"Slovenia\"],[\"Spain\"],[\"Sweden\"],[\"Switzerland\"],[\"Ukraine\"],[\"United Kingdom\"]],\"hovertemplate\":\"Continent=Europe<br>GDP per capita ($)=%{x}<br>Adults who smoke (% of adults)=%{y}<br>Entity=%{customdata[0]}<extra></extra>\",\"legendgroup\":\"Europe\",\"marker\":{\"color\":\"#636efa\",\"symbol\":\"circle\"},\"mode\":\"markers\",\"name\":\"Europe\",\"orientation\":\"v\",\"showlegend\":true,\"x\":[12291.8733773928,53269.3062047537,17822.606594541798,49828.9629137518,13194.3254000959,20513.10095142,25599.8436234435,36523.7332079973,37014.9592935816,54185.0084787703,32130.3008763844,46206.78781304941,43705.1475593257,51803.2354226767,28226.907278441402,28170.8213622975,54665.7639158138,72864.4891443774,40837.7376281437,27503.1773004104,31925.8034212317,113035.834714458,40536.7181783198,10942.5508739575,53847.8265545448,63104.100394726906,28682.6939326326,31847.5377347647,25145.0133479761,25490.708257464103,16182.8216850199,29250.1180428621,34858.5119502257,38477.5791805612,51334.4320301641,68663.2438230835,11534.638001777701,45268.7304537314],\"xaxis\":\"x\",\"y\":[29.7,30.7,27.5,25.5,39.1,40.1,36.3,37.1,31.9,20.0,31.5,20.4,34.6,28.6,40.2,31.4,15.0,24.6,23.6,37.1,28.0,22.5,25.9,25.1,24.3,14.1,27.4,27.5,26.8,28.7,41.2,32.1,23.0,28.8,30.8,25.4,26.6,20.6],\"yaxis\":\"y\",\"type\":\"scatter\"},{\"customdata\":[[\"Algeria\"],[\"Benin\"],[\"Botswana\"],[\"Burkina Faso\"],[\"Burundi\"],[\"Cameroon\"],[\"Chad\"],[\"Comoros\"],[\"Congo\"],[\"Cote d'Ivoire\"],[\"Egypt\"],[\"Eswatini\"],[\"Ethiopia\"],[\"Gambia\"],[\"Ghana\"],[\"Kenya\"],[\"Lesotho\"],[\"Liberia\"],[\"Madagascar\"],[\"Malawi\"],[\"Mali\"],[\"Mauritius\"],[\"Morocco\"],[\"Mozambique\"],[\"Namibia\"],[\"Niger\"],[\"Nigeria\"],[\"Rwanda\"],[\"Sao Tome and Principe\"],[\"Senegal\"],[\"Seychelles\"],[\"Sierra Leone\"],[\"South Africa\"],[\"Tanzania\"],[\"Togo\"],[\"Tunisia\"],[\"Uganda\"],[\"Zambia\"],[\"Zimbabwe\"]],\"hovertemplate\":\"Continent=Africa<br>GDP per capita ($)=%{x}<br>Adults who smoke (% of adults)=%{y}<br>Entity=%{customdata[0]}<extra></extra>\",\"legendgroup\":\"Africa\",\"marker\":{\"color\":\"#EF553B\",\"symbol\":\"circle\"},\"mode\":\"markers\",\"name\":\"Africa\",\"orientation\":\"v\",\"showlegend\":true,\"x\":[11826.1664161029,2961.4404159762,17117.272788253,1981.429813531,794.60427137057,3524.4430414256603,1687.05356916322,2987.97027465784,4551.37045105585,4615.70925676518,10795.8087418385,8321.03191383719,1894.89736397042,2036.87715930988,4712.51435451414,3952.75813183016,2776.74098382062,1516.35571427608,1565.8675531016502,1428.4239172607402,2198.5603811900896,20646.9330000973,7106.24124906058,1273.78363325041,10471.2792874759,1151.65787379293,5284.8932279969395,1950.52626543078,3878.8298699884003,3067.66557684345,26309.6859033258,1610.55096934817,12702.9170758026,2441.63694514804,1976.80779349156,10524.9135954983,2075.01166590088,3467.8874478279304,3173.6108286295503],\"xaxis\":\"x\",\"y\":[19.1,7.8,24.3,16.9,13.2,9.4,12.1,20.9,15.4,13.4,21.3,10.8,4.8,15.0,3.9,12.4,28.7,8.8,30.0,13.8,12.1,27.6,15.5,15.4,18.3,8.4,5.0,13.9,5.5,9.5,21.5,21.1,32.0,14.1,7.9,27.1,10.9,15.2,14.3],\"yaxis\":\"y\",\"type\":\"scatter\"},{\"customdata\":[[\"Argentina\"],[\"Brazil\"],[\"Chile\"],[\"Colombia\"],[\"Guyana\"],[\"Paraguay\"],[\"Peru\"],[\"Uruguay\"]],\"hovertemplate\":\"Continent=South America<br>GDP per capita ($)=%{x}<br>Adults who smoke (% of adults)=%{y}<br>Entity=%{customdata[0]}<extra></extra>\",\"legendgroup\":\"South America\",\"marker\":{\"color\":\"#00cc96\",\"symbol\":\"circle\"},\"mode\":\"markers\",\"name\":\"South America\",\"orientation\":\"v\",\"showlegend\":true,\"x\":[23189.5274451329,14451.1528421912,24531.3577390249,14194.515663803,11631.043195273602,12170.7843887945,12403.687141686201,22724.0221342831],\"xaxis\":\"x\",\"y\":[23.6,17.8,45.5,8.6,13.2,14.0,11.0,23.2],\"yaxis\":\"y\",\"type\":\"scatter\"},{\"customdata\":[[\"Armenia\"],[\"Azerbaijan\"],[\"Bahrain\"],[\"Bangladesh\"],[\"Brunei\"],[\"Cambodia\"],[\"China\"],[\"Georgia\"],[\"India\"],[\"Indonesia\"],[\"Iran\"],[\"Iraq\"],[\"Israel\"],[\"Japan\"],[\"Kazakhstan\"],[\"Kuwait\"],[\"Kyrgyzstan\"],[\"Laos\"],[\"Lebanon\"],[\"Malaysia\"],[\"Mongolia\"],[\"Myanmar\"],[\"Nepal\"],[\"Oman\"],[\"Pakistan\"],[\"Philippines\"],[\"Qatar\"],[\"Saudi Arabia\"],[\"Singapore\"],[\"South Korea\"],[\"Sri Lanka\"],[\"Thailand\"],[\"Timor\"],[\"Turkey\"],[\"United Arab Emirates\"],[\"Uzbekistan\"]],\"hovertemplate\":\"Continent=Asia<br>GDP per capita ($)=%{x}<br>Adults who smoke (% of adults)=%{y}<br>Entity=%{customdata[0]}<extra></extra>\",\"legendgroup\":\"Asia\",\"marker\":{\"color\":\"#ab63fa\",\"symbol\":\"circle\"},\"mode\":\"markers\",\"name\":\"Asia\",\"orientation\":\"v\",\"showlegend\":true,\"x\":[11303.0678498177,14238.784136618799,47937.7090620549,3920.1445072358297,60867.291865741696,3733.5246262096503,13487.8224816787,12963.7439586374,5851.3948804932,10531.1109693569,14205.2116338951,11191.1150421081,38234.7244825066,40031.270764058,24210.8629616382,54708.9797919819,4912.3824843088505,6896.12737379045,16100.9227973306,25541.770511224302,10940.4186480461,4482.92679957997,3315.8144141419,30184.870158771402,4421.581929297229,7705.053769713109,95601.8073141158,48625.8438167915,91307.5036202199,39814.658927928904,12287.4730695098,16782.0986705337,3344.5708835156797,26385.001938334302,66510.9029855157,6346.33477752569],\"xaxis\":\"x\",\"y\":[27.5,20.3,25.3,40.1,15.7,23.6,25.1,30.1,28.8,38.1,14.6,22.6,26.0,22.8,25.3,22.4,28.2,39.9,42.6,22.5,28.4,46.8,34.3,9.6,21.6,25.1,14.1,16.6,16.6,23.3,23.3,23.6,39.9,29.8,18.5,12.6],\"yaxis\":\"y\",\"type\":\"scatter\"},{\"customdata\":[[\"Australia\"],[\"Fiji\"],[\"Kiribati\"],[\"Nauru\"],[\"New Zealand\"],[\"Palau\"],[\"Samoa\"],[\"Solomon Islands\"],[\"Tonga\"],[\"Tuvalu\"],[\"Vanuatu\"]],\"hovertemplate\":\"Continent=Oceania<br>GDP per capita ($)=%{x}<br>Adults who smoke (% of adults)=%{y}<br>Entity=%{customdata[0]}<extra></extra>\",\"legendgroup\":\"Oceania\",\"marker\":{\"color\":\"#FFA15A\",\"symbol\":\"circle\"},\"mode\":\"markers\",\"name\":\"Oceania\",\"orientation\":\"v\",\"showlegend\":true,\"x\":[48197.43118917401,12820.724604795601,2247.91977861726,13901.9536121477,41672.1012399483,18268.031657460302,6440.79742169426,2596.54593765104,6312.32630161575,3787.8166421954297,2973.46761331833],\"xaxis\":\"x\",\"y\":[17.1,27.1,53.5,53.9,16.0,24.7,29.9,38.1,30.4,50.0,24.8],\"yaxis\":\"y\",\"type\":\"scatter\"},{\"customdata\":[[\"Bahamas\"],[\"Barbados\"],[\"Canada\"],[\"Costa Rica\"],[\"Dominican Republic\"],[\"El Salvador\"],[\"Haiti\"],[\"Jamaica\"],[\"Mexico\"],[\"Panama\"],[\"United States\"]],\"hovertemplate\":\"Continent=North America<br>GDP per capita ($)=%{x}<br>Adults who smoke (% of adults)=%{y}<br>Entity=%{customdata[0]}<extra></extra>\",\"legendgroup\":\"North America\",\"marker\":{\"color\":\"#19d3f3\",\"symbol\":\"circle\"},\"mode\":\"markers\",\"name\":\"North America\",\"orientation\":\"v\",\"showlegend\":true,\"x\":[35558.0724972871,15738.0786618241,47457.5853457244,19736.6653042295,16166.6115259959,8309.44179938698,2952.6170942867498,9553.09619583089,19539.2612488443,29332.414539356803,59112.2422096532],\"xaxis\":\"x\",\"y\":[10.9,8.8,19.1,10.5,10.1,13.3,8.6,11.6,14.8,7.6,25.7],\"yaxis\":\"y\",\"type\":\"scatter\"},{\"hovertemplate\":\"<b>OLS trendline</b><br>Prevalence of current tobacco use (% of adults) = 3.88042 * log10(GDP per capita, PPP (constant 2017 international $)) + 6.97571<br>R<sup>2</sup>=0.035607<br><br>GDP per capita ($)=%{x}<br>Adults who smoke (% of adults)=%{y} <b>(trend)</b><extra></extra>\",\"legendgroup\":\"Overall Trendline\",\"line\":{\"color\":\"black\"},\"mode\":\"lines\",\"name\":\"Overall Trendline\",\"showlegend\":true,\"x\":[794.60427137057,1151.65787379293,1273.78363325041,1428.4239172607402,1516.35571427608,1565.8675531016502,1610.55096934817,1687.05356916322,1894.89736397042,1950.52626543078,1976.80779349156,1981.429813531,2036.87715930988,2075.01166590088,2198.5603811900896,2247.91977861726,2441.63694514804,2596.54593765104,2776.74098382062,2952.6170942867498,2961.4404159762,2973.46761331833,2987.97027465784,3067.66557684345,3173.6108286295503,3315.8144141419,3344.5708835156797,3467.8874478279304,3524.4430414256603,3733.5246262096503,3787.8166421954297,3878.8298699884003,3920.1445072358297,3952.75813183016,4421.581929297229,4482.92679957997,4551.37045105585,4615.70925676518,4712.51435451414,4912.3824843088505,5284.8932279969395,5851.3948804932,6312.32630161575,6346.33477752569,6440.79742169426,6896.12737379045,7106.24124906058,7705.053769713109,8309.44179938698,8321.03191383719,9553.09619583089,10471.2792874759,10524.9135954983,10531.1109693569,10795.8087418385,10940.4186480461,10942.5508739575,11191.1150421081,11303.0678498177,11534.638001777701,11631.043195273602,11826.1664161029,12170.7843887945,12287.4730695098,12291.8733773928,12403.687141686201,12702.9170758026,12820.724604795601,12963.7439586374,13194.3254000959,13487.8224816787,13901.9536121477,14194.515663803,14205.2116338951,14238.784136618799,14451.1528421912,15738.0786618241,16100.9227973306,16166.6115259959,16182.8216850199,16782.0986705337,17117.272788253,17822.606594541798,18268.031657460302,19539.2612488443,19736.6653042295,20513.10095142,20646.9330000973,22724.0221342831,23189.5274451329,24210.8629616382,24531.3577390249,25145.0133479761,25490.708257464103,25541.770511224302,25599.8436234435,26309.6859033258,26385.001938334302,27503.1773004104,28170.8213622975,28226.907278441402,28682.6939326326,29250.1180428621,29332.414539356803,30184.870158771402,31847.5377347647,31925.8034212317,32130.3008763844,34858.5119502257,35558.0724972871,36523.7332079973,37014.9592935816,38234.7244825066,38477.5791805612,39814.658927928904,40031.270764058,40536.7181783198,40837.7376281437,41672.1012399483,43705.1475593257,45268.7304537314,46206.78781304941,47457.5853457244,47937.7090620549,48197.43118917401,48625.8438167915,49828.9629137518,51334.4320301641,51803.2354226767,53269.3062047537,53847.8265545448,54185.0084787703,54665.7639158138,54708.9797919819,59112.2422096532,60867.291865741696,63104.100394726906,66510.9029855157,68663.2438230835,72864.4891443774,91307.5036202199,95601.8073141158,113035.834714458],\"y\":[18.22951741248957,18.854934690495185,19.024789132601732,19.217884439599104,19.31855796643925,19.372705082304993,19.420121671112565,19.498329199821065,19.694122832993735,19.742884618440414,19.76544010809203,19.76937581880422,19.815887091649415,19.847146606071036,19.94461442501725,19.98203102650338,20.121339177395004,20.225004289800907,20.338077236128594,20.44157485689074,20.44660337363147,20.45343374074163,20.461633300720152,20.505993251266307,20.56321258650743,20.637082373965356,20.651634683268828,20.712652688704807,20.739914587232008,20.837035764690768,20.861365715171885,20.90137976310939,20.919234913849124,20.93319730110987,21.122086182276625,21.14530650050623,21.170841750406794,21.194497794806068,21.22947683423064,21.29947761918119,21.422657830675767,21.59426236780537,21.722044717728394,21.73109982188356,21.75599916279001,21.871114276084576,21.921694277114412,22.05803564276828,22.18529857232273,22.187647535359634,22.42034452115867,22.57500094644149,22.58361080626387,22.58460283519492,22.626437612576474,22.6488616232473,22.64919003596798,22.68704269900724,22.70381765393472,22.737994973448018,22.752021523651948,22.7800587877539,22.828465404348048,22.84454590332171,22.84514930393349,22.86040993019551,22.900582594290384,22.916139617508712,22.93483498854804,22.964546375117507,23.00162243074131,23.05258783837916,23.087685238753885,23.088954640345854,23.092932837680415,23.11788233879471,23.261648851603436,23.30006134331648,23.306922837254092,23.308611775008117,23.36989144616843,23.403217661012015,23.471267219401117,23.51286739346186,23.626239225999008,23.64317972880095,23.70820602087246,23.719165223085138,23.880705757149794,23.914879430223497,23.987514565182195,24.009676869401996,24.051314877552503,24.074325890486374,24.077698347859286,24.08152565983831,24.12761864664767,24.13243606004733,24.20238348939435,24.242804428917037,24.24615628494363,24.273150975671285,24.306164361883095,24.31089921485751,24.35917744899819,24.449539031782916,24.45367545963877,24.464435697424246,24.601779472130836,24.635265038529653,24.680421291332255,24.702935930169893,24.75757491288921,24.768245196024,24.825812227883656,24.834955959602745,24.856101177339212,24.86856931100277,24.902653850325382,24.982928835206945,25.042166252038076,25.07673094858218,25.12174326995286,25.138707059716825,25.147812917256413,25.162726374629745,25.20391585597341,25.2540777037792,25.269398080326688,25.316429370747088,25.33463295598069,25.345152645687584,25.36003900582451,25.361370745396215,25.491825864840543,25.541132597488048,25.601952745685338,25.690563154867355,25.74423507388358,25.844317336439715,26.224561777144093,26.302013531630887,26.58431423264359],\"type\":\"scatter\",\"xaxis\":\"x\",\"yaxis\":\"y\"}],                        {\"template\":{\"data\":{\"bar\":[{\"error_x\":{\"color\":\"#2a3f5f\"},\"error_y\":{\"color\":\"#2a3f5f\"},\"marker\":{\"line\":{\"color\":\"#E5ECF6\",\"width\":0.5},\"pattern\":{\"fillmode\":\"overlay\",\"size\":10,\"solidity\":0.2}},\"type\":\"bar\"}],\"barpolar\":[{\"marker\":{\"line\":{\"color\":\"#E5ECF6\",\"width\":0.5},\"pattern\":{\"fillmode\":\"overlay\",\"size\":10,\"solidity\":0.2}},\"type\":\"barpolar\"}],\"carpet\":[{\"aaxis\":{\"endlinecolor\":\"#2a3f5f\",\"gridcolor\":\"white\",\"linecolor\":\"white\",\"minorgridcolor\":\"white\",\"startlinecolor\":\"#2a3f5f\"},\"baxis\":{\"endlinecolor\":\"#2a3f5f\",\"gridcolor\":\"white\",\"linecolor\":\"white\",\"minorgridcolor\":\"white\",\"startlinecolor\":\"#2a3f5f\"},\"type\":\"carpet\"}],\"choropleth\":[{\"colorbar\":{\"outlinewidth\":0,\"ticks\":\"\"},\"type\":\"choropleth\"}],\"contour\":[{\"colorbar\":{\"outlinewidth\":0,\"ticks\":\"\"},\"colorscale\":[[0.0,\"#0d0887\"],[0.1111111111111111,\"#46039f\"],[0.2222222222222222,\"#7201a8\"],[0.3333333333333333,\"#9c179e\"],[0.4444444444444444,\"#bd3786\"],[0.5555555555555556,\"#d8576b\"],[0.6666666666666666,\"#ed7953\"],[0.7777777777777778,\"#fb9f3a\"],[0.8888888888888888,\"#fdca26\"],[1.0,\"#f0f921\"]],\"type\":\"contour\"}],\"contourcarpet\":[{\"colorbar\":{\"outlinewidth\":0,\"ticks\":\"\"},\"type\":\"contourcarpet\"}],\"heatmap\":[{\"colorbar\":{\"outlinewidth\":0,\"ticks\":\"\"},\"colorscale\":[[0.0,\"#0d0887\"],[0.1111111111111111,\"#46039f\"],[0.2222222222222222,\"#7201a8\"],[0.3333333333333333,\"#9c179e\"],[0.4444444444444444,\"#bd3786\"],[0.5555555555555556,\"#d8576b\"],[0.6666666666666666,\"#ed7953\"],[0.7777777777777778,\"#fb9f3a\"],[0.8888888888888888,\"#fdca26\"],[1.0,\"#f0f921\"]],\"type\":\"heatmap\"}],\"heatmapgl\":[{\"colorbar\":{\"outlinewidth\":0,\"ticks\":\"\"},\"colorscale\":[[0.0,\"#0d0887\"],[0.1111111111111111,\"#46039f\"],[0.2222222222222222,\"#7201a8\"],[0.3333333333333333,\"#9c179e\"],[0.4444444444444444,\"#bd3786\"],[0.5555555555555556,\"#d8576b\"],[0.6666666666666666,\"#ed7953\"],[0.7777777777777778,\"#fb9f3a\"],[0.8888888888888888,\"#fdca26\"],[1.0,\"#f0f921\"]],\"type\":\"heatmapgl\"}],\"histogram\":[{\"marker\":{\"pattern\":{\"fillmode\":\"overlay\",\"size\":10,\"solidity\":0.2}},\"type\":\"histogram\"}],\"histogram2d\":[{\"colorbar\":{\"outlinewidth\":0,\"ticks\":\"\"},\"colorscale\":[[0.0,\"#0d0887\"],[0.1111111111111111,\"#46039f\"],[0.2222222222222222,\"#7201a8\"],[0.3333333333333333,\"#9c179e\"],[0.4444444444444444,\"#bd3786\"],[0.5555555555555556,\"#d8576b\"],[0.6666666666666666,\"#ed7953\"],[0.7777777777777778,\"#fb9f3a\"],[0.8888888888888888,\"#fdca26\"],[1.0,\"#f0f921\"]],\"type\":\"histogram2d\"}],\"histogram2dcontour\":[{\"colorbar\":{\"outlinewidth\":0,\"ticks\":\"\"},\"colorscale\":[[0.0,\"#0d0887\"],[0.1111111111111111,\"#46039f\"],[0.2222222222222222,\"#7201a8\"],[0.3333333333333333,\"#9c179e\"],[0.4444444444444444,\"#bd3786\"],[0.5555555555555556,\"#d8576b\"],[0.6666666666666666,\"#ed7953\"],[0.7777777777777778,\"#fb9f3a\"],[0.8888888888888888,\"#fdca26\"],[1.0,\"#f0f921\"]],\"type\":\"histogram2dcontour\"}],\"mesh3d\":[{\"colorbar\":{\"outlinewidth\":0,\"ticks\":\"\"},\"type\":\"mesh3d\"}],\"parcoords\":[{\"line\":{\"colorbar\":{\"outlinewidth\":0,\"ticks\":\"\"}},\"type\":\"parcoords\"}],\"pie\":[{\"automargin\":true,\"type\":\"pie\"}],\"scatter\":[{\"marker\":{\"colorbar\":{\"outlinewidth\":0,\"ticks\":\"\"}},\"type\":\"scatter\"}],\"scatter3d\":[{\"line\":{\"colorbar\":{\"outlinewidth\":0,\"ticks\":\"\"}},\"marker\":{\"colorbar\":{\"outlinewidth\":0,\"ticks\":\"\"}},\"type\":\"scatter3d\"}],\"scattercarpet\":[{\"marker\":{\"colorbar\":{\"outlinewidth\":0,\"ticks\":\"\"}},\"type\":\"scattercarpet\"}],\"scattergeo\":[{\"marker\":{\"colorbar\":{\"outlinewidth\":0,\"ticks\":\"\"}},\"type\":\"scattergeo\"}],\"scattergl\":[{\"marker\":{\"colorbar\":{\"outlinewidth\":0,\"ticks\":\"\"}},\"type\":\"scattergl\"}],\"scattermapbox\":[{\"marker\":{\"colorbar\":{\"outlinewidth\":0,\"ticks\":\"\"}},\"type\":\"scattermapbox\"}],\"scatterpolar\":[{\"marker\":{\"colorbar\":{\"outlinewidth\":0,\"ticks\":\"\"}},\"type\":\"scatterpolar\"}],\"scatterpolargl\":[{\"marker\":{\"colorbar\":{\"outlinewidth\":0,\"ticks\":\"\"}},\"type\":\"scatterpolargl\"}],\"scatterternary\":[{\"marker\":{\"colorbar\":{\"outlinewidth\":0,\"ticks\":\"\"}},\"type\":\"scatterternary\"}],\"surface\":[{\"colorbar\":{\"outlinewidth\":0,\"ticks\":\"\"},\"colorscale\":[[0.0,\"#0d0887\"],[0.1111111111111111,\"#46039f\"],[0.2222222222222222,\"#7201a8\"],[0.3333333333333333,\"#9c179e\"],[0.4444444444444444,\"#bd3786\"],[0.5555555555555556,\"#d8576b\"],[0.6666666666666666,\"#ed7953\"],[0.7777777777777778,\"#fb9f3a\"],[0.8888888888888888,\"#fdca26\"],[1.0,\"#f0f921\"]],\"type\":\"surface\"}],\"table\":[{\"cells\":{\"fill\":{\"color\":\"#EBF0F8\"},\"line\":{\"color\":\"white\"}},\"header\":{\"fill\":{\"color\":\"#C8D4E3\"},\"line\":{\"color\":\"white\"}},\"type\":\"table\"}]},\"layout\":{\"annotationdefaults\":{\"arrowcolor\":\"#2a3f5f\",\"arrowhead\":0,\"arrowwidth\":1},\"autotypenumbers\":\"strict\",\"coloraxis\":{\"colorbar\":{\"outlinewidth\":0,\"ticks\":\"\"}},\"colorscale\":{\"diverging\":[[0,\"#8e0152\"],[0.1,\"#c51b7d\"],[0.2,\"#de77ae\"],[0.3,\"#f1b6da\"],[0.4,\"#fde0ef\"],[0.5,\"#f7f7f7\"],[0.6,\"#e6f5d0\"],[0.7,\"#b8e186\"],[0.8,\"#7fbc41\"],[0.9,\"#4d9221\"],[1,\"#276419\"]],\"sequential\":[[0.0,\"#0d0887\"],[0.1111111111111111,\"#46039f\"],[0.2222222222222222,\"#7201a8\"],[0.3333333333333333,\"#9c179e\"],[0.4444444444444444,\"#bd3786\"],[0.5555555555555556,\"#d8576b\"],[0.6666666666666666,\"#ed7953\"],[0.7777777777777778,\"#fb9f3a\"],[0.8888888888888888,\"#fdca26\"],[1.0,\"#f0f921\"]],\"sequentialminus\":[[0.0,\"#0d0887\"],[0.1111111111111111,\"#46039f\"],[0.2222222222222222,\"#7201a8\"],[0.3333333333333333,\"#9c179e\"],[0.4444444444444444,\"#bd3786\"],[0.5555555555555556,\"#d8576b\"],[0.6666666666666666,\"#ed7953\"],[0.7777777777777778,\"#fb9f3a\"],[0.8888888888888888,\"#fdca26\"],[1.0,\"#f0f921\"]]},\"colorway\":[\"#636efa\",\"#EF553B\",\"#00cc96\",\"#ab63fa\",\"#FFA15A\",\"#19d3f3\",\"#FF6692\",\"#B6E880\",\"#FF97FF\",\"#FECB52\"],\"font\":{\"color\":\"#2a3f5f\"},\"geo\":{\"bgcolor\":\"white\",\"lakecolor\":\"white\",\"landcolor\":\"#E5ECF6\",\"showlakes\":true,\"showland\":true,\"subunitcolor\":\"white\"},\"hoverlabel\":{\"align\":\"left\"},\"hovermode\":\"closest\",\"mapbox\":{\"style\":\"light\"},\"paper_bgcolor\":\"white\",\"plot_bgcolor\":\"#E5ECF6\",\"polar\":{\"angularaxis\":{\"gridcolor\":\"white\",\"linecolor\":\"white\",\"ticks\":\"\"},\"bgcolor\":\"#E5ECF6\",\"radialaxis\":{\"gridcolor\":\"white\",\"linecolor\":\"white\",\"ticks\":\"\"}},\"scene\":{\"xaxis\":{\"backgroundcolor\":\"#E5ECF6\",\"gridcolor\":\"white\",\"gridwidth\":2,\"linecolor\":\"white\",\"showbackground\":true,\"ticks\":\"\",\"zerolinecolor\":\"white\"},\"yaxis\":{\"backgroundcolor\":\"#E5ECF6\",\"gridcolor\":\"white\",\"gridwidth\":2,\"linecolor\":\"white\",\"showbackground\":true,\"ticks\":\"\",\"zerolinecolor\":\"white\"},\"zaxis\":{\"backgroundcolor\":\"#E5ECF6\",\"gridcolor\":\"white\",\"gridwidth\":2,\"linecolor\":\"white\",\"showbackground\":true,\"ticks\":\"\",\"zerolinecolor\":\"white\"}},\"shapedefaults\":{\"line\":{\"color\":\"#2a3f5f\"}},\"ternary\":{\"aaxis\":{\"gridcolor\":\"white\",\"linecolor\":\"white\",\"ticks\":\"\"},\"baxis\":{\"gridcolor\":\"white\",\"linecolor\":\"white\",\"ticks\":\"\"},\"bgcolor\":\"#E5ECF6\",\"caxis\":{\"gridcolor\":\"white\",\"linecolor\":\"white\",\"ticks\":\"\"}},\"title\":{\"x\":0.05},\"xaxis\":{\"automargin\":true,\"gridcolor\":\"white\",\"linecolor\":\"white\",\"ticks\":\"\",\"title\":{\"standoff\":15},\"zerolinecolor\":\"white\",\"zerolinewidth\":2},\"yaxis\":{\"automargin\":true,\"gridcolor\":\"white\",\"linecolor\":\"white\",\"ticks\":\"\",\"title\":{\"standoff\":15},\"zerolinecolor\":\"white\",\"zerolinewidth\":2}}},\"xaxis\":{\"anchor\":\"y\",\"domain\":[0.0,1.0],\"title\":{\"text\":\"GDP per capita ($)\"},\"type\":\"log\",\"range\":[2.8417374496153496,5.0900316199935505]},\"yaxis\":{\"anchor\":\"x\",\"domain\":[0.0,1.0],\"title\":{\"text\":\"Adults who smoke (% of adults)\"},\"range\":[2.9,54.9]},\"legend\":{\"title\":{\"text\":\"Continent\"},\"tracegroupgap\":0},\"title\":{\"text\":\"Share of adults who are smoking vs. GDP per capita, 2016\"}},                        {\"responsive\": true}                    ).then(function(){\n",
       "                            \n",
       "var gd = document.getElementById('45419c7a-fdd2-4506-ac4e-614458361ae0');\n",
       "var x = new MutationObserver(function (mutations, observer) {{\n",
       "        var display = window.getComputedStyle(gd).display;\n",
       "        if (!display || display === 'none') {{\n",
       "            console.log([gd, 'removed!']);\n",
       "            Plotly.purge(gd);\n",
       "            observer.disconnect();\n",
       "        }}\n",
       "}});\n",
       "\n",
       "// Listen for the removal of the full notebook cells\n",
       "var notebookContainer = gd.closest('#notebook-container');\n",
       "if (notebookContainer) {{\n",
       "    x.observe(notebookContainer, {childList: true});\n",
       "}}\n",
       "\n",
       "// Listen for the clearing of the current output cell\n",
       "var outputEl = gd.closest('.output');\n",
       "if (outputEl) {{\n",
       "    x.observe(outputEl, {childList: true});\n",
       "}}\n",
       "\n",
       "                        })                };                });            </script>        </div>"
      ]
     },
     "metadata": {},
     "output_type": "display_data"
    }
   ],
   "source": [
    "plotFigure(readCSV('share-of-adults-who-are-smoking-by-level-of-prosperity.csv',\n",
    "           'GDP per capita, PPP (constant 2017 international $)',\n",
    "          'Prevalence of current tobacco use (% of adults)',\n",
    "          'Share of adults who are smoking vs. GDP per capita'), 'GDP per capita ($)', \n",
    "           'Adults who smoke (% of adults)', 'Share of adults who are smoking vs. GDP per capita')"
   ]
  },
  {
   "cell_type": "markdown",
   "metadata": {},
   "source": [
    "###### Questions\n",
    "---"
   ]
  },
  {
   "cell_type": "markdown",
   "metadata": {},
   "source": [
    "##### 4. Medical doctors per 1,000 people vs. GDP per capita"
   ]
  },
  {
   "cell_type": "code",
   "execution_count": 52,
   "metadata": {},
   "outputs": [
    {
     "name": "stdout",
     "output_type": "stream",
     "text": [
      "Year of interest for the data \"Medical doctors per 1000 people vs. GDP per capita\": \n",
      "2016\n",
      "---------------------------------------------------------------------------------------------------------------------\n"
     ]
    },
    {
     "data": {
      "application/vnd.plotly.v1+json": {
       "config": {
        "plotlyServerURL": "https://plot.ly"
       },
       "data": [
        {
         "customdata": [
          [
           "Afghanistan"
          ],
          [
           "Bangladesh"
          ],
          [
           "Bhutan"
          ],
          [
           "China"
          ],
          [
           "Georgia"
          ],
          [
           "India"
          ],
          [
           "Iraq"
          ],
          [
           "Israel"
          ],
          [
           "Japan"
          ],
          [
           "Jordan"
          ],
          [
           "Lebanon"
          ],
          [
           "Maldives"
          ],
          [
           "Mongolia"
          ],
          [
           "Myanmar"
          ],
          [
           "Oman"
          ],
          [
           "Pakistan"
          ],
          [
           "Qatar"
          ],
          [
           "Saudi Arabia"
          ],
          [
           "Singapore"
          ],
          [
           "South Korea"
          ],
          [
           "Sri Lanka"
          ],
          [
           "Thailand"
          ],
          [
           "Turkey"
          ],
          [
           "United Arab Emirates"
          ],
          [
           "Vietnam"
          ]
         ],
         "hovertemplate": "Continent=Asia<br>GDP per capita ($)=%{x}<br>Medical doctors (per 1,000 people)=%{y}<br>Entity=%{customdata[0]}<extra></extra>",
         "legendgroup": "Asia",
         "marker": {
          "color": "#636efa",
          "symbol": "circle"
         },
         "mode": "markers",
         "name": "Asia",
         "orientation": "v",
         "showlegend": true,
         "type": "scatter",
         "x": [
          2057.06797755329,
          3920.1445072358297,
          10775.1903107625,
          13487.8224816787,
          12963.7439586374,
          5851.3948804932,
          11191.1150421081,
          38234.7244825066,
          40031.270764058,
          10036.5436154339,
          16100.9227973306,
          17584.1475352396,
          10940.4186480461,
          4482.92679957997,
          30184.870158771402,
          4421.581929297229,
          95601.8073141158,
          48625.8438167915,
          91307.5036202199,
          39814.658927928904,
          12287.4730695098,
          16782.0986705337,
          26385.001938334302,
          66510.9029855157,
          6767.7788320975205
         ],
         "xaxis": "x",
         "y": [
          0.2782,
          0.4974,
          0.4059,
          1.8647,
          5.9973,
          0.759,
          0.8536,
          3.4632,
          2.4115,
          1.3954,
          2.0115,
          1.0379,
          2.8592,
          0.6195,
          1.9249,
          0.9620000000000001,
          2.6944,
          2.3776,
          2.2936,
          2.3037,
          0.8925,
          0.445,
          1.8142,
          2.371,
          0.8281
         ],
         "yaxis": "y"
        },
        {
         "customdata": [
          [
           "Albania"
          ],
          [
           "Austria"
          ],
          [
           "Belgium"
          ],
          [
           "Croatia"
          ],
          [
           "Cyprus"
          ],
          [
           "Czechia"
          ],
          [
           "Denmark"
          ],
          [
           "Estonia"
          ],
          [
           "Finland"
          ],
          [
           "France"
          ],
          [
           "Germany"
          ],
          [
           "Greece"
          ],
          [
           "Hungary"
          ],
          [
           "Iceland"
          ],
          [
           "Ireland"
          ],
          [
           "Italy"
          ],
          [
           "Latvia"
          ],
          [
           "Lithuania"
          ],
          [
           "Luxembourg"
          ],
          [
           "Netherlands"
          ],
          [
           "Norway"
          ],
          [
           "Poland"
          ],
          [
           "Portugal"
          ],
          [
           "Romania"
          ],
          [
           "Russia"
          ],
          [
           "Serbia"
          ],
          [
           "Slovakia"
          ],
          [
           "Slovenia"
          ],
          [
           "Spain"
          ],
          [
           "Sweden"
          ],
          [
           "Switzerland"
          ],
          [
           "United Kingdom"
          ]
         ],
         "hovertemplate": "Continent=Europe<br>GDP per capita ($)=%{x}<br>Medical doctors (per 1,000 people)=%{y}<br>Entity=%{customdata[0]}<extra></extra>",
         "legendgroup": "Europe",
         "marker": {
          "color": "#EF553B",
          "symbol": "circle"
         },
         "mode": "markers",
         "name": "Europe",
         "orientation": "v",
         "showlegend": true,
         "type": "scatter",
         "x": [
          12291.8733773928,
          53269.3062047537,
          49828.9629137518,
          25599.8436234435,
          36523.7332079973,
          37014.9592935816,
          54185.0084787703,
          32130.3008763844,
          46206.78781304941,
          43705.1475593257,
          51803.2354226767,
          28226.907278441402,
          28170.8213622975,
          54665.7639158138,
          72864.4891443774,
          40837.7376281437,
          27503.1773004104,
          31925.8034212317,
          113035.834714458,
          53847.8265545448,
          63104.100394726906,
          28682.6939326326,
          31847.5377347647,
          25145.0133479761,
          25490.708257464103,
          16182.8216850199,
          29250.1180428621,
          34858.5119502257,
          38477.5791805612,
          51334.4320301641,
          68663.2438230835,
          45268.7304537314
         ],
         "xaxis": "x",
         "y": [
          1.2164,
          5.1234,
          3.0679,
          2.9996,
          1.9509,
          4.0194,
          4.0099,
          3.4546,
          3.8118,
          3.2376,
          4.1944,
          5.4036,
          3.2313,
          3.8892,
          3.2323,
          3.9504,
          3.1885,
          4.7346,
          2.9052,
          3.5469999999999997,
          2.6983,
          2.4146,
          4.9397,
          2.2565,
          4.0139,
          3.1131,
          3.4664,
          3.0007,
          3.8112,
          3.984,
          4.2473,
          2.7563
         ],
         "yaxis": "y"
        },
        {
         "customdata": [
          [
           "Algeria"
          ],
          [
           "Benin"
          ],
          [
           "Botswana"
          ],
          [
           "Burkina Faso"
          ],
          [
           "Burundi"
          ],
          [
           "Chad"
          ],
          [
           "Comoros"
          ],
          [
           "Democratic Republic of Congo"
          ],
          [
           "Egypt"
          ],
          [
           "Eswatini"
          ],
          [
           "Ethiopia"
          ],
          [
           "Gabon"
          ],
          [
           "Ghana"
          ],
          [
           "Guinea"
          ],
          [
           "Guinea-Bissau"
          ],
          [
           "Malawi"
          ],
          [
           "Mali"
          ],
          [
           "Mauritius"
          ],
          [
           "Mozambique"
          ],
          [
           "Niger"
          ],
          [
           "Nigeria"
          ],
          [
           "Rwanda"
          ],
          [
           "Senegal"
          ],
          [
           "Seychelles"
          ],
          [
           "South Africa"
          ],
          [
           "Tanzania"
          ],
          [
           "Togo"
          ],
          [
           "Tunisia"
          ],
          [
           "Zambia"
          ],
          [
           "Zimbabwe"
          ]
         ],
         "hovertemplate": "Continent=Africa<br>GDP per capita ($)=%{x}<br>Medical doctors (per 1,000 people)=%{y}<br>Entity=%{customdata[0]}<extra></extra>",
         "legendgroup": "Africa",
         "marker": {
          "color": "#00cc96",
          "symbol": "circle"
         },
         "mode": "markers",
         "name": "Africa",
         "orientation": "v",
         "showlegend": true,
         "type": "scatter",
         "x": [
          11826.1664161029,
          2961.4404159762,
          17117.272788253,
          1981.429813531,
          794.60427137057,
          1687.05356916322,
          2987.97027465784,
          1055.57291467758,
          10795.8087418385,
          8321.03191383719,
          1894.89736397042,
          15359.740396366598,
          4712.51435451414,
          2253.4776825851,
          1864.2630351807898,
          1428.4239172607402,
          2198.5603811900896,
          20646.9330000973,
          1273.78363325041,
          1151.65787379293,
          5284.8932279969395,
          1950.52626543078,
          3067.66557684345,
          26309.6859033258,
          12702.9170758026,
          2441.63694514804,
          1976.80779349156,
          10524.9135954983,
          3467.8874478279304,
          3173.6108286295503
         ],
         "xaxis": "x",
         "y": [
          1.8325,
          0.0481,
          0.5269,
          0.0645,
          0.05,
          0.0471,
          0.2715,
          0.07400000000000001,
          0.8214,
          0.3285,
          0.0464,
          0.3561,
          0.127,
          0.0832,
          0.1274,
          0.0165,
          0.1395,
          2.1943,
          0.0497,
          0.0433,
          0.4494,
          0.1226,
          0.0711,
          2.1212,
          0.7997,
          0.013999999999999999,
          0.0128,
          1.2834,
          0.1628,
          0.1788
         ],
         "yaxis": "y"
        },
        {
         "customdata": [
          [
           "Argentina"
          ],
          [
           "Bolivia"
          ],
          [
           "Chile"
          ],
          [
           "Colombia"
          ],
          [
           "Ecuador"
          ],
          [
           "Peru"
          ],
          [
           "Suriname"
          ],
          [
           "Uruguay"
          ]
         ],
         "hovertemplate": "Continent=South America<br>GDP per capita ($)=%{x}<br>Medical doctors (per 1,000 people)=%{y}<br>Entity=%{customdata[0]}<extra></extra>",
         "legendgroup": "South America",
         "marker": {
          "color": "#ab63fa",
          "symbol": "circle"
         },
         "mode": "markers",
         "name": "South America",
         "orientation": "v",
         "showlegend": true,
         "type": "scatter",
         "x": [
          23189.5274451329,
          8202.54423164277,
          24531.3577390249,
          14194.515663803,
          11551.6159731776,
          12403.687141686201,
          18180.6026123974,
          22724.0221342831
         ],
         "xaxis": "x",
         "y": [
          4.0013,
          1.5901,
          2.2937,
          2.0335,
          2.0368,
          1.3048,
          1.1312,
          3.9558
         ],
         "yaxis": "y"
        },
        {
         "customdata": [
          [
           "Australia"
          ],
          [
           "New Zealand"
          ],
          [
           "Samoa"
          ],
          [
           "Solomon Islands"
          ],
          [
           "Vanuatu"
          ]
         ],
         "hovertemplate": "Continent=Oceania<br>GDP per capita ($)=%{x}<br>Medical doctors (per 1,000 people)=%{y}<br>Entity=%{customdata[0]}<extra></extra>",
         "legendgroup": "Oceania",
         "marker": {
          "color": "#FFA15A",
          "symbol": "circle"
         },
         "mode": "markers",
         "name": "Oceania",
         "orientation": "v",
         "showlegend": true,
         "type": "scatter",
         "x": [
          48197.43118917401,
          41672.1012399483,
          6440.79742169426,
          2596.54593765104,
          2973.46761331833
         ],
         "xaxis": "x",
         "y": [
          3.5672,
          3.3833,
          0.3445,
          0.1937,
          0.1653
         ],
         "yaxis": "y"
        },
        {
         "customdata": [
          [
           "Canada"
          ],
          [
           "Costa Rica"
          ],
          [
           "El Salvador"
          ],
          [
           "Honduras"
          ],
          [
           "Jamaica"
          ],
          [
           "Mexico"
          ],
          [
           "Nicaragua"
          ],
          [
           "Panama"
          ],
          [
           "United States"
          ]
         ],
         "hovertemplate": "Continent=North America<br>GDP per capita ($)=%{x}<br>Medical doctors (per 1,000 people)=%{y}<br>Entity=%{customdata[0]}<extra></extra>",
         "legendgroup": "North America",
         "marker": {
          "color": "#19d3f3",
          "symbol": "circle"
         },
         "mode": "markers",
         "name": "North America",
         "orientation": "v",
         "showlegend": true,
         "type": "scatter",
         "x": [
          47457.5853457244,
          19736.6653042295,
          8309.44179938698,
          5395.61455082235,
          9553.09619583089,
          19539.2612488443,
          5811.8830583031895,
          29332.414539356803,
          59112.2422096532
         ],
         "xaxis": "x",
         "y": [
          2.3105,
          1.3759,
          1.5662,
          0.5982,
          0.4549,
          2.3244,
          0.9537,
          1.5687,
          2.5881
         ],
         "yaxis": "y"
        },
        {
         "hovertemplate": "<b>OLS trendline</b><br>Physicians (per 1,000 people) = 2.29521 * log10(GDP per capita, PPP (constant 2017 international $)) + -7.58204<br>R<sup>2</sup>=0.630785<br><br>GDP per capita ($)=%{x}<br>Medical doctors (per 1,000 people)=%{y} <b>(trend)</b><extra></extra>",
         "legendgroup": "Overall Trendline",
         "line": {
          "color": "black"
         },
         "mode": "lines",
         "name": "Overall Trendline",
         "showlegend": true,
         "type": "scatter",
         "x": [
          794.60427137057,
          1055.57291467758,
          1151.65787379293,
          1273.78363325041,
          1428.4239172607402,
          1687.05356916322,
          1864.2630351807898,
          1894.89736397042,
          1950.52626543078,
          1976.80779349156,
          1981.429813531,
          2057.06797755329,
          2198.5603811900896,
          2253.4776825851,
          2441.63694514804,
          2596.54593765104,
          2961.4404159762,
          2973.46761331833,
          2987.97027465784,
          3067.66557684345,
          3173.6108286295503,
          3467.8874478279304,
          3920.1445072358297,
          4421.581929297229,
          4482.92679957997,
          4712.51435451414,
          5284.8932279969395,
          5395.61455082235,
          5811.8830583031895,
          5851.3948804932,
          6440.79742169426,
          6767.7788320975205,
          8202.54423164277,
          8309.44179938698,
          8321.03191383719,
          9553.09619583089,
          10036.5436154339,
          10524.9135954983,
          10775.1903107625,
          10795.8087418385,
          10940.4186480461,
          11191.1150421081,
          11551.6159731776,
          11826.1664161029,
          12287.4730695098,
          12291.8733773928,
          12403.687141686201,
          12702.9170758026,
          12963.7439586374,
          13487.8224816787,
          14194.515663803,
          15359.740396366598,
          16100.9227973306,
          16182.8216850199,
          16782.0986705337,
          17117.272788253,
          17584.1475352396,
          18180.6026123974,
          19539.2612488443,
          19736.6653042295,
          20646.9330000973,
          22724.0221342831,
          23189.5274451329,
          24531.3577390249,
          25145.0133479761,
          25490.708257464103,
          25599.8436234435,
          26309.6859033258,
          26385.001938334302,
          27503.1773004104,
          28170.8213622975,
          28226.907278441402,
          28682.6939326326,
          29250.1180428621,
          29332.414539356803,
          30184.870158771402,
          31847.5377347647,
          31925.8034212317,
          32130.3008763844,
          34858.5119502257,
          36523.7332079973,
          37014.9592935816,
          38234.7244825066,
          38477.5791805612,
          39814.658927928904,
          40031.270764058,
          40837.7376281437,
          41672.1012399483,
          43705.1475593257,
          45268.7304537314,
          46206.78781304941,
          47457.5853457244,
          48197.43118917401,
          48625.8438167915,
          49828.9629137518,
          51334.4320301641,
          51803.2354226767,
          53269.3062047537,
          53847.8265545448,
          54185.0084787703,
          54665.7639158138,
          59112.2422096532,
          63104.100394726906,
          66510.9029855157,
          68663.2438230835,
          72864.4891443774,
          91307.5036202199,
          95601.8073141158,
          113035.834714458
         ],
         "xaxis": "x",
         "y": [
          -0.9255769438469317,
          -0.6424913570189963,
          -0.5556513798499587,
          -0.4551848553336777,
          -0.3409716846103539,
          -0.17509253521120183,
          -0.07553002148890364,
          -0.0592833423321899,
          -0.030441428913387192,
          -0.01710017256497043,
          -0.014772254779297,
          0.022570761652361604,
          0.08887892742679604,
          0.1134718320680479,
          0.19340914428303613,
          0.2547256069427375,
          0.38579836260539313,
          0.3898384291248078,
          0.3946883540569335,
          0.4209266437584791,
          0.4547710794736286,
          0.5431628077377049,
          0.6653533017259043,
          0.7853369870501083,
          0.7990714801946979,
          0.8488570541943581,
          0.9631209090263653,
          0.9837886210237912,
          1.0578688310385456,
          1.0646225902471684,
          1.1602876401392148,
          1.2096496996480859,
          1.401305624504559,
          1.4142122306164442,
          1.4156016093669113,
          1.5532386186714913,
          1.6024480633517033,
          1.649808340556742,
          1.673234235427227,
          1.675139796908411,
          1.6884032852804172,
          1.710986857051168,
          1.7425905352793585,
          1.766004571304487,
          1.8041477973327655,
          1.8045047003469268,
          1.8135311471296713,
          1.8372927155179735,
          1.8575525271823032,
          1.8970563642045963,
          1.9479613102507614,
          2.0266029069854863,
          2.073578802799622,
          2.0786362634377937,
          2.114882331003784,
          2.134594320511349,
          2.1614179052348312,
          2.194668566755343,
          2.266508453863068,
          2.2765285241006286,
          2.3214728801604796,
          2.417021844466042,
          2.43723509365217,
          2.4933064517467276,
          2.517934750628884,
          2.531545442621354,
          2.535804005395086,
          2.5630673617835296,
          2.565916794364858,
          2.6072897195482643,
          2.631198139376222,
          2.6331807152894253,
          2.649147696924784,
          2.668674652676305,
          2.671475251921965,
          2.7000311515130644,
          2.7534787626534136,
          2.755925401819491,
          2.762289931824526,
          2.843526851728347,
          2.8900423867877603,
          2.9033594804516287,
          2.9356776737754835,
          2.9419889968640174,
          2.9760390902612173,
          2.981447479559332,
          3.001329306320075,
          3.0214898341403202,
          3.0689713638349545,
          3.104009466557123,
          3.1244540006516015,
          3.151078158562557,
          3.16649798996332,
          3.1753190912088236,
          3.1996820927641796,
          3.229352123467299,
          3.238413911707381,
          3.266232261545353,
          3.2769994273578824,
          3.283221676542146,
          3.292026750151681,
          3.3699768322222585,
          3.4351153404477603,
          3.487527156918823,
          3.519273345601345,
          3.578470602735388,
          3.803379865928177,
          3.849191494369986,
          4.016168406763393
         ],
         "yaxis": "y"
        }
       ],
       "layout": {
        "legend": {
         "title": {
          "text": "Continent"
         },
         "tracegroupgap": 0
        },
        "template": {
         "data": {
          "bar": [
           {
            "error_x": {
             "color": "#2a3f5f"
            },
            "error_y": {
             "color": "#2a3f5f"
            },
            "marker": {
             "line": {
              "color": "#E5ECF6",
              "width": 0.5
             },
             "pattern": {
              "fillmode": "overlay",
              "size": 10,
              "solidity": 0.2
             }
            },
            "type": "bar"
           }
          ],
          "barpolar": [
           {
            "marker": {
             "line": {
              "color": "#E5ECF6",
              "width": 0.5
             },
             "pattern": {
              "fillmode": "overlay",
              "size": 10,
              "solidity": 0.2
             }
            },
            "type": "barpolar"
           }
          ],
          "carpet": [
           {
            "aaxis": {
             "endlinecolor": "#2a3f5f",
             "gridcolor": "white",
             "linecolor": "white",
             "minorgridcolor": "white",
             "startlinecolor": "#2a3f5f"
            },
            "baxis": {
             "endlinecolor": "#2a3f5f",
             "gridcolor": "white",
             "linecolor": "white",
             "minorgridcolor": "white",
             "startlinecolor": "#2a3f5f"
            },
            "type": "carpet"
           }
          ],
          "choropleth": [
           {
            "colorbar": {
             "outlinewidth": 0,
             "ticks": ""
            },
            "type": "choropleth"
           }
          ],
          "contour": [
           {
            "colorbar": {
             "outlinewidth": 0,
             "ticks": ""
            },
            "colorscale": [
             [
              0,
              "#0d0887"
             ],
             [
              0.1111111111111111,
              "#46039f"
             ],
             [
              0.2222222222222222,
              "#7201a8"
             ],
             [
              0.3333333333333333,
              "#9c179e"
             ],
             [
              0.4444444444444444,
              "#bd3786"
             ],
             [
              0.5555555555555556,
              "#d8576b"
             ],
             [
              0.6666666666666666,
              "#ed7953"
             ],
             [
              0.7777777777777778,
              "#fb9f3a"
             ],
             [
              0.8888888888888888,
              "#fdca26"
             ],
             [
              1,
              "#f0f921"
             ]
            ],
            "type": "contour"
           }
          ],
          "contourcarpet": [
           {
            "colorbar": {
             "outlinewidth": 0,
             "ticks": ""
            },
            "type": "contourcarpet"
           }
          ],
          "heatmap": [
           {
            "colorbar": {
             "outlinewidth": 0,
             "ticks": ""
            },
            "colorscale": [
             [
              0,
              "#0d0887"
             ],
             [
              0.1111111111111111,
              "#46039f"
             ],
             [
              0.2222222222222222,
              "#7201a8"
             ],
             [
              0.3333333333333333,
              "#9c179e"
             ],
             [
              0.4444444444444444,
              "#bd3786"
             ],
             [
              0.5555555555555556,
              "#d8576b"
             ],
             [
              0.6666666666666666,
              "#ed7953"
             ],
             [
              0.7777777777777778,
              "#fb9f3a"
             ],
             [
              0.8888888888888888,
              "#fdca26"
             ],
             [
              1,
              "#f0f921"
             ]
            ],
            "type": "heatmap"
           }
          ],
          "heatmapgl": [
           {
            "colorbar": {
             "outlinewidth": 0,
             "ticks": ""
            },
            "colorscale": [
             [
              0,
              "#0d0887"
             ],
             [
              0.1111111111111111,
              "#46039f"
             ],
             [
              0.2222222222222222,
              "#7201a8"
             ],
             [
              0.3333333333333333,
              "#9c179e"
             ],
             [
              0.4444444444444444,
              "#bd3786"
             ],
             [
              0.5555555555555556,
              "#d8576b"
             ],
             [
              0.6666666666666666,
              "#ed7953"
             ],
             [
              0.7777777777777778,
              "#fb9f3a"
             ],
             [
              0.8888888888888888,
              "#fdca26"
             ],
             [
              1,
              "#f0f921"
             ]
            ],
            "type": "heatmapgl"
           }
          ],
          "histogram": [
           {
            "marker": {
             "pattern": {
              "fillmode": "overlay",
              "size": 10,
              "solidity": 0.2
             }
            },
            "type": "histogram"
           }
          ],
          "histogram2d": [
           {
            "colorbar": {
             "outlinewidth": 0,
             "ticks": ""
            },
            "colorscale": [
             [
              0,
              "#0d0887"
             ],
             [
              0.1111111111111111,
              "#46039f"
             ],
             [
              0.2222222222222222,
              "#7201a8"
             ],
             [
              0.3333333333333333,
              "#9c179e"
             ],
             [
              0.4444444444444444,
              "#bd3786"
             ],
             [
              0.5555555555555556,
              "#d8576b"
             ],
             [
              0.6666666666666666,
              "#ed7953"
             ],
             [
              0.7777777777777778,
              "#fb9f3a"
             ],
             [
              0.8888888888888888,
              "#fdca26"
             ],
             [
              1,
              "#f0f921"
             ]
            ],
            "type": "histogram2d"
           }
          ],
          "histogram2dcontour": [
           {
            "colorbar": {
             "outlinewidth": 0,
             "ticks": ""
            },
            "colorscale": [
             [
              0,
              "#0d0887"
             ],
             [
              0.1111111111111111,
              "#46039f"
             ],
             [
              0.2222222222222222,
              "#7201a8"
             ],
             [
              0.3333333333333333,
              "#9c179e"
             ],
             [
              0.4444444444444444,
              "#bd3786"
             ],
             [
              0.5555555555555556,
              "#d8576b"
             ],
             [
              0.6666666666666666,
              "#ed7953"
             ],
             [
              0.7777777777777778,
              "#fb9f3a"
             ],
             [
              0.8888888888888888,
              "#fdca26"
             ],
             [
              1,
              "#f0f921"
             ]
            ],
            "type": "histogram2dcontour"
           }
          ],
          "mesh3d": [
           {
            "colorbar": {
             "outlinewidth": 0,
             "ticks": ""
            },
            "type": "mesh3d"
           }
          ],
          "parcoords": [
           {
            "line": {
             "colorbar": {
              "outlinewidth": 0,
              "ticks": ""
             }
            },
            "type": "parcoords"
           }
          ],
          "pie": [
           {
            "automargin": true,
            "type": "pie"
           }
          ],
          "scatter": [
           {
            "marker": {
             "colorbar": {
              "outlinewidth": 0,
              "ticks": ""
             }
            },
            "type": "scatter"
           }
          ],
          "scatter3d": [
           {
            "line": {
             "colorbar": {
              "outlinewidth": 0,
              "ticks": ""
             }
            },
            "marker": {
             "colorbar": {
              "outlinewidth": 0,
              "ticks": ""
             }
            },
            "type": "scatter3d"
           }
          ],
          "scattercarpet": [
           {
            "marker": {
             "colorbar": {
              "outlinewidth": 0,
              "ticks": ""
             }
            },
            "type": "scattercarpet"
           }
          ],
          "scattergeo": [
           {
            "marker": {
             "colorbar": {
              "outlinewidth": 0,
              "ticks": ""
             }
            },
            "type": "scattergeo"
           }
          ],
          "scattergl": [
           {
            "marker": {
             "colorbar": {
              "outlinewidth": 0,
              "ticks": ""
             }
            },
            "type": "scattergl"
           }
          ],
          "scattermapbox": [
           {
            "marker": {
             "colorbar": {
              "outlinewidth": 0,
              "ticks": ""
             }
            },
            "type": "scattermapbox"
           }
          ],
          "scatterpolar": [
           {
            "marker": {
             "colorbar": {
              "outlinewidth": 0,
              "ticks": ""
             }
            },
            "type": "scatterpolar"
           }
          ],
          "scatterpolargl": [
           {
            "marker": {
             "colorbar": {
              "outlinewidth": 0,
              "ticks": ""
             }
            },
            "type": "scatterpolargl"
           }
          ],
          "scatterternary": [
           {
            "marker": {
             "colorbar": {
              "outlinewidth": 0,
              "ticks": ""
             }
            },
            "type": "scatterternary"
           }
          ],
          "surface": [
           {
            "colorbar": {
             "outlinewidth": 0,
             "ticks": ""
            },
            "colorscale": [
             [
              0,
              "#0d0887"
             ],
             [
              0.1111111111111111,
              "#46039f"
             ],
             [
              0.2222222222222222,
              "#7201a8"
             ],
             [
              0.3333333333333333,
              "#9c179e"
             ],
             [
              0.4444444444444444,
              "#bd3786"
             ],
             [
              0.5555555555555556,
              "#d8576b"
             ],
             [
              0.6666666666666666,
              "#ed7953"
             ],
             [
              0.7777777777777778,
              "#fb9f3a"
             ],
             [
              0.8888888888888888,
              "#fdca26"
             ],
             [
              1,
              "#f0f921"
             ]
            ],
            "type": "surface"
           }
          ],
          "table": [
           {
            "cells": {
             "fill": {
              "color": "#EBF0F8"
             },
             "line": {
              "color": "white"
             }
            },
            "header": {
             "fill": {
              "color": "#C8D4E3"
             },
             "line": {
              "color": "white"
             }
            },
            "type": "table"
           }
          ]
         },
         "layout": {
          "annotationdefaults": {
           "arrowcolor": "#2a3f5f",
           "arrowhead": 0,
           "arrowwidth": 1
          },
          "autotypenumbers": "strict",
          "coloraxis": {
           "colorbar": {
            "outlinewidth": 0,
            "ticks": ""
           }
          },
          "colorscale": {
           "diverging": [
            [
             0,
             "#8e0152"
            ],
            [
             0.1,
             "#c51b7d"
            ],
            [
             0.2,
             "#de77ae"
            ],
            [
             0.3,
             "#f1b6da"
            ],
            [
             0.4,
             "#fde0ef"
            ],
            [
             0.5,
             "#f7f7f7"
            ],
            [
             0.6,
             "#e6f5d0"
            ],
            [
             0.7,
             "#b8e186"
            ],
            [
             0.8,
             "#7fbc41"
            ],
            [
             0.9,
             "#4d9221"
            ],
            [
             1,
             "#276419"
            ]
           ],
           "sequential": [
            [
             0,
             "#0d0887"
            ],
            [
             0.1111111111111111,
             "#46039f"
            ],
            [
             0.2222222222222222,
             "#7201a8"
            ],
            [
             0.3333333333333333,
             "#9c179e"
            ],
            [
             0.4444444444444444,
             "#bd3786"
            ],
            [
             0.5555555555555556,
             "#d8576b"
            ],
            [
             0.6666666666666666,
             "#ed7953"
            ],
            [
             0.7777777777777778,
             "#fb9f3a"
            ],
            [
             0.8888888888888888,
             "#fdca26"
            ],
            [
             1,
             "#f0f921"
            ]
           ],
           "sequentialminus": [
            [
             0,
             "#0d0887"
            ],
            [
             0.1111111111111111,
             "#46039f"
            ],
            [
             0.2222222222222222,
             "#7201a8"
            ],
            [
             0.3333333333333333,
             "#9c179e"
            ],
            [
             0.4444444444444444,
             "#bd3786"
            ],
            [
             0.5555555555555556,
             "#d8576b"
            ],
            [
             0.6666666666666666,
             "#ed7953"
            ],
            [
             0.7777777777777778,
             "#fb9f3a"
            ],
            [
             0.8888888888888888,
             "#fdca26"
            ],
            [
             1,
             "#f0f921"
            ]
           ]
          },
          "colorway": [
           "#636efa",
           "#EF553B",
           "#00cc96",
           "#ab63fa",
           "#FFA15A",
           "#19d3f3",
           "#FF6692",
           "#B6E880",
           "#FF97FF",
           "#FECB52"
          ],
          "font": {
           "color": "#2a3f5f"
          },
          "geo": {
           "bgcolor": "white",
           "lakecolor": "white",
           "landcolor": "#E5ECF6",
           "showlakes": true,
           "showland": true,
           "subunitcolor": "white"
          },
          "hoverlabel": {
           "align": "left"
          },
          "hovermode": "closest",
          "mapbox": {
           "style": "light"
          },
          "paper_bgcolor": "white",
          "plot_bgcolor": "#E5ECF6",
          "polar": {
           "angularaxis": {
            "gridcolor": "white",
            "linecolor": "white",
            "ticks": ""
           },
           "bgcolor": "#E5ECF6",
           "radialaxis": {
            "gridcolor": "white",
            "linecolor": "white",
            "ticks": ""
           }
          },
          "scene": {
           "xaxis": {
            "backgroundcolor": "#E5ECF6",
            "gridcolor": "white",
            "gridwidth": 2,
            "linecolor": "white",
            "showbackground": true,
            "ticks": "",
            "zerolinecolor": "white"
           },
           "yaxis": {
            "backgroundcolor": "#E5ECF6",
            "gridcolor": "white",
            "gridwidth": 2,
            "linecolor": "white",
            "showbackground": true,
            "ticks": "",
            "zerolinecolor": "white"
           },
           "zaxis": {
            "backgroundcolor": "#E5ECF6",
            "gridcolor": "white",
            "gridwidth": 2,
            "linecolor": "white",
            "showbackground": true,
            "ticks": "",
            "zerolinecolor": "white"
           }
          },
          "shapedefaults": {
           "line": {
            "color": "#2a3f5f"
           }
          },
          "ternary": {
           "aaxis": {
            "gridcolor": "white",
            "linecolor": "white",
            "ticks": ""
           },
           "baxis": {
            "gridcolor": "white",
            "linecolor": "white",
            "ticks": ""
           },
           "bgcolor": "#E5ECF6",
           "caxis": {
            "gridcolor": "white",
            "linecolor": "white",
            "ticks": ""
           }
          },
          "title": {
           "x": 0.05
          },
          "xaxis": {
           "automargin": true,
           "gridcolor": "white",
           "linecolor": "white",
           "ticks": "",
           "title": {
            "standoff": 15
           },
           "zerolinecolor": "white",
           "zerolinewidth": 2
          },
          "yaxis": {
           "automargin": true,
           "gridcolor": "white",
           "linecolor": "white",
           "ticks": "",
           "title": {
            "standoff": 15
           },
           "zerolinecolor": "white",
           "zerolinewidth": 2
          }
         }
        },
        "title": {
         "text": "Medical doctors per 1000 people vs. GDP per capita, 2016"
        },
        "xaxis": {
         "anchor": "y",
         "domain": [
          0,
          1
         ],
         "range": [
          2.8417374496153496,
          5.0900316199935505
         ],
         "title": {
          "text": "GDP per capita ($)"
         },
         "type": "log"
        },
        "yaxis": {
         "anchor": "x",
         "domain": [
          0,
          1
         ],
         "range": [
          -0.9872,
          6.9973
         ],
         "title": {
          "text": "Medical doctors (per 1,000 people)"
         }
        }
       }
      },
      "text/html": [
       "<div>                            <div id=\"18912962-3606-46f7-bd61-7f265476e72d\" class=\"plotly-graph-div\" style=\"height:525px; width:100%;\"></div>            <script type=\"text/javascript\">                require([\"plotly\"], function(Plotly) {                    window.PLOTLYENV=window.PLOTLYENV || {};                                    if (document.getElementById(\"18912962-3606-46f7-bd61-7f265476e72d\")) {                    Plotly.newPlot(                        \"18912962-3606-46f7-bd61-7f265476e72d\",                        [{\"customdata\":[[\"Afghanistan\"],[\"Bangladesh\"],[\"Bhutan\"],[\"China\"],[\"Georgia\"],[\"India\"],[\"Iraq\"],[\"Israel\"],[\"Japan\"],[\"Jordan\"],[\"Lebanon\"],[\"Maldives\"],[\"Mongolia\"],[\"Myanmar\"],[\"Oman\"],[\"Pakistan\"],[\"Qatar\"],[\"Saudi Arabia\"],[\"Singapore\"],[\"South Korea\"],[\"Sri Lanka\"],[\"Thailand\"],[\"Turkey\"],[\"United Arab Emirates\"],[\"Vietnam\"]],\"hovertemplate\":\"Continent=Asia<br>GDP per capita ($)=%{x}<br>Medical doctors (per 1,000 people)=%{y}<br>Entity=%{customdata[0]}<extra></extra>\",\"legendgroup\":\"Asia\",\"marker\":{\"color\":\"#636efa\",\"symbol\":\"circle\"},\"mode\":\"markers\",\"name\":\"Asia\",\"orientation\":\"v\",\"showlegend\":true,\"x\":[2057.06797755329,3920.1445072358297,10775.1903107625,13487.8224816787,12963.7439586374,5851.3948804932,11191.1150421081,38234.7244825066,40031.270764058,10036.5436154339,16100.9227973306,17584.1475352396,10940.4186480461,4482.92679957997,30184.870158771402,4421.581929297229,95601.8073141158,48625.8438167915,91307.5036202199,39814.658927928904,12287.4730695098,16782.0986705337,26385.001938334302,66510.9029855157,6767.7788320975205],\"xaxis\":\"x\",\"y\":[0.2782,0.4974,0.4059,1.8647,5.9973,0.759,0.8536,3.4632,2.4115,1.3954,2.0115,1.0379,2.8592,0.6195,1.9249,0.9620000000000001,2.6944,2.3776,2.2936,2.3037,0.8925,0.445,1.8142,2.371,0.8281],\"yaxis\":\"y\",\"type\":\"scatter\"},{\"customdata\":[[\"Albania\"],[\"Austria\"],[\"Belgium\"],[\"Croatia\"],[\"Cyprus\"],[\"Czechia\"],[\"Denmark\"],[\"Estonia\"],[\"Finland\"],[\"France\"],[\"Germany\"],[\"Greece\"],[\"Hungary\"],[\"Iceland\"],[\"Ireland\"],[\"Italy\"],[\"Latvia\"],[\"Lithuania\"],[\"Luxembourg\"],[\"Netherlands\"],[\"Norway\"],[\"Poland\"],[\"Portugal\"],[\"Romania\"],[\"Russia\"],[\"Serbia\"],[\"Slovakia\"],[\"Slovenia\"],[\"Spain\"],[\"Sweden\"],[\"Switzerland\"],[\"United Kingdom\"]],\"hovertemplate\":\"Continent=Europe<br>GDP per capita ($)=%{x}<br>Medical doctors (per 1,000 people)=%{y}<br>Entity=%{customdata[0]}<extra></extra>\",\"legendgroup\":\"Europe\",\"marker\":{\"color\":\"#EF553B\",\"symbol\":\"circle\"},\"mode\":\"markers\",\"name\":\"Europe\",\"orientation\":\"v\",\"showlegend\":true,\"x\":[12291.8733773928,53269.3062047537,49828.9629137518,25599.8436234435,36523.7332079973,37014.9592935816,54185.0084787703,32130.3008763844,46206.78781304941,43705.1475593257,51803.2354226767,28226.907278441402,28170.8213622975,54665.7639158138,72864.4891443774,40837.7376281437,27503.1773004104,31925.8034212317,113035.834714458,53847.8265545448,63104.100394726906,28682.6939326326,31847.5377347647,25145.0133479761,25490.708257464103,16182.8216850199,29250.1180428621,34858.5119502257,38477.5791805612,51334.4320301641,68663.2438230835,45268.7304537314],\"xaxis\":\"x\",\"y\":[1.2164,5.1234,3.0679,2.9996,1.9509,4.0194,4.0099,3.4546,3.8118,3.2376,4.1944,5.4036,3.2313,3.8892,3.2323,3.9504,3.1885,4.7346,2.9052,3.5469999999999997,2.6983,2.4146,4.9397,2.2565,4.0139,3.1131,3.4664,3.0007,3.8112,3.984,4.2473,2.7563],\"yaxis\":\"y\",\"type\":\"scatter\"},{\"customdata\":[[\"Algeria\"],[\"Benin\"],[\"Botswana\"],[\"Burkina Faso\"],[\"Burundi\"],[\"Chad\"],[\"Comoros\"],[\"Democratic Republic of Congo\"],[\"Egypt\"],[\"Eswatini\"],[\"Ethiopia\"],[\"Gabon\"],[\"Ghana\"],[\"Guinea\"],[\"Guinea-Bissau\"],[\"Malawi\"],[\"Mali\"],[\"Mauritius\"],[\"Mozambique\"],[\"Niger\"],[\"Nigeria\"],[\"Rwanda\"],[\"Senegal\"],[\"Seychelles\"],[\"South Africa\"],[\"Tanzania\"],[\"Togo\"],[\"Tunisia\"],[\"Zambia\"],[\"Zimbabwe\"]],\"hovertemplate\":\"Continent=Africa<br>GDP per capita ($)=%{x}<br>Medical doctors (per 1,000 people)=%{y}<br>Entity=%{customdata[0]}<extra></extra>\",\"legendgroup\":\"Africa\",\"marker\":{\"color\":\"#00cc96\",\"symbol\":\"circle\"},\"mode\":\"markers\",\"name\":\"Africa\",\"orientation\":\"v\",\"showlegend\":true,\"x\":[11826.1664161029,2961.4404159762,17117.272788253,1981.429813531,794.60427137057,1687.05356916322,2987.97027465784,1055.57291467758,10795.8087418385,8321.03191383719,1894.89736397042,15359.740396366598,4712.51435451414,2253.4776825851,1864.2630351807898,1428.4239172607402,2198.5603811900896,20646.9330000973,1273.78363325041,1151.65787379293,5284.8932279969395,1950.52626543078,3067.66557684345,26309.6859033258,12702.9170758026,2441.63694514804,1976.80779349156,10524.9135954983,3467.8874478279304,3173.6108286295503],\"xaxis\":\"x\",\"y\":[1.8325,0.0481,0.5269,0.0645,0.05,0.0471,0.2715,0.07400000000000001,0.8214,0.3285,0.0464,0.3561,0.127,0.0832,0.1274,0.0165,0.1395,2.1943,0.0497,0.0433,0.4494,0.1226,0.0711,2.1212,0.7997,0.013999999999999999,0.0128,1.2834,0.1628,0.1788],\"yaxis\":\"y\",\"type\":\"scatter\"},{\"customdata\":[[\"Argentina\"],[\"Bolivia\"],[\"Chile\"],[\"Colombia\"],[\"Ecuador\"],[\"Peru\"],[\"Suriname\"],[\"Uruguay\"]],\"hovertemplate\":\"Continent=South America<br>GDP per capita ($)=%{x}<br>Medical doctors (per 1,000 people)=%{y}<br>Entity=%{customdata[0]}<extra></extra>\",\"legendgroup\":\"South America\",\"marker\":{\"color\":\"#ab63fa\",\"symbol\":\"circle\"},\"mode\":\"markers\",\"name\":\"South America\",\"orientation\":\"v\",\"showlegend\":true,\"x\":[23189.5274451329,8202.54423164277,24531.3577390249,14194.515663803,11551.6159731776,12403.687141686201,18180.6026123974,22724.0221342831],\"xaxis\":\"x\",\"y\":[4.0013,1.5901,2.2937,2.0335,2.0368,1.3048,1.1312,3.9558],\"yaxis\":\"y\",\"type\":\"scatter\"},{\"customdata\":[[\"Australia\"],[\"New Zealand\"],[\"Samoa\"],[\"Solomon Islands\"],[\"Vanuatu\"]],\"hovertemplate\":\"Continent=Oceania<br>GDP per capita ($)=%{x}<br>Medical doctors (per 1,000 people)=%{y}<br>Entity=%{customdata[0]}<extra></extra>\",\"legendgroup\":\"Oceania\",\"marker\":{\"color\":\"#FFA15A\",\"symbol\":\"circle\"},\"mode\":\"markers\",\"name\":\"Oceania\",\"orientation\":\"v\",\"showlegend\":true,\"x\":[48197.43118917401,41672.1012399483,6440.79742169426,2596.54593765104,2973.46761331833],\"xaxis\":\"x\",\"y\":[3.5672,3.3833,0.3445,0.1937,0.1653],\"yaxis\":\"y\",\"type\":\"scatter\"},{\"customdata\":[[\"Canada\"],[\"Costa Rica\"],[\"El Salvador\"],[\"Honduras\"],[\"Jamaica\"],[\"Mexico\"],[\"Nicaragua\"],[\"Panama\"],[\"United States\"]],\"hovertemplate\":\"Continent=North America<br>GDP per capita ($)=%{x}<br>Medical doctors (per 1,000 people)=%{y}<br>Entity=%{customdata[0]}<extra></extra>\",\"legendgroup\":\"North America\",\"marker\":{\"color\":\"#19d3f3\",\"symbol\":\"circle\"},\"mode\":\"markers\",\"name\":\"North America\",\"orientation\":\"v\",\"showlegend\":true,\"x\":[47457.5853457244,19736.6653042295,8309.44179938698,5395.61455082235,9553.09619583089,19539.2612488443,5811.8830583031895,29332.414539356803,59112.2422096532],\"xaxis\":\"x\",\"y\":[2.3105,1.3759,1.5662,0.5982,0.4549,2.3244,0.9537,1.5687,2.5881],\"yaxis\":\"y\",\"type\":\"scatter\"},{\"hovertemplate\":\"<b>OLS trendline</b><br>Physicians (per 1,000 people) = 2.29521 * log10(GDP per capita, PPP (constant 2017 international $)) + -7.58204<br>R<sup>2</sup>=0.630785<br><br>GDP per capita ($)=%{x}<br>Medical doctors (per 1,000 people)=%{y} <b>(trend)</b><extra></extra>\",\"legendgroup\":\"Overall Trendline\",\"line\":{\"color\":\"black\"},\"mode\":\"lines\",\"name\":\"Overall Trendline\",\"showlegend\":true,\"x\":[794.60427137057,1055.57291467758,1151.65787379293,1273.78363325041,1428.4239172607402,1687.05356916322,1864.2630351807898,1894.89736397042,1950.52626543078,1976.80779349156,1981.429813531,2057.06797755329,2198.5603811900896,2253.4776825851,2441.63694514804,2596.54593765104,2961.4404159762,2973.46761331833,2987.97027465784,3067.66557684345,3173.6108286295503,3467.8874478279304,3920.1445072358297,4421.581929297229,4482.92679957997,4712.51435451414,5284.8932279969395,5395.61455082235,5811.8830583031895,5851.3948804932,6440.79742169426,6767.7788320975205,8202.54423164277,8309.44179938698,8321.03191383719,9553.09619583089,10036.5436154339,10524.9135954983,10775.1903107625,10795.8087418385,10940.4186480461,11191.1150421081,11551.6159731776,11826.1664161029,12287.4730695098,12291.8733773928,12403.687141686201,12702.9170758026,12963.7439586374,13487.8224816787,14194.515663803,15359.740396366598,16100.9227973306,16182.8216850199,16782.0986705337,17117.272788253,17584.1475352396,18180.6026123974,19539.2612488443,19736.6653042295,20646.9330000973,22724.0221342831,23189.5274451329,24531.3577390249,25145.0133479761,25490.708257464103,25599.8436234435,26309.6859033258,26385.001938334302,27503.1773004104,28170.8213622975,28226.907278441402,28682.6939326326,29250.1180428621,29332.414539356803,30184.870158771402,31847.5377347647,31925.8034212317,32130.3008763844,34858.5119502257,36523.7332079973,37014.9592935816,38234.7244825066,38477.5791805612,39814.658927928904,40031.270764058,40837.7376281437,41672.1012399483,43705.1475593257,45268.7304537314,46206.78781304941,47457.5853457244,48197.43118917401,48625.8438167915,49828.9629137518,51334.4320301641,51803.2354226767,53269.3062047537,53847.8265545448,54185.0084787703,54665.7639158138,59112.2422096532,63104.100394726906,66510.9029855157,68663.2438230835,72864.4891443774,91307.5036202199,95601.8073141158,113035.834714458],\"y\":[-0.9255769438469317,-0.6424913570189963,-0.5556513798499587,-0.4551848553336777,-0.3409716846103539,-0.17509253521120183,-0.07553002148890364,-0.0592833423321899,-0.030441428913387192,-0.01710017256497043,-0.014772254779297,0.022570761652361604,0.08887892742679604,0.1134718320680479,0.19340914428303613,0.2547256069427375,0.38579836260539313,0.3898384291248078,0.3946883540569335,0.4209266437584791,0.4547710794736286,0.5431628077377049,0.6653533017259043,0.7853369870501083,0.7990714801946979,0.8488570541943581,0.9631209090263653,0.9837886210237912,1.0578688310385456,1.0646225902471684,1.1602876401392148,1.2096496996480859,1.401305624504559,1.4142122306164442,1.4156016093669113,1.5532386186714913,1.6024480633517033,1.649808340556742,1.673234235427227,1.675139796908411,1.6884032852804172,1.710986857051168,1.7425905352793585,1.766004571304487,1.8041477973327655,1.8045047003469268,1.8135311471296713,1.8372927155179735,1.8575525271823032,1.8970563642045963,1.9479613102507614,2.0266029069854863,2.073578802799622,2.0786362634377937,2.114882331003784,2.134594320511349,2.1614179052348312,2.194668566755343,2.266508453863068,2.2765285241006286,2.3214728801604796,2.417021844466042,2.43723509365217,2.4933064517467276,2.517934750628884,2.531545442621354,2.535804005395086,2.5630673617835296,2.565916794364858,2.6072897195482643,2.631198139376222,2.6331807152894253,2.649147696924784,2.668674652676305,2.671475251921965,2.7000311515130644,2.7534787626534136,2.755925401819491,2.762289931824526,2.843526851728347,2.8900423867877603,2.9033594804516287,2.9356776737754835,2.9419889968640174,2.9760390902612173,2.981447479559332,3.001329306320075,3.0214898341403202,3.0689713638349545,3.104009466557123,3.1244540006516015,3.151078158562557,3.16649798996332,3.1753190912088236,3.1996820927641796,3.229352123467299,3.238413911707381,3.266232261545353,3.2769994273578824,3.283221676542146,3.292026750151681,3.3699768322222585,3.4351153404477603,3.487527156918823,3.519273345601345,3.578470602735388,3.803379865928177,3.849191494369986,4.016168406763393],\"type\":\"scatter\",\"xaxis\":\"x\",\"yaxis\":\"y\"}],                        {\"template\":{\"data\":{\"bar\":[{\"error_x\":{\"color\":\"#2a3f5f\"},\"error_y\":{\"color\":\"#2a3f5f\"},\"marker\":{\"line\":{\"color\":\"#E5ECF6\",\"width\":0.5},\"pattern\":{\"fillmode\":\"overlay\",\"size\":10,\"solidity\":0.2}},\"type\":\"bar\"}],\"barpolar\":[{\"marker\":{\"line\":{\"color\":\"#E5ECF6\",\"width\":0.5},\"pattern\":{\"fillmode\":\"overlay\",\"size\":10,\"solidity\":0.2}},\"type\":\"barpolar\"}],\"carpet\":[{\"aaxis\":{\"endlinecolor\":\"#2a3f5f\",\"gridcolor\":\"white\",\"linecolor\":\"white\",\"minorgridcolor\":\"white\",\"startlinecolor\":\"#2a3f5f\"},\"baxis\":{\"endlinecolor\":\"#2a3f5f\",\"gridcolor\":\"white\",\"linecolor\":\"white\",\"minorgridcolor\":\"white\",\"startlinecolor\":\"#2a3f5f\"},\"type\":\"carpet\"}],\"choropleth\":[{\"colorbar\":{\"outlinewidth\":0,\"ticks\":\"\"},\"type\":\"choropleth\"}],\"contour\":[{\"colorbar\":{\"outlinewidth\":0,\"ticks\":\"\"},\"colorscale\":[[0.0,\"#0d0887\"],[0.1111111111111111,\"#46039f\"],[0.2222222222222222,\"#7201a8\"],[0.3333333333333333,\"#9c179e\"],[0.4444444444444444,\"#bd3786\"],[0.5555555555555556,\"#d8576b\"],[0.6666666666666666,\"#ed7953\"],[0.7777777777777778,\"#fb9f3a\"],[0.8888888888888888,\"#fdca26\"],[1.0,\"#f0f921\"]],\"type\":\"contour\"}],\"contourcarpet\":[{\"colorbar\":{\"outlinewidth\":0,\"ticks\":\"\"},\"type\":\"contourcarpet\"}],\"heatmap\":[{\"colorbar\":{\"outlinewidth\":0,\"ticks\":\"\"},\"colorscale\":[[0.0,\"#0d0887\"],[0.1111111111111111,\"#46039f\"],[0.2222222222222222,\"#7201a8\"],[0.3333333333333333,\"#9c179e\"],[0.4444444444444444,\"#bd3786\"],[0.5555555555555556,\"#d8576b\"],[0.6666666666666666,\"#ed7953\"],[0.7777777777777778,\"#fb9f3a\"],[0.8888888888888888,\"#fdca26\"],[1.0,\"#f0f921\"]],\"type\":\"heatmap\"}],\"heatmapgl\":[{\"colorbar\":{\"outlinewidth\":0,\"ticks\":\"\"},\"colorscale\":[[0.0,\"#0d0887\"],[0.1111111111111111,\"#46039f\"],[0.2222222222222222,\"#7201a8\"],[0.3333333333333333,\"#9c179e\"],[0.4444444444444444,\"#bd3786\"],[0.5555555555555556,\"#d8576b\"],[0.6666666666666666,\"#ed7953\"],[0.7777777777777778,\"#fb9f3a\"],[0.8888888888888888,\"#fdca26\"],[1.0,\"#f0f921\"]],\"type\":\"heatmapgl\"}],\"histogram\":[{\"marker\":{\"pattern\":{\"fillmode\":\"overlay\",\"size\":10,\"solidity\":0.2}},\"type\":\"histogram\"}],\"histogram2d\":[{\"colorbar\":{\"outlinewidth\":0,\"ticks\":\"\"},\"colorscale\":[[0.0,\"#0d0887\"],[0.1111111111111111,\"#46039f\"],[0.2222222222222222,\"#7201a8\"],[0.3333333333333333,\"#9c179e\"],[0.4444444444444444,\"#bd3786\"],[0.5555555555555556,\"#d8576b\"],[0.6666666666666666,\"#ed7953\"],[0.7777777777777778,\"#fb9f3a\"],[0.8888888888888888,\"#fdca26\"],[1.0,\"#f0f921\"]],\"type\":\"histogram2d\"}],\"histogram2dcontour\":[{\"colorbar\":{\"outlinewidth\":0,\"ticks\":\"\"},\"colorscale\":[[0.0,\"#0d0887\"],[0.1111111111111111,\"#46039f\"],[0.2222222222222222,\"#7201a8\"],[0.3333333333333333,\"#9c179e\"],[0.4444444444444444,\"#bd3786\"],[0.5555555555555556,\"#d8576b\"],[0.6666666666666666,\"#ed7953\"],[0.7777777777777778,\"#fb9f3a\"],[0.8888888888888888,\"#fdca26\"],[1.0,\"#f0f921\"]],\"type\":\"histogram2dcontour\"}],\"mesh3d\":[{\"colorbar\":{\"outlinewidth\":0,\"ticks\":\"\"},\"type\":\"mesh3d\"}],\"parcoords\":[{\"line\":{\"colorbar\":{\"outlinewidth\":0,\"ticks\":\"\"}},\"type\":\"parcoords\"}],\"pie\":[{\"automargin\":true,\"type\":\"pie\"}],\"scatter\":[{\"marker\":{\"colorbar\":{\"outlinewidth\":0,\"ticks\":\"\"}},\"type\":\"scatter\"}],\"scatter3d\":[{\"line\":{\"colorbar\":{\"outlinewidth\":0,\"ticks\":\"\"}},\"marker\":{\"colorbar\":{\"outlinewidth\":0,\"ticks\":\"\"}},\"type\":\"scatter3d\"}],\"scattercarpet\":[{\"marker\":{\"colorbar\":{\"outlinewidth\":0,\"ticks\":\"\"}},\"type\":\"scattercarpet\"}],\"scattergeo\":[{\"marker\":{\"colorbar\":{\"outlinewidth\":0,\"ticks\":\"\"}},\"type\":\"scattergeo\"}],\"scattergl\":[{\"marker\":{\"colorbar\":{\"outlinewidth\":0,\"ticks\":\"\"}},\"type\":\"scattergl\"}],\"scattermapbox\":[{\"marker\":{\"colorbar\":{\"outlinewidth\":0,\"ticks\":\"\"}},\"type\":\"scattermapbox\"}],\"scatterpolar\":[{\"marker\":{\"colorbar\":{\"outlinewidth\":0,\"ticks\":\"\"}},\"type\":\"scatterpolar\"}],\"scatterpolargl\":[{\"marker\":{\"colorbar\":{\"outlinewidth\":0,\"ticks\":\"\"}},\"type\":\"scatterpolargl\"}],\"scatterternary\":[{\"marker\":{\"colorbar\":{\"outlinewidth\":0,\"ticks\":\"\"}},\"type\":\"scatterternary\"}],\"surface\":[{\"colorbar\":{\"outlinewidth\":0,\"ticks\":\"\"},\"colorscale\":[[0.0,\"#0d0887\"],[0.1111111111111111,\"#46039f\"],[0.2222222222222222,\"#7201a8\"],[0.3333333333333333,\"#9c179e\"],[0.4444444444444444,\"#bd3786\"],[0.5555555555555556,\"#d8576b\"],[0.6666666666666666,\"#ed7953\"],[0.7777777777777778,\"#fb9f3a\"],[0.8888888888888888,\"#fdca26\"],[1.0,\"#f0f921\"]],\"type\":\"surface\"}],\"table\":[{\"cells\":{\"fill\":{\"color\":\"#EBF0F8\"},\"line\":{\"color\":\"white\"}},\"header\":{\"fill\":{\"color\":\"#C8D4E3\"},\"line\":{\"color\":\"white\"}},\"type\":\"table\"}]},\"layout\":{\"annotationdefaults\":{\"arrowcolor\":\"#2a3f5f\",\"arrowhead\":0,\"arrowwidth\":1},\"autotypenumbers\":\"strict\",\"coloraxis\":{\"colorbar\":{\"outlinewidth\":0,\"ticks\":\"\"}},\"colorscale\":{\"diverging\":[[0,\"#8e0152\"],[0.1,\"#c51b7d\"],[0.2,\"#de77ae\"],[0.3,\"#f1b6da\"],[0.4,\"#fde0ef\"],[0.5,\"#f7f7f7\"],[0.6,\"#e6f5d0\"],[0.7,\"#b8e186\"],[0.8,\"#7fbc41\"],[0.9,\"#4d9221\"],[1,\"#276419\"]],\"sequential\":[[0.0,\"#0d0887\"],[0.1111111111111111,\"#46039f\"],[0.2222222222222222,\"#7201a8\"],[0.3333333333333333,\"#9c179e\"],[0.4444444444444444,\"#bd3786\"],[0.5555555555555556,\"#d8576b\"],[0.6666666666666666,\"#ed7953\"],[0.7777777777777778,\"#fb9f3a\"],[0.8888888888888888,\"#fdca26\"],[1.0,\"#f0f921\"]],\"sequentialminus\":[[0.0,\"#0d0887\"],[0.1111111111111111,\"#46039f\"],[0.2222222222222222,\"#7201a8\"],[0.3333333333333333,\"#9c179e\"],[0.4444444444444444,\"#bd3786\"],[0.5555555555555556,\"#d8576b\"],[0.6666666666666666,\"#ed7953\"],[0.7777777777777778,\"#fb9f3a\"],[0.8888888888888888,\"#fdca26\"],[1.0,\"#f0f921\"]]},\"colorway\":[\"#636efa\",\"#EF553B\",\"#00cc96\",\"#ab63fa\",\"#FFA15A\",\"#19d3f3\",\"#FF6692\",\"#B6E880\",\"#FF97FF\",\"#FECB52\"],\"font\":{\"color\":\"#2a3f5f\"},\"geo\":{\"bgcolor\":\"white\",\"lakecolor\":\"white\",\"landcolor\":\"#E5ECF6\",\"showlakes\":true,\"showland\":true,\"subunitcolor\":\"white\"},\"hoverlabel\":{\"align\":\"left\"},\"hovermode\":\"closest\",\"mapbox\":{\"style\":\"light\"},\"paper_bgcolor\":\"white\",\"plot_bgcolor\":\"#E5ECF6\",\"polar\":{\"angularaxis\":{\"gridcolor\":\"white\",\"linecolor\":\"white\",\"ticks\":\"\"},\"bgcolor\":\"#E5ECF6\",\"radialaxis\":{\"gridcolor\":\"white\",\"linecolor\":\"white\",\"ticks\":\"\"}},\"scene\":{\"xaxis\":{\"backgroundcolor\":\"#E5ECF6\",\"gridcolor\":\"white\",\"gridwidth\":2,\"linecolor\":\"white\",\"showbackground\":true,\"ticks\":\"\",\"zerolinecolor\":\"white\"},\"yaxis\":{\"backgroundcolor\":\"#E5ECF6\",\"gridcolor\":\"white\",\"gridwidth\":2,\"linecolor\":\"white\",\"showbackground\":true,\"ticks\":\"\",\"zerolinecolor\":\"white\"},\"zaxis\":{\"backgroundcolor\":\"#E5ECF6\",\"gridcolor\":\"white\",\"gridwidth\":2,\"linecolor\":\"white\",\"showbackground\":true,\"ticks\":\"\",\"zerolinecolor\":\"white\"}},\"shapedefaults\":{\"line\":{\"color\":\"#2a3f5f\"}},\"ternary\":{\"aaxis\":{\"gridcolor\":\"white\",\"linecolor\":\"white\",\"ticks\":\"\"},\"baxis\":{\"gridcolor\":\"white\",\"linecolor\":\"white\",\"ticks\":\"\"},\"bgcolor\":\"#E5ECF6\",\"caxis\":{\"gridcolor\":\"white\",\"linecolor\":\"white\",\"ticks\":\"\"}},\"title\":{\"x\":0.05},\"xaxis\":{\"automargin\":true,\"gridcolor\":\"white\",\"linecolor\":\"white\",\"ticks\":\"\",\"title\":{\"standoff\":15},\"zerolinecolor\":\"white\",\"zerolinewidth\":2},\"yaxis\":{\"automargin\":true,\"gridcolor\":\"white\",\"linecolor\":\"white\",\"ticks\":\"\",\"title\":{\"standoff\":15},\"zerolinecolor\":\"white\",\"zerolinewidth\":2}}},\"xaxis\":{\"anchor\":\"y\",\"domain\":[0.0,1.0],\"title\":{\"text\":\"GDP per capita ($)\"},\"type\":\"log\",\"range\":[2.8417374496153496,5.0900316199935505]},\"yaxis\":{\"anchor\":\"x\",\"domain\":[0.0,1.0],\"title\":{\"text\":\"Medical doctors (per 1,000 people)\"},\"range\":[-0.9872,6.9973]},\"legend\":{\"title\":{\"text\":\"Continent\"},\"tracegroupgap\":0},\"title\":{\"text\":\"Medical doctors per 1000 people vs. GDP per capita, 2016\"}},                        {\"responsive\": true}                    ).then(function(){\n",
       "                            \n",
       "var gd = document.getElementById('18912962-3606-46f7-bd61-7f265476e72d');\n",
       "var x = new MutationObserver(function (mutations, observer) {{\n",
       "        var display = window.getComputedStyle(gd).display;\n",
       "        if (!display || display === 'none') {{\n",
       "            console.log([gd, 'removed!']);\n",
       "            Plotly.purge(gd);\n",
       "            observer.disconnect();\n",
       "        }}\n",
       "}});\n",
       "\n",
       "// Listen for the removal of the full notebook cells\n",
       "var notebookContainer = gd.closest('#notebook-container');\n",
       "if (notebookContainer) {{\n",
       "    x.observe(notebookContainer, {childList: true});\n",
       "}}\n",
       "\n",
       "// Listen for the clearing of the current output cell\n",
       "var outputEl = gd.closest('.output');\n",
       "if (outputEl) {{\n",
       "    x.observe(outputEl, {childList: true});\n",
       "}}\n",
       "\n",
       "                        })                };                });            </script>        </div>"
      ]
     },
     "metadata": {},
     "output_type": "display_data"
    }
   ],
   "source": [
    "plotFigure(readCSV('medical-doctors-per-1000-people-vs-gdp-per-capita.csv',\n",
    "           'GDP per capita, PPP (constant 2017 international $)',\n",
    "          'Physicians (per 1,000 people)',\n",
    "          'Medical doctors per 1000 people vs. GDP per capita'), 'GDP per capita ($)', \n",
    "           'Medical doctors (per 1,000 people)', 'Medical doctors per 1000 people vs. GDP per capita')"
   ]
  },
  {
   "cell_type": "markdown",
   "metadata": {},
   "source": [
    "###### Questions\n",
    "---"
   ]
  },
  {
   "cell_type": "markdown",
   "metadata": {},
   "source": [
    "##### 5. Child mortality by GDP\n",
    "> Child mortality is defined as the number of children born alive that die before their 5th birthday."
   ]
  },
  {
   "cell_type": "code",
   "execution_count": 55,
   "metadata": {},
   "outputs": [
    {
     "name": "stdout",
     "output_type": "stream",
     "text": [
      "Year of interest for the data \"Child mortality vs. GDP per capita\": \n",
      "2016\n",
      "---------------------------------------------------------------------------------------------------------------------\n"
     ]
    },
    {
     "data": {
      "application/vnd.plotly.v1+json": {
       "config": {
        "plotlyServerURL": "https://plot.ly"
       },
       "data": [
        {
         "customdata": [
          [
           "Afghanistan"
          ],
          [
           "Armenia"
          ],
          [
           "Azerbaijan"
          ],
          [
           "Bahrain"
          ],
          [
           "Bangladesh"
          ],
          [
           "Cambodia"
          ],
          [
           "China"
          ],
          [
           "Georgia"
          ],
          [
           "Hong Kong"
          ],
          [
           "India"
          ],
          [
           "Indonesia"
          ],
          [
           "Iran"
          ],
          [
           "Iraq"
          ],
          [
           "Israel"
          ],
          [
           "Japan"
          ],
          [
           "Jordan"
          ],
          [
           "Kazakhstan"
          ],
          [
           "Kuwait"
          ],
          [
           "Kyrgyzstan"
          ],
          [
           "Laos"
          ],
          [
           "Lebanon"
          ],
          [
           "Malaysia"
          ],
          [
           "Mongolia"
          ],
          [
           "Myanmar"
          ],
          [
           "Nepal"
          ],
          [
           "North Korea"
          ],
          [
           "Oman"
          ],
          [
           "Pakistan"
          ],
          [
           "Palestine"
          ],
          [
           "Philippines"
          ],
          [
           "Qatar"
          ],
          [
           "Saudi Arabia"
          ],
          [
           "Singapore"
          ],
          [
           "South Korea"
          ],
          [
           "Sri Lanka"
          ],
          [
           "Syria"
          ],
          [
           "Tajikistan"
          ],
          [
           "Thailand"
          ],
          [
           "Turkey"
          ],
          [
           "Turkmenistan"
          ],
          [
           "United Arab Emirates"
          ],
          [
           "Uzbekistan"
          ],
          [
           "Vietnam"
          ],
          [
           "Yemen"
          ]
         ],
         "hovertemplate": "Continent=Asia<br>GDP per capita ($)=%{x}<br>Child mortality rate (% children < 5 y.o.)=%{y}<br>Entity=%{customdata[0]}<extra></extra>",
         "legendgroup": "Asia",
         "marker": {
          "color": "#636efa",
          "symbol": "circle"
         },
         "mode": "markers",
         "name": "Asia",
         "orientation": "v",
         "showlegend": true,
         "type": "scatter",
         "x": [
          1929,
          10080,
          16645,
          41078,
          3604,
          3251,
          12569,
          10899,
          48330,
          6125,
          10911,
          16783,
          13898,
          31701,
          37465,
          11529,
          23842,
          71010,
          4879,
          5859,
          12972,
          23053,
          12360,
          5284,
          2435,
          1742.0223,
          38515,
          5223,
          5321.3826,
          7410,
          156299,
          51397,
          65729,
          36103,
          11149,
          3091,
          3991,
          15454,
          17906,
          23813,
          75876,
          10381,
          6062,
          2506
         ],
         "xaxis": "x",
         "y": [
          7.040000000000001,
          1.34,
          3.09,
          0.76,
          3.4200000000000004,
          3.0600000000000005,
          0.99,
          1.07,
          0.2282,
          4.3,
          2.64,
          1.51,
          3.12,
          0.36000000000000004,
          0.27,
          1.7600000000000002,
          1.14,
          0.8400000000000001,
          2.1100000000000003,
          6.3900000000000015,
          0.81,
          0.8300000000000001,
          1.79,
          5.08,
          3.45,
          2,
          1.07,
          7.88,
          1.94,
          2.7100000000000004,
          0.8500000000000001,
          1.29,
          0.28,
          0.34,
          0.94,
          1.9123,
          4.3100000000000005,
          1.22,
          1.27,
          5.1000000000000005,
          0.77,
          2.41,
          2.16,
          5.53
         ],
         "yaxis": "y"
        },
        {
         "customdata": [
          [
           "Albania"
          ],
          [
           "Austria"
          ],
          [
           "Belarus"
          ],
          [
           "Belgium"
          ],
          [
           "Bosnia and Herzegovina"
          ],
          [
           "Bulgaria"
          ],
          [
           "Croatia"
          ],
          [
           "Cyprus"
          ],
          [
           "Czechia"
          ],
          [
           "Denmark"
          ],
          [
           "Estonia"
          ],
          [
           "Finland"
          ],
          [
           "France"
          ],
          [
           "Germany"
          ],
          [
           "Greece"
          ],
          [
           "Hungary"
          ],
          [
           "Iceland"
          ],
          [
           "Ireland"
          ],
          [
           "Italy"
          ],
          [
           "Latvia"
          ],
          [
           "Lithuania"
          ],
          [
           "Luxembourg"
          ],
          [
           "Malta"
          ],
          [
           "Moldova"
          ],
          [
           "Montenegro"
          ],
          [
           "Netherlands"
          ],
          [
           "North Macedonia"
          ],
          [
           "Norway"
          ],
          [
           "Poland"
          ],
          [
           "Portugal"
          ],
          [
           "Romania"
          ],
          [
           "Russia"
          ],
          [
           "Serbia"
          ],
          [
           "Slovakia"
          ],
          [
           "Slovenia"
          ],
          [
           "Spain"
          ],
          [
           "Sweden"
          ],
          [
           "Switzerland"
          ],
          [
           "Ukraine"
          ],
          [
           "United Kingdom"
          ]
         ],
         "hovertemplate": "Continent=Europe<br>GDP per capita ($)=%{x}<br>Child mortality rate (% children < 5 y.o.)=%{y}<br>Entity=%{customdata[0]}<extra></extra>",
         "legendgroup": "Europe",
         "marker": {
          "color": "#EF553B",
          "symbol": "circle"
         },
         "mode": "markers",
         "name": "Europe",
         "orientation": "v",
         "showlegend": true,
         "type": "scatter",
         "x": [
          10342,
          41445,
          17628,
          38766,
          9746,
          17037,
          20376,
          25577,
          28823,
          44836,
          24857,
          37239,
          37124,
          44689,
          22574,
          23279,
          42085,
          56597,
          33419,
          22092,
          24743,
          57006,
          29817,
          6068,
          17741,
          45600,
          12644,
          82814,
          24838,
          25346,
          17782,
          23635,
          13184,
          25364,
          26908,
          30110,
          44659,
          59662,
          9214,
          37334
         ],
         "xaxis": "x",
         "y": [
          1.35,
          0.35000000000000003,
          0.39,
          0.39,
          0.6000000000000001,
          0.76,
          0.47,
          0.26,
          0.3200000000000001,
          0.4400000000000001,
          0.29,
          0.23,
          0.39,
          0.38,
          0.38,
          0.52,
          0.21,
          0.36000000000000004,
          0.33,
          0.46,
          0.53,
          0.24,
          0.68,
          1.59,
          0.38,
          0.38,
          1.22,
          0.26,
          0.47,
          0.35000000000000003,
          0.9,
          0.77,
          0.58,
          0.5900000000000001,
          0.23,
          0.33,
          0.29,
          0.41,
          0.91,
          0.43
         ],
         "yaxis": "y"
        },
        {
         "customdata": [
          [
           "Algeria"
          ],
          [
           "Angola"
          ],
          [
           "Benin"
          ],
          [
           "Botswana"
          ],
          [
           "Burkina Faso"
          ],
          [
           "Burundi"
          ],
          [
           "Cameroon"
          ],
          [
           "Cape Verde"
          ],
          [
           "Central African Republic"
          ],
          [
           "Chad"
          ],
          [
           "Comoros"
          ],
          [
           "Congo"
          ],
          [
           "Cote d'Ivoire"
          ],
          [
           "Democratic Republic of Congo"
          ],
          [
           "Djibouti"
          ],
          [
           "Egypt"
          ],
          [
           "Equatorial Guinea"
          ],
          [
           "Eswatini"
          ],
          [
           "Ethiopia"
          ],
          [
           "Gabon"
          ],
          [
           "Gambia"
          ],
          [
           "Ghana"
          ],
          [
           "Guinea"
          ],
          [
           "Guinea-Bissau"
          ],
          [
           "Kenya"
          ],
          [
           "Lesotho"
          ],
          [
           "Liberia"
          ],
          [
           "Libya"
          ],
          [
           "Madagascar"
          ],
          [
           "Malawi"
          ],
          [
           "Mali"
          ],
          [
           "Mauritania"
          ],
          [
           "Mauritius"
          ],
          [
           "Morocco"
          ],
          [
           "Mozambique"
          ],
          [
           "Namibia"
          ],
          [
           "Niger"
          ],
          [
           "Nigeria"
          ],
          [
           "Rwanda"
          ],
          [
           "Sao Tome and Principe"
          ],
          [
           "Senegal"
          ],
          [
           "Seychelles"
          ],
          [
           "Sierra Leone"
          ],
          [
           "South Africa"
          ],
          [
           "Sudan"
          ],
          [
           "Tanzania"
          ],
          [
           "Togo"
          ],
          [
           "Tunisia"
          ],
          [
           "Uganda"
          ],
          [
           "Zambia"
          ],
          [
           "Zimbabwe"
          ]
         ],
         "hovertemplate": "Continent=Africa<br>GDP per capita ($)=%{x}<br>Child mortality rate (% children < 5 y.o.)=%{y}<br>Entity=%{customdata[0]}<extra></extra>",
         "legendgroup": "Africa",
         "marker": {
          "color": "#00cc96",
          "symbol": "circle"
         },
         "mode": "markers",
         "name": "Africa",
         "orientation": "v",
         "showlegend": true,
         "type": "scatter",
         "x": [
          14331,
          8453,
          2080,
          15198,
          1483,
          665,
          2828,
          6418,
          589,
          2189,
          1702,
          5974,
          3395,
          836,
          3064,
          11351,
          33317,
          7881,
          1635,
          18413,
          1788,
          3878,
          1417,
          1436,
          3169,
          2767,
          829,
          8096,
          1381,
          1112,
          1594,
          3407,
          18918,
          8039,
          1113,
          9376,
          925,
          5360,
          1758,
          3624,
          2403,
          26624,
          1619,
          12139,
          3651,
          2660,
          1400,
          11073,
          1980,
          3479,
          1534
         ],
         "xaxis": "x",
         "y": [
          2.52,
          8.25,
          9.76,
          4.0600000000000005,
          8.459999999999999,
          7.170000000000001,
          7.9700000000000015,
          2.14,
          12.36,
          12.73,
          7.33,
          5.41,
          9.18,
          9.43,
          6.420000000000001,
          2.28,
          9.090000000000002,
          7.040000000000001,
          5.84,
          4.74,
          6.53,
          5.88,
          8.9,
          8.81,
          4.920000000000001,
          9.35,
          6.740000000000001,
          1.29,
          4.64,
          5.510000000000002,
          11.06,
          8.14,
          1.37,
          2.7100000000000004,
          7.13,
          4.5200000000000005,
          9.13,
          10.43,
          3.85,
          3.38,
          4.71,
          1.4300000000000002,
          11.35,
          4.33,
          6.51,
          5.670000000000001,
          7.57,
          1.36,
          5.300000000000002,
          6.34,
          5.6400000000000015
         ],
         "yaxis": "y"
        },
        {
         "customdata": [
          [
           "Argentina"
          ],
          [
           "Bolivia"
          ],
          [
           "Brazil"
          ],
          [
           "Chile"
          ],
          [
           "Colombia"
          ],
          [
           "Ecuador"
          ],
          [
           "Paraguay"
          ],
          [
           "Peru"
          ],
          [
           "Uruguay"
          ],
          [
           "Venezuela"
          ]
         ],
         "hovertemplate": "Continent=South America<br>GDP per capita ($)=%{x}<br>Child mortality rate (% children < 5 y.o.)=%{y}<br>Entity=%{customdata[0]}<extra></extra>",
         "legendgroup": "South America",
         "marker": {
          "color": "#ab63fa",
          "symbol": "circle"
         },
         "mode": "markers",
         "name": "South America",
         "orientation": "v",
         "showlegend": true,
         "type": "scatter",
         "x": [
          18875,
          6355,
          13873,
          21696,
          13326,
          10527,
          8786,
          11776,
          19468,
          15219
         ],
         "xaxis": "x",
         "y": [
          1.11,
          3.69,
          1.51,
          0.8300000000000001,
          1.5300000000000002,
          2.09,
          1.99,
          1.5300000000000002,
          0.92,
          1.63
         ],
         "yaxis": "y"
        },
        {
         "customdata": [
          [
           "Australia"
          ],
          [
           "New Zealand"
          ]
         ],
         "hovertemplate": "Continent=Oceania<br>GDP per capita ($)=%{x}<br>Child mortality rate (% children < 5 y.o.)=%{y}<br>Entity=%{customdata[0]}<extra></extra>",
         "legendgroup": "Oceania",
         "marker": {
          "color": "#FFA15A",
          "symbol": "circle"
         },
         "mode": "markers",
         "name": "Oceania",
         "orientation": "v",
         "showlegend": true,
         "type": "scatter",
         "x": [
          48845,
          34295
         ],
         "xaxis": "x",
         "y": [
          0.3700000000000001,
          0.54
         ],
         "yaxis": "y"
        },
        {
         "customdata": [
          [
           "Barbados"
          ],
          [
           "Canada"
          ],
          [
           "Costa Rica"
          ],
          [
           "Cuba"
          ],
          [
           "Dominica"
          ],
          [
           "Dominican Republic"
          ],
          [
           "El Salvador"
          ],
          [
           "Guatemala"
          ],
          [
           "Haiti"
          ],
          [
           "Honduras"
          ],
          [
           "Jamaica"
          ],
          [
           "Mexico"
          ],
          [
           "Nicaragua"
          ],
          [
           "Panama"
          ],
          [
           "Puerto Rico"
          ],
          [
           "Saint Lucia"
          ],
          [
           "Trinidad and Tobago"
          ],
          [
           "United States"
          ]
         ],
         "hovertemplate": "Continent=North America<br>GDP per capita ($)=%{x}<br>Child mortality rate (% children < 5 y.o.)=%{y}<br>Entity=%{customdata[0]}<extra></extra>",
         "legendgroup": "North America",
         "marker": {
          "color": "#19d3f3",
          "symbol": "circle"
         },
         "mode": "markers",
         "name": "North America",
         "orientation": "v",
         "showlegend": true,
         "type": "scatter",
         "x": [
          12003,
          43745,
          14098,
          8000,
          9550,
          14489,
          8280,
          7221,
          1728,
          4796,
          7084,
          16133,
          5045,
          21449,
          35082,
          10233,
          29178,
          53015
         ],
         "xaxis": "x",
         "y": [
          1.2300000000000002,
          0.4900000000000001,
          0.8800000000000001,
          0.55,
          3.4000000000000004,
          3.0700000000000003,
          1.5,
          2.85,
          6.7,
          1.87,
          1.5300000000000002,
          1.46,
          1.97,
          1.64,
          0.6479,
          1.33,
          1.85,
          0.65
         ],
         "yaxis": "y"
        },
        {
         "hovertemplate": "<b>OLS trendline</b><br>Child mortality (Select Gapminder, v10) (2017) = -4.59234 * log10(GDP per capita) + 21.4134<br>R<sup>2</sup>=0.604865<br><br>GDP per capita ($)=%{x}<br>Child mortality rate (% children < 5 y.o.)=%{y} <b>(trend)</b><extra></extra>",
         "legendgroup": "Overall Trendline",
         "line": {
          "color": "black"
         },
         "mode": "lines",
         "name": "Overall Trendline",
         "showlegend": true,
         "type": "scatter",
         "x": [
          589,
          665,
          829,
          836,
          925,
          1112,
          1113,
          1381,
          1400,
          1417,
          1436,
          1483,
          1534,
          1594,
          1619,
          1635,
          1702,
          1728,
          1742.0223,
          1758,
          1788,
          1929,
          1980,
          2080,
          2189,
          2403,
          2435,
          2506,
          2660,
          2767,
          2828,
          3064,
          3091,
          3169,
          3251,
          3395,
          3407,
          3479,
          3604,
          3624,
          3651,
          3878,
          3991,
          4796,
          4879,
          5045,
          5223,
          5284,
          5321.3826,
          5360,
          5859,
          5974,
          6062,
          6068,
          6125,
          6355,
          6418,
          7084,
          7221,
          7410,
          7881,
          8000,
          8039,
          8096,
          8280,
          8453,
          8786,
          9214,
          9376,
          9550,
          9746,
          10080,
          10233,
          10342,
          10381,
          10527,
          10899,
          10911,
          11073,
          11149,
          11351,
          11529,
          11776,
          12003,
          12139,
          12360,
          12569,
          12644,
          12972,
          13184,
          13326,
          13873,
          13898,
          14098,
          14331,
          14489,
          15198,
          15219,
          15454,
          16133,
          16645,
          16783,
          17037,
          17628,
          17741,
          17782,
          17906,
          18413,
          18875,
          18918,
          19468,
          20376,
          21449,
          21696,
          22092,
          22574,
          23053,
          23279,
          23635,
          23813,
          23842,
          24743,
          24838,
          24857,
          25346,
          25364,
          25577,
          26624,
          26908,
          28823,
          29178,
          29817,
          30110,
          31701,
          33317,
          33419,
          34295,
          35082,
          36103,
          37124,
          37239,
          37334,
          37465,
          38515,
          38766,
          41078,
          41445,
          42085,
          43745,
          44659,
          44689,
          44836,
          45600,
          48330,
          48845,
          51397,
          53015,
          56597,
          57006,
          59662,
          65729,
          71010,
          75876,
          82814,
          156299
         ],
         "xaxis": "x",
         "y": [
          8.692077671950358,
          8.450031955278734,
          8.010393570305414,
          7.993623490720397,
          7.791856746081956,
          7.424638855905252,
          7.422846109845734,
          6.992550257273839,
          6.965297645338136,
          6.941225427253489,
          6.914660598994406,
          6.850428803693003,
          6.782993859785607,
          6.706471819506321,
          6.675434313943285,
          6.655820832145011,
          6.575722084314764,
          6.545485250788554,
          6.52936625004844,
          6.511156867046761,
          6.477409363778609,
          6.3260240458923,
          6.273979177827149,
          6.175711526605882,
          6.073842182729873,
          5.887815451027329,
          5.86143153777434,
          5.804109429934416,
          5.685165090970948,
          5.60650960790054,
          5.563018976244379,
          5.403162423900227,
          5.385664470512975,
          5.335960451256735,
          5.285009628028391,
          5.198568804888197,
          5.191531703120283,
          5.149822675189597,
          5.079420410988121,
          5.068383139560389,
          5.053579056156568,
          4.9332781302821545,
          4.875993578938946,
          4.509536217119621,
          4.475315702540833,
          4.408587318951369,
          4.339431868441892,
          4.316273671396569,
          4.302213399331546,
          4.287792039471981,
          4.110257934605414,
          4.07149064735421,
          4.04232598220073,
          4.040352926946397,
          4.021705616195913,
          3.9481846527842954,
          3.928510324137072,
          3.731595922024276,
          3.6933931615003175,
          3.641863093563522,
          3.5189576299387895,
          3.48906762362099,
          3.4793684007618566,
          3.465276925736813,
          3.420456391055037,
          3.3792146938226004,
          3.3021536385635315,
          3.207289537830178,
          3.1725282881383556,
          3.135854868176832,
          3.0953364501760134,
          3.0281315070457104,
          2.9980863597073366,
          2.9769544143184454,
          2.9694475035187864,
          2.9415929509847345,
          2.8723310757248086,
          2.8701363796497787,
          2.8407419577696977,
          2.827099867938937,
          2.7912878096640092,
          2.760254970767395,
          2.7179771229757,
          2.679897360919032,
          2.6574265358140288,
          2.6214429483421675,
          2.5880003227468222,
          2.5761348025414854,
          2.5250566679173154,
          2.492725394863445,
          2.4713589860879495,
          2.3911280770515475,
          2.3875372261716983,
          2.359040815448239,
          2.326347962229054,
          2.304479601750444,
          2.2091975115012907,
          2.2064435887837277,
          2.175882496806583,
          2.090124019010865,
          2.0278120323458175,
          2.011344826181528,
          1.9813865347158135,
          1.913374287874678,
          1.900630283766752,
          1.8960264124470783,
          1.8821668351390741,
          1.826480190229205,
          1.7770555094401743,
          1.772517075293397,
          1.71536022144209,
          1.6244428485988252,
          1.522088136810499,
          1.4992521392874814,
          1.4631776094697777,
          1.4201313322684435,
          1.3782540666143532,
          1.358796899965359,
          1.3285274427515184,
          1.3135632638626653,
          1.3111358806713724,
          1.2371547200774238,
          1.2295118299269632,
          1.2279867602367318,
          1.1891322278234817,
          1.187716343819048,
          1.171037596434001,
          1.0910219591122114,
          1.0698599104868407,
          0.9327427793034175,
          0.908328322979699,
          0.8651215928796532,
          0.8456187776344244,
          0.7429238219564667,
          0.6437616647621205,
          0.6376650451320849,
          0.5860592315514204,
          0.5408083954005356,
          0.4835926185577506,
          0.4279725643082912,
          0.421803915480524,
          0.41672242649915603,
          0.4097364887623911,
          0.3546092269484653,
          0.34165381347438384,
          0.2261182378276061,
          0.20837868441614305,
          0.1778157708039103,
          0.10065938122349749,
          0.059417495214745486,
          0.05807817261197101,
          0.05152846130324917,
          0.017829919546638706,
          -0.09813574444254414,
          -0.11927577002168022,
          -0.22084766675610723,
          -0.2826651944423517,
          -0.41306318821469645,
          -0.42742417051150383,
          -0.5182480657532444,
          -0.71139847882257,
          -0.8655289830461257,
          -0.997719228882417,
          -1.1722252604621843,
          -2.439034672480858
         ],
         "yaxis": "y"
        }
       ],
       "layout": {
        "legend": {
         "title": {
          "text": "Continent"
         },
         "tracegroupgap": 0
        },
        "template": {
         "data": {
          "bar": [
           {
            "error_x": {
             "color": "#2a3f5f"
            },
            "error_y": {
             "color": "#2a3f5f"
            },
            "marker": {
             "line": {
              "color": "#E5ECF6",
              "width": 0.5
             },
             "pattern": {
              "fillmode": "overlay",
              "size": 10,
              "solidity": 0.2
             }
            },
            "type": "bar"
           }
          ],
          "barpolar": [
           {
            "marker": {
             "line": {
              "color": "#E5ECF6",
              "width": 0.5
             },
             "pattern": {
              "fillmode": "overlay",
              "size": 10,
              "solidity": 0.2
             }
            },
            "type": "barpolar"
           }
          ],
          "carpet": [
           {
            "aaxis": {
             "endlinecolor": "#2a3f5f",
             "gridcolor": "white",
             "linecolor": "white",
             "minorgridcolor": "white",
             "startlinecolor": "#2a3f5f"
            },
            "baxis": {
             "endlinecolor": "#2a3f5f",
             "gridcolor": "white",
             "linecolor": "white",
             "minorgridcolor": "white",
             "startlinecolor": "#2a3f5f"
            },
            "type": "carpet"
           }
          ],
          "choropleth": [
           {
            "colorbar": {
             "outlinewidth": 0,
             "ticks": ""
            },
            "type": "choropleth"
           }
          ],
          "contour": [
           {
            "colorbar": {
             "outlinewidth": 0,
             "ticks": ""
            },
            "colorscale": [
             [
              0,
              "#0d0887"
             ],
             [
              0.1111111111111111,
              "#46039f"
             ],
             [
              0.2222222222222222,
              "#7201a8"
             ],
             [
              0.3333333333333333,
              "#9c179e"
             ],
             [
              0.4444444444444444,
              "#bd3786"
             ],
             [
              0.5555555555555556,
              "#d8576b"
             ],
             [
              0.6666666666666666,
              "#ed7953"
             ],
             [
              0.7777777777777778,
              "#fb9f3a"
             ],
             [
              0.8888888888888888,
              "#fdca26"
             ],
             [
              1,
              "#f0f921"
             ]
            ],
            "type": "contour"
           }
          ],
          "contourcarpet": [
           {
            "colorbar": {
             "outlinewidth": 0,
             "ticks": ""
            },
            "type": "contourcarpet"
           }
          ],
          "heatmap": [
           {
            "colorbar": {
             "outlinewidth": 0,
             "ticks": ""
            },
            "colorscale": [
             [
              0,
              "#0d0887"
             ],
             [
              0.1111111111111111,
              "#46039f"
             ],
             [
              0.2222222222222222,
              "#7201a8"
             ],
             [
              0.3333333333333333,
              "#9c179e"
             ],
             [
              0.4444444444444444,
              "#bd3786"
             ],
             [
              0.5555555555555556,
              "#d8576b"
             ],
             [
              0.6666666666666666,
              "#ed7953"
             ],
             [
              0.7777777777777778,
              "#fb9f3a"
             ],
             [
              0.8888888888888888,
              "#fdca26"
             ],
             [
              1,
              "#f0f921"
             ]
            ],
            "type": "heatmap"
           }
          ],
          "heatmapgl": [
           {
            "colorbar": {
             "outlinewidth": 0,
             "ticks": ""
            },
            "colorscale": [
             [
              0,
              "#0d0887"
             ],
             [
              0.1111111111111111,
              "#46039f"
             ],
             [
              0.2222222222222222,
              "#7201a8"
             ],
             [
              0.3333333333333333,
              "#9c179e"
             ],
             [
              0.4444444444444444,
              "#bd3786"
             ],
             [
              0.5555555555555556,
              "#d8576b"
             ],
             [
              0.6666666666666666,
              "#ed7953"
             ],
             [
              0.7777777777777778,
              "#fb9f3a"
             ],
             [
              0.8888888888888888,
              "#fdca26"
             ],
             [
              1,
              "#f0f921"
             ]
            ],
            "type": "heatmapgl"
           }
          ],
          "histogram": [
           {
            "marker": {
             "pattern": {
              "fillmode": "overlay",
              "size": 10,
              "solidity": 0.2
             }
            },
            "type": "histogram"
           }
          ],
          "histogram2d": [
           {
            "colorbar": {
             "outlinewidth": 0,
             "ticks": ""
            },
            "colorscale": [
             [
              0,
              "#0d0887"
             ],
             [
              0.1111111111111111,
              "#46039f"
             ],
             [
              0.2222222222222222,
              "#7201a8"
             ],
             [
              0.3333333333333333,
              "#9c179e"
             ],
             [
              0.4444444444444444,
              "#bd3786"
             ],
             [
              0.5555555555555556,
              "#d8576b"
             ],
             [
              0.6666666666666666,
              "#ed7953"
             ],
             [
              0.7777777777777778,
              "#fb9f3a"
             ],
             [
              0.8888888888888888,
              "#fdca26"
             ],
             [
              1,
              "#f0f921"
             ]
            ],
            "type": "histogram2d"
           }
          ],
          "histogram2dcontour": [
           {
            "colorbar": {
             "outlinewidth": 0,
             "ticks": ""
            },
            "colorscale": [
             [
              0,
              "#0d0887"
             ],
             [
              0.1111111111111111,
              "#46039f"
             ],
             [
              0.2222222222222222,
              "#7201a8"
             ],
             [
              0.3333333333333333,
              "#9c179e"
             ],
             [
              0.4444444444444444,
              "#bd3786"
             ],
             [
              0.5555555555555556,
              "#d8576b"
             ],
             [
              0.6666666666666666,
              "#ed7953"
             ],
             [
              0.7777777777777778,
              "#fb9f3a"
             ],
             [
              0.8888888888888888,
              "#fdca26"
             ],
             [
              1,
              "#f0f921"
             ]
            ],
            "type": "histogram2dcontour"
           }
          ],
          "mesh3d": [
           {
            "colorbar": {
             "outlinewidth": 0,
             "ticks": ""
            },
            "type": "mesh3d"
           }
          ],
          "parcoords": [
           {
            "line": {
             "colorbar": {
              "outlinewidth": 0,
              "ticks": ""
             }
            },
            "type": "parcoords"
           }
          ],
          "pie": [
           {
            "automargin": true,
            "type": "pie"
           }
          ],
          "scatter": [
           {
            "marker": {
             "colorbar": {
              "outlinewidth": 0,
              "ticks": ""
             }
            },
            "type": "scatter"
           }
          ],
          "scatter3d": [
           {
            "line": {
             "colorbar": {
              "outlinewidth": 0,
              "ticks": ""
             }
            },
            "marker": {
             "colorbar": {
              "outlinewidth": 0,
              "ticks": ""
             }
            },
            "type": "scatter3d"
           }
          ],
          "scattercarpet": [
           {
            "marker": {
             "colorbar": {
              "outlinewidth": 0,
              "ticks": ""
             }
            },
            "type": "scattercarpet"
           }
          ],
          "scattergeo": [
           {
            "marker": {
             "colorbar": {
              "outlinewidth": 0,
              "ticks": ""
             }
            },
            "type": "scattergeo"
           }
          ],
          "scattergl": [
           {
            "marker": {
             "colorbar": {
              "outlinewidth": 0,
              "ticks": ""
             }
            },
            "type": "scattergl"
           }
          ],
          "scattermapbox": [
           {
            "marker": {
             "colorbar": {
              "outlinewidth": 0,
              "ticks": ""
             }
            },
            "type": "scattermapbox"
           }
          ],
          "scatterpolar": [
           {
            "marker": {
             "colorbar": {
              "outlinewidth": 0,
              "ticks": ""
             }
            },
            "type": "scatterpolar"
           }
          ],
          "scatterpolargl": [
           {
            "marker": {
             "colorbar": {
              "outlinewidth": 0,
              "ticks": ""
             }
            },
            "type": "scatterpolargl"
           }
          ],
          "scatterternary": [
           {
            "marker": {
             "colorbar": {
              "outlinewidth": 0,
              "ticks": ""
             }
            },
            "type": "scatterternary"
           }
          ],
          "surface": [
           {
            "colorbar": {
             "outlinewidth": 0,
             "ticks": ""
            },
            "colorscale": [
             [
              0,
              "#0d0887"
             ],
             [
              0.1111111111111111,
              "#46039f"
             ],
             [
              0.2222222222222222,
              "#7201a8"
             ],
             [
              0.3333333333333333,
              "#9c179e"
             ],
             [
              0.4444444444444444,
              "#bd3786"
             ],
             [
              0.5555555555555556,
              "#d8576b"
             ],
             [
              0.6666666666666666,
              "#ed7953"
             ],
             [
              0.7777777777777778,
              "#fb9f3a"
             ],
             [
              0.8888888888888888,
              "#fdca26"
             ],
             [
              1,
              "#f0f921"
             ]
            ],
            "type": "surface"
           }
          ],
          "table": [
           {
            "cells": {
             "fill": {
              "color": "#EBF0F8"
             },
             "line": {
              "color": "white"
             }
            },
            "header": {
             "fill": {
              "color": "#C8D4E3"
             },
             "line": {
              "color": "white"
             }
            },
            "type": "table"
           }
          ]
         },
         "layout": {
          "annotationdefaults": {
           "arrowcolor": "#2a3f5f",
           "arrowhead": 0,
           "arrowwidth": 1
          },
          "autotypenumbers": "strict",
          "coloraxis": {
           "colorbar": {
            "outlinewidth": 0,
            "ticks": ""
           }
          },
          "colorscale": {
           "diverging": [
            [
             0,
             "#8e0152"
            ],
            [
             0.1,
             "#c51b7d"
            ],
            [
             0.2,
             "#de77ae"
            ],
            [
             0.3,
             "#f1b6da"
            ],
            [
             0.4,
             "#fde0ef"
            ],
            [
             0.5,
             "#f7f7f7"
            ],
            [
             0.6,
             "#e6f5d0"
            ],
            [
             0.7,
             "#b8e186"
            ],
            [
             0.8,
             "#7fbc41"
            ],
            [
             0.9,
             "#4d9221"
            ],
            [
             1,
             "#276419"
            ]
           ],
           "sequential": [
            [
             0,
             "#0d0887"
            ],
            [
             0.1111111111111111,
             "#46039f"
            ],
            [
             0.2222222222222222,
             "#7201a8"
            ],
            [
             0.3333333333333333,
             "#9c179e"
            ],
            [
             0.4444444444444444,
             "#bd3786"
            ],
            [
             0.5555555555555556,
             "#d8576b"
            ],
            [
             0.6666666666666666,
             "#ed7953"
            ],
            [
             0.7777777777777778,
             "#fb9f3a"
            ],
            [
             0.8888888888888888,
             "#fdca26"
            ],
            [
             1,
             "#f0f921"
            ]
           ],
           "sequentialminus": [
            [
             0,
             "#0d0887"
            ],
            [
             0.1111111111111111,
             "#46039f"
            ],
            [
             0.2222222222222222,
             "#7201a8"
            ],
            [
             0.3333333333333333,
             "#9c179e"
            ],
            [
             0.4444444444444444,
             "#bd3786"
            ],
            [
             0.5555555555555556,
             "#d8576b"
            ],
            [
             0.6666666666666666,
             "#ed7953"
            ],
            [
             0.7777777777777778,
             "#fb9f3a"
            ],
            [
             0.8888888888888888,
             "#fdca26"
            ],
            [
             1,
             "#f0f921"
            ]
           ]
          },
          "colorway": [
           "#636efa",
           "#EF553B",
           "#00cc96",
           "#ab63fa",
           "#FFA15A",
           "#19d3f3",
           "#FF6692",
           "#B6E880",
           "#FF97FF",
           "#FECB52"
          ],
          "font": {
           "color": "#2a3f5f"
          },
          "geo": {
           "bgcolor": "white",
           "lakecolor": "white",
           "landcolor": "#E5ECF6",
           "showlakes": true,
           "showland": true,
           "subunitcolor": "white"
          },
          "hoverlabel": {
           "align": "left"
          },
          "hovermode": "closest",
          "mapbox": {
           "style": "light"
          },
          "paper_bgcolor": "white",
          "plot_bgcolor": "#E5ECF6",
          "polar": {
           "angularaxis": {
            "gridcolor": "white",
            "linecolor": "white",
            "ticks": ""
           },
           "bgcolor": "#E5ECF6",
           "radialaxis": {
            "gridcolor": "white",
            "linecolor": "white",
            "ticks": ""
           }
          },
          "scene": {
           "xaxis": {
            "backgroundcolor": "#E5ECF6",
            "gridcolor": "white",
            "gridwidth": 2,
            "linecolor": "white",
            "showbackground": true,
            "ticks": "",
            "zerolinecolor": "white"
           },
           "yaxis": {
            "backgroundcolor": "#E5ECF6",
            "gridcolor": "white",
            "gridwidth": 2,
            "linecolor": "white",
            "showbackground": true,
            "ticks": "",
            "zerolinecolor": "white"
           },
           "zaxis": {
            "backgroundcolor": "#E5ECF6",
            "gridcolor": "white",
            "gridwidth": 2,
            "linecolor": "white",
            "showbackground": true,
            "ticks": "",
            "zerolinecolor": "white"
           }
          },
          "shapedefaults": {
           "line": {
            "color": "#2a3f5f"
           }
          },
          "ternary": {
           "aaxis": {
            "gridcolor": "white",
            "linecolor": "white",
            "ticks": ""
           },
           "baxis": {
            "gridcolor": "white",
            "linecolor": "white",
            "ticks": ""
           },
           "bgcolor": "#E5ECF6",
           "caxis": {
            "gridcolor": "white",
            "linecolor": "white",
            "ticks": ""
           }
          },
          "title": {
           "x": 0.05
          },
          "xaxis": {
           "automargin": true,
           "gridcolor": "white",
           "linecolor": "white",
           "ticks": "",
           "title": {
            "standoff": 15
           },
           "zerolinecolor": "white",
           "zerolinewidth": 2
          },
          "yaxis": {
           "automargin": true,
           "gridcolor": "white",
           "linecolor": "white",
           "ticks": "",
           "title": {
            "standoff": 15
           },
           "zerolinecolor": "white",
           "zerolinewidth": 2
          }
         }
        },
        "title": {
         "text": "Child mortality vs. GDP per capita, 2016"
        },
        "xaxis": {
         "anchor": "y",
         "domain": [
          0,
          1
         ],
         "range": [
          2.6893088591236203,
          5.2208896376994485
         ],
         "title": {
          "text": "GDP per capita ($)"
         },
         "type": "log"
        },
        "yaxis": {
         "anchor": "x",
         "domain": [
          0,
          1
         ],
         "range": [
          -0.79,
          13.73
         ],
         "title": {
          "text": "Child mortality rate (% children < 5 y.o.)"
         }
        }
       }
      },
      "text/html": [
       "<div>                            <div id=\"30f69066-920a-4dc9-ad17-b991451e35b6\" class=\"plotly-graph-div\" style=\"height:525px; width:100%;\"></div>            <script type=\"text/javascript\">                require([\"plotly\"], function(Plotly) {                    window.PLOTLYENV=window.PLOTLYENV || {};                                    if (document.getElementById(\"30f69066-920a-4dc9-ad17-b991451e35b6\")) {                    Plotly.newPlot(                        \"30f69066-920a-4dc9-ad17-b991451e35b6\",                        [{\"customdata\":[[\"Afghanistan\"],[\"Armenia\"],[\"Azerbaijan\"],[\"Bahrain\"],[\"Bangladesh\"],[\"Cambodia\"],[\"China\"],[\"Georgia\"],[\"Hong Kong\"],[\"India\"],[\"Indonesia\"],[\"Iran\"],[\"Iraq\"],[\"Israel\"],[\"Japan\"],[\"Jordan\"],[\"Kazakhstan\"],[\"Kuwait\"],[\"Kyrgyzstan\"],[\"Laos\"],[\"Lebanon\"],[\"Malaysia\"],[\"Mongolia\"],[\"Myanmar\"],[\"Nepal\"],[\"North Korea\"],[\"Oman\"],[\"Pakistan\"],[\"Palestine\"],[\"Philippines\"],[\"Qatar\"],[\"Saudi Arabia\"],[\"Singapore\"],[\"South Korea\"],[\"Sri Lanka\"],[\"Syria\"],[\"Tajikistan\"],[\"Thailand\"],[\"Turkey\"],[\"Turkmenistan\"],[\"United Arab Emirates\"],[\"Uzbekistan\"],[\"Vietnam\"],[\"Yemen\"]],\"hovertemplate\":\"Continent=Asia<br>GDP per capita ($)=%{x}<br>Child mortality rate (% children < 5 y.o.)=%{y}<br>Entity=%{customdata[0]}<extra></extra>\",\"legendgroup\":\"Asia\",\"marker\":{\"color\":\"#636efa\",\"symbol\":\"circle\"},\"mode\":\"markers\",\"name\":\"Asia\",\"orientation\":\"v\",\"showlegend\":true,\"x\":[1929.0,10080.0,16645.0,41078.0,3604.0,3251.0,12569.0,10899.0,48330.0,6125.0,10911.0,16783.0,13898.0,31701.0,37465.0,11529.0,23842.0,71010.0,4879.0,5859.0,12972.0,23053.0,12360.0,5284.0,2435.0,1742.0223,38515.0,5223.0,5321.3826,7410.0,156299.0,51397.0,65729.0,36103.0,11149.0,3091.0,3991.0,15454.0,17906.0,23813.0,75876.0,10381.0,6062.0,2506.0],\"xaxis\":\"x\",\"y\":[7.040000000000001,1.34,3.09,0.76,3.4200000000000004,3.0600000000000005,0.99,1.07,0.2282,4.3,2.64,1.51,3.12,0.36000000000000004,0.27,1.7600000000000002,1.14,0.8400000000000001,2.1100000000000003,6.3900000000000015,0.81,0.8300000000000001,1.79,5.08,3.45,2.0,1.07,7.88,1.94,2.7100000000000004,0.8500000000000001,1.29,0.28,0.34,0.94,1.9123,4.3100000000000005,1.22,1.27,5.1000000000000005,0.77,2.41,2.16,5.53],\"yaxis\":\"y\",\"type\":\"scatter\"},{\"customdata\":[[\"Albania\"],[\"Austria\"],[\"Belarus\"],[\"Belgium\"],[\"Bosnia and Herzegovina\"],[\"Bulgaria\"],[\"Croatia\"],[\"Cyprus\"],[\"Czechia\"],[\"Denmark\"],[\"Estonia\"],[\"Finland\"],[\"France\"],[\"Germany\"],[\"Greece\"],[\"Hungary\"],[\"Iceland\"],[\"Ireland\"],[\"Italy\"],[\"Latvia\"],[\"Lithuania\"],[\"Luxembourg\"],[\"Malta\"],[\"Moldova\"],[\"Montenegro\"],[\"Netherlands\"],[\"North Macedonia\"],[\"Norway\"],[\"Poland\"],[\"Portugal\"],[\"Romania\"],[\"Russia\"],[\"Serbia\"],[\"Slovakia\"],[\"Slovenia\"],[\"Spain\"],[\"Sweden\"],[\"Switzerland\"],[\"Ukraine\"],[\"United Kingdom\"]],\"hovertemplate\":\"Continent=Europe<br>GDP per capita ($)=%{x}<br>Child mortality rate (% children < 5 y.o.)=%{y}<br>Entity=%{customdata[0]}<extra></extra>\",\"legendgroup\":\"Europe\",\"marker\":{\"color\":\"#EF553B\",\"symbol\":\"circle\"},\"mode\":\"markers\",\"name\":\"Europe\",\"orientation\":\"v\",\"showlegend\":true,\"x\":[10342.0,41445.0,17628.0,38766.0,9746.0,17037.0,20376.0,25577.0,28823.0,44836.0,24857.0,37239.0,37124.0,44689.0,22574.0,23279.0,42085.0,56597.0,33419.0,22092.0,24743.0,57006.0,29817.0,6068.0,17741.0,45600.0,12644.0,82814.0,24838.0,25346.0,17782.0,23635.0,13184.0,25364.0,26908.0,30110.0,44659.0,59662.0,9214.0,37334.0],\"xaxis\":\"x\",\"y\":[1.35,0.35000000000000003,0.39,0.39,0.6000000000000001,0.76,0.47,0.26,0.3200000000000001,0.4400000000000001,0.29,0.23,0.39,0.38,0.38,0.52,0.21,0.36000000000000004,0.33,0.46,0.53,0.24,0.68,1.59,0.38,0.38,1.22,0.26,0.47,0.35000000000000003,0.9,0.77,0.58,0.5900000000000001,0.23,0.33,0.29,0.41,0.91,0.43],\"yaxis\":\"y\",\"type\":\"scatter\"},{\"customdata\":[[\"Algeria\"],[\"Angola\"],[\"Benin\"],[\"Botswana\"],[\"Burkina Faso\"],[\"Burundi\"],[\"Cameroon\"],[\"Cape Verde\"],[\"Central African Republic\"],[\"Chad\"],[\"Comoros\"],[\"Congo\"],[\"Cote d'Ivoire\"],[\"Democratic Republic of Congo\"],[\"Djibouti\"],[\"Egypt\"],[\"Equatorial Guinea\"],[\"Eswatini\"],[\"Ethiopia\"],[\"Gabon\"],[\"Gambia\"],[\"Ghana\"],[\"Guinea\"],[\"Guinea-Bissau\"],[\"Kenya\"],[\"Lesotho\"],[\"Liberia\"],[\"Libya\"],[\"Madagascar\"],[\"Malawi\"],[\"Mali\"],[\"Mauritania\"],[\"Mauritius\"],[\"Morocco\"],[\"Mozambique\"],[\"Namibia\"],[\"Niger\"],[\"Nigeria\"],[\"Rwanda\"],[\"Sao Tome and Principe\"],[\"Senegal\"],[\"Seychelles\"],[\"Sierra Leone\"],[\"South Africa\"],[\"Sudan\"],[\"Tanzania\"],[\"Togo\"],[\"Tunisia\"],[\"Uganda\"],[\"Zambia\"],[\"Zimbabwe\"]],\"hovertemplate\":\"Continent=Africa<br>GDP per capita ($)=%{x}<br>Child mortality rate (% children < 5 y.o.)=%{y}<br>Entity=%{customdata[0]}<extra></extra>\",\"legendgroup\":\"Africa\",\"marker\":{\"color\":\"#00cc96\",\"symbol\":\"circle\"},\"mode\":\"markers\",\"name\":\"Africa\",\"orientation\":\"v\",\"showlegend\":true,\"x\":[14331.0,8453.0,2080.0,15198.0,1483.0,665.0,2828.0,6418.0,589.0,2189.0,1702.0,5974.0,3395.0,836.0,3064.0,11351.0,33317.0,7881.0,1635.0,18413.0,1788.0,3878.0,1417.0,1436.0,3169.0,2767.0,829.0,8096.0,1381.0,1112.0,1594.0,3407.0,18918.0,8039.0,1113.0,9376.0,925.0,5360.0,1758.0,3624.0,2403.0,26624.0,1619.0,12139.0,3651.0,2660.0,1400.0,11073.0,1980.0,3479.0,1534.0],\"xaxis\":\"x\",\"y\":[2.52,8.25,9.76,4.0600000000000005,8.459999999999999,7.170000000000001,7.9700000000000015,2.14,12.36,12.73,7.33,5.41,9.18,9.43,6.420000000000001,2.28,9.090000000000002,7.040000000000001,5.84,4.74,6.53,5.88,8.9,8.81,4.920000000000001,9.35,6.740000000000001,1.29,4.64,5.510000000000002,11.06,8.14,1.37,2.7100000000000004,7.13,4.5200000000000005,9.13,10.43,3.85,3.38,4.71,1.4300000000000002,11.35,4.33,6.51,5.670000000000001,7.57,1.36,5.300000000000002,6.34,5.6400000000000015],\"yaxis\":\"y\",\"type\":\"scatter\"},{\"customdata\":[[\"Argentina\"],[\"Bolivia\"],[\"Brazil\"],[\"Chile\"],[\"Colombia\"],[\"Ecuador\"],[\"Paraguay\"],[\"Peru\"],[\"Uruguay\"],[\"Venezuela\"]],\"hovertemplate\":\"Continent=South America<br>GDP per capita ($)=%{x}<br>Child mortality rate (% children < 5 y.o.)=%{y}<br>Entity=%{customdata[0]}<extra></extra>\",\"legendgroup\":\"South America\",\"marker\":{\"color\":\"#ab63fa\",\"symbol\":\"circle\"},\"mode\":\"markers\",\"name\":\"South America\",\"orientation\":\"v\",\"showlegend\":true,\"x\":[18875.0,6355.0,13873.0,21696.0,13326.0,10527.0,8786.0,11776.0,19468.0,15219.0],\"xaxis\":\"x\",\"y\":[1.11,3.69,1.51,0.8300000000000001,1.5300000000000002,2.09,1.99,1.5300000000000002,0.92,1.63],\"yaxis\":\"y\",\"type\":\"scatter\"},{\"customdata\":[[\"Australia\"],[\"New Zealand\"]],\"hovertemplate\":\"Continent=Oceania<br>GDP per capita ($)=%{x}<br>Child mortality rate (% children < 5 y.o.)=%{y}<br>Entity=%{customdata[0]}<extra></extra>\",\"legendgroup\":\"Oceania\",\"marker\":{\"color\":\"#FFA15A\",\"symbol\":\"circle\"},\"mode\":\"markers\",\"name\":\"Oceania\",\"orientation\":\"v\",\"showlegend\":true,\"x\":[48845.0,34295.0],\"xaxis\":\"x\",\"y\":[0.3700000000000001,0.54],\"yaxis\":\"y\",\"type\":\"scatter\"},{\"customdata\":[[\"Barbados\"],[\"Canada\"],[\"Costa Rica\"],[\"Cuba\"],[\"Dominica\"],[\"Dominican Republic\"],[\"El Salvador\"],[\"Guatemala\"],[\"Haiti\"],[\"Honduras\"],[\"Jamaica\"],[\"Mexico\"],[\"Nicaragua\"],[\"Panama\"],[\"Puerto Rico\"],[\"Saint Lucia\"],[\"Trinidad and Tobago\"],[\"United States\"]],\"hovertemplate\":\"Continent=North America<br>GDP per capita ($)=%{x}<br>Child mortality rate (% children < 5 y.o.)=%{y}<br>Entity=%{customdata[0]}<extra></extra>\",\"legendgroup\":\"North America\",\"marker\":{\"color\":\"#19d3f3\",\"symbol\":\"circle\"},\"mode\":\"markers\",\"name\":\"North America\",\"orientation\":\"v\",\"showlegend\":true,\"x\":[12003.0,43745.0,14098.0,8000.0,9550.0,14489.0,8280.0,7221.0,1728.0,4796.0,7084.0,16133.0,5045.0,21449.0,35082.0,10233.0,29178.0,53015.0],\"xaxis\":\"x\",\"y\":[1.2300000000000002,0.4900000000000001,0.8800000000000001,0.55,3.4000000000000004,3.0700000000000003,1.5,2.85,6.7,1.87,1.5300000000000002,1.46,1.97,1.64,0.6479,1.33,1.85,0.65],\"yaxis\":\"y\",\"type\":\"scatter\"},{\"hovertemplate\":\"<b>OLS trendline</b><br>Child mortality (Select Gapminder, v10) (2017) = -4.59234 * log10(GDP per capita) + 21.4134<br>R<sup>2</sup>=0.604865<br><br>GDP per capita ($)=%{x}<br>Child mortality rate (% children < 5 y.o.)=%{y} <b>(trend)</b><extra></extra>\",\"legendgroup\":\"Overall Trendline\",\"line\":{\"color\":\"black\"},\"mode\":\"lines\",\"name\":\"Overall Trendline\",\"showlegend\":true,\"x\":[589.0,665.0,829.0,836.0,925.0,1112.0,1113.0,1381.0,1400.0,1417.0,1436.0,1483.0,1534.0,1594.0,1619.0,1635.0,1702.0,1728.0,1742.0223,1758.0,1788.0,1929.0,1980.0,2080.0,2189.0,2403.0,2435.0,2506.0,2660.0,2767.0,2828.0,3064.0,3091.0,3169.0,3251.0,3395.0,3407.0,3479.0,3604.0,3624.0,3651.0,3878.0,3991.0,4796.0,4879.0,5045.0,5223.0,5284.0,5321.3826,5360.0,5859.0,5974.0,6062.0,6068.0,6125.0,6355.0,6418.0,7084.0,7221.0,7410.0,7881.0,8000.0,8039.0,8096.0,8280.0,8453.0,8786.0,9214.0,9376.0,9550.0,9746.0,10080.0,10233.0,10342.0,10381.0,10527.0,10899.0,10911.0,11073.0,11149.0,11351.0,11529.0,11776.0,12003.0,12139.0,12360.0,12569.0,12644.0,12972.0,13184.0,13326.0,13873.0,13898.0,14098.0,14331.0,14489.0,15198.0,15219.0,15454.0,16133.0,16645.0,16783.0,17037.0,17628.0,17741.0,17782.0,17906.0,18413.0,18875.0,18918.0,19468.0,20376.0,21449.0,21696.0,22092.0,22574.0,23053.0,23279.0,23635.0,23813.0,23842.0,24743.0,24838.0,24857.0,25346.0,25364.0,25577.0,26624.0,26908.0,28823.0,29178.0,29817.0,30110.0,31701.0,33317.0,33419.0,34295.0,35082.0,36103.0,37124.0,37239.0,37334.0,37465.0,38515.0,38766.0,41078.0,41445.0,42085.0,43745.0,44659.0,44689.0,44836.0,45600.0,48330.0,48845.0,51397.0,53015.0,56597.0,57006.0,59662.0,65729.0,71010.0,75876.0,82814.0,156299.0],\"y\":[8.692077671950358,8.450031955278734,8.010393570305414,7.993623490720397,7.791856746081956,7.424638855905252,7.422846109845734,6.992550257273839,6.965297645338136,6.941225427253489,6.914660598994406,6.850428803693003,6.782993859785607,6.706471819506321,6.675434313943285,6.655820832145011,6.575722084314764,6.545485250788554,6.52936625004844,6.511156867046761,6.477409363778609,6.3260240458923,6.273979177827149,6.175711526605882,6.073842182729873,5.887815451027329,5.86143153777434,5.804109429934416,5.685165090970948,5.60650960790054,5.563018976244379,5.403162423900227,5.385664470512975,5.335960451256735,5.285009628028391,5.198568804888197,5.191531703120283,5.149822675189597,5.079420410988121,5.068383139560389,5.053579056156568,4.9332781302821545,4.875993578938946,4.509536217119621,4.475315702540833,4.408587318951369,4.339431868441892,4.316273671396569,4.302213399331546,4.287792039471981,4.110257934605414,4.07149064735421,4.04232598220073,4.040352926946397,4.021705616195913,3.9481846527842954,3.928510324137072,3.731595922024276,3.6933931615003175,3.641863093563522,3.5189576299387895,3.48906762362099,3.4793684007618566,3.465276925736813,3.420456391055037,3.3792146938226004,3.3021536385635315,3.207289537830178,3.1725282881383556,3.135854868176832,3.0953364501760134,3.0281315070457104,2.9980863597073366,2.9769544143184454,2.9694475035187864,2.9415929509847345,2.8723310757248086,2.8701363796497787,2.8407419577696977,2.827099867938937,2.7912878096640092,2.760254970767395,2.7179771229757,2.679897360919032,2.6574265358140288,2.6214429483421675,2.5880003227468222,2.5761348025414854,2.5250566679173154,2.492725394863445,2.4713589860879495,2.3911280770515475,2.3875372261716983,2.359040815448239,2.326347962229054,2.304479601750444,2.2091975115012907,2.2064435887837277,2.175882496806583,2.090124019010865,2.0278120323458175,2.011344826181528,1.9813865347158135,1.913374287874678,1.900630283766752,1.8960264124470783,1.8821668351390741,1.826480190229205,1.7770555094401743,1.772517075293397,1.71536022144209,1.6244428485988252,1.522088136810499,1.4992521392874814,1.4631776094697777,1.4201313322684435,1.3782540666143532,1.358796899965359,1.3285274427515184,1.3135632638626653,1.3111358806713724,1.2371547200774238,1.2295118299269632,1.2279867602367318,1.1891322278234817,1.187716343819048,1.171037596434001,1.0910219591122114,1.0698599104868407,0.9327427793034175,0.908328322979699,0.8651215928796532,0.8456187776344244,0.7429238219564667,0.6437616647621205,0.6376650451320849,0.5860592315514204,0.5408083954005356,0.4835926185577506,0.4279725643082912,0.421803915480524,0.41672242649915603,0.4097364887623911,0.3546092269484653,0.34165381347438384,0.2261182378276061,0.20837868441614305,0.1778157708039103,0.10065938122349749,0.059417495214745486,0.05807817261197101,0.05152846130324917,0.017829919546638706,-0.09813574444254414,-0.11927577002168022,-0.22084766675610723,-0.2826651944423517,-0.41306318821469645,-0.42742417051150383,-0.5182480657532444,-0.71139847882257,-0.8655289830461257,-0.997719228882417,-1.1722252604621843,-2.439034672480858],\"type\":\"scatter\",\"xaxis\":\"x\",\"yaxis\":\"y\"}],                        {\"template\":{\"data\":{\"bar\":[{\"error_x\":{\"color\":\"#2a3f5f\"},\"error_y\":{\"color\":\"#2a3f5f\"},\"marker\":{\"line\":{\"color\":\"#E5ECF6\",\"width\":0.5},\"pattern\":{\"fillmode\":\"overlay\",\"size\":10,\"solidity\":0.2}},\"type\":\"bar\"}],\"barpolar\":[{\"marker\":{\"line\":{\"color\":\"#E5ECF6\",\"width\":0.5},\"pattern\":{\"fillmode\":\"overlay\",\"size\":10,\"solidity\":0.2}},\"type\":\"barpolar\"}],\"carpet\":[{\"aaxis\":{\"endlinecolor\":\"#2a3f5f\",\"gridcolor\":\"white\",\"linecolor\":\"white\",\"minorgridcolor\":\"white\",\"startlinecolor\":\"#2a3f5f\"},\"baxis\":{\"endlinecolor\":\"#2a3f5f\",\"gridcolor\":\"white\",\"linecolor\":\"white\",\"minorgridcolor\":\"white\",\"startlinecolor\":\"#2a3f5f\"},\"type\":\"carpet\"}],\"choropleth\":[{\"colorbar\":{\"outlinewidth\":0,\"ticks\":\"\"},\"type\":\"choropleth\"}],\"contour\":[{\"colorbar\":{\"outlinewidth\":0,\"ticks\":\"\"},\"colorscale\":[[0.0,\"#0d0887\"],[0.1111111111111111,\"#46039f\"],[0.2222222222222222,\"#7201a8\"],[0.3333333333333333,\"#9c179e\"],[0.4444444444444444,\"#bd3786\"],[0.5555555555555556,\"#d8576b\"],[0.6666666666666666,\"#ed7953\"],[0.7777777777777778,\"#fb9f3a\"],[0.8888888888888888,\"#fdca26\"],[1.0,\"#f0f921\"]],\"type\":\"contour\"}],\"contourcarpet\":[{\"colorbar\":{\"outlinewidth\":0,\"ticks\":\"\"},\"type\":\"contourcarpet\"}],\"heatmap\":[{\"colorbar\":{\"outlinewidth\":0,\"ticks\":\"\"},\"colorscale\":[[0.0,\"#0d0887\"],[0.1111111111111111,\"#46039f\"],[0.2222222222222222,\"#7201a8\"],[0.3333333333333333,\"#9c179e\"],[0.4444444444444444,\"#bd3786\"],[0.5555555555555556,\"#d8576b\"],[0.6666666666666666,\"#ed7953\"],[0.7777777777777778,\"#fb9f3a\"],[0.8888888888888888,\"#fdca26\"],[1.0,\"#f0f921\"]],\"type\":\"heatmap\"}],\"heatmapgl\":[{\"colorbar\":{\"outlinewidth\":0,\"ticks\":\"\"},\"colorscale\":[[0.0,\"#0d0887\"],[0.1111111111111111,\"#46039f\"],[0.2222222222222222,\"#7201a8\"],[0.3333333333333333,\"#9c179e\"],[0.4444444444444444,\"#bd3786\"],[0.5555555555555556,\"#d8576b\"],[0.6666666666666666,\"#ed7953\"],[0.7777777777777778,\"#fb9f3a\"],[0.8888888888888888,\"#fdca26\"],[1.0,\"#f0f921\"]],\"type\":\"heatmapgl\"}],\"histogram\":[{\"marker\":{\"pattern\":{\"fillmode\":\"overlay\",\"size\":10,\"solidity\":0.2}},\"type\":\"histogram\"}],\"histogram2d\":[{\"colorbar\":{\"outlinewidth\":0,\"ticks\":\"\"},\"colorscale\":[[0.0,\"#0d0887\"],[0.1111111111111111,\"#46039f\"],[0.2222222222222222,\"#7201a8\"],[0.3333333333333333,\"#9c179e\"],[0.4444444444444444,\"#bd3786\"],[0.5555555555555556,\"#d8576b\"],[0.6666666666666666,\"#ed7953\"],[0.7777777777777778,\"#fb9f3a\"],[0.8888888888888888,\"#fdca26\"],[1.0,\"#f0f921\"]],\"type\":\"histogram2d\"}],\"histogram2dcontour\":[{\"colorbar\":{\"outlinewidth\":0,\"ticks\":\"\"},\"colorscale\":[[0.0,\"#0d0887\"],[0.1111111111111111,\"#46039f\"],[0.2222222222222222,\"#7201a8\"],[0.3333333333333333,\"#9c179e\"],[0.4444444444444444,\"#bd3786\"],[0.5555555555555556,\"#d8576b\"],[0.6666666666666666,\"#ed7953\"],[0.7777777777777778,\"#fb9f3a\"],[0.8888888888888888,\"#fdca26\"],[1.0,\"#f0f921\"]],\"type\":\"histogram2dcontour\"}],\"mesh3d\":[{\"colorbar\":{\"outlinewidth\":0,\"ticks\":\"\"},\"type\":\"mesh3d\"}],\"parcoords\":[{\"line\":{\"colorbar\":{\"outlinewidth\":0,\"ticks\":\"\"}},\"type\":\"parcoords\"}],\"pie\":[{\"automargin\":true,\"type\":\"pie\"}],\"scatter\":[{\"marker\":{\"colorbar\":{\"outlinewidth\":0,\"ticks\":\"\"}},\"type\":\"scatter\"}],\"scatter3d\":[{\"line\":{\"colorbar\":{\"outlinewidth\":0,\"ticks\":\"\"}},\"marker\":{\"colorbar\":{\"outlinewidth\":0,\"ticks\":\"\"}},\"type\":\"scatter3d\"}],\"scattercarpet\":[{\"marker\":{\"colorbar\":{\"outlinewidth\":0,\"ticks\":\"\"}},\"type\":\"scattercarpet\"}],\"scattergeo\":[{\"marker\":{\"colorbar\":{\"outlinewidth\":0,\"ticks\":\"\"}},\"type\":\"scattergeo\"}],\"scattergl\":[{\"marker\":{\"colorbar\":{\"outlinewidth\":0,\"ticks\":\"\"}},\"type\":\"scattergl\"}],\"scattermapbox\":[{\"marker\":{\"colorbar\":{\"outlinewidth\":0,\"ticks\":\"\"}},\"type\":\"scattermapbox\"}],\"scatterpolar\":[{\"marker\":{\"colorbar\":{\"outlinewidth\":0,\"ticks\":\"\"}},\"type\":\"scatterpolar\"}],\"scatterpolargl\":[{\"marker\":{\"colorbar\":{\"outlinewidth\":0,\"ticks\":\"\"}},\"type\":\"scatterpolargl\"}],\"scatterternary\":[{\"marker\":{\"colorbar\":{\"outlinewidth\":0,\"ticks\":\"\"}},\"type\":\"scatterternary\"}],\"surface\":[{\"colorbar\":{\"outlinewidth\":0,\"ticks\":\"\"},\"colorscale\":[[0.0,\"#0d0887\"],[0.1111111111111111,\"#46039f\"],[0.2222222222222222,\"#7201a8\"],[0.3333333333333333,\"#9c179e\"],[0.4444444444444444,\"#bd3786\"],[0.5555555555555556,\"#d8576b\"],[0.6666666666666666,\"#ed7953\"],[0.7777777777777778,\"#fb9f3a\"],[0.8888888888888888,\"#fdca26\"],[1.0,\"#f0f921\"]],\"type\":\"surface\"}],\"table\":[{\"cells\":{\"fill\":{\"color\":\"#EBF0F8\"},\"line\":{\"color\":\"white\"}},\"header\":{\"fill\":{\"color\":\"#C8D4E3\"},\"line\":{\"color\":\"white\"}},\"type\":\"table\"}]},\"layout\":{\"annotationdefaults\":{\"arrowcolor\":\"#2a3f5f\",\"arrowhead\":0,\"arrowwidth\":1},\"autotypenumbers\":\"strict\",\"coloraxis\":{\"colorbar\":{\"outlinewidth\":0,\"ticks\":\"\"}},\"colorscale\":{\"diverging\":[[0,\"#8e0152\"],[0.1,\"#c51b7d\"],[0.2,\"#de77ae\"],[0.3,\"#f1b6da\"],[0.4,\"#fde0ef\"],[0.5,\"#f7f7f7\"],[0.6,\"#e6f5d0\"],[0.7,\"#b8e186\"],[0.8,\"#7fbc41\"],[0.9,\"#4d9221\"],[1,\"#276419\"]],\"sequential\":[[0.0,\"#0d0887\"],[0.1111111111111111,\"#46039f\"],[0.2222222222222222,\"#7201a8\"],[0.3333333333333333,\"#9c179e\"],[0.4444444444444444,\"#bd3786\"],[0.5555555555555556,\"#d8576b\"],[0.6666666666666666,\"#ed7953\"],[0.7777777777777778,\"#fb9f3a\"],[0.8888888888888888,\"#fdca26\"],[1.0,\"#f0f921\"]],\"sequentialminus\":[[0.0,\"#0d0887\"],[0.1111111111111111,\"#46039f\"],[0.2222222222222222,\"#7201a8\"],[0.3333333333333333,\"#9c179e\"],[0.4444444444444444,\"#bd3786\"],[0.5555555555555556,\"#d8576b\"],[0.6666666666666666,\"#ed7953\"],[0.7777777777777778,\"#fb9f3a\"],[0.8888888888888888,\"#fdca26\"],[1.0,\"#f0f921\"]]},\"colorway\":[\"#636efa\",\"#EF553B\",\"#00cc96\",\"#ab63fa\",\"#FFA15A\",\"#19d3f3\",\"#FF6692\",\"#B6E880\",\"#FF97FF\",\"#FECB52\"],\"font\":{\"color\":\"#2a3f5f\"},\"geo\":{\"bgcolor\":\"white\",\"lakecolor\":\"white\",\"landcolor\":\"#E5ECF6\",\"showlakes\":true,\"showland\":true,\"subunitcolor\":\"white\"},\"hoverlabel\":{\"align\":\"left\"},\"hovermode\":\"closest\",\"mapbox\":{\"style\":\"light\"},\"paper_bgcolor\":\"white\",\"plot_bgcolor\":\"#E5ECF6\",\"polar\":{\"angularaxis\":{\"gridcolor\":\"white\",\"linecolor\":\"white\",\"ticks\":\"\"},\"bgcolor\":\"#E5ECF6\",\"radialaxis\":{\"gridcolor\":\"white\",\"linecolor\":\"white\",\"ticks\":\"\"}},\"scene\":{\"xaxis\":{\"backgroundcolor\":\"#E5ECF6\",\"gridcolor\":\"white\",\"gridwidth\":2,\"linecolor\":\"white\",\"showbackground\":true,\"ticks\":\"\",\"zerolinecolor\":\"white\"},\"yaxis\":{\"backgroundcolor\":\"#E5ECF6\",\"gridcolor\":\"white\",\"gridwidth\":2,\"linecolor\":\"white\",\"showbackground\":true,\"ticks\":\"\",\"zerolinecolor\":\"white\"},\"zaxis\":{\"backgroundcolor\":\"#E5ECF6\",\"gridcolor\":\"white\",\"gridwidth\":2,\"linecolor\":\"white\",\"showbackground\":true,\"ticks\":\"\",\"zerolinecolor\":\"white\"}},\"shapedefaults\":{\"line\":{\"color\":\"#2a3f5f\"}},\"ternary\":{\"aaxis\":{\"gridcolor\":\"white\",\"linecolor\":\"white\",\"ticks\":\"\"},\"baxis\":{\"gridcolor\":\"white\",\"linecolor\":\"white\",\"ticks\":\"\"},\"bgcolor\":\"#E5ECF6\",\"caxis\":{\"gridcolor\":\"white\",\"linecolor\":\"white\",\"ticks\":\"\"}},\"title\":{\"x\":0.05},\"xaxis\":{\"automargin\":true,\"gridcolor\":\"white\",\"linecolor\":\"white\",\"ticks\":\"\",\"title\":{\"standoff\":15},\"zerolinecolor\":\"white\",\"zerolinewidth\":2},\"yaxis\":{\"automargin\":true,\"gridcolor\":\"white\",\"linecolor\":\"white\",\"ticks\":\"\",\"title\":{\"standoff\":15},\"zerolinecolor\":\"white\",\"zerolinewidth\":2}}},\"xaxis\":{\"anchor\":\"y\",\"domain\":[0.0,1.0],\"title\":{\"text\":\"GDP per capita ($)\"},\"type\":\"log\",\"range\":[2.6893088591236203,5.2208896376994485]},\"yaxis\":{\"anchor\":\"x\",\"domain\":[0.0,1.0],\"title\":{\"text\":\"Child mortality rate (% children < 5 y.o.)\"},\"range\":[-0.79,13.73]},\"legend\":{\"title\":{\"text\":\"Continent\"},\"tracegroupgap\":0},\"title\":{\"text\":\"Child mortality vs. GDP per capita, 2016\"}},                        {\"responsive\": true}                    ).then(function(){\n",
       "                            \n",
       "var gd = document.getElementById('30f69066-920a-4dc9-ad17-b991451e35b6');\n",
       "var x = new MutationObserver(function (mutations, observer) {{\n",
       "        var display = window.getComputedStyle(gd).display;\n",
       "        if (!display || display === 'none') {{\n",
       "            console.log([gd, 'removed!']);\n",
       "            Plotly.purge(gd);\n",
       "            observer.disconnect();\n",
       "        }}\n",
       "}});\n",
       "\n",
       "// Listen for the removal of the full notebook cells\n",
       "var notebookContainer = gd.closest('#notebook-container');\n",
       "if (notebookContainer) {{\n",
       "    x.observe(notebookContainer, {childList: true});\n",
       "}}\n",
       "\n",
       "// Listen for the clearing of the current output cell\n",
       "var outputEl = gd.closest('.output');\n",
       "if (outputEl) {{\n",
       "    x.observe(outputEl, {childList: true});\n",
       "}}\n",
       "\n",
       "                        })                };                });            </script>        </div>"
      ]
     },
     "metadata": {},
     "output_type": "display_data"
    }
   ],
   "source": [
    "plotFigure(readCSV('child-mortality-gdp-per-capita.csv',\n",
    "           'GDP per capita',\n",
    "          'Child mortality (Select Gapminder, v10) (2017)',\n",
    "          'Child mortality vs. GDP per capita'), 'GDP per capita ($)', \n",
    "           'Child mortality rate (% children < 5 y.o.)', 'Child mortality vs. GDP per capita')"
   ]
  },
  {
   "cell_type": "markdown",
   "metadata": {},
   "source": [
    "###### Questions\n",
    "---"
   ]
  },
  {
   "cell_type": "markdown",
   "metadata": {},
   "source": [
    "#### B. Discuss any observations that you make, or insights obtained, from the data visualisations. [2p]"
   ]
  },
  {
   "cell_type": "code",
   "execution_count": null,
   "metadata": {},
   "outputs": [],
   "source": []
  },
  {
   "cell_type": "markdown",
   "metadata": {},
   "source": [
    "## References\n",
    "#### Task 1\n",
    "1. Our World in Data. 2022. _Life expectancy vs. GDP per capita._ [online] Available at: <https://ourworldindata.org/grapher/life-expectancy-years-vs-real-gdp-per-capita-2011us> [Accessed 20 January 2022].\n",
    "\n",
    "#### Task 2\n",
    "1. Our World in Data. 2022. _Self-reported Life Satisfaction vs GDP per capita._ [online] Available at: <https://ourworldindata.org/grapher/gdp-vs-happiness> [Accessed 20 January 2022].\n",
    "2. Our World in Data. 2022. _Children per woman by GDP per capita._ [online] Available at: <https://ourworldindata.org/grapher/children-per-woman-by-gdp-per-capita> [Accessed 20 January 2022].\n",
    "3. https://ourworldindata.org/economic-growth\n",
    "4. https://ourworldindata.org/economic-growth\n",
    "5. Our World in Data. 2022. _Child mortality vs GDP per capita._ [online] Available at: <https://ourworldindata.org/grapher/child-mortality-gdp-per-capita> [Accessed 20 January 2022].\n",
    "\n",
    "- [Fundamentals of Data Visualization, Claus O. Wilke](https://clauswilke.com/dataviz/index.html)\n",
    "- [Plotly](https://plotly.com/python/)\n",
    "- [Plotly express - Linear regression](https://plotly.com/python/linear-fits/)"
   ]
  },
  {
   "cell_type": "code",
   "execution_count": null,
   "metadata": {},
   "outputs": [],
   "source": []
  }
 ],
 "metadata": {
  "kernelspec": {
   "display_name": "Python 3 (ipykernel)",
   "language": "python",
   "name": "python3"
  },
  "language_info": {
   "codemirror_mode": {
    "name": "ipython",
    "version": 3
   },
   "file_extension": ".py",
   "mimetype": "text/x-python",
   "name": "python",
   "nbconvert_exporter": "python",
   "pygments_lexer": "ipython3",
   "version": "3.9.7"
  }
 },
 "nbformat": 4,
 "nbformat_minor": 4
}
