{
 "cells": [
  {
   "cell_type": "markdown",
   "metadata": {},
   "source": [
    "# Assignment 1: Introduction to Data Science and Python\n",
    "\n",
    "Student name | Hours spent on the tasks\n",
    "------------ | -------------\n",
    "Lenia Malki | 8\n",
    "Maële Belmont | 8\n",
    "\n",
    "\n",
    "To do:\n",
    "- show available year list\n",
    "- reference\n",
    "- questions"
   ]
  },
  {
   "cell_type": "markdown",
   "metadata": {},
   "source": [
    "## Setup\n",
    "Python modules need to be loaded to solve the tasks below."
   ]
  },
  {
   "cell_type": "code",
   "execution_count": null,
   "metadata": {},
   "outputs": [],
   "source": [
    "import numpy as np\n",
    "import matplotlib.pyplot as plt\n",
    "import pandas as pd\n",
    "import seaborn as sns\n",
    "import plotly.express as px\n",
    "from sklearn.linear_model import LinearRegression"
   ]
  },
  {
   "cell_type": "markdown",
   "metadata": {},
   "source": [
    "## Task 1 - Download some data related to GDP per capita and life expectancy <br>\n",
    "#### A. Write a Python program that draws a scatter plot of GDP per capita vs life expectancy. State any assumptions and motivate decisions that you make when selecting data to be plotted, and in combining data. [1p]\n",
    "\n"
   ]
  },
  {
   "cell_type": "markdown",
   "metadata": {},
   "source": [
    "When extracting the data, we chose to not include population size as a parameter. As we are primarily interested in exploring the relationship between life expectancy and GDP, we did not consider the population size data to be contributing to this relationship. Disincluding this data makes it easier to focus and study the other two data entities.\n",
    "\n",
    "In terms of countries, we chose not to remove any data points with null values for a given year. Among the available data, we chose only to focus on the data obtained in 2018. The reason for this lies in the assumption that recent data, in this context, is more accurate as it is more available today than it might have been in the nineteen hundreds. \n",
    "\n",
    "In order to visualize the data in a readable manner, we chose to group countries together by their respective continents and color code these. To minimize cluttering, we used Plotly to create an interactive plot, which displays more information (country and exact value of life expectancy and GDP) when the cursor is on a dot. \n",
    "\n",
    "It is possible to study any data between the year 1543 and 2018. In other words, the program is not limited to only data from one specific year though only data for one year  is plotted at a time. \n"
   ]
  },
  {
   "cell_type": "code",
   "execution_count": null,
   "metadata": {},
   "outputs": [],
   "source": [
    "def GDPperCapita(csv_file, column1, column2, title):\n",
    "    \"\"\"\n",
    "    input: \n",
    "    - csv_file (string): name of csv file\n",
    "    - column1 (string): name of column for data GDP per capita\n",
    "    - column2 (string): name of column for data other than GDP\n",
    "    - title (string): Title of the plot\n",
    "    output:\n",
    "    - dataframe containing data for the chosen year without NaN values\n",
    "    \"\"\"\n",
    "    #Read the csv file containing the downloaded data\n",
    "    rawData = pd.read_csv(csv_file)\n",
    "\n",
    "    #Create a new table with the data for year of interest chosen by the user\n",
    "    year = int(input('Year of interest for the data \"%s\": \\n' % (title)))\n",
    "    print('---------------------------------------------------------------------------------------------------------------------')\n",
    "    yearData = rawData.loc[rawData['Year']==year].reset_index()\n",
    "        \n",
    "    #Replace NaN values in 'Continent' by the continent value for every country\n",
    "    year2015 = rawData.loc[rawData['Year']==2015].reset_index() #continents are defined only in 2015, but we want them to be defined for all the years.\n",
    "    \n",
    "    for i in range(len(yearData)):\n",
    "        for j in range(len(year2015)):\n",
    "            if yearData['Entity'][i] == year2015['Entity'][j]: #compare the 'Entity' of the chosen year to the 'Entity' in 2015 and if they are the same...\n",
    "                yearData.at[i, 'Continent'] = year2015['Continent'][j] #...assign the 'Continent' value of 2015 to the 'Continent' value of the chosen year 'Continent' value of 2015 to the 'Continent' value of the chosen year\n",
    "\n",
    "    #Create a new table with only the relevant columns\n",
    "    relevantColumns = yearData.loc[:, ['Entity','Year', column1, column2, 'Continent']]\n",
    "\n",
    "    #Create a new table without rows containing NaN values\n",
    "    finalData = relevantColumns.dropna()\n",
    "    \n",
    "    return finalData"
   ]
  },
  {
   "cell_type": "code",
   "execution_count": null,
   "metadata": {},
   "outputs": [],
   "source": [
    "def GDPperCapita2(csv_file, column1, column2, title):\n",
    "    \"\"\"\n",
    "    input: \n",
    "    - csv_file (string): name of csv file\n",
    "    - column1 (string): name of column for data GDP per capita\n",
    "    - column2 (string): name of column for data other than GDP\n",
    "    - title (string): Title of the plot\n",
    "    output:\n",
    "    - dataframe containing data for the chosen year without NaN values\n",
    "    \"\"\"\n",
    "    #Read the csv file containing the downloaded data\n",
    "    rawData = pd.read_csv(csv_file)\n",
    "\n",
    "    #Replace NaN values in 'Continent' by the continent value for every country\n",
    "    year2015 = rawData.loc[rawData['Year']==2015].reset_index() #continents are defined only in 2015, but we want them to be defined for all the years.\n",
    "    \n",
    "    for i in range(len(rawData)):\n",
    "        for j in range(len(year2015)):\n",
    "            if rawData['Entity'][i] == year2015['Entity'][j]: #compare the 'Entity' of the chosen year to the 'Entity' in 2015 and if they are the same...\n",
    "                rawData.at[i, 'Continent'] = year2015['Continent'][j] #...assign the 'Continent' value of 2015 to the 'Continent' value of the chosen year 'Continent' value of 2015 to the 'Continent' value of the chosen year\n",
    "\n",
    "    #Create a new table with only the relevant columns\n",
    "    relevantColumns = rawData.loc[:, ['Entity','Year', column1, column2, 'Continent']]\n",
    "    \n",
    "    #Create a new table without the rows containing NaN values\n",
    "    noNaN = relevantColumns.dropna()\n",
    "    '''\n",
    "    #Print year available\n",
    "    yearList = []\n",
    "    for i in range(len(noNaN)):\n",
    "        if noNan['Year'][i] not in yearList: \n",
    "            yearList.append(noNan['Year'][i])\n",
    "    print(yearList)\n",
    "    '''\n",
    "    #Create a new table with the data for year of interest chosen by the user\n",
    "    year = int(input('Year of interest for the data \"%s\": \\n' % (title)))\n",
    "    print('---------------------------------------------------------------------------------------------------------------------')\n",
    "    yearData = noNaN.loc[noNaN['Year']==year].reset_index()\n",
    "        \n",
    "    return finalData"
   ]
  },
  {
   "cell_type": "code",
   "execution_count": null,
   "metadata": {},
   "outputs": [],
   "source": [
    "def GDP(csv_file, column1, column2, title):\n",
    "    \"\"\"\n",
    "    input: \n",
    "    - csv_file (string): name of csv file\n",
    "    - column1 (string): name of column for data GDP per capita\n",
    "    - column2 (string): name of column for data other than GDP\n",
    "    - title (string): Title of the plot\n",
    "    output:\n",
    "    - dataframe containing data for the chosen year without NaN values\n",
    "    \"\"\"\n",
    "    #Read the csv file containing the downloaded data\n",
    "    rawData = pd.read_csv(csv_file)\n",
    "    \n",
    "    #Create a new table with the data for year of interest chosen by the user\n",
    "    year = int(input('Year of interest for the data \"%s\": \\n' % (title)))\n",
    "    print('---------------------------------------------------------------------------------------------------------------------')\n",
    "    yearData = rawData.loc[rawData['Year']==year].reset_index()\n",
    "        \n",
    "    #Replace NaN values in 'Continent' by the continent value for every country\n",
    "    year2015 = rawData.loc[rawData['Year']==2015].reset_index() #continents are defined only in 2015, but we want them to be defined for all the years.\n",
    "    \n",
    "    for i in range(len(yearData)):\n",
    "        for j in range(len(year2015)):\n",
    "            if yearData['Entity'][i] == year2015['Entity'][j]: #compare the 'Entity' of the chosen year to the 'Entity' in 2015 and if they are the same...\n",
    "                yearData.at[i, 'Continent'] = year2015['Continent'][j] #...assign the 'Continent' value of 2015 to the 'Continent' value of the chosen year 'Continent' value of 2015 to the 'Continent' value of the chosen year\n",
    "\n",
    "    yearData['GDP'] = yearData[column1]*yearData['Population (historical estimates)']\n",
    "    \n",
    "    #Create a new table with only the relevant columns\n",
    "    relevantColumns = yearData.loc[:, ['Entity','Year', 'GDP', column2, 'Continent']]\n",
    "\n",
    "    #Create a new table without rows containing NaN values\n",
    "    finalData = relevantColumns.dropna()\n",
    "    \n",
    "    return finalData"
   ]
  },
  {
   "cell_type": "code",
   "execution_count": null,
   "metadata": {},
   "outputs": [],
   "source": [
    "def plotFigure(finalData, xlabel, ylabel, title, min_x, max_x, min_y, max_y):\n",
    "    \"\"\"\n",
    "    input: \n",
    "    - finalData: dataframe will be plotted\n",
    "    - xlabel: label displayed under x-axis\n",
    "    - ylabel: label displayed under y-axis\n",
    "    - title of the plot\n",
    "    output:\n",
    "    - figure with the plot\n",
    "    \"\"\" \n",
    "    ###Plot \n",
    "    try:\n",
    "    #Set axis limits\n",
    "        year = finalData['Year'].values[0]\n",
    "        column1=finalData.columns[2]\n",
    "        column2=finalData.columns[3]\n",
    "        minimum_x = finalData[column1].min()-min_x\n",
    "        maximum_x = finalData[column1].max()+max_x\n",
    "        minimum_y = finalData[column2].min()-min_y \n",
    "        maximum_y = finalData[column2].max()+max_y\n",
    "\n",
    "        #Create Plotly figure\n",
    "        fig = px.scatter(finalData, x=column1, \n",
    "                     y=column2, \n",
    "                     color='Continent', hover_data=['Entity'], \n",
    "                     log_x=True, title=f'{title}, {year}',\n",
    "                     labels={column1: xlabel, column2: ylabel},\n",
    "                     trendline='ols', \n",
    "                     trendline_options=dict(log_x=True), trendline_scope='overall', trendline_color_override='black', \n",
    "                     range_x=[minimum_x, maximum_x], range_y=[minimum_y, maximum_y])\n",
    "        #Display figure\n",
    "        fig.show()\n",
    "    except:\n",
    "        print('---------------------------------------------------------------------------------------------------------------------')\n",
    "        print('No data available for this year, please run the cell again and try with another year.\\n')"
   ]
  },
  {
   "cell_type": "code",
   "execution_count": null,
   "metadata": {},
   "outputs": [],
   "source": [
    "def aboveSD(finalData, ylabel):\n",
    "    \"\"\"\n",
    "    inputs: \n",
    "    - finalData: dataframe containing the data of interest\n",
    "    - ylabel: data topic?\n",
    "    output:\n",
    "    - dataframe with value of data above the standard mean\n",
    "    \"\"\" \n",
    "    column1=finalData.columns[2]\n",
    "    column2=finalData.columns[3]\n",
    "    \n",
    "    #Print useful statistical values\n",
    "    mean = finalData[column2].mean()\n",
    "    sd = finalData[column2].std()\n",
    "    oneSDAboveMean = mean + sd\n",
    "\n",
    "    Filter = finalData[column2] >= oneSDAboveMean\n",
    "    tableSDAboveMean = finalData[['Entity','Year', column2]]\n",
    "\n",
    "    print('Dataframe with countries having', ylabel ,'higher than the standard mean.')\n",
    "    display(tableSDAboveMean[Filter])"
   ]
  },
  {
   "cell_type": "markdown",
   "metadata": {},
   "source": [
    "---"
   ]
  },
  {
   "cell_type": "code",
   "execution_count": null,
   "metadata": {},
   "outputs": [],
   "source": [
    "plotFigure(GDPperCapita('life-expectancy-vs-gdp-per-capita.csv',\n",
    "          'GDP per capita',\n",
    "          'Life expectancy',\n",
    "          'Life expectancy vs. GDP per capita'), 'GDP per capita ($)', \n",
    "           'Life expectancy (years)', 'Life expectancy vs. GDP per capita', 100, 10000, 1, 5)"
   ]
  },
  {
   "cell_type": "markdown",
   "metadata": {},
   "source": [
    "#### B. Consider whether the results obtained seem reasonable and discuss what might be the explanation for the results you obtained. [1p]"
   ]
  },
  {
   "cell_type": "markdown",
   "metadata": {},
   "source": [
    "The results show a clear trend. Countries with a higher GDP tend to also rank higher in life expectancy. However, this does mean that it is always true. We can for example see that Saudi Arabia has one of the higher GDP per capita at approximately \\\\$50,000 and a life expectancy of 75 years. On the same y-coordinate, we find Honduras which is one of Latin America's poorest countries with a GDP of  \\\\$5,000. Even though it seems to be a positive trend related to GDP per capita and life expectancy, deviations from the regression can reveal otherwise. Generally speaking, countries with higher GDP per capita might have the ability to provide better health care to their population as well as better living standards for the people, thus resulting in a higher life expectancy. One must however consider that other factors are at play when looking at life expectancy, not only GDP per capita.  "
   ]
  },
  {
   "cell_type": "code",
   "execution_count": null,
   "metadata": {},
   "outputs": [],
   "source": []
  },
  {
   "cell_type": "markdown",
   "metadata": {},
   "source": [
    "#### C. Did you do any data cleaning (e.g., by removing entries that you think are not useful) for the task of drawing scatter plot(s) and the task of answering the questions d, e, f, and g? If so, explain what kind of entries that you chose to remove and why. If not, explain why you did not need to. [0.5p]"
   ]
  },
  {
   "cell_type": "markdown",
   "metadata": {},
   "source": [
    "As mentioned in question 1.b, we decided to remove the population size data in order to only focus on the relationship between GDP and life expectancy. Data points with null values, such as for example missing GDP data or life expectancy score, were also removed in order to avoid outliers. Lastly, we decided to only collect and visualize the data from 2018. The reasoning behind this has to do with the assumption that the quality and availability of recent data, within this context, is better than that of much earlier years. That being said, we do not believe there to be big differences between closeby years. "
   ]
  },
  {
   "cell_type": "markdown",
   "metadata": {},
   "source": [
    "#### D. Which countries have a life expectancy higher than one standard deviation above the mean? [0.5p]"
   ]
  },
  {
   "cell_type": "markdown",
   "metadata": {},
   "source": [
    "With a standard deviation of approximately 7.747 and a mean of approximately 2.66, one standard deviation above the mean would require the life expectancy to be at a minimum of 80.41. The countries with a life expectancy of one standard deviation above the mean would be those presented in table x. The data for these life expectancies are limited to that of a specific year supplied by the user. In this case, the input year was 2018. \n"
   ]
  },
  {
   "cell_type": "code",
   "execution_count": null,
   "metadata": {},
   "outputs": [],
   "source": [
    "aboveSD(GDPperCapita('life-expectancy-vs-gdp-per-capita.csv',\n",
    "          'GDP per capita',\n",
    "          'Life expectancy',\n",
    "          'Life expectancy vs. GDP per capita'), 'Life expectancy vs. GDP per capita')"
   ]
  },
  {
   "cell_type": "markdown",
   "metadata": {},
   "source": [
    "#### E. Which countries have high life expectancy but have low GDP (per capita)? [0.5p]"
   ]
  },
  {
   "cell_type": "markdown",
   "metadata": {},
   "source": [
    "It essentially depends on how you define high life expectancy and low GDP.  If we were to define low GDP as one standard deviation below the mean, it would yield a negative GDP score. This is because the standard deviation is greater than the mean, indicating a high variance between data points. Another way of defining low GDP would be to extract those data points whose GDP is below the median.  \n",
    "\n",
    "The GDP median is 12165.79 with a life expectancy median of 74.368. We can see that these countries are located closer to the upper left corner of the graph."
   ]
  },
  {
   "cell_type": "markdown",
   "metadata": {},
   "source": [
    "#### F. Does every strong economy (normally indicated by GDP) have high life expectancy? [1p]"
   ]
  },
  {
   "cell_type": "code",
   "execution_count": null,
   "metadata": {},
   "outputs": [],
   "source": []
  },
  {
   "cell_type": "markdown",
   "metadata": {},
   "source": [
    "#### G. Related to question f, what would happen if you use GDP per capita as an indicator of strong economy? Explain the results you obtained, and discuss any insights you get from comparing the results of g and f. [1p]"
   ]
  },
  {
   "cell_type": "code",
   "execution_count": null,
   "metadata": {},
   "outputs": [],
   "source": [
    "plotFigure(GDP('life-expectancy-vs-gdp-per-capita.csv',\n",
    "          'GDP per capita',\n",
    "          'Life expectancy',\n",
    "          'Life expectancy vs. GDP'), 'GDP', 'Life expectancy', \n",
    "         'Life expectancy vs. GDP', pow(10,8), pow(10,12), 5, 5)"
   ]
  },
  {
   "cell_type": "markdown",
   "metadata": {},
   "source": [
    "## Task 2 - Download some other data sets, e.g. related to happiness and life satisfaction, trust, corruption, etc. <br>\n",
    "#### A.\tThink of several meaningful questions that can be answered with these data, make several informative visualisations to answer those questions. State any assumptions and motivate decisions that you make when selecting data to be plotted, and in combining data. [2.5p] "
   ]
  },
  {
   "cell_type": "markdown",
   "metadata": {},
   "source": [
    "##### 1. Happiness vs. GDP per capita"
   ]
  },
  {
   "cell_type": "code",
   "execution_count": null,
   "metadata": {},
   "outputs": [],
   "source": [
    "plotFigure(GDPperCapita('gdp-vs-happiness.csv',\n",
    "          'GDP per capita, PPP (constant 2017 international $)',\n",
    "          'Life satisfaction in Cantril Ladder (World Happiness Report 2021)',\n",
    "          'Happiness vs. GDP per capita'), 'GDP per capita ($)', \n",
    "           'Life satisfaction (scale: 0-10)', 'Happiness vs. GDP per capita', 30, pow(10,4), 0.5, 0.5)"
   ]
  },
  {
   "cell_type": "markdown",
   "metadata": {},
   "source": [
    "###### Questions\n",
    "---"
   ]
  },
  {
   "cell_type": "markdown",
   "metadata": {},
   "source": [
    "##### 2. Children per women by GDP per capita"
   ]
  },
  {
   "cell_type": "code",
   "execution_count": null,
   "metadata": {
    "scrolled": false
   },
   "outputs": [],
   "source": [
    "plotFigure(GDPperCapita('children-per-woman-by-gdp-per-capita.csv',\n",
    "          'Output-side real GDP per capita (gdppc_o) (PWT 9.1 (2019))',\n",
    "          'Estimates, 1950 - 2020: Annually interpolated demographic indicators - Total fertility (live births per woman)',\n",
    "          'Children per woman vs. GDP per capita'), 'GDP per capita ($)', \n",
    "           'Children per woman', 'Children per woman vs. GDP per capita', 20, pow(10,4), 0.5, 0.5)"
   ]
  },
  {
   "cell_type": "markdown",
   "metadata": {},
   "source": [
    "###### Questions\n",
    "---"
   ]
  },
  {
   "cell_type": "markdown",
   "metadata": {},
   "source": [
    "##### 3. Share of adults who smoke and GDP"
   ]
  },
  {
   "cell_type": "code",
   "execution_count": null,
   "metadata": {},
   "outputs": [],
   "source": [
    "plotFigure(GDPperCapita('share-of-adults-who-are-smoking-by-level-of-prosperity.csv',\n",
    "           'GDP per capita, PPP (constant 2017 international $)',\n",
    "          'Prevalence of current tobacco use (% of adults)',\n",
    "          'Share of adults who are smoking vs. GDP per capita'), 'GDP per capita ($)', \n",
    "           'Adults who smoke (% of adults)', 'Share of adults who are smoking vs. GDP per capita', \n",
    "           25, pow(10,4), 2, 2)"
   ]
  },
  {
   "cell_type": "markdown",
   "metadata": {},
   "source": [
    "###### Questions\n",
    "---"
   ]
  },
  {
   "cell_type": "markdown",
   "metadata": {},
   "source": [
    "##### 4. Medical doctors per 1,000 people vs. GDP per capita"
   ]
  },
  {
   "cell_type": "code",
   "execution_count": null,
   "metadata": {},
   "outputs": [],
   "source": [
    "plotFigure(GDPperCapita('medical-doctors-per-1000-people-vs-gdp-per-capita.csv',\n",
    "           'GDP per capita, PPP (constant 2017 international $)',\n",
    "          'Physicians (per 1,000 people)',\n",
    "          'Medical doctors per 1000 people vs. GDP per capita'), 'GDP per capita ($)', \n",
    "           'Medical doctors (per 1,000 people)', 'Medical doctors per 1000 people vs. GDP per capita',\n",
    "          25, pow(10,4), 1, 0.5)"
   ]
  },
  {
   "cell_type": "markdown",
   "metadata": {},
   "source": [
    "###### Questions\n",
    "---"
   ]
  },
  {
   "cell_type": "markdown",
   "metadata": {},
   "source": [
    "##### 5. Child mortality by GDP\n",
    "> Child mortality is defined as the number of children born alive that die before their 5th birthday."
   ]
  },
  {
   "cell_type": "code",
   "execution_count": null,
   "metadata": {},
   "outputs": [],
   "source": [
    "plotFigure(GDPperCapita('child-mortality-gdp-per-capita.csv',\n",
    "           'GDP per capita',\n",
    "          'Child mortality (Select Gapminder, v10) (2017)',\n",
    "          'Child mortality vs. GDP per capita'), 'GDP per capita ($)', \n",
    "           'Child mortality rate (% children < 5 y.o.)', 'Child mortality vs. GDP per capita',\n",
    "          25, pow(10, 4), 3, 1)"
   ]
  },
  {
   "cell_type": "markdown",
   "metadata": {},
   "source": [
    "###### Questions\n",
    "---"
   ]
  },
  {
   "cell_type": "markdown",
   "metadata": {},
   "source": [
    "#### B. Discuss any observations that you make, or insights obtained, from the data visualisations. [2p]"
   ]
  },
  {
   "cell_type": "markdown",
   "metadata": {},
   "source": [
    "## References\n",
    "#### Task 1\n",
    "1. Data was compiled by Our World in Data (2022): _Life expectancy vs. GDP per capita._ [online] Available at: <https://ourworldindata.org/grapher/life-expectancy-years-vs-real-gdp-per-capita-2011us> [Accessed 20 January 2022]. <br> Based on estimates by James C. Riley (2005) – Estimates of Regional and Global Life Expectancy, 1800–2001. Issue Population and Development Review. Population and Development Review. Volume 31, Issue 3, pages 537–543, September 2005., Zijdeman, Richard; Ribeira da Silva, Filipa, 2015, \"Life Expectancy at Birth (Total)\", http://hdl.handle.net/10622/LKYT53, IISH Dataverse, V1, and UN Population Division (2019)\n",
    "\n",
    "#### Task 2\n",
    "1. Data was compiled by Our World in Data (2022):. _Self-reported Life Satisfaction vs GDP per capita._ [online] Available at: <https://ourworldindata.org/grapher/gdp-vs-happiness> [Accessed 20 January 2022].\n",
    "2. Our World in Data. 2022. _Children per woman by GDP per capita._ [online] Available at: <https://ourworldindata.org/grapher/children-per-woman-by-gdp-per-capita> [Accessed 20 January 2022].\n",
    "3. https://ourworldindata.org/economic-growth\n",
    "4. https://ourworldindata.org/economic-growth\n",
    "5. Our World in Data. 2022. _Child mortality vs GDP per capita._ [online] Available at: <https://ourworldindata.org/grapher/child-mortality-gdp-per-capita> [Accessed 20 January 2022].\n",
    "\n",
    "- [Fundamentals of Data Visualization, Claus O. Wilke](https://clauswilke.com/dataviz/index.html)\n",
    "- [Plotly](https://plotly.com/python/)\n",
    "- [Plotly express - Linear regression](https://plotly.com/python/linear-fits/)"
   ]
  },
  {
   "cell_type": "code",
   "execution_count": null,
   "metadata": {},
   "outputs": [],
   "source": []
  }
 ],
 "metadata": {
  "kernelspec": {
   "display_name": "Python 3 (ipykernel)",
   "language": "python",
   "name": "python3"
  },
  "language_info": {
   "codemirror_mode": {
    "name": "ipython",
    "version": 3
   },
   "file_extension": ".py",
   "mimetype": "text/x-python",
   "name": "python",
   "nbconvert_exporter": "python",
   "pygments_lexer": "ipython3",
   "version": "3.9.7"
  }
 },
 "nbformat": 4,
 "nbformat_minor": 4
}
