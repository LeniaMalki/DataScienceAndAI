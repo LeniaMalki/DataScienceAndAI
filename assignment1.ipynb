{
 "cells": [
  {
   "cell_type": "markdown",
   "metadata": {},
   "source": [
    "# Assignment 1: Introduction to Data Science and Python\n",
    "\n",
    "Student name | Hours spent on the tasks\n",
    "------------ | -------------\n",
    "Lenia Malki | 8\n",
    "Maële Belmont | 8\n",
    "\n",
    "\n",
    "To do:\n",
    "- 2b\n",
    "- update figure numbers"
   ]
  },
  {
   "cell_type": "markdown",
   "metadata": {},
   "source": [
    "## Setup\n",
    "Python modules need to be loaded to solve the tasks."
   ]
  },
  {
   "cell_type": "code",
   "execution_count": 47,
   "metadata": {},
   "outputs": [],
   "source": [
    "import numpy as np\n",
    "import matplotlib.pyplot as plt\n",
    "import pandas as pd\n",
    "import plotly.express as px\n",
    "from sklearn.linear_model import LinearRegression"
   ]
  },
  {
   "cell_type": "markdown",
   "metadata": {},
   "source": [
    "## Task 1 - Download some data related to GDP per capita and life expectancy <br>\n",
    "#### A. Write a Python program that draws a scatter plot of GDP per capita vs life expectancy. State any assumptions and motivate decisions that you make when selecting data to be plotted, and in combining data. [1p]\n",
    "\n"
   ]
  },
  {
   "cell_type": "markdown",
   "metadata": {},
   "source": [
    "When extracting the data, we chose to not include population size as a parameter. As we are primarily interested in exploring the relationship between life expectancy and GDP, we did not consider the population size data to be contributing to this relationship. Disincluding this data makes it easier to focus and study the other two data entities.\n",
    "\n",
    "In terms of countries, we chose to remove data points with null values in the columns of interest ('Life expectancy' and 'GDP per capita'). Among the available data, we chose only to focus on the data obtained in 2018. The reason for this lies in the assumption that recent data, in this context, is more accurate as it is more available today than it might have been in the nineteen hundreds. \n",
    "\n",
    "In order to visualize the data in a readable manner, we chose to group countries together by their respective continents and color code these. The continents for each entity were defined only in the year 2015, thus we found a way (describe in the code) to replace NaN values in the 'Continent' column. To minimize cluttering, we used Plotly to create an interactive plot, which displays more information (country and exact value of life expectancy and GDP per capita) when the cursor is on a dot. GDP per capita (x-axis) was plotted on a log scale to avoid cluttering on the left side of the plot.\n",
    "\n",
    "It is possible to study any data between the year 1543 and 2018. In other words, the program is not limited to only data from one specific year though only data for one year  is plotted at a time. \n"
   ]
  },
  {
   "cell_type": "code",
   "execution_count": 48,
   "metadata": {},
   "outputs": [],
   "source": [
    "def GDPperCapita(csv_file, column1, column2, title):\n",
    "    \"\"\"\n",
    "    input: \n",
    "    - csv_file (string): name of csv file\n",
    "    - column1 (string): name of column for data GDP per capita\n",
    "    - column2 (string): name of column for the other data entity (ex: 'Life expectancy')\n",
    "    - title (string): Title of the plot\n",
    "    output:\n",
    "    - finalData (dataframe): dataframe containing data for the chosen year without NaN values\n",
    "    \"\"\"\n",
    "    #Read the csv file containing the downloaded data\n",
    "    rawData = pd.read_csv(csv_file)\n",
    "    \n",
    "    #Remove rows containing NaN value in the 'GDP per capita' or 'Life expectancy'\n",
    "    noNaN = rawData.dropna(subset=[column1, column2])\n",
    "    \n",
    "    #Print list with years for which data is available\n",
    "    yearList = [] #create empty list\n",
    "    for i in range(len(noNaN)):\n",
    "        if noNaN['Year'].values[i] not in yearList: #if the year value is not in the list yet, ...\n",
    "            yearList.append(noNaN['Year'].values[i]) #...it is added at the end of the list\n",
    "    yearlist = yearList.sort() #the list is sorted it in ascending order to make it easier to read         \n",
    "    print('---------------------------------------------------------------------------------------------------------------------')\n",
    "    print('List of years for which data is available: \\n')\n",
    "    print(yearList)\n",
    "    print('---------------------------------------------------------------------------------------------------------------------')\n",
    "\n",
    "    #Create a new table with the data for year of interest chosen by the user\n",
    "    year = int(input('Year of interest for the data \"%s\": \\n' % (title)))\n",
    "    print('---------------------------------------------------------------------------------------------------------------------')\n",
    "    yearData = rawData.loc[rawData['Year']==year].reset_index()\n",
    "        \n",
    "    #Replace NaN values in 'Continent' by the continent value for every country\n",
    "    year2015 = rawData.loc[rawData['Year']==2015].reset_index() #continents are defined only in 2015, but we want them to be defined for all the years.\n",
    "    for i in range(len(yearData)):\n",
    "        for j in range(len(year2015)):\n",
    "            if yearData['Entity'][i] == year2015['Entity'][j]: #compare the 'Entity' of the chosen year to the 'Entity' in 2015 and if they are the same...\n",
    "                yearData.at[i, 'Continent'] = year2015['Continent'][j] #...assign the 'Continent' value of 2015 to the 'Continent' value of the chosen year 'Continent' value of 2015 to the 'Continent' value of the chosen year\n",
    "\n",
    "    #Create a new table with only the relevant columns\n",
    "    relevantColumns = yearData.loc[:, ['Entity','Year', column1, column2, 'Continent']]\n",
    "\n",
    "    #Create a new table without rows containing NaN values\n",
    "    finalData = relevantColumns.dropna()\n",
    "    \n",
    "    return finalData"
   ]
  },
  {
   "cell_type": "code",
   "execution_count": 49,
   "metadata": {},
   "outputs": [],
   "source": [
    "def plotFigure(finalData, xlabel, ylabel, title, min_x, max_x, min_y, max_y, nbFigure):\n",
    "    \"\"\"\n",
    "    input: \n",
    "    - finalData: dataframe will be plotted\n",
    "    - xlabel: label displayed under x-axis\n",
    "    - ylabel: label displayed under y-axis\n",
    "    - title of the plot\n",
    "    output:\n",
    "    - figure with the plot\n",
    "    \"\"\" \n",
    "    ###Plot \n",
    "    try:\n",
    "        print('Figure', nbFigure,':')\n",
    "        #Set axis limits\n",
    "        year = finalData['Year'].values[0]\n",
    "        column1=finalData.columns[2]\n",
    "        column2=finalData.columns[3]\n",
    "        minimum_x = finalData[column1].min()-min_x\n",
    "        maximum_x = finalData[column1].max()+max_x\n",
    "        minimum_y = finalData[column2].min()-min_y \n",
    "        maximum_y = finalData[column2].max()+max_y\n",
    "\n",
    "        #Create Plotly figure\n",
    "        fig = px.scatter(finalData, x=column1, \n",
    "                     y=column2, \n",
    "                     color='Continent', hover_data=['Entity'], \n",
    "                     log_x=True, title=f'{title}, {year}',\n",
    "                     labels={column1: xlabel, column2: ylabel},\n",
    "                     trendline='ols', \n",
    "                     trendline_options=dict(log_x=True), trendline_scope='overall', trendline_color_override='black', \n",
    "                     range_x=[minimum_x, maximum_x], range_y=[minimum_y, maximum_y])\n",
    "        #Display figure\n",
    "        fig.show()\n",
    "    except:\n",
    "        print('No data available for this year, please run the cell again and try with another year.\\n')"
   ]
  },
  {
   "cell_type": "markdown",
   "metadata": {},
   "source": [
    "---"
   ]
  },
  {
   "cell_type": "code",
   "execution_count": 50,
   "metadata": {},
   "outputs": [
    {
     "name": "stdout",
     "output_type": "stream",
     "text": [
      "---------------------------------------------------------------------------------------------------------------------\n",
      "List of years for which data is available: \n",
      "\n",
      "[1543, 1548, 1553, 1558, 1563, 1568, 1573, 1578, 1583, 1588, 1593, 1598, 1603, 1608, 1613, 1618, 1623, 1628, 1633, 1638, 1643, 1648, 1653, 1658, 1663, 1668, 1673, 1678, 1683, 1688, 1693, 1698, 1703, 1708, 1713, 1718, 1723, 1728, 1733, 1738, 1743, 1748, 1751, 1752, 1753, 1754, 1755, 1756, 1757, 1758, 1759, 1760, 1761, 1762, 1763, 1764, 1765, 1766, 1767, 1768, 1769, 1770, 1771, 1772, 1773, 1774, 1775, 1776, 1777, 1778, 1779, 1780, 1781, 1782, 1783, 1784, 1785, 1786, 1787, 1788, 1789, 1790, 1791, 1792, 1793, 1794, 1795, 1796, 1797, 1798, 1799, 1800, 1801, 1802, 1803, 1804, 1805, 1806, 1807, 1808, 1809, 1810, 1811, 1812, 1813, 1814, 1815, 1816, 1817, 1818, 1819, 1820, 1821, 1822, 1823, 1824, 1825, 1826, 1827, 1828, 1829, 1830, 1831, 1832, 1833, 1834, 1835, 1836, 1837, 1838, 1839, 1840, 1841, 1842, 1843, 1844, 1845, 1846, 1847, 1848, 1849, 1850, 1851, 1852, 1853, 1854, 1855, 1856, 1857, 1858, 1859, 1860, 1861, 1862, 1863, 1864, 1865, 1866, 1867, 1868, 1869, 1870, 1871, 1872, 1873, 1874, 1875, 1876, 1877, 1878, 1879, 1880, 1881, 1882, 1883, 1884, 1885, 1886, 1887, 1888, 1889, 1890, 1891, 1892, 1893, 1894, 1895, 1896, 1897, 1898, 1899, 1900, 1901, 1902, 1903, 1904, 1905, 1906, 1907, 1908, 1909, 1910, 1911, 1912, 1913, 1914, 1915, 1916, 1917, 1918, 1919, 1920, 1921, 1922, 1923, 1924, 1925, 1926, 1927, 1928, 1929, 1930, 1931, 1932, 1933, 1934, 1935, 1936, 1937, 1938, 1939, 1940, 1941, 1942, 1943, 1944, 1945, 1946, 1947, 1948, 1949, 1950, 1951, 1952, 1953, 1954, 1955, 1956, 1957, 1958, 1959, 1960, 1961, 1962, 1963, 1964, 1965, 1966, 1967, 1968, 1969, 1970, 1971, 1972, 1973, 1974, 1975, 1976, 1977, 1978, 1979, 1980, 1981, 1982, 1983, 1984, 1985, 1986, 1987, 1988, 1989, 1990, 1991, 1992, 1993, 1994, 1995, 1996, 1997, 1998, 1999, 2000, 2001, 2002, 2003, 2004, 2005, 2006, 2007, 2008, 2009, 2010, 2011, 2012, 2013, 2014, 2015, 2016, 2017, 2018]\n",
      "---------------------------------------------------------------------------------------------------------------------\n",
      "Year of interest for the data \"Life expectancy vs. GDP per capita\": \n",
      "2018\n",
      "---------------------------------------------------------------------------------------------------------------------\n",
      "Figure 1 :\n"
     ]
    },
    {
     "data": {
      "application/vnd.plotly.v1+json": {
       "config": {
        "plotlyServerURL": "https://plot.ly"
       },
       "data": [
        {
         "customdata": [
          [
           "Afghanistan"
          ],
          [
           "Armenia"
          ],
          [
           "Azerbaijan"
          ],
          [
           "Bahrain"
          ],
          [
           "Bangladesh"
          ],
          [
           "Cambodia"
          ],
          [
           "China"
          ],
          [
           "Georgia"
          ],
          [
           "Hong Kong"
          ],
          [
           "India"
          ],
          [
           "Indonesia"
          ],
          [
           "Iran"
          ],
          [
           "Iraq"
          ],
          [
           "Israel"
          ],
          [
           "Japan"
          ],
          [
           "Jordan"
          ],
          [
           "Kazakhstan"
          ],
          [
           "Kuwait"
          ],
          [
           "Kyrgyzstan"
          ],
          [
           "Laos"
          ],
          [
           "Lebanon"
          ],
          [
           "Malaysia"
          ],
          [
           "Mongolia"
          ],
          [
           "Myanmar"
          ],
          [
           "Nepal"
          ],
          [
           "North Korea"
          ],
          [
           "Oman"
          ],
          [
           "Pakistan"
          ],
          [
           "Palestine"
          ],
          [
           "Philippines"
          ],
          [
           "Qatar"
          ],
          [
           "Saudi Arabia"
          ],
          [
           "Singapore"
          ],
          [
           "South Korea"
          ],
          [
           "Sri Lanka"
          ],
          [
           "Syria"
          ],
          [
           "Taiwan"
          ],
          [
           "Tajikistan"
          ],
          [
           "Thailand"
          ],
          [
           "Turkey"
          ],
          [
           "Turkmenistan"
          ],
          [
           "United Arab Emirates"
          ],
          [
           "Uzbekistan"
          ],
          [
           "Vietnam"
          ],
          [
           "Yemen"
          ]
         ],
         "hovertemplate": "Continent=Asia<br>GDP per capita ($)=%{x}<br>Life expectancy (years)=%{y}<br>Entity=%{customdata[0]}<extra></extra>",
         "legendgroup": "Asia",
         "marker": {
          "color": "#636efa",
          "symbol": "circle"
         },
         "mode": "markers",
         "name": "Asia",
         "orientation": "v",
         "showlegend": true,
         "type": "scatter",
         "x": [
          1934.555,
          11454.4251,
          16628.0553,
          39498.7672,
          4099.253,
          3628.5611,
          13101.7064,
          11984.9049,
          50839.3714,
          6806.4986,
          11851.7372,
          17011.3042,
          12835.8126,
          32954.7701,
          38673.8081,
          11506.3383,
          25307.5554,
          65520.7367,
          5176.9883,
          6450.9066,
          12558.9669,
          24842.3559,
          13382.5423,
          5838.2173,
          2727.4238,
          1596.3517,
          36477.6365,
          5510.3967,
          5207.7569,
          8139.1395,
          153764.1643,
          50304.7502,
          68402.3451,
          37927.6095,
          11662.9064,
          3349.4597,
          44663.8642,
          4440.3819,
          16648.6237,
          19270.2202,
          26318.366,
          76397.8181,
          11220.3702,
          6814.1423,
          2284.8899
         ],
         "xaxis": "x",
         "y": [
          64.486,
          74.945,
          72.86399999999999,
          77.163,
          72.32,
          69.57,
          76.704,
          73.6,
          84.68700000000001,
          69.416,
          71.509,
          76.479,
          70.454,
          82.819,
          84.47,
          74.405,
          73.236,
          75.398,
          71.321,
          67.61,
          78.875,
          75.997,
          69.689,
          66.867,
          70.47800000000001,
          72.095,
          77.633,
          67.11399999999999,
          73.895,
          71.095,
          80.1,
          74.998,
          83.458,
          82.846,
          76.812,
          71.779,
          80.283,
          70.87899999999999,
          76.931,
          77.437,
          68.07300000000001,
          77.814,
          71.57300000000001,
          75.317,
          66.096
         ],
         "yaxis": "y"
        },
        {
         "customdata": [
          [
           "Albania"
          ],
          [
           "Austria"
          ],
          [
           "Belarus"
          ],
          [
           "Belgium"
          ],
          [
           "Bosnia and Herzegovina"
          ],
          [
           "Bulgaria"
          ],
          [
           "Croatia"
          ],
          [
           "Cyprus"
          ],
          [
           "Czechia"
          ],
          [
           "Denmark"
          ],
          [
           "Estonia"
          ],
          [
           "Finland"
          ],
          [
           "France"
          ],
          [
           "Germany"
          ],
          [
           "Greece"
          ],
          [
           "Hungary"
          ],
          [
           "Iceland"
          ],
          [
           "Ireland"
          ],
          [
           "Italy"
          ],
          [
           "Latvia"
          ],
          [
           "Lithuania"
          ],
          [
           "Luxembourg"
          ],
          [
           "Malta"
          ],
          [
           "Moldova"
          ],
          [
           "Montenegro"
          ],
          [
           "Netherlands"
          ],
          [
           "North Macedonia"
          ],
          [
           "Norway"
          ],
          [
           "Poland"
          ],
          [
           "Portugal"
          ],
          [
           "Romania"
          ],
          [
           "Russia"
          ],
          [
           "Serbia"
          ],
          [
           "Slovakia"
          ],
          [
           "Slovenia"
          ],
          [
           "Spain"
          ],
          [
           "Sweden"
          ],
          [
           "Switzerland"
          ],
          [
           "Ukraine"
          ],
          [
           "United Kingdom"
          ]
         ],
         "hovertemplate": "Continent=Europe<br>GDP per capita ($)=%{x}<br>Life expectancy (years)=%{y}<br>Entity=%{customdata[0]}<extra></extra>",
         "legendgroup": "Europe",
         "marker": {
          "color": "#EF553B",
          "symbol": "circle"
         },
         "mode": "markers",
         "name": "Europe",
         "orientation": "v",
         "showlegend": true,
         "type": "scatter",
         "x": [
          11104.1665,
          42988.0709,
          18727.3176,
          39756.2031,
          10460.5201,
          18444.2602,
          22012.3147,
          27184.4166,
          30748.5084,
          46312.3443,
          27408.6649,
          38896.7005,
          38515.9193,
          46177.6187,
          23450.7658,
          25622.8123,
          43438.5412,
          64684.302,
          34364.1682,
          24312.6778,
          27370.5548,
          57427.5003,
          32028.9124,
          6746.7285,
          19504.1588,
          47474.1095,
          13074.2313,
          84580.1362,
          27455.237,
          27035.6002,
          20126.2922,
          24668.9079,
          14124.1177,
          27075.5344,
          29244.9198,
          31496.52,
          45541.8921,
          61372.7301,
          9813.3637,
          38058.0856
         ],
         "xaxis": "x",
         "y": [
          78.458,
          81.434,
          74.59,
          81.468,
          77.262,
          74.928,
          78.342,
          80.828,
          79.222,
          80.78399999999999,
          78.567,
          81.736,
          82.541,
          81.18,
          82.072,
          76.70100000000001,
          82.855,
          82.103,
          83.352,
          75.172,
          75.737,
          82.102,
          82.376,
          71.808,
          76.77,
          82.14299999999999,
          75.688,
          82.271,
          78.544,
          81.857,
          75.92399999999999,
          72.38600000000001,
          75.84899999999999,
          77.388,
          81.172,
          83.43299999999999,
          82.654,
          83.63,
          71.953,
          81.236
         ],
         "yaxis": "y"
        },
        {
         "customdata": [
          [
           "Algeria"
          ],
          [
           "Angola"
          ],
          [
           "Benin"
          ],
          [
           "Botswana"
          ],
          [
           "Burkina Faso"
          ],
          [
           "Burundi"
          ],
          [
           "Cameroon"
          ],
          [
           "Cape Verde"
          ],
          [
           "Central African Republic"
          ],
          [
           "Chad"
          ],
          [
           "Comoros"
          ],
          [
           "Congo"
          ],
          [
           "Cote d'Ivoire"
          ],
          [
           "Democratic Republic of Congo"
          ],
          [
           "Djibouti"
          ],
          [
           "Egypt"
          ],
          [
           "Equatorial Guinea"
          ],
          [
           "Eswatini"
          ],
          [
           "Ethiopia"
          ],
          [
           "Gabon"
          ],
          [
           "Gambia"
          ],
          [
           "Ghana"
          ],
          [
           "Guinea"
          ],
          [
           "Guinea-Bissau"
          ],
          [
           "Kenya"
          ],
          [
           "Lesotho"
          ],
          [
           "Liberia"
          ],
          [
           "Libya"
          ],
          [
           "Madagascar"
          ],
          [
           "Malawi"
          ],
          [
           "Mali"
          ],
          [
           "Mauritania"
          ],
          [
           "Mauritius"
          ],
          [
           "Morocco"
          ],
          [
           "Mozambique"
          ],
          [
           "Namibia"
          ],
          [
           "Niger"
          ],
          [
           "Nigeria"
          ],
          [
           "Rwanda"
          ],
          [
           "Sao Tome and Principe"
          ],
          [
           "Senegal"
          ],
          [
           "Seychelles"
          ],
          [
           "Sierra Leone"
          ],
          [
           "South Africa"
          ],
          [
           "Sudan"
          ],
          [
           "Tanzania"
          ],
          [
           "Togo"
          ],
          [
           "Tunisia"
          ],
          [
           "Uganda"
          ],
          [
           "Zambia"
          ],
          [
           "Zimbabwe"
          ]
         ],
         "hovertemplate": "Continent=Africa<br>GDP per capita ($)=%{x}<br>Life expectancy (years)=%{y}<br>Entity=%{customdata[0]}<extra></extra>",
         "legendgroup": "Africa",
         "marker": {
          "color": "#00cc96",
          "symbol": "circle"
         },
         "mode": "markers",
         "name": "Africa",
         "orientation": "v",
         "showlegend": true,
         "type": "scatter",
         "x": [
          14228.025,
          7771.4418,
          2220.1766,
          15842.1301,
          1589.6242,
          651.3589,
          2888.0459,
          6831.215999999999,
          623.4889,
          2046.3631,
          1724.4206,
          5714.5917,
          3713.6436,
          859.3817,
          3295.6815,
          11957.2122,
          28528.952999999998,
          8068.2118,
          1838.4903,
          17613.5564,
          1882.2399,
          4267.0667,
          1606.4666,
          1501.4136,
          3377.4704,
          2731.4661,
          818.4211,
          15013.3124,
          1427.6004,
          1116.6402,
          1667.2951,
          3457.515,
          20138.5723,
          8451.1355,
          1132.7709,
          9043.1202,
          964.6601,
          5237.6623,
          1929.2851,
          3730.2045,
          2617.1244,
          29531.0612,
          1683.8497,
          12165.7948,
          3379.5957,
          2874.9629,
          1451.3609,
          11353.8865,
          2045.4203,
          3534.0337,
          1611.4052
         ],
         "xaxis": "x",
         "y": [
          76.693,
          60.782,
          61.47,
          69.275,
          61.174,
          61.247,
          58.92100000000001,
          72.782,
          52.805,
          53.977,
          64.118,
          64.29,
          57.422,
          60.368,
          66.582,
          71.825,
          58.402,
          59.401,
          66.24,
          66.187,
          61.735,
          63.78,
          61.185,
          58.003,
          66.342,
          53.705,
          63.73,
          72.72399999999999,
          66.681,
          63.798,
          58.893,
          64.704,
          74.863,
          76.453,
          60.163000000000004,
          63.373000000000005,
          62.023999999999994,
          54.332,
          68.7,
          70.17,
          67.665,
          73.333,
          54.309,
          63.857,
          65.095,
          65.015,
          60.76,
          76.505,
          62.973,
          63.51,
          61.195
         ],
         "yaxis": "y"
        },
        {
         "customdata": [
          [
           "Argentina"
          ],
          [
           "Bolivia"
          ],
          [
           "Brazil"
          ],
          [
           "Chile"
          ],
          [
           "Colombia"
          ],
          [
           "Ecuador"
          ],
          [
           "Paraguay"
          ],
          [
           "Peru"
          ],
          [
           "Uruguay"
          ],
          [
           "Venezuela"
          ]
         ],
         "hovertemplate": "Continent=South America<br>GDP per capita ($)=%{x}<br>Life expectancy (years)=%{y}<br>Entity=%{customdata[0]}<extra></extra>",
         "legendgroup": "South America",
         "marker": {
          "color": "#ab63fa",
          "symbol": "circle"
         },
         "mode": "markers",
         "name": "South America",
         "orientation": "v",
         "showlegend": true,
         "type": "scatter",
         "x": [
          18556.3831,
          6695.7746,
          14033.5656,
          22104.7654,
          13545.0495,
          10638.8251,
          9338.9484,
          12310.0847,
          20185.836,
          10709.9506
         ],
         "xaxis": "x",
         "y": [
          76.52,
          71.23899999999999,
          75.672,
          80.042,
          77.109,
          76.8,
          74.131,
          76.516,
          77.77,
          72.128
         ],
         "yaxis": "y"
        },
        {
         "customdata": [
          [
           "Australia"
          ],
          [
           "New Zealand"
          ]
         ],
         "hovertemplate": "Continent=Oceania<br>GDP per capita ($)=%{x}<br>Life expectancy (years)=%{y}<br>Entity=%{customdata[0]}<extra></extra>",
         "legendgroup": "Oceania",
         "marker": {
          "color": "#FFA15A",
          "symbol": "circle"
         },
         "mode": "markers",
         "name": "Oceania",
         "orientation": "v",
         "showlegend": true,
         "type": "scatter",
         "x": [
          49830.7993,
          35336.1363
         ],
         "xaxis": "x",
         "y": [
          83.281,
          82.145
         ],
         "yaxis": "y"
        },
        {
         "customdata": [
          [
           "Barbados"
          ],
          [
           "Canada"
          ],
          [
           "Costa Rica"
          ],
          [
           "Cuba"
          ],
          [
           "Dominica"
          ],
          [
           "Dominican Republic"
          ],
          [
           "El Salvador"
          ],
          [
           "Guatemala"
          ],
          [
           "Haiti"
          ],
          [
           "Honduras"
          ],
          [
           "Jamaica"
          ],
          [
           "Mexico"
          ],
          [
           "Nicaragua"
          ],
          [
           "Panama"
          ],
          [
           "Puerto Rico"
          ],
          [
           "Saint Lucia"
          ],
          [
           "Trinidad and Tobago"
          ],
          [
           "United States"
          ]
         ],
         "hovertemplate": "Continent=North America<br>GDP per capita ($)=%{x}<br>Life expectancy (years)=%{y}<br>Entity=%{customdata[0]}<extra></extra>",
         "legendgroup": "North America",
         "marker": {
          "color": "#19d3f3",
          "symbol": "circle"
         },
         "mode": "markers",
         "name": "North America",
         "orientation": "v",
         "showlegend": true,
         "type": "scatter",
         "x": [
          11995.1868,
          44868.7435,
          14686.2539,
          8325.6313,
          9021.1737,
          15912.3995,
          8598.1982,
          7402.1146,
          1729.0432,
          5041.6354,
          7272.9805,
          16494.078999999998,
          4952.4772,
          22637.1482,
          35076.2933,
          10475.3689,
          28549.4083,
          55334.7394
         ],
         "xaxis": "x",
         "y": [
          79.081,
          82.315,
          80.095,
          78.726,
          74.806,
          73.892,
          73.096,
          74.063,
          63.66,
          75.08800000000001,
          74.368,
          74.992,
          74.275,
          78.329,
          79.952,
          76.057,
          73.38,
          78.851
         ],
         "yaxis": "y"
        },
        {
         "hovertemplate": "<b>OLS trendline</b><br>Life expectancy = 12.2435 * log10(GDP per capita) + 23.3933<br>R<sup>2</sup>=0.674900<br><br>GDP per capita ($)=%{x}<br>Life expectancy (years)=%{y} <b>(trend)</b><extra></extra>",
         "legendgroup": "Overall Trendline",
         "line": {
          "color": "black"
         },
         "mode": "lines",
         "name": "Overall Trendline",
         "showlegend": true,
         "type": "scatter",
         "x": [
          623.4889,
          651.3589,
          818.4211,
          859.3817,
          964.6601,
          1116.6402,
          1132.7709,
          1427.6004,
          1451.3609,
          1501.4136,
          1589.6242,
          1596.3517,
          1606.4666,
          1611.4052,
          1667.2951,
          1683.8497,
          1724.4206,
          1729.0432,
          1838.4903,
          1882.2399,
          1929.2851,
          1934.555,
          2045.4203,
          2046.3631,
          2220.1766,
          2284.8899,
          2617.1244,
          2727.4238,
          2731.4661,
          2874.9629,
          2888.0459,
          3295.6815,
          3349.4597,
          3377.4704,
          3379.5957,
          3457.515,
          3534.0337,
          3628.5611,
          3713.6436,
          3730.2045,
          4099.253,
          4267.0667,
          4440.3819,
          4952.4772,
          5041.6354,
          5176.9883,
          5207.7569,
          5237.6623,
          5510.3967,
          5714.5917,
          5838.2173,
          6450.9066,
          6695.7746,
          6746.7285,
          6806.4986,
          6814.1423,
          6831.215999999999,
          7272.9805,
          7402.1146,
          7771.4418,
          8068.2118,
          8139.1395,
          8325.6313,
          8451.1355,
          8598.1982,
          9021.1737,
          9043.1202,
          9338.9484,
          9813.3637,
          10460.5201,
          10475.3689,
          10638.8251,
          10709.9506,
          11104.1665,
          11220.3702,
          11353.8865,
          11454.4251,
          11506.3383,
          11662.9064,
          11851.7372,
          11957.2122,
          11984.9049,
          11995.1868,
          12165.7948,
          12310.0847,
          12558.9669,
          12835.8126,
          13074.2313,
          13101.7064,
          13382.5423,
          13545.0495,
          14033.5656,
          14124.1177,
          14228.025,
          14686.2539,
          15013.3124,
          15842.1301,
          15912.3995,
          16494.078999999998,
          16628.0553,
          16648.6237,
          17011.3042,
          17613.5564,
          18444.2602,
          18556.3831,
          18727.3176,
          19270.2202,
          19504.1588,
          20126.2922,
          20138.5723,
          20185.836,
          22012.3147,
          22104.7654,
          22637.1482,
          23450.7658,
          24312.6778,
          24668.9079,
          24842.3559,
          25307.5554,
          25622.8123,
          26318.366,
          27035.6002,
          27075.5344,
          27184.4166,
          27370.5548,
          27408.6649,
          27455.237,
          28528.952999999998,
          28549.4083,
          29244.9198,
          29531.0612,
          30748.5084,
          31496.52,
          32028.9124,
          32954.7701,
          34364.1682,
          35076.2933,
          35336.1363,
          36477.6365,
          37927.6095,
          38058.0856,
          38515.9193,
          38673.8081,
          38896.7005,
          39498.7672,
          39756.2031,
          42988.0709,
          43438.5412,
          44663.8642,
          44868.7435,
          45541.8921,
          46177.6187,
          46312.3443,
          47474.1095,
          49830.7993,
          50304.7502,
          50839.3714,
          55334.7394,
          57427.5003,
          61372.7301,
          64684.302,
          65520.7367,
          68402.3451,
          76397.8181,
          84580.1362,
          153764.1643
         ],
         "xaxis": "x",
         "y": [
          57.61177456401782,
          57.84429852984073,
          59.0583207160562,
          59.317996582145824,
          59.932475981838394,
          60.71041502805758,
          60.7866776470929,
          62.016715693085146,
          62.10448638059992,
          62.284771017970186,
          62.58833782858632,
          62.61079379533511,
          62.644379203218534,
          62.660700525714475,
          62.84199875978983,
          62.894533782169034,
          63.02113008332279,
          63.03536488947232,
          63.36172148565642,
          63.486772095614796,
          63.61803998224978,
          63.63254450318047,
          63.92885532831497,
          63.93130567106117,
          64.36478464429723,
          64.51755606074306,
          65.23942165871155,
          65.45892630219048,
          65.4668011864009,
          65.7390529137909,
          65.76319521675677,
          66.46525149717489,
          66.55131745788017,
          66.59559968430295,
          66.598944575381,
          66.72014694892974,
          66.83654117257058,
          66.97689764228858,
          67.10013803847173,
          67.12379761896717,
          67.6254392970027,
          67.83877871284402,
          68.05047975049777,
          68.63084810810938,
          68.72572238227303,
          68.86659301013411,
          68.89810189639414,
          68.92854891827223,
          69.19846142495422,
          69.39193738287359,
          69.50574132019926,
          70.03638071114904,
          70.23448141701707,
          70.27479201642382,
          70.32169105861877,
          70.32765902031235,
          70.3409654891101,
          70.67416506054138,
          70.7677468006601,
          71.02664533290861,
          71.2259167608913,
          71.2724567733044,
          71.39291667815782,
          71.4724736024068,
          71.56420664243296,
          71.81955209615332,
          71.83247215178038,
          72.00363226966343,
          72.26711139712604,
          72.60668956344294,
          72.61423214325607,
          72.69656163945183,
          72.73199186000633,
          72.92419641336022,
          72.97955198181722,
          73.04245127780709,
          73.08932855730203,
          73.11337285562753,
          73.18523793452542,
          73.27063907273161,
          73.31775112618304,
          73.3300516281546,
          73.33461139308143,
          73.40970654956489,
          73.47240005420346,
          73.57883126528145,
          73.69477050089907,
          73.79263029909475,
          73.80379268631125,
          73.9165646482217,
          73.98074472847425,
          74.16914075888357,
          74.2033405138671,
          74.24231514460749,
          74.410864215771,
          74.52797928529918,
          74.81370650411904,
          74.83723971364284,
          75.02814522055539,
          75.07116140895,
          75.07773466392005,
          75.19232492871447,
          75.37731740044462,
          75.62236108544838,
          75.65458707540768,
          75.70334370167721,
          75.85529902256216,
          75.91946165831986,
          76.08642074999173,
          76.08966411305032,
          76.10212875487214,
          76.5627166440891,
          76.58500222553685,
          76.71154864161265,
          76.89930657467734,
          77.09123280581302,
          77.16857657279549,
          77.20583177731906,
          77.30448276054494,
          77.37031114954347,
          77.51272909635483,
          77.65569758771555,
          77.66354593691705,
          77.68488611130016,
          77.72117074587497,
          77.72856925489596,
          77.73759658087714,
          77.94158108361151,
          77.94539221803055,
          78.07337747763742,
          78.12515057327214,
          78.33996277389795,
          78.46776677834035,
          78.55689480199952,
          78.70842151560772,
          78.9311007811491,
          79.04016412561442,
          79.07940905518953,
          79.24846277051059,
          79.45573028273473,
          79.47399106777145,
          79.53757559714835,
          79.55932825422578,
          79.58988588702047,
          79.67155955895086,
          79.70610287458173,
          80.12168467792499,
          80.17711437400978,
          80.32502886214918,
          80.34936420654569,
          80.4285449072379,
          80.502256449775,
          80.51774731654523,
          80.64948813416466,
          80.90710393829814,
          80.95743872133072,
          81.01365077663787,
          81.46418337646939,
          81.66157361882436,
          82.01486630009133,
          82.29430524900967,
          82.3626224580208,
          82.59148064543464,
          83.1792906391693,
          83.72029937189481,
          86.89854975894261
         ],
         "yaxis": "y"
        }
       ],
       "layout": {
        "legend": {
         "title": {
          "text": "Continent"
         },
         "tracegroupgap": 0
        },
        "template": {
         "data": {
          "bar": [
           {
            "error_x": {
             "color": "#2a3f5f"
            },
            "error_y": {
             "color": "#2a3f5f"
            },
            "marker": {
             "line": {
              "color": "#E5ECF6",
              "width": 0.5
             },
             "pattern": {
              "fillmode": "overlay",
              "size": 10,
              "solidity": 0.2
             }
            },
            "type": "bar"
           }
          ],
          "barpolar": [
           {
            "marker": {
             "line": {
              "color": "#E5ECF6",
              "width": 0.5
             },
             "pattern": {
              "fillmode": "overlay",
              "size": 10,
              "solidity": 0.2
             }
            },
            "type": "barpolar"
           }
          ],
          "carpet": [
           {
            "aaxis": {
             "endlinecolor": "#2a3f5f",
             "gridcolor": "white",
             "linecolor": "white",
             "minorgridcolor": "white",
             "startlinecolor": "#2a3f5f"
            },
            "baxis": {
             "endlinecolor": "#2a3f5f",
             "gridcolor": "white",
             "linecolor": "white",
             "minorgridcolor": "white",
             "startlinecolor": "#2a3f5f"
            },
            "type": "carpet"
           }
          ],
          "choropleth": [
           {
            "colorbar": {
             "outlinewidth": 0,
             "ticks": ""
            },
            "type": "choropleth"
           }
          ],
          "contour": [
           {
            "colorbar": {
             "outlinewidth": 0,
             "ticks": ""
            },
            "colorscale": [
             [
              0,
              "#0d0887"
             ],
             [
              0.1111111111111111,
              "#46039f"
             ],
             [
              0.2222222222222222,
              "#7201a8"
             ],
             [
              0.3333333333333333,
              "#9c179e"
             ],
             [
              0.4444444444444444,
              "#bd3786"
             ],
             [
              0.5555555555555556,
              "#d8576b"
             ],
             [
              0.6666666666666666,
              "#ed7953"
             ],
             [
              0.7777777777777778,
              "#fb9f3a"
             ],
             [
              0.8888888888888888,
              "#fdca26"
             ],
             [
              1,
              "#f0f921"
             ]
            ],
            "type": "contour"
           }
          ],
          "contourcarpet": [
           {
            "colorbar": {
             "outlinewidth": 0,
             "ticks": ""
            },
            "type": "contourcarpet"
           }
          ],
          "heatmap": [
           {
            "colorbar": {
             "outlinewidth": 0,
             "ticks": ""
            },
            "colorscale": [
             [
              0,
              "#0d0887"
             ],
             [
              0.1111111111111111,
              "#46039f"
             ],
             [
              0.2222222222222222,
              "#7201a8"
             ],
             [
              0.3333333333333333,
              "#9c179e"
             ],
             [
              0.4444444444444444,
              "#bd3786"
             ],
             [
              0.5555555555555556,
              "#d8576b"
             ],
             [
              0.6666666666666666,
              "#ed7953"
             ],
             [
              0.7777777777777778,
              "#fb9f3a"
             ],
             [
              0.8888888888888888,
              "#fdca26"
             ],
             [
              1,
              "#f0f921"
             ]
            ],
            "type": "heatmap"
           }
          ],
          "heatmapgl": [
           {
            "colorbar": {
             "outlinewidth": 0,
             "ticks": ""
            },
            "colorscale": [
             [
              0,
              "#0d0887"
             ],
             [
              0.1111111111111111,
              "#46039f"
             ],
             [
              0.2222222222222222,
              "#7201a8"
             ],
             [
              0.3333333333333333,
              "#9c179e"
             ],
             [
              0.4444444444444444,
              "#bd3786"
             ],
             [
              0.5555555555555556,
              "#d8576b"
             ],
             [
              0.6666666666666666,
              "#ed7953"
             ],
             [
              0.7777777777777778,
              "#fb9f3a"
             ],
             [
              0.8888888888888888,
              "#fdca26"
             ],
             [
              1,
              "#f0f921"
             ]
            ],
            "type": "heatmapgl"
           }
          ],
          "histogram": [
           {
            "marker": {
             "pattern": {
              "fillmode": "overlay",
              "size": 10,
              "solidity": 0.2
             }
            },
            "type": "histogram"
           }
          ],
          "histogram2d": [
           {
            "colorbar": {
             "outlinewidth": 0,
             "ticks": ""
            },
            "colorscale": [
             [
              0,
              "#0d0887"
             ],
             [
              0.1111111111111111,
              "#46039f"
             ],
             [
              0.2222222222222222,
              "#7201a8"
             ],
             [
              0.3333333333333333,
              "#9c179e"
             ],
             [
              0.4444444444444444,
              "#bd3786"
             ],
             [
              0.5555555555555556,
              "#d8576b"
             ],
             [
              0.6666666666666666,
              "#ed7953"
             ],
             [
              0.7777777777777778,
              "#fb9f3a"
             ],
             [
              0.8888888888888888,
              "#fdca26"
             ],
             [
              1,
              "#f0f921"
             ]
            ],
            "type": "histogram2d"
           }
          ],
          "histogram2dcontour": [
           {
            "colorbar": {
             "outlinewidth": 0,
             "ticks": ""
            },
            "colorscale": [
             [
              0,
              "#0d0887"
             ],
             [
              0.1111111111111111,
              "#46039f"
             ],
             [
              0.2222222222222222,
              "#7201a8"
             ],
             [
              0.3333333333333333,
              "#9c179e"
             ],
             [
              0.4444444444444444,
              "#bd3786"
             ],
             [
              0.5555555555555556,
              "#d8576b"
             ],
             [
              0.6666666666666666,
              "#ed7953"
             ],
             [
              0.7777777777777778,
              "#fb9f3a"
             ],
             [
              0.8888888888888888,
              "#fdca26"
             ],
             [
              1,
              "#f0f921"
             ]
            ],
            "type": "histogram2dcontour"
           }
          ],
          "mesh3d": [
           {
            "colorbar": {
             "outlinewidth": 0,
             "ticks": ""
            },
            "type": "mesh3d"
           }
          ],
          "parcoords": [
           {
            "line": {
             "colorbar": {
              "outlinewidth": 0,
              "ticks": ""
             }
            },
            "type": "parcoords"
           }
          ],
          "pie": [
           {
            "automargin": true,
            "type": "pie"
           }
          ],
          "scatter": [
           {
            "marker": {
             "colorbar": {
              "outlinewidth": 0,
              "ticks": ""
             }
            },
            "type": "scatter"
           }
          ],
          "scatter3d": [
           {
            "line": {
             "colorbar": {
              "outlinewidth": 0,
              "ticks": ""
             }
            },
            "marker": {
             "colorbar": {
              "outlinewidth": 0,
              "ticks": ""
             }
            },
            "type": "scatter3d"
           }
          ],
          "scattercarpet": [
           {
            "marker": {
             "colorbar": {
              "outlinewidth": 0,
              "ticks": ""
             }
            },
            "type": "scattercarpet"
           }
          ],
          "scattergeo": [
           {
            "marker": {
             "colorbar": {
              "outlinewidth": 0,
              "ticks": ""
             }
            },
            "type": "scattergeo"
           }
          ],
          "scattergl": [
           {
            "marker": {
             "colorbar": {
              "outlinewidth": 0,
              "ticks": ""
             }
            },
            "type": "scattergl"
           }
          ],
          "scattermapbox": [
           {
            "marker": {
             "colorbar": {
              "outlinewidth": 0,
              "ticks": ""
             }
            },
            "type": "scattermapbox"
           }
          ],
          "scatterpolar": [
           {
            "marker": {
             "colorbar": {
              "outlinewidth": 0,
              "ticks": ""
             }
            },
            "type": "scatterpolar"
           }
          ],
          "scatterpolargl": [
           {
            "marker": {
             "colorbar": {
              "outlinewidth": 0,
              "ticks": ""
             }
            },
            "type": "scatterpolargl"
           }
          ],
          "scatterternary": [
           {
            "marker": {
             "colorbar": {
              "outlinewidth": 0,
              "ticks": ""
             }
            },
            "type": "scatterternary"
           }
          ],
          "surface": [
           {
            "colorbar": {
             "outlinewidth": 0,
             "ticks": ""
            },
            "colorscale": [
             [
              0,
              "#0d0887"
             ],
             [
              0.1111111111111111,
              "#46039f"
             ],
             [
              0.2222222222222222,
              "#7201a8"
             ],
             [
              0.3333333333333333,
              "#9c179e"
             ],
             [
              0.4444444444444444,
              "#bd3786"
             ],
             [
              0.5555555555555556,
              "#d8576b"
             ],
             [
              0.6666666666666666,
              "#ed7953"
             ],
             [
              0.7777777777777778,
              "#fb9f3a"
             ],
             [
              0.8888888888888888,
              "#fdca26"
             ],
             [
              1,
              "#f0f921"
             ]
            ],
            "type": "surface"
           }
          ],
          "table": [
           {
            "cells": {
             "fill": {
              "color": "#EBF0F8"
             },
             "line": {
              "color": "white"
             }
            },
            "header": {
             "fill": {
              "color": "#C8D4E3"
             },
             "line": {
              "color": "white"
             }
            },
            "type": "table"
           }
          ]
         },
         "layout": {
          "annotationdefaults": {
           "arrowcolor": "#2a3f5f",
           "arrowhead": 0,
           "arrowwidth": 1
          },
          "autotypenumbers": "strict",
          "coloraxis": {
           "colorbar": {
            "outlinewidth": 0,
            "ticks": ""
           }
          },
          "colorscale": {
           "diverging": [
            [
             0,
             "#8e0152"
            ],
            [
             0.1,
             "#c51b7d"
            ],
            [
             0.2,
             "#de77ae"
            ],
            [
             0.3,
             "#f1b6da"
            ],
            [
             0.4,
             "#fde0ef"
            ],
            [
             0.5,
             "#f7f7f7"
            ],
            [
             0.6,
             "#e6f5d0"
            ],
            [
             0.7,
             "#b8e186"
            ],
            [
             0.8,
             "#7fbc41"
            ],
            [
             0.9,
             "#4d9221"
            ],
            [
             1,
             "#276419"
            ]
           ],
           "sequential": [
            [
             0,
             "#0d0887"
            ],
            [
             0.1111111111111111,
             "#46039f"
            ],
            [
             0.2222222222222222,
             "#7201a8"
            ],
            [
             0.3333333333333333,
             "#9c179e"
            ],
            [
             0.4444444444444444,
             "#bd3786"
            ],
            [
             0.5555555555555556,
             "#d8576b"
            ],
            [
             0.6666666666666666,
             "#ed7953"
            ],
            [
             0.7777777777777778,
             "#fb9f3a"
            ],
            [
             0.8888888888888888,
             "#fdca26"
            ],
            [
             1,
             "#f0f921"
            ]
           ],
           "sequentialminus": [
            [
             0,
             "#0d0887"
            ],
            [
             0.1111111111111111,
             "#46039f"
            ],
            [
             0.2222222222222222,
             "#7201a8"
            ],
            [
             0.3333333333333333,
             "#9c179e"
            ],
            [
             0.4444444444444444,
             "#bd3786"
            ],
            [
             0.5555555555555556,
             "#d8576b"
            ],
            [
             0.6666666666666666,
             "#ed7953"
            ],
            [
             0.7777777777777778,
             "#fb9f3a"
            ],
            [
             0.8888888888888888,
             "#fdca26"
            ],
            [
             1,
             "#f0f921"
            ]
           ]
          },
          "colorway": [
           "#636efa",
           "#EF553B",
           "#00cc96",
           "#ab63fa",
           "#FFA15A",
           "#19d3f3",
           "#FF6692",
           "#B6E880",
           "#FF97FF",
           "#FECB52"
          ],
          "font": {
           "color": "#2a3f5f"
          },
          "geo": {
           "bgcolor": "white",
           "lakecolor": "white",
           "landcolor": "#E5ECF6",
           "showlakes": true,
           "showland": true,
           "subunitcolor": "white"
          },
          "hoverlabel": {
           "align": "left"
          },
          "hovermode": "closest",
          "mapbox": {
           "style": "light"
          },
          "paper_bgcolor": "white",
          "plot_bgcolor": "#E5ECF6",
          "polar": {
           "angularaxis": {
            "gridcolor": "white",
            "linecolor": "white",
            "ticks": ""
           },
           "bgcolor": "#E5ECF6",
           "radialaxis": {
            "gridcolor": "white",
            "linecolor": "white",
            "ticks": ""
           }
          },
          "scene": {
           "xaxis": {
            "backgroundcolor": "#E5ECF6",
            "gridcolor": "white",
            "gridwidth": 2,
            "linecolor": "white",
            "showbackground": true,
            "ticks": "",
            "zerolinecolor": "white"
           },
           "yaxis": {
            "backgroundcolor": "#E5ECF6",
            "gridcolor": "white",
            "gridwidth": 2,
            "linecolor": "white",
            "showbackground": true,
            "ticks": "",
            "zerolinecolor": "white"
           },
           "zaxis": {
            "backgroundcolor": "#E5ECF6",
            "gridcolor": "white",
            "gridwidth": 2,
            "linecolor": "white",
            "showbackground": true,
            "ticks": "",
            "zerolinecolor": "white"
           }
          },
          "shapedefaults": {
           "line": {
            "color": "#2a3f5f"
           }
          },
          "ternary": {
           "aaxis": {
            "gridcolor": "white",
            "linecolor": "white",
            "ticks": ""
           },
           "baxis": {
            "gridcolor": "white",
            "linecolor": "white",
            "ticks": ""
           },
           "bgcolor": "#E5ECF6",
           "caxis": {
            "gridcolor": "white",
            "linecolor": "white",
            "ticks": ""
           }
          },
          "title": {
           "x": 0.05
          },
          "xaxis": {
           "automargin": true,
           "gridcolor": "white",
           "linecolor": "white",
           "ticks": "",
           "title": {
            "standoff": 15
           },
           "zerolinecolor": "white",
           "zerolinewidth": 2
          },
          "yaxis": {
           "automargin": true,
           "gridcolor": "white",
           "linecolor": "white",
           "ticks": "",
           "title": {
            "standoff": 15
           },
           "zerolinecolor": "white",
           "zerolinewidth": 2
          }
         }
        },
        "title": {
         "text": "Life expectancy vs. GDP per capita, 2018"
        },
        "xaxis": {
         "anchor": "y",
         "domain": [
          0,
          1
         ],
         "range": [
          2.7189074773809407,
          5.214218873312952
         ],
         "title": {
          "text": "GDP per capita ($)"
         },
         "type": "log"
        },
        "yaxis": {
         "anchor": "x",
         "domain": [
          0,
          1
         ],
         "range": [
          51.805,
          89.68700000000001
         ],
         "title": {
          "text": "Life expectancy (years)"
         }
        }
       }
      },
      "text/html": [
       "<div>                            <div id=\"38fe99f9-0e58-4a99-baa2-f7e08e732ef5\" class=\"plotly-graph-div\" style=\"height:525px; width:100%;\"></div>            <script type=\"text/javascript\">                require([\"plotly\"], function(Plotly) {                    window.PLOTLYENV=window.PLOTLYENV || {};                                    if (document.getElementById(\"38fe99f9-0e58-4a99-baa2-f7e08e732ef5\")) {                    Plotly.newPlot(                        \"38fe99f9-0e58-4a99-baa2-f7e08e732ef5\",                        [{\"customdata\":[[\"Afghanistan\"],[\"Armenia\"],[\"Azerbaijan\"],[\"Bahrain\"],[\"Bangladesh\"],[\"Cambodia\"],[\"China\"],[\"Georgia\"],[\"Hong Kong\"],[\"India\"],[\"Indonesia\"],[\"Iran\"],[\"Iraq\"],[\"Israel\"],[\"Japan\"],[\"Jordan\"],[\"Kazakhstan\"],[\"Kuwait\"],[\"Kyrgyzstan\"],[\"Laos\"],[\"Lebanon\"],[\"Malaysia\"],[\"Mongolia\"],[\"Myanmar\"],[\"Nepal\"],[\"North Korea\"],[\"Oman\"],[\"Pakistan\"],[\"Palestine\"],[\"Philippines\"],[\"Qatar\"],[\"Saudi Arabia\"],[\"Singapore\"],[\"South Korea\"],[\"Sri Lanka\"],[\"Syria\"],[\"Taiwan\"],[\"Tajikistan\"],[\"Thailand\"],[\"Turkey\"],[\"Turkmenistan\"],[\"United Arab Emirates\"],[\"Uzbekistan\"],[\"Vietnam\"],[\"Yemen\"]],\"hovertemplate\":\"Continent=Asia<br>GDP per capita ($)=%{x}<br>Life expectancy (years)=%{y}<br>Entity=%{customdata[0]}<extra></extra>\",\"legendgroup\":\"Asia\",\"marker\":{\"color\":\"#636efa\",\"symbol\":\"circle\"},\"mode\":\"markers\",\"name\":\"Asia\",\"orientation\":\"v\",\"showlegend\":true,\"x\":[1934.555,11454.4251,16628.0553,39498.7672,4099.253,3628.5611,13101.7064,11984.9049,50839.3714,6806.4986,11851.7372,17011.3042,12835.8126,32954.7701,38673.8081,11506.3383,25307.5554,65520.7367,5176.9883,6450.9066,12558.9669,24842.3559,13382.5423,5838.2173,2727.4238,1596.3517,36477.6365,5510.3967,5207.7569,8139.1395,153764.1643,50304.7502,68402.3451,37927.6095,11662.9064,3349.4597,44663.8642,4440.3819,16648.6237,19270.2202,26318.366,76397.8181,11220.3702,6814.1423,2284.8899],\"xaxis\":\"x\",\"y\":[64.486,74.945,72.86399999999999,77.163,72.32,69.57,76.704,73.6,84.68700000000001,69.416,71.509,76.479,70.454,82.819,84.47,74.405,73.236,75.398,71.321,67.61,78.875,75.997,69.689,66.867,70.47800000000001,72.095,77.633,67.11399999999999,73.895,71.095,80.1,74.998,83.458,82.846,76.812,71.779,80.283,70.87899999999999,76.931,77.437,68.07300000000001,77.814,71.57300000000001,75.317,66.096],\"yaxis\":\"y\",\"type\":\"scatter\"},{\"customdata\":[[\"Albania\"],[\"Austria\"],[\"Belarus\"],[\"Belgium\"],[\"Bosnia and Herzegovina\"],[\"Bulgaria\"],[\"Croatia\"],[\"Cyprus\"],[\"Czechia\"],[\"Denmark\"],[\"Estonia\"],[\"Finland\"],[\"France\"],[\"Germany\"],[\"Greece\"],[\"Hungary\"],[\"Iceland\"],[\"Ireland\"],[\"Italy\"],[\"Latvia\"],[\"Lithuania\"],[\"Luxembourg\"],[\"Malta\"],[\"Moldova\"],[\"Montenegro\"],[\"Netherlands\"],[\"North Macedonia\"],[\"Norway\"],[\"Poland\"],[\"Portugal\"],[\"Romania\"],[\"Russia\"],[\"Serbia\"],[\"Slovakia\"],[\"Slovenia\"],[\"Spain\"],[\"Sweden\"],[\"Switzerland\"],[\"Ukraine\"],[\"United Kingdom\"]],\"hovertemplate\":\"Continent=Europe<br>GDP per capita ($)=%{x}<br>Life expectancy (years)=%{y}<br>Entity=%{customdata[0]}<extra></extra>\",\"legendgroup\":\"Europe\",\"marker\":{\"color\":\"#EF553B\",\"symbol\":\"circle\"},\"mode\":\"markers\",\"name\":\"Europe\",\"orientation\":\"v\",\"showlegend\":true,\"x\":[11104.1665,42988.0709,18727.3176,39756.2031,10460.5201,18444.2602,22012.3147,27184.4166,30748.5084,46312.3443,27408.6649,38896.7005,38515.9193,46177.6187,23450.7658,25622.8123,43438.5412,64684.302,34364.1682,24312.6778,27370.5548,57427.5003,32028.9124,6746.7285,19504.1588,47474.1095,13074.2313,84580.1362,27455.237,27035.6002,20126.2922,24668.9079,14124.1177,27075.5344,29244.9198,31496.52,45541.8921,61372.7301,9813.3637,38058.0856],\"xaxis\":\"x\",\"y\":[78.458,81.434,74.59,81.468,77.262,74.928,78.342,80.828,79.222,80.78399999999999,78.567,81.736,82.541,81.18,82.072,76.70100000000001,82.855,82.103,83.352,75.172,75.737,82.102,82.376,71.808,76.77,82.14299999999999,75.688,82.271,78.544,81.857,75.92399999999999,72.38600000000001,75.84899999999999,77.388,81.172,83.43299999999999,82.654,83.63,71.953,81.236],\"yaxis\":\"y\",\"type\":\"scatter\"},{\"customdata\":[[\"Algeria\"],[\"Angola\"],[\"Benin\"],[\"Botswana\"],[\"Burkina Faso\"],[\"Burundi\"],[\"Cameroon\"],[\"Cape Verde\"],[\"Central African Republic\"],[\"Chad\"],[\"Comoros\"],[\"Congo\"],[\"Cote d'Ivoire\"],[\"Democratic Republic of Congo\"],[\"Djibouti\"],[\"Egypt\"],[\"Equatorial Guinea\"],[\"Eswatini\"],[\"Ethiopia\"],[\"Gabon\"],[\"Gambia\"],[\"Ghana\"],[\"Guinea\"],[\"Guinea-Bissau\"],[\"Kenya\"],[\"Lesotho\"],[\"Liberia\"],[\"Libya\"],[\"Madagascar\"],[\"Malawi\"],[\"Mali\"],[\"Mauritania\"],[\"Mauritius\"],[\"Morocco\"],[\"Mozambique\"],[\"Namibia\"],[\"Niger\"],[\"Nigeria\"],[\"Rwanda\"],[\"Sao Tome and Principe\"],[\"Senegal\"],[\"Seychelles\"],[\"Sierra Leone\"],[\"South Africa\"],[\"Sudan\"],[\"Tanzania\"],[\"Togo\"],[\"Tunisia\"],[\"Uganda\"],[\"Zambia\"],[\"Zimbabwe\"]],\"hovertemplate\":\"Continent=Africa<br>GDP per capita ($)=%{x}<br>Life expectancy (years)=%{y}<br>Entity=%{customdata[0]}<extra></extra>\",\"legendgroup\":\"Africa\",\"marker\":{\"color\":\"#00cc96\",\"symbol\":\"circle\"},\"mode\":\"markers\",\"name\":\"Africa\",\"orientation\":\"v\",\"showlegend\":true,\"x\":[14228.025,7771.4418,2220.1766,15842.1301,1589.6242,651.3589,2888.0459,6831.215999999999,623.4889,2046.3631,1724.4206,5714.5917,3713.6436,859.3817,3295.6815,11957.2122,28528.952999999998,8068.2118,1838.4903,17613.5564,1882.2399,4267.0667,1606.4666,1501.4136,3377.4704,2731.4661,818.4211,15013.3124,1427.6004,1116.6402,1667.2951,3457.515,20138.5723,8451.1355,1132.7709,9043.1202,964.6601,5237.6623,1929.2851,3730.2045,2617.1244,29531.0612,1683.8497,12165.7948,3379.5957,2874.9629,1451.3609,11353.8865,2045.4203,3534.0337,1611.4052],\"xaxis\":\"x\",\"y\":[76.693,60.782,61.47,69.275,61.174,61.247,58.92100000000001,72.782,52.805,53.977,64.118,64.29,57.422,60.368,66.582,71.825,58.402,59.401,66.24,66.187,61.735,63.78,61.185,58.003,66.342,53.705,63.73,72.72399999999999,66.681,63.798,58.893,64.704,74.863,76.453,60.163000000000004,63.373000000000005,62.023999999999994,54.332,68.7,70.17,67.665,73.333,54.309,63.857,65.095,65.015,60.76,76.505,62.973,63.51,61.195],\"yaxis\":\"y\",\"type\":\"scatter\"},{\"customdata\":[[\"Argentina\"],[\"Bolivia\"],[\"Brazil\"],[\"Chile\"],[\"Colombia\"],[\"Ecuador\"],[\"Paraguay\"],[\"Peru\"],[\"Uruguay\"],[\"Venezuela\"]],\"hovertemplate\":\"Continent=South America<br>GDP per capita ($)=%{x}<br>Life expectancy (years)=%{y}<br>Entity=%{customdata[0]}<extra></extra>\",\"legendgroup\":\"South America\",\"marker\":{\"color\":\"#ab63fa\",\"symbol\":\"circle\"},\"mode\":\"markers\",\"name\":\"South America\",\"orientation\":\"v\",\"showlegend\":true,\"x\":[18556.3831,6695.7746,14033.5656,22104.7654,13545.0495,10638.8251,9338.9484,12310.0847,20185.836,10709.9506],\"xaxis\":\"x\",\"y\":[76.52,71.23899999999999,75.672,80.042,77.109,76.8,74.131,76.516,77.77,72.128],\"yaxis\":\"y\",\"type\":\"scatter\"},{\"customdata\":[[\"Australia\"],[\"New Zealand\"]],\"hovertemplate\":\"Continent=Oceania<br>GDP per capita ($)=%{x}<br>Life expectancy (years)=%{y}<br>Entity=%{customdata[0]}<extra></extra>\",\"legendgroup\":\"Oceania\",\"marker\":{\"color\":\"#FFA15A\",\"symbol\":\"circle\"},\"mode\":\"markers\",\"name\":\"Oceania\",\"orientation\":\"v\",\"showlegend\":true,\"x\":[49830.7993,35336.1363],\"xaxis\":\"x\",\"y\":[83.281,82.145],\"yaxis\":\"y\",\"type\":\"scatter\"},{\"customdata\":[[\"Barbados\"],[\"Canada\"],[\"Costa Rica\"],[\"Cuba\"],[\"Dominica\"],[\"Dominican Republic\"],[\"El Salvador\"],[\"Guatemala\"],[\"Haiti\"],[\"Honduras\"],[\"Jamaica\"],[\"Mexico\"],[\"Nicaragua\"],[\"Panama\"],[\"Puerto Rico\"],[\"Saint Lucia\"],[\"Trinidad and Tobago\"],[\"United States\"]],\"hovertemplate\":\"Continent=North America<br>GDP per capita ($)=%{x}<br>Life expectancy (years)=%{y}<br>Entity=%{customdata[0]}<extra></extra>\",\"legendgroup\":\"North America\",\"marker\":{\"color\":\"#19d3f3\",\"symbol\":\"circle\"},\"mode\":\"markers\",\"name\":\"North America\",\"orientation\":\"v\",\"showlegend\":true,\"x\":[11995.1868,44868.7435,14686.2539,8325.6313,9021.1737,15912.3995,8598.1982,7402.1146,1729.0432,5041.6354,7272.9805,16494.078999999998,4952.4772,22637.1482,35076.2933,10475.3689,28549.4083,55334.7394],\"xaxis\":\"x\",\"y\":[79.081,82.315,80.095,78.726,74.806,73.892,73.096,74.063,63.66,75.08800000000001,74.368,74.992,74.275,78.329,79.952,76.057,73.38,78.851],\"yaxis\":\"y\",\"type\":\"scatter\"},{\"hovertemplate\":\"<b>OLS trendline</b><br>Life expectancy = 12.2435 * log10(GDP per capita) + 23.3933<br>R<sup>2</sup>=0.674900<br><br>GDP per capita ($)=%{x}<br>Life expectancy (years)=%{y} <b>(trend)</b><extra></extra>\",\"legendgroup\":\"Overall Trendline\",\"line\":{\"color\":\"black\"},\"mode\":\"lines\",\"name\":\"Overall Trendline\",\"showlegend\":true,\"x\":[623.4889,651.3589,818.4211,859.3817,964.6601,1116.6402,1132.7709,1427.6004,1451.3609,1501.4136,1589.6242,1596.3517,1606.4666,1611.4052,1667.2951,1683.8497,1724.4206,1729.0432,1838.4903,1882.2399,1929.2851,1934.555,2045.4203,2046.3631,2220.1766,2284.8899,2617.1244,2727.4238,2731.4661,2874.9629,2888.0459,3295.6815,3349.4597,3377.4704,3379.5957,3457.515,3534.0337,3628.5611,3713.6436,3730.2045,4099.253,4267.0667,4440.3819,4952.4772,5041.6354,5176.9883,5207.7569,5237.6623,5510.3967,5714.5917,5838.2173,6450.9066,6695.7746,6746.7285,6806.4986,6814.1423,6831.215999999999,7272.9805,7402.1146,7771.4418,8068.2118,8139.1395,8325.6313,8451.1355,8598.1982,9021.1737,9043.1202,9338.9484,9813.3637,10460.5201,10475.3689,10638.8251,10709.9506,11104.1665,11220.3702,11353.8865,11454.4251,11506.3383,11662.9064,11851.7372,11957.2122,11984.9049,11995.1868,12165.7948,12310.0847,12558.9669,12835.8126,13074.2313,13101.7064,13382.5423,13545.0495,14033.5656,14124.1177,14228.025,14686.2539,15013.3124,15842.1301,15912.3995,16494.078999999998,16628.0553,16648.6237,17011.3042,17613.5564,18444.2602,18556.3831,18727.3176,19270.2202,19504.1588,20126.2922,20138.5723,20185.836,22012.3147,22104.7654,22637.1482,23450.7658,24312.6778,24668.9079,24842.3559,25307.5554,25622.8123,26318.366,27035.6002,27075.5344,27184.4166,27370.5548,27408.6649,27455.237,28528.952999999998,28549.4083,29244.9198,29531.0612,30748.5084,31496.52,32028.9124,32954.7701,34364.1682,35076.2933,35336.1363,36477.6365,37927.6095,38058.0856,38515.9193,38673.8081,38896.7005,39498.7672,39756.2031,42988.0709,43438.5412,44663.8642,44868.7435,45541.8921,46177.6187,46312.3443,47474.1095,49830.7993,50304.7502,50839.3714,55334.7394,57427.5003,61372.7301,64684.302,65520.7367,68402.3451,76397.8181,84580.1362,153764.1643],\"y\":[57.61177456401782,57.84429852984073,59.0583207160562,59.317996582145824,59.932475981838394,60.71041502805758,60.7866776470929,62.016715693085146,62.10448638059992,62.284771017970186,62.58833782858632,62.61079379533511,62.644379203218534,62.660700525714475,62.84199875978983,62.894533782169034,63.02113008332279,63.03536488947232,63.36172148565642,63.486772095614796,63.61803998224978,63.63254450318047,63.92885532831497,63.93130567106117,64.36478464429723,64.51755606074306,65.23942165871155,65.45892630219048,65.4668011864009,65.7390529137909,65.76319521675677,66.46525149717489,66.55131745788017,66.59559968430295,66.598944575381,66.72014694892974,66.83654117257058,66.97689764228858,67.10013803847173,67.12379761896717,67.6254392970027,67.83877871284402,68.05047975049777,68.63084810810938,68.72572238227303,68.86659301013411,68.89810189639414,68.92854891827223,69.19846142495422,69.39193738287359,69.50574132019926,70.03638071114904,70.23448141701707,70.27479201642382,70.32169105861877,70.32765902031235,70.3409654891101,70.67416506054138,70.7677468006601,71.02664533290861,71.2259167608913,71.2724567733044,71.39291667815782,71.4724736024068,71.56420664243296,71.81955209615332,71.83247215178038,72.00363226966343,72.26711139712604,72.60668956344294,72.61423214325607,72.69656163945183,72.73199186000633,72.92419641336022,72.97955198181722,73.04245127780709,73.08932855730203,73.11337285562753,73.18523793452542,73.27063907273161,73.31775112618304,73.3300516281546,73.33461139308143,73.40970654956489,73.47240005420346,73.57883126528145,73.69477050089907,73.79263029909475,73.80379268631125,73.9165646482217,73.98074472847425,74.16914075888357,74.2033405138671,74.24231514460749,74.410864215771,74.52797928529918,74.81370650411904,74.83723971364284,75.02814522055539,75.07116140895,75.07773466392005,75.19232492871447,75.37731740044462,75.62236108544838,75.65458707540768,75.70334370167721,75.85529902256216,75.91946165831986,76.08642074999173,76.08966411305032,76.10212875487214,76.5627166440891,76.58500222553685,76.71154864161265,76.89930657467734,77.09123280581302,77.16857657279549,77.20583177731906,77.30448276054494,77.37031114954347,77.51272909635483,77.65569758771555,77.66354593691705,77.68488611130016,77.72117074587497,77.72856925489596,77.73759658087714,77.94158108361151,77.94539221803055,78.07337747763742,78.12515057327214,78.33996277389795,78.46776677834035,78.55689480199952,78.70842151560772,78.9311007811491,79.04016412561442,79.07940905518953,79.24846277051059,79.45573028273473,79.47399106777145,79.53757559714835,79.55932825422578,79.58988588702047,79.67155955895086,79.70610287458173,80.12168467792499,80.17711437400978,80.32502886214918,80.34936420654569,80.4285449072379,80.502256449775,80.51774731654523,80.64948813416466,80.90710393829814,80.95743872133072,81.01365077663787,81.46418337646939,81.66157361882436,82.01486630009133,82.29430524900967,82.3626224580208,82.59148064543464,83.1792906391693,83.72029937189481,86.89854975894261],\"type\":\"scatter\",\"xaxis\":\"x\",\"yaxis\":\"y\"}],                        {\"template\":{\"data\":{\"bar\":[{\"error_x\":{\"color\":\"#2a3f5f\"},\"error_y\":{\"color\":\"#2a3f5f\"},\"marker\":{\"line\":{\"color\":\"#E5ECF6\",\"width\":0.5},\"pattern\":{\"fillmode\":\"overlay\",\"size\":10,\"solidity\":0.2}},\"type\":\"bar\"}],\"barpolar\":[{\"marker\":{\"line\":{\"color\":\"#E5ECF6\",\"width\":0.5},\"pattern\":{\"fillmode\":\"overlay\",\"size\":10,\"solidity\":0.2}},\"type\":\"barpolar\"}],\"carpet\":[{\"aaxis\":{\"endlinecolor\":\"#2a3f5f\",\"gridcolor\":\"white\",\"linecolor\":\"white\",\"minorgridcolor\":\"white\",\"startlinecolor\":\"#2a3f5f\"},\"baxis\":{\"endlinecolor\":\"#2a3f5f\",\"gridcolor\":\"white\",\"linecolor\":\"white\",\"minorgridcolor\":\"white\",\"startlinecolor\":\"#2a3f5f\"},\"type\":\"carpet\"}],\"choropleth\":[{\"colorbar\":{\"outlinewidth\":0,\"ticks\":\"\"},\"type\":\"choropleth\"}],\"contour\":[{\"colorbar\":{\"outlinewidth\":0,\"ticks\":\"\"},\"colorscale\":[[0.0,\"#0d0887\"],[0.1111111111111111,\"#46039f\"],[0.2222222222222222,\"#7201a8\"],[0.3333333333333333,\"#9c179e\"],[0.4444444444444444,\"#bd3786\"],[0.5555555555555556,\"#d8576b\"],[0.6666666666666666,\"#ed7953\"],[0.7777777777777778,\"#fb9f3a\"],[0.8888888888888888,\"#fdca26\"],[1.0,\"#f0f921\"]],\"type\":\"contour\"}],\"contourcarpet\":[{\"colorbar\":{\"outlinewidth\":0,\"ticks\":\"\"},\"type\":\"contourcarpet\"}],\"heatmap\":[{\"colorbar\":{\"outlinewidth\":0,\"ticks\":\"\"},\"colorscale\":[[0.0,\"#0d0887\"],[0.1111111111111111,\"#46039f\"],[0.2222222222222222,\"#7201a8\"],[0.3333333333333333,\"#9c179e\"],[0.4444444444444444,\"#bd3786\"],[0.5555555555555556,\"#d8576b\"],[0.6666666666666666,\"#ed7953\"],[0.7777777777777778,\"#fb9f3a\"],[0.8888888888888888,\"#fdca26\"],[1.0,\"#f0f921\"]],\"type\":\"heatmap\"}],\"heatmapgl\":[{\"colorbar\":{\"outlinewidth\":0,\"ticks\":\"\"},\"colorscale\":[[0.0,\"#0d0887\"],[0.1111111111111111,\"#46039f\"],[0.2222222222222222,\"#7201a8\"],[0.3333333333333333,\"#9c179e\"],[0.4444444444444444,\"#bd3786\"],[0.5555555555555556,\"#d8576b\"],[0.6666666666666666,\"#ed7953\"],[0.7777777777777778,\"#fb9f3a\"],[0.8888888888888888,\"#fdca26\"],[1.0,\"#f0f921\"]],\"type\":\"heatmapgl\"}],\"histogram\":[{\"marker\":{\"pattern\":{\"fillmode\":\"overlay\",\"size\":10,\"solidity\":0.2}},\"type\":\"histogram\"}],\"histogram2d\":[{\"colorbar\":{\"outlinewidth\":0,\"ticks\":\"\"},\"colorscale\":[[0.0,\"#0d0887\"],[0.1111111111111111,\"#46039f\"],[0.2222222222222222,\"#7201a8\"],[0.3333333333333333,\"#9c179e\"],[0.4444444444444444,\"#bd3786\"],[0.5555555555555556,\"#d8576b\"],[0.6666666666666666,\"#ed7953\"],[0.7777777777777778,\"#fb9f3a\"],[0.8888888888888888,\"#fdca26\"],[1.0,\"#f0f921\"]],\"type\":\"histogram2d\"}],\"histogram2dcontour\":[{\"colorbar\":{\"outlinewidth\":0,\"ticks\":\"\"},\"colorscale\":[[0.0,\"#0d0887\"],[0.1111111111111111,\"#46039f\"],[0.2222222222222222,\"#7201a8\"],[0.3333333333333333,\"#9c179e\"],[0.4444444444444444,\"#bd3786\"],[0.5555555555555556,\"#d8576b\"],[0.6666666666666666,\"#ed7953\"],[0.7777777777777778,\"#fb9f3a\"],[0.8888888888888888,\"#fdca26\"],[1.0,\"#f0f921\"]],\"type\":\"histogram2dcontour\"}],\"mesh3d\":[{\"colorbar\":{\"outlinewidth\":0,\"ticks\":\"\"},\"type\":\"mesh3d\"}],\"parcoords\":[{\"line\":{\"colorbar\":{\"outlinewidth\":0,\"ticks\":\"\"}},\"type\":\"parcoords\"}],\"pie\":[{\"automargin\":true,\"type\":\"pie\"}],\"scatter\":[{\"marker\":{\"colorbar\":{\"outlinewidth\":0,\"ticks\":\"\"}},\"type\":\"scatter\"}],\"scatter3d\":[{\"line\":{\"colorbar\":{\"outlinewidth\":0,\"ticks\":\"\"}},\"marker\":{\"colorbar\":{\"outlinewidth\":0,\"ticks\":\"\"}},\"type\":\"scatter3d\"}],\"scattercarpet\":[{\"marker\":{\"colorbar\":{\"outlinewidth\":0,\"ticks\":\"\"}},\"type\":\"scattercarpet\"}],\"scattergeo\":[{\"marker\":{\"colorbar\":{\"outlinewidth\":0,\"ticks\":\"\"}},\"type\":\"scattergeo\"}],\"scattergl\":[{\"marker\":{\"colorbar\":{\"outlinewidth\":0,\"ticks\":\"\"}},\"type\":\"scattergl\"}],\"scattermapbox\":[{\"marker\":{\"colorbar\":{\"outlinewidth\":0,\"ticks\":\"\"}},\"type\":\"scattermapbox\"}],\"scatterpolar\":[{\"marker\":{\"colorbar\":{\"outlinewidth\":0,\"ticks\":\"\"}},\"type\":\"scatterpolar\"}],\"scatterpolargl\":[{\"marker\":{\"colorbar\":{\"outlinewidth\":0,\"ticks\":\"\"}},\"type\":\"scatterpolargl\"}],\"scatterternary\":[{\"marker\":{\"colorbar\":{\"outlinewidth\":0,\"ticks\":\"\"}},\"type\":\"scatterternary\"}],\"surface\":[{\"colorbar\":{\"outlinewidth\":0,\"ticks\":\"\"},\"colorscale\":[[0.0,\"#0d0887\"],[0.1111111111111111,\"#46039f\"],[0.2222222222222222,\"#7201a8\"],[0.3333333333333333,\"#9c179e\"],[0.4444444444444444,\"#bd3786\"],[0.5555555555555556,\"#d8576b\"],[0.6666666666666666,\"#ed7953\"],[0.7777777777777778,\"#fb9f3a\"],[0.8888888888888888,\"#fdca26\"],[1.0,\"#f0f921\"]],\"type\":\"surface\"}],\"table\":[{\"cells\":{\"fill\":{\"color\":\"#EBF0F8\"},\"line\":{\"color\":\"white\"}},\"header\":{\"fill\":{\"color\":\"#C8D4E3\"},\"line\":{\"color\":\"white\"}},\"type\":\"table\"}]},\"layout\":{\"annotationdefaults\":{\"arrowcolor\":\"#2a3f5f\",\"arrowhead\":0,\"arrowwidth\":1},\"autotypenumbers\":\"strict\",\"coloraxis\":{\"colorbar\":{\"outlinewidth\":0,\"ticks\":\"\"}},\"colorscale\":{\"diverging\":[[0,\"#8e0152\"],[0.1,\"#c51b7d\"],[0.2,\"#de77ae\"],[0.3,\"#f1b6da\"],[0.4,\"#fde0ef\"],[0.5,\"#f7f7f7\"],[0.6,\"#e6f5d0\"],[0.7,\"#b8e186\"],[0.8,\"#7fbc41\"],[0.9,\"#4d9221\"],[1,\"#276419\"]],\"sequential\":[[0.0,\"#0d0887\"],[0.1111111111111111,\"#46039f\"],[0.2222222222222222,\"#7201a8\"],[0.3333333333333333,\"#9c179e\"],[0.4444444444444444,\"#bd3786\"],[0.5555555555555556,\"#d8576b\"],[0.6666666666666666,\"#ed7953\"],[0.7777777777777778,\"#fb9f3a\"],[0.8888888888888888,\"#fdca26\"],[1.0,\"#f0f921\"]],\"sequentialminus\":[[0.0,\"#0d0887\"],[0.1111111111111111,\"#46039f\"],[0.2222222222222222,\"#7201a8\"],[0.3333333333333333,\"#9c179e\"],[0.4444444444444444,\"#bd3786\"],[0.5555555555555556,\"#d8576b\"],[0.6666666666666666,\"#ed7953\"],[0.7777777777777778,\"#fb9f3a\"],[0.8888888888888888,\"#fdca26\"],[1.0,\"#f0f921\"]]},\"colorway\":[\"#636efa\",\"#EF553B\",\"#00cc96\",\"#ab63fa\",\"#FFA15A\",\"#19d3f3\",\"#FF6692\",\"#B6E880\",\"#FF97FF\",\"#FECB52\"],\"font\":{\"color\":\"#2a3f5f\"},\"geo\":{\"bgcolor\":\"white\",\"lakecolor\":\"white\",\"landcolor\":\"#E5ECF6\",\"showlakes\":true,\"showland\":true,\"subunitcolor\":\"white\"},\"hoverlabel\":{\"align\":\"left\"},\"hovermode\":\"closest\",\"mapbox\":{\"style\":\"light\"},\"paper_bgcolor\":\"white\",\"plot_bgcolor\":\"#E5ECF6\",\"polar\":{\"angularaxis\":{\"gridcolor\":\"white\",\"linecolor\":\"white\",\"ticks\":\"\"},\"bgcolor\":\"#E5ECF6\",\"radialaxis\":{\"gridcolor\":\"white\",\"linecolor\":\"white\",\"ticks\":\"\"}},\"scene\":{\"xaxis\":{\"backgroundcolor\":\"#E5ECF6\",\"gridcolor\":\"white\",\"gridwidth\":2,\"linecolor\":\"white\",\"showbackground\":true,\"ticks\":\"\",\"zerolinecolor\":\"white\"},\"yaxis\":{\"backgroundcolor\":\"#E5ECF6\",\"gridcolor\":\"white\",\"gridwidth\":2,\"linecolor\":\"white\",\"showbackground\":true,\"ticks\":\"\",\"zerolinecolor\":\"white\"},\"zaxis\":{\"backgroundcolor\":\"#E5ECF6\",\"gridcolor\":\"white\",\"gridwidth\":2,\"linecolor\":\"white\",\"showbackground\":true,\"ticks\":\"\",\"zerolinecolor\":\"white\"}},\"shapedefaults\":{\"line\":{\"color\":\"#2a3f5f\"}},\"ternary\":{\"aaxis\":{\"gridcolor\":\"white\",\"linecolor\":\"white\",\"ticks\":\"\"},\"baxis\":{\"gridcolor\":\"white\",\"linecolor\":\"white\",\"ticks\":\"\"},\"bgcolor\":\"#E5ECF6\",\"caxis\":{\"gridcolor\":\"white\",\"linecolor\":\"white\",\"ticks\":\"\"}},\"title\":{\"x\":0.05},\"xaxis\":{\"automargin\":true,\"gridcolor\":\"white\",\"linecolor\":\"white\",\"ticks\":\"\",\"title\":{\"standoff\":15},\"zerolinecolor\":\"white\",\"zerolinewidth\":2},\"yaxis\":{\"automargin\":true,\"gridcolor\":\"white\",\"linecolor\":\"white\",\"ticks\":\"\",\"title\":{\"standoff\":15},\"zerolinecolor\":\"white\",\"zerolinewidth\":2}}},\"xaxis\":{\"anchor\":\"y\",\"domain\":[0.0,1.0],\"title\":{\"text\":\"GDP per capita ($)\"},\"type\":\"log\",\"range\":[2.7189074773809407,5.214218873312952]},\"yaxis\":{\"anchor\":\"x\",\"domain\":[0.0,1.0],\"title\":{\"text\":\"Life expectancy (years)\"},\"range\":[51.805,89.68700000000001]},\"legend\":{\"title\":{\"text\":\"Continent\"},\"tracegroupgap\":0},\"title\":{\"text\":\"Life expectancy vs. GDP per capita, 2018\"}},                        {\"responsive\": true}                    ).then(function(){\n",
       "                            \n",
       "var gd = document.getElementById('38fe99f9-0e58-4a99-baa2-f7e08e732ef5');\n",
       "var x = new MutationObserver(function (mutations, observer) {{\n",
       "        var display = window.getComputedStyle(gd).display;\n",
       "        if (!display || display === 'none') {{\n",
       "            console.log([gd, 'removed!']);\n",
       "            Plotly.purge(gd);\n",
       "            observer.disconnect();\n",
       "        }}\n",
       "}});\n",
       "\n",
       "// Listen for the removal of the full notebook cells\n",
       "var notebookContainer = gd.closest('#notebook-container');\n",
       "if (notebookContainer) {{\n",
       "    x.observe(notebookContainer, {childList: true});\n",
       "}}\n",
       "\n",
       "// Listen for the clearing of the current output cell\n",
       "var outputEl = gd.closest('.output');\n",
       "if (outputEl) {{\n",
       "    x.observe(outputEl, {childList: true});\n",
       "}}\n",
       "\n",
       "                        })                };                });            </script>        </div>"
      ]
     },
     "metadata": {},
     "output_type": "display_data"
    }
   ],
   "source": [
    "#Plot life expectancy vs GDP per capita\n",
    "plotFigure(GDPperCapita('life-expectancy-vs-gdp-per-capita.csv',\n",
    "          'GDP per capita',\n",
    "          'Life expectancy',\n",
    "          'Life expectancy vs. GDP per capita'), 'GDP per capita ($)', \n",
    "           'Life expectancy (years)', 'Life expectancy vs. GDP per capita', 100, 10000, 1, 5, 1)"
   ]
  },
  {
   "cell_type": "markdown",
   "metadata": {},
   "source": [
    "#### B. Consider whether the results obtained seem reasonable and discuss what might be the explanation for the results you obtained. [1p]"
   ]
  },
  {
   "cell_type": "markdown",
   "metadata": {},
   "source": [
    "The results show a clear trend. Countries with a higher GDP tend to also rank higher in life expectancy. However, this does mean that it is always true. We can for example see that Saudi Arabia has one of the higher GDP per capita at approximately \\\\$50,000 and a life expectancy of 75 years. On the same y-coordinate, we find Honduras which is one of Latin America's poorest countries with a GDP of  \\\\$5,000. Even though it seems to be a positive trend related to GDP per capita and life expectancy, deviations from the regression can reveal otherwise. Generally speaking, countries with higher GDP per capita might have the ability to provide better health care to their population as well as better living standards for the people, thus resulting in a higher life expectancy. One must however consider that other factors are at play when looking at life expectancy, not only GDP per capita.  "
   ]
  },
  {
   "cell_type": "markdown",
   "metadata": {},
   "source": [
    "#### C. Did you do any data cleaning (e.g., by removing entries that you think are not useful) for the task of drawing scatter plot(s) and the task of answering the questions d, e, f, and g? If so, explain what kind of entries that you chose to remove and why. If not, explain why you did not need to. [0.5p]"
   ]
  },
  {
   "cell_type": "markdown",
   "metadata": {},
   "source": [
    "As mentioned in question 1.b, we decided to remove the population size data in order to only focus on the relationship between GDP and life expectancy. Data points with null values, such as for example missing GDP data or life expectancy score, were also removed in order to avoid outliers. Lastly, we decided to only collect and visualize the data from 2018. The reasoning behind this has to do with the assumption that the quality and availability of recent data, within this context, is better than that of much earlier years. That being said, we do not believe there to be big differences between closeby years. "
   ]
  },
  {
   "cell_type": "markdown",
   "metadata": {},
   "source": [
    "#### D. Which countries have a life expectancy higher than one standard deviation above the mean? [0.5p]"
   ]
  },
  {
   "cell_type": "markdown",
   "metadata": {},
   "source": [
    "With a standard deviation of approximately 7.747 and a mean of approximately 2.66, one standard deviation above the mean would require the life expectancy to be at a minimum of 80.41. The countries with a life expectancy of one standard deviation above the mean would be those presented in table x. The data for these life expectancies are limited to that of a specific year supplied by the user. In this case, the input year was 2018. \n"
   ]
  },
  {
   "cell_type": "code",
   "execution_count": 5,
   "metadata": {},
   "outputs": [],
   "source": [
    "def aboveSD(finalData, ylabel, nbFigure):\n",
    "    \"\"\"\n",
    "    inputs: \n",
    "    - finalData (dataframe): dataframe containing the data of interest\n",
    "    - ylabel (string): data topic\n",
    "    output:\n",
    "    - displays dataframe with the data above the standard mean\n",
    "    \"\"\" \n",
    "    column1=finalData.columns[2] #GDP per capita\n",
    "    column2=finalData.columns[3] # Data on y-axis\n",
    "    \n",
    "    #Print useful statistical values\n",
    "    mean = finalData[column2].mean()\n",
    "    sd = finalData[column2].std()\n",
    "    oneSDAboveMean = mean + sd\n",
    "\n",
    "    Filter = finalData[column2] >= oneSDAboveMean\n",
    "    tableSDAboveMean = finalData[['Entity','Year', column2]]\n",
    "    \n",
    "    print('Figure', nbFigure, ':','Dataframe with countries having', ylabel ,'higher than the standard mean.')\n",
    "    display(tableSDAboveMean[Filter])"
   ]
  },
  {
   "cell_type": "code",
   "execution_count": 6,
   "metadata": {},
   "outputs": [
    {
     "name": "stdout",
     "output_type": "stream",
     "text": [
      "---------------------------------------------------------------------------------------------------------------------\n",
      "List of years for which data is available: \n",
      "\n",
      "[1543, 1548, 1553, 1558, 1563, 1568, 1573, 1578, 1583, 1588, 1593, 1598, 1603, 1608, 1613, 1618, 1623, 1628, 1633, 1638, 1643, 1648, 1653, 1658, 1663, 1668, 1673, 1678, 1683, 1688, 1693, 1698, 1703, 1708, 1713, 1718, 1723, 1728, 1733, 1738, 1743, 1748, 1751, 1752, 1753, 1754, 1755, 1756, 1757, 1758, 1759, 1760, 1761, 1762, 1763, 1764, 1765, 1766, 1767, 1768, 1769, 1770, 1771, 1772, 1773, 1774, 1775, 1776, 1777, 1778, 1779, 1780, 1781, 1782, 1783, 1784, 1785, 1786, 1787, 1788, 1789, 1790, 1791, 1792, 1793, 1794, 1795, 1796, 1797, 1798, 1799, 1800, 1801, 1802, 1803, 1804, 1805, 1806, 1807, 1808, 1809, 1810, 1811, 1812, 1813, 1814, 1815, 1816, 1817, 1818, 1819, 1820, 1821, 1822, 1823, 1824, 1825, 1826, 1827, 1828, 1829, 1830, 1831, 1832, 1833, 1834, 1835, 1836, 1837, 1838, 1839, 1840, 1841, 1842, 1843, 1844, 1845, 1846, 1847, 1848, 1849, 1850, 1851, 1852, 1853, 1854, 1855, 1856, 1857, 1858, 1859, 1860, 1861, 1862, 1863, 1864, 1865, 1866, 1867, 1868, 1869, 1870, 1871, 1872, 1873, 1874, 1875, 1876, 1877, 1878, 1879, 1880, 1881, 1882, 1883, 1884, 1885, 1886, 1887, 1888, 1889, 1890, 1891, 1892, 1893, 1894, 1895, 1896, 1897, 1898, 1899, 1900, 1901, 1902, 1903, 1904, 1905, 1906, 1907, 1908, 1909, 1910, 1911, 1912, 1913, 1914, 1915, 1916, 1917, 1918, 1919, 1920, 1921, 1922, 1923, 1924, 1925, 1926, 1927, 1928, 1929, 1930, 1931, 1932, 1933, 1934, 1935, 1936, 1937, 1938, 1939, 1940, 1941, 1942, 1943, 1944, 1945, 1946, 1947, 1948, 1949, 1950, 1951, 1952, 1953, 1954, 1955, 1956, 1957, 1958, 1959, 1960, 1961, 1962, 1963, 1964, 1965, 1966, 1967, 1968, 1969, 1970, 1971, 1972, 1973, 1974, 1975, 1976, 1977, 1978, 1979, 1980, 1981, 1982, 1983, 1984, 1985, 1986, 1987, 1988, 1989, 1990, 1991, 1992, 1993, 1994, 1995, 1996, 1997, 1998, 1999, 2000, 2001, 2002, 2003, 2004, 2005, 2006, 2007, 2008, 2009, 2010, 2011, 2012, 2013, 2014, 2015, 2016, 2017, 2018]\n",
      "---------------------------------------------------------------------------------------------------------------------\n",
      "Year of interest for the data \"Life expectancy vs. GDP per capita\": \n",
      "2018\n",
      "---------------------------------------------------------------------------------------------------------------------\n",
      "Figure 2 : Dataframe with countries having Life expectancy vs. GDP per capita higher than the standard mean.\n"
     ]
    },
    {
     "data": {
      "text/html": [
       "<div>\n",
       "<style scoped>\n",
       "    .dataframe tbody tr th:only-of-type {\n",
       "        vertical-align: middle;\n",
       "    }\n",
       "\n",
       "    .dataframe tbody tr th {\n",
       "        vertical-align: top;\n",
       "    }\n",
       "\n",
       "    .dataframe thead th {\n",
       "        text-align: right;\n",
       "    }\n",
       "</style>\n",
       "<table border=\"1\" class=\"dataframe\">\n",
       "  <thead>\n",
       "    <tr style=\"text-align: right;\">\n",
       "      <th></th>\n",
       "      <th>Entity</th>\n",
       "      <th>Year</th>\n",
       "      <th>Life expectancy</th>\n",
       "    </tr>\n",
       "  </thead>\n",
       "  <tbody>\n",
       "    <tr>\n",
       "      <th>14</th>\n",
       "      <td>Australia</td>\n",
       "      <td>2018</td>\n",
       "      <td>83.281</td>\n",
       "    </tr>\n",
       "    <tr>\n",
       "      <th>15</th>\n",
       "      <td>Austria</td>\n",
       "      <td>2018</td>\n",
       "      <td>81.434</td>\n",
       "    </tr>\n",
       "    <tr>\n",
       "      <th>22</th>\n",
       "      <td>Belgium</td>\n",
       "      <td>2018</td>\n",
       "      <td>81.468</td>\n",
       "    </tr>\n",
       "    <tr>\n",
       "      <th>39</th>\n",
       "      <td>Canada</td>\n",
       "      <td>2018</td>\n",
       "      <td>82.315</td>\n",
       "    </tr>\n",
       "    <tr>\n",
       "      <th>56</th>\n",
       "      <td>Cyprus</td>\n",
       "      <td>2018</td>\n",
       "      <td>80.828</td>\n",
       "    </tr>\n",
       "    <tr>\n",
       "      <th>60</th>\n",
       "      <td>Denmark</td>\n",
       "      <td>2018</td>\n",
       "      <td>80.784</td>\n",
       "    </tr>\n",
       "    <tr>\n",
       "      <th>78</th>\n",
       "      <td>Finland</td>\n",
       "      <td>2018</td>\n",
       "      <td>81.736</td>\n",
       "    </tr>\n",
       "    <tr>\n",
       "      <th>81</th>\n",
       "      <td>France</td>\n",
       "      <td>2018</td>\n",
       "      <td>82.541</td>\n",
       "    </tr>\n",
       "    <tr>\n",
       "      <th>87</th>\n",
       "      <td>Germany</td>\n",
       "      <td>2018</td>\n",
       "      <td>81.180</td>\n",
       "    </tr>\n",
       "    <tr>\n",
       "      <th>90</th>\n",
       "      <td>Greece</td>\n",
       "      <td>2018</td>\n",
       "      <td>82.072</td>\n",
       "    </tr>\n",
       "    <tr>\n",
       "      <th>101</th>\n",
       "      <td>Hong Kong</td>\n",
       "      <td>2018</td>\n",
       "      <td>84.687</td>\n",
       "    </tr>\n",
       "    <tr>\n",
       "      <th>103</th>\n",
       "      <td>Iceland</td>\n",
       "      <td>2018</td>\n",
       "      <td>82.855</td>\n",
       "    </tr>\n",
       "    <tr>\n",
       "      <th>108</th>\n",
       "      <td>Ireland</td>\n",
       "      <td>2018</td>\n",
       "      <td>82.103</td>\n",
       "    </tr>\n",
       "    <tr>\n",
       "      <th>110</th>\n",
       "      <td>Israel</td>\n",
       "      <td>2018</td>\n",
       "      <td>82.819</td>\n",
       "    </tr>\n",
       "    <tr>\n",
       "      <th>111</th>\n",
       "      <td>Italy</td>\n",
       "      <td>2018</td>\n",
       "      <td>83.352</td>\n",
       "    </tr>\n",
       "    <tr>\n",
       "      <th>113</th>\n",
       "      <td>Japan</td>\n",
       "      <td>2018</td>\n",
       "      <td>84.470</td>\n",
       "    </tr>\n",
       "    <tr>\n",
       "      <th>130</th>\n",
       "      <td>Luxembourg</td>\n",
       "      <td>2018</td>\n",
       "      <td>82.102</td>\n",
       "    </tr>\n",
       "    <tr>\n",
       "      <th>137</th>\n",
       "      <td>Malta</td>\n",
       "      <td>2018</td>\n",
       "      <td>82.376</td>\n",
       "    </tr>\n",
       "    <tr>\n",
       "      <th>157</th>\n",
       "      <td>Netherlands</td>\n",
       "      <td>2018</td>\n",
       "      <td>82.143</td>\n",
       "    </tr>\n",
       "    <tr>\n",
       "      <th>159</th>\n",
       "      <td>New Zealand</td>\n",
       "      <td>2018</td>\n",
       "      <td>82.145</td>\n",
       "    </tr>\n",
       "    <tr>\n",
       "      <th>169</th>\n",
       "      <td>Norway</td>\n",
       "      <td>2018</td>\n",
       "      <td>82.271</td>\n",
       "    </tr>\n",
       "    <tr>\n",
       "      <th>181</th>\n",
       "      <td>Portugal</td>\n",
       "      <td>2018</td>\n",
       "      <td>81.857</td>\n",
       "    </tr>\n",
       "    <tr>\n",
       "      <th>203</th>\n",
       "      <td>Singapore</td>\n",
       "      <td>2018</td>\n",
       "      <td>83.458</td>\n",
       "    </tr>\n",
       "    <tr>\n",
       "      <th>206</th>\n",
       "      <td>Slovenia</td>\n",
       "      <td>2018</td>\n",
       "      <td>81.172</td>\n",
       "    </tr>\n",
       "    <tr>\n",
       "      <th>211</th>\n",
       "      <td>South Korea</td>\n",
       "      <td>2018</td>\n",
       "      <td>82.846</td>\n",
       "    </tr>\n",
       "    <tr>\n",
       "      <th>214</th>\n",
       "      <td>Spain</td>\n",
       "      <td>2018</td>\n",
       "      <td>83.433</td>\n",
       "    </tr>\n",
       "    <tr>\n",
       "      <th>219</th>\n",
       "      <td>Sweden</td>\n",
       "      <td>2018</td>\n",
       "      <td>82.654</td>\n",
       "    </tr>\n",
       "    <tr>\n",
       "      <th>220</th>\n",
       "      <td>Switzerland</td>\n",
       "      <td>2018</td>\n",
       "      <td>83.630</td>\n",
       "    </tr>\n",
       "    <tr>\n",
       "      <th>239</th>\n",
       "      <td>United Kingdom</td>\n",
       "      <td>2018</td>\n",
       "      <td>81.236</td>\n",
       "    </tr>\n",
       "  </tbody>\n",
       "</table>\n",
       "</div>"
      ],
      "text/plain": [
       "             Entity  Year  Life expectancy\n",
       "14        Australia  2018           83.281\n",
       "15          Austria  2018           81.434\n",
       "22          Belgium  2018           81.468\n",
       "39           Canada  2018           82.315\n",
       "56           Cyprus  2018           80.828\n",
       "60          Denmark  2018           80.784\n",
       "78          Finland  2018           81.736\n",
       "81           France  2018           82.541\n",
       "87          Germany  2018           81.180\n",
       "90           Greece  2018           82.072\n",
       "101       Hong Kong  2018           84.687\n",
       "103         Iceland  2018           82.855\n",
       "108         Ireland  2018           82.103\n",
       "110          Israel  2018           82.819\n",
       "111           Italy  2018           83.352\n",
       "113           Japan  2018           84.470\n",
       "130      Luxembourg  2018           82.102\n",
       "137           Malta  2018           82.376\n",
       "157     Netherlands  2018           82.143\n",
       "159     New Zealand  2018           82.145\n",
       "169          Norway  2018           82.271\n",
       "181        Portugal  2018           81.857\n",
       "203       Singapore  2018           83.458\n",
       "206        Slovenia  2018           81.172\n",
       "211     South Korea  2018           82.846\n",
       "214           Spain  2018           83.433\n",
       "219          Sweden  2018           82.654\n",
       "220     Switzerland  2018           83.630\n",
       "239  United Kingdom  2018           81.236"
      ]
     },
     "metadata": {},
     "output_type": "display_data"
    }
   ],
   "source": [
    "#Display dataframe with countries having a higher life expectancy than the mean\n",
    "aboveSD(GDPperCapita('life-expectancy-vs-gdp-per-capita.csv',\n",
    "          'GDP per capita',\n",
    "          'Life expectancy',\n",
    "          'Life expectancy vs. GDP per capita'), 'Life expectancy vs. GDP per capita', 2)"
   ]
  },
  {
   "cell_type": "markdown",
   "metadata": {},
   "source": [
    "#### E. Which countries have high life expectancy but have low GDP (per capita)? [0.5p]"
   ]
  },
  {
   "cell_type": "markdown",
   "metadata": {},
   "source": [
    "It essentially depends on how you define high life expectancy and low GDP.  If we were to define low GDP as one standard deviation below the mean, it would yield a negative GDP score. This is because the standard deviation is greater than the mean, indicating a high variance between data points. Another way of defining low GDP would be to extract those data points whose GDP is below the median.  \n",
    "\n",
    "The GDP median is 12165.79 with a life expectancy median of 74.368. We can see that these countries are located closer to the upper left corner of the graph."
   ]
  },
  {
   "cell_type": "code",
   "execution_count": 7,
   "metadata": {},
   "outputs": [],
   "source": [
    "def medianFilter(finalData, ylabel, nbFigure, aboveORbelow): \n",
    "    \"\"\"\n",
    "    input:\n",
    "    - finalData (dataframe): dataframe containing the data of interest\n",
    "    - ylabel (string): name of the data other than GDP per capita (ex: Life expectancy)\n",
    "    - nbFigure (int): number of the figure in the notebook\n",
    "    - aboveORbelow (string): \n",
    "        - 'above': high life expectancy but low GDP\n",
    "        - 'below': low life expectancy but high GDP\n",
    "    output:\n",
    "    - displays countries with low GDP and high \"Y-axis\" data (ex: Life expectancy)\n",
    "    \"\"\"\n",
    "    column1=finalData.columns[2] #GDP per capita\n",
    "    column2=finalData.columns[3] # Data on y-axis\n",
    "    \n",
    "    GDPmedian = finalData[column1].median()\n",
    "    Ymedian = finalData[column2].median()\n",
    "    \n",
    "    print('GPD per capita median: %f \\n' %(GDPmedian))\n",
    "    print(ylabel, 'median: %f \\n' %(Ymedian))\n",
    "    print('---------------------------------------------------------------------------------------------------------------------')\n",
    "    \n",
    "    if aboveORbelow == 'above' or aboveORbelow == 'below':\n",
    "        if aboveORbelow == 'above':\n",
    "            print('Figure', nbFigure,': Dataframe with countries having', ylabel ,'higher than the median and a GDP per capita lower than the median.')\n",
    "            Filter1 = finalData[column1] < GDPmedian\n",
    "            Filter2 = finalData[column2] > Ymedian\n",
    "        elif aboveORbelow == 'below':\n",
    "            print('Figure', nbFigure,': Dataframe with countries having', ylabel ,'lower than the median and a GDP per capita higher than the median.')\n",
    "            Filter1 = finalData[column1] > GDPmedian\n",
    "            Filter2 = finalData[column2] < Ymedian\n",
    "        \n",
    "        combinedFilter = Filter1 & Filter2\n",
    "        filteredColumns = finalData[['Entity','Year', column1, column2]]\n",
    "        display(filteredColumns[combinedFilter])\n",
    "    \n",
    "    elif aboveORbelow == 'none':\n",
    "            print('\\n')\n",
    "    else: \n",
    "        print('argument n°4 has to be \"above\" or \"below\" or \"none\".\\n')\n",
    "    \n"
   ]
  },
  {
   "cell_type": "code",
   "execution_count": 8,
   "metadata": {},
   "outputs": [
    {
     "name": "stdout",
     "output_type": "stream",
     "text": [
      "---------------------------------------------------------------------------------------------------------------------\n",
      "List of years for which data is available: \n",
      "\n",
      "[1543, 1548, 1553, 1558, 1563, 1568, 1573, 1578, 1583, 1588, 1593, 1598, 1603, 1608, 1613, 1618, 1623, 1628, 1633, 1638, 1643, 1648, 1653, 1658, 1663, 1668, 1673, 1678, 1683, 1688, 1693, 1698, 1703, 1708, 1713, 1718, 1723, 1728, 1733, 1738, 1743, 1748, 1751, 1752, 1753, 1754, 1755, 1756, 1757, 1758, 1759, 1760, 1761, 1762, 1763, 1764, 1765, 1766, 1767, 1768, 1769, 1770, 1771, 1772, 1773, 1774, 1775, 1776, 1777, 1778, 1779, 1780, 1781, 1782, 1783, 1784, 1785, 1786, 1787, 1788, 1789, 1790, 1791, 1792, 1793, 1794, 1795, 1796, 1797, 1798, 1799, 1800, 1801, 1802, 1803, 1804, 1805, 1806, 1807, 1808, 1809, 1810, 1811, 1812, 1813, 1814, 1815, 1816, 1817, 1818, 1819, 1820, 1821, 1822, 1823, 1824, 1825, 1826, 1827, 1828, 1829, 1830, 1831, 1832, 1833, 1834, 1835, 1836, 1837, 1838, 1839, 1840, 1841, 1842, 1843, 1844, 1845, 1846, 1847, 1848, 1849, 1850, 1851, 1852, 1853, 1854, 1855, 1856, 1857, 1858, 1859, 1860, 1861, 1862, 1863, 1864, 1865, 1866, 1867, 1868, 1869, 1870, 1871, 1872, 1873, 1874, 1875, 1876, 1877, 1878, 1879, 1880, 1881, 1882, 1883, 1884, 1885, 1886, 1887, 1888, 1889, 1890, 1891, 1892, 1893, 1894, 1895, 1896, 1897, 1898, 1899, 1900, 1901, 1902, 1903, 1904, 1905, 1906, 1907, 1908, 1909, 1910, 1911, 1912, 1913, 1914, 1915, 1916, 1917, 1918, 1919, 1920, 1921, 1922, 1923, 1924, 1925, 1926, 1927, 1928, 1929, 1930, 1931, 1932, 1933, 1934, 1935, 1936, 1937, 1938, 1939, 1940, 1941, 1942, 1943, 1944, 1945, 1946, 1947, 1948, 1949, 1950, 1951, 1952, 1953, 1954, 1955, 1956, 1957, 1958, 1959, 1960, 1961, 1962, 1963, 1964, 1965, 1966, 1967, 1968, 1969, 1970, 1971, 1972, 1973, 1974, 1975, 1976, 1977, 1978, 1979, 1980, 1981, 1982, 1983, 1984, 1985, 1986, 1987, 1988, 1989, 1990, 1991, 1992, 1993, 1994, 1995, 1996, 1997, 1998, 1999, 2000, 2001, 2002, 2003, 2004, 2005, 2006, 2007, 2008, 2009, 2010, 2011, 2012, 2013, 2014, 2015, 2016, 2017, 2018]\n",
      "---------------------------------------------------------------------------------------------------------------------\n",
      "Year of interest for the data \"Countries with high life expectancy and low GDP\": \n",
      "2018\n",
      "---------------------------------------------------------------------------------------------------------------------\n",
      "GPD per capita median: 12080.490800 \n",
      "\n",
      "Life expectancy median: 74.386500 \n",
      "\n",
      "---------------------------------------------------------------------------------------------------------------------\n",
      "Figure 3 : Dataframe with countries having Life expectancy higher than the median and a GDP per capita lower than the median.\n"
     ]
    },
    {
     "data": {
      "text/html": [
       "<div>\n",
       "<style scoped>\n",
       "    .dataframe tbody tr th:only-of-type {\n",
       "        vertical-align: middle;\n",
       "    }\n",
       "\n",
       "    .dataframe tbody tr th {\n",
       "        vertical-align: top;\n",
       "    }\n",
       "\n",
       "    .dataframe thead th {\n",
       "        text-align: right;\n",
       "    }\n",
       "</style>\n",
       "<table border=\"1\" class=\"dataframe\">\n",
       "  <thead>\n",
       "    <tr style=\"text-align: right;\">\n",
       "      <th></th>\n",
       "      <th>Entity</th>\n",
       "      <th>Year</th>\n",
       "      <th>GDP per capita</th>\n",
       "      <th>Life expectancy</th>\n",
       "    </tr>\n",
       "  </thead>\n",
       "  <tbody>\n",
       "    <tr>\n",
       "      <th>2</th>\n",
       "      <td>Albania</td>\n",
       "      <td>2018</td>\n",
       "      <td>11104.1665</td>\n",
       "      <td>78.458</td>\n",
       "    </tr>\n",
       "    <tr>\n",
       "      <th>11</th>\n",
       "      <td>Armenia</td>\n",
       "      <td>2018</td>\n",
       "      <td>11454.4251</td>\n",
       "      <td>74.945</td>\n",
       "    </tr>\n",
       "    <tr>\n",
       "      <th>20</th>\n",
       "      <td>Barbados</td>\n",
       "      <td>2018</td>\n",
       "      <td>11995.1868</td>\n",
       "      <td>79.081</td>\n",
       "    </tr>\n",
       "    <tr>\n",
       "      <th>29</th>\n",
       "      <td>Bosnia and Herzegovina</td>\n",
       "      <td>2018</td>\n",
       "      <td>10460.5201</td>\n",
       "      <td>77.262</td>\n",
       "    </tr>\n",
       "    <tr>\n",
       "      <th>54</th>\n",
       "      <td>Cuba</td>\n",
       "      <td>2018</td>\n",
       "      <td>8325.6313</td>\n",
       "      <td>78.726</td>\n",
       "    </tr>\n",
       "    <tr>\n",
       "      <th>62</th>\n",
       "      <td>Dominica</td>\n",
       "      <td>2018</td>\n",
       "      <td>9021.1737</td>\n",
       "      <td>74.806</td>\n",
       "    </tr>\n",
       "    <tr>\n",
       "      <th>66</th>\n",
       "      <td>Ecuador</td>\n",
       "      <td>2018</td>\n",
       "      <td>10638.8251</td>\n",
       "      <td>76.800</td>\n",
       "    </tr>\n",
       "    <tr>\n",
       "      <th>100</th>\n",
       "      <td>Honduras</td>\n",
       "      <td>2018</td>\n",
       "      <td>5041.6354</td>\n",
       "      <td>75.088</td>\n",
       "    </tr>\n",
       "    <tr>\n",
       "      <th>114</th>\n",
       "      <td>Jordan</td>\n",
       "      <td>2018</td>\n",
       "      <td>11506.3383</td>\n",
       "      <td>74.405</td>\n",
       "    </tr>\n",
       "    <tr>\n",
       "      <th>151</th>\n",
       "      <td>Morocco</td>\n",
       "      <td>2018</td>\n",
       "      <td>8451.1355</td>\n",
       "      <td>76.453</td>\n",
       "    </tr>\n",
       "    <tr>\n",
       "      <th>191</th>\n",
       "      <td>Saint Lucia</td>\n",
       "      <td>2018</td>\n",
       "      <td>10475.3689</td>\n",
       "      <td>76.057</td>\n",
       "    </tr>\n",
       "    <tr>\n",
       "      <th>215</th>\n",
       "      <td>Sri Lanka</td>\n",
       "      <td>2018</td>\n",
       "      <td>11662.9064</td>\n",
       "      <td>76.812</td>\n",
       "    </tr>\n",
       "    <tr>\n",
       "      <th>231</th>\n",
       "      <td>Tunisia</td>\n",
       "      <td>2018</td>\n",
       "      <td>11353.8865</td>\n",
       "      <td>76.505</td>\n",
       "    </tr>\n",
       "    <tr>\n",
       "      <th>247</th>\n",
       "      <td>Vietnam</td>\n",
       "      <td>2018</td>\n",
       "      <td>6814.1423</td>\n",
       "      <td>75.317</td>\n",
       "    </tr>\n",
       "  </tbody>\n",
       "</table>\n",
       "</div>"
      ],
      "text/plain": [
       "                     Entity  Year  GDP per capita  Life expectancy\n",
       "2                   Albania  2018      11104.1665           78.458\n",
       "11                  Armenia  2018      11454.4251           74.945\n",
       "20                 Barbados  2018      11995.1868           79.081\n",
       "29   Bosnia and Herzegovina  2018      10460.5201           77.262\n",
       "54                     Cuba  2018       8325.6313           78.726\n",
       "62                 Dominica  2018       9021.1737           74.806\n",
       "66                  Ecuador  2018      10638.8251           76.800\n",
       "100                Honduras  2018       5041.6354           75.088\n",
       "114                  Jordan  2018      11506.3383           74.405\n",
       "151                 Morocco  2018       8451.1355           76.453\n",
       "191             Saint Lucia  2018      10475.3689           76.057\n",
       "215               Sri Lanka  2018      11662.9064           76.812\n",
       "231                 Tunisia  2018      11353.8865           76.505\n",
       "247                 Vietnam  2018       6814.1423           75.317"
      ]
     },
     "metadata": {},
     "output_type": "display_data"
    }
   ],
   "source": [
    "medianFilter(GDPperCapita('life-expectancy-vs-gdp-per-capita.csv',\n",
    "          'GDP per capita',\n",
    "          'Life expectancy', 'Countries with high life expectancy and low GDP'), 'Life expectancy', 3, 'above')"
   ]
  },
  {
   "cell_type": "markdown",
   "metadata": {},
   "source": [
    "#### F. Does every strong economy (normally indicated by GDP) have high life expectancy? [1p]"
   ]
  },
  {
   "cell_type": "code",
   "execution_count": 9,
   "metadata": {},
   "outputs": [],
   "source": [
    "def GDP(csv_file, column1, column2, title):\n",
    "    \"\"\"\n",
    "    input: \n",
    "    - csv_file (string): name of csv file\n",
    "    - column1 (string): name of column for data GDP per capita\n",
    "    - column2 (string): name of column for data other than GDP per capita (ex: 'Life expectancy')\n",
    "    - title (string): Title of the plot\n",
    "    output:\n",
    "    - dataframe containing data for the chosen year without NaN values\n",
    "    \"\"\"\n",
    "    #Read the csv file containing the downloaded data\n",
    "    rawData = pd.read_csv(csv_file)\n",
    "    \n",
    "    #Remove rows containing NaN value in the 'GDP per capita' or 'Life expectancy'\n",
    "    noNaN = rawData.dropna(subset=[column1, column2])\n",
    "    \n",
    "    #Print list with years where data is available\n",
    "    yearList = []\n",
    "    for i in range(len(noNaN)):\n",
    "        if noNaN['Year'].values[i] not in yearList:\n",
    "            yearList.append(noNaN['Year'].values[i])\n",
    "    yearlist = yearList.sort() #sort it in ascending order         \n",
    "    print('---------------------------------------------------------------------------------------------------------------------')\n",
    "    print('List of years for which data is available: \\n')\n",
    "    print(yearList)\n",
    "    print('---------------------------------------------------------------------------------------------------------------------')\n",
    "\n",
    "    #Create a new table with the data for year of interest chosen by the user\n",
    "    year = int(input('Year of interest for the data \"%s\": \\n' % (title)))\n",
    "    print('---------------------------------------------------------------------------------------------------------------------')\n",
    "    yearData = rawData.loc[rawData['Year']==year].reset_index()\n",
    "        \n",
    "    #Replace NaN values in 'Continent' by the continent value for every country\n",
    "    year2015 = rawData.loc[rawData['Year']==2015].reset_index() #continents are defined only in 2015, but we want them to be defined for all the years.\n",
    "    \n",
    "    for i in range(len(yearData)):\n",
    "        for j in range(len(year2015)):\n",
    "            if yearData['Entity'][i] == year2015['Entity'][j]: #compare the 'Entity' of the chosen year to the 'Entity' in 2015 and if they are the same...\n",
    "                yearData.at[i, 'Continent'] = year2015['Continent'][j] #...assign the 'Continent' value of 2015 to the 'Continent' value of the chosen year 'Continent' value of 2015 to the 'Continent' value of the chosen year\n",
    "    \n",
    "    #Create a new column with the GDP by mulplying 'GDP per capita' by the 'Population'\n",
    "    yearData['GDP'] = yearData[column1]*yearData['Population (historical estimates)']   \n",
    "    \n",
    "    #Create a new table with only the relevant columns\n",
    "    relevantColumns = yearData.loc[:, ['Entity','Year', 'GDP', column2, 'Continent']]\n",
    "\n",
    "    #Create a new table without rows containing NaN values\n",
    "    finalData = relevantColumns.dropna()\n",
    "    \n",
    "    return finalData"
   ]
  },
  {
   "cell_type": "code",
   "execution_count": 10,
   "metadata": {},
   "outputs": [
    {
     "name": "stdout",
     "output_type": "stream",
     "text": [
      "---------------------------------------------------------------------------------------------------------------------\n",
      "List of years for which data is available: \n",
      "\n",
      "[1543, 1548, 1553, 1558, 1563, 1568, 1573, 1578, 1583, 1588, 1593, 1598, 1603, 1608, 1613, 1618, 1623, 1628, 1633, 1638, 1643, 1648, 1653, 1658, 1663, 1668, 1673, 1678, 1683, 1688, 1693, 1698, 1703, 1708, 1713, 1718, 1723, 1728, 1733, 1738, 1743, 1748, 1751, 1752, 1753, 1754, 1755, 1756, 1757, 1758, 1759, 1760, 1761, 1762, 1763, 1764, 1765, 1766, 1767, 1768, 1769, 1770, 1771, 1772, 1773, 1774, 1775, 1776, 1777, 1778, 1779, 1780, 1781, 1782, 1783, 1784, 1785, 1786, 1787, 1788, 1789, 1790, 1791, 1792, 1793, 1794, 1795, 1796, 1797, 1798, 1799, 1800, 1801, 1802, 1803, 1804, 1805, 1806, 1807, 1808, 1809, 1810, 1811, 1812, 1813, 1814, 1815, 1816, 1817, 1818, 1819, 1820, 1821, 1822, 1823, 1824, 1825, 1826, 1827, 1828, 1829, 1830, 1831, 1832, 1833, 1834, 1835, 1836, 1837, 1838, 1839, 1840, 1841, 1842, 1843, 1844, 1845, 1846, 1847, 1848, 1849, 1850, 1851, 1852, 1853, 1854, 1855, 1856, 1857, 1858, 1859, 1860, 1861, 1862, 1863, 1864, 1865, 1866, 1867, 1868, 1869, 1870, 1871, 1872, 1873, 1874, 1875, 1876, 1877, 1878, 1879, 1880, 1881, 1882, 1883, 1884, 1885, 1886, 1887, 1888, 1889, 1890, 1891, 1892, 1893, 1894, 1895, 1896, 1897, 1898, 1899, 1900, 1901, 1902, 1903, 1904, 1905, 1906, 1907, 1908, 1909, 1910, 1911, 1912, 1913, 1914, 1915, 1916, 1917, 1918, 1919, 1920, 1921, 1922, 1923, 1924, 1925, 1926, 1927, 1928, 1929, 1930, 1931, 1932, 1933, 1934, 1935, 1936, 1937, 1938, 1939, 1940, 1941, 1942, 1943, 1944, 1945, 1946, 1947, 1948, 1949, 1950, 1951, 1952, 1953, 1954, 1955, 1956, 1957, 1958, 1959, 1960, 1961, 1962, 1963, 1964, 1965, 1966, 1967, 1968, 1969, 1970, 1971, 1972, 1973, 1974, 1975, 1976, 1977, 1978, 1979, 1980, 1981, 1982, 1983, 1984, 1985, 1986, 1987, 1988, 1989, 1990, 1991, 1992, 1993, 1994, 1995, 1996, 1997, 1998, 1999, 2000, 2001, 2002, 2003, 2004, 2005, 2006, 2007, 2008, 2009, 2010, 2011, 2012, 2013, 2014, 2015, 2016, 2017, 2018]\n",
      "---------------------------------------------------------------------------------------------------------------------\n",
      "Year of interest for the data \"Life expectancy vs. GDP\": \n",
      "2018\n",
      "---------------------------------------------------------------------------------------------------------------------\n",
      "Figure 4 :\n"
     ]
    },
    {
     "data": {
      "application/vnd.plotly.v1+json": {
       "config": {
        "plotlyServerURL": "https://plot.ly"
       },
       "data": [
        {
         "customdata": [
          [
           "Afghanistan"
          ],
          [
           "Armenia"
          ],
          [
           "Azerbaijan"
          ],
          [
           "Bahrain"
          ],
          [
           "Bangladesh"
          ],
          [
           "Cambodia"
          ],
          [
           "China"
          ],
          [
           "Georgia"
          ],
          [
           "Hong Kong"
          ],
          [
           "India"
          ],
          [
           "Indonesia"
          ],
          [
           "Iran"
          ],
          [
           "Iraq"
          ],
          [
           "Israel"
          ],
          [
           "Japan"
          ],
          [
           "Jordan"
          ],
          [
           "Kazakhstan"
          ],
          [
           "Kuwait"
          ],
          [
           "Kyrgyzstan"
          ],
          [
           "Laos"
          ],
          [
           "Lebanon"
          ],
          [
           "Malaysia"
          ],
          [
           "Mongolia"
          ],
          [
           "Myanmar"
          ],
          [
           "Nepal"
          ],
          [
           "North Korea"
          ],
          [
           "Oman"
          ],
          [
           "Pakistan"
          ],
          [
           "Palestine"
          ],
          [
           "Philippines"
          ],
          [
           "Qatar"
          ],
          [
           "Saudi Arabia"
          ],
          [
           "Singapore"
          ],
          [
           "South Korea"
          ],
          [
           "Sri Lanka"
          ],
          [
           "Syria"
          ],
          [
           "Taiwan"
          ],
          [
           "Tajikistan"
          ],
          [
           "Thailand"
          ],
          [
           "Turkey"
          ],
          [
           "Turkmenistan"
          ],
          [
           "United Arab Emirates"
          ],
          [
           "Uzbekistan"
          ],
          [
           "Vietnam"
          ],
          [
           "Yemen"
          ]
         ],
         "hovertemplate": "Continent=Asia<br>GDP=%{x}<br>Life expectancy=%{y}<br>Entity=%{customdata[0]}<extra></extra>",
         "legendgroup": "Asia",
         "marker": {
          "color": "#636efa",
          "symbol": "circle"
         },
         "mode": "markers",
         "name": "Asia",
         "orientation": "v",
         "showlegend": true,
         "type": "scatter",
         "x": [
          71911127564.71,
          33810496199.099102,
          165441451445.3961,
          61990945194.368004,
          661523974895.3889,
          58963374019.974495,
          18704622174087.15,
          47974927129.835396,
          374774017651.77924,
          9206757805540.303,
          3172361002927.7227,
          1391528153866.0566,
          493326538486.61035,
          276210636276.5407,
          4919393085959.739,
          114664366200.4326,
          463624696826.72644,
          271079861239.22382,
          32635863667.9075,
          45553064054.0868,
          86147078025.5952,
          783230616612.9447,
          42425522955.0522,
          313560831301.5014,
          76628913586.7456,
          40786156972.4302,
          176167870013.474,
          1169462057841.8496,
          25325207234.048203,
          868050573635.463,
          427723008078.3526,
          1695408771936.3015,
          393826707120.28534,
          1940820255051.15,
          247589040868.064,
          56756802283.001396,
          1059715387386.732,
          40411236293.4693,
          1155888204718.7598,
          1586711665587.8179,
          153986180266.13202,
          735784788595.2847,
          364395345741.08636,
          651063760815.9657,
          65116352950.0017
         ],
         "xaxis": "x",
         "y": [
          64.486,
          74.945,
          72.864,
          77.163,
          72.32,
          69.57,
          76.704,
          73.6,
          84.687,
          69.416,
          71.509,
          76.479,
          70.454,
          82.819,
          84.47,
          74.405,
          73.236,
          75.398,
          71.321,
          67.61,
          78.875,
          75.997,
          69.689,
          66.867,
          70.478,
          72.095,
          77.633,
          67.114,
          73.895,
          71.095,
          80.1,
          74.998,
          83.458,
          82.846,
          76.812,
          71.779,
          80.283,
          70.879,
          76.931,
          77.437,
          68.073,
          77.814,
          71.573,
          75.317,
          66.096
         ],
         "yaxis": "y"
        },
        {
         "customdata": [
          [
           "Albania"
          ],
          [
           "Austria"
          ],
          [
           "Belarus"
          ],
          [
           "Belgium"
          ],
          [
           "Bosnia and Herzegovina"
          ],
          [
           "Bulgaria"
          ],
          [
           "Croatia"
          ],
          [
           "Cyprus"
          ],
          [
           "Czechia"
          ],
          [
           "Denmark"
          ],
          [
           "Estonia"
          ],
          [
           "Finland"
          ],
          [
           "France"
          ],
          [
           "Germany"
          ],
          [
           "Greece"
          ],
          [
           "Hungary"
          ],
          [
           "Iceland"
          ],
          [
           "Ireland"
          ],
          [
           "Italy"
          ],
          [
           "Latvia"
          ],
          [
           "Lithuania"
          ],
          [
           "Luxembourg"
          ],
          [
           "Malta"
          ],
          [
           "Moldova"
          ],
          [
           "Montenegro"
          ],
          [
           "Netherlands"
          ],
          [
           "North Macedonia"
          ],
          [
           "Norway"
          ],
          [
           "Poland"
          ],
          [
           "Portugal"
          ],
          [
           "Romania"
          ],
          [
           "Russia"
          ],
          [
           "Serbia"
          ],
          [
           "Slovakia"
          ],
          [
           "Slovenia"
          ],
          [
           "Spain"
          ],
          [
           "Sweden"
          ],
          [
           "Switzerland"
          ],
          [
           "Ukraine"
          ],
          [
           "United Kingdom"
          ]
         ],
         "hovertemplate": "Continent=Europe<br>GDP=%{x}<br>Life expectancy=%{y}<br>Entity=%{customdata[0]}<extra></extra>",
         "legendgroup": "Europe",
         "marker": {
          "color": "#EF553B",
          "symbol": "circle"
         },
         "mode": "markers",
         "name": "Europe",
         "orientation": "v",
         "showlegend": true,
         "type": "scatter",
         "x": [
          32010369415.3775,
          382223402803.0547,
          177022123255.524,
          456487880110.758,
          34770026115.4729,
          130061729668.922,
          91492138905.2829,
          32329393654.549202,
          327953720323.2036,
          266394671330.70328,
          36259279108.8537,
          214810334730.79248,
          2503169315457.6816,
          3838487448175.323,
          246754679734.4552,
          248733501647.8746,
          14626278084.534399,
          311693857941.588,
          2083406425434.3462,
          46886050942.8658,
          76672314044.59601,
          34700222491.2732,
          14068859916.262001,
          27337406545.575,
          12244769407.1164,
          809887419461.82,
          27233048531.722797,
          451485383830.152,
          1041146103590.645,
          277282306486.4384,
          392585669545.342,
          3595099462641.4683,
          124330949966.6157,
          147643349367.2848,
          60766117932.632996,
          1470662693336.76,
          454126897521.123,
          523240206958.78143,
          434203640781.6646,
          2555283728651.6367
         ],
         "xaxis": "x",
         "y": [
          78.458,
          81.434,
          74.59,
          81.468,
          77.262,
          74.928,
          78.342,
          80.828,
          79.222,
          80.784,
          78.567,
          81.736,
          82.541,
          81.18,
          82.072,
          76.701,
          82.855,
          82.103,
          83.352,
          75.172,
          75.737,
          82.102,
          82.376,
          71.808,
          76.77,
          82.143,
          75.688,
          82.271,
          78.544,
          81.857,
          75.924,
          72.386,
          75.849,
          77.388,
          81.172,
          83.433,
          82.654,
          83.63,
          71.953,
          81.236
         ],
         "yaxis": "y"
        },
        {
         "customdata": [
          [
           "Algeria"
          ],
          [
           "Angola"
          ],
          [
           "Benin"
          ],
          [
           "Botswana"
          ],
          [
           "Burkina Faso"
          ],
          [
           "Burundi"
          ],
          [
           "Cameroon"
          ],
          [
           "Cape Verde"
          ],
          [
           "Central African Republic"
          ],
          [
           "Chad"
          ],
          [
           "Comoros"
          ],
          [
           "Congo"
          ],
          [
           "Cote d'Ivoire"
          ],
          [
           "Democratic Republic of Congo"
          ],
          [
           "Djibouti"
          ],
          [
           "Egypt"
          ],
          [
           "Equatorial Guinea"
          ],
          [
           "Eswatini"
          ],
          [
           "Ethiopia"
          ],
          [
           "Gabon"
          ],
          [
           "Gambia"
          ],
          [
           "Ghana"
          ],
          [
           "Guinea"
          ],
          [
           "Guinea-Bissau"
          ],
          [
           "Kenya"
          ],
          [
           "Lesotho"
          ],
          [
           "Liberia"
          ],
          [
           "Libya"
          ],
          [
           "Madagascar"
          ],
          [
           "Malawi"
          ],
          [
           "Mali"
          ],
          [
           "Mauritania"
          ],
          [
           "Mauritius"
          ],
          [
           "Morocco"
          ],
          [
           "Mozambique"
          ],
          [
           "Namibia"
          ],
          [
           "Niger"
          ],
          [
           "Nigeria"
          ],
          [
           "Rwanda"
          ],
          [
           "Sao Tome and Principe"
          ],
          [
           "Senegal"
          ],
          [
           "Seychelles"
          ],
          [
           "Sierra Leone"
          ],
          [
           "South Africa"
          ],
          [
           "Sudan"
          ],
          [
           "Tanzania"
          ],
          [
           "Togo"
          ],
          [
           "Tunisia"
          ],
          [
           "Uganda"
          ],
          [
           "Zambia"
          ],
          [
           "Zimbabwe"
          ]
         ],
         "hovertemplate": "Continent=Africa<br>GDP=%{x}<br>Life expectancy=%{y}<br>Entity=%{customdata[0]}<extra></extra>",
         "legendgroup": "Africa",
         "marker": {
          "color": "#00cc96",
          "symbol": "circle"
         },
         "mode": "markers",
         "name": "Africa",
         "orientation": "v",
         "showlegend": true,
         "type": "scatter",
         "x": [
          600826944330.375,
          239436466540.89658,
          25498805957.180996,
          35709222668.1167,
          31397408339.077198,
          7279182572.5231,
          72825719194.3799,
          3714569337.024,
          2909433015.7374997,
          31673049404.673702,
          1435273202.6332,
          29969393271.5871,
          93098170691.85359,
          72246579818.7164,
          3160304791.0245004,
          1176871894602.3445,
          37343429492.598,
          9167699294.8332,
          200808018308.223,
          37327969739.61,
          4291680138.0708003,
          127018235302.1036,
          19943145460.6472,
          2814105516.1344004,
          173576883954.928,
          5758823728.2147,
          3943951638.7936,
          100267382728.70601,
          37492088543.725204,
          20259443226.243,
          31808247430.5005,
          15224517289.68,
          25519276601.4032,
          304486713080.5595,
          33412220661.3381,
          22140271185.66,
          21649703596.743103,
          1025925453148.8755,
          23734005492.3619,
          787192516.0439999,
          41492738185.9056,
          2867288856.1528,
          12881701098.605299,
          703091939294.896,
          141272277800.6124,
          161899062271.2276,
          11449924019.3855,
          131310002211.4595,
          87398829452.1496,
          61321542028.7618,
          23266776738.6224
         ],
         "xaxis": "x",
         "y": [
          76.693,
          60.782,
          61.47,
          69.275,
          61.174,
          61.247,
          58.921,
          72.782,
          52.805,
          53.977,
          64.118,
          64.29,
          57.422,
          60.368,
          66.582,
          71.825,
          58.402,
          59.401,
          66.24,
          66.187,
          61.735,
          63.78,
          61.185,
          58.003,
          66.342,
          53.705,
          63.73,
          72.724,
          66.681,
          63.798,
          58.893,
          64.704,
          74.863,
          76.453,
          60.163,
          63.373,
          62.024,
          54.332,
          68.7,
          70.17,
          67.665,
          73.333,
          54.309,
          63.857,
          65.095,
          65.015,
          60.76,
          76.505,
          62.973,
          63.51,
          61.195
         ],
         "yaxis": "y"
        },
        {
         "customdata": [
          [
           "Argentina"
          ],
          [
           "Bolivia"
          ],
          [
           "Brazil"
          ],
          [
           "Chile"
          ],
          [
           "Colombia"
          ],
          [
           "Ecuador"
          ],
          [
           "Paraguay"
          ],
          [
           "Peru"
          ],
          [
           "Uruguay"
          ],
          [
           "Venezuela"
          ]
         ],
         "hovertemplate": "Continent=South America<br>GDP=%{x}<br>Life expectancy=%{y}<br>Entity=%{customdata[0]}<extra></extra>",
         "legendgroup": "South America",
         "marker": {
          "color": "#ab63fa",
          "symbol": "circle"
         },
         "mode": "markers",
         "name": "South America",
         "orientation": "v",
         "showlegend": true,
         "type": "scatter",
         "x": [
          823182494156.565,
          76018066442.244,
          2939601443407.392,
          414003820567.65643,
          672661461742.272,
          181757507346.6109,
          64962369457.83959,
          393790561640.7455,
          69626802256.44,
          309379596046.4202
         ],
         "xaxis": "x",
         "y": [
          76.52,
          71.239,
          75.672,
          80.042,
          77.109,
          76.8,
          74.131,
          76.516,
          77.77,
          72.128
         ],
         "yaxis": "y"
        },
        {
         "customdata": [
          [
           "Australia"
          ],
          [
           "New Zealand"
          ]
         ],
         "hovertemplate": "Continent=Oceania<br>GDP=%{x}<br>Life expectancy=%{y}<br>Entity=%{customdata[0]}<extra></extra>",
         "legendgroup": "Oceania",
         "marker": {
          "color": "#FFA15A",
          "symbol": "circle"
         },
         "mode": "markers",
         "name": "Oceania",
         "orientation": "v",
         "showlegend": true,
         "type": "scatter",
         "x": [
          1240694865083.6929,
          167603923504.75528
         ],
         "xaxis": "x",
         "y": [
          83.281,
          82.145
         ],
         "yaxis": "y"
        },
        {
         "customdata": [
          [
           "Barbados"
          ],
          [
           "Canada"
          ],
          [
           "Costa Rica"
          ],
          [
           "Cuba"
          ],
          [
           "Dominica"
          ],
          [
           "Dominican Republic"
          ],
          [
           "El Salvador"
          ],
          [
           "Guatemala"
          ],
          [
           "Haiti"
          ],
          [
           "Honduras"
          ],
          [
           "Jamaica"
          ],
          [
           "Mexico"
          ],
          [
           "Nicaragua"
          ],
          [
           "Panama"
          ],
          [
           "Puerto Rico"
          ],
          [
           "Saint Lucia"
          ],
          [
           "Trinidad and Tobago"
          ],
          [
           "United States"
          ]
         ],
         "hovertemplate": "Continent=North America<br>GDP=%{x}<br>Life expectancy=%{y}<br>Entity=%{customdata[0]}<extra></extra>",
         "legendgroup": "North America",
         "marker": {
          "color": "#19d3f3",
          "symbol": "circle"
         },
         "mode": "markers",
         "name": "North America",
         "orientation": "v",
         "showlegend": true,
         "type": "scatter",
         "x": [
          3438300344.3519998,
          1663488833277.8728,
          73423089256.5777,
          94397223221.5698,
          646150587.4361999,
          169103408609.2265,
          55206795110.66801,
          127670599314.183,
          19232463928.5056,
          48336795355.114204,
          21345128639.3665,
          2081400727379.778,
          32020251241.5544,
          94552379927.8376,
          106617830962.0934,
          1905364849.221,
          39679138181.0803,
          18099786471818.863
         ],
         "xaxis": "x",
         "y": [
          79.081,
          82.315,
          80.095,
          78.726,
          74.806,
          73.892,
          73.096,
          74.063,
          63.66,
          75.088,
          74.368,
          74.992,
          74.275,
          78.329,
          79.952,
          76.057,
          73.38,
          78.851
         ],
         "yaxis": "y"
        },
        {
         "hovertemplate": "<b>OLS trendline</b><br>Life expectancy = 4.09679 * log10(GDP) + 27.3289<br>R<sup>2</sup>=0.201039<br><br>GDP=%{x}<br>Life expectancy=%{y} <b>(trend)</b><extra></extra>",
         "legendgroup": "Overall Trendline",
         "line": {
          "color": "black"
         },
         "mode": "lines",
         "name": "Overall Trendline",
         "showlegend": true,
         "type": "scatter",
         "x": [
          646150587.4361999,
          787192516.0439999,
          1435273202.6332,
          1905364849.221,
          2814105516.1344004,
          2867288856.1528,
          2909433015.7374997,
          3160304791.0245004,
          3438300344.3519998,
          3714569337.024,
          3943951638.7936,
          4291680138.0708003,
          5758823728.2147,
          7279182572.5231,
          9167699294.8332,
          11449924019.3855,
          12244769407.1164,
          12881701098.605299,
          14068859916.262001,
          14626278084.534399,
          15224517289.68,
          19232463928.5056,
          19943145460.6472,
          20259443226.243,
          21345128639.3665,
          21649703596.743103,
          22140271185.66,
          23266776738.6224,
          23734005492.3619,
          25325207234.048203,
          25498805957.180996,
          25519276601.4032,
          27233048531.722797,
          27337406545.575,
          29969393271.5871,
          31397408339.077198,
          31673049404.673702,
          31808247430.5005,
          32010369415.3775,
          32020251241.5544,
          32329393654.549202,
          32635863667.9075,
          33412220661.3381,
          33810496199.099102,
          34700222491.2732,
          34770026115.4729,
          35709222668.1167,
          36259279108.8537,
          37327969739.61,
          37343429492.598,
          37492088543.725204,
          39679138181.0803,
          40411236293.4693,
          40786156972.4302,
          41492738185.9056,
          42425522955.0522,
          45553064054.0868,
          46886050942.8658,
          47974927129.835396,
          48336795355.114204,
          55206795110.66801,
          56756802283.001396,
          58963374019.974495,
          60766117932.632996,
          61321542028.7618,
          61990945194.368004,
          64962369457.83959,
          65116352950.0017,
          69626802256.44,
          71911127564.71,
          72246579818.7164,
          72825719194.3799,
          73423089256.5777,
          76018066442.244,
          76628913586.7456,
          76672314044.59601,
          86147078025.5952,
          87398829452.1496,
          91492138905.2829,
          93098170691.85359,
          94397223221.5698,
          94552379927.8376,
          100267382728.70601,
          106617830962.0934,
          114664366200.4326,
          124330949966.6157,
          127018235302.1036,
          127670599314.183,
          130061729668.922,
          131310002211.4595,
          141272277800.6124,
          147643349367.2848,
          153986180266.13202,
          161899062271.2276,
          165441451445.3961,
          167603923504.75528,
          169103408609.2265,
          173576883954.928,
          176167870013.474,
          177022123255.524,
          181757507346.6109,
          200808018308.223,
          214810334730.79248,
          239436466540.89658,
          246754679734.4552,
          247589040868.064,
          248733501647.8746,
          266394671330.70328,
          271079861239.22382,
          276210636276.5407,
          277282306486.4384,
          304486713080.5595,
          309379596046.4202,
          311693857941.588,
          313560831301.5014,
          327953720323.2036,
          364395345741.08636,
          374774017651.77924,
          382223402803.0547,
          392585669545.342,
          393790561640.7455,
          393826707120.28534,
          414003820567.65643,
          427723008078.3526,
          434203640781.6646,
          451485383830.152,
          454126897521.123,
          456487880110.758,
          463624696826.72644,
          493326538486.61035,
          523240206958.78143,
          600826944330.375,
          651063760815.9657,
          661523974895.3889,
          672661461742.272,
          703091939294.896,
          735784788595.2847,
          783230616612.9447,
          809887419461.82,
          823182494156.565,
          868050573635.463,
          1025925453148.8755,
          1041146103590.645,
          1059715387386.732,
          1155888204718.7598,
          1169462057841.8496,
          1176871894602.3445,
          1240694865083.6929,
          1391528153866.0566,
          1470662693336.76,
          1586711665587.8179,
          1663488833277.8728,
          1695408771936.3015,
          1940820255051.15,
          2081400727379.778,
          2083406425434.3462,
          2503169315457.6816,
          2555283728651.6367,
          2939601443407.392,
          3172361002927.7227,
          3595099462641.4683,
          3838487448175.323,
          4919393085959.739,
          9206757805540.303,
          18099786471818.863,
          18704622174087.15
         ],
         "xaxis": "x",
         "y": [
          63.42295264565534,
          63.77424102365133,
          64.84290368635402,
          65.3469874400639,
          66.04082902900879,
          66.07414031758998,
          66.10010133568986,
          66.24726054030333,
          66.39726387824983,
          66.53477125696145,
          66.64138249613752,
          66.79171736315159,
          67.31490390516932,
          67.731747544425,
          68.14215480067685,
          68.53766816417607,
          68.65708144243771,
          68.74730345150014,
          68.90415189740796,
          68.97328491494929,
          69.04460883298987,
          69.46039782723489,
          69.52495804585169,
          69.55295489399393,
          69.64583434293274,
          69.67104262638549,
          69.7109084187976,
          69.79920772054625,
          69.83458275386874,
          69.95003838136098,
          69.96219288801464,
          69.96362068176516,
          70.07926448092707,
          70.08606946063043,
          70.24961596154466,
          70.33243606810376,
          70.34798780060581,
          70.355566301248,
          70.36683634739751,
          70.36738551837486,
          70.38448070531285,
          70.40126751323736,
          70.44309669043304,
          70.46417960887827,
          70.51039433603184,
          70.51396984062396,
          70.56139174689278,
          70.58858939338303,
          70.64027124274764,
          70.64100796933411,
          70.64807671300863,
          70.74895033669384,
          70.78147846950615,
          70.79790926043546,
          70.82846848898981,
          70.86802344738729,
          70.99457490773523,
          71.04589155559393,
          71.08673929741602,
          71.10010929778937,
          71.33655426537834,
          71.38581974168315,
          71.45368065242818,
          71.50726325399711,
          71.52345203017703,
          71.5427691798842,
          71.62607167708578,
          71.63028404387491,
          71.74944485801382,
          71.80688042329139,
          71.8151608307271,
          71.82936641112656,
          71.84390129639134,
          71.90569796424174,
          71.91993779163025,
          71.92094520280808,
          72.12825092205938,
          72.1539175801356,
          72.23535425825646,
          72.26631520786844,
          72.29096998803269,
          72.29389200504718,
          72.39830778434562,
          72.5075698629887,
          72.637022841666,
          72.78102821546943,
          72.81907438371627,
          72.82818901519177,
          72.86120352783443,
          72.87819817605578,
          73.0083087183994,
          73.08679069571005,
          73.16163028213555,
          73.25078704506424,
          73.28929686977838,
          73.31240215193861,
          73.32824927858304,
          73.37470494201759,
          73.40106703500662,
          73.40967374495898,
          73.45664268159697,
          73.63398738973756,
          73.75391733631571,
          73.94702006590926,
          74.0005860254136,
          74.00659200056805,
          74.01479732501721,
          74.13684583675123,
          74.16786559325398,
          74.2012263477609,
          74.20811616478952,
          74.37463508687995,
          74.40299848766793,
          74.41625806324416,
          74.42688334681546,
          74.50673288807252,
          74.69420308933967,
          74.74417022369548,
          74.77918877084927,
          74.82678187599146,
          74.83223413140337,
          74.83239743540875,
          74.92129445187416,
          74.97929789295841,
          75.00605341068132,
          75.07549497261206,
          75.08587431573969,
          75.09510039410453,
          75.12270174647183,
          75.23318365423032,
          75.3379247834182,
          75.58393006185008,
          75.72680203766032,
          75.75516029244042,
          75.78486595011489,
          75.86358812612228,
          75.94445339048727,
          76.05563557927934,
          76.11518241885423,
          76.14415276432614,
          76.23857929100836,
          76.53588656676943,
          76.56208912082141,
          76.59354248611103,
          76.74810043233242,
          76.76887240654244,
          76.78011012984308,
          76.87407327309296,
          77.07820411149447,
          77.17661343912499,
          77.31174582778482,
          77.39581965342703,
          77.42963675895246,
          77.67016298293441,
          77.79458409541826,
          77.79629777161949,
          78.12287846350719,
          78.15954024548769,
          78.40882717888266,
          78.54440698461494,
          78.76697868548104,
          78.88352916118642,
          79.3249640924312,
          80.44009080257834,
          81.64277223917213,
          81.70125592710953
         ],
         "yaxis": "y"
        }
       ],
       "layout": {
        "legend": {
         "title": {
          "text": "Continent"
         },
         "tracegroupgap": 0
        },
        "template": {
         "data": {
          "bar": [
           {
            "error_x": {
             "color": "#2a3f5f"
            },
            "error_y": {
             "color": "#2a3f5f"
            },
            "marker": {
             "line": {
              "color": "#E5ECF6",
              "width": 0.5
             },
             "pattern": {
              "fillmode": "overlay",
              "size": 10,
              "solidity": 0.2
             }
            },
            "type": "bar"
           }
          ],
          "barpolar": [
           {
            "marker": {
             "line": {
              "color": "#E5ECF6",
              "width": 0.5
             },
             "pattern": {
              "fillmode": "overlay",
              "size": 10,
              "solidity": 0.2
             }
            },
            "type": "barpolar"
           }
          ],
          "carpet": [
           {
            "aaxis": {
             "endlinecolor": "#2a3f5f",
             "gridcolor": "white",
             "linecolor": "white",
             "minorgridcolor": "white",
             "startlinecolor": "#2a3f5f"
            },
            "baxis": {
             "endlinecolor": "#2a3f5f",
             "gridcolor": "white",
             "linecolor": "white",
             "minorgridcolor": "white",
             "startlinecolor": "#2a3f5f"
            },
            "type": "carpet"
           }
          ],
          "choropleth": [
           {
            "colorbar": {
             "outlinewidth": 0,
             "ticks": ""
            },
            "type": "choropleth"
           }
          ],
          "contour": [
           {
            "colorbar": {
             "outlinewidth": 0,
             "ticks": ""
            },
            "colorscale": [
             [
              0,
              "#0d0887"
             ],
             [
              0.1111111111111111,
              "#46039f"
             ],
             [
              0.2222222222222222,
              "#7201a8"
             ],
             [
              0.3333333333333333,
              "#9c179e"
             ],
             [
              0.4444444444444444,
              "#bd3786"
             ],
             [
              0.5555555555555556,
              "#d8576b"
             ],
             [
              0.6666666666666666,
              "#ed7953"
             ],
             [
              0.7777777777777778,
              "#fb9f3a"
             ],
             [
              0.8888888888888888,
              "#fdca26"
             ],
             [
              1,
              "#f0f921"
             ]
            ],
            "type": "contour"
           }
          ],
          "contourcarpet": [
           {
            "colorbar": {
             "outlinewidth": 0,
             "ticks": ""
            },
            "type": "contourcarpet"
           }
          ],
          "heatmap": [
           {
            "colorbar": {
             "outlinewidth": 0,
             "ticks": ""
            },
            "colorscale": [
             [
              0,
              "#0d0887"
             ],
             [
              0.1111111111111111,
              "#46039f"
             ],
             [
              0.2222222222222222,
              "#7201a8"
             ],
             [
              0.3333333333333333,
              "#9c179e"
             ],
             [
              0.4444444444444444,
              "#bd3786"
             ],
             [
              0.5555555555555556,
              "#d8576b"
             ],
             [
              0.6666666666666666,
              "#ed7953"
             ],
             [
              0.7777777777777778,
              "#fb9f3a"
             ],
             [
              0.8888888888888888,
              "#fdca26"
             ],
             [
              1,
              "#f0f921"
             ]
            ],
            "type": "heatmap"
           }
          ],
          "heatmapgl": [
           {
            "colorbar": {
             "outlinewidth": 0,
             "ticks": ""
            },
            "colorscale": [
             [
              0,
              "#0d0887"
             ],
             [
              0.1111111111111111,
              "#46039f"
             ],
             [
              0.2222222222222222,
              "#7201a8"
             ],
             [
              0.3333333333333333,
              "#9c179e"
             ],
             [
              0.4444444444444444,
              "#bd3786"
             ],
             [
              0.5555555555555556,
              "#d8576b"
             ],
             [
              0.6666666666666666,
              "#ed7953"
             ],
             [
              0.7777777777777778,
              "#fb9f3a"
             ],
             [
              0.8888888888888888,
              "#fdca26"
             ],
             [
              1,
              "#f0f921"
             ]
            ],
            "type": "heatmapgl"
           }
          ],
          "histogram": [
           {
            "marker": {
             "pattern": {
              "fillmode": "overlay",
              "size": 10,
              "solidity": 0.2
             }
            },
            "type": "histogram"
           }
          ],
          "histogram2d": [
           {
            "colorbar": {
             "outlinewidth": 0,
             "ticks": ""
            },
            "colorscale": [
             [
              0,
              "#0d0887"
             ],
             [
              0.1111111111111111,
              "#46039f"
             ],
             [
              0.2222222222222222,
              "#7201a8"
             ],
             [
              0.3333333333333333,
              "#9c179e"
             ],
             [
              0.4444444444444444,
              "#bd3786"
             ],
             [
              0.5555555555555556,
              "#d8576b"
             ],
             [
              0.6666666666666666,
              "#ed7953"
             ],
             [
              0.7777777777777778,
              "#fb9f3a"
             ],
             [
              0.8888888888888888,
              "#fdca26"
             ],
             [
              1,
              "#f0f921"
             ]
            ],
            "type": "histogram2d"
           }
          ],
          "histogram2dcontour": [
           {
            "colorbar": {
             "outlinewidth": 0,
             "ticks": ""
            },
            "colorscale": [
             [
              0,
              "#0d0887"
             ],
             [
              0.1111111111111111,
              "#46039f"
             ],
             [
              0.2222222222222222,
              "#7201a8"
             ],
             [
              0.3333333333333333,
              "#9c179e"
             ],
             [
              0.4444444444444444,
              "#bd3786"
             ],
             [
              0.5555555555555556,
              "#d8576b"
             ],
             [
              0.6666666666666666,
              "#ed7953"
             ],
             [
              0.7777777777777778,
              "#fb9f3a"
             ],
             [
              0.8888888888888888,
              "#fdca26"
             ],
             [
              1,
              "#f0f921"
             ]
            ],
            "type": "histogram2dcontour"
           }
          ],
          "mesh3d": [
           {
            "colorbar": {
             "outlinewidth": 0,
             "ticks": ""
            },
            "type": "mesh3d"
           }
          ],
          "parcoords": [
           {
            "line": {
             "colorbar": {
              "outlinewidth": 0,
              "ticks": ""
             }
            },
            "type": "parcoords"
           }
          ],
          "pie": [
           {
            "automargin": true,
            "type": "pie"
           }
          ],
          "scatter": [
           {
            "marker": {
             "colorbar": {
              "outlinewidth": 0,
              "ticks": ""
             }
            },
            "type": "scatter"
           }
          ],
          "scatter3d": [
           {
            "line": {
             "colorbar": {
              "outlinewidth": 0,
              "ticks": ""
             }
            },
            "marker": {
             "colorbar": {
              "outlinewidth": 0,
              "ticks": ""
             }
            },
            "type": "scatter3d"
           }
          ],
          "scattercarpet": [
           {
            "marker": {
             "colorbar": {
              "outlinewidth": 0,
              "ticks": ""
             }
            },
            "type": "scattercarpet"
           }
          ],
          "scattergeo": [
           {
            "marker": {
             "colorbar": {
              "outlinewidth": 0,
              "ticks": ""
             }
            },
            "type": "scattergeo"
           }
          ],
          "scattergl": [
           {
            "marker": {
             "colorbar": {
              "outlinewidth": 0,
              "ticks": ""
             }
            },
            "type": "scattergl"
           }
          ],
          "scattermapbox": [
           {
            "marker": {
             "colorbar": {
              "outlinewidth": 0,
              "ticks": ""
             }
            },
            "type": "scattermapbox"
           }
          ],
          "scatterpolar": [
           {
            "marker": {
             "colorbar": {
              "outlinewidth": 0,
              "ticks": ""
             }
            },
            "type": "scatterpolar"
           }
          ],
          "scatterpolargl": [
           {
            "marker": {
             "colorbar": {
              "outlinewidth": 0,
              "ticks": ""
             }
            },
            "type": "scatterpolargl"
           }
          ],
          "scatterternary": [
           {
            "marker": {
             "colorbar": {
              "outlinewidth": 0,
              "ticks": ""
             }
            },
            "type": "scatterternary"
           }
          ],
          "surface": [
           {
            "colorbar": {
             "outlinewidth": 0,
             "ticks": ""
            },
            "colorscale": [
             [
              0,
              "#0d0887"
             ],
             [
              0.1111111111111111,
              "#46039f"
             ],
             [
              0.2222222222222222,
              "#7201a8"
             ],
             [
              0.3333333333333333,
              "#9c179e"
             ],
             [
              0.4444444444444444,
              "#bd3786"
             ],
             [
              0.5555555555555556,
              "#d8576b"
             ],
             [
              0.6666666666666666,
              "#ed7953"
             ],
             [
              0.7777777777777778,
              "#fb9f3a"
             ],
             [
              0.8888888888888888,
              "#fdca26"
             ],
             [
              1,
              "#f0f921"
             ]
            ],
            "type": "surface"
           }
          ],
          "table": [
           {
            "cells": {
             "fill": {
              "color": "#EBF0F8"
             },
             "line": {
              "color": "white"
             }
            },
            "header": {
             "fill": {
              "color": "#C8D4E3"
             },
             "line": {
              "color": "white"
             }
            },
            "type": "table"
           }
          ]
         },
         "layout": {
          "annotationdefaults": {
           "arrowcolor": "#2a3f5f",
           "arrowhead": 0,
           "arrowwidth": 1
          },
          "autotypenumbers": "strict",
          "coloraxis": {
           "colorbar": {
            "outlinewidth": 0,
            "ticks": ""
           }
          },
          "colorscale": {
           "diverging": [
            [
             0,
             "#8e0152"
            ],
            [
             0.1,
             "#c51b7d"
            ],
            [
             0.2,
             "#de77ae"
            ],
            [
             0.3,
             "#f1b6da"
            ],
            [
             0.4,
             "#fde0ef"
            ],
            [
             0.5,
             "#f7f7f7"
            ],
            [
             0.6,
             "#e6f5d0"
            ],
            [
             0.7,
             "#b8e186"
            ],
            [
             0.8,
             "#7fbc41"
            ],
            [
             0.9,
             "#4d9221"
            ],
            [
             1,
             "#276419"
            ]
           ],
           "sequential": [
            [
             0,
             "#0d0887"
            ],
            [
             0.1111111111111111,
             "#46039f"
            ],
            [
             0.2222222222222222,
             "#7201a8"
            ],
            [
             0.3333333333333333,
             "#9c179e"
            ],
            [
             0.4444444444444444,
             "#bd3786"
            ],
            [
             0.5555555555555556,
             "#d8576b"
            ],
            [
             0.6666666666666666,
             "#ed7953"
            ],
            [
             0.7777777777777778,
             "#fb9f3a"
            ],
            [
             0.8888888888888888,
             "#fdca26"
            ],
            [
             1,
             "#f0f921"
            ]
           ],
           "sequentialminus": [
            [
             0,
             "#0d0887"
            ],
            [
             0.1111111111111111,
             "#46039f"
            ],
            [
             0.2222222222222222,
             "#7201a8"
            ],
            [
             0.3333333333333333,
             "#9c179e"
            ],
            [
             0.4444444444444444,
             "#bd3786"
            ],
            [
             0.5555555555555556,
             "#d8576b"
            ],
            [
             0.6666666666666666,
             "#ed7953"
            ],
            [
             0.7777777777777778,
             "#fb9f3a"
            ],
            [
             0.8888888888888888,
             "#fdca26"
            ],
            [
             1,
             "#f0f921"
            ]
           ]
          },
          "colorway": [
           "#636efa",
           "#EF553B",
           "#00cc96",
           "#ab63fa",
           "#FFA15A",
           "#19d3f3",
           "#FF6692",
           "#B6E880",
           "#FF97FF",
           "#FECB52"
          ],
          "font": {
           "color": "#2a3f5f"
          },
          "geo": {
           "bgcolor": "white",
           "lakecolor": "white",
           "landcolor": "#E5ECF6",
           "showlakes": true,
           "showland": true,
           "subunitcolor": "white"
          },
          "hoverlabel": {
           "align": "left"
          },
          "hovermode": "closest",
          "mapbox": {
           "style": "light"
          },
          "paper_bgcolor": "white",
          "plot_bgcolor": "#E5ECF6",
          "polar": {
           "angularaxis": {
            "gridcolor": "white",
            "linecolor": "white",
            "ticks": ""
           },
           "bgcolor": "#E5ECF6",
           "radialaxis": {
            "gridcolor": "white",
            "linecolor": "white",
            "ticks": ""
           }
          },
          "scene": {
           "xaxis": {
            "backgroundcolor": "#E5ECF6",
            "gridcolor": "white",
            "gridwidth": 2,
            "linecolor": "white",
            "showbackground": true,
            "ticks": "",
            "zerolinecolor": "white"
           },
           "yaxis": {
            "backgroundcolor": "#E5ECF6",
            "gridcolor": "white",
            "gridwidth": 2,
            "linecolor": "white",
            "showbackground": true,
            "ticks": "",
            "zerolinecolor": "white"
           },
           "zaxis": {
            "backgroundcolor": "#E5ECF6",
            "gridcolor": "white",
            "gridwidth": 2,
            "linecolor": "white",
            "showbackground": true,
            "ticks": "",
            "zerolinecolor": "white"
           }
          },
          "shapedefaults": {
           "line": {
            "color": "#2a3f5f"
           }
          },
          "ternary": {
           "aaxis": {
            "gridcolor": "white",
            "linecolor": "white",
            "ticks": ""
           },
           "baxis": {
            "gridcolor": "white",
            "linecolor": "white",
            "ticks": ""
           },
           "bgcolor": "#E5ECF6",
           "caxis": {
            "gridcolor": "white",
            "linecolor": "white",
            "ticks": ""
           }
          },
          "title": {
           "x": 0.05
          },
          "xaxis": {
           "automargin": true,
           "gridcolor": "white",
           "linecolor": "white",
           "ticks": "",
           "title": {
            "standoff": 15
           },
           "zerolinecolor": "white",
           "zerolinewidth": 2
          },
          "yaxis": {
           "automargin": true,
           "gridcolor": "white",
           "linecolor": "white",
           "ticks": "",
           "title": {
            "standoff": 15
           },
           "zerolinecolor": "white",
           "zerolinewidth": 2
          }
         }
        },
        "title": {
         "text": "Life expectancy vs. GDP, 2018"
        },
        "xaxis": {
         "anchor": "y",
         "domain": [
          0,
          1
         ],
         "range": [
          8.73731240511434,
          13.294568111909959
         ],
         "title": {
          "text": "GDP"
         },
         "type": "log"
        },
        "yaxis": {
         "anchor": "x",
         "domain": [
          0,
          1
         ],
         "range": [
          47.805,
          89.687
         ],
         "title": {
          "text": "Life expectancy"
         }
        }
       }
      },
      "text/html": [
       "<div>                            <div id=\"077af1e8-efaf-408d-82af-ffc72524e708\" class=\"plotly-graph-div\" style=\"height:525px; width:100%;\"></div>            <script type=\"text/javascript\">                require([\"plotly\"], function(Plotly) {                    window.PLOTLYENV=window.PLOTLYENV || {};                                    if (document.getElementById(\"077af1e8-efaf-408d-82af-ffc72524e708\")) {                    Plotly.newPlot(                        \"077af1e8-efaf-408d-82af-ffc72524e708\",                        [{\"customdata\":[[\"Afghanistan\"],[\"Armenia\"],[\"Azerbaijan\"],[\"Bahrain\"],[\"Bangladesh\"],[\"Cambodia\"],[\"China\"],[\"Georgia\"],[\"Hong Kong\"],[\"India\"],[\"Indonesia\"],[\"Iran\"],[\"Iraq\"],[\"Israel\"],[\"Japan\"],[\"Jordan\"],[\"Kazakhstan\"],[\"Kuwait\"],[\"Kyrgyzstan\"],[\"Laos\"],[\"Lebanon\"],[\"Malaysia\"],[\"Mongolia\"],[\"Myanmar\"],[\"Nepal\"],[\"North Korea\"],[\"Oman\"],[\"Pakistan\"],[\"Palestine\"],[\"Philippines\"],[\"Qatar\"],[\"Saudi Arabia\"],[\"Singapore\"],[\"South Korea\"],[\"Sri Lanka\"],[\"Syria\"],[\"Taiwan\"],[\"Tajikistan\"],[\"Thailand\"],[\"Turkey\"],[\"Turkmenistan\"],[\"United Arab Emirates\"],[\"Uzbekistan\"],[\"Vietnam\"],[\"Yemen\"]],\"hovertemplate\":\"Continent=Asia<br>GDP=%{x}<br>Life expectancy=%{y}<br>Entity=%{customdata[0]}<extra></extra>\",\"legendgroup\":\"Asia\",\"marker\":{\"color\":\"#636efa\",\"symbol\":\"circle\"},\"mode\":\"markers\",\"name\":\"Asia\",\"orientation\":\"v\",\"showlegend\":true,\"x\":[71911127564.71,33810496199.099102,165441451445.3961,61990945194.368004,661523974895.3889,58963374019.974495,18704622174087.15,47974927129.835396,374774017651.77924,9206757805540.303,3172361002927.7227,1391528153866.0566,493326538486.61035,276210636276.5407,4919393085959.739,114664366200.4326,463624696826.72644,271079861239.22382,32635863667.9075,45553064054.0868,86147078025.5952,783230616612.9447,42425522955.0522,313560831301.5014,76628913586.7456,40786156972.4302,176167870013.474,1169462057841.8496,25325207234.048203,868050573635.463,427723008078.3526,1695408771936.3015,393826707120.28534,1940820255051.15,247589040868.064,56756802283.001396,1059715387386.732,40411236293.4693,1155888204718.7598,1586711665587.8179,153986180266.13202,735784788595.2847,364395345741.08636,651063760815.9657,65116352950.0017],\"xaxis\":\"x\",\"y\":[64.486,74.945,72.864,77.163,72.32,69.57,76.704,73.6,84.687,69.416,71.509,76.479,70.454,82.819,84.47,74.405,73.236,75.398,71.321,67.61,78.875,75.997,69.689,66.867,70.478,72.095,77.633,67.114,73.895,71.095,80.1,74.998,83.458,82.846,76.812,71.779,80.283,70.879,76.931,77.437,68.073,77.814,71.573,75.317,66.096],\"yaxis\":\"y\",\"type\":\"scatter\"},{\"customdata\":[[\"Albania\"],[\"Austria\"],[\"Belarus\"],[\"Belgium\"],[\"Bosnia and Herzegovina\"],[\"Bulgaria\"],[\"Croatia\"],[\"Cyprus\"],[\"Czechia\"],[\"Denmark\"],[\"Estonia\"],[\"Finland\"],[\"France\"],[\"Germany\"],[\"Greece\"],[\"Hungary\"],[\"Iceland\"],[\"Ireland\"],[\"Italy\"],[\"Latvia\"],[\"Lithuania\"],[\"Luxembourg\"],[\"Malta\"],[\"Moldova\"],[\"Montenegro\"],[\"Netherlands\"],[\"North Macedonia\"],[\"Norway\"],[\"Poland\"],[\"Portugal\"],[\"Romania\"],[\"Russia\"],[\"Serbia\"],[\"Slovakia\"],[\"Slovenia\"],[\"Spain\"],[\"Sweden\"],[\"Switzerland\"],[\"Ukraine\"],[\"United Kingdom\"]],\"hovertemplate\":\"Continent=Europe<br>GDP=%{x}<br>Life expectancy=%{y}<br>Entity=%{customdata[0]}<extra></extra>\",\"legendgroup\":\"Europe\",\"marker\":{\"color\":\"#EF553B\",\"symbol\":\"circle\"},\"mode\":\"markers\",\"name\":\"Europe\",\"orientation\":\"v\",\"showlegend\":true,\"x\":[32010369415.3775,382223402803.0547,177022123255.524,456487880110.758,34770026115.4729,130061729668.922,91492138905.2829,32329393654.549202,327953720323.2036,266394671330.70328,36259279108.8537,214810334730.79248,2503169315457.6816,3838487448175.323,246754679734.4552,248733501647.8746,14626278084.534399,311693857941.588,2083406425434.3462,46886050942.8658,76672314044.59601,34700222491.2732,14068859916.262001,27337406545.575,12244769407.1164,809887419461.82,27233048531.722797,451485383830.152,1041146103590.645,277282306486.4384,392585669545.342,3595099462641.4683,124330949966.6157,147643349367.2848,60766117932.632996,1470662693336.76,454126897521.123,523240206958.78143,434203640781.6646,2555283728651.6367],\"xaxis\":\"x\",\"y\":[78.458,81.434,74.59,81.468,77.262,74.928,78.342,80.828,79.222,80.784,78.567,81.736,82.541,81.18,82.072,76.701,82.855,82.103,83.352,75.172,75.737,82.102,82.376,71.808,76.77,82.143,75.688,82.271,78.544,81.857,75.924,72.386,75.849,77.388,81.172,83.433,82.654,83.63,71.953,81.236],\"yaxis\":\"y\",\"type\":\"scatter\"},{\"customdata\":[[\"Algeria\"],[\"Angola\"],[\"Benin\"],[\"Botswana\"],[\"Burkina Faso\"],[\"Burundi\"],[\"Cameroon\"],[\"Cape Verde\"],[\"Central African Republic\"],[\"Chad\"],[\"Comoros\"],[\"Congo\"],[\"Cote d'Ivoire\"],[\"Democratic Republic of Congo\"],[\"Djibouti\"],[\"Egypt\"],[\"Equatorial Guinea\"],[\"Eswatini\"],[\"Ethiopia\"],[\"Gabon\"],[\"Gambia\"],[\"Ghana\"],[\"Guinea\"],[\"Guinea-Bissau\"],[\"Kenya\"],[\"Lesotho\"],[\"Liberia\"],[\"Libya\"],[\"Madagascar\"],[\"Malawi\"],[\"Mali\"],[\"Mauritania\"],[\"Mauritius\"],[\"Morocco\"],[\"Mozambique\"],[\"Namibia\"],[\"Niger\"],[\"Nigeria\"],[\"Rwanda\"],[\"Sao Tome and Principe\"],[\"Senegal\"],[\"Seychelles\"],[\"Sierra Leone\"],[\"South Africa\"],[\"Sudan\"],[\"Tanzania\"],[\"Togo\"],[\"Tunisia\"],[\"Uganda\"],[\"Zambia\"],[\"Zimbabwe\"]],\"hovertemplate\":\"Continent=Africa<br>GDP=%{x}<br>Life expectancy=%{y}<br>Entity=%{customdata[0]}<extra></extra>\",\"legendgroup\":\"Africa\",\"marker\":{\"color\":\"#00cc96\",\"symbol\":\"circle\"},\"mode\":\"markers\",\"name\":\"Africa\",\"orientation\":\"v\",\"showlegend\":true,\"x\":[600826944330.375,239436466540.89658,25498805957.180996,35709222668.1167,31397408339.077198,7279182572.5231,72825719194.3799,3714569337.024,2909433015.7374997,31673049404.673702,1435273202.6332,29969393271.5871,93098170691.85359,72246579818.7164,3160304791.0245004,1176871894602.3445,37343429492.598,9167699294.8332,200808018308.223,37327969739.61,4291680138.0708003,127018235302.1036,19943145460.6472,2814105516.1344004,173576883954.928,5758823728.2147,3943951638.7936,100267382728.70601,37492088543.725204,20259443226.243,31808247430.5005,15224517289.68,25519276601.4032,304486713080.5595,33412220661.3381,22140271185.66,21649703596.743103,1025925453148.8755,23734005492.3619,787192516.0439999,41492738185.9056,2867288856.1528,12881701098.605299,703091939294.896,141272277800.6124,161899062271.2276,11449924019.3855,131310002211.4595,87398829452.1496,61321542028.7618,23266776738.6224],\"xaxis\":\"x\",\"y\":[76.693,60.782,61.47,69.275,61.174,61.247,58.921,72.782,52.805,53.977,64.118,64.29,57.422,60.368,66.582,71.825,58.402,59.401,66.24,66.187,61.735,63.78,61.185,58.003,66.342,53.705,63.73,72.724,66.681,63.798,58.893,64.704,74.863,76.453,60.163,63.373,62.024,54.332,68.7,70.17,67.665,73.333,54.309,63.857,65.095,65.015,60.76,76.505,62.973,63.51,61.195],\"yaxis\":\"y\",\"type\":\"scatter\"},{\"customdata\":[[\"Argentina\"],[\"Bolivia\"],[\"Brazil\"],[\"Chile\"],[\"Colombia\"],[\"Ecuador\"],[\"Paraguay\"],[\"Peru\"],[\"Uruguay\"],[\"Venezuela\"]],\"hovertemplate\":\"Continent=South America<br>GDP=%{x}<br>Life expectancy=%{y}<br>Entity=%{customdata[0]}<extra></extra>\",\"legendgroup\":\"South America\",\"marker\":{\"color\":\"#ab63fa\",\"symbol\":\"circle\"},\"mode\":\"markers\",\"name\":\"South America\",\"orientation\":\"v\",\"showlegend\":true,\"x\":[823182494156.565,76018066442.244,2939601443407.392,414003820567.65643,672661461742.272,181757507346.6109,64962369457.83959,393790561640.7455,69626802256.44,309379596046.4202],\"xaxis\":\"x\",\"y\":[76.52,71.239,75.672,80.042,77.109,76.8,74.131,76.516,77.77,72.128],\"yaxis\":\"y\",\"type\":\"scatter\"},{\"customdata\":[[\"Australia\"],[\"New Zealand\"]],\"hovertemplate\":\"Continent=Oceania<br>GDP=%{x}<br>Life expectancy=%{y}<br>Entity=%{customdata[0]}<extra></extra>\",\"legendgroup\":\"Oceania\",\"marker\":{\"color\":\"#FFA15A\",\"symbol\":\"circle\"},\"mode\":\"markers\",\"name\":\"Oceania\",\"orientation\":\"v\",\"showlegend\":true,\"x\":[1240694865083.6929,167603923504.75528],\"xaxis\":\"x\",\"y\":[83.281,82.145],\"yaxis\":\"y\",\"type\":\"scatter\"},{\"customdata\":[[\"Barbados\"],[\"Canada\"],[\"Costa Rica\"],[\"Cuba\"],[\"Dominica\"],[\"Dominican Republic\"],[\"El Salvador\"],[\"Guatemala\"],[\"Haiti\"],[\"Honduras\"],[\"Jamaica\"],[\"Mexico\"],[\"Nicaragua\"],[\"Panama\"],[\"Puerto Rico\"],[\"Saint Lucia\"],[\"Trinidad and Tobago\"],[\"United States\"]],\"hovertemplate\":\"Continent=North America<br>GDP=%{x}<br>Life expectancy=%{y}<br>Entity=%{customdata[0]}<extra></extra>\",\"legendgroup\":\"North America\",\"marker\":{\"color\":\"#19d3f3\",\"symbol\":\"circle\"},\"mode\":\"markers\",\"name\":\"North America\",\"orientation\":\"v\",\"showlegend\":true,\"x\":[3438300344.3519998,1663488833277.8728,73423089256.5777,94397223221.5698,646150587.4361999,169103408609.2265,55206795110.66801,127670599314.183,19232463928.5056,48336795355.114204,21345128639.3665,2081400727379.778,32020251241.5544,94552379927.8376,106617830962.0934,1905364849.221,39679138181.0803,18099786471818.863],\"xaxis\":\"x\",\"y\":[79.081,82.315,80.095,78.726,74.806,73.892,73.096,74.063,63.66,75.088,74.368,74.992,74.275,78.329,79.952,76.057,73.38,78.851],\"yaxis\":\"y\",\"type\":\"scatter\"},{\"hovertemplate\":\"<b>OLS trendline</b><br>Life expectancy = 4.09679 * log10(GDP) + 27.3289<br>R<sup>2</sup>=0.201039<br><br>GDP=%{x}<br>Life expectancy=%{y} <b>(trend)</b><extra></extra>\",\"legendgroup\":\"Overall Trendline\",\"line\":{\"color\":\"black\"},\"mode\":\"lines\",\"name\":\"Overall Trendline\",\"showlegend\":true,\"x\":[646150587.4361999,787192516.0439999,1435273202.6332,1905364849.221,2814105516.1344004,2867288856.1528,2909433015.7374997,3160304791.0245004,3438300344.3519998,3714569337.024,3943951638.7936,4291680138.0708003,5758823728.2147,7279182572.5231,9167699294.8332,11449924019.3855,12244769407.1164,12881701098.605299,14068859916.262001,14626278084.534399,15224517289.68,19232463928.5056,19943145460.6472,20259443226.243,21345128639.3665,21649703596.743103,22140271185.66,23266776738.6224,23734005492.3619,25325207234.048203,25498805957.180996,25519276601.4032,27233048531.722797,27337406545.575,29969393271.5871,31397408339.077198,31673049404.673702,31808247430.5005,32010369415.3775,32020251241.5544,32329393654.549202,32635863667.9075,33412220661.3381,33810496199.099102,34700222491.2732,34770026115.4729,35709222668.1167,36259279108.8537,37327969739.61,37343429492.598,37492088543.725204,39679138181.0803,40411236293.4693,40786156972.4302,41492738185.9056,42425522955.0522,45553064054.0868,46886050942.8658,47974927129.835396,48336795355.114204,55206795110.66801,56756802283.001396,58963374019.974495,60766117932.632996,61321542028.7618,61990945194.368004,64962369457.83959,65116352950.0017,69626802256.44,71911127564.71,72246579818.7164,72825719194.3799,73423089256.5777,76018066442.244,76628913586.7456,76672314044.59601,86147078025.5952,87398829452.1496,91492138905.2829,93098170691.85359,94397223221.5698,94552379927.8376,100267382728.70601,106617830962.0934,114664366200.4326,124330949966.6157,127018235302.1036,127670599314.183,130061729668.922,131310002211.4595,141272277800.6124,147643349367.2848,153986180266.13202,161899062271.2276,165441451445.3961,167603923504.75528,169103408609.2265,173576883954.928,176167870013.474,177022123255.524,181757507346.6109,200808018308.223,214810334730.79248,239436466540.89658,246754679734.4552,247589040868.064,248733501647.8746,266394671330.70328,271079861239.22382,276210636276.5407,277282306486.4384,304486713080.5595,309379596046.4202,311693857941.588,313560831301.5014,327953720323.2036,364395345741.08636,374774017651.77924,382223402803.0547,392585669545.342,393790561640.7455,393826707120.28534,414003820567.65643,427723008078.3526,434203640781.6646,451485383830.152,454126897521.123,456487880110.758,463624696826.72644,493326538486.61035,523240206958.78143,600826944330.375,651063760815.9657,661523974895.3889,672661461742.272,703091939294.896,735784788595.2847,783230616612.9447,809887419461.82,823182494156.565,868050573635.463,1025925453148.8755,1041146103590.645,1059715387386.732,1155888204718.7598,1169462057841.8496,1176871894602.3445,1240694865083.6929,1391528153866.0566,1470662693336.76,1586711665587.8179,1663488833277.8728,1695408771936.3015,1940820255051.15,2081400727379.778,2083406425434.3462,2503169315457.6816,2555283728651.6367,2939601443407.392,3172361002927.7227,3595099462641.4683,3838487448175.323,4919393085959.739,9206757805540.303,18099786471818.863,18704622174087.15],\"y\":[63.42295264565534,63.77424102365133,64.84290368635402,65.3469874400639,66.04082902900879,66.07414031758998,66.10010133568986,66.24726054030333,66.39726387824983,66.53477125696145,66.64138249613752,66.79171736315159,67.31490390516932,67.731747544425,68.14215480067685,68.53766816417607,68.65708144243771,68.74730345150014,68.90415189740796,68.97328491494929,69.04460883298987,69.46039782723489,69.52495804585169,69.55295489399393,69.64583434293274,69.67104262638549,69.7109084187976,69.79920772054625,69.83458275386874,69.95003838136098,69.96219288801464,69.96362068176516,70.07926448092707,70.08606946063043,70.24961596154466,70.33243606810376,70.34798780060581,70.355566301248,70.36683634739751,70.36738551837486,70.38448070531285,70.40126751323736,70.44309669043304,70.46417960887827,70.51039433603184,70.51396984062396,70.56139174689278,70.58858939338303,70.64027124274764,70.64100796933411,70.64807671300863,70.74895033669384,70.78147846950615,70.79790926043546,70.82846848898981,70.86802344738729,70.99457490773523,71.04589155559393,71.08673929741602,71.10010929778937,71.33655426537834,71.38581974168315,71.45368065242818,71.50726325399711,71.52345203017703,71.5427691798842,71.62607167708578,71.63028404387491,71.74944485801382,71.80688042329139,71.8151608307271,71.82936641112656,71.84390129639134,71.90569796424174,71.91993779163025,71.92094520280808,72.12825092205938,72.1539175801356,72.23535425825646,72.26631520786844,72.29096998803269,72.29389200504718,72.39830778434562,72.5075698629887,72.637022841666,72.78102821546943,72.81907438371627,72.82818901519177,72.86120352783443,72.87819817605578,73.0083087183994,73.08679069571005,73.16163028213555,73.25078704506424,73.28929686977838,73.31240215193861,73.32824927858304,73.37470494201759,73.40106703500662,73.40967374495898,73.45664268159697,73.63398738973756,73.75391733631571,73.94702006590926,74.0005860254136,74.00659200056805,74.01479732501721,74.13684583675123,74.16786559325398,74.2012263477609,74.20811616478952,74.37463508687995,74.40299848766793,74.41625806324416,74.42688334681546,74.50673288807252,74.69420308933967,74.74417022369548,74.77918877084927,74.82678187599146,74.83223413140337,74.83239743540875,74.92129445187416,74.97929789295841,75.00605341068132,75.07549497261206,75.08587431573969,75.09510039410453,75.12270174647183,75.23318365423032,75.3379247834182,75.58393006185008,75.72680203766032,75.75516029244042,75.78486595011489,75.86358812612228,75.94445339048727,76.05563557927934,76.11518241885423,76.14415276432614,76.23857929100836,76.53588656676943,76.56208912082141,76.59354248611103,76.74810043233242,76.76887240654244,76.78011012984308,76.87407327309296,77.07820411149447,77.17661343912499,77.31174582778482,77.39581965342703,77.42963675895246,77.67016298293441,77.79458409541826,77.79629777161949,78.12287846350719,78.15954024548769,78.40882717888266,78.54440698461494,78.76697868548104,78.88352916118642,79.3249640924312,80.44009080257834,81.64277223917213,81.70125592710953],\"type\":\"scatter\",\"xaxis\":\"x\",\"yaxis\":\"y\"}],                        {\"template\":{\"data\":{\"bar\":[{\"error_x\":{\"color\":\"#2a3f5f\"},\"error_y\":{\"color\":\"#2a3f5f\"},\"marker\":{\"line\":{\"color\":\"#E5ECF6\",\"width\":0.5},\"pattern\":{\"fillmode\":\"overlay\",\"size\":10,\"solidity\":0.2}},\"type\":\"bar\"}],\"barpolar\":[{\"marker\":{\"line\":{\"color\":\"#E5ECF6\",\"width\":0.5},\"pattern\":{\"fillmode\":\"overlay\",\"size\":10,\"solidity\":0.2}},\"type\":\"barpolar\"}],\"carpet\":[{\"aaxis\":{\"endlinecolor\":\"#2a3f5f\",\"gridcolor\":\"white\",\"linecolor\":\"white\",\"minorgridcolor\":\"white\",\"startlinecolor\":\"#2a3f5f\"},\"baxis\":{\"endlinecolor\":\"#2a3f5f\",\"gridcolor\":\"white\",\"linecolor\":\"white\",\"minorgridcolor\":\"white\",\"startlinecolor\":\"#2a3f5f\"},\"type\":\"carpet\"}],\"choropleth\":[{\"colorbar\":{\"outlinewidth\":0,\"ticks\":\"\"},\"type\":\"choropleth\"}],\"contour\":[{\"colorbar\":{\"outlinewidth\":0,\"ticks\":\"\"},\"colorscale\":[[0.0,\"#0d0887\"],[0.1111111111111111,\"#46039f\"],[0.2222222222222222,\"#7201a8\"],[0.3333333333333333,\"#9c179e\"],[0.4444444444444444,\"#bd3786\"],[0.5555555555555556,\"#d8576b\"],[0.6666666666666666,\"#ed7953\"],[0.7777777777777778,\"#fb9f3a\"],[0.8888888888888888,\"#fdca26\"],[1.0,\"#f0f921\"]],\"type\":\"contour\"}],\"contourcarpet\":[{\"colorbar\":{\"outlinewidth\":0,\"ticks\":\"\"},\"type\":\"contourcarpet\"}],\"heatmap\":[{\"colorbar\":{\"outlinewidth\":0,\"ticks\":\"\"},\"colorscale\":[[0.0,\"#0d0887\"],[0.1111111111111111,\"#46039f\"],[0.2222222222222222,\"#7201a8\"],[0.3333333333333333,\"#9c179e\"],[0.4444444444444444,\"#bd3786\"],[0.5555555555555556,\"#d8576b\"],[0.6666666666666666,\"#ed7953\"],[0.7777777777777778,\"#fb9f3a\"],[0.8888888888888888,\"#fdca26\"],[1.0,\"#f0f921\"]],\"type\":\"heatmap\"}],\"heatmapgl\":[{\"colorbar\":{\"outlinewidth\":0,\"ticks\":\"\"},\"colorscale\":[[0.0,\"#0d0887\"],[0.1111111111111111,\"#46039f\"],[0.2222222222222222,\"#7201a8\"],[0.3333333333333333,\"#9c179e\"],[0.4444444444444444,\"#bd3786\"],[0.5555555555555556,\"#d8576b\"],[0.6666666666666666,\"#ed7953\"],[0.7777777777777778,\"#fb9f3a\"],[0.8888888888888888,\"#fdca26\"],[1.0,\"#f0f921\"]],\"type\":\"heatmapgl\"}],\"histogram\":[{\"marker\":{\"pattern\":{\"fillmode\":\"overlay\",\"size\":10,\"solidity\":0.2}},\"type\":\"histogram\"}],\"histogram2d\":[{\"colorbar\":{\"outlinewidth\":0,\"ticks\":\"\"},\"colorscale\":[[0.0,\"#0d0887\"],[0.1111111111111111,\"#46039f\"],[0.2222222222222222,\"#7201a8\"],[0.3333333333333333,\"#9c179e\"],[0.4444444444444444,\"#bd3786\"],[0.5555555555555556,\"#d8576b\"],[0.6666666666666666,\"#ed7953\"],[0.7777777777777778,\"#fb9f3a\"],[0.8888888888888888,\"#fdca26\"],[1.0,\"#f0f921\"]],\"type\":\"histogram2d\"}],\"histogram2dcontour\":[{\"colorbar\":{\"outlinewidth\":0,\"ticks\":\"\"},\"colorscale\":[[0.0,\"#0d0887\"],[0.1111111111111111,\"#46039f\"],[0.2222222222222222,\"#7201a8\"],[0.3333333333333333,\"#9c179e\"],[0.4444444444444444,\"#bd3786\"],[0.5555555555555556,\"#d8576b\"],[0.6666666666666666,\"#ed7953\"],[0.7777777777777778,\"#fb9f3a\"],[0.8888888888888888,\"#fdca26\"],[1.0,\"#f0f921\"]],\"type\":\"histogram2dcontour\"}],\"mesh3d\":[{\"colorbar\":{\"outlinewidth\":0,\"ticks\":\"\"},\"type\":\"mesh3d\"}],\"parcoords\":[{\"line\":{\"colorbar\":{\"outlinewidth\":0,\"ticks\":\"\"}},\"type\":\"parcoords\"}],\"pie\":[{\"automargin\":true,\"type\":\"pie\"}],\"scatter\":[{\"marker\":{\"colorbar\":{\"outlinewidth\":0,\"ticks\":\"\"}},\"type\":\"scatter\"}],\"scatter3d\":[{\"line\":{\"colorbar\":{\"outlinewidth\":0,\"ticks\":\"\"}},\"marker\":{\"colorbar\":{\"outlinewidth\":0,\"ticks\":\"\"}},\"type\":\"scatter3d\"}],\"scattercarpet\":[{\"marker\":{\"colorbar\":{\"outlinewidth\":0,\"ticks\":\"\"}},\"type\":\"scattercarpet\"}],\"scattergeo\":[{\"marker\":{\"colorbar\":{\"outlinewidth\":0,\"ticks\":\"\"}},\"type\":\"scattergeo\"}],\"scattergl\":[{\"marker\":{\"colorbar\":{\"outlinewidth\":0,\"ticks\":\"\"}},\"type\":\"scattergl\"}],\"scattermapbox\":[{\"marker\":{\"colorbar\":{\"outlinewidth\":0,\"ticks\":\"\"}},\"type\":\"scattermapbox\"}],\"scatterpolar\":[{\"marker\":{\"colorbar\":{\"outlinewidth\":0,\"ticks\":\"\"}},\"type\":\"scatterpolar\"}],\"scatterpolargl\":[{\"marker\":{\"colorbar\":{\"outlinewidth\":0,\"ticks\":\"\"}},\"type\":\"scatterpolargl\"}],\"scatterternary\":[{\"marker\":{\"colorbar\":{\"outlinewidth\":0,\"ticks\":\"\"}},\"type\":\"scatterternary\"}],\"surface\":[{\"colorbar\":{\"outlinewidth\":0,\"ticks\":\"\"},\"colorscale\":[[0.0,\"#0d0887\"],[0.1111111111111111,\"#46039f\"],[0.2222222222222222,\"#7201a8\"],[0.3333333333333333,\"#9c179e\"],[0.4444444444444444,\"#bd3786\"],[0.5555555555555556,\"#d8576b\"],[0.6666666666666666,\"#ed7953\"],[0.7777777777777778,\"#fb9f3a\"],[0.8888888888888888,\"#fdca26\"],[1.0,\"#f0f921\"]],\"type\":\"surface\"}],\"table\":[{\"cells\":{\"fill\":{\"color\":\"#EBF0F8\"},\"line\":{\"color\":\"white\"}},\"header\":{\"fill\":{\"color\":\"#C8D4E3\"},\"line\":{\"color\":\"white\"}},\"type\":\"table\"}]},\"layout\":{\"annotationdefaults\":{\"arrowcolor\":\"#2a3f5f\",\"arrowhead\":0,\"arrowwidth\":1},\"autotypenumbers\":\"strict\",\"coloraxis\":{\"colorbar\":{\"outlinewidth\":0,\"ticks\":\"\"}},\"colorscale\":{\"diverging\":[[0,\"#8e0152\"],[0.1,\"#c51b7d\"],[0.2,\"#de77ae\"],[0.3,\"#f1b6da\"],[0.4,\"#fde0ef\"],[0.5,\"#f7f7f7\"],[0.6,\"#e6f5d0\"],[0.7,\"#b8e186\"],[0.8,\"#7fbc41\"],[0.9,\"#4d9221\"],[1,\"#276419\"]],\"sequential\":[[0.0,\"#0d0887\"],[0.1111111111111111,\"#46039f\"],[0.2222222222222222,\"#7201a8\"],[0.3333333333333333,\"#9c179e\"],[0.4444444444444444,\"#bd3786\"],[0.5555555555555556,\"#d8576b\"],[0.6666666666666666,\"#ed7953\"],[0.7777777777777778,\"#fb9f3a\"],[0.8888888888888888,\"#fdca26\"],[1.0,\"#f0f921\"]],\"sequentialminus\":[[0.0,\"#0d0887\"],[0.1111111111111111,\"#46039f\"],[0.2222222222222222,\"#7201a8\"],[0.3333333333333333,\"#9c179e\"],[0.4444444444444444,\"#bd3786\"],[0.5555555555555556,\"#d8576b\"],[0.6666666666666666,\"#ed7953\"],[0.7777777777777778,\"#fb9f3a\"],[0.8888888888888888,\"#fdca26\"],[1.0,\"#f0f921\"]]},\"colorway\":[\"#636efa\",\"#EF553B\",\"#00cc96\",\"#ab63fa\",\"#FFA15A\",\"#19d3f3\",\"#FF6692\",\"#B6E880\",\"#FF97FF\",\"#FECB52\"],\"font\":{\"color\":\"#2a3f5f\"},\"geo\":{\"bgcolor\":\"white\",\"lakecolor\":\"white\",\"landcolor\":\"#E5ECF6\",\"showlakes\":true,\"showland\":true,\"subunitcolor\":\"white\"},\"hoverlabel\":{\"align\":\"left\"},\"hovermode\":\"closest\",\"mapbox\":{\"style\":\"light\"},\"paper_bgcolor\":\"white\",\"plot_bgcolor\":\"#E5ECF6\",\"polar\":{\"angularaxis\":{\"gridcolor\":\"white\",\"linecolor\":\"white\",\"ticks\":\"\"},\"bgcolor\":\"#E5ECF6\",\"radialaxis\":{\"gridcolor\":\"white\",\"linecolor\":\"white\",\"ticks\":\"\"}},\"scene\":{\"xaxis\":{\"backgroundcolor\":\"#E5ECF6\",\"gridcolor\":\"white\",\"gridwidth\":2,\"linecolor\":\"white\",\"showbackground\":true,\"ticks\":\"\",\"zerolinecolor\":\"white\"},\"yaxis\":{\"backgroundcolor\":\"#E5ECF6\",\"gridcolor\":\"white\",\"gridwidth\":2,\"linecolor\":\"white\",\"showbackground\":true,\"ticks\":\"\",\"zerolinecolor\":\"white\"},\"zaxis\":{\"backgroundcolor\":\"#E5ECF6\",\"gridcolor\":\"white\",\"gridwidth\":2,\"linecolor\":\"white\",\"showbackground\":true,\"ticks\":\"\",\"zerolinecolor\":\"white\"}},\"shapedefaults\":{\"line\":{\"color\":\"#2a3f5f\"}},\"ternary\":{\"aaxis\":{\"gridcolor\":\"white\",\"linecolor\":\"white\",\"ticks\":\"\"},\"baxis\":{\"gridcolor\":\"white\",\"linecolor\":\"white\",\"ticks\":\"\"},\"bgcolor\":\"#E5ECF6\",\"caxis\":{\"gridcolor\":\"white\",\"linecolor\":\"white\",\"ticks\":\"\"}},\"title\":{\"x\":0.05},\"xaxis\":{\"automargin\":true,\"gridcolor\":\"white\",\"linecolor\":\"white\",\"ticks\":\"\",\"title\":{\"standoff\":15},\"zerolinecolor\":\"white\",\"zerolinewidth\":2},\"yaxis\":{\"automargin\":true,\"gridcolor\":\"white\",\"linecolor\":\"white\",\"ticks\":\"\",\"title\":{\"standoff\":15},\"zerolinecolor\":\"white\",\"zerolinewidth\":2}}},\"xaxis\":{\"anchor\":\"y\",\"domain\":[0.0,1.0],\"title\":{\"text\":\"GDP\"},\"type\":\"log\",\"range\":[8.73731240511434,13.294568111909959]},\"yaxis\":{\"anchor\":\"x\",\"domain\":[0.0,1.0],\"title\":{\"text\":\"Life expectancy\"},\"range\":[47.805,89.687]},\"legend\":{\"title\":{\"text\":\"Continent\"},\"tracegroupgap\":0},\"title\":{\"text\":\"Life expectancy vs. GDP, 2018\"}},                        {\"responsive\": true}                    ).then(function(){\n",
       "                            \n",
       "var gd = document.getElementById('077af1e8-efaf-408d-82af-ffc72524e708');\n",
       "var x = new MutationObserver(function (mutations, observer) {{\n",
       "        var display = window.getComputedStyle(gd).display;\n",
       "        if (!display || display === 'none') {{\n",
       "            console.log([gd, 'removed!']);\n",
       "            Plotly.purge(gd);\n",
       "            observer.disconnect();\n",
       "        }}\n",
       "}});\n",
       "\n",
       "// Listen for the removal of the full notebook cells\n",
       "var notebookContainer = gd.closest('#notebook-container');\n",
       "if (notebookContainer) {{\n",
       "    x.observe(notebookContainer, {childList: true});\n",
       "}}\n",
       "\n",
       "// Listen for the clearing of the current output cell\n",
       "var outputEl = gd.closest('.output');\n",
       "if (outputEl) {{\n",
       "    x.observe(outputEl, {childList: true});\n",
       "}}\n",
       "\n",
       "                        })                };                });            </script>        </div>"
      ]
     },
     "metadata": {},
     "output_type": "display_data"
    }
   ],
   "source": [
    "#Plot life expectancy vs. GDP\n",
    "plotFigure(GDP('life-expectancy-vs-gdp-per-capita.csv',\n",
    "          'GDP per capita',\n",
    "          'Life expectancy',\n",
    "          'Life expectancy vs. GDP'), 'GDP', 'Life expectancy', \n",
    "         'Life expectancy vs. GDP', pow(10,8), pow(10,12), 5, 5, 4)"
   ]
  },
  {
   "cell_type": "markdown",
   "metadata": {},
   "source": [
    "#### G. Related to question f, what would happen if you use GDP per capita as an indicator of strong economy? Explain the results you obtained, and discuss any insights you get from comparing the results of g and f. [1p]"
   ]
  },
  {
   "cell_type": "markdown",
   "metadata": {},
   "source": [
    "The correlation of life expectancy and GDP per capita is stronger than that of life expectancy and GDP only.\n",
    "This is clear when comparing the same year with each other. The variance is visabily greater in the graph from \n",
    "1(f) than that of 1(a). There are however some similarities found in both graphs. For example, the majority of countries\n",
    "in Africa tend to show up below the regression line and more left of the graph. The regression line in \n",
    "1(a) is also steaper, indicating a stronger relationship. Using GDP per capita can thus provide a \n",
    "clearer indication of the country's prosperity."
   ]
  },
  {
   "cell_type": "markdown",
   "metadata": {},
   "source": [
    "## Task 2 - Download some other data sets, e.g. related to happiness and life satisfaction, trust, corruption, etc. <br>\n",
    "### A.\tThink of several meaningful questions that can be answered with these data, make several informative visualisations to answer those questions. State any assumptions and motivate decisions that you make when selecting data to be plotted, and in combining data. [2.5p] \n",
    "\n",
    "In the following figures, we plot data for the most recent year available to make analyses that are more likely to represent the current situation. \n",
    "\n",
    "We used the same functions as in task 1 since the data downloaded has the same format as 'Life expectancy vs. GDP per capita'.\n",
    "\n",
    "The visualization decisions are the same as in question 1(a)."
   ]
  },
  {
   "cell_type": "markdown",
   "metadata": {},
   "source": [
    "### 1. Life satisfaction vs. GDP per capita<br>\n",
    "**_Which countries have low life satisfaction but have high GDP per capita?_** <br>\n",
    "To determine the countries with a low life satisfaction and high GDP per capita, the data was filtered to display countries with a life satisfaction below the median and a GDP per capita above the median. The countries respecting the criterium are located in the bottom right corner of the plot (Figure X).  The GPD per capita median is \\\\$18,278, while the life satisfaction median is 5.81. The results are displayed in Figure X."
   ]
  },
  {
   "cell_type": "code",
   "execution_count": 11,
   "metadata": {},
   "outputs": [
    {
     "name": "stdout",
     "output_type": "stream",
     "text": [
      "---------------------------------------------------------------------------------------------------------------------\n",
      "List of years for which data is available: \n",
      "\n",
      "[2005, 2006, 2007, 2008, 2009, 2010, 2011, 2012, 2013, 2014, 2015, 2016, 2017, 2018, 2019, 2020]\n",
      "---------------------------------------------------------------------------------------------------------------------\n",
      "Year of interest for the data \"Happiness vs. GDP per capita\": \n",
      "2018\n",
      "---------------------------------------------------------------------------------------------------------------------\n",
      "Figure 5 :\n"
     ]
    },
    {
     "data": {
      "application/vnd.plotly.v1+json": {
       "config": {
        "plotlyServerURL": "https://plot.ly"
       },
       "data": [
        {
         "customdata": [
          [
           "Afghanistan"
          ],
          [
           "Armenia"
          ],
          [
           "Azerbaijan"
          ],
          [
           "Bangladesh"
          ],
          [
           "Cambodia"
          ],
          [
           "China"
          ],
          [
           "Georgia"
          ],
          [
           "India"
          ],
          [
           "Indonesia"
          ],
          [
           "Iran"
          ],
          [
           "Iraq"
          ],
          [
           "Israel"
          ],
          [
           "Japan"
          ],
          [
           "Jordan"
          ],
          [
           "Kazakhstan"
          ],
          [
           "Kyrgyzstan"
          ],
          [
           "Laos"
          ],
          [
           "Lebanon"
          ],
          [
           "Malaysia"
          ],
          [
           "Maldives"
          ],
          [
           "Mongolia"
          ],
          [
           "Myanmar"
          ],
          [
           "Nepal"
          ],
          [
           "Pakistan"
          ],
          [
           "Palestine"
          ],
          [
           "Philippines"
          ],
          [
           "Saudi Arabia"
          ],
          [
           "Singapore"
          ],
          [
           "South Korea"
          ],
          [
           "Sri Lanka"
          ],
          [
           "Tajikistan"
          ],
          [
           "Thailand"
          ],
          [
           "Turkey"
          ],
          [
           "Turkmenistan"
          ],
          [
           "United Arab Emirates"
          ],
          [
           "Uzbekistan"
          ],
          [
           "Vietnam"
          ]
         ],
         "hovertemplate": "Continent=Asia<br>GDP per capita ($)=%{x}<br>Life satisfaction (scale: 0-10)=%{y}<br>Entity=%{customdata[0]}<extra></extra>",
         "legendgroup": "Asia",
         "marker": {
          "color": "#636efa",
          "symbol": "circle"
         },
         "mode": "markers",
         "name": "Asia",
         "orientation": "v",
         "showlegend": true,
         "type": "scatter",
         "x": [
          2033.80438893717,
          12715.1089539751,
          14209.6494059309,
          4440.85547046826,
          4159.33819437034,
          15242.9858575834,
          14253.4089858441,
          6518.84505546914,
          11371.7255560847,
          13471.8606376875,
          10346.2129581855,
          39418.3453068224,
          41182.3802046593,
          10013.3976633388,
          25544.3447563035,
          5133.1519146081,
          7592.82947474583,
          15588.1528714896,
          27558.1369502408,
          18795.5303498427,
          11915.5567471637,
          5029.1880858737,
          3773.71591761441,
          4739.47271266276,
          6318.21006766832,
          8516.13654897274,
          47592.7671473292,
          98222.846041782,
          41948.3460057222,
          12860.3208303539,
          3415.32233593608,
          18095.7365704368,
          28312.6834243604,
          14845.3446497287,
          66968.2211775042,
          6755.48097366685,
          7585.94315504036
         ],
         "xaxis": "x",
         "y": [
          2.694,
          5.062,
          5.168,
          4.499,
          5.122,
          5.131,
          4.659,
          3.818,
          5.34,
          4.278,
          4.886,
          6.927,
          5.794,
          4.639,
          6.008,
          5.297,
          4.859,
          5.167,
          5.339,
          5.198,
          5.465,
          4.411,
          4.91,
          5.472,
          4.554,
          5.869,
          6.356,
          6.375,
          5.84,
          4.435,
          5.497,
          6.012,
          5.186,
          4.621,
          6.604,
          6.205,
          5.296
         ],
         "yaxis": "y"
        },
        {
         "customdata": [
          [
           "Albania"
          ],
          [
           "Austria"
          ],
          [
           "Belarus"
          ],
          [
           "Belgium"
          ],
          [
           "Bosnia and Herzegovina"
          ],
          [
           "Bulgaria"
          ],
          [
           "Croatia"
          ],
          [
           "Cyprus"
          ],
          [
           "Czechia"
          ],
          [
           "Denmark"
          ],
          [
           "Estonia"
          ],
          [
           "Finland"
          ],
          [
           "France"
          ],
          [
           "Germany"
          ],
          [
           "Greece"
          ],
          [
           "Hungary"
          ],
          [
           "Ireland"
          ],
          [
           "Italy"
          ],
          [
           "Kosovo"
          ],
          [
           "Latvia"
          ],
          [
           "Lithuania"
          ],
          [
           "Luxembourg"
          ],
          [
           "Malta"
          ],
          [
           "Moldova"
          ],
          [
           "Montenegro"
          ],
          [
           "Netherlands"
          ],
          [
           "North Macedonia"
          ],
          [
           "Norway"
          ],
          [
           "Poland"
          ],
          [
           "Portugal"
          ],
          [
           "Romania"
          ],
          [
           "Russia"
          ],
          [
           "Serbia"
          ],
          [
           "Slovakia"
          ],
          [
           "Slovenia"
          ],
          [
           "Spain"
          ],
          [
           "Sweden"
          ],
          [
           "Switzerland"
          ],
          [
           "Ukraine"
          ],
          [
           "United Kingdom"
          ]
         ],
         "hovertemplate": "Continent=Europe<br>GDP per capita ($)=%{x}<br>Life satisfaction (scale: 0-10)=%{y}<br>Entity=%{customdata[0]}<extra></extra>",
         "legendgroup": "Europe",
         "marker": {
          "color": "#EF553B",
          "symbol": "circle"
         },
         "mode": "markers",
         "name": "Europe",
         "orientation": "v",
         "showlegend": true,
         "type": "scatter",
         "x": [
          13323.7533559132,
          55297.6182880367,
          18885.2354999668,
          51110.9584679336,
          14386.7318547663,
          22208.4522754771,
          27799.8433225132,
          39559.4879646749,
          39932.992193117,
          56281.2888680368,
          35208.0239637019,
          48130.2923921114,
          45251.9054105957,
          53463.4014817389,
          29150.6944922443,
          31095.557503677,
          84303.3408922937,
          42052.5563822519,
          10895.044002822,
          30036.0865499334,
          35427.4618636641,
          113589.670473448,
          43313.4770253615,
          12363.1468378401,
          20686.5759142606,
          56060.9136269404,
          16093.3104230501,
          64341.2589026158,
          31674.1316243417,
          34040.7255617749,
          28523.4731832065,
          26656.4095416865,
          17452.7958990327,
          31132.5729674338,
          37968.3520620285,
          40312.5475864011,
          52349.2924275599,
          70663.4875973954,
          12338.0024454764,
          46037.9005384222
         ],
         "xaxis": "x",
         "y": [
          5.004,
          7.396,
          5.234,
          6.892,
          5.887,
          5.099,
          5.536,
          6.276,
          7.034,
          7.649,
          6.091,
          7.858,
          6.666,
          7.118,
          5.409,
          5.936,
          6.962,
          6.517,
          6.392,
          5.901,
          6.309,
          7.243,
          6.91,
          5.682,
          5.65,
          7.463,
          5.24,
          7.444,
          6.111,
          5.92,
          6.151,
          5.514,
          5.936,
          6.235,
          6.249,
          6.513,
          7.375,
          7.509,
          4.662,
          7.233
         ],
         "yaxis": "y"
        },
        {
         "customdata": [
          [
           "Algeria"
          ],
          [
           "Benin"
          ],
          [
           "Botswana"
          ],
          [
           "Burkina Faso"
          ],
          [
           "Burundi"
          ],
          [
           "Cameroon"
          ],
          [
           "Chad"
          ],
          [
           "Comoros"
          ],
          [
           "Congo"
          ],
          [
           "Cote d'Ivoire"
          ],
          [
           "Egypt"
          ],
          [
           "Eswatini"
          ],
          [
           "Ethiopia"
          ],
          [
           "Gabon"
          ],
          [
           "Gambia"
          ],
          [
           "Ghana"
          ],
          [
           "Guinea"
          ],
          [
           "Kenya"
          ],
          [
           "Liberia"
          ],
          [
           "Libya"
          ],
          [
           "Madagascar"
          ],
          [
           "Malawi"
          ],
          [
           "Mali"
          ],
          [
           "Mauritania"
          ],
          [
           "Mauritius"
          ],
          [
           "Morocco"
          ],
          [
           "Mozambique"
          ],
          [
           "Namibia"
          ],
          [
           "Niger"
          ],
          [
           "Nigeria"
          ],
          [
           "Rwanda"
          ],
          [
           "Senegal"
          ],
          [
           "Sierra Leone"
          ],
          [
           "South Africa"
          ],
          [
           "Tanzania"
          ],
          [
           "Togo"
          ],
          [
           "Tunisia"
          ],
          [
           "Uganda"
          ],
          [
           "Zambia"
          ],
          [
           "Zimbabwe"
          ]
         ],
         "hovertemplate": "Continent=Africa<br>GDP per capita ($)=%{x}<br>Life satisfaction (scale: 0-10)=%{y}<br>Entity=%{customdata[0]}<extra></extra>",
         "legendgroup": "Africa",
         "marker": {
          "color": "#00cc96",
          "symbol": "circle"
         },
         "mode": "markers",
         "name": "Africa",
         "orientation": "v",
         "showlegend": true,
         "type": "scatter",
         "x": [
          11642.1983450506,
          3160.7806702321,
          17634.6561910867,
          2120.33026783506,
          761.524125241416,
          3603.54827506808,
          1576.32111465904,
          3066.83784677933,
          3933.425550952,
          5033.47882607719,
          11366.3355206681,
          8520.59238619335,
          2103.51585836696,
          14744.4343267491,
          2158.07755816639,
          5177.88398862782,
          2499.70726640711,
          4203.83827267811,
          1497.00478720289,
          15017.9935741811,
          1592.05355843859,
          1471.03724879602,
          2283.70241285673,
          5042.43119844404,
          22208.1381171868,
          7446.93622037578,
          1289.73594800556,
          10092.258820242,
          1200.97246385835,
          5155.07599367409,
          2088.74922433298,
          3309.48617330672,
          1663.29348036377,
          12627.9285840445,
          2590.20113826159,
          2061.33417572853,
          10763.7297838206,
          2121.96781993514,
          3521.5420629895,
          3341.66541766316
         ],
         "xaxis": "x",
         "y": [
          5.043,
          5.82,
          3.461,
          4.927,
          3.775,
          5.251,
          4.486,
          3.973,
          5.49,
          5.268,
          4.005,
          4.212,
          4.379,
          4.783,
          4.922,
          5.004,
          5.252,
          4.656,
          4.135,
          5.494,
          4.071,
          3.335,
          4.416,
          4.314,
          5.882,
          4.897,
          4.654,
          4.834,
          5.164,
          5.252,
          3.561,
          4.769,
          4.306,
          4.884,
          3.445,
          4.023,
          4.741,
          4.322,
          4.041,
          3.616
         ],
         "yaxis": "y"
        },
        {
         "customdata": [
          [
           "Argentina"
          ],
          [
           "Bolivia"
          ],
          [
           "Brazil"
          ],
          [
           "Chile"
          ],
          [
           "Colombia"
          ],
          [
           "Ecuador"
          ],
          [
           "Peru"
          ],
          [
           "Uruguay"
          ]
         ],
         "hovertemplate": "Continent=South America<br>GDP per capita ($)=%{x}<br>Life satisfaction (scale: 0-10)=%{y}<br>Entity=%{customdata[0]}<extra></extra>",
         "legendgroup": "South America",
         "marker": {
          "color": "#ab63fa",
          "symbol": "circle"
         },
         "mode": "markers",
         "name": "South America",
         "orientation": "v",
         "showlegend": true,
         "type": "scatter",
         "x": [
          22759.3985583341,
          8655.53149780443,
          14668.2561636292,
          25028.9099914542,
          14314.8555765268,
          11561.747853143,
          12781.4164435302,
          23035.0833880454
         ],
         "xaxis": "x",
         "y": [
          5.793,
          5.916,
          6.191,
          6.436,
          5.984,
          6.128,
          5.68,
          6.372
         ],
         "yaxis": "y"
        },
        {
         "customdata": [
          [
           "Australia"
          ],
          [
           "New Zealand"
          ]
         ],
         "hovertemplate": "Continent=Oceania<br>GDP per capita ($)=%{x}<br>Life satisfaction (scale: 0-10)=%{y}<br>Entity=%{customdata[0]}<extra></extra>",
         "legendgroup": "Oceania",
         "marker": {
          "color": "#FFA15A",
          "symbol": "circle"
         },
         "mode": "markers",
         "name": "Oceania",
         "orientation": "v",
         "showlegend": true,
         "type": "scatter",
         "x": [
          49151.6887104846,
          42866.1272276586
         ],
         "xaxis": "x",
         "y": [
          7.177,
          7.37
         ],
         "yaxis": "y"
        },
        {
         "customdata": [
          [
           "Canada"
          ],
          [
           "Costa Rica"
          ],
          [
           "Dominican Republic"
          ],
          [
           "El Salvador"
          ],
          [
           "Guatemala"
          ],
          [
           "Haiti"
          ],
          [
           "Honduras"
          ],
          [
           "Mexico"
          ],
          [
           "Nicaragua"
          ],
          [
           "Panama"
          ],
          [
           "United States"
          ]
         ],
         "hovertemplate": "Continent=North America<br>GDP per capita ($)=%{x}<br>Life satisfaction (scale: 0-10)=%{y}<br>Entity=%{customdata[0]}<extra></extra>",
         "legendgroup": "North America",
         "marker": {
          "color": "#19d3f3",
          "symbol": "circle"
         },
         "mode": "markers",
         "name": "North America",
         "orientation": "v",
         "showlegend": true,
         "type": "scatter",
         "x": [
          48796.8137814007,
          20559.8604252658,
          17711.7955337583,
          8614.01795915499,
          8462.17210684372,
          2992.31041114318,
          5680.36288396582,
          19928.3956618582,
          5729.68822390273,
          31012.9461549459,
          61585.7560382102
         ],
         "xaxis": "x",
         "y": [
          7.175,
          7.141,
          5.433,
          6.241,
          6.627,
          3.615,
          5.908,
          6.55,
          5.819,
          6.281,
          6.883
         ],
         "yaxis": "y"
        },
        {
         "hovertemplate": "<b>OLS trendline</b><br>Life satisfaction in Cantril Ladder (World Happiness Report 2021) = 1.68418 * log10(GDP per capita, PPP (constant 2017 international $)) + -1.3733<br>R<sup>2</sup>=0.600326<br><br>GDP per capita ($)=%{x}<br>Life satisfaction (scale: 0-10)=%{y} <b>(trend)</b><extra></extra>",
         "legendgroup": "Overall Trendline",
         "line": {
          "color": "black"
         },
         "mode": "lines",
         "name": "Overall Trendline",
         "showlegend": true,
         "type": "scatter",
         "x": [
          761.524125241416,
          1200.97246385835,
          1289.73594800556,
          1471.03724879602,
          1497.00478720289,
          1576.32111465904,
          1592.05355843859,
          1663.29348036377,
          2033.80438893717,
          2061.33417572853,
          2088.74922433298,
          2103.51585836696,
          2120.33026783506,
          2121.96781993514,
          2158.07755816639,
          2283.70241285673,
          2499.70726640711,
          2590.20113826159,
          2992.31041114318,
          3066.83784677933,
          3160.7806702321,
          3309.48617330672,
          3341.66541766316,
          3415.32233593608,
          3521.5420629895,
          3603.54827506808,
          3773.71591761441,
          3933.425550952,
          4159.33819437034,
          4203.83827267811,
          4440.85547046826,
          4739.47271266276,
          5029.1880858737,
          5033.47882607719,
          5042.43119844404,
          5133.1519146081,
          5155.07599367409,
          5177.88398862782,
          5680.36288396582,
          5729.68822390273,
          6318.21006766832,
          6518.84505546914,
          6755.48097366685,
          7446.93622037578,
          7585.94315504036,
          7592.82947474583,
          8462.17210684372,
          8516.13654897274,
          8520.59238619335,
          8614.01795915499,
          8655.53149780443,
          10013.3976633388,
          10092.258820242,
          10346.2129581855,
          10763.7297838206,
          10895.044002822,
          11366.3355206681,
          11371.7255560847,
          11561.747853143,
          11642.1983450506,
          11915.5567471637,
          12338.0024454764,
          12363.1468378401,
          12627.9285840445,
          12715.1089539751,
          12781.4164435302,
          12860.3208303539,
          13323.7533559132,
          13471.8606376875,
          14209.6494059309,
          14253.4089858441,
          14314.8555765268,
          14386.7318547663,
          14668.2561636292,
          14744.4343267491,
          14845.3446497287,
          15017.9935741811,
          15242.9858575834,
          15588.1528714896,
          16093.3104230501,
          17452.7958990327,
          17634.6561910867,
          17711.7955337583,
          18095.7365704368,
          18795.5303498427,
          18885.2354999668,
          19928.3956618582,
          20559.8604252658,
          20686.5759142606,
          22208.1381171868,
          22208.4522754771,
          22759.3985583341,
          23035.0833880454,
          25028.9099914542,
          25544.3447563035,
          26656.4095416865,
          27558.1369502408,
          27799.8433225132,
          28312.6834243604,
          28523.4731832065,
          29150.6944922443,
          30036.0865499334,
          31012.9461549459,
          31095.557503677,
          31132.5729674338,
          31674.1316243417,
          34040.7255617749,
          35208.0239637019,
          35427.4618636641,
          37968.3520620285,
          39418.3453068224,
          39559.4879646749,
          39932.992193117,
          40312.5475864011,
          41182.3802046593,
          41948.3460057222,
          42052.5563822519,
          42866.1272276586,
          43313.4770253615,
          45251.9054105957,
          46037.9005384222,
          47592.7671473292,
          48130.2923921114,
          48796.8137814007,
          49151.6887104846,
          51110.9584679336,
          52349.2924275599,
          53463.4014817389,
          55297.6182880367,
          56060.9136269404,
          56281.2888680368,
          61585.7560382102,
          64341.2589026158,
          66968.2211775042,
          70663.4875973954,
          84303.3408922937,
          98222.846041782,
          113589.670473448
         ],
         "xaxis": "x",
         "y": [
          3.479979260977784,
          3.813193612436361,
          3.865348944855391,
          3.961554240423381,
          3.974353213348358,
          4.012115104262648,
          4.0193789485951505,
          4.051397286847415,
          4.198494231186531,
          4.2083285456857595,
          4.217992209586079,
          4.223144945392875,
          4.228968379000818,
          4.229533052323362,
          4.241875166929285,
          4.283259663128387,
          4.3493631997852376,
          4.375374273070705,
          4.480927264470887,
          4.498921351042501,
          4.520990107204726,
          4.5546168371857565,
          4.5616944318646855,
          4.577641502558789,
          4.600043112241991,
          4.616880660697065,
          4.650629744800918,
          4.680947934160184,
          4.721794902410803,
          4.729578796479188,
          4.769697086172432,
          4.817297772916426,
          4.860695521054703,
          4.861319288137285,
          4.862619030503415,
          4.875661564428409,
          4.878778908535713,
          4.8820078960805375,
          4.949752033677678,
          4.956075984825738,
          5.027591519548881,
          5.050456979083769,
          5.076537574365952,
          5.147814441635399,
          5.161341705953252,
          5.162005378509695,
          5.2412936439065945,
          5.2459432700386,
          5.246325871317156,
          5.2543021284283355,
          5.257818646773302,
          5.364406683892176,
          5.370144550091073,
          5.388321982110714,
          5.417258539982949,
          5.426127782184469,
          5.457102385285191,
          5.457449155272048,
          5.469570420949378,
          5.47464233514814,
          5.491617786161523,
          5.517100321828611,
          5.518589434085534,
          5.5340891112261925,
          5.53912139423773,
          5.5429257915700685,
          5.547427303211988,
          5.573321231835422,
          5.581406983986405,
          5.620405531657186,
          5.6226545615419905,
          5.625800990321265,
          5.629464386393028,
          5.643639028282729,
          5.647427813779434,
          5.652416645586335,
          5.660873983174923,
          5.67175065310761,
          5.688128664508637,
          5.711455817080777,
          5.770772066166883,
          5.778354231396813,
          5.781546754902889,
          5.797232678351996,
          5.824985165465627,
          5.828467750909072,
          5.86779328435248,
          5.890610285833157,
          5.89510443974951,
          5.947016885482897,
          5.947027232296165,
          5.964951117826619,
          5.973757717775117,
          6.034476092620615,
          6.049385869504267,
          6.0805548306319555,
          6.104888230782109,
          6.111275480961043,
          6.124645670031873,
          6.130071049252193,
          6.1459806724845,
          6.167865675125784,
          6.191275261343634,
          6.1932210344939005,
          6.194091195857819,
          6.206705217239074,
          6.259410159277017,
          6.284071370248165,
          6.288615946583715,
          6.339279016004308,
          6.366691841469866,
          6.369306150015854,
          6.376179618970099,
          6.383098897396771,
          6.398713283232745,
          6.4121924609577405,
          6.414007268351911,
          6.428022772225493,
          6.435616411354189,
          6.467639146592749,
          6.480234536191382,
          6.504529611370421,
          6.512744282153395,
          6.522803842341013,
          6.528103925968688,
          6.556693893463933,
          6.5742039803046985,
          6.5896071211169485,
          6.614280116628841,
          6.624307306042409,
          6.627176921659206,
          6.693055790027373,
          6.725070870015134,
          6.7543406196813205,
          6.7936263603893625,
          6.922718427681701,
          7.034493754227249,
          7.140809969878001
         ],
         "yaxis": "y"
        }
       ],
       "layout": {
        "legend": {
         "title": {
          "text": "Continent"
         },
         "tracegroupgap": 0
        },
        "template": {
         "data": {
          "bar": [
           {
            "error_x": {
             "color": "#2a3f5f"
            },
            "error_y": {
             "color": "#2a3f5f"
            },
            "marker": {
             "line": {
              "color": "#E5ECF6",
              "width": 0.5
             },
             "pattern": {
              "fillmode": "overlay",
              "size": 10,
              "solidity": 0.2
             }
            },
            "type": "bar"
           }
          ],
          "barpolar": [
           {
            "marker": {
             "line": {
              "color": "#E5ECF6",
              "width": 0.5
             },
             "pattern": {
              "fillmode": "overlay",
              "size": 10,
              "solidity": 0.2
             }
            },
            "type": "barpolar"
           }
          ],
          "carpet": [
           {
            "aaxis": {
             "endlinecolor": "#2a3f5f",
             "gridcolor": "white",
             "linecolor": "white",
             "minorgridcolor": "white",
             "startlinecolor": "#2a3f5f"
            },
            "baxis": {
             "endlinecolor": "#2a3f5f",
             "gridcolor": "white",
             "linecolor": "white",
             "minorgridcolor": "white",
             "startlinecolor": "#2a3f5f"
            },
            "type": "carpet"
           }
          ],
          "choropleth": [
           {
            "colorbar": {
             "outlinewidth": 0,
             "ticks": ""
            },
            "type": "choropleth"
           }
          ],
          "contour": [
           {
            "colorbar": {
             "outlinewidth": 0,
             "ticks": ""
            },
            "colorscale": [
             [
              0,
              "#0d0887"
             ],
             [
              0.1111111111111111,
              "#46039f"
             ],
             [
              0.2222222222222222,
              "#7201a8"
             ],
             [
              0.3333333333333333,
              "#9c179e"
             ],
             [
              0.4444444444444444,
              "#bd3786"
             ],
             [
              0.5555555555555556,
              "#d8576b"
             ],
             [
              0.6666666666666666,
              "#ed7953"
             ],
             [
              0.7777777777777778,
              "#fb9f3a"
             ],
             [
              0.8888888888888888,
              "#fdca26"
             ],
             [
              1,
              "#f0f921"
             ]
            ],
            "type": "contour"
           }
          ],
          "contourcarpet": [
           {
            "colorbar": {
             "outlinewidth": 0,
             "ticks": ""
            },
            "type": "contourcarpet"
           }
          ],
          "heatmap": [
           {
            "colorbar": {
             "outlinewidth": 0,
             "ticks": ""
            },
            "colorscale": [
             [
              0,
              "#0d0887"
             ],
             [
              0.1111111111111111,
              "#46039f"
             ],
             [
              0.2222222222222222,
              "#7201a8"
             ],
             [
              0.3333333333333333,
              "#9c179e"
             ],
             [
              0.4444444444444444,
              "#bd3786"
             ],
             [
              0.5555555555555556,
              "#d8576b"
             ],
             [
              0.6666666666666666,
              "#ed7953"
             ],
             [
              0.7777777777777778,
              "#fb9f3a"
             ],
             [
              0.8888888888888888,
              "#fdca26"
             ],
             [
              1,
              "#f0f921"
             ]
            ],
            "type": "heatmap"
           }
          ],
          "heatmapgl": [
           {
            "colorbar": {
             "outlinewidth": 0,
             "ticks": ""
            },
            "colorscale": [
             [
              0,
              "#0d0887"
             ],
             [
              0.1111111111111111,
              "#46039f"
             ],
             [
              0.2222222222222222,
              "#7201a8"
             ],
             [
              0.3333333333333333,
              "#9c179e"
             ],
             [
              0.4444444444444444,
              "#bd3786"
             ],
             [
              0.5555555555555556,
              "#d8576b"
             ],
             [
              0.6666666666666666,
              "#ed7953"
             ],
             [
              0.7777777777777778,
              "#fb9f3a"
             ],
             [
              0.8888888888888888,
              "#fdca26"
             ],
             [
              1,
              "#f0f921"
             ]
            ],
            "type": "heatmapgl"
           }
          ],
          "histogram": [
           {
            "marker": {
             "pattern": {
              "fillmode": "overlay",
              "size": 10,
              "solidity": 0.2
             }
            },
            "type": "histogram"
           }
          ],
          "histogram2d": [
           {
            "colorbar": {
             "outlinewidth": 0,
             "ticks": ""
            },
            "colorscale": [
             [
              0,
              "#0d0887"
             ],
             [
              0.1111111111111111,
              "#46039f"
             ],
             [
              0.2222222222222222,
              "#7201a8"
             ],
             [
              0.3333333333333333,
              "#9c179e"
             ],
             [
              0.4444444444444444,
              "#bd3786"
             ],
             [
              0.5555555555555556,
              "#d8576b"
             ],
             [
              0.6666666666666666,
              "#ed7953"
             ],
             [
              0.7777777777777778,
              "#fb9f3a"
             ],
             [
              0.8888888888888888,
              "#fdca26"
             ],
             [
              1,
              "#f0f921"
             ]
            ],
            "type": "histogram2d"
           }
          ],
          "histogram2dcontour": [
           {
            "colorbar": {
             "outlinewidth": 0,
             "ticks": ""
            },
            "colorscale": [
             [
              0,
              "#0d0887"
             ],
             [
              0.1111111111111111,
              "#46039f"
             ],
             [
              0.2222222222222222,
              "#7201a8"
             ],
             [
              0.3333333333333333,
              "#9c179e"
             ],
             [
              0.4444444444444444,
              "#bd3786"
             ],
             [
              0.5555555555555556,
              "#d8576b"
             ],
             [
              0.6666666666666666,
              "#ed7953"
             ],
             [
              0.7777777777777778,
              "#fb9f3a"
             ],
             [
              0.8888888888888888,
              "#fdca26"
             ],
             [
              1,
              "#f0f921"
             ]
            ],
            "type": "histogram2dcontour"
           }
          ],
          "mesh3d": [
           {
            "colorbar": {
             "outlinewidth": 0,
             "ticks": ""
            },
            "type": "mesh3d"
           }
          ],
          "parcoords": [
           {
            "line": {
             "colorbar": {
              "outlinewidth": 0,
              "ticks": ""
             }
            },
            "type": "parcoords"
           }
          ],
          "pie": [
           {
            "automargin": true,
            "type": "pie"
           }
          ],
          "scatter": [
           {
            "marker": {
             "colorbar": {
              "outlinewidth": 0,
              "ticks": ""
             }
            },
            "type": "scatter"
           }
          ],
          "scatter3d": [
           {
            "line": {
             "colorbar": {
              "outlinewidth": 0,
              "ticks": ""
             }
            },
            "marker": {
             "colorbar": {
              "outlinewidth": 0,
              "ticks": ""
             }
            },
            "type": "scatter3d"
           }
          ],
          "scattercarpet": [
           {
            "marker": {
             "colorbar": {
              "outlinewidth": 0,
              "ticks": ""
             }
            },
            "type": "scattercarpet"
           }
          ],
          "scattergeo": [
           {
            "marker": {
             "colorbar": {
              "outlinewidth": 0,
              "ticks": ""
             }
            },
            "type": "scattergeo"
           }
          ],
          "scattergl": [
           {
            "marker": {
             "colorbar": {
              "outlinewidth": 0,
              "ticks": ""
             }
            },
            "type": "scattergl"
           }
          ],
          "scattermapbox": [
           {
            "marker": {
             "colorbar": {
              "outlinewidth": 0,
              "ticks": ""
             }
            },
            "type": "scattermapbox"
           }
          ],
          "scatterpolar": [
           {
            "marker": {
             "colorbar": {
              "outlinewidth": 0,
              "ticks": ""
             }
            },
            "type": "scatterpolar"
           }
          ],
          "scatterpolargl": [
           {
            "marker": {
             "colorbar": {
              "outlinewidth": 0,
              "ticks": ""
             }
            },
            "type": "scatterpolargl"
           }
          ],
          "scatterternary": [
           {
            "marker": {
             "colorbar": {
              "outlinewidth": 0,
              "ticks": ""
             }
            },
            "type": "scatterternary"
           }
          ],
          "surface": [
           {
            "colorbar": {
             "outlinewidth": 0,
             "ticks": ""
            },
            "colorscale": [
             [
              0,
              "#0d0887"
             ],
             [
              0.1111111111111111,
              "#46039f"
             ],
             [
              0.2222222222222222,
              "#7201a8"
             ],
             [
              0.3333333333333333,
              "#9c179e"
             ],
             [
              0.4444444444444444,
              "#bd3786"
             ],
             [
              0.5555555555555556,
              "#d8576b"
             ],
             [
              0.6666666666666666,
              "#ed7953"
             ],
             [
              0.7777777777777778,
              "#fb9f3a"
             ],
             [
              0.8888888888888888,
              "#fdca26"
             ],
             [
              1,
              "#f0f921"
             ]
            ],
            "type": "surface"
           }
          ],
          "table": [
           {
            "cells": {
             "fill": {
              "color": "#EBF0F8"
             },
             "line": {
              "color": "white"
             }
            },
            "header": {
             "fill": {
              "color": "#C8D4E3"
             },
             "line": {
              "color": "white"
             }
            },
            "type": "table"
           }
          ]
         },
         "layout": {
          "annotationdefaults": {
           "arrowcolor": "#2a3f5f",
           "arrowhead": 0,
           "arrowwidth": 1
          },
          "autotypenumbers": "strict",
          "coloraxis": {
           "colorbar": {
            "outlinewidth": 0,
            "ticks": ""
           }
          },
          "colorscale": {
           "diverging": [
            [
             0,
             "#8e0152"
            ],
            [
             0.1,
             "#c51b7d"
            ],
            [
             0.2,
             "#de77ae"
            ],
            [
             0.3,
             "#f1b6da"
            ],
            [
             0.4,
             "#fde0ef"
            ],
            [
             0.5,
             "#f7f7f7"
            ],
            [
             0.6,
             "#e6f5d0"
            ],
            [
             0.7,
             "#b8e186"
            ],
            [
             0.8,
             "#7fbc41"
            ],
            [
             0.9,
             "#4d9221"
            ],
            [
             1,
             "#276419"
            ]
           ],
           "sequential": [
            [
             0,
             "#0d0887"
            ],
            [
             0.1111111111111111,
             "#46039f"
            ],
            [
             0.2222222222222222,
             "#7201a8"
            ],
            [
             0.3333333333333333,
             "#9c179e"
            ],
            [
             0.4444444444444444,
             "#bd3786"
            ],
            [
             0.5555555555555556,
             "#d8576b"
            ],
            [
             0.6666666666666666,
             "#ed7953"
            ],
            [
             0.7777777777777778,
             "#fb9f3a"
            ],
            [
             0.8888888888888888,
             "#fdca26"
            ],
            [
             1,
             "#f0f921"
            ]
           ],
           "sequentialminus": [
            [
             0,
             "#0d0887"
            ],
            [
             0.1111111111111111,
             "#46039f"
            ],
            [
             0.2222222222222222,
             "#7201a8"
            ],
            [
             0.3333333333333333,
             "#9c179e"
            ],
            [
             0.4444444444444444,
             "#bd3786"
            ],
            [
             0.5555555555555556,
             "#d8576b"
            ],
            [
             0.6666666666666666,
             "#ed7953"
            ],
            [
             0.7777777777777778,
             "#fb9f3a"
            ],
            [
             0.8888888888888888,
             "#fdca26"
            ],
            [
             1,
             "#f0f921"
            ]
           ]
          },
          "colorway": [
           "#636efa",
           "#EF553B",
           "#00cc96",
           "#ab63fa",
           "#FFA15A",
           "#19d3f3",
           "#FF6692",
           "#B6E880",
           "#FF97FF",
           "#FECB52"
          ],
          "font": {
           "color": "#2a3f5f"
          },
          "geo": {
           "bgcolor": "white",
           "lakecolor": "white",
           "landcolor": "#E5ECF6",
           "showlakes": true,
           "showland": true,
           "subunitcolor": "white"
          },
          "hoverlabel": {
           "align": "left"
          },
          "hovermode": "closest",
          "mapbox": {
           "style": "light"
          },
          "paper_bgcolor": "white",
          "plot_bgcolor": "#E5ECF6",
          "polar": {
           "angularaxis": {
            "gridcolor": "white",
            "linecolor": "white",
            "ticks": ""
           },
           "bgcolor": "#E5ECF6",
           "radialaxis": {
            "gridcolor": "white",
            "linecolor": "white",
            "ticks": ""
           }
          },
          "scene": {
           "xaxis": {
            "backgroundcolor": "#E5ECF6",
            "gridcolor": "white",
            "gridwidth": 2,
            "linecolor": "white",
            "showbackground": true,
            "ticks": "",
            "zerolinecolor": "white"
           },
           "yaxis": {
            "backgroundcolor": "#E5ECF6",
            "gridcolor": "white",
            "gridwidth": 2,
            "linecolor": "white",
            "showbackground": true,
            "ticks": "",
            "zerolinecolor": "white"
           },
           "zaxis": {
            "backgroundcolor": "#E5ECF6",
            "gridcolor": "white",
            "gridwidth": 2,
            "linecolor": "white",
            "showbackground": true,
            "ticks": "",
            "zerolinecolor": "white"
           }
          },
          "shapedefaults": {
           "line": {
            "color": "#2a3f5f"
           }
          },
          "ternary": {
           "aaxis": {
            "gridcolor": "white",
            "linecolor": "white",
            "ticks": ""
           },
           "baxis": {
            "gridcolor": "white",
            "linecolor": "white",
            "ticks": ""
           },
           "bgcolor": "#E5ECF6",
           "caxis": {
            "gridcolor": "white",
            "linecolor": "white",
            "ticks": ""
           }
          },
          "title": {
           "x": 0.05
          },
          "xaxis": {
           "automargin": true,
           "gridcolor": "white",
           "linecolor": "white",
           "ticks": "",
           "title": {
            "standoff": 15
           },
           "zerolinecolor": "white",
           "zerolinewidth": 2
          },
          "yaxis": {
           "automargin": true,
           "gridcolor": "white",
           "linecolor": "white",
           "ticks": "",
           "title": {
            "standoff": 15
           },
           "zerolinecolor": "white",
           "zerolinewidth": 2
          }
         }
        },
        "title": {
         "text": "Life satisfaction vs. GDP per capita, 2018"
        },
        "xaxis": {
         "anchor": "y",
         "domain": [
          0,
          1
         ],
         "range": [
          2.8642286534776646,
          5.091982174281538
         ],
         "title": {
          "text": "GDP per capita ($)"
         },
         "type": "log"
        },
        "yaxis": {
         "anchor": "x",
         "domain": [
          0,
          1
         ],
         "range": [
          2.194,
          8.358
         ],
         "title": {
          "text": "Life satisfaction (scale: 0-10)"
         }
        }
       }
      },
      "text/html": [
       "<div>                            <div id=\"f39c6f95-faad-4819-a052-c58a87064495\" class=\"plotly-graph-div\" style=\"height:525px; width:100%;\"></div>            <script type=\"text/javascript\">                require([\"plotly\"], function(Plotly) {                    window.PLOTLYENV=window.PLOTLYENV || {};                                    if (document.getElementById(\"f39c6f95-faad-4819-a052-c58a87064495\")) {                    Plotly.newPlot(                        \"f39c6f95-faad-4819-a052-c58a87064495\",                        [{\"customdata\":[[\"Afghanistan\"],[\"Armenia\"],[\"Azerbaijan\"],[\"Bangladesh\"],[\"Cambodia\"],[\"China\"],[\"Georgia\"],[\"India\"],[\"Indonesia\"],[\"Iran\"],[\"Iraq\"],[\"Israel\"],[\"Japan\"],[\"Jordan\"],[\"Kazakhstan\"],[\"Kyrgyzstan\"],[\"Laos\"],[\"Lebanon\"],[\"Malaysia\"],[\"Maldives\"],[\"Mongolia\"],[\"Myanmar\"],[\"Nepal\"],[\"Pakistan\"],[\"Palestine\"],[\"Philippines\"],[\"Saudi Arabia\"],[\"Singapore\"],[\"South Korea\"],[\"Sri Lanka\"],[\"Tajikistan\"],[\"Thailand\"],[\"Turkey\"],[\"Turkmenistan\"],[\"United Arab Emirates\"],[\"Uzbekistan\"],[\"Vietnam\"]],\"hovertemplate\":\"Continent=Asia<br>GDP per capita ($)=%{x}<br>Life satisfaction (scale: 0-10)=%{y}<br>Entity=%{customdata[0]}<extra></extra>\",\"legendgroup\":\"Asia\",\"marker\":{\"color\":\"#636efa\",\"symbol\":\"circle\"},\"mode\":\"markers\",\"name\":\"Asia\",\"orientation\":\"v\",\"showlegend\":true,\"x\":[2033.80438893717,12715.1089539751,14209.6494059309,4440.85547046826,4159.33819437034,15242.9858575834,14253.4089858441,6518.84505546914,11371.7255560847,13471.8606376875,10346.2129581855,39418.3453068224,41182.3802046593,10013.3976633388,25544.3447563035,5133.1519146081,7592.82947474583,15588.1528714896,27558.1369502408,18795.5303498427,11915.5567471637,5029.1880858737,3773.71591761441,4739.47271266276,6318.21006766832,8516.13654897274,47592.7671473292,98222.846041782,41948.3460057222,12860.3208303539,3415.32233593608,18095.7365704368,28312.6834243604,14845.3446497287,66968.2211775042,6755.48097366685,7585.94315504036],\"xaxis\":\"x\",\"y\":[2.694,5.062,5.168,4.499,5.122,5.131,4.659,3.818,5.34,4.278,4.886,6.927,5.794,4.639,6.008,5.297,4.859,5.167,5.339,5.198,5.465,4.411,4.91,5.472,4.554,5.869,6.356,6.375,5.84,4.435,5.497,6.012,5.186,4.621,6.604,6.205,5.296],\"yaxis\":\"y\",\"type\":\"scatter\"},{\"customdata\":[[\"Albania\"],[\"Austria\"],[\"Belarus\"],[\"Belgium\"],[\"Bosnia and Herzegovina\"],[\"Bulgaria\"],[\"Croatia\"],[\"Cyprus\"],[\"Czechia\"],[\"Denmark\"],[\"Estonia\"],[\"Finland\"],[\"France\"],[\"Germany\"],[\"Greece\"],[\"Hungary\"],[\"Ireland\"],[\"Italy\"],[\"Kosovo\"],[\"Latvia\"],[\"Lithuania\"],[\"Luxembourg\"],[\"Malta\"],[\"Moldova\"],[\"Montenegro\"],[\"Netherlands\"],[\"North Macedonia\"],[\"Norway\"],[\"Poland\"],[\"Portugal\"],[\"Romania\"],[\"Russia\"],[\"Serbia\"],[\"Slovakia\"],[\"Slovenia\"],[\"Spain\"],[\"Sweden\"],[\"Switzerland\"],[\"Ukraine\"],[\"United Kingdom\"]],\"hovertemplate\":\"Continent=Europe<br>GDP per capita ($)=%{x}<br>Life satisfaction (scale: 0-10)=%{y}<br>Entity=%{customdata[0]}<extra></extra>\",\"legendgroup\":\"Europe\",\"marker\":{\"color\":\"#EF553B\",\"symbol\":\"circle\"},\"mode\":\"markers\",\"name\":\"Europe\",\"orientation\":\"v\",\"showlegend\":true,\"x\":[13323.7533559132,55297.6182880367,18885.2354999668,51110.9584679336,14386.7318547663,22208.4522754771,27799.8433225132,39559.4879646749,39932.992193117,56281.2888680368,35208.0239637019,48130.2923921114,45251.9054105957,53463.4014817389,29150.6944922443,31095.557503677,84303.3408922937,42052.5563822519,10895.044002822,30036.0865499334,35427.4618636641,113589.670473448,43313.4770253615,12363.1468378401,20686.5759142606,56060.9136269404,16093.3104230501,64341.2589026158,31674.1316243417,34040.7255617749,28523.4731832065,26656.4095416865,17452.7958990327,31132.5729674338,37968.3520620285,40312.5475864011,52349.2924275599,70663.4875973954,12338.0024454764,46037.9005384222],\"xaxis\":\"x\",\"y\":[5.004,7.396,5.234,6.892,5.887,5.099,5.536,6.276,7.034,7.649,6.091,7.858,6.666,7.118,5.409,5.936,6.962,6.517,6.392,5.901,6.309,7.243,6.91,5.682,5.65,7.463,5.24,7.444,6.111,5.92,6.151,5.514,5.936,6.235,6.249,6.513,7.375,7.509,4.662,7.233],\"yaxis\":\"y\",\"type\":\"scatter\"},{\"customdata\":[[\"Algeria\"],[\"Benin\"],[\"Botswana\"],[\"Burkina Faso\"],[\"Burundi\"],[\"Cameroon\"],[\"Chad\"],[\"Comoros\"],[\"Congo\"],[\"Cote d'Ivoire\"],[\"Egypt\"],[\"Eswatini\"],[\"Ethiopia\"],[\"Gabon\"],[\"Gambia\"],[\"Ghana\"],[\"Guinea\"],[\"Kenya\"],[\"Liberia\"],[\"Libya\"],[\"Madagascar\"],[\"Malawi\"],[\"Mali\"],[\"Mauritania\"],[\"Mauritius\"],[\"Morocco\"],[\"Mozambique\"],[\"Namibia\"],[\"Niger\"],[\"Nigeria\"],[\"Rwanda\"],[\"Senegal\"],[\"Sierra Leone\"],[\"South Africa\"],[\"Tanzania\"],[\"Togo\"],[\"Tunisia\"],[\"Uganda\"],[\"Zambia\"],[\"Zimbabwe\"]],\"hovertemplate\":\"Continent=Africa<br>GDP per capita ($)=%{x}<br>Life satisfaction (scale: 0-10)=%{y}<br>Entity=%{customdata[0]}<extra></extra>\",\"legendgroup\":\"Africa\",\"marker\":{\"color\":\"#00cc96\",\"symbol\":\"circle\"},\"mode\":\"markers\",\"name\":\"Africa\",\"orientation\":\"v\",\"showlegend\":true,\"x\":[11642.1983450506,3160.7806702321,17634.6561910867,2120.33026783506,761.524125241416,3603.54827506808,1576.32111465904,3066.83784677933,3933.425550952,5033.47882607719,11366.3355206681,8520.59238619335,2103.51585836696,14744.4343267491,2158.07755816639,5177.88398862782,2499.70726640711,4203.83827267811,1497.00478720289,15017.9935741811,1592.05355843859,1471.03724879602,2283.70241285673,5042.43119844404,22208.1381171868,7446.93622037578,1289.73594800556,10092.258820242,1200.97246385835,5155.07599367409,2088.74922433298,3309.48617330672,1663.29348036377,12627.9285840445,2590.20113826159,2061.33417572853,10763.7297838206,2121.96781993514,3521.5420629895,3341.66541766316],\"xaxis\":\"x\",\"y\":[5.043,5.82,3.461,4.927,3.775,5.251,4.486,3.973,5.49,5.268,4.005,4.212,4.379,4.783,4.922,5.004,5.252,4.656,4.135,5.494,4.071,3.335,4.416,4.314,5.882,4.897,4.654,4.834,5.164,5.252,3.561,4.769,4.306,4.884,3.445,4.023,4.741,4.322,4.041,3.616],\"yaxis\":\"y\",\"type\":\"scatter\"},{\"customdata\":[[\"Argentina\"],[\"Bolivia\"],[\"Brazil\"],[\"Chile\"],[\"Colombia\"],[\"Ecuador\"],[\"Peru\"],[\"Uruguay\"]],\"hovertemplate\":\"Continent=South America<br>GDP per capita ($)=%{x}<br>Life satisfaction (scale: 0-10)=%{y}<br>Entity=%{customdata[0]}<extra></extra>\",\"legendgroup\":\"South America\",\"marker\":{\"color\":\"#ab63fa\",\"symbol\":\"circle\"},\"mode\":\"markers\",\"name\":\"South America\",\"orientation\":\"v\",\"showlegend\":true,\"x\":[22759.3985583341,8655.53149780443,14668.2561636292,25028.9099914542,14314.8555765268,11561.747853143,12781.4164435302,23035.0833880454],\"xaxis\":\"x\",\"y\":[5.793,5.916,6.191,6.436,5.984,6.128,5.68,6.372],\"yaxis\":\"y\",\"type\":\"scatter\"},{\"customdata\":[[\"Australia\"],[\"New Zealand\"]],\"hovertemplate\":\"Continent=Oceania<br>GDP per capita ($)=%{x}<br>Life satisfaction (scale: 0-10)=%{y}<br>Entity=%{customdata[0]}<extra></extra>\",\"legendgroup\":\"Oceania\",\"marker\":{\"color\":\"#FFA15A\",\"symbol\":\"circle\"},\"mode\":\"markers\",\"name\":\"Oceania\",\"orientation\":\"v\",\"showlegend\":true,\"x\":[49151.6887104846,42866.1272276586],\"xaxis\":\"x\",\"y\":[7.177,7.37],\"yaxis\":\"y\",\"type\":\"scatter\"},{\"customdata\":[[\"Canada\"],[\"Costa Rica\"],[\"Dominican Republic\"],[\"El Salvador\"],[\"Guatemala\"],[\"Haiti\"],[\"Honduras\"],[\"Mexico\"],[\"Nicaragua\"],[\"Panama\"],[\"United States\"]],\"hovertemplate\":\"Continent=North America<br>GDP per capita ($)=%{x}<br>Life satisfaction (scale: 0-10)=%{y}<br>Entity=%{customdata[0]}<extra></extra>\",\"legendgroup\":\"North America\",\"marker\":{\"color\":\"#19d3f3\",\"symbol\":\"circle\"},\"mode\":\"markers\",\"name\":\"North America\",\"orientation\":\"v\",\"showlegend\":true,\"x\":[48796.8137814007,20559.8604252658,17711.7955337583,8614.01795915499,8462.17210684372,2992.31041114318,5680.36288396582,19928.3956618582,5729.68822390273,31012.9461549459,61585.7560382102],\"xaxis\":\"x\",\"y\":[7.175,7.141,5.433,6.241,6.627,3.615,5.908,6.55,5.819,6.281,6.883],\"yaxis\":\"y\",\"type\":\"scatter\"},{\"hovertemplate\":\"<b>OLS trendline</b><br>Life satisfaction in Cantril Ladder (World Happiness Report 2021) = 1.68418 * log10(GDP per capita, PPP (constant 2017 international $)) + -1.3733<br>R<sup>2</sup>=0.600326<br><br>GDP per capita ($)=%{x}<br>Life satisfaction (scale: 0-10)=%{y} <b>(trend)</b><extra></extra>\",\"legendgroup\":\"Overall Trendline\",\"line\":{\"color\":\"black\"},\"mode\":\"lines\",\"name\":\"Overall Trendline\",\"showlegend\":true,\"x\":[761.524125241416,1200.97246385835,1289.73594800556,1471.03724879602,1497.00478720289,1576.32111465904,1592.05355843859,1663.29348036377,2033.80438893717,2061.33417572853,2088.74922433298,2103.51585836696,2120.33026783506,2121.96781993514,2158.07755816639,2283.70241285673,2499.70726640711,2590.20113826159,2992.31041114318,3066.83784677933,3160.7806702321,3309.48617330672,3341.66541766316,3415.32233593608,3521.5420629895,3603.54827506808,3773.71591761441,3933.425550952,4159.33819437034,4203.83827267811,4440.85547046826,4739.47271266276,5029.1880858737,5033.47882607719,5042.43119844404,5133.1519146081,5155.07599367409,5177.88398862782,5680.36288396582,5729.68822390273,6318.21006766832,6518.84505546914,6755.48097366685,7446.93622037578,7585.94315504036,7592.82947474583,8462.17210684372,8516.13654897274,8520.59238619335,8614.01795915499,8655.53149780443,10013.3976633388,10092.258820242,10346.2129581855,10763.7297838206,10895.044002822,11366.3355206681,11371.7255560847,11561.747853143,11642.1983450506,11915.5567471637,12338.0024454764,12363.1468378401,12627.9285840445,12715.1089539751,12781.4164435302,12860.3208303539,13323.7533559132,13471.8606376875,14209.6494059309,14253.4089858441,14314.8555765268,14386.7318547663,14668.2561636292,14744.4343267491,14845.3446497287,15017.9935741811,15242.9858575834,15588.1528714896,16093.3104230501,17452.7958990327,17634.6561910867,17711.7955337583,18095.7365704368,18795.5303498427,18885.2354999668,19928.3956618582,20559.8604252658,20686.5759142606,22208.1381171868,22208.4522754771,22759.3985583341,23035.0833880454,25028.9099914542,25544.3447563035,26656.4095416865,27558.1369502408,27799.8433225132,28312.6834243604,28523.4731832065,29150.6944922443,30036.0865499334,31012.9461549459,31095.557503677,31132.5729674338,31674.1316243417,34040.7255617749,35208.0239637019,35427.4618636641,37968.3520620285,39418.3453068224,39559.4879646749,39932.992193117,40312.5475864011,41182.3802046593,41948.3460057222,42052.5563822519,42866.1272276586,43313.4770253615,45251.9054105957,46037.9005384222,47592.7671473292,48130.2923921114,48796.8137814007,49151.6887104846,51110.9584679336,52349.2924275599,53463.4014817389,55297.6182880367,56060.9136269404,56281.2888680368,61585.7560382102,64341.2589026158,66968.2211775042,70663.4875973954,84303.3408922937,98222.846041782,113589.670473448],\"y\":[3.479979260977784,3.813193612436361,3.865348944855391,3.961554240423381,3.974353213348358,4.012115104262648,4.0193789485951505,4.051397286847415,4.198494231186531,4.2083285456857595,4.217992209586079,4.223144945392875,4.228968379000818,4.229533052323362,4.241875166929285,4.283259663128387,4.3493631997852376,4.375374273070705,4.480927264470887,4.498921351042501,4.520990107204726,4.5546168371857565,4.5616944318646855,4.577641502558789,4.600043112241991,4.616880660697065,4.650629744800918,4.680947934160184,4.721794902410803,4.729578796479188,4.769697086172432,4.817297772916426,4.860695521054703,4.861319288137285,4.862619030503415,4.875661564428409,4.878778908535713,4.8820078960805375,4.949752033677678,4.956075984825738,5.027591519548881,5.050456979083769,5.076537574365952,5.147814441635399,5.161341705953252,5.162005378509695,5.2412936439065945,5.2459432700386,5.246325871317156,5.2543021284283355,5.257818646773302,5.364406683892176,5.370144550091073,5.388321982110714,5.417258539982949,5.426127782184469,5.457102385285191,5.457449155272048,5.469570420949378,5.47464233514814,5.491617786161523,5.517100321828611,5.518589434085534,5.5340891112261925,5.53912139423773,5.5429257915700685,5.547427303211988,5.573321231835422,5.581406983986405,5.620405531657186,5.6226545615419905,5.625800990321265,5.629464386393028,5.643639028282729,5.647427813779434,5.652416645586335,5.660873983174923,5.67175065310761,5.688128664508637,5.711455817080777,5.770772066166883,5.778354231396813,5.781546754902889,5.797232678351996,5.824985165465627,5.828467750909072,5.86779328435248,5.890610285833157,5.89510443974951,5.947016885482897,5.947027232296165,5.964951117826619,5.973757717775117,6.034476092620615,6.049385869504267,6.0805548306319555,6.104888230782109,6.111275480961043,6.124645670031873,6.130071049252193,6.1459806724845,6.167865675125784,6.191275261343634,6.1932210344939005,6.194091195857819,6.206705217239074,6.259410159277017,6.284071370248165,6.288615946583715,6.339279016004308,6.366691841469866,6.369306150015854,6.376179618970099,6.383098897396771,6.398713283232745,6.4121924609577405,6.414007268351911,6.428022772225493,6.435616411354189,6.467639146592749,6.480234536191382,6.504529611370421,6.512744282153395,6.522803842341013,6.528103925968688,6.556693893463933,6.5742039803046985,6.5896071211169485,6.614280116628841,6.624307306042409,6.627176921659206,6.693055790027373,6.725070870015134,6.7543406196813205,6.7936263603893625,6.922718427681701,7.034493754227249,7.140809969878001],\"type\":\"scatter\",\"xaxis\":\"x\",\"yaxis\":\"y\"}],                        {\"template\":{\"data\":{\"bar\":[{\"error_x\":{\"color\":\"#2a3f5f\"},\"error_y\":{\"color\":\"#2a3f5f\"},\"marker\":{\"line\":{\"color\":\"#E5ECF6\",\"width\":0.5},\"pattern\":{\"fillmode\":\"overlay\",\"size\":10,\"solidity\":0.2}},\"type\":\"bar\"}],\"barpolar\":[{\"marker\":{\"line\":{\"color\":\"#E5ECF6\",\"width\":0.5},\"pattern\":{\"fillmode\":\"overlay\",\"size\":10,\"solidity\":0.2}},\"type\":\"barpolar\"}],\"carpet\":[{\"aaxis\":{\"endlinecolor\":\"#2a3f5f\",\"gridcolor\":\"white\",\"linecolor\":\"white\",\"minorgridcolor\":\"white\",\"startlinecolor\":\"#2a3f5f\"},\"baxis\":{\"endlinecolor\":\"#2a3f5f\",\"gridcolor\":\"white\",\"linecolor\":\"white\",\"minorgridcolor\":\"white\",\"startlinecolor\":\"#2a3f5f\"},\"type\":\"carpet\"}],\"choropleth\":[{\"colorbar\":{\"outlinewidth\":0,\"ticks\":\"\"},\"type\":\"choropleth\"}],\"contour\":[{\"colorbar\":{\"outlinewidth\":0,\"ticks\":\"\"},\"colorscale\":[[0.0,\"#0d0887\"],[0.1111111111111111,\"#46039f\"],[0.2222222222222222,\"#7201a8\"],[0.3333333333333333,\"#9c179e\"],[0.4444444444444444,\"#bd3786\"],[0.5555555555555556,\"#d8576b\"],[0.6666666666666666,\"#ed7953\"],[0.7777777777777778,\"#fb9f3a\"],[0.8888888888888888,\"#fdca26\"],[1.0,\"#f0f921\"]],\"type\":\"contour\"}],\"contourcarpet\":[{\"colorbar\":{\"outlinewidth\":0,\"ticks\":\"\"},\"type\":\"contourcarpet\"}],\"heatmap\":[{\"colorbar\":{\"outlinewidth\":0,\"ticks\":\"\"},\"colorscale\":[[0.0,\"#0d0887\"],[0.1111111111111111,\"#46039f\"],[0.2222222222222222,\"#7201a8\"],[0.3333333333333333,\"#9c179e\"],[0.4444444444444444,\"#bd3786\"],[0.5555555555555556,\"#d8576b\"],[0.6666666666666666,\"#ed7953\"],[0.7777777777777778,\"#fb9f3a\"],[0.8888888888888888,\"#fdca26\"],[1.0,\"#f0f921\"]],\"type\":\"heatmap\"}],\"heatmapgl\":[{\"colorbar\":{\"outlinewidth\":0,\"ticks\":\"\"},\"colorscale\":[[0.0,\"#0d0887\"],[0.1111111111111111,\"#46039f\"],[0.2222222222222222,\"#7201a8\"],[0.3333333333333333,\"#9c179e\"],[0.4444444444444444,\"#bd3786\"],[0.5555555555555556,\"#d8576b\"],[0.6666666666666666,\"#ed7953\"],[0.7777777777777778,\"#fb9f3a\"],[0.8888888888888888,\"#fdca26\"],[1.0,\"#f0f921\"]],\"type\":\"heatmapgl\"}],\"histogram\":[{\"marker\":{\"pattern\":{\"fillmode\":\"overlay\",\"size\":10,\"solidity\":0.2}},\"type\":\"histogram\"}],\"histogram2d\":[{\"colorbar\":{\"outlinewidth\":0,\"ticks\":\"\"},\"colorscale\":[[0.0,\"#0d0887\"],[0.1111111111111111,\"#46039f\"],[0.2222222222222222,\"#7201a8\"],[0.3333333333333333,\"#9c179e\"],[0.4444444444444444,\"#bd3786\"],[0.5555555555555556,\"#d8576b\"],[0.6666666666666666,\"#ed7953\"],[0.7777777777777778,\"#fb9f3a\"],[0.8888888888888888,\"#fdca26\"],[1.0,\"#f0f921\"]],\"type\":\"histogram2d\"}],\"histogram2dcontour\":[{\"colorbar\":{\"outlinewidth\":0,\"ticks\":\"\"},\"colorscale\":[[0.0,\"#0d0887\"],[0.1111111111111111,\"#46039f\"],[0.2222222222222222,\"#7201a8\"],[0.3333333333333333,\"#9c179e\"],[0.4444444444444444,\"#bd3786\"],[0.5555555555555556,\"#d8576b\"],[0.6666666666666666,\"#ed7953\"],[0.7777777777777778,\"#fb9f3a\"],[0.8888888888888888,\"#fdca26\"],[1.0,\"#f0f921\"]],\"type\":\"histogram2dcontour\"}],\"mesh3d\":[{\"colorbar\":{\"outlinewidth\":0,\"ticks\":\"\"},\"type\":\"mesh3d\"}],\"parcoords\":[{\"line\":{\"colorbar\":{\"outlinewidth\":0,\"ticks\":\"\"}},\"type\":\"parcoords\"}],\"pie\":[{\"automargin\":true,\"type\":\"pie\"}],\"scatter\":[{\"marker\":{\"colorbar\":{\"outlinewidth\":0,\"ticks\":\"\"}},\"type\":\"scatter\"}],\"scatter3d\":[{\"line\":{\"colorbar\":{\"outlinewidth\":0,\"ticks\":\"\"}},\"marker\":{\"colorbar\":{\"outlinewidth\":0,\"ticks\":\"\"}},\"type\":\"scatter3d\"}],\"scattercarpet\":[{\"marker\":{\"colorbar\":{\"outlinewidth\":0,\"ticks\":\"\"}},\"type\":\"scattercarpet\"}],\"scattergeo\":[{\"marker\":{\"colorbar\":{\"outlinewidth\":0,\"ticks\":\"\"}},\"type\":\"scattergeo\"}],\"scattergl\":[{\"marker\":{\"colorbar\":{\"outlinewidth\":0,\"ticks\":\"\"}},\"type\":\"scattergl\"}],\"scattermapbox\":[{\"marker\":{\"colorbar\":{\"outlinewidth\":0,\"ticks\":\"\"}},\"type\":\"scattermapbox\"}],\"scatterpolar\":[{\"marker\":{\"colorbar\":{\"outlinewidth\":0,\"ticks\":\"\"}},\"type\":\"scatterpolar\"}],\"scatterpolargl\":[{\"marker\":{\"colorbar\":{\"outlinewidth\":0,\"ticks\":\"\"}},\"type\":\"scatterpolargl\"}],\"scatterternary\":[{\"marker\":{\"colorbar\":{\"outlinewidth\":0,\"ticks\":\"\"}},\"type\":\"scatterternary\"}],\"surface\":[{\"colorbar\":{\"outlinewidth\":0,\"ticks\":\"\"},\"colorscale\":[[0.0,\"#0d0887\"],[0.1111111111111111,\"#46039f\"],[0.2222222222222222,\"#7201a8\"],[0.3333333333333333,\"#9c179e\"],[0.4444444444444444,\"#bd3786\"],[0.5555555555555556,\"#d8576b\"],[0.6666666666666666,\"#ed7953\"],[0.7777777777777778,\"#fb9f3a\"],[0.8888888888888888,\"#fdca26\"],[1.0,\"#f0f921\"]],\"type\":\"surface\"}],\"table\":[{\"cells\":{\"fill\":{\"color\":\"#EBF0F8\"},\"line\":{\"color\":\"white\"}},\"header\":{\"fill\":{\"color\":\"#C8D4E3\"},\"line\":{\"color\":\"white\"}},\"type\":\"table\"}]},\"layout\":{\"annotationdefaults\":{\"arrowcolor\":\"#2a3f5f\",\"arrowhead\":0,\"arrowwidth\":1},\"autotypenumbers\":\"strict\",\"coloraxis\":{\"colorbar\":{\"outlinewidth\":0,\"ticks\":\"\"}},\"colorscale\":{\"diverging\":[[0,\"#8e0152\"],[0.1,\"#c51b7d\"],[0.2,\"#de77ae\"],[0.3,\"#f1b6da\"],[0.4,\"#fde0ef\"],[0.5,\"#f7f7f7\"],[0.6,\"#e6f5d0\"],[0.7,\"#b8e186\"],[0.8,\"#7fbc41\"],[0.9,\"#4d9221\"],[1,\"#276419\"]],\"sequential\":[[0.0,\"#0d0887\"],[0.1111111111111111,\"#46039f\"],[0.2222222222222222,\"#7201a8\"],[0.3333333333333333,\"#9c179e\"],[0.4444444444444444,\"#bd3786\"],[0.5555555555555556,\"#d8576b\"],[0.6666666666666666,\"#ed7953\"],[0.7777777777777778,\"#fb9f3a\"],[0.8888888888888888,\"#fdca26\"],[1.0,\"#f0f921\"]],\"sequentialminus\":[[0.0,\"#0d0887\"],[0.1111111111111111,\"#46039f\"],[0.2222222222222222,\"#7201a8\"],[0.3333333333333333,\"#9c179e\"],[0.4444444444444444,\"#bd3786\"],[0.5555555555555556,\"#d8576b\"],[0.6666666666666666,\"#ed7953\"],[0.7777777777777778,\"#fb9f3a\"],[0.8888888888888888,\"#fdca26\"],[1.0,\"#f0f921\"]]},\"colorway\":[\"#636efa\",\"#EF553B\",\"#00cc96\",\"#ab63fa\",\"#FFA15A\",\"#19d3f3\",\"#FF6692\",\"#B6E880\",\"#FF97FF\",\"#FECB52\"],\"font\":{\"color\":\"#2a3f5f\"},\"geo\":{\"bgcolor\":\"white\",\"lakecolor\":\"white\",\"landcolor\":\"#E5ECF6\",\"showlakes\":true,\"showland\":true,\"subunitcolor\":\"white\"},\"hoverlabel\":{\"align\":\"left\"},\"hovermode\":\"closest\",\"mapbox\":{\"style\":\"light\"},\"paper_bgcolor\":\"white\",\"plot_bgcolor\":\"#E5ECF6\",\"polar\":{\"angularaxis\":{\"gridcolor\":\"white\",\"linecolor\":\"white\",\"ticks\":\"\"},\"bgcolor\":\"#E5ECF6\",\"radialaxis\":{\"gridcolor\":\"white\",\"linecolor\":\"white\",\"ticks\":\"\"}},\"scene\":{\"xaxis\":{\"backgroundcolor\":\"#E5ECF6\",\"gridcolor\":\"white\",\"gridwidth\":2,\"linecolor\":\"white\",\"showbackground\":true,\"ticks\":\"\",\"zerolinecolor\":\"white\"},\"yaxis\":{\"backgroundcolor\":\"#E5ECF6\",\"gridcolor\":\"white\",\"gridwidth\":2,\"linecolor\":\"white\",\"showbackground\":true,\"ticks\":\"\",\"zerolinecolor\":\"white\"},\"zaxis\":{\"backgroundcolor\":\"#E5ECF6\",\"gridcolor\":\"white\",\"gridwidth\":2,\"linecolor\":\"white\",\"showbackground\":true,\"ticks\":\"\",\"zerolinecolor\":\"white\"}},\"shapedefaults\":{\"line\":{\"color\":\"#2a3f5f\"}},\"ternary\":{\"aaxis\":{\"gridcolor\":\"white\",\"linecolor\":\"white\",\"ticks\":\"\"},\"baxis\":{\"gridcolor\":\"white\",\"linecolor\":\"white\",\"ticks\":\"\"},\"bgcolor\":\"#E5ECF6\",\"caxis\":{\"gridcolor\":\"white\",\"linecolor\":\"white\",\"ticks\":\"\"}},\"title\":{\"x\":0.05},\"xaxis\":{\"automargin\":true,\"gridcolor\":\"white\",\"linecolor\":\"white\",\"ticks\":\"\",\"title\":{\"standoff\":15},\"zerolinecolor\":\"white\",\"zerolinewidth\":2},\"yaxis\":{\"automargin\":true,\"gridcolor\":\"white\",\"linecolor\":\"white\",\"ticks\":\"\",\"title\":{\"standoff\":15},\"zerolinecolor\":\"white\",\"zerolinewidth\":2}}},\"xaxis\":{\"anchor\":\"y\",\"domain\":[0.0,1.0],\"title\":{\"text\":\"GDP per capita ($)\"},\"type\":\"log\",\"range\":[2.8642286534776646,5.091982174281538]},\"yaxis\":{\"anchor\":\"x\",\"domain\":[0.0,1.0],\"title\":{\"text\":\"Life satisfaction (scale: 0-10)\"},\"range\":[2.194,8.358]},\"legend\":{\"title\":{\"text\":\"Continent\"},\"tracegroupgap\":0},\"title\":{\"text\":\"Life satisfaction vs. GDP per capita, 2018\"}},                        {\"responsive\": true}                    ).then(function(){\n",
       "                            \n",
       "var gd = document.getElementById('f39c6f95-faad-4819-a052-c58a87064495');\n",
       "var x = new MutationObserver(function (mutations, observer) {{\n",
       "        var display = window.getComputedStyle(gd).display;\n",
       "        if (!display || display === 'none') {{\n",
       "            console.log([gd, 'removed!']);\n",
       "            Plotly.purge(gd);\n",
       "            observer.disconnect();\n",
       "        }}\n",
       "}});\n",
       "\n",
       "// Listen for the removal of the full notebook cells\n",
       "var notebookContainer = gd.closest('#notebook-container');\n",
       "if (notebookContainer) {{\n",
       "    x.observe(notebookContainer, {childList: true});\n",
       "}}\n",
       "\n",
       "// Listen for the clearing of the current output cell\n",
       "var outputEl = gd.closest('.output');\n",
       "if (outputEl) {{\n",
       "    x.observe(outputEl, {childList: true});\n",
       "}}\n",
       "\n",
       "                        })                };                });            </script>        </div>"
      ]
     },
     "metadata": {},
     "output_type": "display_data"
    }
   ],
   "source": [
    "#Plot life satisfaction  vs. GDP per capita\n",
    "plotFigure(GDPperCapita('gdp-vs-happiness.csv',\n",
    "          'GDP per capita, PPP (constant 2017 international $)',\n",
    "          'Life satisfaction in Cantril Ladder (World Happiness Report 2021)',\n",
    "          'Happiness vs. GDP per capita'), 'GDP per capita ($)', \n",
    "           'Life satisfaction (scale: 0-10)', 'Life satisfaction vs. GDP per capita', 30, pow(10,4), 0.5, 0.5, 5)"
   ]
  },
  {
   "cell_type": "code",
   "execution_count": 12,
   "metadata": {},
   "outputs": [
    {
     "name": "stdout",
     "output_type": "stream",
     "text": [
      "---------------------------------------------------------------------------------------------------------------------\n",
      "List of years for which data is available: \n",
      "\n",
      "[2005, 2006, 2007, 2008, 2009, 2010, 2011, 2012, 2013, 2014, 2015, 2016, 2017, 2018, 2019, 2020]\n",
      "---------------------------------------------------------------------------------------------------------------------\n",
      "Year of interest for the data \"Happiness vs. GDP per capita\": \n",
      "2018\n",
      "---------------------------------------------------------------------------------------------------------------------\n",
      "GPD per capita median: 13840.755022 \n",
      "\n",
      "life satisfaction median: 5.468500 \n",
      "\n",
      "---------------------------------------------------------------------------------------------------------------------\n",
      "Figure 6 : Dataframe with countries having life satisfaction lower than the median and a GDP per capita higher than the median.\n"
     ]
    },
    {
     "data": {
      "text/html": [
       "<div>\n",
       "<style scoped>\n",
       "    .dataframe tbody tr th:only-of-type {\n",
       "        vertical-align: middle;\n",
       "    }\n",
       "\n",
       "    .dataframe tbody tr th {\n",
       "        vertical-align: top;\n",
       "    }\n",
       "\n",
       "    .dataframe thead th {\n",
       "        text-align: right;\n",
       "    }\n",
       "</style>\n",
       "<table border=\"1\" class=\"dataframe\">\n",
       "  <thead>\n",
       "    <tr style=\"text-align: right;\">\n",
       "      <th></th>\n",
       "      <th>Entity</th>\n",
       "      <th>Year</th>\n",
       "      <th>GDP per capita, PPP (constant 2017 international $)</th>\n",
       "      <th>Life satisfaction in Cantril Ladder (World Happiness Report 2021)</th>\n",
       "    </tr>\n",
       "  </thead>\n",
       "  <tbody>\n",
       "    <tr>\n",
       "      <th>18</th>\n",
       "      <td>Azerbaijan</td>\n",
       "      <td>2018</td>\n",
       "      <td>14209.649406</td>\n",
       "      <td>5.168</td>\n",
       "    </tr>\n",
       "    <tr>\n",
       "      <th>23</th>\n",
       "      <td>Belarus</td>\n",
       "      <td>2018</td>\n",
       "      <td>18885.235500</td>\n",
       "      <td>5.234</td>\n",
       "    </tr>\n",
       "    <tr>\n",
       "      <th>32</th>\n",
       "      <td>Botswana</td>\n",
       "      <td>2018</td>\n",
       "      <td>17634.656191</td>\n",
       "      <td>3.461</td>\n",
       "    </tr>\n",
       "    <tr>\n",
       "      <th>36</th>\n",
       "      <td>Bulgaria</td>\n",
       "      <td>2018</td>\n",
       "      <td>22208.452275</td>\n",
       "      <td>5.099</td>\n",
       "    </tr>\n",
       "    <tr>\n",
       "      <th>50</th>\n",
       "      <td>China</td>\n",
       "      <td>2018</td>\n",
       "      <td>15242.985858</td>\n",
       "      <td>5.131</td>\n",
       "    </tr>\n",
       "    <tr>\n",
       "      <th>66</th>\n",
       "      <td>Dominican Republic</td>\n",
       "      <td>2018</td>\n",
       "      <td>17711.795534</td>\n",
       "      <td>5.433</td>\n",
       "    </tr>\n",
       "    <tr>\n",
       "      <th>92</th>\n",
       "      <td>Gabon</td>\n",
       "      <td>2018</td>\n",
       "      <td>14744.434327</td>\n",
       "      <td>4.783</td>\n",
       "    </tr>\n",
       "    <tr>\n",
       "      <th>94</th>\n",
       "      <td>Georgia</td>\n",
       "      <td>2018</td>\n",
       "      <td>14253.408986</td>\n",
       "      <td>4.659</td>\n",
       "    </tr>\n",
       "    <tr>\n",
       "      <th>98</th>\n",
       "      <td>Greece</td>\n",
       "      <td>2018</td>\n",
       "      <td>29150.694492</td>\n",
       "      <td>5.409</td>\n",
       "    </tr>\n",
       "    <tr>\n",
       "      <th>143</th>\n",
       "      <td>Lebanon</td>\n",
       "      <td>2018</td>\n",
       "      <td>15588.152871</td>\n",
       "      <td>5.167</td>\n",
       "    </tr>\n",
       "    <tr>\n",
       "      <th>155</th>\n",
       "      <td>Malaysia</td>\n",
       "      <td>2018</td>\n",
       "      <td>27558.136950</td>\n",
       "      <td>5.339</td>\n",
       "    </tr>\n",
       "    <tr>\n",
       "      <th>156</th>\n",
       "      <td>Maldives</td>\n",
       "      <td>2018</td>\n",
       "      <td>18795.530350</td>\n",
       "      <td>5.198</td>\n",
       "    </tr>\n",
       "    <tr>\n",
       "      <th>190</th>\n",
       "      <td>North Macedonia</td>\n",
       "      <td>2018</td>\n",
       "      <td>16093.310423</td>\n",
       "      <td>5.240</td>\n",
       "    </tr>\n",
       "    <tr>\n",
       "      <th>265</th>\n",
       "      <td>Turkey</td>\n",
       "      <td>2018</td>\n",
       "      <td>28312.683424</td>\n",
       "      <td>5.186</td>\n",
       "    </tr>\n",
       "    <tr>\n",
       "      <th>266</th>\n",
       "      <td>Turkmenistan</td>\n",
       "      <td>2018</td>\n",
       "      <td>14845.344650</td>\n",
       "      <td>4.621</td>\n",
       "    </tr>\n",
       "  </tbody>\n",
       "</table>\n",
       "</div>"
      ],
      "text/plain": [
       "                 Entity  Year  \\\n",
       "18           Azerbaijan  2018   \n",
       "23              Belarus  2018   \n",
       "32             Botswana  2018   \n",
       "36             Bulgaria  2018   \n",
       "50                China  2018   \n",
       "66   Dominican Republic  2018   \n",
       "92                Gabon  2018   \n",
       "94              Georgia  2018   \n",
       "98               Greece  2018   \n",
       "143             Lebanon  2018   \n",
       "155            Malaysia  2018   \n",
       "156            Maldives  2018   \n",
       "190     North Macedonia  2018   \n",
       "265              Turkey  2018   \n",
       "266        Turkmenistan  2018   \n",
       "\n",
       "     GDP per capita, PPP (constant 2017 international $)  \\\n",
       "18                                        14209.649406     \n",
       "23                                        18885.235500     \n",
       "32                                        17634.656191     \n",
       "36                                        22208.452275     \n",
       "50                                        15242.985858     \n",
       "66                                        17711.795534     \n",
       "92                                        14744.434327     \n",
       "94                                        14253.408986     \n",
       "98                                        29150.694492     \n",
       "143                                       15588.152871     \n",
       "155                                       27558.136950     \n",
       "156                                       18795.530350     \n",
       "190                                       16093.310423     \n",
       "265                                       28312.683424     \n",
       "266                                       14845.344650     \n",
       "\n",
       "     Life satisfaction in Cantril Ladder (World Happiness Report 2021)  \n",
       "18                                               5.168                  \n",
       "23                                               5.234                  \n",
       "32                                               3.461                  \n",
       "36                                               5.099                  \n",
       "50                                               5.131                  \n",
       "66                                               5.433                  \n",
       "92                                               4.783                  \n",
       "94                                               4.659                  \n",
       "98                                               5.409                  \n",
       "143                                              5.167                  \n",
       "155                                              5.339                  \n",
       "156                                              5.198                  \n",
       "190                                              5.240                  \n",
       "265                                              5.186                  \n",
       "266                                              4.621                  "
      ]
     },
     "metadata": {},
     "output_type": "display_data"
    }
   ],
   "source": [
    "medianFilter(GDPperCapita('gdp-vs-happiness.csv',\n",
    "          'GDP per capita, PPP (constant 2017 international $)',\n",
    "          'Life satisfaction in Cantril Ladder (World Happiness Report 2021)',\n",
    "          'Happiness vs. GDP per capita'), 'life satisfaction', 6, 'below')"
   ]
  },
  {
   "cell_type": "markdown",
   "metadata": {},
   "source": [
    "---"
   ]
  },
  {
   "cell_type": "markdown",
   "metadata": {},
   "source": [
    "### 2. Children per women vs. GDP per capita\n",
    "**_Is the number of children per women positively correlated to the GDP per capita ?_** <br>\n",
    "No, the trendline has a negative slope, which implies that the number of children per women is negatively correlated to the GDP per capita. The highest numbers of children per woman are observed in the upper left corner on Figure X, where the GDP per capita is lower than the median (\\\\$11,815). The predominant color of the dots is red, indicating that the countries with the most children per woman are located in Africa. "
   ]
  },
  {
   "cell_type": "code",
   "execution_count": 14,
   "metadata": {
    "scrolled": false
   },
   "outputs": [
    {
     "name": "stdout",
     "output_type": "stream",
     "text": [
      "---------------------------------------------------------------------------------------------------------------------\n",
      "List of years for which data is available: \n",
      "\n",
      "[1950, 1951, 1952, 1953, 1954, 1955, 1956, 1957, 1958, 1959, 1960, 1961, 1962, 1963, 1964, 1965, 1966, 1967, 1968, 1969, 1970, 1971, 1972, 1973, 1974, 1975, 1976, 1977, 1978, 1979, 1980, 1981, 1982, 1983, 1984, 1985, 1986, 1987, 1988, 1989, 1990, 1991, 1992, 1993, 1994, 1995, 1996, 1997, 1998, 1999, 2000, 2001, 2002, 2003, 2004, 2005, 2006, 2007, 2008, 2009, 2010, 2011, 2012, 2013, 2014, 2015, 2016, 2017]\n",
      "---------------------------------------------------------------------------------------------------------------------\n",
      "Year of interest for the data \"Children per woman vs. GDP per capita\": \n",
      "2017\n",
      "---------------------------------------------------------------------------------------------------------------------\n",
      "Figure 7 :\n"
     ]
    },
    {
     "data": {
      "application/vnd.plotly.v1+json": {
       "config": {
        "plotlyServerURL": "https://plot.ly"
       },
       "data": [
        {
         "customdata": [
          [
           "Albania"
          ],
          [
           "Austria"
          ],
          [
           "Belarus"
          ],
          [
           "Belgium"
          ],
          [
           "Bosnia and Herzegovina"
          ],
          [
           "Bulgaria"
          ],
          [
           "Croatia"
          ],
          [
           "Cyprus"
          ],
          [
           "Czechia"
          ],
          [
           "Denmark"
          ],
          [
           "Estonia"
          ],
          [
           "Finland"
          ],
          [
           "France"
          ],
          [
           "Germany"
          ],
          [
           "Greece"
          ],
          [
           "Hungary"
          ],
          [
           "Iceland"
          ],
          [
           "Ireland"
          ],
          [
           "Italy"
          ],
          [
           "Latvia"
          ],
          [
           "Lithuania"
          ],
          [
           "Luxembourg"
          ],
          [
           "Malta"
          ],
          [
           "Moldova"
          ],
          [
           "Montenegro"
          ],
          [
           "Netherlands"
          ],
          [
           "North Macedonia"
          ],
          [
           "Norway"
          ],
          [
           "Poland"
          ],
          [
           "Portugal"
          ],
          [
           "Romania"
          ],
          [
           "Russia"
          ],
          [
           "Serbia"
          ],
          [
           "Slovakia"
          ],
          [
           "Slovenia"
          ],
          [
           "Spain"
          ],
          [
           "Sweden"
          ],
          [
           "Switzerland"
          ],
          [
           "Ukraine"
          ],
          [
           "United Kingdom"
          ]
         ],
         "hovertemplate": "Continent=Europe<br>GDP per capita ($)=%{x}<br>Children per woman=%{y}<br>Entity=%{customdata[0]}<extra></extra>",
         "legendgroup": "Europe",
         "marker": {
          "color": "#636efa",
          "symbol": "circle"
         },
         "mode": "markers",
         "name": "Europe",
         "orientation": "v",
         "showlegend": true,
         "type": "scatter",
         "x": [
          11941.197,
          46103.27,
          16843.686,
          38340.887,
          11572.854,
          18639.945,
          22995.551,
          29228.803,
          31140.898,
          45875.332,
          25939.426,
          39893.371,
          39461.105,
          47556,
          23765.188,
          22571.65,
          41306.172,
          75916.094,
          37999.699,
          24139.602,
          25992.143,
          74605.234,
          30830.996,
          5988.9336,
          17888.533,
          46601.563,
          13396.587,
          60590.25,
          26636.91,
          24309.6,
          24348.965,
          22580.941,
          14027.709,
          24923.85,
          28234.734,
          35696.117,
          43375.883,
          64219.297,
          9511.5488,
          39127.879
         ],
         "xaxis": "x",
         "y": [
          1.638,
          1.52,
          1.712,
          1.723,
          1.276,
          1.5519999999999998,
          1.449,
          1.337,
          1.619,
          1.75,
          1.585,
          1.56,
          1.873,
          1.565,
          1.3030000000000002,
          1.467,
          1.795,
          1.858,
          1.341,
          1.682,
          1.668,
          1.459,
          1.442,
          1.259,
          1.7380000000000002,
          1.671,
          1.501,
          1.6969999999999998,
          1.405,
          1.283,
          1.6030000000000002,
          1.814,
          1.453,
          1.487,
          1.604,
          1.3230000000000002,
          1.859,
          1.537,
          1.455,
          1.769
         ],
         "yaxis": "y"
        },
        {
         "customdata": [
          [
           "Algeria"
          ],
          [
           "Angola"
          ],
          [
           "Benin"
          ],
          [
           "Botswana"
          ],
          [
           "Burkina Faso"
          ],
          [
           "Burundi"
          ],
          [
           "Cameroon"
          ],
          [
           "Cape Verde"
          ],
          [
           "Central African Republic"
          ],
          [
           "Chad"
          ],
          [
           "Comoros"
          ],
          [
           "Congo"
          ],
          [
           "Cote d'Ivoire"
          ],
          [
           "Democratic Republic of Congo"
          ],
          [
           "Djibouti"
          ],
          [
           "Egypt"
          ],
          [
           "Equatorial Guinea"
          ],
          [
           "Eswatini"
          ],
          [
           "Ethiopia"
          ],
          [
           "Gabon"
          ],
          [
           "Gambia"
          ],
          [
           "Ghana"
          ],
          [
           "Guinea"
          ],
          [
           "Guinea-Bissau"
          ],
          [
           "Kenya"
          ],
          [
           "Lesotho"
          ],
          [
           "Liberia"
          ],
          [
           "Madagascar"
          ],
          [
           "Malawi"
          ],
          [
           "Mali"
          ],
          [
           "Mauritania"
          ],
          [
           "Mauritius"
          ],
          [
           "Morocco"
          ],
          [
           "Mozambique"
          ],
          [
           "Namibia"
          ],
          [
           "Niger"
          ],
          [
           "Nigeria"
          ],
          [
           "Rwanda"
          ],
          [
           "Sao Tome and Principe"
          ],
          [
           "Senegal"
          ],
          [
           "Seychelles"
          ],
          [
           "Sierra Leone"
          ],
          [
           "South Africa"
          ],
          [
           "Sudan"
          ],
          [
           "Tanzania"
          ],
          [
           "Togo"
          ],
          [
           "Tunisia"
          ],
          [
           "Uganda"
          ],
          [
           "Zambia"
          ],
          [
           "Zimbabwe"
          ]
         ],
         "hovertemplate": "Continent=Africa<br>GDP per capita ($)=%{x}<br>Children per woman=%{y}<br>Entity=%{customdata[0]}<extra></extra>",
         "legendgroup": "Africa",
         "marker": {
          "color": "#EF553B",
          "symbol": "circle"
         },
         "mode": "markers",
         "name": "Africa",
         "orientation": "v",
         "showlegend": true,
         "type": "scatter",
         "x": [
          12323.576,
          4993.8457,
          2113.9355,
          14997.142,
          1628.4565,
          799.61115,
          3149.2612,
          6968.6436,
          727.28943,
          1307.972,
          2871.0391,
          3726.6741,
          3513.7544,
          760.46906,
          4048.0232,
          11202.346,
          14478.681,
          7309.0186,
          1591.4904,
          11803.617,
          2644.4087,
          4988.8574,
          2281.5024,
          1667.894,
          3072.0334,
          3238.5508,
          760.73505,
          1591.5533,
          1038.3186,
          2334.3462,
          2988.7908,
          22827.002,
          8265.6484,
          1376.5532,
          10301.676,
          908.6496,
          4285.0645,
          1997.6191,
          3541.9373,
          3208.1443,
          32104.805,
          1394.4885,
          11741.271,
          4391.0371,
          2479.4453,
          1566.1471,
          11126.993,
          1802.4838,
          3699.0112,
          1871.8087
         ],
         "xaxis": "x",
         "y": [
          3.045,
          5.6,
          4.906000000000001,
          2.91,
          5.271,
          5.502000000000001,
          4.638999999999999,
          2.309,
          4.796,
          5.846,
          4.275,
          4.482,
          4.704,
          6.017,
          2.785,
          3.37,
          4.599,
          3.018,
          4.35,
          4.008,
          5.281000000000001,
          3.926,
          4.777,
          4.553,
          3.572,
          3.1710000000000003,
          4.387,
          4.13,
          4.302,
          5.968,
          4.619,
          1.391,
          2.451,
          4.922,
          3.447,
          7.001,
          5.457000000000001,
          4.088,
          4.374,
          4.697,
          2.45,
          4.359,
          2.43,
          4.468999999999999,
          4.953,
          4.384,
          2.219,
          5.095,
          4.718,
          3.707
         ],
         "yaxis": "y"
        },
        {
         "customdata": [
          [
           "Antigua and Barbuda"
          ],
          [
           "Aruba"
          ],
          [
           "Bahamas"
          ],
          [
           "Barbados"
          ],
          [
           "Belize"
          ],
          [
           "Canada"
          ],
          [
           "Costa Rica"
          ],
          [
           "Curacao"
          ],
          [
           "Dominican Republic"
          ],
          [
           "El Salvador"
          ],
          [
           "Grenada"
          ],
          [
           "Guatemala"
          ],
          [
           "Haiti"
          ],
          [
           "Honduras"
          ],
          [
           "Jamaica"
          ],
          [
           "Mexico"
          ],
          [
           "Nicaragua"
          ],
          [
           "Panama"
          ],
          [
           "Saint Lucia"
          ],
          [
           "Saint Vincent and the Grenadines"
          ],
          [
           "Trinidad and Tobago"
          ],
          [
           "United States"
          ]
         ],
         "hovertemplate": "Continent=North America<br>GDP per capita ($)=%{x}<br>Children per woman=%{y}<br>Entity=%{customdata[0]}<extra></extra>",
         "legendgroup": "North America",
         "marker": {
          "color": "#00cc96",
          "symbol": "circle"
         },
         "mode": "markers",
         "name": "North America",
         "orientation": "v",
         "showlegend": true,
         "type": "scatter",
         "x": [
          7879.6758,
          29871.135,
          22026.313,
          9272.5781,
          6777.0044,
          42906.633,
          15043.887,
          21952.865,
          14780.61,
          6659.7993,
          11668.589,
          7255.5654,
          1668.6489,
          4254.9927,
          6804.9565,
          17382.658,
          5209.7212,
          21928.211,
          7909.0635,
          8145.957,
          39779.813,
          54794.758
         ],
         "xaxis": "x",
         "y": [
          1.999,
          1.886,
          1.7619999999999998,
          1.615,
          2.346,
          1.534,
          1.7719999999999998,
          1.813,
          2.367,
          2.059,
          2.083,
          2.92,
          2.986,
          2.496,
          1.993,
          2.157,
          2.43,
          2.487,
          1.4480000000000002,
          1.911,
          1.739,
          1.7819999999999998
         ],
         "yaxis": "y"
        },
        {
         "customdata": [
          [
           "Argentina"
          ],
          [
           "Bolivia"
          ],
          [
           "Brazil"
          ],
          [
           "Chile"
          ],
          [
           "Colombia"
          ],
          [
           "Ecuador"
          ],
          [
           "Paraguay"
          ],
          [
           "Peru"
          ],
          [
           "Suriname"
          ],
          [
           "Uruguay"
          ],
          [
           "Venezuela"
          ]
         ],
         "hovertemplate": "Continent=South America<br>GDP per capita ($)=%{x}<br>Children per woman=%{y}<br>Entity=%{customdata[0]}<extra></extra>",
         "legendgroup": "South America",
         "marker": {
          "color": "#ab63fa",
          "symbol": "circle"
         },
         "mode": "markers",
         "name": "South America",
         "orientation": "v",
         "showlegend": true,
         "type": "scatter",
         "x": [
          16466.732,
          5838.0708,
          13812.992,
          22728.875,
          12796.994,
          9879.7666,
          8135.3369,
          11370.371,
          11815.036,
          19722.965,
          7696.6719
         ],
         "xaxis": "x",
         "y": [
          2.275,
          2.777,
          1.739,
          1.6780000000000002,
          1.825,
          2.451,
          2.4530000000000003,
          2.275,
          2.443,
          1.983,
          2.294
         ],
         "yaxis": "y"
        },
        {
         "customdata": [
          [
           "Armenia"
          ],
          [
           "Azerbaijan"
          ],
          [
           "Bahrain"
          ],
          [
           "Bangladesh"
          ],
          [
           "Bhutan"
          ],
          [
           "Brunei"
          ],
          [
           "Cambodia"
          ],
          [
           "China"
          ],
          [
           "Georgia"
          ],
          [
           "Hong Kong"
          ],
          [
           "India"
          ],
          [
           "Indonesia"
          ],
          [
           "Iran"
          ],
          [
           "Iraq"
          ],
          [
           "Israel"
          ],
          [
           "Japan"
          ],
          [
           "Jordan"
          ],
          [
           "Kazakhstan"
          ],
          [
           "Kuwait"
          ],
          [
           "Kyrgyzstan"
          ],
          [
           "Laos"
          ],
          [
           "Lebanon"
          ],
          [
           "Macao"
          ],
          [
           "Malaysia"
          ],
          [
           "Maldives"
          ],
          [
           "Mongolia"
          ],
          [
           "Myanmar"
          ],
          [
           "Nepal"
          ],
          [
           "Oman"
          ],
          [
           "Pakistan"
          ],
          [
           "Palestine"
          ],
          [
           "Philippines"
          ],
          [
           "Qatar"
          ],
          [
           "Saudi Arabia"
          ],
          [
           "Singapore"
          ],
          [
           "South Korea"
          ],
          [
           "Sri Lanka"
          ],
          [
           "Syria"
          ],
          [
           "Taiwan"
          ],
          [
           "Tajikistan"
          ],
          [
           "Thailand"
          ],
          [
           "Turkey"
          ],
          [
           "Turkmenistan"
          ],
          [
           "United Arab Emirates"
          ],
          [
           "Uzbekistan"
          ],
          [
           "Vietnam"
          ],
          [
           "Yemen"
          ]
         ],
         "hovertemplate": "Continent=Asia<br>GDP per capita ($)=%{x}<br>Children per woman=%{y}<br>Entity=%{customdata[0]}<extra></extra>",
         "legendgroup": "Asia",
         "marker": {
          "color": "#FFA15A",
          "symbol": "circle"
         },
         "mode": "markers",
         "name": "Asia",
         "orientation": "v",
         "showlegend": true,
         "type": "scatter",
         "x": [
          10182.28,
          14504.942,
          37616.391,
          3436.0527,
          8397.0967,
          51703.047,
          3161.0571,
          13042.646,
          13077.325,
          40584.477,
          6421.6704,
          10594.067,
          15964.644,
          15300.658,
          36185.711,
          40373.75,
          8996.9414,
          21053.27,
          39343.883,
          10572.493,
          6518.4531,
          15059.002,
          82995.453,
          22775.844,
          13829.851,
          10716.021,
          5730.1064,
          2720.2031,
          27338.375,
          5303.3789,
          4425.3887,
          7679.1758,
          93792.625,
          38548.086,
          67138.117,
          36264.551,
          12696.964,
          5615.957,
          43211.008,
          4337.9922,
          15740.314,
          27262.666,
          21989.586,
          65500.445,
          9595.3623,
          5846.1821,
          1850.2374
         ],
         "xaxis": "x",
         "y": [
          1.75,
          2.097,
          2.01,
          2.062,
          1.994,
          1.881,
          2.53,
          1.683,
          2.062,
          1.317,
          2.2430000000000003,
          2.336,
          2.116,
          3.762,
          3.05,
          1.378,
          2.849,
          2.755,
          2.083,
          3.074,
          2.709,
          2.097,
          1.211,
          2.019,
          1.906,
          2.914,
          2.168,
          1.967,
          2.92,
          3.562,
          3.738,
          2.64,
          1.886,
          2.373,
          1.212,
          1.131,
          2.206,
          2.847,
          1.147,
          3.606,
          1.5319999999999998,
          2.081,
          2.8360000000000003,
          1.4480000000000002,
          2.425,
          2.042,
          3.89
         ],
         "yaxis": "y"
        },
        {
         "customdata": [
          [
           "Australia"
          ],
          [
           "Fiji"
          ],
          [
           "New Zealand"
          ]
         ],
         "hovertemplate": "Continent=Oceania<br>GDP per capita ($)=%{x}<br>Children per woman=%{y}<br>Entity=%{customdata[0]}<extra></extra>",
         "legendgroup": "Oceania",
         "marker": {
          "color": "#19d3f3",
          "symbol": "circle"
         },
         "mode": "markers",
         "name": "Oceania",
         "orientation": "v",
         "showlegend": true,
         "type": "scatter",
         "x": [
          47392.621,
          7600.8447,
          36537.797
         ],
         "xaxis": "x",
         "y": [
          1.836,
          2.7880000000000003,
          1.915
         ],
         "yaxis": "y"
        },
        {
         "hovertemplate": "<b>OLS trendline</b><br>Estimates, 1950 - 2020: Annually interpolated demographic indicators - Total fertility (live births per woman) = -2.0394 * log10(Output-side real GDP per capita (gdppc_o) (PWT 9.1 (2019))) + 10.8707<br>R<sup>2</sup>=0.633016<br><br>GDP per capita ($)=%{x}<br>Children per woman=%{y} <b>(trend)</b><extra></extra>",
         "legendgroup": "Overall Trendline",
         "line": {
          "color": "black"
         },
         "mode": "lines",
         "name": "Overall Trendline",
         "showlegend": true,
         "type": "scatter",
         "x": [
          727.28943,
          760.46906,
          760.73505,
          799.61115,
          908.6496,
          1038.3186,
          1307.972,
          1376.5532,
          1394.4885,
          1566.1471,
          1591.4904,
          1591.5533,
          1628.4565,
          1667.894,
          1668.6489,
          1802.4838,
          1850.2374,
          1871.8087,
          1997.6191,
          2113.9355,
          2281.5024,
          2334.3462,
          2479.4453,
          2644.4087,
          2720.2031,
          2871.0391,
          2988.7908,
          3072.0334,
          3149.2612,
          3161.0571,
          3208.1443,
          3238.5508,
          3436.0527,
          3513.7544,
          3541.9373,
          3699.0112,
          3726.6741,
          4048.0232,
          4254.9927,
          4285.0645,
          4337.9922,
          4391.0371,
          4425.3887,
          4988.8574,
          4993.8457,
          5209.7212,
          5303.3789,
          5615.957,
          5730.1064,
          5838.0708,
          5846.1821,
          5988.9336,
          6421.6704,
          6518.4531,
          6659.7993,
          6777.0044,
          6804.9565,
          6968.6436,
          7255.5654,
          7309.0186,
          7600.8447,
          7679.1758,
          7696.6719,
          7879.6758,
          7909.0635,
          8135.3369,
          8145.957,
          8265.6484,
          8397.0967,
          8996.9414,
          9272.5781,
          9511.5488,
          9595.3623,
          9879.7666,
          10182.28,
          10301.676,
          10572.493,
          10594.067,
          10716.021,
          11126.993,
          11202.346,
          11370.371,
          11572.854,
          11668.589,
          11741.271,
          11803.617,
          11815.036,
          11941.197,
          12323.576,
          12696.964,
          12796.994,
          13042.646,
          13077.325,
          13396.587,
          13812.992,
          13829.851,
          14027.709,
          14478.681,
          14504.942,
          14780.61,
          14997.142,
          15043.887,
          15059.002,
          15300.658,
          15740.314,
          15964.644,
          16466.732,
          16843.686,
          17382.658,
          17888.533,
          18639.945,
          19722.965,
          21053.27,
          21928.211,
          21952.865,
          21989.586,
          22026.313,
          22571.65,
          22580.941,
          22728.875,
          22775.844,
          22827.002,
          22995.551,
          23765.188,
          24139.602,
          24309.6,
          24348.965,
          24923.85,
          25939.426,
          25992.143,
          26636.91,
          27262.666,
          27338.375,
          28234.734,
          29228.803,
          29871.135,
          30830.996,
          31140.898,
          32104.805,
          35696.117,
          36185.711,
          36264.551,
          36537.797,
          37616.391,
          37999.699,
          38340.887,
          38548.086,
          39127.879,
          39343.883,
          39461.105,
          39779.813,
          39893.371,
          40373.75,
          40584.477,
          41306.172,
          42906.633,
          43211.008,
          43375.883,
          45875.332,
          46103.27,
          46601.563,
          47392.621,
          47556,
          51703.047,
          54794.758,
          60590.25,
          64219.297,
          65500.445,
          67138.117,
          74605.234,
          75916.094,
          82995.453,
          93792.625
         ],
         "xaxis": "x",
         "y": [
          5.0345667497285,
          4.995054893781466,
          4.994745156034368,
          4.95060153826606,
          4.837379055264308,
          4.719228171486173,
          4.514742186522403,
          4.46947865735678,
          4.458013290375585,
          4.3551917065069485,
          4.340974098686213,
          4.340939094147752,
          4.3206369381694705,
          4.299442933456402,
          4.29904215069712,
          4.230709255695572,
          4.207549677373308,
          4.197283334969668,
          4.139667850730903,
          4.089541383049328,
          4.021977760726496,
          4.001697302161489,
          3.948286963214258,
          3.891236748327348,
          3.86620771767112,
          3.818408762724892,
          3.7828081925390515,
          3.7584773263021614,
          3.7364870079688446,
          3.733175722423878,
          3.720079618638258,
          3.71172457285388,
          3.659293479095587,
          3.639487688708197,
          3.6324120653850853,
          3.593980062838008,
          3.5873810421892163,
          3.5141226457254238,
          3.469957794976974,
          3.4637202060367613,
          3.4528473523091163,
          3.4420827165045953,
          3.435180748806907,
          3.3290307566355137,
          3.3281455987204795,
          3.2906627609937056,
          3.2748815440616177,
          3.2241594350938447,
          3.2063373139314155,
          3.189804584269961,
          3.1885748652312023,
          3.1672077670200496,
          3.1054170378663963,
          3.0921680188907192,
          3.0731677703425317,
          3.0577160135637316,
          3.0540704146177626,
          3.0330179113720988,
          2.99728152408085,
          2.990780318698615,
          2.95610485733883,
          2.9470239257429602,
          2.945008259221951,
          2.924195435437185,
          2.920898313895246,
          2.895914708162122,
          2.894759245108994,
          2.881840037060919,
          2.8678656186051654,
          2.806753551751463,
          2.780025999748281,
          2.757489140876423,
          2.74971875491827,
          2.72384836321163,
          2.6971356124470276,
          2.686810443352684,
          2.663827406817324,
          2.662021909472129,
          2.6518843863240065,
          2.6185519364024294,
          2.6125741190657195,
          2.5993880787219474,
          2.5837543817528736,
          2.5764576829336487,
          2.5709578973315974,
          2.566267287681141,
          2.5654108627675534,
          2.5560034989356417,
          2.5280864141501898,
          2.5016494104359523,
          2.494698982530579,
          2.4778581622515787,
          2.475506307796433,
          2.4541430994955338,
          2.4270321746982493,
          2.4259518222293615,
          2.413370272037813,
          2.3853443505004144,
          2.3837393505701403,
          2.3670644950368462,
          2.35418335965222,
          2.3514269927811053,
          2.350537553466175,
          2.336437324575817,
          2.3113460312407614,
          2.2988122031698843,
          2.271386013289879,
          2.2513393025092565,
          2.223442276558867,
          2.1980343523260135,
          2.1615905125261428,
          2.1115690183353024,
          2.0537574749038274,
          2.017693490905774,
          2.0166982539814207,
          2.015217964562172,
          2.013739903790997,
          1.9920784350737204,
          1.9917139362752767,
          1.985930398768657,
          1.984101998221309,
          1.9821148141193916,
          1.9755990527870448,
          1.9464408934549784,
          1.932595723427351,
          1.9263802347815666,
          1.9249471649120657,
          1.9042786333888078,
          1.868904799226348,
          1.8671066087048338,
          1.8454038327604696,
          1.824837564410327,
          1.822381367522702,
          1.793807352627681,
          1.7631606456712419,
          1.7439073116261081,
          1.7158944858063059,
          1.707036203001854,
          1.680036806900258,
          1.586120608651047,
          1.5740552565264316,
          1.572127628916995,
          1.5654790813919295,
          1.539711760983046,
          1.5307322290765928,
          1.522815287103855,
          1.5180417428007225,
          1.504819330734783,
          1.4999433071509962,
          1.4973083591364524,
          1.4901837323392861,
          1.4876589603275612,
          1.4770574479629328,
          1.4724466458010728,
          1.4568350629313116,
          1.4231656480285917,
          1.416904773886305,
          1.4135317493627237,
          1.36391137620668,
          1.3595215519960266,
          1.3500001060940043,
          1.335091607444694,
          1.332043541828046,
          1.2579913263155866,
          1.2065518432078086,
          1.1175041139488577,
          1.0659832029061072,
          1.0484878116517908,
          1.0266154589487915,
          0.933210741109173,
          0.9177835961144662,
          0.8388171955596899,
          0.7304958088781568
         ],
         "yaxis": "y"
        }
       ],
       "layout": {
        "legend": {
         "title": {
          "text": "Continent"
         },
         "tracegroupgap": 0
        },
        "template": {
         "data": {
          "bar": [
           {
            "error_x": {
             "color": "#2a3f5f"
            },
            "error_y": {
             "color": "#2a3f5f"
            },
            "marker": {
             "line": {
              "color": "#E5ECF6",
              "width": 0.5
             },
             "pattern": {
              "fillmode": "overlay",
              "size": 10,
              "solidity": 0.2
             }
            },
            "type": "bar"
           }
          ],
          "barpolar": [
           {
            "marker": {
             "line": {
              "color": "#E5ECF6",
              "width": 0.5
             },
             "pattern": {
              "fillmode": "overlay",
              "size": 10,
              "solidity": 0.2
             }
            },
            "type": "barpolar"
           }
          ],
          "carpet": [
           {
            "aaxis": {
             "endlinecolor": "#2a3f5f",
             "gridcolor": "white",
             "linecolor": "white",
             "minorgridcolor": "white",
             "startlinecolor": "#2a3f5f"
            },
            "baxis": {
             "endlinecolor": "#2a3f5f",
             "gridcolor": "white",
             "linecolor": "white",
             "minorgridcolor": "white",
             "startlinecolor": "#2a3f5f"
            },
            "type": "carpet"
           }
          ],
          "choropleth": [
           {
            "colorbar": {
             "outlinewidth": 0,
             "ticks": ""
            },
            "type": "choropleth"
           }
          ],
          "contour": [
           {
            "colorbar": {
             "outlinewidth": 0,
             "ticks": ""
            },
            "colorscale": [
             [
              0,
              "#0d0887"
             ],
             [
              0.1111111111111111,
              "#46039f"
             ],
             [
              0.2222222222222222,
              "#7201a8"
             ],
             [
              0.3333333333333333,
              "#9c179e"
             ],
             [
              0.4444444444444444,
              "#bd3786"
             ],
             [
              0.5555555555555556,
              "#d8576b"
             ],
             [
              0.6666666666666666,
              "#ed7953"
             ],
             [
              0.7777777777777778,
              "#fb9f3a"
             ],
             [
              0.8888888888888888,
              "#fdca26"
             ],
             [
              1,
              "#f0f921"
             ]
            ],
            "type": "contour"
           }
          ],
          "contourcarpet": [
           {
            "colorbar": {
             "outlinewidth": 0,
             "ticks": ""
            },
            "type": "contourcarpet"
           }
          ],
          "heatmap": [
           {
            "colorbar": {
             "outlinewidth": 0,
             "ticks": ""
            },
            "colorscale": [
             [
              0,
              "#0d0887"
             ],
             [
              0.1111111111111111,
              "#46039f"
             ],
             [
              0.2222222222222222,
              "#7201a8"
             ],
             [
              0.3333333333333333,
              "#9c179e"
             ],
             [
              0.4444444444444444,
              "#bd3786"
             ],
             [
              0.5555555555555556,
              "#d8576b"
             ],
             [
              0.6666666666666666,
              "#ed7953"
             ],
             [
              0.7777777777777778,
              "#fb9f3a"
             ],
             [
              0.8888888888888888,
              "#fdca26"
             ],
             [
              1,
              "#f0f921"
             ]
            ],
            "type": "heatmap"
           }
          ],
          "heatmapgl": [
           {
            "colorbar": {
             "outlinewidth": 0,
             "ticks": ""
            },
            "colorscale": [
             [
              0,
              "#0d0887"
             ],
             [
              0.1111111111111111,
              "#46039f"
             ],
             [
              0.2222222222222222,
              "#7201a8"
             ],
             [
              0.3333333333333333,
              "#9c179e"
             ],
             [
              0.4444444444444444,
              "#bd3786"
             ],
             [
              0.5555555555555556,
              "#d8576b"
             ],
             [
              0.6666666666666666,
              "#ed7953"
             ],
             [
              0.7777777777777778,
              "#fb9f3a"
             ],
             [
              0.8888888888888888,
              "#fdca26"
             ],
             [
              1,
              "#f0f921"
             ]
            ],
            "type": "heatmapgl"
           }
          ],
          "histogram": [
           {
            "marker": {
             "pattern": {
              "fillmode": "overlay",
              "size": 10,
              "solidity": 0.2
             }
            },
            "type": "histogram"
           }
          ],
          "histogram2d": [
           {
            "colorbar": {
             "outlinewidth": 0,
             "ticks": ""
            },
            "colorscale": [
             [
              0,
              "#0d0887"
             ],
             [
              0.1111111111111111,
              "#46039f"
             ],
             [
              0.2222222222222222,
              "#7201a8"
             ],
             [
              0.3333333333333333,
              "#9c179e"
             ],
             [
              0.4444444444444444,
              "#bd3786"
             ],
             [
              0.5555555555555556,
              "#d8576b"
             ],
             [
              0.6666666666666666,
              "#ed7953"
             ],
             [
              0.7777777777777778,
              "#fb9f3a"
             ],
             [
              0.8888888888888888,
              "#fdca26"
             ],
             [
              1,
              "#f0f921"
             ]
            ],
            "type": "histogram2d"
           }
          ],
          "histogram2dcontour": [
           {
            "colorbar": {
             "outlinewidth": 0,
             "ticks": ""
            },
            "colorscale": [
             [
              0,
              "#0d0887"
             ],
             [
              0.1111111111111111,
              "#46039f"
             ],
             [
              0.2222222222222222,
              "#7201a8"
             ],
             [
              0.3333333333333333,
              "#9c179e"
             ],
             [
              0.4444444444444444,
              "#bd3786"
             ],
             [
              0.5555555555555556,
              "#d8576b"
             ],
             [
              0.6666666666666666,
              "#ed7953"
             ],
             [
              0.7777777777777778,
              "#fb9f3a"
             ],
             [
              0.8888888888888888,
              "#fdca26"
             ],
             [
              1,
              "#f0f921"
             ]
            ],
            "type": "histogram2dcontour"
           }
          ],
          "mesh3d": [
           {
            "colorbar": {
             "outlinewidth": 0,
             "ticks": ""
            },
            "type": "mesh3d"
           }
          ],
          "parcoords": [
           {
            "line": {
             "colorbar": {
              "outlinewidth": 0,
              "ticks": ""
             }
            },
            "type": "parcoords"
           }
          ],
          "pie": [
           {
            "automargin": true,
            "type": "pie"
           }
          ],
          "scatter": [
           {
            "marker": {
             "colorbar": {
              "outlinewidth": 0,
              "ticks": ""
             }
            },
            "type": "scatter"
           }
          ],
          "scatter3d": [
           {
            "line": {
             "colorbar": {
              "outlinewidth": 0,
              "ticks": ""
             }
            },
            "marker": {
             "colorbar": {
              "outlinewidth": 0,
              "ticks": ""
             }
            },
            "type": "scatter3d"
           }
          ],
          "scattercarpet": [
           {
            "marker": {
             "colorbar": {
              "outlinewidth": 0,
              "ticks": ""
             }
            },
            "type": "scattercarpet"
           }
          ],
          "scattergeo": [
           {
            "marker": {
             "colorbar": {
              "outlinewidth": 0,
              "ticks": ""
             }
            },
            "type": "scattergeo"
           }
          ],
          "scattergl": [
           {
            "marker": {
             "colorbar": {
              "outlinewidth": 0,
              "ticks": ""
             }
            },
            "type": "scattergl"
           }
          ],
          "scattermapbox": [
           {
            "marker": {
             "colorbar": {
              "outlinewidth": 0,
              "ticks": ""
             }
            },
            "type": "scattermapbox"
           }
          ],
          "scatterpolar": [
           {
            "marker": {
             "colorbar": {
              "outlinewidth": 0,
              "ticks": ""
             }
            },
            "type": "scatterpolar"
           }
          ],
          "scatterpolargl": [
           {
            "marker": {
             "colorbar": {
              "outlinewidth": 0,
              "ticks": ""
             }
            },
            "type": "scatterpolargl"
           }
          ],
          "scatterternary": [
           {
            "marker": {
             "colorbar": {
              "outlinewidth": 0,
              "ticks": ""
             }
            },
            "type": "scatterternary"
           }
          ],
          "surface": [
           {
            "colorbar": {
             "outlinewidth": 0,
             "ticks": ""
            },
            "colorscale": [
             [
              0,
              "#0d0887"
             ],
             [
              0.1111111111111111,
              "#46039f"
             ],
             [
              0.2222222222222222,
              "#7201a8"
             ],
             [
              0.3333333333333333,
              "#9c179e"
             ],
             [
              0.4444444444444444,
              "#bd3786"
             ],
             [
              0.5555555555555556,
              "#d8576b"
             ],
             [
              0.6666666666666666,
              "#ed7953"
             ],
             [
              0.7777777777777778,
              "#fb9f3a"
             ],
             [
              0.8888888888888888,
              "#fdca26"
             ],
             [
              1,
              "#f0f921"
             ]
            ],
            "type": "surface"
           }
          ],
          "table": [
           {
            "cells": {
             "fill": {
              "color": "#EBF0F8"
             },
             "line": {
              "color": "white"
             }
            },
            "header": {
             "fill": {
              "color": "#C8D4E3"
             },
             "line": {
              "color": "white"
             }
            },
            "type": "table"
           }
          ]
         },
         "layout": {
          "annotationdefaults": {
           "arrowcolor": "#2a3f5f",
           "arrowhead": 0,
           "arrowwidth": 1
          },
          "autotypenumbers": "strict",
          "coloraxis": {
           "colorbar": {
            "outlinewidth": 0,
            "ticks": ""
           }
          },
          "colorscale": {
           "diverging": [
            [
             0,
             "#8e0152"
            ],
            [
             0.1,
             "#c51b7d"
            ],
            [
             0.2,
             "#de77ae"
            ],
            [
             0.3,
             "#f1b6da"
            ],
            [
             0.4,
             "#fde0ef"
            ],
            [
             0.5,
             "#f7f7f7"
            ],
            [
             0.6,
             "#e6f5d0"
            ],
            [
             0.7,
             "#b8e186"
            ],
            [
             0.8,
             "#7fbc41"
            ],
            [
             0.9,
             "#4d9221"
            ],
            [
             1,
             "#276419"
            ]
           ],
           "sequential": [
            [
             0,
             "#0d0887"
            ],
            [
             0.1111111111111111,
             "#46039f"
            ],
            [
             0.2222222222222222,
             "#7201a8"
            ],
            [
             0.3333333333333333,
             "#9c179e"
            ],
            [
             0.4444444444444444,
             "#bd3786"
            ],
            [
             0.5555555555555556,
             "#d8576b"
            ],
            [
             0.6666666666666666,
             "#ed7953"
            ],
            [
             0.7777777777777778,
             "#fb9f3a"
            ],
            [
             0.8888888888888888,
             "#fdca26"
            ],
            [
             1,
             "#f0f921"
            ]
           ],
           "sequentialminus": [
            [
             0,
             "#0d0887"
            ],
            [
             0.1111111111111111,
             "#46039f"
            ],
            [
             0.2222222222222222,
             "#7201a8"
            ],
            [
             0.3333333333333333,
             "#9c179e"
            ],
            [
             0.4444444444444444,
             "#bd3786"
            ],
            [
             0.5555555555555556,
             "#d8576b"
            ],
            [
             0.6666666666666666,
             "#ed7953"
            ],
            [
             0.7777777777777778,
             "#fb9f3a"
            ],
            [
             0.8888888888888888,
             "#fdca26"
            ],
            [
             1,
             "#f0f921"
            ]
           ]
          },
          "colorway": [
           "#636efa",
           "#EF553B",
           "#00cc96",
           "#ab63fa",
           "#FFA15A",
           "#19d3f3",
           "#FF6692",
           "#B6E880",
           "#FF97FF",
           "#FECB52"
          ],
          "font": {
           "color": "#2a3f5f"
          },
          "geo": {
           "bgcolor": "white",
           "lakecolor": "white",
           "landcolor": "#E5ECF6",
           "showlakes": true,
           "showland": true,
           "subunitcolor": "white"
          },
          "hoverlabel": {
           "align": "left"
          },
          "hovermode": "closest",
          "mapbox": {
           "style": "light"
          },
          "paper_bgcolor": "white",
          "plot_bgcolor": "#E5ECF6",
          "polar": {
           "angularaxis": {
            "gridcolor": "white",
            "linecolor": "white",
            "ticks": ""
           },
           "bgcolor": "#E5ECF6",
           "radialaxis": {
            "gridcolor": "white",
            "linecolor": "white",
            "ticks": ""
           }
          },
          "scene": {
           "xaxis": {
            "backgroundcolor": "#E5ECF6",
            "gridcolor": "white",
            "gridwidth": 2,
            "linecolor": "white",
            "showbackground": true,
            "ticks": "",
            "zerolinecolor": "white"
           },
           "yaxis": {
            "backgroundcolor": "#E5ECF6",
            "gridcolor": "white",
            "gridwidth": 2,
            "linecolor": "white",
            "showbackground": true,
            "ticks": "",
            "zerolinecolor": "white"
           },
           "zaxis": {
            "backgroundcolor": "#E5ECF6",
            "gridcolor": "white",
            "gridwidth": 2,
            "linecolor": "white",
            "showbackground": true,
            "ticks": "",
            "zerolinecolor": "white"
           }
          },
          "shapedefaults": {
           "line": {
            "color": "#2a3f5f"
           }
          },
          "ternary": {
           "aaxis": {
            "gridcolor": "white",
            "linecolor": "white",
            "ticks": ""
           },
           "baxis": {
            "gridcolor": "white",
            "linecolor": "white",
            "ticks": ""
           },
           "bgcolor": "#E5ECF6",
           "caxis": {
            "gridcolor": "white",
            "linecolor": "white",
            "ticks": ""
           }
          },
          "title": {
           "x": 0.05
          },
          "xaxis": {
           "automargin": true,
           "gridcolor": "white",
           "linecolor": "white",
           "ticks": "",
           "title": {
            "standoff": 15
           },
           "zerolinecolor": "white",
           "zerolinewidth": 2
          },
          "yaxis": {
           "automargin": true,
           "gridcolor": "white",
           "linecolor": "white",
           "ticks": "",
           "title": {
            "standoff": 15
           },
           "zerolinecolor": "white",
           "zerolinewidth": 2
          }
         }
        },
        "title": {
         "text": "Children per woman vs. GDP per capita, 2017"
        },
        "xaxis": {
         "anchor": "y",
         "domain": [
          0,
          1
         ],
         "range": [
          2.849597167870409,
          5.016166495751423
         ],
         "title": {
          "text": "GDP per capita ($)"
         },
         "type": "log"
        },
        "yaxis": {
         "anchor": "x",
         "domain": [
          0,
          1
         ],
         "range": [
          0.631,
          7.501
         ],
         "title": {
          "text": "Children per woman"
         }
        }
       }
      },
      "text/html": [
       "<div>                            <div id=\"efab1084-90a0-4f31-a076-aa521e72992d\" class=\"plotly-graph-div\" style=\"height:525px; width:100%;\"></div>            <script type=\"text/javascript\">                require([\"plotly\"], function(Plotly) {                    window.PLOTLYENV=window.PLOTLYENV || {};                                    if (document.getElementById(\"efab1084-90a0-4f31-a076-aa521e72992d\")) {                    Plotly.newPlot(                        \"efab1084-90a0-4f31-a076-aa521e72992d\",                        [{\"customdata\":[[\"Albania\"],[\"Austria\"],[\"Belarus\"],[\"Belgium\"],[\"Bosnia and Herzegovina\"],[\"Bulgaria\"],[\"Croatia\"],[\"Cyprus\"],[\"Czechia\"],[\"Denmark\"],[\"Estonia\"],[\"Finland\"],[\"France\"],[\"Germany\"],[\"Greece\"],[\"Hungary\"],[\"Iceland\"],[\"Ireland\"],[\"Italy\"],[\"Latvia\"],[\"Lithuania\"],[\"Luxembourg\"],[\"Malta\"],[\"Moldova\"],[\"Montenegro\"],[\"Netherlands\"],[\"North Macedonia\"],[\"Norway\"],[\"Poland\"],[\"Portugal\"],[\"Romania\"],[\"Russia\"],[\"Serbia\"],[\"Slovakia\"],[\"Slovenia\"],[\"Spain\"],[\"Sweden\"],[\"Switzerland\"],[\"Ukraine\"],[\"United Kingdom\"]],\"hovertemplate\":\"Continent=Europe<br>GDP per capita ($)=%{x}<br>Children per woman=%{y}<br>Entity=%{customdata[0]}<extra></extra>\",\"legendgroup\":\"Europe\",\"marker\":{\"color\":\"#636efa\",\"symbol\":\"circle\"},\"mode\":\"markers\",\"name\":\"Europe\",\"orientation\":\"v\",\"showlegend\":true,\"x\":[11941.197,46103.27,16843.686,38340.887,11572.854,18639.945,22995.551,29228.803,31140.898,45875.332,25939.426,39893.371,39461.105,47556.0,23765.188,22571.65,41306.172,75916.094,37999.699,24139.602,25992.143,74605.234,30830.996,5988.9336,17888.533,46601.563,13396.587,60590.25,26636.91,24309.6,24348.965,22580.941,14027.709,24923.85,28234.734,35696.117,43375.883,64219.297,9511.5488,39127.879],\"xaxis\":\"x\",\"y\":[1.638,1.52,1.712,1.723,1.276,1.5519999999999998,1.449,1.337,1.619,1.75,1.585,1.56,1.873,1.565,1.3030000000000002,1.467,1.795,1.858,1.341,1.682,1.668,1.459,1.442,1.259,1.7380000000000002,1.671,1.501,1.6969999999999998,1.405,1.283,1.6030000000000002,1.814,1.453,1.487,1.604,1.3230000000000002,1.859,1.537,1.455,1.769],\"yaxis\":\"y\",\"type\":\"scatter\"},{\"customdata\":[[\"Algeria\"],[\"Angola\"],[\"Benin\"],[\"Botswana\"],[\"Burkina Faso\"],[\"Burundi\"],[\"Cameroon\"],[\"Cape Verde\"],[\"Central African Republic\"],[\"Chad\"],[\"Comoros\"],[\"Congo\"],[\"Cote d'Ivoire\"],[\"Democratic Republic of Congo\"],[\"Djibouti\"],[\"Egypt\"],[\"Equatorial Guinea\"],[\"Eswatini\"],[\"Ethiopia\"],[\"Gabon\"],[\"Gambia\"],[\"Ghana\"],[\"Guinea\"],[\"Guinea-Bissau\"],[\"Kenya\"],[\"Lesotho\"],[\"Liberia\"],[\"Madagascar\"],[\"Malawi\"],[\"Mali\"],[\"Mauritania\"],[\"Mauritius\"],[\"Morocco\"],[\"Mozambique\"],[\"Namibia\"],[\"Niger\"],[\"Nigeria\"],[\"Rwanda\"],[\"Sao Tome and Principe\"],[\"Senegal\"],[\"Seychelles\"],[\"Sierra Leone\"],[\"South Africa\"],[\"Sudan\"],[\"Tanzania\"],[\"Togo\"],[\"Tunisia\"],[\"Uganda\"],[\"Zambia\"],[\"Zimbabwe\"]],\"hovertemplate\":\"Continent=Africa<br>GDP per capita ($)=%{x}<br>Children per woman=%{y}<br>Entity=%{customdata[0]}<extra></extra>\",\"legendgroup\":\"Africa\",\"marker\":{\"color\":\"#EF553B\",\"symbol\":\"circle\"},\"mode\":\"markers\",\"name\":\"Africa\",\"orientation\":\"v\",\"showlegend\":true,\"x\":[12323.576,4993.8457,2113.9355,14997.142,1628.4565,799.61115,3149.2612,6968.6436,727.28943,1307.972,2871.0391,3726.6741,3513.7544,760.46906,4048.0232,11202.346,14478.681,7309.0186,1591.4904,11803.617,2644.4087,4988.8574,2281.5024,1667.894,3072.0334,3238.5508,760.73505,1591.5533,1038.3186,2334.3462,2988.7908,22827.002,8265.6484,1376.5532,10301.676,908.6496,4285.0645,1997.6191,3541.9373,3208.1443,32104.805,1394.4885,11741.271,4391.0371,2479.4453,1566.1471,11126.993,1802.4838,3699.0112,1871.8087],\"xaxis\":\"x\",\"y\":[3.045,5.6,4.906000000000001,2.91,5.271,5.502000000000001,4.638999999999999,2.309,4.796,5.846,4.275,4.482,4.704,6.017,2.785,3.37,4.599,3.018,4.35,4.008,5.281000000000001,3.926,4.777,4.553,3.572,3.1710000000000003,4.387,4.13,4.302,5.968,4.619,1.391,2.451,4.922,3.447,7.001,5.457000000000001,4.088,4.374,4.697,2.45,4.359,2.43,4.468999999999999,4.953,4.384,2.219,5.095,4.718,3.707],\"yaxis\":\"y\",\"type\":\"scatter\"},{\"customdata\":[[\"Antigua and Barbuda\"],[\"Aruba\"],[\"Bahamas\"],[\"Barbados\"],[\"Belize\"],[\"Canada\"],[\"Costa Rica\"],[\"Curacao\"],[\"Dominican Republic\"],[\"El Salvador\"],[\"Grenada\"],[\"Guatemala\"],[\"Haiti\"],[\"Honduras\"],[\"Jamaica\"],[\"Mexico\"],[\"Nicaragua\"],[\"Panama\"],[\"Saint Lucia\"],[\"Saint Vincent and the Grenadines\"],[\"Trinidad and Tobago\"],[\"United States\"]],\"hovertemplate\":\"Continent=North America<br>GDP per capita ($)=%{x}<br>Children per woman=%{y}<br>Entity=%{customdata[0]}<extra></extra>\",\"legendgroup\":\"North America\",\"marker\":{\"color\":\"#00cc96\",\"symbol\":\"circle\"},\"mode\":\"markers\",\"name\":\"North America\",\"orientation\":\"v\",\"showlegend\":true,\"x\":[7879.6758,29871.135,22026.313,9272.5781,6777.0044,42906.633,15043.887,21952.865,14780.61,6659.7993,11668.589,7255.5654,1668.6489,4254.9927,6804.9565,17382.658,5209.7212,21928.211,7909.0635,8145.957,39779.813,54794.758],\"xaxis\":\"x\",\"y\":[1.999,1.886,1.7619999999999998,1.615,2.346,1.534,1.7719999999999998,1.813,2.367,2.059,2.083,2.92,2.986,2.496,1.993,2.157,2.43,2.487,1.4480000000000002,1.911,1.739,1.7819999999999998],\"yaxis\":\"y\",\"type\":\"scatter\"},{\"customdata\":[[\"Argentina\"],[\"Bolivia\"],[\"Brazil\"],[\"Chile\"],[\"Colombia\"],[\"Ecuador\"],[\"Paraguay\"],[\"Peru\"],[\"Suriname\"],[\"Uruguay\"],[\"Venezuela\"]],\"hovertemplate\":\"Continent=South America<br>GDP per capita ($)=%{x}<br>Children per woman=%{y}<br>Entity=%{customdata[0]}<extra></extra>\",\"legendgroup\":\"South America\",\"marker\":{\"color\":\"#ab63fa\",\"symbol\":\"circle\"},\"mode\":\"markers\",\"name\":\"South America\",\"orientation\":\"v\",\"showlegend\":true,\"x\":[16466.732,5838.0708,13812.992,22728.875,12796.994,9879.7666,8135.3369,11370.371,11815.036,19722.965,7696.6719],\"xaxis\":\"x\",\"y\":[2.275,2.777,1.739,1.6780000000000002,1.825,2.451,2.4530000000000003,2.275,2.443,1.983,2.294],\"yaxis\":\"y\",\"type\":\"scatter\"},{\"customdata\":[[\"Armenia\"],[\"Azerbaijan\"],[\"Bahrain\"],[\"Bangladesh\"],[\"Bhutan\"],[\"Brunei\"],[\"Cambodia\"],[\"China\"],[\"Georgia\"],[\"Hong Kong\"],[\"India\"],[\"Indonesia\"],[\"Iran\"],[\"Iraq\"],[\"Israel\"],[\"Japan\"],[\"Jordan\"],[\"Kazakhstan\"],[\"Kuwait\"],[\"Kyrgyzstan\"],[\"Laos\"],[\"Lebanon\"],[\"Macao\"],[\"Malaysia\"],[\"Maldives\"],[\"Mongolia\"],[\"Myanmar\"],[\"Nepal\"],[\"Oman\"],[\"Pakistan\"],[\"Palestine\"],[\"Philippines\"],[\"Qatar\"],[\"Saudi Arabia\"],[\"Singapore\"],[\"South Korea\"],[\"Sri Lanka\"],[\"Syria\"],[\"Taiwan\"],[\"Tajikistan\"],[\"Thailand\"],[\"Turkey\"],[\"Turkmenistan\"],[\"United Arab Emirates\"],[\"Uzbekistan\"],[\"Vietnam\"],[\"Yemen\"]],\"hovertemplate\":\"Continent=Asia<br>GDP per capita ($)=%{x}<br>Children per woman=%{y}<br>Entity=%{customdata[0]}<extra></extra>\",\"legendgroup\":\"Asia\",\"marker\":{\"color\":\"#FFA15A\",\"symbol\":\"circle\"},\"mode\":\"markers\",\"name\":\"Asia\",\"orientation\":\"v\",\"showlegend\":true,\"x\":[10182.28,14504.942,37616.391,3436.0527,8397.0967,51703.047,3161.0571,13042.646,13077.325,40584.477,6421.6704,10594.067,15964.644,15300.658,36185.711,40373.75,8996.9414,21053.27,39343.883,10572.493,6518.4531,15059.002,82995.453,22775.844,13829.851,10716.021,5730.1064,2720.2031,27338.375,5303.3789,4425.3887,7679.1758,93792.625,38548.086,67138.117,36264.551,12696.964,5615.957,43211.008,4337.9922,15740.314,27262.666,21989.586,65500.445,9595.3623,5846.1821,1850.2374],\"xaxis\":\"x\",\"y\":[1.75,2.097,2.01,2.062,1.994,1.881,2.53,1.683,2.062,1.317,2.2430000000000003,2.336,2.116,3.762,3.05,1.378,2.849,2.755,2.083,3.074,2.709,2.097,1.211,2.019,1.906,2.914,2.168,1.967,2.92,3.562,3.738,2.64,1.886,2.373,1.212,1.131,2.206,2.847,1.147,3.606,1.5319999999999998,2.081,2.8360000000000003,1.4480000000000002,2.425,2.042,3.89],\"yaxis\":\"y\",\"type\":\"scatter\"},{\"customdata\":[[\"Australia\"],[\"Fiji\"],[\"New Zealand\"]],\"hovertemplate\":\"Continent=Oceania<br>GDP per capita ($)=%{x}<br>Children per woman=%{y}<br>Entity=%{customdata[0]}<extra></extra>\",\"legendgroup\":\"Oceania\",\"marker\":{\"color\":\"#19d3f3\",\"symbol\":\"circle\"},\"mode\":\"markers\",\"name\":\"Oceania\",\"orientation\":\"v\",\"showlegend\":true,\"x\":[47392.621,7600.8447,36537.797],\"xaxis\":\"x\",\"y\":[1.836,2.7880000000000003,1.915],\"yaxis\":\"y\",\"type\":\"scatter\"},{\"hovertemplate\":\"<b>OLS trendline</b><br>Estimates, 1950 - 2020: Annually interpolated demographic indicators - Total fertility (live births per woman) = -2.0394 * log10(Output-side real GDP per capita (gdppc_o) (PWT 9.1 (2019))) + 10.8707<br>R<sup>2</sup>=0.633016<br><br>GDP per capita ($)=%{x}<br>Children per woman=%{y} <b>(trend)</b><extra></extra>\",\"legendgroup\":\"Overall Trendline\",\"line\":{\"color\":\"black\"},\"mode\":\"lines\",\"name\":\"Overall Trendline\",\"showlegend\":true,\"x\":[727.28943,760.46906,760.73505,799.61115,908.6496,1038.3186,1307.972,1376.5532,1394.4885,1566.1471,1591.4904,1591.5533,1628.4565,1667.894,1668.6489,1802.4838,1850.2374,1871.8087,1997.6191,2113.9355,2281.5024,2334.3462,2479.4453,2644.4087,2720.2031,2871.0391,2988.7908,3072.0334,3149.2612,3161.0571,3208.1443,3238.5508,3436.0527,3513.7544,3541.9373,3699.0112,3726.6741,4048.0232,4254.9927,4285.0645,4337.9922,4391.0371,4425.3887,4988.8574,4993.8457,5209.7212,5303.3789,5615.957,5730.1064,5838.0708,5846.1821,5988.9336,6421.6704,6518.4531,6659.7993,6777.0044,6804.9565,6968.6436,7255.5654,7309.0186,7600.8447,7679.1758,7696.6719,7879.6758,7909.0635,8135.3369,8145.957,8265.6484,8397.0967,8996.9414,9272.5781,9511.5488,9595.3623,9879.7666,10182.28,10301.676,10572.493,10594.067,10716.021,11126.993,11202.346,11370.371,11572.854,11668.589,11741.271,11803.617,11815.036,11941.197,12323.576,12696.964,12796.994,13042.646,13077.325,13396.587,13812.992,13829.851,14027.709,14478.681,14504.942,14780.61,14997.142,15043.887,15059.002,15300.658,15740.314,15964.644,16466.732,16843.686,17382.658,17888.533,18639.945,19722.965,21053.27,21928.211,21952.865,21989.586,22026.313,22571.65,22580.941,22728.875,22775.844,22827.002,22995.551,23765.188,24139.602,24309.6,24348.965,24923.85,25939.426,25992.143,26636.91,27262.666,27338.375,28234.734,29228.803,29871.135,30830.996,31140.898,32104.805,35696.117,36185.711,36264.551,36537.797,37616.391,37999.699,38340.887,38548.086,39127.879,39343.883,39461.105,39779.813,39893.371,40373.75,40584.477,41306.172,42906.633,43211.008,43375.883,45875.332,46103.27,46601.563,47392.621,47556.0,51703.047,54794.758,60590.25,64219.297,65500.445,67138.117,74605.234,75916.094,82995.453,93792.625],\"y\":[5.0345667497285,4.995054893781466,4.994745156034368,4.95060153826606,4.837379055264308,4.719228171486173,4.514742186522403,4.46947865735678,4.458013290375585,4.3551917065069485,4.340974098686213,4.340939094147752,4.3206369381694705,4.299442933456402,4.29904215069712,4.230709255695572,4.207549677373308,4.197283334969668,4.139667850730903,4.089541383049328,4.021977760726496,4.001697302161489,3.948286963214258,3.891236748327348,3.86620771767112,3.818408762724892,3.7828081925390515,3.7584773263021614,3.7364870079688446,3.733175722423878,3.720079618638258,3.71172457285388,3.659293479095587,3.639487688708197,3.6324120653850853,3.593980062838008,3.5873810421892163,3.5141226457254238,3.469957794976974,3.4637202060367613,3.4528473523091163,3.4420827165045953,3.435180748806907,3.3290307566355137,3.3281455987204795,3.2906627609937056,3.2748815440616177,3.2241594350938447,3.2063373139314155,3.189804584269961,3.1885748652312023,3.1672077670200496,3.1054170378663963,3.0921680188907192,3.0731677703425317,3.0577160135637316,3.0540704146177626,3.0330179113720988,2.99728152408085,2.990780318698615,2.95610485733883,2.9470239257429602,2.945008259221951,2.924195435437185,2.920898313895246,2.895914708162122,2.894759245108994,2.881840037060919,2.8678656186051654,2.806753551751463,2.780025999748281,2.757489140876423,2.74971875491827,2.72384836321163,2.6971356124470276,2.686810443352684,2.663827406817324,2.662021909472129,2.6518843863240065,2.6185519364024294,2.6125741190657195,2.5993880787219474,2.5837543817528736,2.5764576829336487,2.5709578973315974,2.566267287681141,2.5654108627675534,2.5560034989356417,2.5280864141501898,2.5016494104359523,2.494698982530579,2.4778581622515787,2.475506307796433,2.4541430994955338,2.4270321746982493,2.4259518222293615,2.413370272037813,2.3853443505004144,2.3837393505701403,2.3670644950368462,2.35418335965222,2.3514269927811053,2.350537553466175,2.336437324575817,2.3113460312407614,2.2988122031698843,2.271386013289879,2.2513393025092565,2.223442276558867,2.1980343523260135,2.1615905125261428,2.1115690183353024,2.0537574749038274,2.017693490905774,2.0166982539814207,2.015217964562172,2.013739903790997,1.9920784350737204,1.9917139362752767,1.985930398768657,1.984101998221309,1.9821148141193916,1.9755990527870448,1.9464408934549784,1.932595723427351,1.9263802347815666,1.9249471649120657,1.9042786333888078,1.868904799226348,1.8671066087048338,1.8454038327604696,1.824837564410327,1.822381367522702,1.793807352627681,1.7631606456712419,1.7439073116261081,1.7158944858063059,1.707036203001854,1.680036806900258,1.586120608651047,1.5740552565264316,1.572127628916995,1.5654790813919295,1.539711760983046,1.5307322290765928,1.522815287103855,1.5180417428007225,1.504819330734783,1.4999433071509962,1.4973083591364524,1.4901837323392861,1.4876589603275612,1.4770574479629328,1.4724466458010728,1.4568350629313116,1.4231656480285917,1.416904773886305,1.4135317493627237,1.36391137620668,1.3595215519960266,1.3500001060940043,1.335091607444694,1.332043541828046,1.2579913263155866,1.2065518432078086,1.1175041139488577,1.0659832029061072,1.0484878116517908,1.0266154589487915,0.933210741109173,0.9177835961144662,0.8388171955596899,0.7304958088781568],\"type\":\"scatter\",\"xaxis\":\"x\",\"yaxis\":\"y\"}],                        {\"template\":{\"data\":{\"bar\":[{\"error_x\":{\"color\":\"#2a3f5f\"},\"error_y\":{\"color\":\"#2a3f5f\"},\"marker\":{\"line\":{\"color\":\"#E5ECF6\",\"width\":0.5},\"pattern\":{\"fillmode\":\"overlay\",\"size\":10,\"solidity\":0.2}},\"type\":\"bar\"}],\"barpolar\":[{\"marker\":{\"line\":{\"color\":\"#E5ECF6\",\"width\":0.5},\"pattern\":{\"fillmode\":\"overlay\",\"size\":10,\"solidity\":0.2}},\"type\":\"barpolar\"}],\"carpet\":[{\"aaxis\":{\"endlinecolor\":\"#2a3f5f\",\"gridcolor\":\"white\",\"linecolor\":\"white\",\"minorgridcolor\":\"white\",\"startlinecolor\":\"#2a3f5f\"},\"baxis\":{\"endlinecolor\":\"#2a3f5f\",\"gridcolor\":\"white\",\"linecolor\":\"white\",\"minorgridcolor\":\"white\",\"startlinecolor\":\"#2a3f5f\"},\"type\":\"carpet\"}],\"choropleth\":[{\"colorbar\":{\"outlinewidth\":0,\"ticks\":\"\"},\"type\":\"choropleth\"}],\"contour\":[{\"colorbar\":{\"outlinewidth\":0,\"ticks\":\"\"},\"colorscale\":[[0.0,\"#0d0887\"],[0.1111111111111111,\"#46039f\"],[0.2222222222222222,\"#7201a8\"],[0.3333333333333333,\"#9c179e\"],[0.4444444444444444,\"#bd3786\"],[0.5555555555555556,\"#d8576b\"],[0.6666666666666666,\"#ed7953\"],[0.7777777777777778,\"#fb9f3a\"],[0.8888888888888888,\"#fdca26\"],[1.0,\"#f0f921\"]],\"type\":\"contour\"}],\"contourcarpet\":[{\"colorbar\":{\"outlinewidth\":0,\"ticks\":\"\"},\"type\":\"contourcarpet\"}],\"heatmap\":[{\"colorbar\":{\"outlinewidth\":0,\"ticks\":\"\"},\"colorscale\":[[0.0,\"#0d0887\"],[0.1111111111111111,\"#46039f\"],[0.2222222222222222,\"#7201a8\"],[0.3333333333333333,\"#9c179e\"],[0.4444444444444444,\"#bd3786\"],[0.5555555555555556,\"#d8576b\"],[0.6666666666666666,\"#ed7953\"],[0.7777777777777778,\"#fb9f3a\"],[0.8888888888888888,\"#fdca26\"],[1.0,\"#f0f921\"]],\"type\":\"heatmap\"}],\"heatmapgl\":[{\"colorbar\":{\"outlinewidth\":0,\"ticks\":\"\"},\"colorscale\":[[0.0,\"#0d0887\"],[0.1111111111111111,\"#46039f\"],[0.2222222222222222,\"#7201a8\"],[0.3333333333333333,\"#9c179e\"],[0.4444444444444444,\"#bd3786\"],[0.5555555555555556,\"#d8576b\"],[0.6666666666666666,\"#ed7953\"],[0.7777777777777778,\"#fb9f3a\"],[0.8888888888888888,\"#fdca26\"],[1.0,\"#f0f921\"]],\"type\":\"heatmapgl\"}],\"histogram\":[{\"marker\":{\"pattern\":{\"fillmode\":\"overlay\",\"size\":10,\"solidity\":0.2}},\"type\":\"histogram\"}],\"histogram2d\":[{\"colorbar\":{\"outlinewidth\":0,\"ticks\":\"\"},\"colorscale\":[[0.0,\"#0d0887\"],[0.1111111111111111,\"#46039f\"],[0.2222222222222222,\"#7201a8\"],[0.3333333333333333,\"#9c179e\"],[0.4444444444444444,\"#bd3786\"],[0.5555555555555556,\"#d8576b\"],[0.6666666666666666,\"#ed7953\"],[0.7777777777777778,\"#fb9f3a\"],[0.8888888888888888,\"#fdca26\"],[1.0,\"#f0f921\"]],\"type\":\"histogram2d\"}],\"histogram2dcontour\":[{\"colorbar\":{\"outlinewidth\":0,\"ticks\":\"\"},\"colorscale\":[[0.0,\"#0d0887\"],[0.1111111111111111,\"#46039f\"],[0.2222222222222222,\"#7201a8\"],[0.3333333333333333,\"#9c179e\"],[0.4444444444444444,\"#bd3786\"],[0.5555555555555556,\"#d8576b\"],[0.6666666666666666,\"#ed7953\"],[0.7777777777777778,\"#fb9f3a\"],[0.8888888888888888,\"#fdca26\"],[1.0,\"#f0f921\"]],\"type\":\"histogram2dcontour\"}],\"mesh3d\":[{\"colorbar\":{\"outlinewidth\":0,\"ticks\":\"\"},\"type\":\"mesh3d\"}],\"parcoords\":[{\"line\":{\"colorbar\":{\"outlinewidth\":0,\"ticks\":\"\"}},\"type\":\"parcoords\"}],\"pie\":[{\"automargin\":true,\"type\":\"pie\"}],\"scatter\":[{\"marker\":{\"colorbar\":{\"outlinewidth\":0,\"ticks\":\"\"}},\"type\":\"scatter\"}],\"scatter3d\":[{\"line\":{\"colorbar\":{\"outlinewidth\":0,\"ticks\":\"\"}},\"marker\":{\"colorbar\":{\"outlinewidth\":0,\"ticks\":\"\"}},\"type\":\"scatter3d\"}],\"scattercarpet\":[{\"marker\":{\"colorbar\":{\"outlinewidth\":0,\"ticks\":\"\"}},\"type\":\"scattercarpet\"}],\"scattergeo\":[{\"marker\":{\"colorbar\":{\"outlinewidth\":0,\"ticks\":\"\"}},\"type\":\"scattergeo\"}],\"scattergl\":[{\"marker\":{\"colorbar\":{\"outlinewidth\":0,\"ticks\":\"\"}},\"type\":\"scattergl\"}],\"scattermapbox\":[{\"marker\":{\"colorbar\":{\"outlinewidth\":0,\"ticks\":\"\"}},\"type\":\"scattermapbox\"}],\"scatterpolar\":[{\"marker\":{\"colorbar\":{\"outlinewidth\":0,\"ticks\":\"\"}},\"type\":\"scatterpolar\"}],\"scatterpolargl\":[{\"marker\":{\"colorbar\":{\"outlinewidth\":0,\"ticks\":\"\"}},\"type\":\"scatterpolargl\"}],\"scatterternary\":[{\"marker\":{\"colorbar\":{\"outlinewidth\":0,\"ticks\":\"\"}},\"type\":\"scatterternary\"}],\"surface\":[{\"colorbar\":{\"outlinewidth\":0,\"ticks\":\"\"},\"colorscale\":[[0.0,\"#0d0887\"],[0.1111111111111111,\"#46039f\"],[0.2222222222222222,\"#7201a8\"],[0.3333333333333333,\"#9c179e\"],[0.4444444444444444,\"#bd3786\"],[0.5555555555555556,\"#d8576b\"],[0.6666666666666666,\"#ed7953\"],[0.7777777777777778,\"#fb9f3a\"],[0.8888888888888888,\"#fdca26\"],[1.0,\"#f0f921\"]],\"type\":\"surface\"}],\"table\":[{\"cells\":{\"fill\":{\"color\":\"#EBF0F8\"},\"line\":{\"color\":\"white\"}},\"header\":{\"fill\":{\"color\":\"#C8D4E3\"},\"line\":{\"color\":\"white\"}},\"type\":\"table\"}]},\"layout\":{\"annotationdefaults\":{\"arrowcolor\":\"#2a3f5f\",\"arrowhead\":0,\"arrowwidth\":1},\"autotypenumbers\":\"strict\",\"coloraxis\":{\"colorbar\":{\"outlinewidth\":0,\"ticks\":\"\"}},\"colorscale\":{\"diverging\":[[0,\"#8e0152\"],[0.1,\"#c51b7d\"],[0.2,\"#de77ae\"],[0.3,\"#f1b6da\"],[0.4,\"#fde0ef\"],[0.5,\"#f7f7f7\"],[0.6,\"#e6f5d0\"],[0.7,\"#b8e186\"],[0.8,\"#7fbc41\"],[0.9,\"#4d9221\"],[1,\"#276419\"]],\"sequential\":[[0.0,\"#0d0887\"],[0.1111111111111111,\"#46039f\"],[0.2222222222222222,\"#7201a8\"],[0.3333333333333333,\"#9c179e\"],[0.4444444444444444,\"#bd3786\"],[0.5555555555555556,\"#d8576b\"],[0.6666666666666666,\"#ed7953\"],[0.7777777777777778,\"#fb9f3a\"],[0.8888888888888888,\"#fdca26\"],[1.0,\"#f0f921\"]],\"sequentialminus\":[[0.0,\"#0d0887\"],[0.1111111111111111,\"#46039f\"],[0.2222222222222222,\"#7201a8\"],[0.3333333333333333,\"#9c179e\"],[0.4444444444444444,\"#bd3786\"],[0.5555555555555556,\"#d8576b\"],[0.6666666666666666,\"#ed7953\"],[0.7777777777777778,\"#fb9f3a\"],[0.8888888888888888,\"#fdca26\"],[1.0,\"#f0f921\"]]},\"colorway\":[\"#636efa\",\"#EF553B\",\"#00cc96\",\"#ab63fa\",\"#FFA15A\",\"#19d3f3\",\"#FF6692\",\"#B6E880\",\"#FF97FF\",\"#FECB52\"],\"font\":{\"color\":\"#2a3f5f\"},\"geo\":{\"bgcolor\":\"white\",\"lakecolor\":\"white\",\"landcolor\":\"#E5ECF6\",\"showlakes\":true,\"showland\":true,\"subunitcolor\":\"white\"},\"hoverlabel\":{\"align\":\"left\"},\"hovermode\":\"closest\",\"mapbox\":{\"style\":\"light\"},\"paper_bgcolor\":\"white\",\"plot_bgcolor\":\"#E5ECF6\",\"polar\":{\"angularaxis\":{\"gridcolor\":\"white\",\"linecolor\":\"white\",\"ticks\":\"\"},\"bgcolor\":\"#E5ECF6\",\"radialaxis\":{\"gridcolor\":\"white\",\"linecolor\":\"white\",\"ticks\":\"\"}},\"scene\":{\"xaxis\":{\"backgroundcolor\":\"#E5ECF6\",\"gridcolor\":\"white\",\"gridwidth\":2,\"linecolor\":\"white\",\"showbackground\":true,\"ticks\":\"\",\"zerolinecolor\":\"white\"},\"yaxis\":{\"backgroundcolor\":\"#E5ECF6\",\"gridcolor\":\"white\",\"gridwidth\":2,\"linecolor\":\"white\",\"showbackground\":true,\"ticks\":\"\",\"zerolinecolor\":\"white\"},\"zaxis\":{\"backgroundcolor\":\"#E5ECF6\",\"gridcolor\":\"white\",\"gridwidth\":2,\"linecolor\":\"white\",\"showbackground\":true,\"ticks\":\"\",\"zerolinecolor\":\"white\"}},\"shapedefaults\":{\"line\":{\"color\":\"#2a3f5f\"}},\"ternary\":{\"aaxis\":{\"gridcolor\":\"white\",\"linecolor\":\"white\",\"ticks\":\"\"},\"baxis\":{\"gridcolor\":\"white\",\"linecolor\":\"white\",\"ticks\":\"\"},\"bgcolor\":\"#E5ECF6\",\"caxis\":{\"gridcolor\":\"white\",\"linecolor\":\"white\",\"ticks\":\"\"}},\"title\":{\"x\":0.05},\"xaxis\":{\"automargin\":true,\"gridcolor\":\"white\",\"linecolor\":\"white\",\"ticks\":\"\",\"title\":{\"standoff\":15},\"zerolinecolor\":\"white\",\"zerolinewidth\":2},\"yaxis\":{\"automargin\":true,\"gridcolor\":\"white\",\"linecolor\":\"white\",\"ticks\":\"\",\"title\":{\"standoff\":15},\"zerolinecolor\":\"white\",\"zerolinewidth\":2}}},\"xaxis\":{\"anchor\":\"y\",\"domain\":[0.0,1.0],\"title\":{\"text\":\"GDP per capita ($)\"},\"type\":\"log\",\"range\":[2.849597167870409,5.016166495751423]},\"yaxis\":{\"anchor\":\"x\",\"domain\":[0.0,1.0],\"title\":{\"text\":\"Children per woman\"},\"range\":[0.631,7.501]},\"legend\":{\"title\":{\"text\":\"Continent\"},\"tracegroupgap\":0},\"title\":{\"text\":\"Children per woman vs. GDP per capita, 2017\"}},                        {\"responsive\": true}                    ).then(function(){\n",
       "                            \n",
       "var gd = document.getElementById('efab1084-90a0-4f31-a076-aa521e72992d');\n",
       "var x = new MutationObserver(function (mutations, observer) {{\n",
       "        var display = window.getComputedStyle(gd).display;\n",
       "        if (!display || display === 'none') {{\n",
       "            console.log([gd, 'removed!']);\n",
       "            Plotly.purge(gd);\n",
       "            observer.disconnect();\n",
       "        }}\n",
       "}});\n",
       "\n",
       "// Listen for the removal of the full notebook cells\n",
       "var notebookContainer = gd.closest('#notebook-container');\n",
       "if (notebookContainer) {{\n",
       "    x.observe(notebookContainer, {childList: true});\n",
       "}}\n",
       "\n",
       "// Listen for the clearing of the current output cell\n",
       "var outputEl = gd.closest('.output');\n",
       "if (outputEl) {{\n",
       "    x.observe(outputEl, {childList: true});\n",
       "}}\n",
       "\n",
       "                        })                };                });            </script>        </div>"
      ]
     },
     "metadata": {},
     "output_type": "display_data"
    }
   ],
   "source": [
    "#Plot children per women vs. GDP per capita\n",
    "plotFigure(GDPperCapita('children-per-woman-by-gdp-per-capita.csv',\n",
    "          'Output-side real GDP per capita (gdppc_o) (PWT 9.1 (2019))',\n",
    "          'Estimates, 1950 - 2020: Annually interpolated demographic indicators - Total fertility (live births per woman)',\n",
    "          'Children per woman vs. GDP per capita'), 'GDP per capita ($)', \n",
    "           'Children per woman', 'Children per woman vs. GDP per capita', 20, pow(10,4), 0.5, 0.5, 7)"
   ]
  },
  {
   "cell_type": "code",
   "execution_count": 16,
   "metadata": {},
   "outputs": [
    {
     "name": "stdout",
     "output_type": "stream",
     "text": [
      "---------------------------------------------------------------------------------------------------------------------\n",
      "List of years for which data is available: \n",
      "\n",
      "[1950, 1951, 1952, 1953, 1954, 1955, 1956, 1957, 1958, 1959, 1960, 1961, 1962, 1963, 1964, 1965, 1966, 1967, 1968, 1969, 1970, 1971, 1972, 1973, 1974, 1975, 1976, 1977, 1978, 1979, 1980, 1981, 1982, 1983, 1984, 1985, 1986, 1987, 1988, 1989, 1990, 1991, 1992, 1993, 1994, 1995, 1996, 1997, 1998, 1999, 2000, 2001, 2002, 2003, 2004, 2005, 2006, 2007, 2008, 2009, 2010, 2011, 2012, 2013, 2014, 2015, 2016, 2017]\n",
      "---------------------------------------------------------------------------------------------------------------------\n",
      "Year of interest for the data \"Children per woman vs. GDP per capita\": \n",
      "2017\n",
      "---------------------------------------------------------------------------------------------------------------------\n",
      "GPD per capita median: 11815.036000 \n",
      "\n",
      "children per woman median: 2.157000 \n",
      "\n",
      "---------------------------------------------------------------------------------------------------------------------\n",
      "Figure 8 : Dataframe with countries having children per woman higher than the median and a GDP per capita lower than the median.\n"
     ]
    },
    {
     "data": {
      "text/html": [
       "<div>\n",
       "<style scoped>\n",
       "    .dataframe tbody tr th:only-of-type {\n",
       "        vertical-align: middle;\n",
       "    }\n",
       "\n",
       "    .dataframe tbody tr th {\n",
       "        vertical-align: top;\n",
       "    }\n",
       "\n",
       "    .dataframe thead th {\n",
       "        text-align: right;\n",
       "    }\n",
       "</style>\n",
       "<table border=\"1\" class=\"dataframe\">\n",
       "  <thead>\n",
       "    <tr style=\"text-align: right;\">\n",
       "      <th></th>\n",
       "      <th>Entity</th>\n",
       "      <th>Year</th>\n",
       "      <th>Output-side real GDP per capita (gdppc_o) (PWT 9.1 (2019))</th>\n",
       "      <th>Estimates, 1950 - 2020: Annually interpolated demographic indicators - Total fertility (live births per woman)</th>\n",
       "    </tr>\n",
       "  </thead>\n",
       "  <tbody>\n",
       "    <tr>\n",
       "      <th>6</th>\n",
       "      <td>Angola</td>\n",
       "      <td>2017</td>\n",
       "      <td>4993.8457</td>\n",
       "      <td>5.600</td>\n",
       "    </tr>\n",
       "    <tr>\n",
       "      <th>24</th>\n",
       "      <td>Belize</td>\n",
       "      <td>2017</td>\n",
       "      <td>6777.0044</td>\n",
       "      <td>2.346</td>\n",
       "    </tr>\n",
       "    <tr>\n",
       "      <th>25</th>\n",
       "      <td>Benin</td>\n",
       "      <td>2017</td>\n",
       "      <td>2113.9355</td>\n",
       "      <td>4.906</td>\n",
       "    </tr>\n",
       "    <tr>\n",
       "      <th>28</th>\n",
       "      <td>Bolivia</td>\n",
       "      <td>2017</td>\n",
       "      <td>5838.0708</td>\n",
       "      <td>2.777</td>\n",
       "    </tr>\n",
       "    <tr>\n",
       "      <th>36</th>\n",
       "      <td>Burkina Faso</td>\n",
       "      <td>2017</td>\n",
       "      <td>1628.4565</td>\n",
       "      <td>5.271</td>\n",
       "    </tr>\n",
       "    <tr>\n",
       "      <th>...</th>\n",
       "      <td>...</td>\n",
       "      <td>...</td>\n",
       "      <td>...</td>\n",
       "      <td>...</td>\n",
       "    </tr>\n",
       "    <tr>\n",
       "      <th>270</th>\n",
       "      <td>Uzbekistan</td>\n",
       "      <td>2017</td>\n",
       "      <td>9595.3623</td>\n",
       "      <td>2.425</td>\n",
       "    </tr>\n",
       "    <tr>\n",
       "      <th>273</th>\n",
       "      <td>Venezuela</td>\n",
       "      <td>2017</td>\n",
       "      <td>7696.6719</td>\n",
       "      <td>2.294</td>\n",
       "    </tr>\n",
       "    <tr>\n",
       "      <th>280</th>\n",
       "      <td>Yemen</td>\n",
       "      <td>2017</td>\n",
       "      <td>1850.2374</td>\n",
       "      <td>3.890</td>\n",
       "    </tr>\n",
       "    <tr>\n",
       "      <th>281</th>\n",
       "      <td>Zambia</td>\n",
       "      <td>2017</td>\n",
       "      <td>3699.0112</td>\n",
       "      <td>4.718</td>\n",
       "    </tr>\n",
       "    <tr>\n",
       "      <th>282</th>\n",
       "      <td>Zimbabwe</td>\n",
       "      <td>2017</td>\n",
       "      <td>1871.8087</td>\n",
       "      <td>3.707</td>\n",
       "    </tr>\n",
       "  </tbody>\n",
       "</table>\n",
       "<p>71 rows × 4 columns</p>\n",
       "</div>"
      ],
      "text/plain": [
       "           Entity  Year  \\\n",
       "6          Angola  2017   \n",
       "24         Belize  2017   \n",
       "25          Benin  2017   \n",
       "28        Bolivia  2017   \n",
       "36   Burkina Faso  2017   \n",
       "..            ...   ...   \n",
       "270    Uzbekistan  2017   \n",
       "273     Venezuela  2017   \n",
       "280         Yemen  2017   \n",
       "281        Zambia  2017   \n",
       "282      Zimbabwe  2017   \n",
       "\n",
       "     Output-side real GDP per capita (gdppc_o) (PWT 9.1 (2019))  \\\n",
       "6                                            4993.8457            \n",
       "24                                           6777.0044            \n",
       "25                                           2113.9355            \n",
       "28                                           5838.0708            \n",
       "36                                           1628.4565            \n",
       "..                                                 ...            \n",
       "270                                          9595.3623            \n",
       "273                                          7696.6719            \n",
       "280                                          1850.2374            \n",
       "281                                          3699.0112            \n",
       "282                                          1871.8087            \n",
       "\n",
       "     Estimates, 1950 - 2020: Annually interpolated demographic indicators - Total fertility (live births per woman)  \n",
       "6                                                5.600                                                               \n",
       "24                                               2.346                                                               \n",
       "25                                               4.906                                                               \n",
       "28                                               2.777                                                               \n",
       "36                                               5.271                                                               \n",
       "..                                                 ...                                                               \n",
       "270                                              2.425                                                               \n",
       "273                                              2.294                                                               \n",
       "280                                              3.890                                                               \n",
       "281                                              4.718                                                               \n",
       "282                                              3.707                                                               \n",
       "\n",
       "[71 rows x 4 columns]"
      ]
     },
     "metadata": {},
     "output_type": "display_data"
    }
   ],
   "source": [
    "medianFilter(GDPperCapita('children-per-woman-by-gdp-per-capita.csv',\n",
    "          'Output-side real GDP per capita (gdppc_o) (PWT 9.1 (2019))',\n",
    "          'Estimates, 1950 - 2020: Annually interpolated demographic indicators - Total fertility (live births per woman)',\n",
    "          'Children per woman vs. GDP per capita'), 'children per woman', 8, 'above')"
   ]
  },
  {
   "cell_type": "markdown",
   "metadata": {},
   "source": [
    "---"
   ]
  },
  {
   "cell_type": "markdown",
   "metadata": {},
   "source": [
    "### 3. Share of adults who smoke vs. GDP per capita\n",
    "**_Is there a trend between the share of adults who smoke vs. GDP per capita ?_** <br>\n",
    "The data is scattered compared to datasets previously analysed. The share of adults who smoke appears to be the lowest in African countries, where the GDP per capita is the lowest. Countries with a high GDP per capita have a slightly higher share of smokers than countries in Africa.  The countries with the highest share of adults who smoke have a GDP per capita lower than the median (\\\\$14,253). Apart from these observations, no specific conclusions can be drawn because R^2 is close to zero, which indicates that the data is in principle not suitable for regression. This also implies the correlation between the share of adults who smoke and the GDP per capita is low."
   ]
  },
  {
   "cell_type": "code",
   "execution_count": 18,
   "metadata": {},
   "outputs": [
    {
     "name": "stdout",
     "output_type": "stream",
     "text": [
      "---------------------------------------------------------------------------------------------------------------------\n",
      "List of years for which data is available: \n",
      "\n",
      "[2007, 2010, 2012, 2014, 2016, 2018]\n",
      "---------------------------------------------------------------------------------------------------------------------\n",
      "Year of interest for the data \"Share of adults who are smoking vs. GDP per capita\": \n",
      "2018\n",
      "---------------------------------------------------------------------------------------------------------------------\n",
      "Figure 9 :\n"
     ]
    },
    {
     "data": {
      "application/vnd.plotly.v1+json": {
       "config": {
        "plotlyServerURL": "https://plot.ly"
       },
       "data": [
        {
         "customdata": [
          [
           "Albania"
          ],
          [
           "Austria"
          ],
          [
           "Belarus"
          ],
          [
           "Belgium"
          ],
          [
           "Bosnia and Herzegovina"
          ],
          [
           "Bulgaria"
          ],
          [
           "Croatia"
          ],
          [
           "Cyprus"
          ],
          [
           "Czechia"
          ],
          [
           "Denmark"
          ],
          [
           "Estonia"
          ],
          [
           "Finland"
          ],
          [
           "France"
          ],
          [
           "Germany"
          ],
          [
           "Greece"
          ],
          [
           "Hungary"
          ],
          [
           "Iceland"
          ],
          [
           "Ireland"
          ],
          [
           "Italy"
          ],
          [
           "Latvia"
          ],
          [
           "Lithuania"
          ],
          [
           "Luxembourg"
          ],
          [
           "Malta"
          ],
          [
           "Moldova"
          ],
          [
           "Netherlands"
          ],
          [
           "Norway"
          ],
          [
           "Poland"
          ],
          [
           "Portugal"
          ],
          [
           "Romania"
          ],
          [
           "Russia"
          ],
          [
           "Serbia"
          ],
          [
           "Slovakia"
          ],
          [
           "Slovenia"
          ],
          [
           "Spain"
          ],
          [
           "Sweden"
          ],
          [
           "Switzerland"
          ],
          [
           "Ukraine"
          ],
          [
           "United Kingdom"
          ]
         ],
         "hovertemplate": "Continent=Europe<br>GDP per capita ($)=%{x}<br>Adults who smoke (% of adults)=%{y}<br>Entity=%{customdata[0]}<extra></extra>",
         "legendgroup": "Europe",
         "marker": {
          "color": "#636efa",
          "symbol": "circle"
         },
         "mode": "markers",
         "name": "Europe",
         "orientation": "v",
         "showlegend": true,
         "type": "scatter",
         "x": [
          13323.7533559132,
          55297.6182880367,
          18885.2354999668,
          51110.9584679336,
          14386.7318547663,
          22208.4522754771,
          27799.8433225132,
          39559.4879646749,
          39932.992193117,
          56281.2888680368,
          35208.0239637019,
          48130.2923921114,
          45251.9054105957,
          53463.4014817389,
          29150.6944922443,
          31095.557503677,
          56722.1193741156,
          84303.3408922937,
          42052.5563822519,
          30036.0865499334,
          35427.4618636641,
          113589.670473448,
          43313.4770253615,
          12363.1468378401,
          56060.9136269404,
          64341.2589026158,
          31674.1316243417,
          34040.7255617749,
          28523.4731832065,
          26656.4095416865,
          17452.7958990327,
          31132.5729674338,
          37968.3520620285,
          40312.5475864011,
          52349.2924275599,
          70663.4875973954,
          12338.0024454764,
          46037.9005384222
         ],
         "xaxis": "x",
         "y": [
          29.2,
          29.1,
          26.6,
          25,
          38.3,
          38.9,
          36.6,
          36.7,
          31.5,
          18.6,
          30.5,
          19.7,
          34.6,
          28,
          39.1,
          30.6,
          13.8,
          23.6,
          23.4,
          36.7,
          27.1,
          21.7,
          25.1,
          25.3,
          23.4,
          13,
          26,
          27.9,
          25.5,
          28.3,
          40.6,
          32.3,
          22.7,
          27.9,
          28.8,
          25.1,
          25.5,
          19.2
         ],
         "yaxis": "y"
        },
        {
         "customdata": [
          [
           "Algeria"
          ],
          [
           "Benin"
          ],
          [
           "Botswana"
          ],
          [
           "Burkina Faso"
          ],
          [
           "Burundi"
          ],
          [
           "Cameroon"
          ],
          [
           "Chad"
          ],
          [
           "Comoros"
          ],
          [
           "Congo"
          ],
          [
           "Cote d'Ivoire"
          ],
          [
           "Egypt"
          ],
          [
           "Eswatini"
          ],
          [
           "Ethiopia"
          ],
          [
           "Gambia"
          ],
          [
           "Ghana"
          ],
          [
           "Kenya"
          ],
          [
           "Lesotho"
          ],
          [
           "Liberia"
          ],
          [
           "Madagascar"
          ],
          [
           "Malawi"
          ],
          [
           "Mali"
          ],
          [
           "Mauritius"
          ],
          [
           "Morocco"
          ],
          [
           "Mozambique"
          ],
          [
           "Namibia"
          ],
          [
           "Niger"
          ],
          [
           "Nigeria"
          ],
          [
           "Rwanda"
          ],
          [
           "Sao Tome and Principe"
          ],
          [
           "Senegal"
          ],
          [
           "Seychelles"
          ],
          [
           "Sierra Leone"
          ],
          [
           "South Africa"
          ],
          [
           "Tanzania"
          ],
          [
           "Togo"
          ],
          [
           "Tunisia"
          ],
          [
           "Uganda"
          ],
          [
           "Zambia"
          ],
          [
           "Zimbabwe"
          ]
         ],
         "hovertemplate": "Continent=Africa<br>GDP per capita ($)=%{x}<br>Adults who smoke (% of adults)=%{y}<br>Entity=%{customdata[0]}<extra></extra>",
         "legendgroup": "Africa",
         "marker": {
          "color": "#EF553B",
          "symbol": "circle"
         },
         "mode": "markers",
         "name": "Africa",
         "orientation": "v",
         "showlegend": true,
         "type": "scatter",
         "x": [
          11642.1983450506,
          3160.7806702321,
          17634.6561910867,
          2120.33026783506,
          761.524125241416,
          3603.54827506808,
          1576.32111465904,
          3066.83784677933,
          3933.425550952,
          5033.47882607719,
          11366.3355206681,
          8520.59238619335,
          2103.51585836696,
          2158.07755816639,
          5177.88398862782,
          4203.83827267811,
          2614.65884916972,
          1497.00478720289,
          1592.05355843859,
          1471.03724879602,
          2283.70241285673,
          22208.1381171868,
          7446.93622037578,
          1289.73594800556,
          10092.258820242,
          1200.97246385835,
          5155.07599367409,
          2088.74922433298,
          3993.27879583907,
          3309.48617330672,
          27342.1616519905,
          1663.29348036377,
          12627.9285840445,
          2590.20113826159,
          2061.33417572853,
          10763.7297838206,
          2121.96781993514,
          3521.5420629895,
          3341.66541766316
         ],
         "xaxis": "x",
         "y": [
          18.8,
          7.2,
          23.7,
          16,
          12.6,
          9.3,
          11.8,
          19.5,
          16.1,
          13,
          21.4,
          10.7,
          4.6,
          14.4,
          3.7,
          11.8,
          29.7,
          8.4,
          28.9,
          12.8,
          12,
          26.9,
          14.7,
          14.4,
          17.9,
          8.6,
          4.8,
          13.3,
          5.4,
          9.1,
          21.1,
          19.8,
          31.4,
          13.3,
          7.6,
          26,
          9.8,
          14.7,
          13.9
         ],
         "yaxis": "y"
        },
        {
         "customdata": [
          [
           "Argentina"
          ],
          [
           "Brazil"
          ],
          [
           "Chile"
          ],
          [
           "Colombia"
          ],
          [
           "Guyana"
          ],
          [
           "Paraguay"
          ],
          [
           "Peru"
          ],
          [
           "Uruguay"
          ]
         ],
         "hovertemplate": "Continent=South America<br>GDP per capita ($)=%{x}<br>Adults who smoke (% of adults)=%{y}<br>Entity=%{customdata[0]}<extra></extra>",
         "legendgroup": "South America",
         "marker": {
          "color": "#00cc96",
          "symbol": "circle"
         },
         "mode": "markers",
         "name": "South America",
         "orientation": "v",
         "showlegend": true,
         "type": "scatter",
         "x": [
          22759.3985583341,
          14668.2561636292,
          25028.9099914542,
          14314.8555765268,
          12477.5767111562,
          12827.7080209236,
          12781.4164435302,
          23035.0833880454
         ],
         "xaxis": "x",
         "y": [
          21.8,
          16.5,
          44.7,
          7.9,
          12.2,
          12.8,
          9.6,
          21.8
         ],
         "yaxis": "y"
        },
        {
         "customdata": [
          [
           "Armenia"
          ],
          [
           "Azerbaijan"
          ],
          [
           "Bahrain"
          ],
          [
           "Bangladesh"
          ],
          [
           "Brunei"
          ],
          [
           "Cambodia"
          ],
          [
           "China"
          ],
          [
           "Georgia"
          ],
          [
           "India"
          ],
          [
           "Indonesia"
          ],
          [
           "Iran"
          ],
          [
           "Iraq"
          ],
          [
           "Israel"
          ],
          [
           "Japan"
          ],
          [
           "Kazakhstan"
          ],
          [
           "Kuwait"
          ],
          [
           "Kyrgyzstan"
          ],
          [
           "Laos"
          ],
          [
           "Lebanon"
          ],
          [
           "Malaysia"
          ],
          [
           "Mongolia"
          ],
          [
           "Myanmar"
          ],
          [
           "Nepal"
          ],
          [
           "Oman"
          ],
          [
           "Pakistan"
          ],
          [
           "Philippines"
          ],
          [
           "Qatar"
          ],
          [
           "Saudi Arabia"
          ],
          [
           "Singapore"
          ],
          [
           "South Korea"
          ],
          [
           "Sri Lanka"
          ],
          [
           "Thailand"
          ],
          [
           "Timor"
          ],
          [
           "Turkey"
          ],
          [
           "United Arab Emirates"
          ],
          [
           "Uzbekistan"
          ]
         ],
         "hovertemplate": "Continent=Asia<br>GDP per capita ($)=%{x}<br>Adults who smoke (% of adults)=%{y}<br>Entity=%{customdata[0]}<extra></extra>",
         "legendgroup": "Asia",
         "marker": {
          "color": "#ab63fa",
          "symbol": "circle"
         },
         "mode": "markers",
         "name": "Asia",
         "orientation": "v",
         "showlegend": true,
         "type": "scatter",
         "x": [
          12715.1089539751,
          14209.6494059309,
          46200.445580954,
          4440.85547046826,
          60389.1846472589,
          4159.33819437034,
          15242.9858575834,
          14253.4089858441,
          6518.84505546914,
          11371.7255560847,
          13471.8606376875,
          10346.2129581855,
          39418.3453068224,
          41182.3802046593,
          25544.3447563035,
          50478.5875050676,
          5133.1519146081,
          7592.82947474583,
          15588.1528714896,
          27558.1369502408,
          11915.5567471637,
          5029.1880858737,
          3773.71591761441,
          28350.9435298546,
          4739.47271266276,
          8516.13654897274,
          90970.0609016321,
          47592.7671473292,
          98222.846041782,
          41948.3460057222,
          12860.3208303539,
          18095.7365704368,
          3051.66811727864,
          28312.6834243604,
          66968.2211775042,
          6755.48097366685
         ],
         "xaxis": "x",
         "y": [
          26.7,
          19.6,
          25.1,
          39.1,
          15.5,
          21.8,
          24.7,
          29.7,
          27,
          37.9,
          14,
          22.2,
          25.5,
          21.9,
          24.4,
          22.1,
          27.9,
          37.8,
          42.6,
          21.8,
          27.6,
          45.5,
          31.9,
          9.6,
          20,
          24.3,
          14,
          16.6,
          16.5,
          22,
          22.9,
          22.8,
          38.2,
          29.3,
          18.2,
          12.3
         ],
         "yaxis": "y"
        },
        {
         "customdata": [
          [
           "Australia"
          ],
          [
           "Fiji"
          ],
          [
           "Kiribati"
          ],
          [
           "Nauru"
          ],
          [
           "New Zealand"
          ],
          [
           "Palau"
          ],
          [
           "Samoa"
          ],
          [
           "Solomon Islands"
          ],
          [
           "Tonga"
          ],
          [
           "Tuvalu"
          ],
          [
           "Vanuatu"
          ]
         ],
         "hovertemplate": "Continent=Oceania<br>GDP per capita ($)=%{x}<br>Adults who smoke (% of adults)=%{y}<br>Entity=%{customdata[0]}<extra></extra>",
         "legendgroup": "Oceania",
         "marker": {
          "color": "#FFA15A",
          "symbol": "circle"
         },
         "mode": "markers",
         "name": "Oceania",
         "orientation": "v",
         "showlegend": true,
         "type": "scatter",
         "x": [
          49151.6887104846,
          13846.1588353285,
          2254.05923175595,
          13636.3609415279,
          42866.1272276586,
          18444.3077619985,
          6322.2089973185,
          2697.64643055486,
          6411.28936778647,
          3945.56367272662,
          3093.46154723291
         ],
         "xaxis": "x",
         "y": [
          16.2,
          26.7,
          52,
          52.1,
          14.8,
          23.7,
          28.9,
          37.9,
          30.2,
          48.7,
          24.1
         ],
         "yaxis": "y"
        },
        {
         "customdata": [
          [
           "Bahamas"
          ],
          [
           "Barbados"
          ],
          [
           "Canada"
          ],
          [
           "Costa Rica"
          ],
          [
           "Dominican Republic"
          ],
          [
           "El Salvador"
          ],
          [
           "Haiti"
          ],
          [
           "Jamaica"
          ],
          [
           "Mexico"
          ],
          [
           "Panama"
          ],
          [
           "United States"
          ]
         ],
         "hovertemplate": "Continent=North America<br>GDP per capita ($)=%{x}<br>Adults who smoke (% of adults)=%{y}<br>Entity=%{customdata[0]}<extra></extra>",
         "legendgroup": "North America",
         "marker": {
          "color": "#19d3f3",
          "symbol": "circle"
         },
         "mode": "markers",
         "name": "North America",
         "orientation": "v",
         "showlegend": true,
         "type": "scatter",
         "x": [
          37019.9950489508,
          15674.9043195592,
          48796.8137814007,
          20559.8604252658,
          17711.7955337583,
          8614.01795915499,
          2992.31041114318,
          9734.86228780542,
          19928.3956618582,
          31012.9461549459,
          61585.7560382102
         ],
         "xaxis": "x",
         "y": [
          10.9,
          8.7,
          17.5,
          9.8,
          9.4,
          12.7,
          8.3,
          11,
          13.9,
          6.9,
          25.1
         ],
         "yaxis": "y"
        },
        {
         "hovertemplate": "<b>OLS trendline</b><br>Prevalence of current tobacco use (% of adults) = 3.99875 * log10(GDP per capita, PPP (constant 2017 international $)) + 5.72921<br>R<sup>2</sup>=0.039024<br><br>GDP per capita ($)=%{x}<br>Adults who smoke (% of adults)=%{y} <b>(trend)</b><extra></extra>",
         "legendgroup": "Overall Trendline",
         "line": {
          "color": "black"
         },
         "mode": "lines",
         "name": "Overall Trendline",
         "showlegend": true,
         "type": "scatter",
         "x": [
          761.524125241416,
          1200.97246385835,
          1289.73594800556,
          1471.03724879602,
          1497.00478720289,
          1576.32111465904,
          1592.05355843859,
          1663.29348036377,
          2061.33417572853,
          2088.74922433298,
          2103.51585836696,
          2120.33026783506,
          2121.96781993514,
          2158.07755816639,
          2254.05923175595,
          2283.70241285673,
          2590.20113826159,
          2614.65884916972,
          2697.64643055486,
          2992.31041114318,
          3051.66811727864,
          3066.83784677933,
          3093.46154723291,
          3160.7806702321,
          3309.48617330672,
          3341.66541766316,
          3521.5420629895,
          3603.54827506808,
          3773.71591761441,
          3933.425550952,
          3945.56367272662,
          3993.27879583907,
          4159.33819437034,
          4203.83827267811,
          4440.85547046826,
          4739.47271266276,
          5029.1880858737,
          5033.47882607719,
          5133.1519146081,
          5155.07599367409,
          5177.88398862782,
          6322.2089973185,
          6411.28936778647,
          6518.84505546914,
          6755.48097366685,
          7446.93622037578,
          7592.82947474583,
          8516.13654897274,
          8520.59238619335,
          8614.01795915499,
          9734.86228780542,
          10092.258820242,
          10346.2129581855,
          10763.7297838206,
          11366.3355206681,
          11371.7255560847,
          11642.1983450506,
          11915.5567471637,
          12338.0024454764,
          12363.1468378401,
          12477.5767111562,
          12627.9285840445,
          12715.1089539751,
          12781.4164435302,
          12827.7080209236,
          12860.3208303539,
          13323.7533559132,
          13471.8606376875,
          13636.3609415279,
          13846.1588353285,
          14209.6494059309,
          14253.4089858441,
          14314.8555765268,
          14386.7318547663,
          14668.2561636292,
          15242.9858575834,
          15588.1528714896,
          15674.9043195592,
          17452.7958990327,
          17634.6561910867,
          17711.7955337583,
          18095.7365704368,
          18444.3077619985,
          18885.2354999668,
          19928.3956618582,
          20559.8604252658,
          22208.1381171868,
          22208.4522754771,
          22759.3985583341,
          23035.0833880454,
          25028.9099914542,
          25544.3447563035,
          26656.4095416865,
          27342.1616519905,
          27558.1369502408,
          27799.8433225132,
          28312.6834243604,
          28350.9435298546,
          28523.4731832065,
          29150.6944922443,
          30036.0865499334,
          31012.9461549459,
          31095.557503677,
          31132.5729674338,
          31674.1316243417,
          34040.7255617749,
          35208.0239637019,
          35427.4618636641,
          37019.9950489508,
          37968.3520620285,
          39418.3453068224,
          39559.4879646749,
          39932.992193117,
          40312.5475864011,
          41182.3802046593,
          41948.3460057222,
          42052.5563822519,
          42866.1272276586,
          43313.4770253615,
          45251.9054105957,
          46037.9005384222,
          46200.445580954,
          47592.7671473292,
          48130.2923921114,
          48796.8137814007,
          49151.6887104846,
          50478.5875050676,
          51110.9584679336,
          52349.2924275599,
          53463.4014817389,
          55297.6182880367,
          56060.9136269404,
          56281.2888680368,
          56722.1193741156,
          60389.1846472589,
          61585.7560382102,
          64341.2589026158,
          66968.2211775042,
          70663.4875973954,
          84303.3408922937,
          90970.0609016321,
          98222.846041782,
          113589.670473448
         ],
         "xaxis": "x",
         "y": [
          17.25233457623045,
          18.043483962627626,
          18.167316141704063,
          18.39573595682789,
          18.426124502614663,
          18.515782396085534,
          18.533028910112883,
          18.609049911461877,
          18.981651117241356,
          19.00459551243808,
          19.01682963066849,
          19.03065618377307,
          19.031996885188505,
          19.061300714254024,
          19.13687011409778,
          19.15955974370746,
          19.378267061729865,
          19.39458811016939,
          19.448851074656005,
          19.628881070439576,
          19.662992998030916,
          19.671604351977706,
          19.68661527520854,
          19.724002103814826,
          19.803841902654774,
          19.82064620493915,
          19.911697310081657,
          19.951674628196418,
          20.031804931898385,
          20.1037892771202,
          20.109140085869313,
          20.130015841059787,
          20.200772056301844,
          20.219253322156774,
          20.31450600300674,
          20.42752410665309,
          20.530563191435384,
          20.532044198908437,
          20.566097003169702,
          20.573498499734562,
          20.58116507082788,
          20.927922439713996,
          20.95222093968055,
          20.98111299646139,
          21.043036040484115,
          21.212268396646742,
          21.245961876388403,
          21.445255247420835,
          21.446163655973585,
          21.46510164856494,
          21.677531176545763,
          21.740145806825424,
          21.783304404663923,
          21.852008348251147,
          21.9466094169764,
          21.947432751449007,
          21.98825444370099,
          22.028559183260576,
          22.08906225693856,
          22.092597849697952,
          22.108597715819222,
          22.12939866576577,
          22.14134679344793,
          22.15037955749881,
          22.156657911840703,
          22.161067477025007,
          22.22254731921118,
          22.241745285399638,
          22.262822300648416,
          22.289337268963976,
          22.33433936763248,
          22.339679229512875,
          22.347149781687975,
          22.355847767058712,
          22.389502557689276,
          22.45624786632763,
          22.495134107612287,
          22.50477205394462,
          22.691353976971136,
          22.70935627892171,
          22.716936273606315,
          22.75417929347479,
          22.787313280400717,
          22.82834059048806,
          22.92171103361965,
          22.975885341064227,
          23.109811285448984,
          23.109835851842753,
          23.152392455353976,
          23.173301927335004,
          23.3174653008265,
          23.352865519278033,
          23.42686984821185,
          23.470980790399892,
          23.484644534426536,
          23.499809754765067,
          23.53155453656423,
          23.53389973697064,
          23.54443599086636,
          23.582210140157805,
          23.63417160680882,
          23.68975288561927,
          23.69437272635291,
          23.696438746697225,
          23.72638816283761,
          23.851525277643425,
          23.910078283665612,
          23.920868451506728,
          23.997229768946852,
          24.041157557031894,
          24.106243709388643,
          24.112450850806646,
          24.128770498270107,
          24.145198910964858,
          24.1822720793894,
          24.214275632476443,
          24.218584521784607,
          24.251861471715166,
          24.26989101609371,
          24.34592245718816,
          24.375827635968044,
          24.381948331437066,
          24.433511327370383,
          24.45301538450645,
          24.4768997545374,
          24.489483720058494,
          24.535744211921823,
          24.557364755620043,
          24.598938878700864,
          24.635510488983726,
          24.69409147498979,
          24.7178989872326,
          24.72471230311917,
          24.73826171368544,
          24.847054456098576,
          24.881128213952152,
          24.957141479217903,
          25.02663651863334,
          25.119912482046303,
          25.426415216337368,
          25.558588558188127,
          25.691802888338188,
          25.94422901706878
         ],
         "yaxis": "y"
        }
       ],
       "layout": {
        "legend": {
         "title": {
          "text": "Continent"
         },
         "tracegroupgap": 0
        },
        "template": {
         "data": {
          "bar": [
           {
            "error_x": {
             "color": "#2a3f5f"
            },
            "error_y": {
             "color": "#2a3f5f"
            },
            "marker": {
             "line": {
              "color": "#E5ECF6",
              "width": 0.5
             },
             "pattern": {
              "fillmode": "overlay",
              "size": 10,
              "solidity": 0.2
             }
            },
            "type": "bar"
           }
          ],
          "barpolar": [
           {
            "marker": {
             "line": {
              "color": "#E5ECF6",
              "width": 0.5
             },
             "pattern": {
              "fillmode": "overlay",
              "size": 10,
              "solidity": 0.2
             }
            },
            "type": "barpolar"
           }
          ],
          "carpet": [
           {
            "aaxis": {
             "endlinecolor": "#2a3f5f",
             "gridcolor": "white",
             "linecolor": "white",
             "minorgridcolor": "white",
             "startlinecolor": "#2a3f5f"
            },
            "baxis": {
             "endlinecolor": "#2a3f5f",
             "gridcolor": "white",
             "linecolor": "white",
             "minorgridcolor": "white",
             "startlinecolor": "#2a3f5f"
            },
            "type": "carpet"
           }
          ],
          "choropleth": [
           {
            "colorbar": {
             "outlinewidth": 0,
             "ticks": ""
            },
            "type": "choropleth"
           }
          ],
          "contour": [
           {
            "colorbar": {
             "outlinewidth": 0,
             "ticks": ""
            },
            "colorscale": [
             [
              0,
              "#0d0887"
             ],
             [
              0.1111111111111111,
              "#46039f"
             ],
             [
              0.2222222222222222,
              "#7201a8"
             ],
             [
              0.3333333333333333,
              "#9c179e"
             ],
             [
              0.4444444444444444,
              "#bd3786"
             ],
             [
              0.5555555555555556,
              "#d8576b"
             ],
             [
              0.6666666666666666,
              "#ed7953"
             ],
             [
              0.7777777777777778,
              "#fb9f3a"
             ],
             [
              0.8888888888888888,
              "#fdca26"
             ],
             [
              1,
              "#f0f921"
             ]
            ],
            "type": "contour"
           }
          ],
          "contourcarpet": [
           {
            "colorbar": {
             "outlinewidth": 0,
             "ticks": ""
            },
            "type": "contourcarpet"
           }
          ],
          "heatmap": [
           {
            "colorbar": {
             "outlinewidth": 0,
             "ticks": ""
            },
            "colorscale": [
             [
              0,
              "#0d0887"
             ],
             [
              0.1111111111111111,
              "#46039f"
             ],
             [
              0.2222222222222222,
              "#7201a8"
             ],
             [
              0.3333333333333333,
              "#9c179e"
             ],
             [
              0.4444444444444444,
              "#bd3786"
             ],
             [
              0.5555555555555556,
              "#d8576b"
             ],
             [
              0.6666666666666666,
              "#ed7953"
             ],
             [
              0.7777777777777778,
              "#fb9f3a"
             ],
             [
              0.8888888888888888,
              "#fdca26"
             ],
             [
              1,
              "#f0f921"
             ]
            ],
            "type": "heatmap"
           }
          ],
          "heatmapgl": [
           {
            "colorbar": {
             "outlinewidth": 0,
             "ticks": ""
            },
            "colorscale": [
             [
              0,
              "#0d0887"
             ],
             [
              0.1111111111111111,
              "#46039f"
             ],
             [
              0.2222222222222222,
              "#7201a8"
             ],
             [
              0.3333333333333333,
              "#9c179e"
             ],
             [
              0.4444444444444444,
              "#bd3786"
             ],
             [
              0.5555555555555556,
              "#d8576b"
             ],
             [
              0.6666666666666666,
              "#ed7953"
             ],
             [
              0.7777777777777778,
              "#fb9f3a"
             ],
             [
              0.8888888888888888,
              "#fdca26"
             ],
             [
              1,
              "#f0f921"
             ]
            ],
            "type": "heatmapgl"
           }
          ],
          "histogram": [
           {
            "marker": {
             "pattern": {
              "fillmode": "overlay",
              "size": 10,
              "solidity": 0.2
             }
            },
            "type": "histogram"
           }
          ],
          "histogram2d": [
           {
            "colorbar": {
             "outlinewidth": 0,
             "ticks": ""
            },
            "colorscale": [
             [
              0,
              "#0d0887"
             ],
             [
              0.1111111111111111,
              "#46039f"
             ],
             [
              0.2222222222222222,
              "#7201a8"
             ],
             [
              0.3333333333333333,
              "#9c179e"
             ],
             [
              0.4444444444444444,
              "#bd3786"
             ],
             [
              0.5555555555555556,
              "#d8576b"
             ],
             [
              0.6666666666666666,
              "#ed7953"
             ],
             [
              0.7777777777777778,
              "#fb9f3a"
             ],
             [
              0.8888888888888888,
              "#fdca26"
             ],
             [
              1,
              "#f0f921"
             ]
            ],
            "type": "histogram2d"
           }
          ],
          "histogram2dcontour": [
           {
            "colorbar": {
             "outlinewidth": 0,
             "ticks": ""
            },
            "colorscale": [
             [
              0,
              "#0d0887"
             ],
             [
              0.1111111111111111,
              "#46039f"
             ],
             [
              0.2222222222222222,
              "#7201a8"
             ],
             [
              0.3333333333333333,
              "#9c179e"
             ],
             [
              0.4444444444444444,
              "#bd3786"
             ],
             [
              0.5555555555555556,
              "#d8576b"
             ],
             [
              0.6666666666666666,
              "#ed7953"
             ],
             [
              0.7777777777777778,
              "#fb9f3a"
             ],
             [
              0.8888888888888888,
              "#fdca26"
             ],
             [
              1,
              "#f0f921"
             ]
            ],
            "type": "histogram2dcontour"
           }
          ],
          "mesh3d": [
           {
            "colorbar": {
             "outlinewidth": 0,
             "ticks": ""
            },
            "type": "mesh3d"
           }
          ],
          "parcoords": [
           {
            "line": {
             "colorbar": {
              "outlinewidth": 0,
              "ticks": ""
             }
            },
            "type": "parcoords"
           }
          ],
          "pie": [
           {
            "automargin": true,
            "type": "pie"
           }
          ],
          "scatter": [
           {
            "marker": {
             "colorbar": {
              "outlinewidth": 0,
              "ticks": ""
             }
            },
            "type": "scatter"
           }
          ],
          "scatter3d": [
           {
            "line": {
             "colorbar": {
              "outlinewidth": 0,
              "ticks": ""
             }
            },
            "marker": {
             "colorbar": {
              "outlinewidth": 0,
              "ticks": ""
             }
            },
            "type": "scatter3d"
           }
          ],
          "scattercarpet": [
           {
            "marker": {
             "colorbar": {
              "outlinewidth": 0,
              "ticks": ""
             }
            },
            "type": "scattercarpet"
           }
          ],
          "scattergeo": [
           {
            "marker": {
             "colorbar": {
              "outlinewidth": 0,
              "ticks": ""
             }
            },
            "type": "scattergeo"
           }
          ],
          "scattergl": [
           {
            "marker": {
             "colorbar": {
              "outlinewidth": 0,
              "ticks": ""
             }
            },
            "type": "scattergl"
           }
          ],
          "scattermapbox": [
           {
            "marker": {
             "colorbar": {
              "outlinewidth": 0,
              "ticks": ""
             }
            },
            "type": "scattermapbox"
           }
          ],
          "scatterpolar": [
           {
            "marker": {
             "colorbar": {
              "outlinewidth": 0,
              "ticks": ""
             }
            },
            "type": "scatterpolar"
           }
          ],
          "scatterpolargl": [
           {
            "marker": {
             "colorbar": {
              "outlinewidth": 0,
              "ticks": ""
             }
            },
            "type": "scatterpolargl"
           }
          ],
          "scatterternary": [
           {
            "marker": {
             "colorbar": {
              "outlinewidth": 0,
              "ticks": ""
             }
            },
            "type": "scatterternary"
           }
          ],
          "surface": [
           {
            "colorbar": {
             "outlinewidth": 0,
             "ticks": ""
            },
            "colorscale": [
             [
              0,
              "#0d0887"
             ],
             [
              0.1111111111111111,
              "#46039f"
             ],
             [
              0.2222222222222222,
              "#7201a8"
             ],
             [
              0.3333333333333333,
              "#9c179e"
             ],
             [
              0.4444444444444444,
              "#bd3786"
             ],
             [
              0.5555555555555556,
              "#d8576b"
             ],
             [
              0.6666666666666666,
              "#ed7953"
             ],
             [
              0.7777777777777778,
              "#fb9f3a"
             ],
             [
              0.8888888888888888,
              "#fdca26"
             ],
             [
              1,
              "#f0f921"
             ]
            ],
            "type": "surface"
           }
          ],
          "table": [
           {
            "cells": {
             "fill": {
              "color": "#EBF0F8"
             },
             "line": {
              "color": "white"
             }
            },
            "header": {
             "fill": {
              "color": "#C8D4E3"
             },
             "line": {
              "color": "white"
             }
            },
            "type": "table"
           }
          ]
         },
         "layout": {
          "annotationdefaults": {
           "arrowcolor": "#2a3f5f",
           "arrowhead": 0,
           "arrowwidth": 1
          },
          "autotypenumbers": "strict",
          "coloraxis": {
           "colorbar": {
            "outlinewidth": 0,
            "ticks": ""
           }
          },
          "colorscale": {
           "diverging": [
            [
             0,
             "#8e0152"
            ],
            [
             0.1,
             "#c51b7d"
            ],
            [
             0.2,
             "#de77ae"
            ],
            [
             0.3,
             "#f1b6da"
            ],
            [
             0.4,
             "#fde0ef"
            ],
            [
             0.5,
             "#f7f7f7"
            ],
            [
             0.6,
             "#e6f5d0"
            ],
            [
             0.7,
             "#b8e186"
            ],
            [
             0.8,
             "#7fbc41"
            ],
            [
             0.9,
             "#4d9221"
            ],
            [
             1,
             "#276419"
            ]
           ],
           "sequential": [
            [
             0,
             "#0d0887"
            ],
            [
             0.1111111111111111,
             "#46039f"
            ],
            [
             0.2222222222222222,
             "#7201a8"
            ],
            [
             0.3333333333333333,
             "#9c179e"
            ],
            [
             0.4444444444444444,
             "#bd3786"
            ],
            [
             0.5555555555555556,
             "#d8576b"
            ],
            [
             0.6666666666666666,
             "#ed7953"
            ],
            [
             0.7777777777777778,
             "#fb9f3a"
            ],
            [
             0.8888888888888888,
             "#fdca26"
            ],
            [
             1,
             "#f0f921"
            ]
           ],
           "sequentialminus": [
            [
             0,
             "#0d0887"
            ],
            [
             0.1111111111111111,
             "#46039f"
            ],
            [
             0.2222222222222222,
             "#7201a8"
            ],
            [
             0.3333333333333333,
             "#9c179e"
            ],
            [
             0.4444444444444444,
             "#bd3786"
            ],
            [
             0.5555555555555556,
             "#d8576b"
            ],
            [
             0.6666666666666666,
             "#ed7953"
            ],
            [
             0.7777777777777778,
             "#fb9f3a"
            ],
            [
             0.8888888888888888,
             "#fdca26"
            ],
            [
             1,
             "#f0f921"
            ]
           ]
          },
          "colorway": [
           "#636efa",
           "#EF553B",
           "#00cc96",
           "#ab63fa",
           "#FFA15A",
           "#19d3f3",
           "#FF6692",
           "#B6E880",
           "#FF97FF",
           "#FECB52"
          ],
          "font": {
           "color": "#2a3f5f"
          },
          "geo": {
           "bgcolor": "white",
           "lakecolor": "white",
           "landcolor": "#E5ECF6",
           "showlakes": true,
           "showland": true,
           "subunitcolor": "white"
          },
          "hoverlabel": {
           "align": "left"
          },
          "hovermode": "closest",
          "mapbox": {
           "style": "light"
          },
          "paper_bgcolor": "white",
          "plot_bgcolor": "#E5ECF6",
          "polar": {
           "angularaxis": {
            "gridcolor": "white",
            "linecolor": "white",
            "ticks": ""
           },
           "bgcolor": "#E5ECF6",
           "radialaxis": {
            "gridcolor": "white",
            "linecolor": "white",
            "ticks": ""
           }
          },
          "scene": {
           "xaxis": {
            "backgroundcolor": "#E5ECF6",
            "gridcolor": "white",
            "gridwidth": 2,
            "linecolor": "white",
            "showbackground": true,
            "ticks": "",
            "zerolinecolor": "white"
           },
           "yaxis": {
            "backgroundcolor": "#E5ECF6",
            "gridcolor": "white",
            "gridwidth": 2,
            "linecolor": "white",
            "showbackground": true,
            "ticks": "",
            "zerolinecolor": "white"
           },
           "zaxis": {
            "backgroundcolor": "#E5ECF6",
            "gridcolor": "white",
            "gridwidth": 2,
            "linecolor": "white",
            "showbackground": true,
            "ticks": "",
            "zerolinecolor": "white"
           }
          },
          "shapedefaults": {
           "line": {
            "color": "#2a3f5f"
           }
          },
          "ternary": {
           "aaxis": {
            "gridcolor": "white",
            "linecolor": "white",
            "ticks": ""
           },
           "baxis": {
            "gridcolor": "white",
            "linecolor": "white",
            "ticks": ""
           },
           "bgcolor": "#E5ECF6",
           "caxis": {
            "gridcolor": "white",
            "linecolor": "white",
            "ticks": ""
           }
          },
          "title": {
           "x": 0.05
          },
          "xaxis": {
           "automargin": true,
           "gridcolor": "white",
           "linecolor": "white",
           "ticks": "",
           "title": {
            "standoff": 15
           },
           "zerolinecolor": "white",
           "zerolinewidth": 2
          },
          "yaxis": {
           "automargin": true,
           "gridcolor": "white",
           "linecolor": "white",
           "ticks": "",
           "title": {
            "standoff": 15
           },
           "zerolinecolor": "white",
           "zerolinewidth": 2
          }
         }
        },
        "title": {
         "text": "Share of adults who are smoking vs. GDP per capita, 2018"
        },
        "xaxis": {
         "anchor": "y",
         "domain": [
          0,
          1
         ],
         "range": [
          2.867186976959535,
          5.091982174281538
         ],
         "title": {
          "text": "GDP per capita ($)"
         },
         "type": "log"
        },
        "yaxis": {
         "anchor": "x",
         "domain": [
          0,
          1
         ],
         "range": [
          1.7000000000000002,
          54.1
         ],
         "title": {
          "text": "Adults who smoke (% of adults)"
         }
        }
       }
      },
      "text/html": [
       "<div>                            <div id=\"62146679-73d7-413a-b5f1-07b923db8245\" class=\"plotly-graph-div\" style=\"height:525px; width:100%;\"></div>            <script type=\"text/javascript\">                require([\"plotly\"], function(Plotly) {                    window.PLOTLYENV=window.PLOTLYENV || {};                                    if (document.getElementById(\"62146679-73d7-413a-b5f1-07b923db8245\")) {                    Plotly.newPlot(                        \"62146679-73d7-413a-b5f1-07b923db8245\",                        [{\"customdata\":[[\"Albania\"],[\"Austria\"],[\"Belarus\"],[\"Belgium\"],[\"Bosnia and Herzegovina\"],[\"Bulgaria\"],[\"Croatia\"],[\"Cyprus\"],[\"Czechia\"],[\"Denmark\"],[\"Estonia\"],[\"Finland\"],[\"France\"],[\"Germany\"],[\"Greece\"],[\"Hungary\"],[\"Iceland\"],[\"Ireland\"],[\"Italy\"],[\"Latvia\"],[\"Lithuania\"],[\"Luxembourg\"],[\"Malta\"],[\"Moldova\"],[\"Netherlands\"],[\"Norway\"],[\"Poland\"],[\"Portugal\"],[\"Romania\"],[\"Russia\"],[\"Serbia\"],[\"Slovakia\"],[\"Slovenia\"],[\"Spain\"],[\"Sweden\"],[\"Switzerland\"],[\"Ukraine\"],[\"United Kingdom\"]],\"hovertemplate\":\"Continent=Europe<br>GDP per capita ($)=%{x}<br>Adults who smoke (% of adults)=%{y}<br>Entity=%{customdata[0]}<extra></extra>\",\"legendgroup\":\"Europe\",\"marker\":{\"color\":\"#636efa\",\"symbol\":\"circle\"},\"mode\":\"markers\",\"name\":\"Europe\",\"orientation\":\"v\",\"showlegend\":true,\"x\":[13323.7533559132,55297.6182880367,18885.2354999668,51110.9584679336,14386.7318547663,22208.4522754771,27799.8433225132,39559.4879646749,39932.992193117,56281.2888680368,35208.0239637019,48130.2923921114,45251.9054105957,53463.4014817389,29150.6944922443,31095.557503677,56722.1193741156,84303.3408922937,42052.5563822519,30036.0865499334,35427.4618636641,113589.670473448,43313.4770253615,12363.1468378401,56060.9136269404,64341.2589026158,31674.1316243417,34040.7255617749,28523.4731832065,26656.4095416865,17452.7958990327,31132.5729674338,37968.3520620285,40312.5475864011,52349.2924275599,70663.4875973954,12338.0024454764,46037.9005384222],\"xaxis\":\"x\",\"y\":[29.2,29.1,26.6,25.0,38.3,38.9,36.6,36.7,31.5,18.6,30.5,19.7,34.6,28.0,39.1,30.6,13.8,23.6,23.4,36.7,27.1,21.7,25.1,25.3,23.4,13.0,26.0,27.9,25.5,28.3,40.6,32.3,22.7,27.9,28.8,25.1,25.5,19.2],\"yaxis\":\"y\",\"type\":\"scatter\"},{\"customdata\":[[\"Algeria\"],[\"Benin\"],[\"Botswana\"],[\"Burkina Faso\"],[\"Burundi\"],[\"Cameroon\"],[\"Chad\"],[\"Comoros\"],[\"Congo\"],[\"Cote d'Ivoire\"],[\"Egypt\"],[\"Eswatini\"],[\"Ethiopia\"],[\"Gambia\"],[\"Ghana\"],[\"Kenya\"],[\"Lesotho\"],[\"Liberia\"],[\"Madagascar\"],[\"Malawi\"],[\"Mali\"],[\"Mauritius\"],[\"Morocco\"],[\"Mozambique\"],[\"Namibia\"],[\"Niger\"],[\"Nigeria\"],[\"Rwanda\"],[\"Sao Tome and Principe\"],[\"Senegal\"],[\"Seychelles\"],[\"Sierra Leone\"],[\"South Africa\"],[\"Tanzania\"],[\"Togo\"],[\"Tunisia\"],[\"Uganda\"],[\"Zambia\"],[\"Zimbabwe\"]],\"hovertemplate\":\"Continent=Africa<br>GDP per capita ($)=%{x}<br>Adults who smoke (% of adults)=%{y}<br>Entity=%{customdata[0]}<extra></extra>\",\"legendgroup\":\"Africa\",\"marker\":{\"color\":\"#EF553B\",\"symbol\":\"circle\"},\"mode\":\"markers\",\"name\":\"Africa\",\"orientation\":\"v\",\"showlegend\":true,\"x\":[11642.1983450506,3160.7806702321,17634.6561910867,2120.33026783506,761.524125241416,3603.54827506808,1576.32111465904,3066.83784677933,3933.425550952,5033.47882607719,11366.3355206681,8520.59238619335,2103.51585836696,2158.07755816639,5177.88398862782,4203.83827267811,2614.65884916972,1497.00478720289,1592.05355843859,1471.03724879602,2283.70241285673,22208.1381171868,7446.93622037578,1289.73594800556,10092.258820242,1200.97246385835,5155.07599367409,2088.74922433298,3993.27879583907,3309.48617330672,27342.1616519905,1663.29348036377,12627.9285840445,2590.20113826159,2061.33417572853,10763.7297838206,2121.96781993514,3521.5420629895,3341.66541766316],\"xaxis\":\"x\",\"y\":[18.8,7.2,23.7,16.0,12.6,9.3,11.8,19.5,16.1,13.0,21.4,10.7,4.6,14.4,3.7,11.8,29.7,8.4,28.9,12.8,12.0,26.9,14.7,14.4,17.9,8.6,4.8,13.3,5.4,9.1,21.1,19.8,31.4,13.3,7.6,26.0,9.8,14.7,13.9],\"yaxis\":\"y\",\"type\":\"scatter\"},{\"customdata\":[[\"Argentina\"],[\"Brazil\"],[\"Chile\"],[\"Colombia\"],[\"Guyana\"],[\"Paraguay\"],[\"Peru\"],[\"Uruguay\"]],\"hovertemplate\":\"Continent=South America<br>GDP per capita ($)=%{x}<br>Adults who smoke (% of adults)=%{y}<br>Entity=%{customdata[0]}<extra></extra>\",\"legendgroup\":\"South America\",\"marker\":{\"color\":\"#00cc96\",\"symbol\":\"circle\"},\"mode\":\"markers\",\"name\":\"South America\",\"orientation\":\"v\",\"showlegend\":true,\"x\":[22759.3985583341,14668.2561636292,25028.9099914542,14314.8555765268,12477.5767111562,12827.7080209236,12781.4164435302,23035.0833880454],\"xaxis\":\"x\",\"y\":[21.8,16.5,44.7,7.9,12.2,12.8,9.6,21.8],\"yaxis\":\"y\",\"type\":\"scatter\"},{\"customdata\":[[\"Armenia\"],[\"Azerbaijan\"],[\"Bahrain\"],[\"Bangladesh\"],[\"Brunei\"],[\"Cambodia\"],[\"China\"],[\"Georgia\"],[\"India\"],[\"Indonesia\"],[\"Iran\"],[\"Iraq\"],[\"Israel\"],[\"Japan\"],[\"Kazakhstan\"],[\"Kuwait\"],[\"Kyrgyzstan\"],[\"Laos\"],[\"Lebanon\"],[\"Malaysia\"],[\"Mongolia\"],[\"Myanmar\"],[\"Nepal\"],[\"Oman\"],[\"Pakistan\"],[\"Philippines\"],[\"Qatar\"],[\"Saudi Arabia\"],[\"Singapore\"],[\"South Korea\"],[\"Sri Lanka\"],[\"Thailand\"],[\"Timor\"],[\"Turkey\"],[\"United Arab Emirates\"],[\"Uzbekistan\"]],\"hovertemplate\":\"Continent=Asia<br>GDP per capita ($)=%{x}<br>Adults who smoke (% of adults)=%{y}<br>Entity=%{customdata[0]}<extra></extra>\",\"legendgroup\":\"Asia\",\"marker\":{\"color\":\"#ab63fa\",\"symbol\":\"circle\"},\"mode\":\"markers\",\"name\":\"Asia\",\"orientation\":\"v\",\"showlegend\":true,\"x\":[12715.1089539751,14209.6494059309,46200.445580954,4440.85547046826,60389.1846472589,4159.33819437034,15242.9858575834,14253.4089858441,6518.84505546914,11371.7255560847,13471.8606376875,10346.2129581855,39418.3453068224,41182.3802046593,25544.3447563035,50478.5875050676,5133.1519146081,7592.82947474583,15588.1528714896,27558.1369502408,11915.5567471637,5029.1880858737,3773.71591761441,28350.9435298546,4739.47271266276,8516.13654897274,90970.0609016321,47592.7671473292,98222.846041782,41948.3460057222,12860.3208303539,18095.7365704368,3051.66811727864,28312.6834243604,66968.2211775042,6755.48097366685],\"xaxis\":\"x\",\"y\":[26.7,19.6,25.1,39.1,15.5,21.8,24.7,29.7,27.0,37.9,14.0,22.2,25.5,21.9,24.4,22.1,27.9,37.8,42.6,21.8,27.6,45.5,31.9,9.6,20.0,24.3,14.0,16.6,16.5,22.0,22.9,22.8,38.2,29.3,18.2,12.3],\"yaxis\":\"y\",\"type\":\"scatter\"},{\"customdata\":[[\"Australia\"],[\"Fiji\"],[\"Kiribati\"],[\"Nauru\"],[\"New Zealand\"],[\"Palau\"],[\"Samoa\"],[\"Solomon Islands\"],[\"Tonga\"],[\"Tuvalu\"],[\"Vanuatu\"]],\"hovertemplate\":\"Continent=Oceania<br>GDP per capita ($)=%{x}<br>Adults who smoke (% of adults)=%{y}<br>Entity=%{customdata[0]}<extra></extra>\",\"legendgroup\":\"Oceania\",\"marker\":{\"color\":\"#FFA15A\",\"symbol\":\"circle\"},\"mode\":\"markers\",\"name\":\"Oceania\",\"orientation\":\"v\",\"showlegend\":true,\"x\":[49151.6887104846,13846.1588353285,2254.05923175595,13636.3609415279,42866.1272276586,18444.3077619985,6322.2089973185,2697.64643055486,6411.28936778647,3945.56367272662,3093.46154723291],\"xaxis\":\"x\",\"y\":[16.2,26.7,52.0,52.1,14.8,23.7,28.9,37.9,30.2,48.7,24.1],\"yaxis\":\"y\",\"type\":\"scatter\"},{\"customdata\":[[\"Bahamas\"],[\"Barbados\"],[\"Canada\"],[\"Costa Rica\"],[\"Dominican Republic\"],[\"El Salvador\"],[\"Haiti\"],[\"Jamaica\"],[\"Mexico\"],[\"Panama\"],[\"United States\"]],\"hovertemplate\":\"Continent=North America<br>GDP per capita ($)=%{x}<br>Adults who smoke (% of adults)=%{y}<br>Entity=%{customdata[0]}<extra></extra>\",\"legendgroup\":\"North America\",\"marker\":{\"color\":\"#19d3f3\",\"symbol\":\"circle\"},\"mode\":\"markers\",\"name\":\"North America\",\"orientation\":\"v\",\"showlegend\":true,\"x\":[37019.9950489508,15674.9043195592,48796.8137814007,20559.8604252658,17711.7955337583,8614.01795915499,2992.31041114318,9734.86228780542,19928.3956618582,31012.9461549459,61585.7560382102],\"xaxis\":\"x\",\"y\":[10.9,8.7,17.5,9.8,9.4,12.7,8.3,11.0,13.9,6.9,25.1],\"yaxis\":\"y\",\"type\":\"scatter\"},{\"hovertemplate\":\"<b>OLS trendline</b><br>Prevalence of current tobacco use (% of adults) = 3.99875 * log10(GDP per capita, PPP (constant 2017 international $)) + 5.72921<br>R<sup>2</sup>=0.039024<br><br>GDP per capita ($)=%{x}<br>Adults who smoke (% of adults)=%{y} <b>(trend)</b><extra></extra>\",\"legendgroup\":\"Overall Trendline\",\"line\":{\"color\":\"black\"},\"mode\":\"lines\",\"name\":\"Overall Trendline\",\"showlegend\":true,\"x\":[761.524125241416,1200.97246385835,1289.73594800556,1471.03724879602,1497.00478720289,1576.32111465904,1592.05355843859,1663.29348036377,2061.33417572853,2088.74922433298,2103.51585836696,2120.33026783506,2121.96781993514,2158.07755816639,2254.05923175595,2283.70241285673,2590.20113826159,2614.65884916972,2697.64643055486,2992.31041114318,3051.66811727864,3066.83784677933,3093.46154723291,3160.7806702321,3309.48617330672,3341.66541766316,3521.5420629895,3603.54827506808,3773.71591761441,3933.425550952,3945.56367272662,3993.27879583907,4159.33819437034,4203.83827267811,4440.85547046826,4739.47271266276,5029.1880858737,5033.47882607719,5133.1519146081,5155.07599367409,5177.88398862782,6322.2089973185,6411.28936778647,6518.84505546914,6755.48097366685,7446.93622037578,7592.82947474583,8516.13654897274,8520.59238619335,8614.01795915499,9734.86228780542,10092.258820242,10346.2129581855,10763.7297838206,11366.3355206681,11371.7255560847,11642.1983450506,11915.5567471637,12338.0024454764,12363.1468378401,12477.5767111562,12627.9285840445,12715.1089539751,12781.4164435302,12827.7080209236,12860.3208303539,13323.7533559132,13471.8606376875,13636.3609415279,13846.1588353285,14209.6494059309,14253.4089858441,14314.8555765268,14386.7318547663,14668.2561636292,15242.9858575834,15588.1528714896,15674.9043195592,17452.7958990327,17634.6561910867,17711.7955337583,18095.7365704368,18444.3077619985,18885.2354999668,19928.3956618582,20559.8604252658,22208.1381171868,22208.4522754771,22759.3985583341,23035.0833880454,25028.9099914542,25544.3447563035,26656.4095416865,27342.1616519905,27558.1369502408,27799.8433225132,28312.6834243604,28350.9435298546,28523.4731832065,29150.6944922443,30036.0865499334,31012.9461549459,31095.557503677,31132.5729674338,31674.1316243417,34040.7255617749,35208.0239637019,35427.4618636641,37019.9950489508,37968.3520620285,39418.3453068224,39559.4879646749,39932.992193117,40312.5475864011,41182.3802046593,41948.3460057222,42052.5563822519,42866.1272276586,43313.4770253615,45251.9054105957,46037.9005384222,46200.445580954,47592.7671473292,48130.2923921114,48796.8137814007,49151.6887104846,50478.5875050676,51110.9584679336,52349.2924275599,53463.4014817389,55297.6182880367,56060.9136269404,56281.2888680368,56722.1193741156,60389.1846472589,61585.7560382102,64341.2589026158,66968.2211775042,70663.4875973954,84303.3408922937,90970.0609016321,98222.846041782,113589.670473448],\"y\":[17.25233457623045,18.043483962627626,18.167316141704063,18.39573595682789,18.426124502614663,18.515782396085534,18.533028910112883,18.609049911461877,18.981651117241356,19.00459551243808,19.01682963066849,19.03065618377307,19.031996885188505,19.061300714254024,19.13687011409778,19.15955974370746,19.378267061729865,19.39458811016939,19.448851074656005,19.628881070439576,19.662992998030916,19.671604351977706,19.68661527520854,19.724002103814826,19.803841902654774,19.82064620493915,19.911697310081657,19.951674628196418,20.031804931898385,20.1037892771202,20.109140085869313,20.130015841059787,20.200772056301844,20.219253322156774,20.31450600300674,20.42752410665309,20.530563191435384,20.532044198908437,20.566097003169702,20.573498499734562,20.58116507082788,20.927922439713996,20.95222093968055,20.98111299646139,21.043036040484115,21.212268396646742,21.245961876388403,21.445255247420835,21.446163655973585,21.46510164856494,21.677531176545763,21.740145806825424,21.783304404663923,21.852008348251147,21.9466094169764,21.947432751449007,21.98825444370099,22.028559183260576,22.08906225693856,22.092597849697952,22.108597715819222,22.12939866576577,22.14134679344793,22.15037955749881,22.156657911840703,22.161067477025007,22.22254731921118,22.241745285399638,22.262822300648416,22.289337268963976,22.33433936763248,22.339679229512875,22.347149781687975,22.355847767058712,22.389502557689276,22.45624786632763,22.495134107612287,22.50477205394462,22.691353976971136,22.70935627892171,22.716936273606315,22.75417929347479,22.787313280400717,22.82834059048806,22.92171103361965,22.975885341064227,23.109811285448984,23.109835851842753,23.152392455353976,23.173301927335004,23.3174653008265,23.352865519278033,23.42686984821185,23.470980790399892,23.484644534426536,23.499809754765067,23.53155453656423,23.53389973697064,23.54443599086636,23.582210140157805,23.63417160680882,23.68975288561927,23.69437272635291,23.696438746697225,23.72638816283761,23.851525277643425,23.910078283665612,23.920868451506728,23.997229768946852,24.041157557031894,24.106243709388643,24.112450850806646,24.128770498270107,24.145198910964858,24.1822720793894,24.214275632476443,24.218584521784607,24.251861471715166,24.26989101609371,24.34592245718816,24.375827635968044,24.381948331437066,24.433511327370383,24.45301538450645,24.4768997545374,24.489483720058494,24.535744211921823,24.557364755620043,24.598938878700864,24.635510488983726,24.69409147498979,24.7178989872326,24.72471230311917,24.73826171368544,24.847054456098576,24.881128213952152,24.957141479217903,25.02663651863334,25.119912482046303,25.426415216337368,25.558588558188127,25.691802888338188,25.94422901706878],\"type\":\"scatter\",\"xaxis\":\"x\",\"yaxis\":\"y\"}],                        {\"template\":{\"data\":{\"bar\":[{\"error_x\":{\"color\":\"#2a3f5f\"},\"error_y\":{\"color\":\"#2a3f5f\"},\"marker\":{\"line\":{\"color\":\"#E5ECF6\",\"width\":0.5},\"pattern\":{\"fillmode\":\"overlay\",\"size\":10,\"solidity\":0.2}},\"type\":\"bar\"}],\"barpolar\":[{\"marker\":{\"line\":{\"color\":\"#E5ECF6\",\"width\":0.5},\"pattern\":{\"fillmode\":\"overlay\",\"size\":10,\"solidity\":0.2}},\"type\":\"barpolar\"}],\"carpet\":[{\"aaxis\":{\"endlinecolor\":\"#2a3f5f\",\"gridcolor\":\"white\",\"linecolor\":\"white\",\"minorgridcolor\":\"white\",\"startlinecolor\":\"#2a3f5f\"},\"baxis\":{\"endlinecolor\":\"#2a3f5f\",\"gridcolor\":\"white\",\"linecolor\":\"white\",\"minorgridcolor\":\"white\",\"startlinecolor\":\"#2a3f5f\"},\"type\":\"carpet\"}],\"choropleth\":[{\"colorbar\":{\"outlinewidth\":0,\"ticks\":\"\"},\"type\":\"choropleth\"}],\"contour\":[{\"colorbar\":{\"outlinewidth\":0,\"ticks\":\"\"},\"colorscale\":[[0.0,\"#0d0887\"],[0.1111111111111111,\"#46039f\"],[0.2222222222222222,\"#7201a8\"],[0.3333333333333333,\"#9c179e\"],[0.4444444444444444,\"#bd3786\"],[0.5555555555555556,\"#d8576b\"],[0.6666666666666666,\"#ed7953\"],[0.7777777777777778,\"#fb9f3a\"],[0.8888888888888888,\"#fdca26\"],[1.0,\"#f0f921\"]],\"type\":\"contour\"}],\"contourcarpet\":[{\"colorbar\":{\"outlinewidth\":0,\"ticks\":\"\"},\"type\":\"contourcarpet\"}],\"heatmap\":[{\"colorbar\":{\"outlinewidth\":0,\"ticks\":\"\"},\"colorscale\":[[0.0,\"#0d0887\"],[0.1111111111111111,\"#46039f\"],[0.2222222222222222,\"#7201a8\"],[0.3333333333333333,\"#9c179e\"],[0.4444444444444444,\"#bd3786\"],[0.5555555555555556,\"#d8576b\"],[0.6666666666666666,\"#ed7953\"],[0.7777777777777778,\"#fb9f3a\"],[0.8888888888888888,\"#fdca26\"],[1.0,\"#f0f921\"]],\"type\":\"heatmap\"}],\"heatmapgl\":[{\"colorbar\":{\"outlinewidth\":0,\"ticks\":\"\"},\"colorscale\":[[0.0,\"#0d0887\"],[0.1111111111111111,\"#46039f\"],[0.2222222222222222,\"#7201a8\"],[0.3333333333333333,\"#9c179e\"],[0.4444444444444444,\"#bd3786\"],[0.5555555555555556,\"#d8576b\"],[0.6666666666666666,\"#ed7953\"],[0.7777777777777778,\"#fb9f3a\"],[0.8888888888888888,\"#fdca26\"],[1.0,\"#f0f921\"]],\"type\":\"heatmapgl\"}],\"histogram\":[{\"marker\":{\"pattern\":{\"fillmode\":\"overlay\",\"size\":10,\"solidity\":0.2}},\"type\":\"histogram\"}],\"histogram2d\":[{\"colorbar\":{\"outlinewidth\":0,\"ticks\":\"\"},\"colorscale\":[[0.0,\"#0d0887\"],[0.1111111111111111,\"#46039f\"],[0.2222222222222222,\"#7201a8\"],[0.3333333333333333,\"#9c179e\"],[0.4444444444444444,\"#bd3786\"],[0.5555555555555556,\"#d8576b\"],[0.6666666666666666,\"#ed7953\"],[0.7777777777777778,\"#fb9f3a\"],[0.8888888888888888,\"#fdca26\"],[1.0,\"#f0f921\"]],\"type\":\"histogram2d\"}],\"histogram2dcontour\":[{\"colorbar\":{\"outlinewidth\":0,\"ticks\":\"\"},\"colorscale\":[[0.0,\"#0d0887\"],[0.1111111111111111,\"#46039f\"],[0.2222222222222222,\"#7201a8\"],[0.3333333333333333,\"#9c179e\"],[0.4444444444444444,\"#bd3786\"],[0.5555555555555556,\"#d8576b\"],[0.6666666666666666,\"#ed7953\"],[0.7777777777777778,\"#fb9f3a\"],[0.8888888888888888,\"#fdca26\"],[1.0,\"#f0f921\"]],\"type\":\"histogram2dcontour\"}],\"mesh3d\":[{\"colorbar\":{\"outlinewidth\":0,\"ticks\":\"\"},\"type\":\"mesh3d\"}],\"parcoords\":[{\"line\":{\"colorbar\":{\"outlinewidth\":0,\"ticks\":\"\"}},\"type\":\"parcoords\"}],\"pie\":[{\"automargin\":true,\"type\":\"pie\"}],\"scatter\":[{\"marker\":{\"colorbar\":{\"outlinewidth\":0,\"ticks\":\"\"}},\"type\":\"scatter\"}],\"scatter3d\":[{\"line\":{\"colorbar\":{\"outlinewidth\":0,\"ticks\":\"\"}},\"marker\":{\"colorbar\":{\"outlinewidth\":0,\"ticks\":\"\"}},\"type\":\"scatter3d\"}],\"scattercarpet\":[{\"marker\":{\"colorbar\":{\"outlinewidth\":0,\"ticks\":\"\"}},\"type\":\"scattercarpet\"}],\"scattergeo\":[{\"marker\":{\"colorbar\":{\"outlinewidth\":0,\"ticks\":\"\"}},\"type\":\"scattergeo\"}],\"scattergl\":[{\"marker\":{\"colorbar\":{\"outlinewidth\":0,\"ticks\":\"\"}},\"type\":\"scattergl\"}],\"scattermapbox\":[{\"marker\":{\"colorbar\":{\"outlinewidth\":0,\"ticks\":\"\"}},\"type\":\"scattermapbox\"}],\"scatterpolar\":[{\"marker\":{\"colorbar\":{\"outlinewidth\":0,\"ticks\":\"\"}},\"type\":\"scatterpolar\"}],\"scatterpolargl\":[{\"marker\":{\"colorbar\":{\"outlinewidth\":0,\"ticks\":\"\"}},\"type\":\"scatterpolargl\"}],\"scatterternary\":[{\"marker\":{\"colorbar\":{\"outlinewidth\":0,\"ticks\":\"\"}},\"type\":\"scatterternary\"}],\"surface\":[{\"colorbar\":{\"outlinewidth\":0,\"ticks\":\"\"},\"colorscale\":[[0.0,\"#0d0887\"],[0.1111111111111111,\"#46039f\"],[0.2222222222222222,\"#7201a8\"],[0.3333333333333333,\"#9c179e\"],[0.4444444444444444,\"#bd3786\"],[0.5555555555555556,\"#d8576b\"],[0.6666666666666666,\"#ed7953\"],[0.7777777777777778,\"#fb9f3a\"],[0.8888888888888888,\"#fdca26\"],[1.0,\"#f0f921\"]],\"type\":\"surface\"}],\"table\":[{\"cells\":{\"fill\":{\"color\":\"#EBF0F8\"},\"line\":{\"color\":\"white\"}},\"header\":{\"fill\":{\"color\":\"#C8D4E3\"},\"line\":{\"color\":\"white\"}},\"type\":\"table\"}]},\"layout\":{\"annotationdefaults\":{\"arrowcolor\":\"#2a3f5f\",\"arrowhead\":0,\"arrowwidth\":1},\"autotypenumbers\":\"strict\",\"coloraxis\":{\"colorbar\":{\"outlinewidth\":0,\"ticks\":\"\"}},\"colorscale\":{\"diverging\":[[0,\"#8e0152\"],[0.1,\"#c51b7d\"],[0.2,\"#de77ae\"],[0.3,\"#f1b6da\"],[0.4,\"#fde0ef\"],[0.5,\"#f7f7f7\"],[0.6,\"#e6f5d0\"],[0.7,\"#b8e186\"],[0.8,\"#7fbc41\"],[0.9,\"#4d9221\"],[1,\"#276419\"]],\"sequential\":[[0.0,\"#0d0887\"],[0.1111111111111111,\"#46039f\"],[0.2222222222222222,\"#7201a8\"],[0.3333333333333333,\"#9c179e\"],[0.4444444444444444,\"#bd3786\"],[0.5555555555555556,\"#d8576b\"],[0.6666666666666666,\"#ed7953\"],[0.7777777777777778,\"#fb9f3a\"],[0.8888888888888888,\"#fdca26\"],[1.0,\"#f0f921\"]],\"sequentialminus\":[[0.0,\"#0d0887\"],[0.1111111111111111,\"#46039f\"],[0.2222222222222222,\"#7201a8\"],[0.3333333333333333,\"#9c179e\"],[0.4444444444444444,\"#bd3786\"],[0.5555555555555556,\"#d8576b\"],[0.6666666666666666,\"#ed7953\"],[0.7777777777777778,\"#fb9f3a\"],[0.8888888888888888,\"#fdca26\"],[1.0,\"#f0f921\"]]},\"colorway\":[\"#636efa\",\"#EF553B\",\"#00cc96\",\"#ab63fa\",\"#FFA15A\",\"#19d3f3\",\"#FF6692\",\"#B6E880\",\"#FF97FF\",\"#FECB52\"],\"font\":{\"color\":\"#2a3f5f\"},\"geo\":{\"bgcolor\":\"white\",\"lakecolor\":\"white\",\"landcolor\":\"#E5ECF6\",\"showlakes\":true,\"showland\":true,\"subunitcolor\":\"white\"},\"hoverlabel\":{\"align\":\"left\"},\"hovermode\":\"closest\",\"mapbox\":{\"style\":\"light\"},\"paper_bgcolor\":\"white\",\"plot_bgcolor\":\"#E5ECF6\",\"polar\":{\"angularaxis\":{\"gridcolor\":\"white\",\"linecolor\":\"white\",\"ticks\":\"\"},\"bgcolor\":\"#E5ECF6\",\"radialaxis\":{\"gridcolor\":\"white\",\"linecolor\":\"white\",\"ticks\":\"\"}},\"scene\":{\"xaxis\":{\"backgroundcolor\":\"#E5ECF6\",\"gridcolor\":\"white\",\"gridwidth\":2,\"linecolor\":\"white\",\"showbackground\":true,\"ticks\":\"\",\"zerolinecolor\":\"white\"},\"yaxis\":{\"backgroundcolor\":\"#E5ECF6\",\"gridcolor\":\"white\",\"gridwidth\":2,\"linecolor\":\"white\",\"showbackground\":true,\"ticks\":\"\",\"zerolinecolor\":\"white\"},\"zaxis\":{\"backgroundcolor\":\"#E5ECF6\",\"gridcolor\":\"white\",\"gridwidth\":2,\"linecolor\":\"white\",\"showbackground\":true,\"ticks\":\"\",\"zerolinecolor\":\"white\"}},\"shapedefaults\":{\"line\":{\"color\":\"#2a3f5f\"}},\"ternary\":{\"aaxis\":{\"gridcolor\":\"white\",\"linecolor\":\"white\",\"ticks\":\"\"},\"baxis\":{\"gridcolor\":\"white\",\"linecolor\":\"white\",\"ticks\":\"\"},\"bgcolor\":\"#E5ECF6\",\"caxis\":{\"gridcolor\":\"white\",\"linecolor\":\"white\",\"ticks\":\"\"}},\"title\":{\"x\":0.05},\"xaxis\":{\"automargin\":true,\"gridcolor\":\"white\",\"linecolor\":\"white\",\"ticks\":\"\",\"title\":{\"standoff\":15},\"zerolinecolor\":\"white\",\"zerolinewidth\":2},\"yaxis\":{\"automargin\":true,\"gridcolor\":\"white\",\"linecolor\":\"white\",\"ticks\":\"\",\"title\":{\"standoff\":15},\"zerolinecolor\":\"white\",\"zerolinewidth\":2}}},\"xaxis\":{\"anchor\":\"y\",\"domain\":[0.0,1.0],\"title\":{\"text\":\"GDP per capita ($)\"},\"type\":\"log\",\"range\":[2.867186976959535,5.091982174281538]},\"yaxis\":{\"anchor\":\"x\",\"domain\":[0.0,1.0],\"title\":{\"text\":\"Adults who smoke (% of adults)\"},\"range\":[1.7000000000000002,54.1]},\"legend\":{\"title\":{\"text\":\"Continent\"},\"tracegroupgap\":0},\"title\":{\"text\":\"Share of adults who are smoking vs. GDP per capita, 2018\"}},                        {\"responsive\": true}                    ).then(function(){\n",
       "                            \n",
       "var gd = document.getElementById('62146679-73d7-413a-b5f1-07b923db8245');\n",
       "var x = new MutationObserver(function (mutations, observer) {{\n",
       "        var display = window.getComputedStyle(gd).display;\n",
       "        if (!display || display === 'none') {{\n",
       "            console.log([gd, 'removed!']);\n",
       "            Plotly.purge(gd);\n",
       "            observer.disconnect();\n",
       "        }}\n",
       "}});\n",
       "\n",
       "// Listen for the removal of the full notebook cells\n",
       "var notebookContainer = gd.closest('#notebook-container');\n",
       "if (notebookContainer) {{\n",
       "    x.observe(notebookContainer, {childList: true});\n",
       "}}\n",
       "\n",
       "// Listen for the clearing of the current output cell\n",
       "var outputEl = gd.closest('.output');\n",
       "if (outputEl) {{\n",
       "    x.observe(outputEl, {childList: true});\n",
       "}}\n",
       "\n",
       "                        })                };                });            </script>        </div>"
      ]
     },
     "metadata": {},
     "output_type": "display_data"
    }
   ],
   "source": [
    "#Plot share of adults who smoke vs. GDP per capita\n",
    "plotFigure(GDPperCapita('share-of-adults-who-are-smoking-by-level-of-prosperity.csv',\n",
    "           'GDP per capita, PPP (constant 2017 international $)',\n",
    "          'Prevalence of current tobacco use (% of adults)',\n",
    "          'Share of adults who are smoking vs. GDP per capita'), 'GDP per capita ($)', \n",
    "           'Adults who smoke (% of adults)', 'Share of adults who are smoking vs. GDP per capita', \n",
    "           25, pow(10,4), 2, 2, 9)"
   ]
  },
  {
   "cell_type": "code",
   "execution_count": 19,
   "metadata": {},
   "outputs": [
    {
     "name": "stdout",
     "output_type": "stream",
     "text": [
      "---------------------------------------------------------------------------------------------------------------------\n",
      "List of years for which data is available: \n",
      "\n",
      "[2007, 2010, 2012, 2014, 2016, 2018]\n",
      "---------------------------------------------------------------------------------------------------------------------\n",
      "Year of interest for the data \"Share of adults who are smoking vs. GDP per capita\": \n",
      "2018\n",
      "---------------------------------------------------------------------------------------------------------------------\n",
      "GPD per capita median: 14253.408986 \n",
      "\n",
      "Share of adults who are smoking median: 22.000000 \n",
      "\n",
      "---------------------------------------------------------------------------------------------------------------------\n",
      "\n",
      "\n"
     ]
    }
   ],
   "source": [
    "#Print the GDP per capita and Share of adults who are smoking median\n",
    "medianFilter(GDPperCapita('share-of-adults-who-are-smoking-by-level-of-prosperity.csv',\n",
    "           'GDP per capita, PPP (constant 2017 international $)',\n",
    "          'Prevalence of current tobacco use (% of adults)',\n",
    "          'Share of adults who are smoking vs. GDP per capita'),\n",
    "             'Share of adults who are smoking', 10, 'none')"
   ]
  },
  {
   "cell_type": "markdown",
   "metadata": {},
   "source": [
    "---"
   ]
  },
  {
   "cell_type": "markdown",
   "metadata": {},
   "source": [
    "### 4. Medical doctors per 1,000 people vs. GDP per capita\n"
   ]
  },
  {
   "cell_type": "markdown",
   "metadata": {},
   "source": [
    "A interesting question to ask here is whether countries with higher GDP per capita have less or more medical doctors per 1.000 people. The graph for 2018 shows several interesting facts. Up until 6.5K of GDP, the variance seems to be quite low and there seem to exist a relationship between medical doctors and GDP per capita. However, this trend is not really clear. From 10k and greater, the data points are much more spread. There are also some extremes such as Georgia and Lithuania. Overall, there seem to be a positive trend. Those countries with lower GPD and which are considered developing countries are once again located on the lower left corner of the graph. This does make intuitively sense as education is not as accessible in these countries."
   ]
  },
  {
   "cell_type": "code",
   "execution_count": 20,
   "metadata": {},
   "outputs": [
    {
     "name": "stdout",
     "output_type": "stream",
     "text": [
      "---------------------------------------------------------------------------------------------------------------------\n",
      "List of years for which data is available: \n",
      "\n",
      "[1990, 1991, 1992, 1993, 1994, 1995, 1996, 1997, 1998, 1999, 2000, 2001, 2002, 2003, 2004, 2005, 2006, 2007, 2008, 2009, 2010, 2011, 2012, 2013, 2014, 2015, 2016, 2017, 2018]\n",
      "---------------------------------------------------------------------------------------------------------------------\n",
      "Year of interest for the data \"Medical doctors per 1000 people vs. GDP per capita\": \n",
      "2018\n",
      "---------------------------------------------------------------------------------------------------------------------\n",
      "Figure 11 :\n"
     ]
    },
    {
     "data": {
      "application/vnd.plotly.v1+json": {
       "config": {
        "plotlyServerURL": "https://plot.ly"
       },
       "data": [
        {
         "customdata": [
          [
           "Algeria"
          ],
          [
           "Benin"
          ],
          [
           "Egypt"
          ],
          [
           "Ethiopia"
          ],
          [
           "Kenya"
          ],
          [
           "Malawi"
          ],
          [
           "Mali"
          ],
          [
           "Mauritania"
          ],
          [
           "Mauritius"
          ],
          [
           "Mozambique"
          ],
          [
           "Namibia"
          ],
          [
           "Nigeria"
          ],
          [
           "Rwanda"
          ],
          [
           "Togo"
          ],
          [
           "Zambia"
          ],
          [
           "Zimbabwe"
          ]
         ],
         "hovertemplate": "Continent=Africa<br>GDP per capita ($)=%{x}<br>Medical doctors (per 1,000 people)=%{y}<br>Entity=%{customdata[0]}<extra></extra>",
         "legendgroup": "Africa",
         "marker": {
          "color": "#636efa",
          "symbol": "circle"
         },
         "mode": "markers",
         "name": "Africa",
         "orientation": "v",
         "showlegend": true,
         "type": "scatter",
         "x": [
          11642.1983450506,
          3160.7806702321,
          11366.3355206681,
          2103.51585836696,
          4203.83827267811,
          1471.03724879602,
          2283.70241285673,
          5042.43119844404,
          22208.1381171868,
          1289.73594800556,
          10092.258820242,
          5155.07599367409,
          2088.74922433298,
          2061.33417572853,
          3521.5420629895,
          3341.66541766316
         ],
         "xaxis": "x",
         "y": [
          1.7193,
          0.0791,
          0.4521,
          0.0769,
          0.1565,
          0.0358,
          0.1286,
          0.1865,
          2.5331,
          0.0838,
          0.4182,
          0.3806,
          0.134,
          0.0774,
          1.1867,
          0.2096
         ],
         "yaxis": "y"
        },
        {
         "customdata": [
          [
           "Bangladesh"
          ],
          [
           "Bhutan"
          ],
          [
           "Georgia"
          ],
          [
           "India"
          ],
          [
           "Indonesia"
          ],
          [
           "Iran"
          ],
          [
           "Iraq"
          ],
          [
           "Israel"
          ],
          [
           "Lebanon"
          ],
          [
           "Maldives"
          ],
          [
           "Myanmar"
          ],
          [
           "Nepal"
          ],
          [
           "Oman"
          ],
          [
           "Pakistan"
          ],
          [
           "Qatar"
          ],
          [
           "Saudi Arabia"
          ],
          [
           "Sri Lanka"
          ],
          [
           "Thailand"
          ],
          [
           "Timor"
          ],
          [
           "United Arab Emirates"
          ]
         ],
         "hovertemplate": "Continent=Asia<br>GDP per capita ($)=%{x}<br>Medical doctors (per 1,000 people)=%{y}<br>Entity=%{customdata[0]}<extra></extra>",
         "legendgroup": "Asia",
         "marker": {
          "color": "#EF553B",
          "symbol": "circle"
         },
         "mode": "markers",
         "name": "Asia",
         "orientation": "v",
         "showlegend": true,
         "type": "scatter",
         "x": [
          4440.85547046826,
          11348.4419521,
          14253.4089858441,
          6518.84505546914,
          11371.7255560847,
          13471.8606376875,
          10346.2129581855,
          39418.3453068224,
          15588.1528714896,
          18795.5303498427,
          5029.1880858737,
          3773.71591761441,
          28350.9435298546,
          4739.47271266276,
          90970.0609016321,
          47592.7671473292,
          12860.3208303539,
          18095.7365704368,
          3051.66811727864,
          66968.2211775042
         ],
         "xaxis": "x",
         "y": [
          0.5809,
          0.4242,
          7.1201,
          0.8571,
          0.4269,
          1.5844,
          0.7079,
          4.6249,
          2.1038,
          4.5627,
          0.677,
          0.7486,
          2.0031,
          0.9801,
          2.4852,
          2.6117,
          1.0041,
          0.805,
          0.7224,
          2.5278
         ],
         "yaxis": "y"
        },
        {
         "customdata": [
          [
           "Brazil"
          ],
          [
           "Chile"
          ],
          [
           "Colombia"
          ],
          [
           "Guyana"
          ],
          [
           "Paraguay"
          ],
          [
           "Suriname"
          ]
         ],
         "hovertemplate": "Continent=South America<br>GDP per capita ($)=%{x}<br>Medical doctors (per 1,000 people)=%{y}<br>Entity=%{customdata[0]}<extra></extra>",
         "legendgroup": "South America",
         "marker": {
          "color": "#00cc96",
          "symbol": "circle"
         },
         "mode": "markers",
         "name": "South America",
         "orientation": "v",
         "showlegend": true,
         "type": "scatter",
         "x": [
          14668.2561636292,
          25028.9099914542,
          14314.8555765268,
          12477.5767111562,
          12827.7080209236,
          19005.6543464151
         ],
         "xaxis": "x",
         "y": [
          2.1643,
          2.5912,
          2.1848,
          0.8023,
          1.3544,
          1.2101
         ],
         "yaxis": "y"
        },
        {
         "customdata": [
          [
           "Costa Rica"
          ],
          [
           "Guatemala"
          ],
          [
           "Haiti"
          ],
          [
           "Nicaragua"
          ],
          [
           "Trinidad and Tobago"
          ]
         ],
         "hovertemplate": "Continent=North America<br>GDP per capita ($)=%{x}<br>Medical doctors (per 1,000 people)=%{y}<br>Entity=%{customdata[0]}<extra></extra>",
         "legendgroup": "North America",
         "marker": {
          "color": "#ab63fa",
          "symbol": "circle"
         },
         "mode": "markers",
         "name": "North America",
         "orientation": "v",
         "showlegend": true,
         "type": "scatter",
         "x": [
          20559.8604252658,
          8462.17210684372,
          2992.31041114318,
          5729.68822390273,
          26250.3722429394
         ],
         "xaxis": "x",
         "y": [
          2.8939,
          0.3549,
          0.2343,
          0.9775,
          4.1675
         ],
         "yaxis": "y"
        },
        {
         "customdata": [
          [
           "Czechia"
          ],
          [
           "Estonia"
          ],
          [
           "France"
          ],
          [
           "Hungary"
          ],
          [
           "Iceland"
          ],
          [
           "Ireland"
          ],
          [
           "Italy"
          ],
          [
           "Lithuania"
          ],
          [
           "Montenegro"
          ],
          [
           "Norway"
          ],
          [
           "United Kingdom"
          ]
         ],
         "hovertemplate": "Continent=Europe<br>GDP per capita ($)=%{x}<br>Medical doctors (per 1,000 people)=%{y}<br>Entity=%{customdata[0]}<extra></extra>",
         "legendgroup": "Europe",
         "marker": {
          "color": "#FFA15A",
          "symbol": "circle"
         },
         "mode": "markers",
         "name": "Europe",
         "orientation": "v",
         "showlegend": true,
         "type": "scatter",
         "x": [
          39932.992193117,
          35208.0239637019,
          45251.9054105957,
          31095.557503677,
          56722.1193741156,
          84303.3408922937,
          42052.5563822519,
          35427.4618636641,
          20686.5759142606,
          64341.2589026158,
          46037.9005384222
         ],
         "xaxis": "x",
         "y": [
          4.1208,
          4.4833,
          3.2672,
          3.4075,
          4.0778,
          3.3125,
          3.9774,
          6.3528,
          2.7557,
          2.9164,
          2.8117
         ],
         "yaxis": "y"
        },
        {
         "customdata": [
          [
           "New Zealand"
          ],
          [
           "Papua New Guinea"
          ]
         ],
         "hovertemplate": "Continent=Oceania<br>GDP per capita ($)=%{x}<br>Medical doctors (per 1,000 people)=%{y}<br>Entity=%{customdata[0]}<extra></extra>",
         "legendgroup": "Oceania",
         "marker": {
          "color": "#19d3f3",
          "symbol": "circle"
         },
         "mode": "markers",
         "name": "Oceania",
         "orientation": "v",
         "showlegend": true,
         "type": "scatter",
         "x": [
          42866.1272276586,
          4190.0948949613
         ],
         "xaxis": "x",
         "y": [
          3.5898,
          0.0699
         ],
         "yaxis": "y"
        },
        {
         "hovertemplate": "<b>OLS trendline</b><br>Physicians (per 1,000 people) = 2.586 * log10(GDP per capita, PPP (constant 2017 international $)) + -8.71805<br>R<sup>2</sup>=0.549879<br><br>GDP per capita ($)=%{x}<br>Medical doctors (per 1,000 people)=%{y} <b>(trend)</b><extra></extra>",
         "legendgroup": "Overall Trendline",
         "line": {
          "color": "black"
         },
         "mode": "lines",
         "name": "Overall Trendline",
         "showlegend": true,
         "type": "scatter",
         "x": [
          1289.73594800556,
          1471.03724879602,
          2061.33417572853,
          2088.74922433298,
          2103.51585836696,
          2283.70241285673,
          2992.31041114318,
          3051.66811727864,
          3160.7806702321,
          3341.66541766316,
          3521.5420629895,
          3773.71591761441,
          4190.0948949613,
          4203.83827267811,
          4440.85547046826,
          4739.47271266276,
          5029.1880858737,
          5042.43119844404,
          5155.07599367409,
          5729.68822390273,
          6518.84505546914,
          8462.17210684372,
          10092.258820242,
          10346.2129581855,
          11348.4419521,
          11366.3355206681,
          11371.7255560847,
          11642.1983450506,
          12477.5767111562,
          12827.7080209236,
          12860.3208303539,
          13471.8606376875,
          14253.4089858441,
          14314.8555765268,
          14668.2561636292,
          15588.1528714896,
          18095.7365704368,
          18795.5303498427,
          19005.6543464151,
          20559.8604252658,
          20686.5759142606,
          22208.1381171868,
          25028.9099914542,
          26250.3722429394,
          28350.9435298546,
          31095.557503677,
          35208.0239637019,
          35427.4618636641,
          39418.3453068224,
          39932.992193117,
          42052.5563822519,
          42866.1272276586,
          45251.9054105957,
          46037.9005384222,
          47592.7671473292,
          56722.1193741156,
          64341.2589026158,
          66968.2211775042,
          84303.3408922937,
          90970.0609016321
         ],
         "xaxis": "x",
         "y": [
          -0.6743071733046904,
          -0.5265877189315198,
          -0.14767546143614219,
          -0.13283728490778302,
          -0.12492546137026217,
          -0.032621672360940934,
          0.2708891691699371,
          0.29294940649513634,
          0.3324040913407096,
          0.3949039838247792,
          0.45378687699424347,
          0.5314606652827454,
          0.6490061847301796,
          0.6526838346347006,
          0.7142838934348177,
          0.7873728791512207,
          0.8540084176437972,
          0.8569618908862839,
          0.8817747491762002,
          1.0004613751752256,
          1.1453796865081074,
          1.4384018931921574,
          1.6362474010167052,
          1.6641581342460334,
          1.7679983244475999,
          1.7697677430364376,
          1.7703001947372403,
          1.7966996474413914,
          1.8745258311511996,
          1.9056064356491564,
          1.9084581084022219,
          1.9606325742061763,
          2.0239666101836455,
          2.0287978280470114,
          2.05618743502445,
          2.1244995248086074,
          2.2920244546964206,
          2.3346373091107253,
          2.3471231194904476,
          2.435402105025876,
          2.4423027019262147,
          2.522012224293345,
          2.656302403248864,
          2.709815771823191,
          2.796270894149904,
          2.900049029248782,
          3.0395461530610035,
          3.0465241716064604,
          3.1664066429838122,
          3.1809747528500534,
          3.2390576233813544,
          3.2605778793376103,
          3.321407266859616,
          3.3407469930996623,
          3.378051127224653,
          3.575133682265111,
          3.7166835715348103,
          3.7616261230316006,
          4.020163636788199,
          4.105640345235269
         ],
         "yaxis": "y"
        }
       ],
       "layout": {
        "legend": {
         "title": {
          "text": "Continent"
         },
         "tracegroupgap": 0
        },
        "template": {
         "data": {
          "bar": [
           {
            "error_x": {
             "color": "#2a3f5f"
            },
            "error_y": {
             "color": "#2a3f5f"
            },
            "marker": {
             "line": {
              "color": "#E5ECF6",
              "width": 0.5
             },
             "pattern": {
              "fillmode": "overlay",
              "size": 10,
              "solidity": 0.2
             }
            },
            "type": "bar"
           }
          ],
          "barpolar": [
           {
            "marker": {
             "line": {
              "color": "#E5ECF6",
              "width": 0.5
             },
             "pattern": {
              "fillmode": "overlay",
              "size": 10,
              "solidity": 0.2
             }
            },
            "type": "barpolar"
           }
          ],
          "carpet": [
           {
            "aaxis": {
             "endlinecolor": "#2a3f5f",
             "gridcolor": "white",
             "linecolor": "white",
             "minorgridcolor": "white",
             "startlinecolor": "#2a3f5f"
            },
            "baxis": {
             "endlinecolor": "#2a3f5f",
             "gridcolor": "white",
             "linecolor": "white",
             "minorgridcolor": "white",
             "startlinecolor": "#2a3f5f"
            },
            "type": "carpet"
           }
          ],
          "choropleth": [
           {
            "colorbar": {
             "outlinewidth": 0,
             "ticks": ""
            },
            "type": "choropleth"
           }
          ],
          "contour": [
           {
            "colorbar": {
             "outlinewidth": 0,
             "ticks": ""
            },
            "colorscale": [
             [
              0,
              "#0d0887"
             ],
             [
              0.1111111111111111,
              "#46039f"
             ],
             [
              0.2222222222222222,
              "#7201a8"
             ],
             [
              0.3333333333333333,
              "#9c179e"
             ],
             [
              0.4444444444444444,
              "#bd3786"
             ],
             [
              0.5555555555555556,
              "#d8576b"
             ],
             [
              0.6666666666666666,
              "#ed7953"
             ],
             [
              0.7777777777777778,
              "#fb9f3a"
             ],
             [
              0.8888888888888888,
              "#fdca26"
             ],
             [
              1,
              "#f0f921"
             ]
            ],
            "type": "contour"
           }
          ],
          "contourcarpet": [
           {
            "colorbar": {
             "outlinewidth": 0,
             "ticks": ""
            },
            "type": "contourcarpet"
           }
          ],
          "heatmap": [
           {
            "colorbar": {
             "outlinewidth": 0,
             "ticks": ""
            },
            "colorscale": [
             [
              0,
              "#0d0887"
             ],
             [
              0.1111111111111111,
              "#46039f"
             ],
             [
              0.2222222222222222,
              "#7201a8"
             ],
             [
              0.3333333333333333,
              "#9c179e"
             ],
             [
              0.4444444444444444,
              "#bd3786"
             ],
             [
              0.5555555555555556,
              "#d8576b"
             ],
             [
              0.6666666666666666,
              "#ed7953"
             ],
             [
              0.7777777777777778,
              "#fb9f3a"
             ],
             [
              0.8888888888888888,
              "#fdca26"
             ],
             [
              1,
              "#f0f921"
             ]
            ],
            "type": "heatmap"
           }
          ],
          "heatmapgl": [
           {
            "colorbar": {
             "outlinewidth": 0,
             "ticks": ""
            },
            "colorscale": [
             [
              0,
              "#0d0887"
             ],
             [
              0.1111111111111111,
              "#46039f"
             ],
             [
              0.2222222222222222,
              "#7201a8"
             ],
             [
              0.3333333333333333,
              "#9c179e"
             ],
             [
              0.4444444444444444,
              "#bd3786"
             ],
             [
              0.5555555555555556,
              "#d8576b"
             ],
             [
              0.6666666666666666,
              "#ed7953"
             ],
             [
              0.7777777777777778,
              "#fb9f3a"
             ],
             [
              0.8888888888888888,
              "#fdca26"
             ],
             [
              1,
              "#f0f921"
             ]
            ],
            "type": "heatmapgl"
           }
          ],
          "histogram": [
           {
            "marker": {
             "pattern": {
              "fillmode": "overlay",
              "size": 10,
              "solidity": 0.2
             }
            },
            "type": "histogram"
           }
          ],
          "histogram2d": [
           {
            "colorbar": {
             "outlinewidth": 0,
             "ticks": ""
            },
            "colorscale": [
             [
              0,
              "#0d0887"
             ],
             [
              0.1111111111111111,
              "#46039f"
             ],
             [
              0.2222222222222222,
              "#7201a8"
             ],
             [
              0.3333333333333333,
              "#9c179e"
             ],
             [
              0.4444444444444444,
              "#bd3786"
             ],
             [
              0.5555555555555556,
              "#d8576b"
             ],
             [
              0.6666666666666666,
              "#ed7953"
             ],
             [
              0.7777777777777778,
              "#fb9f3a"
             ],
             [
              0.8888888888888888,
              "#fdca26"
             ],
             [
              1,
              "#f0f921"
             ]
            ],
            "type": "histogram2d"
           }
          ],
          "histogram2dcontour": [
           {
            "colorbar": {
             "outlinewidth": 0,
             "ticks": ""
            },
            "colorscale": [
             [
              0,
              "#0d0887"
             ],
             [
              0.1111111111111111,
              "#46039f"
             ],
             [
              0.2222222222222222,
              "#7201a8"
             ],
             [
              0.3333333333333333,
              "#9c179e"
             ],
             [
              0.4444444444444444,
              "#bd3786"
             ],
             [
              0.5555555555555556,
              "#d8576b"
             ],
             [
              0.6666666666666666,
              "#ed7953"
             ],
             [
              0.7777777777777778,
              "#fb9f3a"
             ],
             [
              0.8888888888888888,
              "#fdca26"
             ],
             [
              1,
              "#f0f921"
             ]
            ],
            "type": "histogram2dcontour"
           }
          ],
          "mesh3d": [
           {
            "colorbar": {
             "outlinewidth": 0,
             "ticks": ""
            },
            "type": "mesh3d"
           }
          ],
          "parcoords": [
           {
            "line": {
             "colorbar": {
              "outlinewidth": 0,
              "ticks": ""
             }
            },
            "type": "parcoords"
           }
          ],
          "pie": [
           {
            "automargin": true,
            "type": "pie"
           }
          ],
          "scatter": [
           {
            "marker": {
             "colorbar": {
              "outlinewidth": 0,
              "ticks": ""
             }
            },
            "type": "scatter"
           }
          ],
          "scatter3d": [
           {
            "line": {
             "colorbar": {
              "outlinewidth": 0,
              "ticks": ""
             }
            },
            "marker": {
             "colorbar": {
              "outlinewidth": 0,
              "ticks": ""
             }
            },
            "type": "scatter3d"
           }
          ],
          "scattercarpet": [
           {
            "marker": {
             "colorbar": {
              "outlinewidth": 0,
              "ticks": ""
             }
            },
            "type": "scattercarpet"
           }
          ],
          "scattergeo": [
           {
            "marker": {
             "colorbar": {
              "outlinewidth": 0,
              "ticks": ""
             }
            },
            "type": "scattergeo"
           }
          ],
          "scattergl": [
           {
            "marker": {
             "colorbar": {
              "outlinewidth": 0,
              "ticks": ""
             }
            },
            "type": "scattergl"
           }
          ],
          "scattermapbox": [
           {
            "marker": {
             "colorbar": {
              "outlinewidth": 0,
              "ticks": ""
             }
            },
            "type": "scattermapbox"
           }
          ],
          "scatterpolar": [
           {
            "marker": {
             "colorbar": {
              "outlinewidth": 0,
              "ticks": ""
             }
            },
            "type": "scatterpolar"
           }
          ],
          "scatterpolargl": [
           {
            "marker": {
             "colorbar": {
              "outlinewidth": 0,
              "ticks": ""
             }
            },
            "type": "scatterpolargl"
           }
          ],
          "scatterternary": [
           {
            "marker": {
             "colorbar": {
              "outlinewidth": 0,
              "ticks": ""
             }
            },
            "type": "scatterternary"
           }
          ],
          "surface": [
           {
            "colorbar": {
             "outlinewidth": 0,
             "ticks": ""
            },
            "colorscale": [
             [
              0,
              "#0d0887"
             ],
             [
              0.1111111111111111,
              "#46039f"
             ],
             [
              0.2222222222222222,
              "#7201a8"
             ],
             [
              0.3333333333333333,
              "#9c179e"
             ],
             [
              0.4444444444444444,
              "#bd3786"
             ],
             [
              0.5555555555555556,
              "#d8576b"
             ],
             [
              0.6666666666666666,
              "#ed7953"
             ],
             [
              0.7777777777777778,
              "#fb9f3a"
             ],
             [
              0.8888888888888888,
              "#fdca26"
             ],
             [
              1,
              "#f0f921"
             ]
            ],
            "type": "surface"
           }
          ],
          "table": [
           {
            "cells": {
             "fill": {
              "color": "#EBF0F8"
             },
             "line": {
              "color": "white"
             }
            },
            "header": {
             "fill": {
              "color": "#C8D4E3"
             },
             "line": {
              "color": "white"
             }
            },
            "type": "table"
           }
          ]
         },
         "layout": {
          "annotationdefaults": {
           "arrowcolor": "#2a3f5f",
           "arrowhead": 0,
           "arrowwidth": 1
          },
          "autotypenumbers": "strict",
          "coloraxis": {
           "colorbar": {
            "outlinewidth": 0,
            "ticks": ""
           }
          },
          "colorscale": {
           "diverging": [
            [
             0,
             "#8e0152"
            ],
            [
             0.1,
             "#c51b7d"
            ],
            [
             0.2,
             "#de77ae"
            ],
            [
             0.3,
             "#f1b6da"
            ],
            [
             0.4,
             "#fde0ef"
            ],
            [
             0.5,
             "#f7f7f7"
            ],
            [
             0.6,
             "#e6f5d0"
            ],
            [
             0.7,
             "#b8e186"
            ],
            [
             0.8,
             "#7fbc41"
            ],
            [
             0.9,
             "#4d9221"
            ],
            [
             1,
             "#276419"
            ]
           ],
           "sequential": [
            [
             0,
             "#0d0887"
            ],
            [
             0.1111111111111111,
             "#46039f"
            ],
            [
             0.2222222222222222,
             "#7201a8"
            ],
            [
             0.3333333333333333,
             "#9c179e"
            ],
            [
             0.4444444444444444,
             "#bd3786"
            ],
            [
             0.5555555555555556,
             "#d8576b"
            ],
            [
             0.6666666666666666,
             "#ed7953"
            ],
            [
             0.7777777777777778,
             "#fb9f3a"
            ],
            [
             0.8888888888888888,
             "#fdca26"
            ],
            [
             1,
             "#f0f921"
            ]
           ],
           "sequentialminus": [
            [
             0,
             "#0d0887"
            ],
            [
             0.1111111111111111,
             "#46039f"
            ],
            [
             0.2222222222222222,
             "#7201a8"
            ],
            [
             0.3333333333333333,
             "#9c179e"
            ],
            [
             0.4444444444444444,
             "#bd3786"
            ],
            [
             0.5555555555555556,
             "#d8576b"
            ],
            [
             0.6666666666666666,
             "#ed7953"
            ],
            [
             0.7777777777777778,
             "#fb9f3a"
            ],
            [
             0.8888888888888888,
             "#fdca26"
            ],
            [
             1,
             "#f0f921"
            ]
           ]
          },
          "colorway": [
           "#636efa",
           "#EF553B",
           "#00cc96",
           "#ab63fa",
           "#FFA15A",
           "#19d3f3",
           "#FF6692",
           "#B6E880",
           "#FF97FF",
           "#FECB52"
          ],
          "font": {
           "color": "#2a3f5f"
          },
          "geo": {
           "bgcolor": "white",
           "lakecolor": "white",
           "landcolor": "#E5ECF6",
           "showlakes": true,
           "showland": true,
           "subunitcolor": "white"
          },
          "hoverlabel": {
           "align": "left"
          },
          "hovermode": "closest",
          "mapbox": {
           "style": "light"
          },
          "paper_bgcolor": "white",
          "plot_bgcolor": "#E5ECF6",
          "polar": {
           "angularaxis": {
            "gridcolor": "white",
            "linecolor": "white",
            "ticks": ""
           },
           "bgcolor": "#E5ECF6",
           "radialaxis": {
            "gridcolor": "white",
            "linecolor": "white",
            "ticks": ""
           }
          },
          "scene": {
           "xaxis": {
            "backgroundcolor": "#E5ECF6",
            "gridcolor": "white",
            "gridwidth": 2,
            "linecolor": "white",
            "showbackground": true,
            "ticks": "",
            "zerolinecolor": "white"
           },
           "yaxis": {
            "backgroundcolor": "#E5ECF6",
            "gridcolor": "white",
            "gridwidth": 2,
            "linecolor": "white",
            "showbackground": true,
            "ticks": "",
            "zerolinecolor": "white"
           },
           "zaxis": {
            "backgroundcolor": "#E5ECF6",
            "gridcolor": "white",
            "gridwidth": 2,
            "linecolor": "white",
            "showbackground": true,
            "ticks": "",
            "zerolinecolor": "white"
           }
          },
          "shapedefaults": {
           "line": {
            "color": "#2a3f5f"
           }
          },
          "ternary": {
           "aaxis": {
            "gridcolor": "white",
            "linecolor": "white",
            "ticks": ""
           },
           "baxis": {
            "gridcolor": "white",
            "linecolor": "white",
            "ticks": ""
           },
           "bgcolor": "#E5ECF6",
           "caxis": {
            "gridcolor": "white",
            "linecolor": "white",
            "ticks": ""
           }
          },
          "title": {
           "x": 0.05
          },
          "xaxis": {
           "automargin": true,
           "gridcolor": "white",
           "linecolor": "white",
           "ticks": "",
           "title": {
            "standoff": 15
           },
           "zerolinecolor": "white",
           "zerolinewidth": 2
          },
          "yaxis": {
           "automargin": true,
           "gridcolor": "white",
           "linecolor": "white",
           "ticks": "",
           "title": {
            "standoff": 15
           },
           "zerolinecolor": "white",
           "zerolinewidth": 2
          }
         }
        },
        "title": {
         "text": "Medical doctors per 1000 people vs. GDP per capita, 2018"
        },
        "xaxis": {
         "anchor": "y",
         "domain": [
          0,
          1
         ],
         "range": [
          3.1019998628285412,
          5.004192618211133
         ],
         "title": {
          "text": "GDP per capita ($)"
         },
         "type": "log"
        },
        "yaxis": {
         "anchor": "x",
         "domain": [
          0,
          1
         ],
         "range": [
          -0.9642,
          7.6201
         ],
         "title": {
          "text": "Medical doctors (per 1,000 people)"
         }
        }
       }
      },
      "text/html": [
       "<div>                            <div id=\"70cf97be-76b4-47a1-8f25-5b1a273f79cf\" class=\"plotly-graph-div\" style=\"height:525px; width:100%;\"></div>            <script type=\"text/javascript\">                require([\"plotly\"], function(Plotly) {                    window.PLOTLYENV=window.PLOTLYENV || {};                                    if (document.getElementById(\"70cf97be-76b4-47a1-8f25-5b1a273f79cf\")) {                    Plotly.newPlot(                        \"70cf97be-76b4-47a1-8f25-5b1a273f79cf\",                        [{\"customdata\":[[\"Algeria\"],[\"Benin\"],[\"Egypt\"],[\"Ethiopia\"],[\"Kenya\"],[\"Malawi\"],[\"Mali\"],[\"Mauritania\"],[\"Mauritius\"],[\"Mozambique\"],[\"Namibia\"],[\"Nigeria\"],[\"Rwanda\"],[\"Togo\"],[\"Zambia\"],[\"Zimbabwe\"]],\"hovertemplate\":\"Continent=Africa<br>GDP per capita ($)=%{x}<br>Medical doctors (per 1,000 people)=%{y}<br>Entity=%{customdata[0]}<extra></extra>\",\"legendgroup\":\"Africa\",\"marker\":{\"color\":\"#636efa\",\"symbol\":\"circle\"},\"mode\":\"markers\",\"name\":\"Africa\",\"orientation\":\"v\",\"showlegend\":true,\"x\":[11642.1983450506,3160.7806702321,11366.3355206681,2103.51585836696,4203.83827267811,1471.03724879602,2283.70241285673,5042.43119844404,22208.1381171868,1289.73594800556,10092.258820242,5155.07599367409,2088.74922433298,2061.33417572853,3521.5420629895,3341.66541766316],\"xaxis\":\"x\",\"y\":[1.7193,0.0791,0.4521,0.0769,0.1565,0.0358,0.1286,0.1865,2.5331,0.0838,0.4182,0.3806,0.134,0.0774,1.1867,0.2096],\"yaxis\":\"y\",\"type\":\"scatter\"},{\"customdata\":[[\"Bangladesh\"],[\"Bhutan\"],[\"Georgia\"],[\"India\"],[\"Indonesia\"],[\"Iran\"],[\"Iraq\"],[\"Israel\"],[\"Lebanon\"],[\"Maldives\"],[\"Myanmar\"],[\"Nepal\"],[\"Oman\"],[\"Pakistan\"],[\"Qatar\"],[\"Saudi Arabia\"],[\"Sri Lanka\"],[\"Thailand\"],[\"Timor\"],[\"United Arab Emirates\"]],\"hovertemplate\":\"Continent=Asia<br>GDP per capita ($)=%{x}<br>Medical doctors (per 1,000 people)=%{y}<br>Entity=%{customdata[0]}<extra></extra>\",\"legendgroup\":\"Asia\",\"marker\":{\"color\":\"#EF553B\",\"symbol\":\"circle\"},\"mode\":\"markers\",\"name\":\"Asia\",\"orientation\":\"v\",\"showlegend\":true,\"x\":[4440.85547046826,11348.4419521,14253.4089858441,6518.84505546914,11371.7255560847,13471.8606376875,10346.2129581855,39418.3453068224,15588.1528714896,18795.5303498427,5029.1880858737,3773.71591761441,28350.9435298546,4739.47271266276,90970.0609016321,47592.7671473292,12860.3208303539,18095.7365704368,3051.66811727864,66968.2211775042],\"xaxis\":\"x\",\"y\":[0.5809,0.4242,7.1201,0.8571,0.4269,1.5844,0.7079,4.6249,2.1038,4.5627,0.677,0.7486,2.0031,0.9801,2.4852,2.6117,1.0041,0.805,0.7224,2.5278],\"yaxis\":\"y\",\"type\":\"scatter\"},{\"customdata\":[[\"Brazil\"],[\"Chile\"],[\"Colombia\"],[\"Guyana\"],[\"Paraguay\"],[\"Suriname\"]],\"hovertemplate\":\"Continent=South America<br>GDP per capita ($)=%{x}<br>Medical doctors (per 1,000 people)=%{y}<br>Entity=%{customdata[0]}<extra></extra>\",\"legendgroup\":\"South America\",\"marker\":{\"color\":\"#00cc96\",\"symbol\":\"circle\"},\"mode\":\"markers\",\"name\":\"South America\",\"orientation\":\"v\",\"showlegend\":true,\"x\":[14668.2561636292,25028.9099914542,14314.8555765268,12477.5767111562,12827.7080209236,19005.6543464151],\"xaxis\":\"x\",\"y\":[2.1643,2.5912,2.1848,0.8023,1.3544,1.2101],\"yaxis\":\"y\",\"type\":\"scatter\"},{\"customdata\":[[\"Costa Rica\"],[\"Guatemala\"],[\"Haiti\"],[\"Nicaragua\"],[\"Trinidad and Tobago\"]],\"hovertemplate\":\"Continent=North America<br>GDP per capita ($)=%{x}<br>Medical doctors (per 1,000 people)=%{y}<br>Entity=%{customdata[0]}<extra></extra>\",\"legendgroup\":\"North America\",\"marker\":{\"color\":\"#ab63fa\",\"symbol\":\"circle\"},\"mode\":\"markers\",\"name\":\"North America\",\"orientation\":\"v\",\"showlegend\":true,\"x\":[20559.8604252658,8462.17210684372,2992.31041114318,5729.68822390273,26250.3722429394],\"xaxis\":\"x\",\"y\":[2.8939,0.3549,0.2343,0.9775,4.1675],\"yaxis\":\"y\",\"type\":\"scatter\"},{\"customdata\":[[\"Czechia\"],[\"Estonia\"],[\"France\"],[\"Hungary\"],[\"Iceland\"],[\"Ireland\"],[\"Italy\"],[\"Lithuania\"],[\"Montenegro\"],[\"Norway\"],[\"United Kingdom\"]],\"hovertemplate\":\"Continent=Europe<br>GDP per capita ($)=%{x}<br>Medical doctors (per 1,000 people)=%{y}<br>Entity=%{customdata[0]}<extra></extra>\",\"legendgroup\":\"Europe\",\"marker\":{\"color\":\"#FFA15A\",\"symbol\":\"circle\"},\"mode\":\"markers\",\"name\":\"Europe\",\"orientation\":\"v\",\"showlegend\":true,\"x\":[39932.992193117,35208.0239637019,45251.9054105957,31095.557503677,56722.1193741156,84303.3408922937,42052.5563822519,35427.4618636641,20686.5759142606,64341.2589026158,46037.9005384222],\"xaxis\":\"x\",\"y\":[4.1208,4.4833,3.2672,3.4075,4.0778,3.3125,3.9774,6.3528,2.7557,2.9164,2.8117],\"yaxis\":\"y\",\"type\":\"scatter\"},{\"customdata\":[[\"New Zealand\"],[\"Papua New Guinea\"]],\"hovertemplate\":\"Continent=Oceania<br>GDP per capita ($)=%{x}<br>Medical doctors (per 1,000 people)=%{y}<br>Entity=%{customdata[0]}<extra></extra>\",\"legendgroup\":\"Oceania\",\"marker\":{\"color\":\"#19d3f3\",\"symbol\":\"circle\"},\"mode\":\"markers\",\"name\":\"Oceania\",\"orientation\":\"v\",\"showlegend\":true,\"x\":[42866.1272276586,4190.0948949613],\"xaxis\":\"x\",\"y\":[3.5898,0.0699],\"yaxis\":\"y\",\"type\":\"scatter\"},{\"hovertemplate\":\"<b>OLS trendline</b><br>Physicians (per 1,000 people) = 2.586 * log10(GDP per capita, PPP (constant 2017 international $)) + -8.71805<br>R<sup>2</sup>=0.549879<br><br>GDP per capita ($)=%{x}<br>Medical doctors (per 1,000 people)=%{y} <b>(trend)</b><extra></extra>\",\"legendgroup\":\"Overall Trendline\",\"line\":{\"color\":\"black\"},\"mode\":\"lines\",\"name\":\"Overall Trendline\",\"showlegend\":true,\"x\":[1289.73594800556,1471.03724879602,2061.33417572853,2088.74922433298,2103.51585836696,2283.70241285673,2992.31041114318,3051.66811727864,3160.7806702321,3341.66541766316,3521.5420629895,3773.71591761441,4190.0948949613,4203.83827267811,4440.85547046826,4739.47271266276,5029.1880858737,5042.43119844404,5155.07599367409,5729.68822390273,6518.84505546914,8462.17210684372,10092.258820242,10346.2129581855,11348.4419521,11366.3355206681,11371.7255560847,11642.1983450506,12477.5767111562,12827.7080209236,12860.3208303539,13471.8606376875,14253.4089858441,14314.8555765268,14668.2561636292,15588.1528714896,18095.7365704368,18795.5303498427,19005.6543464151,20559.8604252658,20686.5759142606,22208.1381171868,25028.9099914542,26250.3722429394,28350.9435298546,31095.557503677,35208.0239637019,35427.4618636641,39418.3453068224,39932.992193117,42052.5563822519,42866.1272276586,45251.9054105957,46037.9005384222,47592.7671473292,56722.1193741156,64341.2589026158,66968.2211775042,84303.3408922937,90970.0609016321],\"y\":[-0.6743071733046904,-0.5265877189315198,-0.14767546143614219,-0.13283728490778302,-0.12492546137026217,-0.032621672360940934,0.2708891691699371,0.29294940649513634,0.3324040913407096,0.3949039838247792,0.45378687699424347,0.5314606652827454,0.6490061847301796,0.6526838346347006,0.7142838934348177,0.7873728791512207,0.8540084176437972,0.8569618908862839,0.8817747491762002,1.0004613751752256,1.1453796865081074,1.4384018931921574,1.6362474010167052,1.6641581342460334,1.7679983244475999,1.7697677430364376,1.7703001947372403,1.7966996474413914,1.8745258311511996,1.9056064356491564,1.9084581084022219,1.9606325742061763,2.0239666101836455,2.0287978280470114,2.05618743502445,2.1244995248086074,2.2920244546964206,2.3346373091107253,2.3471231194904476,2.435402105025876,2.4423027019262147,2.522012224293345,2.656302403248864,2.709815771823191,2.796270894149904,2.900049029248782,3.0395461530610035,3.0465241716064604,3.1664066429838122,3.1809747528500534,3.2390576233813544,3.2605778793376103,3.321407266859616,3.3407469930996623,3.378051127224653,3.575133682265111,3.7166835715348103,3.7616261230316006,4.020163636788199,4.105640345235269],\"type\":\"scatter\",\"xaxis\":\"x\",\"yaxis\":\"y\"}],                        {\"template\":{\"data\":{\"bar\":[{\"error_x\":{\"color\":\"#2a3f5f\"},\"error_y\":{\"color\":\"#2a3f5f\"},\"marker\":{\"line\":{\"color\":\"#E5ECF6\",\"width\":0.5},\"pattern\":{\"fillmode\":\"overlay\",\"size\":10,\"solidity\":0.2}},\"type\":\"bar\"}],\"barpolar\":[{\"marker\":{\"line\":{\"color\":\"#E5ECF6\",\"width\":0.5},\"pattern\":{\"fillmode\":\"overlay\",\"size\":10,\"solidity\":0.2}},\"type\":\"barpolar\"}],\"carpet\":[{\"aaxis\":{\"endlinecolor\":\"#2a3f5f\",\"gridcolor\":\"white\",\"linecolor\":\"white\",\"minorgridcolor\":\"white\",\"startlinecolor\":\"#2a3f5f\"},\"baxis\":{\"endlinecolor\":\"#2a3f5f\",\"gridcolor\":\"white\",\"linecolor\":\"white\",\"minorgridcolor\":\"white\",\"startlinecolor\":\"#2a3f5f\"},\"type\":\"carpet\"}],\"choropleth\":[{\"colorbar\":{\"outlinewidth\":0,\"ticks\":\"\"},\"type\":\"choropleth\"}],\"contour\":[{\"colorbar\":{\"outlinewidth\":0,\"ticks\":\"\"},\"colorscale\":[[0.0,\"#0d0887\"],[0.1111111111111111,\"#46039f\"],[0.2222222222222222,\"#7201a8\"],[0.3333333333333333,\"#9c179e\"],[0.4444444444444444,\"#bd3786\"],[0.5555555555555556,\"#d8576b\"],[0.6666666666666666,\"#ed7953\"],[0.7777777777777778,\"#fb9f3a\"],[0.8888888888888888,\"#fdca26\"],[1.0,\"#f0f921\"]],\"type\":\"contour\"}],\"contourcarpet\":[{\"colorbar\":{\"outlinewidth\":0,\"ticks\":\"\"},\"type\":\"contourcarpet\"}],\"heatmap\":[{\"colorbar\":{\"outlinewidth\":0,\"ticks\":\"\"},\"colorscale\":[[0.0,\"#0d0887\"],[0.1111111111111111,\"#46039f\"],[0.2222222222222222,\"#7201a8\"],[0.3333333333333333,\"#9c179e\"],[0.4444444444444444,\"#bd3786\"],[0.5555555555555556,\"#d8576b\"],[0.6666666666666666,\"#ed7953\"],[0.7777777777777778,\"#fb9f3a\"],[0.8888888888888888,\"#fdca26\"],[1.0,\"#f0f921\"]],\"type\":\"heatmap\"}],\"heatmapgl\":[{\"colorbar\":{\"outlinewidth\":0,\"ticks\":\"\"},\"colorscale\":[[0.0,\"#0d0887\"],[0.1111111111111111,\"#46039f\"],[0.2222222222222222,\"#7201a8\"],[0.3333333333333333,\"#9c179e\"],[0.4444444444444444,\"#bd3786\"],[0.5555555555555556,\"#d8576b\"],[0.6666666666666666,\"#ed7953\"],[0.7777777777777778,\"#fb9f3a\"],[0.8888888888888888,\"#fdca26\"],[1.0,\"#f0f921\"]],\"type\":\"heatmapgl\"}],\"histogram\":[{\"marker\":{\"pattern\":{\"fillmode\":\"overlay\",\"size\":10,\"solidity\":0.2}},\"type\":\"histogram\"}],\"histogram2d\":[{\"colorbar\":{\"outlinewidth\":0,\"ticks\":\"\"},\"colorscale\":[[0.0,\"#0d0887\"],[0.1111111111111111,\"#46039f\"],[0.2222222222222222,\"#7201a8\"],[0.3333333333333333,\"#9c179e\"],[0.4444444444444444,\"#bd3786\"],[0.5555555555555556,\"#d8576b\"],[0.6666666666666666,\"#ed7953\"],[0.7777777777777778,\"#fb9f3a\"],[0.8888888888888888,\"#fdca26\"],[1.0,\"#f0f921\"]],\"type\":\"histogram2d\"}],\"histogram2dcontour\":[{\"colorbar\":{\"outlinewidth\":0,\"ticks\":\"\"},\"colorscale\":[[0.0,\"#0d0887\"],[0.1111111111111111,\"#46039f\"],[0.2222222222222222,\"#7201a8\"],[0.3333333333333333,\"#9c179e\"],[0.4444444444444444,\"#bd3786\"],[0.5555555555555556,\"#d8576b\"],[0.6666666666666666,\"#ed7953\"],[0.7777777777777778,\"#fb9f3a\"],[0.8888888888888888,\"#fdca26\"],[1.0,\"#f0f921\"]],\"type\":\"histogram2dcontour\"}],\"mesh3d\":[{\"colorbar\":{\"outlinewidth\":0,\"ticks\":\"\"},\"type\":\"mesh3d\"}],\"parcoords\":[{\"line\":{\"colorbar\":{\"outlinewidth\":0,\"ticks\":\"\"}},\"type\":\"parcoords\"}],\"pie\":[{\"automargin\":true,\"type\":\"pie\"}],\"scatter\":[{\"marker\":{\"colorbar\":{\"outlinewidth\":0,\"ticks\":\"\"}},\"type\":\"scatter\"}],\"scatter3d\":[{\"line\":{\"colorbar\":{\"outlinewidth\":0,\"ticks\":\"\"}},\"marker\":{\"colorbar\":{\"outlinewidth\":0,\"ticks\":\"\"}},\"type\":\"scatter3d\"}],\"scattercarpet\":[{\"marker\":{\"colorbar\":{\"outlinewidth\":0,\"ticks\":\"\"}},\"type\":\"scattercarpet\"}],\"scattergeo\":[{\"marker\":{\"colorbar\":{\"outlinewidth\":0,\"ticks\":\"\"}},\"type\":\"scattergeo\"}],\"scattergl\":[{\"marker\":{\"colorbar\":{\"outlinewidth\":0,\"ticks\":\"\"}},\"type\":\"scattergl\"}],\"scattermapbox\":[{\"marker\":{\"colorbar\":{\"outlinewidth\":0,\"ticks\":\"\"}},\"type\":\"scattermapbox\"}],\"scatterpolar\":[{\"marker\":{\"colorbar\":{\"outlinewidth\":0,\"ticks\":\"\"}},\"type\":\"scatterpolar\"}],\"scatterpolargl\":[{\"marker\":{\"colorbar\":{\"outlinewidth\":0,\"ticks\":\"\"}},\"type\":\"scatterpolargl\"}],\"scatterternary\":[{\"marker\":{\"colorbar\":{\"outlinewidth\":0,\"ticks\":\"\"}},\"type\":\"scatterternary\"}],\"surface\":[{\"colorbar\":{\"outlinewidth\":0,\"ticks\":\"\"},\"colorscale\":[[0.0,\"#0d0887\"],[0.1111111111111111,\"#46039f\"],[0.2222222222222222,\"#7201a8\"],[0.3333333333333333,\"#9c179e\"],[0.4444444444444444,\"#bd3786\"],[0.5555555555555556,\"#d8576b\"],[0.6666666666666666,\"#ed7953\"],[0.7777777777777778,\"#fb9f3a\"],[0.8888888888888888,\"#fdca26\"],[1.0,\"#f0f921\"]],\"type\":\"surface\"}],\"table\":[{\"cells\":{\"fill\":{\"color\":\"#EBF0F8\"},\"line\":{\"color\":\"white\"}},\"header\":{\"fill\":{\"color\":\"#C8D4E3\"},\"line\":{\"color\":\"white\"}},\"type\":\"table\"}]},\"layout\":{\"annotationdefaults\":{\"arrowcolor\":\"#2a3f5f\",\"arrowhead\":0,\"arrowwidth\":1},\"autotypenumbers\":\"strict\",\"coloraxis\":{\"colorbar\":{\"outlinewidth\":0,\"ticks\":\"\"}},\"colorscale\":{\"diverging\":[[0,\"#8e0152\"],[0.1,\"#c51b7d\"],[0.2,\"#de77ae\"],[0.3,\"#f1b6da\"],[0.4,\"#fde0ef\"],[0.5,\"#f7f7f7\"],[0.6,\"#e6f5d0\"],[0.7,\"#b8e186\"],[0.8,\"#7fbc41\"],[0.9,\"#4d9221\"],[1,\"#276419\"]],\"sequential\":[[0.0,\"#0d0887\"],[0.1111111111111111,\"#46039f\"],[0.2222222222222222,\"#7201a8\"],[0.3333333333333333,\"#9c179e\"],[0.4444444444444444,\"#bd3786\"],[0.5555555555555556,\"#d8576b\"],[0.6666666666666666,\"#ed7953\"],[0.7777777777777778,\"#fb9f3a\"],[0.8888888888888888,\"#fdca26\"],[1.0,\"#f0f921\"]],\"sequentialminus\":[[0.0,\"#0d0887\"],[0.1111111111111111,\"#46039f\"],[0.2222222222222222,\"#7201a8\"],[0.3333333333333333,\"#9c179e\"],[0.4444444444444444,\"#bd3786\"],[0.5555555555555556,\"#d8576b\"],[0.6666666666666666,\"#ed7953\"],[0.7777777777777778,\"#fb9f3a\"],[0.8888888888888888,\"#fdca26\"],[1.0,\"#f0f921\"]]},\"colorway\":[\"#636efa\",\"#EF553B\",\"#00cc96\",\"#ab63fa\",\"#FFA15A\",\"#19d3f3\",\"#FF6692\",\"#B6E880\",\"#FF97FF\",\"#FECB52\"],\"font\":{\"color\":\"#2a3f5f\"},\"geo\":{\"bgcolor\":\"white\",\"lakecolor\":\"white\",\"landcolor\":\"#E5ECF6\",\"showlakes\":true,\"showland\":true,\"subunitcolor\":\"white\"},\"hoverlabel\":{\"align\":\"left\"},\"hovermode\":\"closest\",\"mapbox\":{\"style\":\"light\"},\"paper_bgcolor\":\"white\",\"plot_bgcolor\":\"#E5ECF6\",\"polar\":{\"angularaxis\":{\"gridcolor\":\"white\",\"linecolor\":\"white\",\"ticks\":\"\"},\"bgcolor\":\"#E5ECF6\",\"radialaxis\":{\"gridcolor\":\"white\",\"linecolor\":\"white\",\"ticks\":\"\"}},\"scene\":{\"xaxis\":{\"backgroundcolor\":\"#E5ECF6\",\"gridcolor\":\"white\",\"gridwidth\":2,\"linecolor\":\"white\",\"showbackground\":true,\"ticks\":\"\",\"zerolinecolor\":\"white\"},\"yaxis\":{\"backgroundcolor\":\"#E5ECF6\",\"gridcolor\":\"white\",\"gridwidth\":2,\"linecolor\":\"white\",\"showbackground\":true,\"ticks\":\"\",\"zerolinecolor\":\"white\"},\"zaxis\":{\"backgroundcolor\":\"#E5ECF6\",\"gridcolor\":\"white\",\"gridwidth\":2,\"linecolor\":\"white\",\"showbackground\":true,\"ticks\":\"\",\"zerolinecolor\":\"white\"}},\"shapedefaults\":{\"line\":{\"color\":\"#2a3f5f\"}},\"ternary\":{\"aaxis\":{\"gridcolor\":\"white\",\"linecolor\":\"white\",\"ticks\":\"\"},\"baxis\":{\"gridcolor\":\"white\",\"linecolor\":\"white\",\"ticks\":\"\"},\"bgcolor\":\"#E5ECF6\",\"caxis\":{\"gridcolor\":\"white\",\"linecolor\":\"white\",\"ticks\":\"\"}},\"title\":{\"x\":0.05},\"xaxis\":{\"automargin\":true,\"gridcolor\":\"white\",\"linecolor\":\"white\",\"ticks\":\"\",\"title\":{\"standoff\":15},\"zerolinecolor\":\"white\",\"zerolinewidth\":2},\"yaxis\":{\"automargin\":true,\"gridcolor\":\"white\",\"linecolor\":\"white\",\"ticks\":\"\",\"title\":{\"standoff\":15},\"zerolinecolor\":\"white\",\"zerolinewidth\":2}}},\"xaxis\":{\"anchor\":\"y\",\"domain\":[0.0,1.0],\"title\":{\"text\":\"GDP per capita ($)\"},\"type\":\"log\",\"range\":[3.1019998628285412,5.004192618211133]},\"yaxis\":{\"anchor\":\"x\",\"domain\":[0.0,1.0],\"title\":{\"text\":\"Medical doctors (per 1,000 people)\"},\"range\":[-0.9642,7.6201]},\"legend\":{\"title\":{\"text\":\"Continent\"},\"tracegroupgap\":0},\"title\":{\"text\":\"Medical doctors per 1000 people vs. GDP per capita, 2018\"}},                        {\"responsive\": true}                    ).then(function(){\n",
       "                            \n",
       "var gd = document.getElementById('70cf97be-76b4-47a1-8f25-5b1a273f79cf');\n",
       "var x = new MutationObserver(function (mutations, observer) {{\n",
       "        var display = window.getComputedStyle(gd).display;\n",
       "        if (!display || display === 'none') {{\n",
       "            console.log([gd, 'removed!']);\n",
       "            Plotly.purge(gd);\n",
       "            observer.disconnect();\n",
       "        }}\n",
       "}});\n",
       "\n",
       "// Listen for the removal of the full notebook cells\n",
       "var notebookContainer = gd.closest('#notebook-container');\n",
       "if (notebookContainer) {{\n",
       "    x.observe(notebookContainer, {childList: true});\n",
       "}}\n",
       "\n",
       "// Listen for the clearing of the current output cell\n",
       "var outputEl = gd.closest('.output');\n",
       "if (outputEl) {{\n",
       "    x.observe(outputEl, {childList: true});\n",
       "}}\n",
       "\n",
       "                        })                };                });            </script>        </div>"
      ]
     },
     "metadata": {},
     "output_type": "display_data"
    }
   ],
   "source": [
    "# Plot Medical doctors per 1,000 people vs. GDP per capita\n",
    "plotFigure(GDPperCapita('medical-doctors-per-1000-people-vs-gdp-per-capita.csv',\n",
    "           'GDP per capita, PPP (constant 2017 international $)',\n",
    "          'Physicians (per 1,000 people)',\n",
    "          'Medical doctors per 1000 people vs. GDP per capita'), 'GDP per capita ($)', \n",
    "           'Medical doctors (per 1,000 people)', 'Medical doctors per 1000 people vs. GDP per capita',\n",
    "          25, pow(10,4), 1, 0.5, 11)"
   ]
  },
  {
   "cell_type": "code",
   "execution_count": 22,
   "metadata": {},
   "outputs": [
    {
     "name": "stdout",
     "output_type": "stream",
     "text": [
      "---------------------------------------------------------------------------------------------------------------------\n",
      "List of years for which data is available: \n",
      "\n",
      "[1990, 1991, 1992, 1993, 1994, 1995, 1996, 1997, 1998, 1999, 2000, 2001, 2002, 2003, 2004, 2005, 2006, 2007, 2008, 2009, 2010, 2011, 2012, 2013, 2014, 2015, 2016, 2017, 2018]\n",
      "---------------------------------------------------------------------------------------------------------------------\n",
      "Year of interest for the data \"Medical doctors per 1000 people vs. GDP per capita\": \n",
      "2018\n",
      "---------------------------------------------------------------------------------------------------------------------\n",
      "GPD per capita median: 12844.014426 \n",
      "\n",
      "Medical doctors (per 1,000 people) median: 1.198400 \n",
      "\n",
      "---------------------------------------------------------------------------------------------------------------------\n",
      "\n",
      "\n"
     ]
    }
   ],
   "source": [
    "medianFilter(GDPperCapita('medical-doctors-per-1000-people-vs-gdp-per-capita.csv',\n",
    "           'GDP per capita, PPP (constant 2017 international $)',\n",
    "          'Physicians (per 1,000 people)',\n",
    "          'Medical doctors per 1000 people vs. GDP per capita'),\n",
    "             'Medical doctors (per 1,000 people)', 12, 'none')"
   ]
  },
  {
   "cell_type": "markdown",
   "metadata": {},
   "source": [
    "---"
   ]
  },
  {
   "cell_type": "markdown",
   "metadata": {},
   "source": [
    "#### 5. Child mortality vs. GDP per capita\n",
    "> Child mortality is defined as the number of children born alive that die before their 5th birthday. <br>\n",
    "\n",
    "**_How has child mortality evolved from 1986 to 2016 (30 years)?_**\n"
   ]
  },
  {
   "cell_type": "markdown",
   "metadata": {},
   "source": [
    "First of all, we can see that the trendline of 1986 starts at around 21% whilst it in 2016 starts at around 9% which indicates that the overall percentage of child mortality has decreased. We can also find most of Africa's countries on the upper left side of the graph. As we have seen earlier, Africa has many developing countries with lower GDPs. A much lower GDP per capita can be the cause of higher child mortality rates as the trendline in both graphs are quite evident. There seem to be a higher variance between the countries in 2016 as opposed to 1986, at leats for most of Africa and some of Asia. One can also argue that countries with a lower GDP and greater population size tend to have a greater child mortaility rate.  "
   ]
  },
  {
   "cell_type": "code",
   "execution_count": 8,
   "metadata": {},
   "outputs": [
    {
     "name": "stdout",
     "output_type": "stream",
     "text": [
      "---------------------------------------------------------------------------------------------------------------------\n",
      "List of years for which data is available: \n",
      "\n",
      "[1800, 1801, 1802, 1803, 1804, 1805, 1806, 1807, 1808, 1809, 1810, 1811, 1812, 1813, 1814, 1815, 1816, 1817, 1818, 1819, 1820, 1821, 1822, 1823, 1824, 1825, 1826, 1827, 1828, 1829, 1830, 1831, 1832, 1833, 1834, 1835, 1836, 1837, 1838, 1839, 1840, 1841, 1842, 1843, 1844, 1845, 1846, 1847, 1848, 1849, 1850, 1851, 1852, 1853, 1854, 1855, 1856, 1857, 1858, 1859, 1860, 1861, 1862, 1863, 1864, 1865, 1866, 1867, 1868, 1869, 1870, 1871, 1872, 1873, 1874, 1875, 1876, 1877, 1878, 1879, 1880, 1881, 1882, 1883, 1884, 1885, 1886, 1887, 1888, 1889, 1890, 1891, 1892, 1893, 1894, 1895, 1896, 1897, 1898, 1899, 1900, 1901, 1902, 1903, 1904, 1905, 1906, 1907, 1908, 1909, 1910, 1911, 1912, 1913, 1914, 1915, 1916, 1917, 1918, 1919, 1920, 1921, 1922, 1923, 1924, 1925, 1926, 1927, 1928, 1929, 1930, 1931, 1932, 1933, 1934, 1935, 1936, 1937, 1938, 1939, 1940, 1941, 1942, 1943, 1944, 1945, 1946, 1947, 1948, 1949, 1950, 1951, 1952, 1953, 1954, 1955, 1956, 1957, 1958, 1959, 1960, 1961, 1962, 1963, 1964, 1965, 1966, 1967, 1968, 1969, 1970, 1971, 1972, 1973, 1974, 1975, 1976, 1977, 1978, 1979, 1980, 1981, 1982, 1983, 1984, 1985, 1986, 1987, 1988, 1989, 1990, 1991, 1992, 1993, 1994, 1995, 1996, 1997, 1998, 1999, 2000, 2001, 2002, 2003, 2004, 2005, 2006, 2007, 2008, 2009, 2010, 2011, 2012, 2013, 2014, 2015, 2016]\n",
      "---------------------------------------------------------------------------------------------------------------------\n",
      "Year of interest for the data \"Child mortality vs. GDP per capita\": \n",
      "2016\n",
      "---------------------------------------------------------------------------------------------------------------------\n",
      "Figure 13 :\n"
     ]
    },
    {
     "data": {
      "application/vnd.plotly.v1+json": {
       "config": {
        "plotlyServerURL": "https://plot.ly"
       },
       "data": [
        {
         "customdata": [
          [
           "Afghanistan"
          ],
          [
           "Armenia"
          ],
          [
           "Azerbaijan"
          ],
          [
           "Bahrain"
          ],
          [
           "Bangladesh"
          ],
          [
           "Cambodia"
          ],
          [
           "China"
          ],
          [
           "Georgia"
          ],
          [
           "Hong Kong"
          ],
          [
           "India"
          ],
          [
           "Indonesia"
          ],
          [
           "Iran"
          ],
          [
           "Iraq"
          ],
          [
           "Israel"
          ],
          [
           "Japan"
          ],
          [
           "Jordan"
          ],
          [
           "Kazakhstan"
          ],
          [
           "Kuwait"
          ],
          [
           "Kyrgyzstan"
          ],
          [
           "Laos"
          ],
          [
           "Lebanon"
          ],
          [
           "Malaysia"
          ],
          [
           "Mongolia"
          ],
          [
           "Myanmar"
          ],
          [
           "Nepal"
          ],
          [
           "North Korea"
          ],
          [
           "Oman"
          ],
          [
           "Pakistan"
          ],
          [
           "Palestine"
          ],
          [
           "Philippines"
          ],
          [
           "Qatar"
          ],
          [
           "Saudi Arabia"
          ],
          [
           "Singapore"
          ],
          [
           "South Korea"
          ],
          [
           "Sri Lanka"
          ],
          [
           "Syria"
          ],
          [
           "Tajikistan"
          ],
          [
           "Thailand"
          ],
          [
           "Turkey"
          ],
          [
           "Turkmenistan"
          ],
          [
           "United Arab Emirates"
          ],
          [
           "Uzbekistan"
          ],
          [
           "Vietnam"
          ],
          [
           "Yemen"
          ]
         ],
         "hovertemplate": "Continent=Asia<br>GDP per capita ($)=%{x}<br>Child mortality rate (% children < 5 y.o.)=%{y}<br>Entity=%{customdata[0]}<extra></extra>",
         "legendgroup": "Asia",
         "marker": {
          "color": "#636efa",
          "symbol": "circle"
         },
         "mode": "markers",
         "name": "Asia",
         "orientation": "v",
         "showlegend": true,
         "type": "scatter",
         "x": [
          1929,
          10080,
          16645,
          41078,
          3604,
          3251,
          12569,
          10899,
          48330,
          6125,
          10911,
          16783,
          13898,
          31701,
          37465,
          11529,
          23842,
          71010,
          4879,
          5859,
          12972,
          23053,
          12360,
          5284,
          2435,
          1742.0223,
          38515,
          5223,
          5321.3826,
          7410,
          156299,
          51397,
          65729,
          36103,
          11149,
          3091,
          3991,
          15454,
          17906,
          23813,
          75876,
          10381,
          6062,
          2506
         ],
         "xaxis": "x",
         "y": [
          7.040000000000001,
          1.34,
          3.09,
          0.76,
          3.4200000000000004,
          3.0600000000000005,
          0.99,
          1.07,
          0.2282,
          4.3,
          2.64,
          1.51,
          3.12,
          0.36,
          0.27,
          1.7600000000000002,
          1.14,
          0.8400000000000001,
          2.1100000000000003,
          6.390000000000001,
          0.81,
          0.8300000000000001,
          1.79,
          5.08,
          3.45,
          2,
          1.07,
          7.88,
          1.94,
          2.7100000000000004,
          0.8500000000000001,
          1.29,
          0.2799999999999999,
          0.34,
          0.94,
          1.9123,
          4.3100000000000005,
          1.22,
          1.27,
          5.1000000000000005,
          0.77,
          2.41,
          2.16,
          5.53
         ],
         "yaxis": "y"
        },
        {
         "customdata": [
          [
           "Albania"
          ],
          [
           "Austria"
          ],
          [
           "Belarus"
          ],
          [
           "Belgium"
          ],
          [
           "Bosnia and Herzegovina"
          ],
          [
           "Bulgaria"
          ],
          [
           "Croatia"
          ],
          [
           "Cyprus"
          ],
          [
           "Czechia"
          ],
          [
           "Denmark"
          ],
          [
           "Estonia"
          ],
          [
           "Finland"
          ],
          [
           "France"
          ],
          [
           "Germany"
          ],
          [
           "Greece"
          ],
          [
           "Hungary"
          ],
          [
           "Iceland"
          ],
          [
           "Ireland"
          ],
          [
           "Italy"
          ],
          [
           "Latvia"
          ],
          [
           "Lithuania"
          ],
          [
           "Luxembourg"
          ],
          [
           "Malta"
          ],
          [
           "Moldova"
          ],
          [
           "Montenegro"
          ],
          [
           "Netherlands"
          ],
          [
           "North Macedonia"
          ],
          [
           "Norway"
          ],
          [
           "Poland"
          ],
          [
           "Portugal"
          ],
          [
           "Romania"
          ],
          [
           "Russia"
          ],
          [
           "Serbia"
          ],
          [
           "Slovakia"
          ],
          [
           "Slovenia"
          ],
          [
           "Spain"
          ],
          [
           "Sweden"
          ],
          [
           "Switzerland"
          ],
          [
           "Ukraine"
          ],
          [
           "United Kingdom"
          ]
         ],
         "hovertemplate": "Continent=Europe<br>GDP per capita ($)=%{x}<br>Child mortality rate (% children < 5 y.o.)=%{y}<br>Entity=%{customdata[0]}<extra></extra>",
         "legendgroup": "Europe",
         "marker": {
          "color": "#EF553B",
          "symbol": "circle"
         },
         "mode": "markers",
         "name": "Europe",
         "orientation": "v",
         "showlegend": true,
         "type": "scatter",
         "x": [
          10342,
          41445,
          17628,
          38766,
          9746,
          17037,
          20376,
          25577,
          28823,
          44836,
          24857,
          37239,
          37124,
          44689,
          22574,
          23279,
          42085,
          56597,
          33419,
          22092,
          24743,
          57006,
          29817,
          6068,
          17741,
          45600,
          12644,
          82814,
          24838,
          25346,
          17782,
          23635,
          13184,
          25364,
          26908,
          30110,
          44659,
          59662,
          9214,
          37334
         ],
         "xaxis": "x",
         "y": [
          1.35,
          0.35,
          0.39,
          0.39,
          0.6000000000000001,
          0.76,
          0.47,
          0.26,
          0.32,
          0.44,
          0.29,
          0.2299999999999999,
          0.39,
          0.38,
          0.38,
          0.52,
          0.21,
          0.36,
          0.33,
          0.4599999999999999,
          0.53,
          0.24,
          0.68,
          1.59,
          0.38,
          0.38,
          1.22,
          0.26,
          0.47,
          0.35,
          0.9,
          0.77,
          0.58,
          0.5900000000000001,
          0.2299999999999999,
          0.33,
          0.29,
          0.41,
          0.91,
          0.43
         ],
         "yaxis": "y"
        },
        {
         "customdata": [
          [
           "Algeria"
          ],
          [
           "Angola"
          ],
          [
           "Benin"
          ],
          [
           "Botswana"
          ],
          [
           "Burkina Faso"
          ],
          [
           "Burundi"
          ],
          [
           "Cameroon"
          ],
          [
           "Cape Verde"
          ],
          [
           "Central African Republic"
          ],
          [
           "Chad"
          ],
          [
           "Comoros"
          ],
          [
           "Congo"
          ],
          [
           "Cote d'Ivoire"
          ],
          [
           "Democratic Republic of Congo"
          ],
          [
           "Djibouti"
          ],
          [
           "Egypt"
          ],
          [
           "Equatorial Guinea"
          ],
          [
           "Eswatini"
          ],
          [
           "Ethiopia"
          ],
          [
           "Gabon"
          ],
          [
           "Gambia"
          ],
          [
           "Ghana"
          ],
          [
           "Guinea"
          ],
          [
           "Guinea-Bissau"
          ],
          [
           "Kenya"
          ],
          [
           "Lesotho"
          ],
          [
           "Liberia"
          ],
          [
           "Libya"
          ],
          [
           "Madagascar"
          ],
          [
           "Malawi"
          ],
          [
           "Mali"
          ],
          [
           "Mauritania"
          ],
          [
           "Mauritius"
          ],
          [
           "Morocco"
          ],
          [
           "Mozambique"
          ],
          [
           "Namibia"
          ],
          [
           "Niger"
          ],
          [
           "Nigeria"
          ],
          [
           "Rwanda"
          ],
          [
           "Sao Tome and Principe"
          ],
          [
           "Senegal"
          ],
          [
           "Seychelles"
          ],
          [
           "Sierra Leone"
          ],
          [
           "South Africa"
          ],
          [
           "Sudan"
          ],
          [
           "Tanzania"
          ],
          [
           "Togo"
          ],
          [
           "Tunisia"
          ],
          [
           "Uganda"
          ],
          [
           "Zambia"
          ],
          [
           "Zimbabwe"
          ]
         ],
         "hovertemplate": "Continent=Africa<br>GDP per capita ($)=%{x}<br>Child mortality rate (% children < 5 y.o.)=%{y}<br>Entity=%{customdata[0]}<extra></extra>",
         "legendgroup": "Africa",
         "marker": {
          "color": "#00cc96",
          "symbol": "circle"
         },
         "mode": "markers",
         "name": "Africa",
         "orientation": "v",
         "showlegend": true,
         "type": "scatter",
         "x": [
          14331,
          8453,
          2080,
          15198,
          1483,
          665,
          2828,
          6418,
          589,
          2189,
          1702,
          5974,
          3395,
          836,
          3064,
          11351,
          33317,
          7881,
          1635,
          18413,
          1788,
          3878,
          1417,
          1436,
          3169,
          2767,
          829,
          8096,
          1381,
          1112,
          1594,
          3407,
          18918,
          8039,
          1113,
          9376,
          925,
          5360,
          1758,
          3624,
          2403,
          26624,
          1619,
          12139,
          3651,
          2660,
          1400,
          11073,
          1980,
          3479,
          1534
         ],
         "xaxis": "x",
         "y": [
          2.52,
          8.25,
          9.76,
          4.0600000000000005,
          8.459999999999999,
          7.170000000000001,
          7.970000000000001,
          2.14,
          12.36,
          12.73,
          7.33,
          5.41,
          9.18,
          9.43,
          6.420000000000001,
          2.28,
          9.090000000000002,
          7.040000000000001,
          5.84,
          4.74,
          6.53,
          5.88,
          8.9,
          8.81,
          4.920000000000001,
          9.35,
          6.740000000000001,
          1.29,
          4.64,
          5.510000000000001,
          11.06,
          8.14,
          1.37,
          2.7100000000000004,
          7.13,
          4.5200000000000005,
          9.13,
          10.43,
          3.85,
          3.38,
          4.71,
          1.4300000000000002,
          11.35,
          4.33,
          6.51,
          5.670000000000001,
          7.57,
          1.36,
          5.300000000000001,
          6.34,
          5.640000000000001
         ],
         "yaxis": "y"
        },
        {
         "customdata": [
          [
           "Argentina"
          ],
          [
           "Bolivia"
          ],
          [
           "Brazil"
          ],
          [
           "Chile"
          ],
          [
           "Colombia"
          ],
          [
           "Ecuador"
          ],
          [
           "Paraguay"
          ],
          [
           "Peru"
          ],
          [
           "Uruguay"
          ],
          [
           "Venezuela"
          ]
         ],
         "hovertemplate": "Continent=South America<br>GDP per capita ($)=%{x}<br>Child mortality rate (% children < 5 y.o.)=%{y}<br>Entity=%{customdata[0]}<extra></extra>",
         "legendgroup": "South America",
         "marker": {
          "color": "#ab63fa",
          "symbol": "circle"
         },
         "mode": "markers",
         "name": "South America",
         "orientation": "v",
         "showlegend": true,
         "type": "scatter",
         "x": [
          18875,
          6355,
          13873,
          21696,
          13326,
          10527,
          8786,
          11776,
          19468,
          15219
         ],
         "xaxis": "x",
         "y": [
          1.11,
          3.69,
          1.51,
          0.8300000000000001,
          1.5300000000000002,
          2.09,
          1.99,
          1.5300000000000002,
          0.92,
          1.63
         ],
         "yaxis": "y"
        },
        {
         "customdata": [
          [
           "Australia"
          ],
          [
           "New Zealand"
          ]
         ],
         "hovertemplate": "Continent=Oceania<br>GDP per capita ($)=%{x}<br>Child mortality rate (% children < 5 y.o.)=%{y}<br>Entity=%{customdata[0]}<extra></extra>",
         "legendgroup": "Oceania",
         "marker": {
          "color": "#FFA15A",
          "symbol": "circle"
         },
         "mode": "markers",
         "name": "Oceania",
         "orientation": "v",
         "showlegend": true,
         "type": "scatter",
         "x": [
          48845,
          34295
         ],
         "xaxis": "x",
         "y": [
          0.37,
          0.54
         ],
         "yaxis": "y"
        },
        {
         "customdata": [
          [
           "Barbados"
          ],
          [
           "Canada"
          ],
          [
           "Costa Rica"
          ],
          [
           "Cuba"
          ],
          [
           "Dominica"
          ],
          [
           "Dominican Republic"
          ],
          [
           "El Salvador"
          ],
          [
           "Guatemala"
          ],
          [
           "Haiti"
          ],
          [
           "Honduras"
          ],
          [
           "Jamaica"
          ],
          [
           "Mexico"
          ],
          [
           "Nicaragua"
          ],
          [
           "Panama"
          ],
          [
           "Puerto Rico"
          ],
          [
           "Saint Lucia"
          ],
          [
           "Trinidad and Tobago"
          ],
          [
           "United States"
          ]
         ],
         "hovertemplate": "Continent=North America<br>GDP per capita ($)=%{x}<br>Child mortality rate (% children < 5 y.o.)=%{y}<br>Entity=%{customdata[0]}<extra></extra>",
         "legendgroup": "North America",
         "marker": {
          "color": "#19d3f3",
          "symbol": "circle"
         },
         "mode": "markers",
         "name": "North America",
         "orientation": "v",
         "showlegend": true,
         "type": "scatter",
         "x": [
          12003,
          43745,
          14098,
          8000,
          9550,
          14489,
          8280,
          7221,
          1728,
          4796,
          7084,
          16133,
          5045,
          21449,
          35082,
          10233,
          29178,
          53015
         ],
         "xaxis": "x",
         "y": [
          1.2300000000000002,
          0.49,
          0.8800000000000001,
          0.55,
          3.4000000000000004,
          3.0700000000000003,
          1.5,
          2.85,
          6.7,
          1.87,
          1.5300000000000002,
          1.46,
          1.97,
          1.64,
          0.6479,
          1.33,
          1.85,
          0.65
         ],
         "yaxis": "y"
        },
        {
         "hovertemplate": "<b>OLS trendline</b><br>Child mortality (Select Gapminder, v10) (2017) = -4.59234 * log10(GDP per capita) + 21.4134<br>R<sup>2</sup>=0.604865<br><br>GDP per capita ($)=%{x}<br>Child mortality rate (% children < 5 y.o.)=%{y} <b>(trend)</b><extra></extra>",
         "legendgroup": "Overall Trendline",
         "line": {
          "color": "black"
         },
         "mode": "lines",
         "name": "Overall Trendline",
         "showlegend": true,
         "type": "scatter",
         "x": [
          589,
          665,
          829,
          836,
          925,
          1112,
          1113,
          1381,
          1400,
          1417,
          1436,
          1483,
          1534,
          1594,
          1619,
          1635,
          1702,
          1728,
          1742.0223,
          1758,
          1788,
          1929,
          1980,
          2080,
          2189,
          2403,
          2435,
          2506,
          2660,
          2767,
          2828,
          3064,
          3091,
          3169,
          3251,
          3395,
          3407,
          3479,
          3604,
          3624,
          3651,
          3878,
          3991,
          4796,
          4879,
          5045,
          5223,
          5284,
          5321.3826,
          5360,
          5859,
          5974,
          6062,
          6068,
          6125,
          6355,
          6418,
          7084,
          7221,
          7410,
          7881,
          8000,
          8039,
          8096,
          8280,
          8453,
          8786,
          9214,
          9376,
          9550,
          9746,
          10080,
          10233,
          10342,
          10381,
          10527,
          10899,
          10911,
          11073,
          11149,
          11351,
          11529,
          11776,
          12003,
          12139,
          12360,
          12569,
          12644,
          12972,
          13184,
          13326,
          13873,
          13898,
          14098,
          14331,
          14489,
          15198,
          15219,
          15454,
          16133,
          16645,
          16783,
          17037,
          17628,
          17741,
          17782,
          17906,
          18413,
          18875,
          18918,
          19468,
          20376,
          21449,
          21696,
          22092,
          22574,
          23053,
          23279,
          23635,
          23813,
          23842,
          24743,
          24838,
          24857,
          25346,
          25364,
          25577,
          26624,
          26908,
          28823,
          29178,
          29817,
          30110,
          31701,
          33317,
          33419,
          34295,
          35082,
          36103,
          37124,
          37239,
          37334,
          37465,
          38515,
          38766,
          41078,
          41445,
          42085,
          43745,
          44659,
          44689,
          44836,
          45600,
          48330,
          48845,
          51397,
          53015,
          56597,
          57006,
          59662,
          65729,
          71010,
          75876,
          82814,
          156299
         ],
         "xaxis": "x",
         "y": [
          8.69207767195036,
          8.450031955278735,
          8.010393570305414,
          7.993623490720397,
          7.791856746081958,
          7.424638855905254,
          7.422846109845734,
          6.992550257273839,
          6.965297645338136,
          6.941225427253489,
          6.914660598994406,
          6.8504288036930046,
          6.782993859785607,
          6.706471819506323,
          6.675434313943285,
          6.655820832145013,
          6.575722084314764,
          6.5454852507885555,
          6.52936625004844,
          6.511156867046763,
          6.4774093637786105,
          6.3260240458923,
          6.273979177827149,
          6.175711526605882,
          6.073842182729875,
          5.887815451027331,
          5.86143153777434,
          5.804109429934417,
          5.6851650909709495,
          5.60650960790054,
          5.563018976244381,
          5.403162423900227,
          5.385664470512975,
          5.335960451256739,
          5.285009628028394,
          5.198568804888197,
          5.191531703120283,
          5.149822675189597,
          5.079420410988121,
          5.068383139560389,
          5.053579056156568,
          4.933278130282158,
          4.8759935789389495,
          4.509536217119621,
          4.475315702540833,
          4.408587318951369,
          4.339431868441892,
          4.316273671396569,
          4.302213399331546,
          4.287792039471981,
          4.110257934605414,
          4.07149064735421,
          4.04232598220073,
          4.040352926946397,
          4.021705616195913,
          3.9481846527842954,
          3.928510324137072,
          3.731595922024276,
          3.6933931615003175,
          3.641863093563522,
          3.5189576299387895,
          3.48906762362099,
          3.4793684007618566,
          3.465276925736813,
          3.420456391055037,
          3.3792146938226004,
          3.3021536385635315,
          3.207289537830178,
          3.1725282881383556,
          3.135854868176832,
          3.0953364501760134,
          3.0281315070457104,
          2.9980863597073366,
          2.9769544143184454,
          2.9694475035187864,
          2.9415929509847345,
          2.8723310757248086,
          2.8701363796497787,
          2.8407419577696977,
          2.827099867938937,
          2.7912878096640092,
          2.760254970767395,
          2.7179771229757,
          2.679897360919032,
          2.6574265358140288,
          2.6214429483421675,
          2.5880003227468222,
          2.5761348025414854,
          2.5250566679173154,
          2.492725394863445,
          2.4713589860879495,
          2.3911280770515475,
          2.3875372261716983,
          2.359040815448239,
          2.326347962229054,
          2.304479601750444,
          2.2091975115012907,
          2.2064435887837277,
          2.175882496806583,
          2.090124019010865,
          2.0278120323458175,
          2.011344826181528,
          1.9813865347158135,
          1.913374287874678,
          1.900630283766752,
          1.8960264124470783,
          1.8821668351390706,
          1.826480190229205,
          1.7770555094401743,
          1.772517075293397,
          1.71536022144209,
          1.6244428485988252,
          1.522088136810499,
          1.4992521392874814,
          1.4631776094697777,
          1.4201313322684435,
          1.3782540666143532,
          1.358796899965359,
          1.3285274427515184,
          1.3135632638626618,
          1.3111358806713724,
          1.2371547200774238,
          1.2295118299269632,
          1.2279867602367318,
          1.1891322278234817,
          1.187716343819048,
          1.171037596434001,
          1.0910219591122114,
          1.0698599104868407,
          0.9327427793034175,
          0.908328322979699,
          0.8651215928796532,
          0.8456187776344208,
          0.7429238219564667,
          0.6437616647621205,
          0.6376650451320849,
          0.5860592315514204,
          0.5408083954005356,
          0.4835926185577506,
          0.4279725643082912,
          0.421803915480524,
          0.41672242649915603,
          0.4097364887623911,
          0.3546092269484653,
          0.34165381347438384,
          0.2261182378276061,
          0.20837868441614305,
          0.1778157708039103,
          0.10065938122349749,
          0.059417495214745486,
          0.05807817261197101,
          0.05152846130324917,
          0.017829919546635153,
          -0.09813574444254414,
          -0.11927577002168022,
          -0.22084766675611078,
          -0.28266519444235527,
          -0.41306318821469645,
          -0.42742417051150383,
          -0.5182480657532444,
          -0.71139847882257,
          -0.8655289830461257,
          -0.997719228882417,
          -1.172225260462188,
          -2.439034672480858
         ],
         "yaxis": "y"
        }
       ],
       "layout": {
        "legend": {
         "title": {
          "text": "Continent"
         },
         "tracegroupgap": 0
        },
        "template": {
         "data": {
          "bar": [
           {
            "error_x": {
             "color": "#2a3f5f"
            },
            "error_y": {
             "color": "#2a3f5f"
            },
            "marker": {
             "line": {
              "color": "#E5ECF6",
              "width": 0.5
             },
             "pattern": {
              "fillmode": "overlay",
              "size": 10,
              "solidity": 0.2
             }
            },
            "type": "bar"
           }
          ],
          "barpolar": [
           {
            "marker": {
             "line": {
              "color": "#E5ECF6",
              "width": 0.5
             },
             "pattern": {
              "fillmode": "overlay",
              "size": 10,
              "solidity": 0.2
             }
            },
            "type": "barpolar"
           }
          ],
          "carpet": [
           {
            "aaxis": {
             "endlinecolor": "#2a3f5f",
             "gridcolor": "white",
             "linecolor": "white",
             "minorgridcolor": "white",
             "startlinecolor": "#2a3f5f"
            },
            "baxis": {
             "endlinecolor": "#2a3f5f",
             "gridcolor": "white",
             "linecolor": "white",
             "minorgridcolor": "white",
             "startlinecolor": "#2a3f5f"
            },
            "type": "carpet"
           }
          ],
          "choropleth": [
           {
            "colorbar": {
             "outlinewidth": 0,
             "ticks": ""
            },
            "type": "choropleth"
           }
          ],
          "contour": [
           {
            "colorbar": {
             "outlinewidth": 0,
             "ticks": ""
            },
            "colorscale": [
             [
              0,
              "#0d0887"
             ],
             [
              0.1111111111111111,
              "#46039f"
             ],
             [
              0.2222222222222222,
              "#7201a8"
             ],
             [
              0.3333333333333333,
              "#9c179e"
             ],
             [
              0.4444444444444444,
              "#bd3786"
             ],
             [
              0.5555555555555556,
              "#d8576b"
             ],
             [
              0.6666666666666666,
              "#ed7953"
             ],
             [
              0.7777777777777778,
              "#fb9f3a"
             ],
             [
              0.8888888888888888,
              "#fdca26"
             ],
             [
              1,
              "#f0f921"
             ]
            ],
            "type": "contour"
           }
          ],
          "contourcarpet": [
           {
            "colorbar": {
             "outlinewidth": 0,
             "ticks": ""
            },
            "type": "contourcarpet"
           }
          ],
          "heatmap": [
           {
            "colorbar": {
             "outlinewidth": 0,
             "ticks": ""
            },
            "colorscale": [
             [
              0,
              "#0d0887"
             ],
             [
              0.1111111111111111,
              "#46039f"
             ],
             [
              0.2222222222222222,
              "#7201a8"
             ],
             [
              0.3333333333333333,
              "#9c179e"
             ],
             [
              0.4444444444444444,
              "#bd3786"
             ],
             [
              0.5555555555555556,
              "#d8576b"
             ],
             [
              0.6666666666666666,
              "#ed7953"
             ],
             [
              0.7777777777777778,
              "#fb9f3a"
             ],
             [
              0.8888888888888888,
              "#fdca26"
             ],
             [
              1,
              "#f0f921"
             ]
            ],
            "type": "heatmap"
           }
          ],
          "heatmapgl": [
           {
            "colorbar": {
             "outlinewidth": 0,
             "ticks": ""
            },
            "colorscale": [
             [
              0,
              "#0d0887"
             ],
             [
              0.1111111111111111,
              "#46039f"
             ],
             [
              0.2222222222222222,
              "#7201a8"
             ],
             [
              0.3333333333333333,
              "#9c179e"
             ],
             [
              0.4444444444444444,
              "#bd3786"
             ],
             [
              0.5555555555555556,
              "#d8576b"
             ],
             [
              0.6666666666666666,
              "#ed7953"
             ],
             [
              0.7777777777777778,
              "#fb9f3a"
             ],
             [
              0.8888888888888888,
              "#fdca26"
             ],
             [
              1,
              "#f0f921"
             ]
            ],
            "type": "heatmapgl"
           }
          ],
          "histogram": [
           {
            "marker": {
             "pattern": {
              "fillmode": "overlay",
              "size": 10,
              "solidity": 0.2
             }
            },
            "type": "histogram"
           }
          ],
          "histogram2d": [
           {
            "colorbar": {
             "outlinewidth": 0,
             "ticks": ""
            },
            "colorscale": [
             [
              0,
              "#0d0887"
             ],
             [
              0.1111111111111111,
              "#46039f"
             ],
             [
              0.2222222222222222,
              "#7201a8"
             ],
             [
              0.3333333333333333,
              "#9c179e"
             ],
             [
              0.4444444444444444,
              "#bd3786"
             ],
             [
              0.5555555555555556,
              "#d8576b"
             ],
             [
              0.6666666666666666,
              "#ed7953"
             ],
             [
              0.7777777777777778,
              "#fb9f3a"
             ],
             [
              0.8888888888888888,
              "#fdca26"
             ],
             [
              1,
              "#f0f921"
             ]
            ],
            "type": "histogram2d"
           }
          ],
          "histogram2dcontour": [
           {
            "colorbar": {
             "outlinewidth": 0,
             "ticks": ""
            },
            "colorscale": [
             [
              0,
              "#0d0887"
             ],
             [
              0.1111111111111111,
              "#46039f"
             ],
             [
              0.2222222222222222,
              "#7201a8"
             ],
             [
              0.3333333333333333,
              "#9c179e"
             ],
             [
              0.4444444444444444,
              "#bd3786"
             ],
             [
              0.5555555555555556,
              "#d8576b"
             ],
             [
              0.6666666666666666,
              "#ed7953"
             ],
             [
              0.7777777777777778,
              "#fb9f3a"
             ],
             [
              0.8888888888888888,
              "#fdca26"
             ],
             [
              1,
              "#f0f921"
             ]
            ],
            "type": "histogram2dcontour"
           }
          ],
          "mesh3d": [
           {
            "colorbar": {
             "outlinewidth": 0,
             "ticks": ""
            },
            "type": "mesh3d"
           }
          ],
          "parcoords": [
           {
            "line": {
             "colorbar": {
              "outlinewidth": 0,
              "ticks": ""
             }
            },
            "type": "parcoords"
           }
          ],
          "pie": [
           {
            "automargin": true,
            "type": "pie"
           }
          ],
          "scatter": [
           {
            "marker": {
             "colorbar": {
              "outlinewidth": 0,
              "ticks": ""
             }
            },
            "type": "scatter"
           }
          ],
          "scatter3d": [
           {
            "line": {
             "colorbar": {
              "outlinewidth": 0,
              "ticks": ""
             }
            },
            "marker": {
             "colorbar": {
              "outlinewidth": 0,
              "ticks": ""
             }
            },
            "type": "scatter3d"
           }
          ],
          "scattercarpet": [
           {
            "marker": {
             "colorbar": {
              "outlinewidth": 0,
              "ticks": ""
             }
            },
            "type": "scattercarpet"
           }
          ],
          "scattergeo": [
           {
            "marker": {
             "colorbar": {
              "outlinewidth": 0,
              "ticks": ""
             }
            },
            "type": "scattergeo"
           }
          ],
          "scattergl": [
           {
            "marker": {
             "colorbar": {
              "outlinewidth": 0,
              "ticks": ""
             }
            },
            "type": "scattergl"
           }
          ],
          "scattermapbox": [
           {
            "marker": {
             "colorbar": {
              "outlinewidth": 0,
              "ticks": ""
             }
            },
            "type": "scattermapbox"
           }
          ],
          "scatterpolar": [
           {
            "marker": {
             "colorbar": {
              "outlinewidth": 0,
              "ticks": ""
             }
            },
            "type": "scatterpolar"
           }
          ],
          "scatterpolargl": [
           {
            "marker": {
             "colorbar": {
              "outlinewidth": 0,
              "ticks": ""
             }
            },
            "type": "scatterpolargl"
           }
          ],
          "scatterternary": [
           {
            "marker": {
             "colorbar": {
              "outlinewidth": 0,
              "ticks": ""
             }
            },
            "type": "scatterternary"
           }
          ],
          "surface": [
           {
            "colorbar": {
             "outlinewidth": 0,
             "ticks": ""
            },
            "colorscale": [
             [
              0,
              "#0d0887"
             ],
             [
              0.1111111111111111,
              "#46039f"
             ],
             [
              0.2222222222222222,
              "#7201a8"
             ],
             [
              0.3333333333333333,
              "#9c179e"
             ],
             [
              0.4444444444444444,
              "#bd3786"
             ],
             [
              0.5555555555555556,
              "#d8576b"
             ],
             [
              0.6666666666666666,
              "#ed7953"
             ],
             [
              0.7777777777777778,
              "#fb9f3a"
             ],
             [
              0.8888888888888888,
              "#fdca26"
             ],
             [
              1,
              "#f0f921"
             ]
            ],
            "type": "surface"
           }
          ],
          "table": [
           {
            "cells": {
             "fill": {
              "color": "#EBF0F8"
             },
             "line": {
              "color": "white"
             }
            },
            "header": {
             "fill": {
              "color": "#C8D4E3"
             },
             "line": {
              "color": "white"
             }
            },
            "type": "table"
           }
          ]
         },
         "layout": {
          "annotationdefaults": {
           "arrowcolor": "#2a3f5f",
           "arrowhead": 0,
           "arrowwidth": 1
          },
          "autotypenumbers": "strict",
          "coloraxis": {
           "colorbar": {
            "outlinewidth": 0,
            "ticks": ""
           }
          },
          "colorscale": {
           "diverging": [
            [
             0,
             "#8e0152"
            ],
            [
             0.1,
             "#c51b7d"
            ],
            [
             0.2,
             "#de77ae"
            ],
            [
             0.3,
             "#f1b6da"
            ],
            [
             0.4,
             "#fde0ef"
            ],
            [
             0.5,
             "#f7f7f7"
            ],
            [
             0.6,
             "#e6f5d0"
            ],
            [
             0.7,
             "#b8e186"
            ],
            [
             0.8,
             "#7fbc41"
            ],
            [
             0.9,
             "#4d9221"
            ],
            [
             1,
             "#276419"
            ]
           ],
           "sequential": [
            [
             0,
             "#0d0887"
            ],
            [
             0.1111111111111111,
             "#46039f"
            ],
            [
             0.2222222222222222,
             "#7201a8"
            ],
            [
             0.3333333333333333,
             "#9c179e"
            ],
            [
             0.4444444444444444,
             "#bd3786"
            ],
            [
             0.5555555555555556,
             "#d8576b"
            ],
            [
             0.6666666666666666,
             "#ed7953"
            ],
            [
             0.7777777777777778,
             "#fb9f3a"
            ],
            [
             0.8888888888888888,
             "#fdca26"
            ],
            [
             1,
             "#f0f921"
            ]
           ],
           "sequentialminus": [
            [
             0,
             "#0d0887"
            ],
            [
             0.1111111111111111,
             "#46039f"
            ],
            [
             0.2222222222222222,
             "#7201a8"
            ],
            [
             0.3333333333333333,
             "#9c179e"
            ],
            [
             0.4444444444444444,
             "#bd3786"
            ],
            [
             0.5555555555555556,
             "#d8576b"
            ],
            [
             0.6666666666666666,
             "#ed7953"
            ],
            [
             0.7777777777777778,
             "#fb9f3a"
            ],
            [
             0.8888888888888888,
             "#fdca26"
            ],
            [
             1,
             "#f0f921"
            ]
           ]
          },
          "colorway": [
           "#636efa",
           "#EF553B",
           "#00cc96",
           "#ab63fa",
           "#FFA15A",
           "#19d3f3",
           "#FF6692",
           "#B6E880",
           "#FF97FF",
           "#FECB52"
          ],
          "font": {
           "color": "#2a3f5f"
          },
          "geo": {
           "bgcolor": "white",
           "lakecolor": "white",
           "landcolor": "#E5ECF6",
           "showlakes": true,
           "showland": true,
           "subunitcolor": "white"
          },
          "hoverlabel": {
           "align": "left"
          },
          "hovermode": "closest",
          "mapbox": {
           "style": "light"
          },
          "paper_bgcolor": "white",
          "plot_bgcolor": "#E5ECF6",
          "polar": {
           "angularaxis": {
            "gridcolor": "white",
            "linecolor": "white",
            "ticks": ""
           },
           "bgcolor": "#E5ECF6",
           "radialaxis": {
            "gridcolor": "white",
            "linecolor": "white",
            "ticks": ""
           }
          },
          "scene": {
           "xaxis": {
            "backgroundcolor": "#E5ECF6",
            "gridcolor": "white",
            "gridwidth": 2,
            "linecolor": "white",
            "showbackground": true,
            "ticks": "",
            "zerolinecolor": "white"
           },
           "yaxis": {
            "backgroundcolor": "#E5ECF6",
            "gridcolor": "white",
            "gridwidth": 2,
            "linecolor": "white",
            "showbackground": true,
            "ticks": "",
            "zerolinecolor": "white"
           },
           "zaxis": {
            "backgroundcolor": "#E5ECF6",
            "gridcolor": "white",
            "gridwidth": 2,
            "linecolor": "white",
            "showbackground": true,
            "ticks": "",
            "zerolinecolor": "white"
           }
          },
          "shapedefaults": {
           "line": {
            "color": "#2a3f5f"
           }
          },
          "ternary": {
           "aaxis": {
            "gridcolor": "white",
            "linecolor": "white",
            "ticks": ""
           },
           "baxis": {
            "gridcolor": "white",
            "linecolor": "white",
            "ticks": ""
           },
           "bgcolor": "#E5ECF6",
           "caxis": {
            "gridcolor": "white",
            "linecolor": "white",
            "ticks": ""
           }
          },
          "title": {
           "x": 0.05
          },
          "xaxis": {
           "automargin": true,
           "gridcolor": "white",
           "linecolor": "white",
           "ticks": "",
           "title": {
            "standoff": 15
           },
           "zerolinecolor": "white",
           "zerolinewidth": 2
          },
          "yaxis": {
           "automargin": true,
           "gridcolor": "white",
           "linecolor": "white",
           "ticks": "",
           "title": {
            "standoff": 15
           },
           "zerolinecolor": "white",
           "zerolinewidth": 2
          }
         }
        },
        "title": {
         "text": "Child mortality vs. GDP per capita, 2016"
        },
        "xaxis": {
         "anchor": "y",
         "domain": [
          0,
          1
         ],
         "range": [
          2.751279103983342,
          5.2208896376994485
         ],
         "title": {
          "text": "GDP per capita ($)"
         },
         "type": "log"
        },
        "yaxis": {
         "anchor": "x",
         "domain": [
          0,
          1
         ],
         "range": [
          -2.79,
          13.73
         ],
         "title": {
          "text": "Child mortality rate (% children < 5 y.o.)"
         }
        }
       }
      },
      "text/html": [
       "<div>                            <div id=\"bd6b01f5-61ac-4e47-acb7-2d5085d7bf7d\" class=\"plotly-graph-div\" style=\"height:525px; width:100%;\"></div>            <script type=\"text/javascript\">                require([\"plotly\"], function(Plotly) {                    window.PLOTLYENV=window.PLOTLYENV || {};                                    if (document.getElementById(\"bd6b01f5-61ac-4e47-acb7-2d5085d7bf7d\")) {                    Plotly.newPlot(                        \"bd6b01f5-61ac-4e47-acb7-2d5085d7bf7d\",                        [{\"customdata\":[[\"Afghanistan\"],[\"Armenia\"],[\"Azerbaijan\"],[\"Bahrain\"],[\"Bangladesh\"],[\"Cambodia\"],[\"China\"],[\"Georgia\"],[\"Hong Kong\"],[\"India\"],[\"Indonesia\"],[\"Iran\"],[\"Iraq\"],[\"Israel\"],[\"Japan\"],[\"Jordan\"],[\"Kazakhstan\"],[\"Kuwait\"],[\"Kyrgyzstan\"],[\"Laos\"],[\"Lebanon\"],[\"Malaysia\"],[\"Mongolia\"],[\"Myanmar\"],[\"Nepal\"],[\"North Korea\"],[\"Oman\"],[\"Pakistan\"],[\"Palestine\"],[\"Philippines\"],[\"Qatar\"],[\"Saudi Arabia\"],[\"Singapore\"],[\"South Korea\"],[\"Sri Lanka\"],[\"Syria\"],[\"Tajikistan\"],[\"Thailand\"],[\"Turkey\"],[\"Turkmenistan\"],[\"United Arab Emirates\"],[\"Uzbekistan\"],[\"Vietnam\"],[\"Yemen\"]],\"hovertemplate\":\"Continent=Asia<br>GDP per capita ($)=%{x}<br>Child mortality rate (% children < 5 y.o.)=%{y}<br>Entity=%{customdata[0]}<extra></extra>\",\"legendgroup\":\"Asia\",\"marker\":{\"color\":\"#636efa\",\"symbol\":\"circle\"},\"mode\":\"markers\",\"name\":\"Asia\",\"orientation\":\"v\",\"showlegend\":true,\"x\":[1929.0,10080.0,16645.0,41078.0,3604.0,3251.0,12569.0,10899.0,48330.0,6125.0,10911.0,16783.0,13898.0,31701.0,37465.0,11529.0,23842.0,71010.0,4879.0,5859.0,12972.0,23053.0,12360.0,5284.0,2435.0,1742.0223,38515.0,5223.0,5321.3826,7410.0,156299.0,51397.0,65729.0,36103.0,11149.0,3091.0,3991.0,15454.0,17906.0,23813.0,75876.0,10381.0,6062.0,2506.0],\"xaxis\":\"x\",\"y\":[7.040000000000001,1.34,3.09,0.76,3.4200000000000004,3.0600000000000005,0.99,1.07,0.2282,4.3,2.64,1.51,3.12,0.36,0.27,1.7600000000000002,1.14,0.8400000000000001,2.1100000000000003,6.390000000000001,0.81,0.8300000000000001,1.79,5.08,3.45,2.0,1.07,7.88,1.94,2.7100000000000004,0.8500000000000001,1.29,0.2799999999999999,0.34,0.94,1.9123,4.3100000000000005,1.22,1.27,5.1000000000000005,0.77,2.41,2.16,5.53],\"yaxis\":\"y\",\"type\":\"scatter\"},{\"customdata\":[[\"Albania\"],[\"Austria\"],[\"Belarus\"],[\"Belgium\"],[\"Bosnia and Herzegovina\"],[\"Bulgaria\"],[\"Croatia\"],[\"Cyprus\"],[\"Czechia\"],[\"Denmark\"],[\"Estonia\"],[\"Finland\"],[\"France\"],[\"Germany\"],[\"Greece\"],[\"Hungary\"],[\"Iceland\"],[\"Ireland\"],[\"Italy\"],[\"Latvia\"],[\"Lithuania\"],[\"Luxembourg\"],[\"Malta\"],[\"Moldova\"],[\"Montenegro\"],[\"Netherlands\"],[\"North Macedonia\"],[\"Norway\"],[\"Poland\"],[\"Portugal\"],[\"Romania\"],[\"Russia\"],[\"Serbia\"],[\"Slovakia\"],[\"Slovenia\"],[\"Spain\"],[\"Sweden\"],[\"Switzerland\"],[\"Ukraine\"],[\"United Kingdom\"]],\"hovertemplate\":\"Continent=Europe<br>GDP per capita ($)=%{x}<br>Child mortality rate (% children < 5 y.o.)=%{y}<br>Entity=%{customdata[0]}<extra></extra>\",\"legendgroup\":\"Europe\",\"marker\":{\"color\":\"#EF553B\",\"symbol\":\"circle\"},\"mode\":\"markers\",\"name\":\"Europe\",\"orientation\":\"v\",\"showlegend\":true,\"x\":[10342.0,41445.0,17628.0,38766.0,9746.0,17037.0,20376.0,25577.0,28823.0,44836.0,24857.0,37239.0,37124.0,44689.0,22574.0,23279.0,42085.0,56597.0,33419.0,22092.0,24743.0,57006.0,29817.0,6068.0,17741.0,45600.0,12644.0,82814.0,24838.0,25346.0,17782.0,23635.0,13184.0,25364.0,26908.0,30110.0,44659.0,59662.0,9214.0,37334.0],\"xaxis\":\"x\",\"y\":[1.35,0.35,0.39,0.39,0.6000000000000001,0.76,0.47,0.26,0.32,0.44,0.29,0.2299999999999999,0.39,0.38,0.38,0.52,0.21,0.36,0.33,0.4599999999999999,0.53,0.24,0.68,1.59,0.38,0.38,1.22,0.26,0.47,0.35,0.9,0.77,0.58,0.5900000000000001,0.2299999999999999,0.33,0.29,0.41,0.91,0.43],\"yaxis\":\"y\",\"type\":\"scatter\"},{\"customdata\":[[\"Algeria\"],[\"Angola\"],[\"Benin\"],[\"Botswana\"],[\"Burkina Faso\"],[\"Burundi\"],[\"Cameroon\"],[\"Cape Verde\"],[\"Central African Republic\"],[\"Chad\"],[\"Comoros\"],[\"Congo\"],[\"Cote d'Ivoire\"],[\"Democratic Republic of Congo\"],[\"Djibouti\"],[\"Egypt\"],[\"Equatorial Guinea\"],[\"Eswatini\"],[\"Ethiopia\"],[\"Gabon\"],[\"Gambia\"],[\"Ghana\"],[\"Guinea\"],[\"Guinea-Bissau\"],[\"Kenya\"],[\"Lesotho\"],[\"Liberia\"],[\"Libya\"],[\"Madagascar\"],[\"Malawi\"],[\"Mali\"],[\"Mauritania\"],[\"Mauritius\"],[\"Morocco\"],[\"Mozambique\"],[\"Namibia\"],[\"Niger\"],[\"Nigeria\"],[\"Rwanda\"],[\"Sao Tome and Principe\"],[\"Senegal\"],[\"Seychelles\"],[\"Sierra Leone\"],[\"South Africa\"],[\"Sudan\"],[\"Tanzania\"],[\"Togo\"],[\"Tunisia\"],[\"Uganda\"],[\"Zambia\"],[\"Zimbabwe\"]],\"hovertemplate\":\"Continent=Africa<br>GDP per capita ($)=%{x}<br>Child mortality rate (% children < 5 y.o.)=%{y}<br>Entity=%{customdata[0]}<extra></extra>\",\"legendgroup\":\"Africa\",\"marker\":{\"color\":\"#00cc96\",\"symbol\":\"circle\"},\"mode\":\"markers\",\"name\":\"Africa\",\"orientation\":\"v\",\"showlegend\":true,\"x\":[14331.0,8453.0,2080.0,15198.0,1483.0,665.0,2828.0,6418.0,589.0,2189.0,1702.0,5974.0,3395.0,836.0,3064.0,11351.0,33317.0,7881.0,1635.0,18413.0,1788.0,3878.0,1417.0,1436.0,3169.0,2767.0,829.0,8096.0,1381.0,1112.0,1594.0,3407.0,18918.0,8039.0,1113.0,9376.0,925.0,5360.0,1758.0,3624.0,2403.0,26624.0,1619.0,12139.0,3651.0,2660.0,1400.0,11073.0,1980.0,3479.0,1534.0],\"xaxis\":\"x\",\"y\":[2.52,8.25,9.76,4.0600000000000005,8.459999999999999,7.170000000000001,7.970000000000001,2.14,12.36,12.73,7.33,5.41,9.18,9.43,6.420000000000001,2.28,9.090000000000002,7.040000000000001,5.84,4.74,6.53,5.88,8.9,8.81,4.920000000000001,9.35,6.740000000000001,1.29,4.64,5.510000000000001,11.06,8.14,1.37,2.7100000000000004,7.13,4.5200000000000005,9.13,10.43,3.85,3.38,4.71,1.4300000000000002,11.35,4.33,6.51,5.670000000000001,7.57,1.36,5.300000000000001,6.34,5.640000000000001],\"yaxis\":\"y\",\"type\":\"scatter\"},{\"customdata\":[[\"Argentina\"],[\"Bolivia\"],[\"Brazil\"],[\"Chile\"],[\"Colombia\"],[\"Ecuador\"],[\"Paraguay\"],[\"Peru\"],[\"Uruguay\"],[\"Venezuela\"]],\"hovertemplate\":\"Continent=South America<br>GDP per capita ($)=%{x}<br>Child mortality rate (% children < 5 y.o.)=%{y}<br>Entity=%{customdata[0]}<extra></extra>\",\"legendgroup\":\"South America\",\"marker\":{\"color\":\"#ab63fa\",\"symbol\":\"circle\"},\"mode\":\"markers\",\"name\":\"South America\",\"orientation\":\"v\",\"showlegend\":true,\"x\":[18875.0,6355.0,13873.0,21696.0,13326.0,10527.0,8786.0,11776.0,19468.0,15219.0],\"xaxis\":\"x\",\"y\":[1.11,3.69,1.51,0.8300000000000001,1.5300000000000002,2.09,1.99,1.5300000000000002,0.92,1.63],\"yaxis\":\"y\",\"type\":\"scatter\"},{\"customdata\":[[\"Australia\"],[\"New Zealand\"]],\"hovertemplate\":\"Continent=Oceania<br>GDP per capita ($)=%{x}<br>Child mortality rate (% children < 5 y.o.)=%{y}<br>Entity=%{customdata[0]}<extra></extra>\",\"legendgroup\":\"Oceania\",\"marker\":{\"color\":\"#FFA15A\",\"symbol\":\"circle\"},\"mode\":\"markers\",\"name\":\"Oceania\",\"orientation\":\"v\",\"showlegend\":true,\"x\":[48845.0,34295.0],\"xaxis\":\"x\",\"y\":[0.37,0.54],\"yaxis\":\"y\",\"type\":\"scatter\"},{\"customdata\":[[\"Barbados\"],[\"Canada\"],[\"Costa Rica\"],[\"Cuba\"],[\"Dominica\"],[\"Dominican Republic\"],[\"El Salvador\"],[\"Guatemala\"],[\"Haiti\"],[\"Honduras\"],[\"Jamaica\"],[\"Mexico\"],[\"Nicaragua\"],[\"Panama\"],[\"Puerto Rico\"],[\"Saint Lucia\"],[\"Trinidad and Tobago\"],[\"United States\"]],\"hovertemplate\":\"Continent=North America<br>GDP per capita ($)=%{x}<br>Child mortality rate (% children < 5 y.o.)=%{y}<br>Entity=%{customdata[0]}<extra></extra>\",\"legendgroup\":\"North America\",\"marker\":{\"color\":\"#19d3f3\",\"symbol\":\"circle\"},\"mode\":\"markers\",\"name\":\"North America\",\"orientation\":\"v\",\"showlegend\":true,\"x\":[12003.0,43745.0,14098.0,8000.0,9550.0,14489.0,8280.0,7221.0,1728.0,4796.0,7084.0,16133.0,5045.0,21449.0,35082.0,10233.0,29178.0,53015.0],\"xaxis\":\"x\",\"y\":[1.2300000000000002,0.49,0.8800000000000001,0.55,3.4000000000000004,3.0700000000000003,1.5,2.85,6.7,1.87,1.5300000000000002,1.46,1.97,1.64,0.6479,1.33,1.85,0.65],\"yaxis\":\"y\",\"type\":\"scatter\"},{\"hovertemplate\":\"<b>OLS trendline</b><br>Child mortality (Select Gapminder, v10) (2017) = -4.59234 * log10(GDP per capita) + 21.4134<br>R<sup>2</sup>=0.604865<br><br>GDP per capita ($)=%{x}<br>Child mortality rate (% children < 5 y.o.)=%{y} <b>(trend)</b><extra></extra>\",\"legendgroup\":\"Overall Trendline\",\"line\":{\"color\":\"black\"},\"mode\":\"lines\",\"name\":\"Overall Trendline\",\"showlegend\":true,\"x\":[589.0,665.0,829.0,836.0,925.0,1112.0,1113.0,1381.0,1400.0,1417.0,1436.0,1483.0,1534.0,1594.0,1619.0,1635.0,1702.0,1728.0,1742.0223,1758.0,1788.0,1929.0,1980.0,2080.0,2189.0,2403.0,2435.0,2506.0,2660.0,2767.0,2828.0,3064.0,3091.0,3169.0,3251.0,3395.0,3407.0,3479.0,3604.0,3624.0,3651.0,3878.0,3991.0,4796.0,4879.0,5045.0,5223.0,5284.0,5321.3826,5360.0,5859.0,5974.0,6062.0,6068.0,6125.0,6355.0,6418.0,7084.0,7221.0,7410.0,7881.0,8000.0,8039.0,8096.0,8280.0,8453.0,8786.0,9214.0,9376.0,9550.0,9746.0,10080.0,10233.0,10342.0,10381.0,10527.0,10899.0,10911.0,11073.0,11149.0,11351.0,11529.0,11776.0,12003.0,12139.0,12360.0,12569.0,12644.0,12972.0,13184.0,13326.0,13873.0,13898.0,14098.0,14331.0,14489.0,15198.0,15219.0,15454.0,16133.0,16645.0,16783.0,17037.0,17628.0,17741.0,17782.0,17906.0,18413.0,18875.0,18918.0,19468.0,20376.0,21449.0,21696.0,22092.0,22574.0,23053.0,23279.0,23635.0,23813.0,23842.0,24743.0,24838.0,24857.0,25346.0,25364.0,25577.0,26624.0,26908.0,28823.0,29178.0,29817.0,30110.0,31701.0,33317.0,33419.0,34295.0,35082.0,36103.0,37124.0,37239.0,37334.0,37465.0,38515.0,38766.0,41078.0,41445.0,42085.0,43745.0,44659.0,44689.0,44836.0,45600.0,48330.0,48845.0,51397.0,53015.0,56597.0,57006.0,59662.0,65729.0,71010.0,75876.0,82814.0,156299.0],\"y\":[8.69207767195036,8.450031955278735,8.010393570305414,7.993623490720397,7.791856746081958,7.424638855905254,7.422846109845734,6.992550257273839,6.965297645338136,6.941225427253489,6.914660598994406,6.8504288036930046,6.782993859785607,6.706471819506323,6.675434313943285,6.655820832145013,6.575722084314764,6.5454852507885555,6.52936625004844,6.511156867046763,6.4774093637786105,6.3260240458923,6.273979177827149,6.175711526605882,6.073842182729875,5.887815451027331,5.86143153777434,5.804109429934417,5.6851650909709495,5.60650960790054,5.563018976244381,5.403162423900227,5.385664470512975,5.335960451256739,5.285009628028394,5.198568804888197,5.191531703120283,5.149822675189597,5.079420410988121,5.068383139560389,5.053579056156568,4.933278130282158,4.8759935789389495,4.509536217119621,4.475315702540833,4.408587318951369,4.339431868441892,4.316273671396569,4.302213399331546,4.287792039471981,4.110257934605414,4.07149064735421,4.04232598220073,4.040352926946397,4.021705616195913,3.9481846527842954,3.928510324137072,3.731595922024276,3.6933931615003175,3.641863093563522,3.5189576299387895,3.48906762362099,3.4793684007618566,3.465276925736813,3.420456391055037,3.3792146938226004,3.3021536385635315,3.207289537830178,3.1725282881383556,3.135854868176832,3.0953364501760134,3.0281315070457104,2.9980863597073366,2.9769544143184454,2.9694475035187864,2.9415929509847345,2.8723310757248086,2.8701363796497787,2.8407419577696977,2.827099867938937,2.7912878096640092,2.760254970767395,2.7179771229757,2.679897360919032,2.6574265358140288,2.6214429483421675,2.5880003227468222,2.5761348025414854,2.5250566679173154,2.492725394863445,2.4713589860879495,2.3911280770515475,2.3875372261716983,2.359040815448239,2.326347962229054,2.304479601750444,2.2091975115012907,2.2064435887837277,2.175882496806583,2.090124019010865,2.0278120323458175,2.011344826181528,1.9813865347158135,1.913374287874678,1.900630283766752,1.8960264124470783,1.8821668351390706,1.826480190229205,1.7770555094401743,1.772517075293397,1.71536022144209,1.6244428485988252,1.522088136810499,1.4992521392874814,1.4631776094697777,1.4201313322684435,1.3782540666143532,1.358796899965359,1.3285274427515184,1.3135632638626618,1.3111358806713724,1.2371547200774238,1.2295118299269632,1.2279867602367318,1.1891322278234817,1.187716343819048,1.171037596434001,1.0910219591122114,1.0698599104868407,0.9327427793034175,0.908328322979699,0.8651215928796532,0.8456187776344208,0.7429238219564667,0.6437616647621205,0.6376650451320849,0.5860592315514204,0.5408083954005356,0.4835926185577506,0.4279725643082912,0.421803915480524,0.41672242649915603,0.4097364887623911,0.3546092269484653,0.34165381347438384,0.2261182378276061,0.20837868441614305,0.1778157708039103,0.10065938122349749,0.059417495214745486,0.05807817261197101,0.05152846130324917,0.017829919546635153,-0.09813574444254414,-0.11927577002168022,-0.22084766675611078,-0.28266519444235527,-0.41306318821469645,-0.42742417051150383,-0.5182480657532444,-0.71139847882257,-0.8655289830461257,-0.997719228882417,-1.172225260462188,-2.439034672480858],\"type\":\"scatter\",\"xaxis\":\"x\",\"yaxis\":\"y\"}],                        {\"template\":{\"data\":{\"bar\":[{\"error_x\":{\"color\":\"#2a3f5f\"},\"error_y\":{\"color\":\"#2a3f5f\"},\"marker\":{\"line\":{\"color\":\"#E5ECF6\",\"width\":0.5},\"pattern\":{\"fillmode\":\"overlay\",\"size\":10,\"solidity\":0.2}},\"type\":\"bar\"}],\"barpolar\":[{\"marker\":{\"line\":{\"color\":\"#E5ECF6\",\"width\":0.5},\"pattern\":{\"fillmode\":\"overlay\",\"size\":10,\"solidity\":0.2}},\"type\":\"barpolar\"}],\"carpet\":[{\"aaxis\":{\"endlinecolor\":\"#2a3f5f\",\"gridcolor\":\"white\",\"linecolor\":\"white\",\"minorgridcolor\":\"white\",\"startlinecolor\":\"#2a3f5f\"},\"baxis\":{\"endlinecolor\":\"#2a3f5f\",\"gridcolor\":\"white\",\"linecolor\":\"white\",\"minorgridcolor\":\"white\",\"startlinecolor\":\"#2a3f5f\"},\"type\":\"carpet\"}],\"choropleth\":[{\"colorbar\":{\"outlinewidth\":0,\"ticks\":\"\"},\"type\":\"choropleth\"}],\"contour\":[{\"colorbar\":{\"outlinewidth\":0,\"ticks\":\"\"},\"colorscale\":[[0.0,\"#0d0887\"],[0.1111111111111111,\"#46039f\"],[0.2222222222222222,\"#7201a8\"],[0.3333333333333333,\"#9c179e\"],[0.4444444444444444,\"#bd3786\"],[0.5555555555555556,\"#d8576b\"],[0.6666666666666666,\"#ed7953\"],[0.7777777777777778,\"#fb9f3a\"],[0.8888888888888888,\"#fdca26\"],[1.0,\"#f0f921\"]],\"type\":\"contour\"}],\"contourcarpet\":[{\"colorbar\":{\"outlinewidth\":0,\"ticks\":\"\"},\"type\":\"contourcarpet\"}],\"heatmap\":[{\"colorbar\":{\"outlinewidth\":0,\"ticks\":\"\"},\"colorscale\":[[0.0,\"#0d0887\"],[0.1111111111111111,\"#46039f\"],[0.2222222222222222,\"#7201a8\"],[0.3333333333333333,\"#9c179e\"],[0.4444444444444444,\"#bd3786\"],[0.5555555555555556,\"#d8576b\"],[0.6666666666666666,\"#ed7953\"],[0.7777777777777778,\"#fb9f3a\"],[0.8888888888888888,\"#fdca26\"],[1.0,\"#f0f921\"]],\"type\":\"heatmap\"}],\"heatmapgl\":[{\"colorbar\":{\"outlinewidth\":0,\"ticks\":\"\"},\"colorscale\":[[0.0,\"#0d0887\"],[0.1111111111111111,\"#46039f\"],[0.2222222222222222,\"#7201a8\"],[0.3333333333333333,\"#9c179e\"],[0.4444444444444444,\"#bd3786\"],[0.5555555555555556,\"#d8576b\"],[0.6666666666666666,\"#ed7953\"],[0.7777777777777778,\"#fb9f3a\"],[0.8888888888888888,\"#fdca26\"],[1.0,\"#f0f921\"]],\"type\":\"heatmapgl\"}],\"histogram\":[{\"marker\":{\"pattern\":{\"fillmode\":\"overlay\",\"size\":10,\"solidity\":0.2}},\"type\":\"histogram\"}],\"histogram2d\":[{\"colorbar\":{\"outlinewidth\":0,\"ticks\":\"\"},\"colorscale\":[[0.0,\"#0d0887\"],[0.1111111111111111,\"#46039f\"],[0.2222222222222222,\"#7201a8\"],[0.3333333333333333,\"#9c179e\"],[0.4444444444444444,\"#bd3786\"],[0.5555555555555556,\"#d8576b\"],[0.6666666666666666,\"#ed7953\"],[0.7777777777777778,\"#fb9f3a\"],[0.8888888888888888,\"#fdca26\"],[1.0,\"#f0f921\"]],\"type\":\"histogram2d\"}],\"histogram2dcontour\":[{\"colorbar\":{\"outlinewidth\":0,\"ticks\":\"\"},\"colorscale\":[[0.0,\"#0d0887\"],[0.1111111111111111,\"#46039f\"],[0.2222222222222222,\"#7201a8\"],[0.3333333333333333,\"#9c179e\"],[0.4444444444444444,\"#bd3786\"],[0.5555555555555556,\"#d8576b\"],[0.6666666666666666,\"#ed7953\"],[0.7777777777777778,\"#fb9f3a\"],[0.8888888888888888,\"#fdca26\"],[1.0,\"#f0f921\"]],\"type\":\"histogram2dcontour\"}],\"mesh3d\":[{\"colorbar\":{\"outlinewidth\":0,\"ticks\":\"\"},\"type\":\"mesh3d\"}],\"parcoords\":[{\"line\":{\"colorbar\":{\"outlinewidth\":0,\"ticks\":\"\"}},\"type\":\"parcoords\"}],\"pie\":[{\"automargin\":true,\"type\":\"pie\"}],\"scatter\":[{\"marker\":{\"colorbar\":{\"outlinewidth\":0,\"ticks\":\"\"}},\"type\":\"scatter\"}],\"scatter3d\":[{\"line\":{\"colorbar\":{\"outlinewidth\":0,\"ticks\":\"\"}},\"marker\":{\"colorbar\":{\"outlinewidth\":0,\"ticks\":\"\"}},\"type\":\"scatter3d\"}],\"scattercarpet\":[{\"marker\":{\"colorbar\":{\"outlinewidth\":0,\"ticks\":\"\"}},\"type\":\"scattercarpet\"}],\"scattergeo\":[{\"marker\":{\"colorbar\":{\"outlinewidth\":0,\"ticks\":\"\"}},\"type\":\"scattergeo\"}],\"scattergl\":[{\"marker\":{\"colorbar\":{\"outlinewidth\":0,\"ticks\":\"\"}},\"type\":\"scattergl\"}],\"scattermapbox\":[{\"marker\":{\"colorbar\":{\"outlinewidth\":0,\"ticks\":\"\"}},\"type\":\"scattermapbox\"}],\"scatterpolar\":[{\"marker\":{\"colorbar\":{\"outlinewidth\":0,\"ticks\":\"\"}},\"type\":\"scatterpolar\"}],\"scatterpolargl\":[{\"marker\":{\"colorbar\":{\"outlinewidth\":0,\"ticks\":\"\"}},\"type\":\"scatterpolargl\"}],\"scatterternary\":[{\"marker\":{\"colorbar\":{\"outlinewidth\":0,\"ticks\":\"\"}},\"type\":\"scatterternary\"}],\"surface\":[{\"colorbar\":{\"outlinewidth\":0,\"ticks\":\"\"},\"colorscale\":[[0.0,\"#0d0887\"],[0.1111111111111111,\"#46039f\"],[0.2222222222222222,\"#7201a8\"],[0.3333333333333333,\"#9c179e\"],[0.4444444444444444,\"#bd3786\"],[0.5555555555555556,\"#d8576b\"],[0.6666666666666666,\"#ed7953\"],[0.7777777777777778,\"#fb9f3a\"],[0.8888888888888888,\"#fdca26\"],[1.0,\"#f0f921\"]],\"type\":\"surface\"}],\"table\":[{\"cells\":{\"fill\":{\"color\":\"#EBF0F8\"},\"line\":{\"color\":\"white\"}},\"header\":{\"fill\":{\"color\":\"#C8D4E3\"},\"line\":{\"color\":\"white\"}},\"type\":\"table\"}]},\"layout\":{\"annotationdefaults\":{\"arrowcolor\":\"#2a3f5f\",\"arrowhead\":0,\"arrowwidth\":1},\"autotypenumbers\":\"strict\",\"coloraxis\":{\"colorbar\":{\"outlinewidth\":0,\"ticks\":\"\"}},\"colorscale\":{\"diverging\":[[0,\"#8e0152\"],[0.1,\"#c51b7d\"],[0.2,\"#de77ae\"],[0.3,\"#f1b6da\"],[0.4,\"#fde0ef\"],[0.5,\"#f7f7f7\"],[0.6,\"#e6f5d0\"],[0.7,\"#b8e186\"],[0.8,\"#7fbc41\"],[0.9,\"#4d9221\"],[1,\"#276419\"]],\"sequential\":[[0.0,\"#0d0887\"],[0.1111111111111111,\"#46039f\"],[0.2222222222222222,\"#7201a8\"],[0.3333333333333333,\"#9c179e\"],[0.4444444444444444,\"#bd3786\"],[0.5555555555555556,\"#d8576b\"],[0.6666666666666666,\"#ed7953\"],[0.7777777777777778,\"#fb9f3a\"],[0.8888888888888888,\"#fdca26\"],[1.0,\"#f0f921\"]],\"sequentialminus\":[[0.0,\"#0d0887\"],[0.1111111111111111,\"#46039f\"],[0.2222222222222222,\"#7201a8\"],[0.3333333333333333,\"#9c179e\"],[0.4444444444444444,\"#bd3786\"],[0.5555555555555556,\"#d8576b\"],[0.6666666666666666,\"#ed7953\"],[0.7777777777777778,\"#fb9f3a\"],[0.8888888888888888,\"#fdca26\"],[1.0,\"#f0f921\"]]},\"colorway\":[\"#636efa\",\"#EF553B\",\"#00cc96\",\"#ab63fa\",\"#FFA15A\",\"#19d3f3\",\"#FF6692\",\"#B6E880\",\"#FF97FF\",\"#FECB52\"],\"font\":{\"color\":\"#2a3f5f\"},\"geo\":{\"bgcolor\":\"white\",\"lakecolor\":\"white\",\"landcolor\":\"#E5ECF6\",\"showlakes\":true,\"showland\":true,\"subunitcolor\":\"white\"},\"hoverlabel\":{\"align\":\"left\"},\"hovermode\":\"closest\",\"mapbox\":{\"style\":\"light\"},\"paper_bgcolor\":\"white\",\"plot_bgcolor\":\"#E5ECF6\",\"polar\":{\"angularaxis\":{\"gridcolor\":\"white\",\"linecolor\":\"white\",\"ticks\":\"\"},\"bgcolor\":\"#E5ECF6\",\"radialaxis\":{\"gridcolor\":\"white\",\"linecolor\":\"white\",\"ticks\":\"\"}},\"scene\":{\"xaxis\":{\"backgroundcolor\":\"#E5ECF6\",\"gridcolor\":\"white\",\"gridwidth\":2,\"linecolor\":\"white\",\"showbackground\":true,\"ticks\":\"\",\"zerolinecolor\":\"white\"},\"yaxis\":{\"backgroundcolor\":\"#E5ECF6\",\"gridcolor\":\"white\",\"gridwidth\":2,\"linecolor\":\"white\",\"showbackground\":true,\"ticks\":\"\",\"zerolinecolor\":\"white\"},\"zaxis\":{\"backgroundcolor\":\"#E5ECF6\",\"gridcolor\":\"white\",\"gridwidth\":2,\"linecolor\":\"white\",\"showbackground\":true,\"ticks\":\"\",\"zerolinecolor\":\"white\"}},\"shapedefaults\":{\"line\":{\"color\":\"#2a3f5f\"}},\"ternary\":{\"aaxis\":{\"gridcolor\":\"white\",\"linecolor\":\"white\",\"ticks\":\"\"},\"baxis\":{\"gridcolor\":\"white\",\"linecolor\":\"white\",\"ticks\":\"\"},\"bgcolor\":\"#E5ECF6\",\"caxis\":{\"gridcolor\":\"white\",\"linecolor\":\"white\",\"ticks\":\"\"}},\"title\":{\"x\":0.05},\"xaxis\":{\"automargin\":true,\"gridcolor\":\"white\",\"linecolor\":\"white\",\"ticks\":\"\",\"title\":{\"standoff\":15},\"zerolinecolor\":\"white\",\"zerolinewidth\":2},\"yaxis\":{\"automargin\":true,\"gridcolor\":\"white\",\"linecolor\":\"white\",\"ticks\":\"\",\"title\":{\"standoff\":15},\"zerolinecolor\":\"white\",\"zerolinewidth\":2}}},\"xaxis\":{\"anchor\":\"y\",\"domain\":[0.0,1.0],\"title\":{\"text\":\"GDP per capita ($)\"},\"type\":\"log\",\"range\":[2.751279103983342,5.2208896376994485]},\"yaxis\":{\"anchor\":\"x\",\"domain\":[0.0,1.0],\"title\":{\"text\":\"Child mortality rate (% children < 5 y.o.)\"},\"range\":[-2.79,13.73]},\"legend\":{\"title\":{\"text\":\"Continent\"},\"tracegroupgap\":0},\"title\":{\"text\":\"Child mortality vs. GDP per capita, 2016\"}},                        {\"responsive\": true}                    ).then(function(){\n",
       "                            \n",
       "var gd = document.getElementById('bd6b01f5-61ac-4e47-acb7-2d5085d7bf7d');\n",
       "var x = new MutationObserver(function (mutations, observer) {{\n",
       "        var display = window.getComputedStyle(gd).display;\n",
       "        if (!display || display === 'none') {{\n",
       "            console.log([gd, 'removed!']);\n",
       "            Plotly.purge(gd);\n",
       "            observer.disconnect();\n",
       "        }}\n",
       "}});\n",
       "\n",
       "// Listen for the removal of the full notebook cells\n",
       "var notebookContainer = gd.closest('#notebook-container');\n",
       "if (notebookContainer) {{\n",
       "    x.observe(notebookContainer, {childList: true});\n",
       "}}\n",
       "\n",
       "// Listen for the clearing of the current output cell\n",
       "var outputEl = gd.closest('.output');\n",
       "if (outputEl) {{\n",
       "    x.observe(outputEl, {childList: true});\n",
       "}}\n",
       "\n",
       "                        })                };                });            </script>        </div>"
      ]
     },
     "metadata": {},
     "output_type": "display_data"
    }
   ],
   "source": [
    "# Plot child mortality vs. GDP per capita\n",
    "plotFigure(GDPperCapita('child-mortality-gdp-per-capita.csv',\n",
    "           'GDP per capita',\n",
    "          'Child mortality (Select Gapminder, v10) (2017)',\n",
    "          'Child mortality vs. GDP per capita'), 'GDP per capita ($)', \n",
    "           'Child mortality rate (% children < 5 y.o.)', 'Child mortality vs. GDP per capita',\n",
    "          25, pow(10, 4), 3, 1, 13)"
   ]
  },
  {
   "cell_type": "code",
   "execution_count": 9,
   "metadata": {},
   "outputs": [
    {
     "name": "stdout",
     "output_type": "stream",
     "text": [
      "---------------------------------------------------------------------------------------------------------------------\n",
      "List of years for which data is available: \n",
      "\n",
      "[1800, 1801, 1802, 1803, 1804, 1805, 1806, 1807, 1808, 1809, 1810, 1811, 1812, 1813, 1814, 1815, 1816, 1817, 1818, 1819, 1820, 1821, 1822, 1823, 1824, 1825, 1826, 1827, 1828, 1829, 1830, 1831, 1832, 1833, 1834, 1835, 1836, 1837, 1838, 1839, 1840, 1841, 1842, 1843, 1844, 1845, 1846, 1847, 1848, 1849, 1850, 1851, 1852, 1853, 1854, 1855, 1856, 1857, 1858, 1859, 1860, 1861, 1862, 1863, 1864, 1865, 1866, 1867, 1868, 1869, 1870, 1871, 1872, 1873, 1874, 1875, 1876, 1877, 1878, 1879, 1880, 1881, 1882, 1883, 1884, 1885, 1886, 1887, 1888, 1889, 1890, 1891, 1892, 1893, 1894, 1895, 1896, 1897, 1898, 1899, 1900, 1901, 1902, 1903, 1904, 1905, 1906, 1907, 1908, 1909, 1910, 1911, 1912, 1913, 1914, 1915, 1916, 1917, 1918, 1919, 1920, 1921, 1922, 1923, 1924, 1925, 1926, 1927, 1928, 1929, 1930, 1931, 1932, 1933, 1934, 1935, 1936, 1937, 1938, 1939, 1940, 1941, 1942, 1943, 1944, 1945, 1946, 1947, 1948, 1949, 1950, 1951, 1952, 1953, 1954, 1955, 1956, 1957, 1958, 1959, 1960, 1961, 1962, 1963, 1964, 1965, 1966, 1967, 1968, 1969, 1970, 1971, 1972, 1973, 1974, 1975, 1976, 1977, 1978, 1979, 1980, 1981, 1982, 1983, 1984, 1985, 1986, 1987, 1988, 1989, 1990, 1991, 1992, 1993, 1994, 1995, 1996, 1997, 1998, 1999, 2000, 2001, 2002, 2003, 2004, 2005, 2006, 2007, 2008, 2009, 2010, 2011, 2012, 2013, 2014, 2015, 2016]\n",
      "---------------------------------------------------------------------------------------------------------------------\n",
      "Year of interest for the data \"Child mortality vs. GDP per capita\": \n",
      "2016\n",
      "---------------------------------------------------------------------------------------------------------------------\n",
      "Figure 14 :\n"
     ]
    },
    {
     "data": {
      "application/vnd.plotly.v1+json": {
       "config": {
        "plotlyServerURL": "https://plot.ly"
       },
       "data": [
        {
         "customdata": [
          [
           "Afghanistan"
          ],
          [
           "Armenia"
          ],
          [
           "Azerbaijan"
          ],
          [
           "Bahrain"
          ],
          [
           "Bangladesh"
          ],
          [
           "Cambodia"
          ],
          [
           "China"
          ],
          [
           "Georgia"
          ],
          [
           "Hong Kong"
          ],
          [
           "India"
          ],
          [
           "Indonesia"
          ],
          [
           "Iran"
          ],
          [
           "Iraq"
          ],
          [
           "Israel"
          ],
          [
           "Japan"
          ],
          [
           "Jordan"
          ],
          [
           "Kazakhstan"
          ],
          [
           "Kuwait"
          ],
          [
           "Kyrgyzstan"
          ],
          [
           "Laos"
          ],
          [
           "Lebanon"
          ],
          [
           "Malaysia"
          ],
          [
           "Mongolia"
          ],
          [
           "Myanmar"
          ],
          [
           "Nepal"
          ],
          [
           "North Korea"
          ],
          [
           "Oman"
          ],
          [
           "Pakistan"
          ],
          [
           "Palestine"
          ],
          [
           "Philippines"
          ],
          [
           "Qatar"
          ],
          [
           "Saudi Arabia"
          ],
          [
           "Singapore"
          ],
          [
           "South Korea"
          ],
          [
           "Sri Lanka"
          ],
          [
           "Syria"
          ],
          [
           "Tajikistan"
          ],
          [
           "Thailand"
          ],
          [
           "Turkey"
          ],
          [
           "Turkmenistan"
          ],
          [
           "United Arab Emirates"
          ],
          [
           "Uzbekistan"
          ],
          [
           "Vietnam"
          ],
          [
           "Yemen"
          ]
         ],
         "hovertemplate": "Continent=Asia<br>GDP per capita ($)=%{x}<br>Child mortality rate (% children < 5 y.o.)=%{y}<br>Entity=%{customdata[0]}<extra></extra>",
         "legendgroup": "Asia",
         "marker": {
          "color": "#636efa",
          "symbol": "circle"
         },
         "mode": "markers",
         "name": "Asia",
         "orientation": "v",
         "showlegend": true,
         "type": "scatter",
         "x": [
          1929,
          10080,
          16645,
          41078,
          3604,
          3251,
          12569,
          10899,
          48330,
          6125,
          10911,
          16783,
          13898,
          31701,
          37465,
          11529,
          23842,
          71010,
          4879,
          5859,
          12972,
          23053,
          12360,
          5284,
          2435,
          1742.0223,
          38515,
          5223,
          5321.3826,
          7410,
          156299,
          51397,
          65729,
          36103,
          11149,
          3091,
          3991,
          15454,
          17906,
          23813,
          75876,
          10381,
          6062,
          2506
         ],
         "xaxis": "x",
         "y": [
          7.040000000000001,
          1.34,
          3.09,
          0.76,
          3.4200000000000004,
          3.0600000000000005,
          0.99,
          1.07,
          0.2282,
          4.3,
          2.64,
          1.51,
          3.12,
          0.36,
          0.27,
          1.7600000000000002,
          1.14,
          0.8400000000000001,
          2.1100000000000003,
          6.390000000000001,
          0.81,
          0.8300000000000001,
          1.79,
          5.08,
          3.45,
          2,
          1.07,
          7.88,
          1.94,
          2.7100000000000004,
          0.8500000000000001,
          1.29,
          0.2799999999999999,
          0.34,
          0.94,
          1.9123,
          4.3100000000000005,
          1.22,
          1.27,
          5.1000000000000005,
          0.77,
          2.41,
          2.16,
          5.53
         ],
         "yaxis": "y"
        },
        {
         "customdata": [
          [
           "Albania"
          ],
          [
           "Austria"
          ],
          [
           "Belarus"
          ],
          [
           "Belgium"
          ],
          [
           "Bosnia and Herzegovina"
          ],
          [
           "Bulgaria"
          ],
          [
           "Croatia"
          ],
          [
           "Cyprus"
          ],
          [
           "Czechia"
          ],
          [
           "Denmark"
          ],
          [
           "Estonia"
          ],
          [
           "Finland"
          ],
          [
           "France"
          ],
          [
           "Germany"
          ],
          [
           "Greece"
          ],
          [
           "Hungary"
          ],
          [
           "Iceland"
          ],
          [
           "Ireland"
          ],
          [
           "Italy"
          ],
          [
           "Latvia"
          ],
          [
           "Lithuania"
          ],
          [
           "Luxembourg"
          ],
          [
           "Malta"
          ],
          [
           "Moldova"
          ],
          [
           "Montenegro"
          ],
          [
           "Netherlands"
          ],
          [
           "North Macedonia"
          ],
          [
           "Norway"
          ],
          [
           "Poland"
          ],
          [
           "Portugal"
          ],
          [
           "Romania"
          ],
          [
           "Russia"
          ],
          [
           "Serbia"
          ],
          [
           "Slovakia"
          ],
          [
           "Slovenia"
          ],
          [
           "Spain"
          ],
          [
           "Sweden"
          ],
          [
           "Switzerland"
          ],
          [
           "Ukraine"
          ],
          [
           "United Kingdom"
          ]
         ],
         "hovertemplate": "Continent=Europe<br>GDP per capita ($)=%{x}<br>Child mortality rate (% children < 5 y.o.)=%{y}<br>Entity=%{customdata[0]}<extra></extra>",
         "legendgroup": "Europe",
         "marker": {
          "color": "#EF553B",
          "symbol": "circle"
         },
         "mode": "markers",
         "name": "Europe",
         "orientation": "v",
         "showlegend": true,
         "type": "scatter",
         "x": [
          10342,
          41445,
          17628,
          38766,
          9746,
          17037,
          20376,
          25577,
          28823,
          44836,
          24857,
          37239,
          37124,
          44689,
          22574,
          23279,
          42085,
          56597,
          33419,
          22092,
          24743,
          57006,
          29817,
          6068,
          17741,
          45600,
          12644,
          82814,
          24838,
          25346,
          17782,
          23635,
          13184,
          25364,
          26908,
          30110,
          44659,
          59662,
          9214,
          37334
         ],
         "xaxis": "x",
         "y": [
          1.35,
          0.35,
          0.39,
          0.39,
          0.6000000000000001,
          0.76,
          0.47,
          0.26,
          0.32,
          0.44,
          0.29,
          0.2299999999999999,
          0.39,
          0.38,
          0.38,
          0.52,
          0.21,
          0.36,
          0.33,
          0.4599999999999999,
          0.53,
          0.24,
          0.68,
          1.59,
          0.38,
          0.38,
          1.22,
          0.26,
          0.47,
          0.35,
          0.9,
          0.77,
          0.58,
          0.5900000000000001,
          0.2299999999999999,
          0.33,
          0.29,
          0.41,
          0.91,
          0.43
         ],
         "yaxis": "y"
        },
        {
         "customdata": [
          [
           "Algeria"
          ],
          [
           "Angola"
          ],
          [
           "Benin"
          ],
          [
           "Botswana"
          ],
          [
           "Burkina Faso"
          ],
          [
           "Burundi"
          ],
          [
           "Cameroon"
          ],
          [
           "Cape Verde"
          ],
          [
           "Central African Republic"
          ],
          [
           "Chad"
          ],
          [
           "Comoros"
          ],
          [
           "Congo"
          ],
          [
           "Cote d'Ivoire"
          ],
          [
           "Democratic Republic of Congo"
          ],
          [
           "Djibouti"
          ],
          [
           "Egypt"
          ],
          [
           "Equatorial Guinea"
          ],
          [
           "Eswatini"
          ],
          [
           "Ethiopia"
          ],
          [
           "Gabon"
          ],
          [
           "Gambia"
          ],
          [
           "Ghana"
          ],
          [
           "Guinea"
          ],
          [
           "Guinea-Bissau"
          ],
          [
           "Kenya"
          ],
          [
           "Lesotho"
          ],
          [
           "Liberia"
          ],
          [
           "Libya"
          ],
          [
           "Madagascar"
          ],
          [
           "Malawi"
          ],
          [
           "Mali"
          ],
          [
           "Mauritania"
          ],
          [
           "Mauritius"
          ],
          [
           "Morocco"
          ],
          [
           "Mozambique"
          ],
          [
           "Namibia"
          ],
          [
           "Niger"
          ],
          [
           "Nigeria"
          ],
          [
           "Rwanda"
          ],
          [
           "Sao Tome and Principe"
          ],
          [
           "Senegal"
          ],
          [
           "Seychelles"
          ],
          [
           "Sierra Leone"
          ],
          [
           "South Africa"
          ],
          [
           "Sudan"
          ],
          [
           "Tanzania"
          ],
          [
           "Togo"
          ],
          [
           "Tunisia"
          ],
          [
           "Uganda"
          ],
          [
           "Zambia"
          ],
          [
           "Zimbabwe"
          ]
         ],
         "hovertemplate": "Continent=Africa<br>GDP per capita ($)=%{x}<br>Child mortality rate (% children < 5 y.o.)=%{y}<br>Entity=%{customdata[0]}<extra></extra>",
         "legendgroup": "Africa",
         "marker": {
          "color": "#00cc96",
          "symbol": "circle"
         },
         "mode": "markers",
         "name": "Africa",
         "orientation": "v",
         "showlegend": true,
         "type": "scatter",
         "x": [
          14331,
          8453,
          2080,
          15198,
          1483,
          665,
          2828,
          6418,
          589,
          2189,
          1702,
          5974,
          3395,
          836,
          3064,
          11351,
          33317,
          7881,
          1635,
          18413,
          1788,
          3878,
          1417,
          1436,
          3169,
          2767,
          829,
          8096,
          1381,
          1112,
          1594,
          3407,
          18918,
          8039,
          1113,
          9376,
          925,
          5360,
          1758,
          3624,
          2403,
          26624,
          1619,
          12139,
          3651,
          2660,
          1400,
          11073,
          1980,
          3479,
          1534
         ],
         "xaxis": "x",
         "y": [
          2.52,
          8.25,
          9.76,
          4.0600000000000005,
          8.459999999999999,
          7.170000000000001,
          7.970000000000001,
          2.14,
          12.36,
          12.73,
          7.33,
          5.41,
          9.18,
          9.43,
          6.420000000000001,
          2.28,
          9.090000000000002,
          7.040000000000001,
          5.84,
          4.74,
          6.53,
          5.88,
          8.9,
          8.81,
          4.920000000000001,
          9.35,
          6.740000000000001,
          1.29,
          4.64,
          5.510000000000001,
          11.06,
          8.14,
          1.37,
          2.7100000000000004,
          7.13,
          4.5200000000000005,
          9.13,
          10.43,
          3.85,
          3.38,
          4.71,
          1.4300000000000002,
          11.35,
          4.33,
          6.51,
          5.670000000000001,
          7.57,
          1.36,
          5.300000000000001,
          6.34,
          5.640000000000001
         ],
         "yaxis": "y"
        },
        {
         "customdata": [
          [
           "Argentina"
          ],
          [
           "Bolivia"
          ],
          [
           "Brazil"
          ],
          [
           "Chile"
          ],
          [
           "Colombia"
          ],
          [
           "Ecuador"
          ],
          [
           "Paraguay"
          ],
          [
           "Peru"
          ],
          [
           "Uruguay"
          ],
          [
           "Venezuela"
          ]
         ],
         "hovertemplate": "Continent=South America<br>GDP per capita ($)=%{x}<br>Child mortality rate (% children < 5 y.o.)=%{y}<br>Entity=%{customdata[0]}<extra></extra>",
         "legendgroup": "South America",
         "marker": {
          "color": "#ab63fa",
          "symbol": "circle"
         },
         "mode": "markers",
         "name": "South America",
         "orientation": "v",
         "showlegend": true,
         "type": "scatter",
         "x": [
          18875,
          6355,
          13873,
          21696,
          13326,
          10527,
          8786,
          11776,
          19468,
          15219
         ],
         "xaxis": "x",
         "y": [
          1.11,
          3.69,
          1.51,
          0.8300000000000001,
          1.5300000000000002,
          2.09,
          1.99,
          1.5300000000000002,
          0.92,
          1.63
         ],
         "yaxis": "y"
        },
        {
         "customdata": [
          [
           "Australia"
          ],
          [
           "New Zealand"
          ]
         ],
         "hovertemplate": "Continent=Oceania<br>GDP per capita ($)=%{x}<br>Child mortality rate (% children < 5 y.o.)=%{y}<br>Entity=%{customdata[0]}<extra></extra>",
         "legendgroup": "Oceania",
         "marker": {
          "color": "#FFA15A",
          "symbol": "circle"
         },
         "mode": "markers",
         "name": "Oceania",
         "orientation": "v",
         "showlegend": true,
         "type": "scatter",
         "x": [
          48845,
          34295
         ],
         "xaxis": "x",
         "y": [
          0.37,
          0.54
         ],
         "yaxis": "y"
        },
        {
         "customdata": [
          [
           "Barbados"
          ],
          [
           "Canada"
          ],
          [
           "Costa Rica"
          ],
          [
           "Cuba"
          ],
          [
           "Dominica"
          ],
          [
           "Dominican Republic"
          ],
          [
           "El Salvador"
          ],
          [
           "Guatemala"
          ],
          [
           "Haiti"
          ],
          [
           "Honduras"
          ],
          [
           "Jamaica"
          ],
          [
           "Mexico"
          ],
          [
           "Nicaragua"
          ],
          [
           "Panama"
          ],
          [
           "Puerto Rico"
          ],
          [
           "Saint Lucia"
          ],
          [
           "Trinidad and Tobago"
          ],
          [
           "United States"
          ]
         ],
         "hovertemplate": "Continent=North America<br>GDP per capita ($)=%{x}<br>Child mortality rate (% children < 5 y.o.)=%{y}<br>Entity=%{customdata[0]}<extra></extra>",
         "legendgroup": "North America",
         "marker": {
          "color": "#19d3f3",
          "symbol": "circle"
         },
         "mode": "markers",
         "name": "North America",
         "orientation": "v",
         "showlegend": true,
         "type": "scatter",
         "x": [
          12003,
          43745,
          14098,
          8000,
          9550,
          14489,
          8280,
          7221,
          1728,
          4796,
          7084,
          16133,
          5045,
          21449,
          35082,
          10233,
          29178,
          53015
         ],
         "xaxis": "x",
         "y": [
          1.2300000000000002,
          0.49,
          0.8800000000000001,
          0.55,
          3.4000000000000004,
          3.0700000000000003,
          1.5,
          2.85,
          6.7,
          1.87,
          1.5300000000000002,
          1.46,
          1.97,
          1.64,
          0.6479,
          1.33,
          1.85,
          0.65
         ],
         "yaxis": "y"
        },
        {
         "hovertemplate": "<b>OLS trendline</b><br>Child mortality (Select Gapminder, v10) (2017) = -4.59234 * log10(GDP per capita) + 21.4134<br>R<sup>2</sup>=0.604865<br><br>GDP per capita ($)=%{x}<br>Child mortality rate (% children < 5 y.o.)=%{y} <b>(trend)</b><extra></extra>",
         "legendgroup": "Overall Trendline",
         "line": {
          "color": "black"
         },
         "mode": "lines",
         "name": "Overall Trendline",
         "showlegend": true,
         "type": "scatter",
         "x": [
          589,
          665,
          829,
          836,
          925,
          1112,
          1113,
          1381,
          1400,
          1417,
          1436,
          1483,
          1534,
          1594,
          1619,
          1635,
          1702,
          1728,
          1742.0223,
          1758,
          1788,
          1929,
          1980,
          2080,
          2189,
          2403,
          2435,
          2506,
          2660,
          2767,
          2828,
          3064,
          3091,
          3169,
          3251,
          3395,
          3407,
          3479,
          3604,
          3624,
          3651,
          3878,
          3991,
          4796,
          4879,
          5045,
          5223,
          5284,
          5321.3826,
          5360,
          5859,
          5974,
          6062,
          6068,
          6125,
          6355,
          6418,
          7084,
          7221,
          7410,
          7881,
          8000,
          8039,
          8096,
          8280,
          8453,
          8786,
          9214,
          9376,
          9550,
          9746,
          10080,
          10233,
          10342,
          10381,
          10527,
          10899,
          10911,
          11073,
          11149,
          11351,
          11529,
          11776,
          12003,
          12139,
          12360,
          12569,
          12644,
          12972,
          13184,
          13326,
          13873,
          13898,
          14098,
          14331,
          14489,
          15198,
          15219,
          15454,
          16133,
          16645,
          16783,
          17037,
          17628,
          17741,
          17782,
          17906,
          18413,
          18875,
          18918,
          19468,
          20376,
          21449,
          21696,
          22092,
          22574,
          23053,
          23279,
          23635,
          23813,
          23842,
          24743,
          24838,
          24857,
          25346,
          25364,
          25577,
          26624,
          26908,
          28823,
          29178,
          29817,
          30110,
          31701,
          33317,
          33419,
          34295,
          35082,
          36103,
          37124,
          37239,
          37334,
          37465,
          38515,
          38766,
          41078,
          41445,
          42085,
          43745,
          44659,
          44689,
          44836,
          45600,
          48330,
          48845,
          51397,
          53015,
          56597,
          57006,
          59662,
          65729,
          71010,
          75876,
          82814,
          156299
         ],
         "xaxis": "x",
         "y": [
          8.69207767195036,
          8.450031955278735,
          8.010393570305414,
          7.993623490720397,
          7.791856746081958,
          7.424638855905254,
          7.422846109845734,
          6.992550257273839,
          6.965297645338136,
          6.941225427253489,
          6.914660598994406,
          6.8504288036930046,
          6.782993859785607,
          6.706471819506323,
          6.675434313943285,
          6.655820832145013,
          6.575722084314764,
          6.5454852507885555,
          6.52936625004844,
          6.511156867046763,
          6.4774093637786105,
          6.3260240458923,
          6.273979177827149,
          6.175711526605882,
          6.073842182729875,
          5.887815451027331,
          5.86143153777434,
          5.804109429934417,
          5.6851650909709495,
          5.60650960790054,
          5.563018976244381,
          5.403162423900227,
          5.385664470512975,
          5.335960451256739,
          5.285009628028394,
          5.198568804888197,
          5.191531703120283,
          5.149822675189597,
          5.079420410988121,
          5.068383139560389,
          5.053579056156568,
          4.933278130282158,
          4.8759935789389495,
          4.509536217119621,
          4.475315702540833,
          4.408587318951369,
          4.339431868441892,
          4.316273671396569,
          4.302213399331546,
          4.287792039471981,
          4.110257934605414,
          4.07149064735421,
          4.04232598220073,
          4.040352926946397,
          4.021705616195913,
          3.9481846527842954,
          3.928510324137072,
          3.731595922024276,
          3.6933931615003175,
          3.641863093563522,
          3.5189576299387895,
          3.48906762362099,
          3.4793684007618566,
          3.465276925736813,
          3.420456391055037,
          3.3792146938226004,
          3.3021536385635315,
          3.207289537830178,
          3.1725282881383556,
          3.135854868176832,
          3.0953364501760134,
          3.0281315070457104,
          2.9980863597073366,
          2.9769544143184454,
          2.9694475035187864,
          2.9415929509847345,
          2.8723310757248086,
          2.8701363796497787,
          2.8407419577696977,
          2.827099867938937,
          2.7912878096640092,
          2.760254970767395,
          2.7179771229757,
          2.679897360919032,
          2.6574265358140288,
          2.6214429483421675,
          2.5880003227468222,
          2.5761348025414854,
          2.5250566679173154,
          2.492725394863445,
          2.4713589860879495,
          2.3911280770515475,
          2.3875372261716983,
          2.359040815448239,
          2.326347962229054,
          2.304479601750444,
          2.2091975115012907,
          2.2064435887837277,
          2.175882496806583,
          2.090124019010865,
          2.0278120323458175,
          2.011344826181528,
          1.9813865347158135,
          1.913374287874678,
          1.900630283766752,
          1.8960264124470783,
          1.8821668351390706,
          1.826480190229205,
          1.7770555094401743,
          1.772517075293397,
          1.71536022144209,
          1.6244428485988252,
          1.522088136810499,
          1.4992521392874814,
          1.4631776094697777,
          1.4201313322684435,
          1.3782540666143532,
          1.358796899965359,
          1.3285274427515184,
          1.3135632638626618,
          1.3111358806713724,
          1.2371547200774238,
          1.2295118299269632,
          1.2279867602367318,
          1.1891322278234817,
          1.187716343819048,
          1.171037596434001,
          1.0910219591122114,
          1.0698599104868407,
          0.9327427793034175,
          0.908328322979699,
          0.8651215928796532,
          0.8456187776344208,
          0.7429238219564667,
          0.6437616647621205,
          0.6376650451320849,
          0.5860592315514204,
          0.5408083954005356,
          0.4835926185577506,
          0.4279725643082912,
          0.421803915480524,
          0.41672242649915603,
          0.4097364887623911,
          0.3546092269484653,
          0.34165381347438384,
          0.2261182378276061,
          0.20837868441614305,
          0.1778157708039103,
          0.10065938122349749,
          0.059417495214745486,
          0.05807817261197101,
          0.05152846130324917,
          0.017829919546635153,
          -0.09813574444254414,
          -0.11927577002168022,
          -0.22084766675611078,
          -0.28266519444235527,
          -0.41306318821469645,
          -0.42742417051150383,
          -0.5182480657532444,
          -0.71139847882257,
          -0.8655289830461257,
          -0.997719228882417,
          -1.172225260462188,
          -2.439034672480858
         ],
         "yaxis": "y"
        }
       ],
       "layout": {
        "legend": {
         "title": {
          "text": "Continent"
         },
         "tracegroupgap": 0
        },
        "template": {
         "data": {
          "bar": [
           {
            "error_x": {
             "color": "#2a3f5f"
            },
            "error_y": {
             "color": "#2a3f5f"
            },
            "marker": {
             "line": {
              "color": "#E5ECF6",
              "width": 0.5
             },
             "pattern": {
              "fillmode": "overlay",
              "size": 10,
              "solidity": 0.2
             }
            },
            "type": "bar"
           }
          ],
          "barpolar": [
           {
            "marker": {
             "line": {
              "color": "#E5ECF6",
              "width": 0.5
             },
             "pattern": {
              "fillmode": "overlay",
              "size": 10,
              "solidity": 0.2
             }
            },
            "type": "barpolar"
           }
          ],
          "carpet": [
           {
            "aaxis": {
             "endlinecolor": "#2a3f5f",
             "gridcolor": "white",
             "linecolor": "white",
             "minorgridcolor": "white",
             "startlinecolor": "#2a3f5f"
            },
            "baxis": {
             "endlinecolor": "#2a3f5f",
             "gridcolor": "white",
             "linecolor": "white",
             "minorgridcolor": "white",
             "startlinecolor": "#2a3f5f"
            },
            "type": "carpet"
           }
          ],
          "choropleth": [
           {
            "colorbar": {
             "outlinewidth": 0,
             "ticks": ""
            },
            "type": "choropleth"
           }
          ],
          "contour": [
           {
            "colorbar": {
             "outlinewidth": 0,
             "ticks": ""
            },
            "colorscale": [
             [
              0,
              "#0d0887"
             ],
             [
              0.1111111111111111,
              "#46039f"
             ],
             [
              0.2222222222222222,
              "#7201a8"
             ],
             [
              0.3333333333333333,
              "#9c179e"
             ],
             [
              0.4444444444444444,
              "#bd3786"
             ],
             [
              0.5555555555555556,
              "#d8576b"
             ],
             [
              0.6666666666666666,
              "#ed7953"
             ],
             [
              0.7777777777777778,
              "#fb9f3a"
             ],
             [
              0.8888888888888888,
              "#fdca26"
             ],
             [
              1,
              "#f0f921"
             ]
            ],
            "type": "contour"
           }
          ],
          "contourcarpet": [
           {
            "colorbar": {
             "outlinewidth": 0,
             "ticks": ""
            },
            "type": "contourcarpet"
           }
          ],
          "heatmap": [
           {
            "colorbar": {
             "outlinewidth": 0,
             "ticks": ""
            },
            "colorscale": [
             [
              0,
              "#0d0887"
             ],
             [
              0.1111111111111111,
              "#46039f"
             ],
             [
              0.2222222222222222,
              "#7201a8"
             ],
             [
              0.3333333333333333,
              "#9c179e"
             ],
             [
              0.4444444444444444,
              "#bd3786"
             ],
             [
              0.5555555555555556,
              "#d8576b"
             ],
             [
              0.6666666666666666,
              "#ed7953"
             ],
             [
              0.7777777777777778,
              "#fb9f3a"
             ],
             [
              0.8888888888888888,
              "#fdca26"
             ],
             [
              1,
              "#f0f921"
             ]
            ],
            "type": "heatmap"
           }
          ],
          "heatmapgl": [
           {
            "colorbar": {
             "outlinewidth": 0,
             "ticks": ""
            },
            "colorscale": [
             [
              0,
              "#0d0887"
             ],
             [
              0.1111111111111111,
              "#46039f"
             ],
             [
              0.2222222222222222,
              "#7201a8"
             ],
             [
              0.3333333333333333,
              "#9c179e"
             ],
             [
              0.4444444444444444,
              "#bd3786"
             ],
             [
              0.5555555555555556,
              "#d8576b"
             ],
             [
              0.6666666666666666,
              "#ed7953"
             ],
             [
              0.7777777777777778,
              "#fb9f3a"
             ],
             [
              0.8888888888888888,
              "#fdca26"
             ],
             [
              1,
              "#f0f921"
             ]
            ],
            "type": "heatmapgl"
           }
          ],
          "histogram": [
           {
            "marker": {
             "pattern": {
              "fillmode": "overlay",
              "size": 10,
              "solidity": 0.2
             }
            },
            "type": "histogram"
           }
          ],
          "histogram2d": [
           {
            "colorbar": {
             "outlinewidth": 0,
             "ticks": ""
            },
            "colorscale": [
             [
              0,
              "#0d0887"
             ],
             [
              0.1111111111111111,
              "#46039f"
             ],
             [
              0.2222222222222222,
              "#7201a8"
             ],
             [
              0.3333333333333333,
              "#9c179e"
             ],
             [
              0.4444444444444444,
              "#bd3786"
             ],
             [
              0.5555555555555556,
              "#d8576b"
             ],
             [
              0.6666666666666666,
              "#ed7953"
             ],
             [
              0.7777777777777778,
              "#fb9f3a"
             ],
             [
              0.8888888888888888,
              "#fdca26"
             ],
             [
              1,
              "#f0f921"
             ]
            ],
            "type": "histogram2d"
           }
          ],
          "histogram2dcontour": [
           {
            "colorbar": {
             "outlinewidth": 0,
             "ticks": ""
            },
            "colorscale": [
             [
              0,
              "#0d0887"
             ],
             [
              0.1111111111111111,
              "#46039f"
             ],
             [
              0.2222222222222222,
              "#7201a8"
             ],
             [
              0.3333333333333333,
              "#9c179e"
             ],
             [
              0.4444444444444444,
              "#bd3786"
             ],
             [
              0.5555555555555556,
              "#d8576b"
             ],
             [
              0.6666666666666666,
              "#ed7953"
             ],
             [
              0.7777777777777778,
              "#fb9f3a"
             ],
             [
              0.8888888888888888,
              "#fdca26"
             ],
             [
              1,
              "#f0f921"
             ]
            ],
            "type": "histogram2dcontour"
           }
          ],
          "mesh3d": [
           {
            "colorbar": {
             "outlinewidth": 0,
             "ticks": ""
            },
            "type": "mesh3d"
           }
          ],
          "parcoords": [
           {
            "line": {
             "colorbar": {
              "outlinewidth": 0,
              "ticks": ""
             }
            },
            "type": "parcoords"
           }
          ],
          "pie": [
           {
            "automargin": true,
            "type": "pie"
           }
          ],
          "scatter": [
           {
            "marker": {
             "colorbar": {
              "outlinewidth": 0,
              "ticks": ""
             }
            },
            "type": "scatter"
           }
          ],
          "scatter3d": [
           {
            "line": {
             "colorbar": {
              "outlinewidth": 0,
              "ticks": ""
             }
            },
            "marker": {
             "colorbar": {
              "outlinewidth": 0,
              "ticks": ""
             }
            },
            "type": "scatter3d"
           }
          ],
          "scattercarpet": [
           {
            "marker": {
             "colorbar": {
              "outlinewidth": 0,
              "ticks": ""
             }
            },
            "type": "scattercarpet"
           }
          ],
          "scattergeo": [
           {
            "marker": {
             "colorbar": {
              "outlinewidth": 0,
              "ticks": ""
             }
            },
            "type": "scattergeo"
           }
          ],
          "scattergl": [
           {
            "marker": {
             "colorbar": {
              "outlinewidth": 0,
              "ticks": ""
             }
            },
            "type": "scattergl"
           }
          ],
          "scattermapbox": [
           {
            "marker": {
             "colorbar": {
              "outlinewidth": 0,
              "ticks": ""
             }
            },
            "type": "scattermapbox"
           }
          ],
          "scatterpolar": [
           {
            "marker": {
             "colorbar": {
              "outlinewidth": 0,
              "ticks": ""
             }
            },
            "type": "scatterpolar"
           }
          ],
          "scatterpolargl": [
           {
            "marker": {
             "colorbar": {
              "outlinewidth": 0,
              "ticks": ""
             }
            },
            "type": "scatterpolargl"
           }
          ],
          "scatterternary": [
           {
            "marker": {
             "colorbar": {
              "outlinewidth": 0,
              "ticks": ""
             }
            },
            "type": "scatterternary"
           }
          ],
          "surface": [
           {
            "colorbar": {
             "outlinewidth": 0,
             "ticks": ""
            },
            "colorscale": [
             [
              0,
              "#0d0887"
             ],
             [
              0.1111111111111111,
              "#46039f"
             ],
             [
              0.2222222222222222,
              "#7201a8"
             ],
             [
              0.3333333333333333,
              "#9c179e"
             ],
             [
              0.4444444444444444,
              "#bd3786"
             ],
             [
              0.5555555555555556,
              "#d8576b"
             ],
             [
              0.6666666666666666,
              "#ed7953"
             ],
             [
              0.7777777777777778,
              "#fb9f3a"
             ],
             [
              0.8888888888888888,
              "#fdca26"
             ],
             [
              1,
              "#f0f921"
             ]
            ],
            "type": "surface"
           }
          ],
          "table": [
           {
            "cells": {
             "fill": {
              "color": "#EBF0F8"
             },
             "line": {
              "color": "white"
             }
            },
            "header": {
             "fill": {
              "color": "#C8D4E3"
             },
             "line": {
              "color": "white"
             }
            },
            "type": "table"
           }
          ]
         },
         "layout": {
          "annotationdefaults": {
           "arrowcolor": "#2a3f5f",
           "arrowhead": 0,
           "arrowwidth": 1
          },
          "autotypenumbers": "strict",
          "coloraxis": {
           "colorbar": {
            "outlinewidth": 0,
            "ticks": ""
           }
          },
          "colorscale": {
           "diverging": [
            [
             0,
             "#8e0152"
            ],
            [
             0.1,
             "#c51b7d"
            ],
            [
             0.2,
             "#de77ae"
            ],
            [
             0.3,
             "#f1b6da"
            ],
            [
             0.4,
             "#fde0ef"
            ],
            [
             0.5,
             "#f7f7f7"
            ],
            [
             0.6,
             "#e6f5d0"
            ],
            [
             0.7,
             "#b8e186"
            ],
            [
             0.8,
             "#7fbc41"
            ],
            [
             0.9,
             "#4d9221"
            ],
            [
             1,
             "#276419"
            ]
           ],
           "sequential": [
            [
             0,
             "#0d0887"
            ],
            [
             0.1111111111111111,
             "#46039f"
            ],
            [
             0.2222222222222222,
             "#7201a8"
            ],
            [
             0.3333333333333333,
             "#9c179e"
            ],
            [
             0.4444444444444444,
             "#bd3786"
            ],
            [
             0.5555555555555556,
             "#d8576b"
            ],
            [
             0.6666666666666666,
             "#ed7953"
            ],
            [
             0.7777777777777778,
             "#fb9f3a"
            ],
            [
             0.8888888888888888,
             "#fdca26"
            ],
            [
             1,
             "#f0f921"
            ]
           ],
           "sequentialminus": [
            [
             0,
             "#0d0887"
            ],
            [
             0.1111111111111111,
             "#46039f"
            ],
            [
             0.2222222222222222,
             "#7201a8"
            ],
            [
             0.3333333333333333,
             "#9c179e"
            ],
            [
             0.4444444444444444,
             "#bd3786"
            ],
            [
             0.5555555555555556,
             "#d8576b"
            ],
            [
             0.6666666666666666,
             "#ed7953"
            ],
            [
             0.7777777777777778,
             "#fb9f3a"
            ],
            [
             0.8888888888888888,
             "#fdca26"
            ],
            [
             1,
             "#f0f921"
            ]
           ]
          },
          "colorway": [
           "#636efa",
           "#EF553B",
           "#00cc96",
           "#ab63fa",
           "#FFA15A",
           "#19d3f3",
           "#FF6692",
           "#B6E880",
           "#FF97FF",
           "#FECB52"
          ],
          "font": {
           "color": "#2a3f5f"
          },
          "geo": {
           "bgcolor": "white",
           "lakecolor": "white",
           "landcolor": "#E5ECF6",
           "showlakes": true,
           "showland": true,
           "subunitcolor": "white"
          },
          "hoverlabel": {
           "align": "left"
          },
          "hovermode": "closest",
          "mapbox": {
           "style": "light"
          },
          "paper_bgcolor": "white",
          "plot_bgcolor": "#E5ECF6",
          "polar": {
           "angularaxis": {
            "gridcolor": "white",
            "linecolor": "white",
            "ticks": ""
           },
           "bgcolor": "#E5ECF6",
           "radialaxis": {
            "gridcolor": "white",
            "linecolor": "white",
            "ticks": ""
           }
          },
          "scene": {
           "xaxis": {
            "backgroundcolor": "#E5ECF6",
            "gridcolor": "white",
            "gridwidth": 2,
            "linecolor": "white",
            "showbackground": true,
            "ticks": "",
            "zerolinecolor": "white"
           },
           "yaxis": {
            "backgroundcolor": "#E5ECF6",
            "gridcolor": "white",
            "gridwidth": 2,
            "linecolor": "white",
            "showbackground": true,
            "ticks": "",
            "zerolinecolor": "white"
           },
           "zaxis": {
            "backgroundcolor": "#E5ECF6",
            "gridcolor": "white",
            "gridwidth": 2,
            "linecolor": "white",
            "showbackground": true,
            "ticks": "",
            "zerolinecolor": "white"
           }
          },
          "shapedefaults": {
           "line": {
            "color": "#2a3f5f"
           }
          },
          "ternary": {
           "aaxis": {
            "gridcolor": "white",
            "linecolor": "white",
            "ticks": ""
           },
           "baxis": {
            "gridcolor": "white",
            "linecolor": "white",
            "ticks": ""
           },
           "bgcolor": "#E5ECF6",
           "caxis": {
            "gridcolor": "white",
            "linecolor": "white",
            "ticks": ""
           }
          },
          "title": {
           "x": 0.05
          },
          "xaxis": {
           "automargin": true,
           "gridcolor": "white",
           "linecolor": "white",
           "ticks": "",
           "title": {
            "standoff": 15
           },
           "zerolinecolor": "white",
           "zerolinewidth": 2
          },
          "yaxis": {
           "automargin": true,
           "gridcolor": "white",
           "linecolor": "white",
           "ticks": "",
           "title": {
            "standoff": 15
           },
           "zerolinecolor": "white",
           "zerolinewidth": 2
          }
         }
        },
        "title": {
         "text": "Child mortality vs. GDP per capita, 2016"
        },
        "xaxis": {
         "anchor": "y",
         "domain": [
          0,
          1
         ],
         "range": [
          2.751279103983342,
          5.2208896376994485
         ],
         "title": {
          "text": "GDP per capita ($)"
         },
         "type": "log"
        },
        "yaxis": {
         "anchor": "x",
         "domain": [
          0,
          1
         ],
         "range": [
          -2.79,
          13.73
         ],
         "title": {
          "text": "Child mortality rate (% children < 5 y.o.)"
         }
        }
       }
      },
      "text/html": [
       "<div>                            <div id=\"59a0490e-72d2-42bc-8749-ec0ed2bb195b\" class=\"plotly-graph-div\" style=\"height:525px; width:100%;\"></div>            <script type=\"text/javascript\">                require([\"plotly\"], function(Plotly) {                    window.PLOTLYENV=window.PLOTLYENV || {};                                    if (document.getElementById(\"59a0490e-72d2-42bc-8749-ec0ed2bb195b\")) {                    Plotly.newPlot(                        \"59a0490e-72d2-42bc-8749-ec0ed2bb195b\",                        [{\"customdata\":[[\"Afghanistan\"],[\"Armenia\"],[\"Azerbaijan\"],[\"Bahrain\"],[\"Bangladesh\"],[\"Cambodia\"],[\"China\"],[\"Georgia\"],[\"Hong Kong\"],[\"India\"],[\"Indonesia\"],[\"Iran\"],[\"Iraq\"],[\"Israel\"],[\"Japan\"],[\"Jordan\"],[\"Kazakhstan\"],[\"Kuwait\"],[\"Kyrgyzstan\"],[\"Laos\"],[\"Lebanon\"],[\"Malaysia\"],[\"Mongolia\"],[\"Myanmar\"],[\"Nepal\"],[\"North Korea\"],[\"Oman\"],[\"Pakistan\"],[\"Palestine\"],[\"Philippines\"],[\"Qatar\"],[\"Saudi Arabia\"],[\"Singapore\"],[\"South Korea\"],[\"Sri Lanka\"],[\"Syria\"],[\"Tajikistan\"],[\"Thailand\"],[\"Turkey\"],[\"Turkmenistan\"],[\"United Arab Emirates\"],[\"Uzbekistan\"],[\"Vietnam\"],[\"Yemen\"]],\"hovertemplate\":\"Continent=Asia<br>GDP per capita ($)=%{x}<br>Child mortality rate (% children < 5 y.o.)=%{y}<br>Entity=%{customdata[0]}<extra></extra>\",\"legendgroup\":\"Asia\",\"marker\":{\"color\":\"#636efa\",\"symbol\":\"circle\"},\"mode\":\"markers\",\"name\":\"Asia\",\"orientation\":\"v\",\"showlegend\":true,\"x\":[1929.0,10080.0,16645.0,41078.0,3604.0,3251.0,12569.0,10899.0,48330.0,6125.0,10911.0,16783.0,13898.0,31701.0,37465.0,11529.0,23842.0,71010.0,4879.0,5859.0,12972.0,23053.0,12360.0,5284.0,2435.0,1742.0223,38515.0,5223.0,5321.3826,7410.0,156299.0,51397.0,65729.0,36103.0,11149.0,3091.0,3991.0,15454.0,17906.0,23813.0,75876.0,10381.0,6062.0,2506.0],\"xaxis\":\"x\",\"y\":[7.040000000000001,1.34,3.09,0.76,3.4200000000000004,3.0600000000000005,0.99,1.07,0.2282,4.3,2.64,1.51,3.12,0.36,0.27,1.7600000000000002,1.14,0.8400000000000001,2.1100000000000003,6.390000000000001,0.81,0.8300000000000001,1.79,5.08,3.45,2.0,1.07,7.88,1.94,2.7100000000000004,0.8500000000000001,1.29,0.2799999999999999,0.34,0.94,1.9123,4.3100000000000005,1.22,1.27,5.1000000000000005,0.77,2.41,2.16,5.53],\"yaxis\":\"y\",\"type\":\"scatter\"},{\"customdata\":[[\"Albania\"],[\"Austria\"],[\"Belarus\"],[\"Belgium\"],[\"Bosnia and Herzegovina\"],[\"Bulgaria\"],[\"Croatia\"],[\"Cyprus\"],[\"Czechia\"],[\"Denmark\"],[\"Estonia\"],[\"Finland\"],[\"France\"],[\"Germany\"],[\"Greece\"],[\"Hungary\"],[\"Iceland\"],[\"Ireland\"],[\"Italy\"],[\"Latvia\"],[\"Lithuania\"],[\"Luxembourg\"],[\"Malta\"],[\"Moldova\"],[\"Montenegro\"],[\"Netherlands\"],[\"North Macedonia\"],[\"Norway\"],[\"Poland\"],[\"Portugal\"],[\"Romania\"],[\"Russia\"],[\"Serbia\"],[\"Slovakia\"],[\"Slovenia\"],[\"Spain\"],[\"Sweden\"],[\"Switzerland\"],[\"Ukraine\"],[\"United Kingdom\"]],\"hovertemplate\":\"Continent=Europe<br>GDP per capita ($)=%{x}<br>Child mortality rate (% children < 5 y.o.)=%{y}<br>Entity=%{customdata[0]}<extra></extra>\",\"legendgroup\":\"Europe\",\"marker\":{\"color\":\"#EF553B\",\"symbol\":\"circle\"},\"mode\":\"markers\",\"name\":\"Europe\",\"orientation\":\"v\",\"showlegend\":true,\"x\":[10342.0,41445.0,17628.0,38766.0,9746.0,17037.0,20376.0,25577.0,28823.0,44836.0,24857.0,37239.0,37124.0,44689.0,22574.0,23279.0,42085.0,56597.0,33419.0,22092.0,24743.0,57006.0,29817.0,6068.0,17741.0,45600.0,12644.0,82814.0,24838.0,25346.0,17782.0,23635.0,13184.0,25364.0,26908.0,30110.0,44659.0,59662.0,9214.0,37334.0],\"xaxis\":\"x\",\"y\":[1.35,0.35,0.39,0.39,0.6000000000000001,0.76,0.47,0.26,0.32,0.44,0.29,0.2299999999999999,0.39,0.38,0.38,0.52,0.21,0.36,0.33,0.4599999999999999,0.53,0.24,0.68,1.59,0.38,0.38,1.22,0.26,0.47,0.35,0.9,0.77,0.58,0.5900000000000001,0.2299999999999999,0.33,0.29,0.41,0.91,0.43],\"yaxis\":\"y\",\"type\":\"scatter\"},{\"customdata\":[[\"Algeria\"],[\"Angola\"],[\"Benin\"],[\"Botswana\"],[\"Burkina Faso\"],[\"Burundi\"],[\"Cameroon\"],[\"Cape Verde\"],[\"Central African Republic\"],[\"Chad\"],[\"Comoros\"],[\"Congo\"],[\"Cote d'Ivoire\"],[\"Democratic Republic of Congo\"],[\"Djibouti\"],[\"Egypt\"],[\"Equatorial Guinea\"],[\"Eswatini\"],[\"Ethiopia\"],[\"Gabon\"],[\"Gambia\"],[\"Ghana\"],[\"Guinea\"],[\"Guinea-Bissau\"],[\"Kenya\"],[\"Lesotho\"],[\"Liberia\"],[\"Libya\"],[\"Madagascar\"],[\"Malawi\"],[\"Mali\"],[\"Mauritania\"],[\"Mauritius\"],[\"Morocco\"],[\"Mozambique\"],[\"Namibia\"],[\"Niger\"],[\"Nigeria\"],[\"Rwanda\"],[\"Sao Tome and Principe\"],[\"Senegal\"],[\"Seychelles\"],[\"Sierra Leone\"],[\"South Africa\"],[\"Sudan\"],[\"Tanzania\"],[\"Togo\"],[\"Tunisia\"],[\"Uganda\"],[\"Zambia\"],[\"Zimbabwe\"]],\"hovertemplate\":\"Continent=Africa<br>GDP per capita ($)=%{x}<br>Child mortality rate (% children < 5 y.o.)=%{y}<br>Entity=%{customdata[0]}<extra></extra>\",\"legendgroup\":\"Africa\",\"marker\":{\"color\":\"#00cc96\",\"symbol\":\"circle\"},\"mode\":\"markers\",\"name\":\"Africa\",\"orientation\":\"v\",\"showlegend\":true,\"x\":[14331.0,8453.0,2080.0,15198.0,1483.0,665.0,2828.0,6418.0,589.0,2189.0,1702.0,5974.0,3395.0,836.0,3064.0,11351.0,33317.0,7881.0,1635.0,18413.0,1788.0,3878.0,1417.0,1436.0,3169.0,2767.0,829.0,8096.0,1381.0,1112.0,1594.0,3407.0,18918.0,8039.0,1113.0,9376.0,925.0,5360.0,1758.0,3624.0,2403.0,26624.0,1619.0,12139.0,3651.0,2660.0,1400.0,11073.0,1980.0,3479.0,1534.0],\"xaxis\":\"x\",\"y\":[2.52,8.25,9.76,4.0600000000000005,8.459999999999999,7.170000000000001,7.970000000000001,2.14,12.36,12.73,7.33,5.41,9.18,9.43,6.420000000000001,2.28,9.090000000000002,7.040000000000001,5.84,4.74,6.53,5.88,8.9,8.81,4.920000000000001,9.35,6.740000000000001,1.29,4.64,5.510000000000001,11.06,8.14,1.37,2.7100000000000004,7.13,4.5200000000000005,9.13,10.43,3.85,3.38,4.71,1.4300000000000002,11.35,4.33,6.51,5.670000000000001,7.57,1.36,5.300000000000001,6.34,5.640000000000001],\"yaxis\":\"y\",\"type\":\"scatter\"},{\"customdata\":[[\"Argentina\"],[\"Bolivia\"],[\"Brazil\"],[\"Chile\"],[\"Colombia\"],[\"Ecuador\"],[\"Paraguay\"],[\"Peru\"],[\"Uruguay\"],[\"Venezuela\"]],\"hovertemplate\":\"Continent=South America<br>GDP per capita ($)=%{x}<br>Child mortality rate (% children < 5 y.o.)=%{y}<br>Entity=%{customdata[0]}<extra></extra>\",\"legendgroup\":\"South America\",\"marker\":{\"color\":\"#ab63fa\",\"symbol\":\"circle\"},\"mode\":\"markers\",\"name\":\"South America\",\"orientation\":\"v\",\"showlegend\":true,\"x\":[18875.0,6355.0,13873.0,21696.0,13326.0,10527.0,8786.0,11776.0,19468.0,15219.0],\"xaxis\":\"x\",\"y\":[1.11,3.69,1.51,0.8300000000000001,1.5300000000000002,2.09,1.99,1.5300000000000002,0.92,1.63],\"yaxis\":\"y\",\"type\":\"scatter\"},{\"customdata\":[[\"Australia\"],[\"New Zealand\"]],\"hovertemplate\":\"Continent=Oceania<br>GDP per capita ($)=%{x}<br>Child mortality rate (% children < 5 y.o.)=%{y}<br>Entity=%{customdata[0]}<extra></extra>\",\"legendgroup\":\"Oceania\",\"marker\":{\"color\":\"#FFA15A\",\"symbol\":\"circle\"},\"mode\":\"markers\",\"name\":\"Oceania\",\"orientation\":\"v\",\"showlegend\":true,\"x\":[48845.0,34295.0],\"xaxis\":\"x\",\"y\":[0.37,0.54],\"yaxis\":\"y\",\"type\":\"scatter\"},{\"customdata\":[[\"Barbados\"],[\"Canada\"],[\"Costa Rica\"],[\"Cuba\"],[\"Dominica\"],[\"Dominican Republic\"],[\"El Salvador\"],[\"Guatemala\"],[\"Haiti\"],[\"Honduras\"],[\"Jamaica\"],[\"Mexico\"],[\"Nicaragua\"],[\"Panama\"],[\"Puerto Rico\"],[\"Saint Lucia\"],[\"Trinidad and Tobago\"],[\"United States\"]],\"hovertemplate\":\"Continent=North America<br>GDP per capita ($)=%{x}<br>Child mortality rate (% children < 5 y.o.)=%{y}<br>Entity=%{customdata[0]}<extra></extra>\",\"legendgroup\":\"North America\",\"marker\":{\"color\":\"#19d3f3\",\"symbol\":\"circle\"},\"mode\":\"markers\",\"name\":\"North America\",\"orientation\":\"v\",\"showlegend\":true,\"x\":[12003.0,43745.0,14098.0,8000.0,9550.0,14489.0,8280.0,7221.0,1728.0,4796.0,7084.0,16133.0,5045.0,21449.0,35082.0,10233.0,29178.0,53015.0],\"xaxis\":\"x\",\"y\":[1.2300000000000002,0.49,0.8800000000000001,0.55,3.4000000000000004,3.0700000000000003,1.5,2.85,6.7,1.87,1.5300000000000002,1.46,1.97,1.64,0.6479,1.33,1.85,0.65],\"yaxis\":\"y\",\"type\":\"scatter\"},{\"hovertemplate\":\"<b>OLS trendline</b><br>Child mortality (Select Gapminder, v10) (2017) = -4.59234 * log10(GDP per capita) + 21.4134<br>R<sup>2</sup>=0.604865<br><br>GDP per capita ($)=%{x}<br>Child mortality rate (% children < 5 y.o.)=%{y} <b>(trend)</b><extra></extra>\",\"legendgroup\":\"Overall Trendline\",\"line\":{\"color\":\"black\"},\"mode\":\"lines\",\"name\":\"Overall Trendline\",\"showlegend\":true,\"x\":[589.0,665.0,829.0,836.0,925.0,1112.0,1113.0,1381.0,1400.0,1417.0,1436.0,1483.0,1534.0,1594.0,1619.0,1635.0,1702.0,1728.0,1742.0223,1758.0,1788.0,1929.0,1980.0,2080.0,2189.0,2403.0,2435.0,2506.0,2660.0,2767.0,2828.0,3064.0,3091.0,3169.0,3251.0,3395.0,3407.0,3479.0,3604.0,3624.0,3651.0,3878.0,3991.0,4796.0,4879.0,5045.0,5223.0,5284.0,5321.3826,5360.0,5859.0,5974.0,6062.0,6068.0,6125.0,6355.0,6418.0,7084.0,7221.0,7410.0,7881.0,8000.0,8039.0,8096.0,8280.0,8453.0,8786.0,9214.0,9376.0,9550.0,9746.0,10080.0,10233.0,10342.0,10381.0,10527.0,10899.0,10911.0,11073.0,11149.0,11351.0,11529.0,11776.0,12003.0,12139.0,12360.0,12569.0,12644.0,12972.0,13184.0,13326.0,13873.0,13898.0,14098.0,14331.0,14489.0,15198.0,15219.0,15454.0,16133.0,16645.0,16783.0,17037.0,17628.0,17741.0,17782.0,17906.0,18413.0,18875.0,18918.0,19468.0,20376.0,21449.0,21696.0,22092.0,22574.0,23053.0,23279.0,23635.0,23813.0,23842.0,24743.0,24838.0,24857.0,25346.0,25364.0,25577.0,26624.0,26908.0,28823.0,29178.0,29817.0,30110.0,31701.0,33317.0,33419.0,34295.0,35082.0,36103.0,37124.0,37239.0,37334.0,37465.0,38515.0,38766.0,41078.0,41445.0,42085.0,43745.0,44659.0,44689.0,44836.0,45600.0,48330.0,48845.0,51397.0,53015.0,56597.0,57006.0,59662.0,65729.0,71010.0,75876.0,82814.0,156299.0],\"y\":[8.69207767195036,8.450031955278735,8.010393570305414,7.993623490720397,7.791856746081958,7.424638855905254,7.422846109845734,6.992550257273839,6.965297645338136,6.941225427253489,6.914660598994406,6.8504288036930046,6.782993859785607,6.706471819506323,6.675434313943285,6.655820832145013,6.575722084314764,6.5454852507885555,6.52936625004844,6.511156867046763,6.4774093637786105,6.3260240458923,6.273979177827149,6.175711526605882,6.073842182729875,5.887815451027331,5.86143153777434,5.804109429934417,5.6851650909709495,5.60650960790054,5.563018976244381,5.403162423900227,5.385664470512975,5.335960451256739,5.285009628028394,5.198568804888197,5.191531703120283,5.149822675189597,5.079420410988121,5.068383139560389,5.053579056156568,4.933278130282158,4.8759935789389495,4.509536217119621,4.475315702540833,4.408587318951369,4.339431868441892,4.316273671396569,4.302213399331546,4.287792039471981,4.110257934605414,4.07149064735421,4.04232598220073,4.040352926946397,4.021705616195913,3.9481846527842954,3.928510324137072,3.731595922024276,3.6933931615003175,3.641863093563522,3.5189576299387895,3.48906762362099,3.4793684007618566,3.465276925736813,3.420456391055037,3.3792146938226004,3.3021536385635315,3.207289537830178,3.1725282881383556,3.135854868176832,3.0953364501760134,3.0281315070457104,2.9980863597073366,2.9769544143184454,2.9694475035187864,2.9415929509847345,2.8723310757248086,2.8701363796497787,2.8407419577696977,2.827099867938937,2.7912878096640092,2.760254970767395,2.7179771229757,2.679897360919032,2.6574265358140288,2.6214429483421675,2.5880003227468222,2.5761348025414854,2.5250566679173154,2.492725394863445,2.4713589860879495,2.3911280770515475,2.3875372261716983,2.359040815448239,2.326347962229054,2.304479601750444,2.2091975115012907,2.2064435887837277,2.175882496806583,2.090124019010865,2.0278120323458175,2.011344826181528,1.9813865347158135,1.913374287874678,1.900630283766752,1.8960264124470783,1.8821668351390706,1.826480190229205,1.7770555094401743,1.772517075293397,1.71536022144209,1.6244428485988252,1.522088136810499,1.4992521392874814,1.4631776094697777,1.4201313322684435,1.3782540666143532,1.358796899965359,1.3285274427515184,1.3135632638626618,1.3111358806713724,1.2371547200774238,1.2295118299269632,1.2279867602367318,1.1891322278234817,1.187716343819048,1.171037596434001,1.0910219591122114,1.0698599104868407,0.9327427793034175,0.908328322979699,0.8651215928796532,0.8456187776344208,0.7429238219564667,0.6437616647621205,0.6376650451320849,0.5860592315514204,0.5408083954005356,0.4835926185577506,0.4279725643082912,0.421803915480524,0.41672242649915603,0.4097364887623911,0.3546092269484653,0.34165381347438384,0.2261182378276061,0.20837868441614305,0.1778157708039103,0.10065938122349749,0.059417495214745486,0.05807817261197101,0.05152846130324917,0.017829919546635153,-0.09813574444254414,-0.11927577002168022,-0.22084766675611078,-0.28266519444235527,-0.41306318821469645,-0.42742417051150383,-0.5182480657532444,-0.71139847882257,-0.8655289830461257,-0.997719228882417,-1.172225260462188,-2.439034672480858],\"type\":\"scatter\",\"xaxis\":\"x\",\"yaxis\":\"y\"}],                        {\"template\":{\"data\":{\"bar\":[{\"error_x\":{\"color\":\"#2a3f5f\"},\"error_y\":{\"color\":\"#2a3f5f\"},\"marker\":{\"line\":{\"color\":\"#E5ECF6\",\"width\":0.5},\"pattern\":{\"fillmode\":\"overlay\",\"size\":10,\"solidity\":0.2}},\"type\":\"bar\"}],\"barpolar\":[{\"marker\":{\"line\":{\"color\":\"#E5ECF6\",\"width\":0.5},\"pattern\":{\"fillmode\":\"overlay\",\"size\":10,\"solidity\":0.2}},\"type\":\"barpolar\"}],\"carpet\":[{\"aaxis\":{\"endlinecolor\":\"#2a3f5f\",\"gridcolor\":\"white\",\"linecolor\":\"white\",\"minorgridcolor\":\"white\",\"startlinecolor\":\"#2a3f5f\"},\"baxis\":{\"endlinecolor\":\"#2a3f5f\",\"gridcolor\":\"white\",\"linecolor\":\"white\",\"minorgridcolor\":\"white\",\"startlinecolor\":\"#2a3f5f\"},\"type\":\"carpet\"}],\"choropleth\":[{\"colorbar\":{\"outlinewidth\":0,\"ticks\":\"\"},\"type\":\"choropleth\"}],\"contour\":[{\"colorbar\":{\"outlinewidth\":0,\"ticks\":\"\"},\"colorscale\":[[0.0,\"#0d0887\"],[0.1111111111111111,\"#46039f\"],[0.2222222222222222,\"#7201a8\"],[0.3333333333333333,\"#9c179e\"],[0.4444444444444444,\"#bd3786\"],[0.5555555555555556,\"#d8576b\"],[0.6666666666666666,\"#ed7953\"],[0.7777777777777778,\"#fb9f3a\"],[0.8888888888888888,\"#fdca26\"],[1.0,\"#f0f921\"]],\"type\":\"contour\"}],\"contourcarpet\":[{\"colorbar\":{\"outlinewidth\":0,\"ticks\":\"\"},\"type\":\"contourcarpet\"}],\"heatmap\":[{\"colorbar\":{\"outlinewidth\":0,\"ticks\":\"\"},\"colorscale\":[[0.0,\"#0d0887\"],[0.1111111111111111,\"#46039f\"],[0.2222222222222222,\"#7201a8\"],[0.3333333333333333,\"#9c179e\"],[0.4444444444444444,\"#bd3786\"],[0.5555555555555556,\"#d8576b\"],[0.6666666666666666,\"#ed7953\"],[0.7777777777777778,\"#fb9f3a\"],[0.8888888888888888,\"#fdca26\"],[1.0,\"#f0f921\"]],\"type\":\"heatmap\"}],\"heatmapgl\":[{\"colorbar\":{\"outlinewidth\":0,\"ticks\":\"\"},\"colorscale\":[[0.0,\"#0d0887\"],[0.1111111111111111,\"#46039f\"],[0.2222222222222222,\"#7201a8\"],[0.3333333333333333,\"#9c179e\"],[0.4444444444444444,\"#bd3786\"],[0.5555555555555556,\"#d8576b\"],[0.6666666666666666,\"#ed7953\"],[0.7777777777777778,\"#fb9f3a\"],[0.8888888888888888,\"#fdca26\"],[1.0,\"#f0f921\"]],\"type\":\"heatmapgl\"}],\"histogram\":[{\"marker\":{\"pattern\":{\"fillmode\":\"overlay\",\"size\":10,\"solidity\":0.2}},\"type\":\"histogram\"}],\"histogram2d\":[{\"colorbar\":{\"outlinewidth\":0,\"ticks\":\"\"},\"colorscale\":[[0.0,\"#0d0887\"],[0.1111111111111111,\"#46039f\"],[0.2222222222222222,\"#7201a8\"],[0.3333333333333333,\"#9c179e\"],[0.4444444444444444,\"#bd3786\"],[0.5555555555555556,\"#d8576b\"],[0.6666666666666666,\"#ed7953\"],[0.7777777777777778,\"#fb9f3a\"],[0.8888888888888888,\"#fdca26\"],[1.0,\"#f0f921\"]],\"type\":\"histogram2d\"}],\"histogram2dcontour\":[{\"colorbar\":{\"outlinewidth\":0,\"ticks\":\"\"},\"colorscale\":[[0.0,\"#0d0887\"],[0.1111111111111111,\"#46039f\"],[0.2222222222222222,\"#7201a8\"],[0.3333333333333333,\"#9c179e\"],[0.4444444444444444,\"#bd3786\"],[0.5555555555555556,\"#d8576b\"],[0.6666666666666666,\"#ed7953\"],[0.7777777777777778,\"#fb9f3a\"],[0.8888888888888888,\"#fdca26\"],[1.0,\"#f0f921\"]],\"type\":\"histogram2dcontour\"}],\"mesh3d\":[{\"colorbar\":{\"outlinewidth\":0,\"ticks\":\"\"},\"type\":\"mesh3d\"}],\"parcoords\":[{\"line\":{\"colorbar\":{\"outlinewidth\":0,\"ticks\":\"\"}},\"type\":\"parcoords\"}],\"pie\":[{\"automargin\":true,\"type\":\"pie\"}],\"scatter\":[{\"marker\":{\"colorbar\":{\"outlinewidth\":0,\"ticks\":\"\"}},\"type\":\"scatter\"}],\"scatter3d\":[{\"line\":{\"colorbar\":{\"outlinewidth\":0,\"ticks\":\"\"}},\"marker\":{\"colorbar\":{\"outlinewidth\":0,\"ticks\":\"\"}},\"type\":\"scatter3d\"}],\"scattercarpet\":[{\"marker\":{\"colorbar\":{\"outlinewidth\":0,\"ticks\":\"\"}},\"type\":\"scattercarpet\"}],\"scattergeo\":[{\"marker\":{\"colorbar\":{\"outlinewidth\":0,\"ticks\":\"\"}},\"type\":\"scattergeo\"}],\"scattergl\":[{\"marker\":{\"colorbar\":{\"outlinewidth\":0,\"ticks\":\"\"}},\"type\":\"scattergl\"}],\"scattermapbox\":[{\"marker\":{\"colorbar\":{\"outlinewidth\":0,\"ticks\":\"\"}},\"type\":\"scattermapbox\"}],\"scatterpolar\":[{\"marker\":{\"colorbar\":{\"outlinewidth\":0,\"ticks\":\"\"}},\"type\":\"scatterpolar\"}],\"scatterpolargl\":[{\"marker\":{\"colorbar\":{\"outlinewidth\":0,\"ticks\":\"\"}},\"type\":\"scatterpolargl\"}],\"scatterternary\":[{\"marker\":{\"colorbar\":{\"outlinewidth\":0,\"ticks\":\"\"}},\"type\":\"scatterternary\"}],\"surface\":[{\"colorbar\":{\"outlinewidth\":0,\"ticks\":\"\"},\"colorscale\":[[0.0,\"#0d0887\"],[0.1111111111111111,\"#46039f\"],[0.2222222222222222,\"#7201a8\"],[0.3333333333333333,\"#9c179e\"],[0.4444444444444444,\"#bd3786\"],[0.5555555555555556,\"#d8576b\"],[0.6666666666666666,\"#ed7953\"],[0.7777777777777778,\"#fb9f3a\"],[0.8888888888888888,\"#fdca26\"],[1.0,\"#f0f921\"]],\"type\":\"surface\"}],\"table\":[{\"cells\":{\"fill\":{\"color\":\"#EBF0F8\"},\"line\":{\"color\":\"white\"}},\"header\":{\"fill\":{\"color\":\"#C8D4E3\"},\"line\":{\"color\":\"white\"}},\"type\":\"table\"}]},\"layout\":{\"annotationdefaults\":{\"arrowcolor\":\"#2a3f5f\",\"arrowhead\":0,\"arrowwidth\":1},\"autotypenumbers\":\"strict\",\"coloraxis\":{\"colorbar\":{\"outlinewidth\":0,\"ticks\":\"\"}},\"colorscale\":{\"diverging\":[[0,\"#8e0152\"],[0.1,\"#c51b7d\"],[0.2,\"#de77ae\"],[0.3,\"#f1b6da\"],[0.4,\"#fde0ef\"],[0.5,\"#f7f7f7\"],[0.6,\"#e6f5d0\"],[0.7,\"#b8e186\"],[0.8,\"#7fbc41\"],[0.9,\"#4d9221\"],[1,\"#276419\"]],\"sequential\":[[0.0,\"#0d0887\"],[0.1111111111111111,\"#46039f\"],[0.2222222222222222,\"#7201a8\"],[0.3333333333333333,\"#9c179e\"],[0.4444444444444444,\"#bd3786\"],[0.5555555555555556,\"#d8576b\"],[0.6666666666666666,\"#ed7953\"],[0.7777777777777778,\"#fb9f3a\"],[0.8888888888888888,\"#fdca26\"],[1.0,\"#f0f921\"]],\"sequentialminus\":[[0.0,\"#0d0887\"],[0.1111111111111111,\"#46039f\"],[0.2222222222222222,\"#7201a8\"],[0.3333333333333333,\"#9c179e\"],[0.4444444444444444,\"#bd3786\"],[0.5555555555555556,\"#d8576b\"],[0.6666666666666666,\"#ed7953\"],[0.7777777777777778,\"#fb9f3a\"],[0.8888888888888888,\"#fdca26\"],[1.0,\"#f0f921\"]]},\"colorway\":[\"#636efa\",\"#EF553B\",\"#00cc96\",\"#ab63fa\",\"#FFA15A\",\"#19d3f3\",\"#FF6692\",\"#B6E880\",\"#FF97FF\",\"#FECB52\"],\"font\":{\"color\":\"#2a3f5f\"},\"geo\":{\"bgcolor\":\"white\",\"lakecolor\":\"white\",\"landcolor\":\"#E5ECF6\",\"showlakes\":true,\"showland\":true,\"subunitcolor\":\"white\"},\"hoverlabel\":{\"align\":\"left\"},\"hovermode\":\"closest\",\"mapbox\":{\"style\":\"light\"},\"paper_bgcolor\":\"white\",\"plot_bgcolor\":\"#E5ECF6\",\"polar\":{\"angularaxis\":{\"gridcolor\":\"white\",\"linecolor\":\"white\",\"ticks\":\"\"},\"bgcolor\":\"#E5ECF6\",\"radialaxis\":{\"gridcolor\":\"white\",\"linecolor\":\"white\",\"ticks\":\"\"}},\"scene\":{\"xaxis\":{\"backgroundcolor\":\"#E5ECF6\",\"gridcolor\":\"white\",\"gridwidth\":2,\"linecolor\":\"white\",\"showbackground\":true,\"ticks\":\"\",\"zerolinecolor\":\"white\"},\"yaxis\":{\"backgroundcolor\":\"#E5ECF6\",\"gridcolor\":\"white\",\"gridwidth\":2,\"linecolor\":\"white\",\"showbackground\":true,\"ticks\":\"\",\"zerolinecolor\":\"white\"},\"zaxis\":{\"backgroundcolor\":\"#E5ECF6\",\"gridcolor\":\"white\",\"gridwidth\":2,\"linecolor\":\"white\",\"showbackground\":true,\"ticks\":\"\",\"zerolinecolor\":\"white\"}},\"shapedefaults\":{\"line\":{\"color\":\"#2a3f5f\"}},\"ternary\":{\"aaxis\":{\"gridcolor\":\"white\",\"linecolor\":\"white\",\"ticks\":\"\"},\"baxis\":{\"gridcolor\":\"white\",\"linecolor\":\"white\",\"ticks\":\"\"},\"bgcolor\":\"#E5ECF6\",\"caxis\":{\"gridcolor\":\"white\",\"linecolor\":\"white\",\"ticks\":\"\"}},\"title\":{\"x\":0.05},\"xaxis\":{\"automargin\":true,\"gridcolor\":\"white\",\"linecolor\":\"white\",\"ticks\":\"\",\"title\":{\"standoff\":15},\"zerolinecolor\":\"white\",\"zerolinewidth\":2},\"yaxis\":{\"automargin\":true,\"gridcolor\":\"white\",\"linecolor\":\"white\",\"ticks\":\"\",\"title\":{\"standoff\":15},\"zerolinecolor\":\"white\",\"zerolinewidth\":2}}},\"xaxis\":{\"anchor\":\"y\",\"domain\":[0.0,1.0],\"title\":{\"text\":\"GDP per capita ($)\"},\"type\":\"log\",\"range\":[2.751279103983342,5.2208896376994485]},\"yaxis\":{\"anchor\":\"x\",\"domain\":[0.0,1.0],\"title\":{\"text\":\"Child mortality rate (% children < 5 y.o.)\"},\"range\":[-2.79,13.73]},\"legend\":{\"title\":{\"text\":\"Continent\"},\"tracegroupgap\":0},\"title\":{\"text\":\"Child mortality vs. GDP per capita, 2016\"}},                        {\"responsive\": true}                    ).then(function(){\n",
       "                            \n",
       "var gd = document.getElementById('59a0490e-72d2-42bc-8749-ec0ed2bb195b');\n",
       "var x = new MutationObserver(function (mutations, observer) {{\n",
       "        var display = window.getComputedStyle(gd).display;\n",
       "        if (!display || display === 'none') {{\n",
       "            console.log([gd, 'removed!']);\n",
       "            Plotly.purge(gd);\n",
       "            observer.disconnect();\n",
       "        }}\n",
       "}});\n",
       "\n",
       "// Listen for the removal of the full notebook cells\n",
       "var notebookContainer = gd.closest('#notebook-container');\n",
       "if (notebookContainer) {{\n",
       "    x.observe(notebookContainer, {childList: true});\n",
       "}}\n",
       "\n",
       "// Listen for the clearing of the current output cell\n",
       "var outputEl = gd.closest('.output');\n",
       "if (outputEl) {{\n",
       "    x.observe(outputEl, {childList: true});\n",
       "}}\n",
       "\n",
       "                        })                };                });            </script>        </div>"
      ]
     },
     "metadata": {},
     "output_type": "display_data"
    }
   ],
   "source": [
    "# Plot child mortality vs. GDP per capita\n",
    "plotFigure(GDPperCapita('child-mortality-gdp-per-capita.csv',\n",
    "           'GDP per capita',\n",
    "          'Child mortality (Select Gapminder, v10) (2017)',\n",
    "          'Child mortality vs. GDP per capita'), 'GDP per capita ($)', \n",
    "           'Child mortality rate (% children < 5 y.o.)', 'Child mortality vs. GDP per capita',\n",
    "          25, pow(10, 4), 3, 1, 14)"
   ]
  },
  {
   "cell_type": "markdown",
   "metadata": {},
   "source": [
    "---"
   ]
  },
  {
   "cell_type": "markdown",
   "metadata": {},
   "source": [
    "#### B. Discuss any observations that you make, or insights obtained, from the data visualisations. [2p]"
   ]
  },
  {
   "cell_type": "markdown",
   "metadata": {},
   "source": []
  },
  {
   "cell_type": "markdown",
   "metadata": {},
   "source": [
    "## References\n",
    "#### Task 1\n",
    "1. Data was compiled by Our World in Data (2022): _Life expectancy vs. GDP per capita._ [online] Available at: <https://ourworldindata.org/grapher/life-expectancy-years-vs-real-gdp-per-capita-2011us> [Accessed 20 January 2022]. <br> Based on estimates by:\n",
    "    1. Life expectancy: James C. Riley (2005) – Estimates of Regional and Global Life Expectancy, 1800–2001. Issue Population and Development Review. Population and Development Review. Volume 31, Issue 3, pages 537–543, September 2005., Zijdeman, Richard; Ribeira da Silva, Filipa, 2015, \"Life Expectancy at Birth (Total)\", http://hdl.handle.net/10622/LKYT53, IISH Dataverse, V1, and UN Population Division (2019)\n",
    "    2. GDP per capita: Bolt, Jutta and Jan Luiten van Zanden (2020), _“Maddison style estimates of the evolution of the world economy. A new 2020 update”._\n",
    "2. Plotly. 2022. _Plotly Python Graphing Library_. [online] Available at: <https://plotly.com/python/> [Accessed 23 January 2022].\n",
    "3. Plotly. 2022. _Linear Fits_. [online] Available at: <https://plotly.com/python/linear-fits/> [Accessed 23 January 2022].\n",
    "\n",
    "#### Task 2\n",
    "1. Data compiled by Our World in Data (2022): _Self-reported Life Satisfaction vs GDP per capita._ [online] Available at: <https://ourworldindata.org/grapher/gdp-vs-happiness> [Accessed 20 January 2022]. <br> Based on estimates by:\n",
    "    1. Life satisfaction: World Happiness Report (2021) [online] Available at: https://worldhappiness.report/ed/2021/#appendices-and-data [Accessed 20 January 2022].\n",
    "    2. GDP per capita: International Comparison Program - World Bank, World Development Indicators - World Bank, Eurostat-OECD PPP Programme (2021) [online] Available at: \thttp://data.worldbank.org/data-catalog/world-development-indicators [Accessed 20 January 2022].\n",
    "2. Data compiled by Our World in Data. 2022. _Children per woman by GDP per capita._ [online] Available at: <https://ourworldindata.org/grapher/children-per-woman-by-gdp-per-capita> [Accessed 20 January 2022]. <br> Based on estimates by:\n",
    "    1. Children per woman: United Nations, Department of Economic and Social Affairs, Population Division (2019). World Population Prospects: The 2019 Revision, DVD Edition. [online] Available at: https://population.un.org/wpp2019/Download/Standard/Interpolated/ [Accessed 20 January 2022].\n",
    "    2. GDP per capita: Feenstra, Robert C., Robert Inklaar and Marcel P. Timmer (2015), \"The Next Generation of the Penn World Table\" American Economic Review, 105(10), 3150-3182, available for download at www.ggdc.net/pwt. PWT v9.1\n",
    "3. Data compiled by Our World in Data. 2022. _Share of adults who smoke vs GDP per capita._ [online] Available at: <https://ourworldindata.org/grapher/share-of-adults-who-are-smoking-by-level-of-prosperity> [Accessed 23 January 2022]. <br> Based on estimates by:\n",
    "    1. Share of adults who smoke: Global Health Observatory Data Repository - World Health Organization (2021) [online] Available at: http://data.worldbank.org/data-catalog/world-development-indicators [Accessed 23 January 2022].\n",
    "    2. GDP per capita: International Comparison Program - World Bank, World Development Indicators - World Bank, Eurostat-OECD PPP Programme (2021). [online] Available at: http://data.worldbank.org/data-catalog/world-development-indicators [Accessed 23 January 2022].\n",
    "4. Data compiled by Our World in Data. 2022. _Medical doctors per 1,000 people vs. GDP per capita._ [online] Available at: <https://ourworldindata.org/grapher/medical-doctors-per-1000-people-vs-gdp-per-capita> [Accessed 23 January 2022]. <br> Based on estimates by:\n",
    "    1. Medical doctors per 1,000 people: Global Health Workforce Statistics - World Health Organization, OECD, official national sources (2021) [online] Available at: http://data.worldbank.org/data-catalog/world-development-indicators [Accessed 23 January 2022].\n",
    "    2. GDP per capita: International Comparison Program - World Bank, World Development Indicators - World Bank, Eurostat-OECD PPP Programme [online] Available at: http://data.worldbank.org/data-catalog/world-development-indicators [Accessed 23 January 2022].\n",
    "5. Data compiled by Our World in Data. 2022. _Child mortality vs GDP per capita._ [online] Available at: <https://ourworldindata.org/grapher/child-mortality-gdp-per-capita> [Accessed 20 January 2022]. <br> Based on estimates by:\n",
    "    1. Child mortality: Gapminder [online] Available at: https://www.gapminder.org/data/documentation/gd005/ [Accessed 20 January 2022].\n",
    "    2. GDP per capita: The Maddison Project Database [online] Available at: \thttps://www.rug.nl/ggdc/historicaldevelopment/maddison/releases/maddison-project-database-2020 [Accessed 20 January 2022].\n",
    "    "
   ]
  }
 ],
 "metadata": {
  "kernelspec": {
   "display_name": "Python 3",
   "language": "python",
   "name": "python3"
  },
  "language_info": {
   "codemirror_mode": {
    "name": "ipython",
    "version": 3
   },
   "file_extension": ".py",
   "mimetype": "text/x-python",
   "name": "python",
   "nbconvert_exporter": "python",
   "pygments_lexer": "ipython3",
   "version": "3.8.5"
  }
 },
 "nbformat": 4,
 "nbformat_minor": 4
}
