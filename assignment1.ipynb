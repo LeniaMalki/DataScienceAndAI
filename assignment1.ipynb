{
 "cells": [
  {
   "cell_type": "markdown",
   "metadata": {},
   "source": [
    "# Assignment 1: Introduction to Data Science and Python\n",
    "\n",
    "Student name | Hours spent on the tasks\n",
    "------------ | -------------\n",
    "Lenia Malki | 8\n",
    "Maële Belmont | 8\n",
    "\n",
    "\n",
    "To do:\n",
    "- questions task 2"
   ]
  },
  {
   "cell_type": "markdown",
   "metadata": {},
   "source": [
    "## Setup\n",
    "Python modules need to be loaded to solve the tasks."
   ]
  },
  {
   "cell_type": "code",
   "execution_count": 3,
   "metadata": {},
   "outputs": [],
   "source": [
    "import numpy as np\n",
    "import matplotlib.pyplot as plt\n",
    "import pandas as pd\n",
    "import plotly.express as px\n",
    "from sklearn.linear_model import LinearRegression"
   ]
  },
  {
   "cell_type": "markdown",
   "metadata": {},
   "source": [
    "## Task 1 - Download some data related to GDP per capita and life expectancy <br>\n",
    "#### A. Write a Python program that draws a scatter plot of GDP per capita vs life expectancy. State any assumptions and motivate decisions that you make when selecting data to be plotted, and in combining data. [1p]\n",
    "\n"
   ]
  },
  {
   "cell_type": "markdown",
   "metadata": {},
   "source": [
    "When extracting the data, we chose to not include population size as a parameter. As we are primarily interested in exploring the relationship between life expectancy and GDP, we did not consider the population size data to be contributing to this relationship. Disincluding this data makes it easier to focus and study the other two data entities.\n",
    "\n",
    "In terms of countries, we chose not to remove any data points with null values for a given year. Among the available data, we chose only to focus on the data obtained in 2018. The reason for this lies in the assumption that recent data, in this context, is more accurate as it is more available today than it might have been in the nineteen hundreds. \n",
    "\n",
    "In order to visualize the data in a readable manner, we chose to group countries together by their respective continents and color code these. To minimize cluttering, we used Plotly to create an interactive plot, which displays more information (country and exact value of life expectancy and GDP) when the cursor is on a dot. \n",
    "\n",
    "It is possible to study any data between the year 1543 and 2018. In other words, the program is not limited to only data from one specific year though only data for one year  is plotted at a time. \n"
   ]
  },
  {
   "cell_type": "code",
   "execution_count": 21,
   "metadata": {},
   "outputs": [],
   "source": [
    "def GDPperCapita(csv_file, column1, column2, title):\n",
    "    \"\"\"\n",
    "    input: \n",
    "    - csv_file (string): name of csv file\n",
    "    - column1 (string): name of column for data GDP per capita\n",
    "    - column2 (string): name of column for data other than GDP per capita (ex: 'Life expectancy')\n",
    "    - title (string): Title of the plot\n",
    "    output:\n",
    "    - finalData (dataframe): dataframe containing data for the chosen year without NaN values\n",
    "    \"\"\"\n",
    "    #Read the csv file containing the downloaded data\n",
    "    rawData = pd.read_csv(csv_file)\n",
    "    \n",
    "    #Remove rows containing NaN value in the 'GDP per capita' or 'Life expectancy'\n",
    "    noNaN = rawData.dropna(subset=[column1, column2])\n",
    "    \n",
    "    #Print list with years for which data is available\n",
    "    yearList = [] #create empty list\n",
    "    for i in range(len(noNaN)):\n",
    "        if noNaN['Year'].values[i] not in yearList: #if the year value is not in the list yet, ...\n",
    "            yearList.append(noNaN['Year'].values[i]) #...it is added at the end of the list\n",
    "    yearlist = yearList.sort() #the list is sorted it in ascending order to make it easier to read         \n",
    "    print('---------------------------------------------------------------------------------------------------------------------')\n",
    "    print('List of years for which data is available: \\n')\n",
    "    print(yearList)\n",
    "    print('---------------------------------------------------------------------------------------------------------------------')\n",
    "\n",
    "    #Create a new table with the data for year of interest chosen by the user\n",
    "    year = int(input('Year of interest for the data \"%s\": \\n' % (title)))\n",
    "    print('---------------------------------------------------------------------------------------------------------------------')\n",
    "    yearData = rawData.loc[rawData['Year']==year].reset_index()\n",
    "        \n",
    "    #Replace NaN values in 'Continent' by the continent value for every country\n",
    "    year2015 = rawData.loc[rawData['Year']==2015].reset_index() #continents are defined only in 2015, but we want them to be defined for all the years.\n",
    "    for i in range(len(yearData)):\n",
    "        for j in range(len(year2015)):\n",
    "            if yearData['Entity'][i] == year2015['Entity'][j]: #compare the 'Entity' of the chosen year to the 'Entity' in 2015 and if they are the same...\n",
    "                yearData.at[i, 'Continent'] = year2015['Continent'][j] #...assign the 'Continent' value of 2015 to the 'Continent' value of the chosen year 'Continent' value of 2015 to the 'Continent' value of the chosen year\n",
    "\n",
    "    #Create a new table with only the relevant columns\n",
    "    relevantColumns = yearData.loc[:, ['Entity','Year', column1, column2, 'Continent']]\n",
    "\n",
    "    #Create a new table without rows containing NaN values\n",
    "    finalData = relevantColumns.dropna()\n",
    "    \n",
    "    return finalData"
   ]
  },
  {
   "cell_type": "code",
   "execution_count": 22,
   "metadata": {},
   "outputs": [],
   "source": [
    "def plotFigure(finalData, xlabel, ylabel, title, min_x, max_x, min_y, max_y, nbFigure):\n",
    "    \"\"\"\n",
    "    input: \n",
    "    - finalData: dataframe will be plotted\n",
    "    - xlabel: label displayed under x-axis\n",
    "    - ylabel: label displayed under y-axis\n",
    "    - title of the plot\n",
    "    output:\n",
    "    - figure with the plot\n",
    "    \"\"\" \n",
    "    ###Plot \n",
    "    try:\n",
    "        print('Figure', nbFigure,':')\n",
    "        #Set axis limits\n",
    "        year = finalData['Year'].values[0]\n",
    "        column1=finalData.columns[2]\n",
    "        column2=finalData.columns[3]\n",
    "        minimum_x = finalData[column1].min()-min_x\n",
    "        maximum_x = finalData[column1].max()+max_x\n",
    "        minimum_y = finalData[column2].min()-min_y \n",
    "        maximum_y = finalData[column2].max()+max_y\n",
    "\n",
    "        #Create Plotly figure\n",
    "        fig = px.scatter(finalData, x=column1, \n",
    "                     y=column2, \n",
    "                     color='Continent', hover_data=['Entity'], \n",
    "                     log_x=True, title=f'{title}, {year}',\n",
    "                     labels={column1: xlabel, column2: ylabel},\n",
    "                     trendline='ols', \n",
    "                     trendline_options=dict(log_x=True), trendline_scope='overall', trendline_color_override='black', \n",
    "                     range_x=[minimum_x, maximum_x], range_y=[minimum_y, maximum_y])\n",
    "        #Display figure\n",
    "        fig.show()\n",
    "        \n",
    "    except:\n",
    "        print('No data available for this year, please run the cell again and try with another year.\\n')"
   ]
  },
  {
   "cell_type": "markdown",
   "metadata": {},
   "source": [
    "---"
   ]
  },
  {
   "cell_type": "code",
   "execution_count": 23,
   "metadata": {},
   "outputs": [
    {
     "name": "stdout",
     "output_type": "stream",
     "text": [
      "---------------------------------------------------------------------------------------------------------------------\n",
      "List of years for which data is available: \n",
      "\n",
      "[1543, 1548, 1553, 1558, 1563, 1568, 1573, 1578, 1583, 1588, 1593, 1598, 1603, 1608, 1613, 1618, 1623, 1628, 1633, 1638, 1643, 1648, 1653, 1658, 1663, 1668, 1673, 1678, 1683, 1688, 1693, 1698, 1703, 1708, 1713, 1718, 1723, 1728, 1733, 1738, 1743, 1748, 1751, 1752, 1753, 1754, 1755, 1756, 1757, 1758, 1759, 1760, 1761, 1762, 1763, 1764, 1765, 1766, 1767, 1768, 1769, 1770, 1771, 1772, 1773, 1774, 1775, 1776, 1777, 1778, 1779, 1780, 1781, 1782, 1783, 1784, 1785, 1786, 1787, 1788, 1789, 1790, 1791, 1792, 1793, 1794, 1795, 1796, 1797, 1798, 1799, 1800, 1801, 1802, 1803, 1804, 1805, 1806, 1807, 1808, 1809, 1810, 1811, 1812, 1813, 1814, 1815, 1816, 1817, 1818, 1819, 1820, 1821, 1822, 1823, 1824, 1825, 1826, 1827, 1828, 1829, 1830, 1831, 1832, 1833, 1834, 1835, 1836, 1837, 1838, 1839, 1840, 1841, 1842, 1843, 1844, 1845, 1846, 1847, 1848, 1849, 1850, 1851, 1852, 1853, 1854, 1855, 1856, 1857, 1858, 1859, 1860, 1861, 1862, 1863, 1864, 1865, 1866, 1867, 1868, 1869, 1870, 1871, 1872, 1873, 1874, 1875, 1876, 1877, 1878, 1879, 1880, 1881, 1882, 1883, 1884, 1885, 1886, 1887, 1888, 1889, 1890, 1891, 1892, 1893, 1894, 1895, 1896, 1897, 1898, 1899, 1900, 1901, 1902, 1903, 1904, 1905, 1906, 1907, 1908, 1909, 1910, 1911, 1912, 1913, 1914, 1915, 1916, 1917, 1918, 1919, 1920, 1921, 1922, 1923, 1924, 1925, 1926, 1927, 1928, 1929, 1930, 1931, 1932, 1933, 1934, 1935, 1936, 1937, 1938, 1939, 1940, 1941, 1942, 1943, 1944, 1945, 1946, 1947, 1948, 1949, 1950, 1951, 1952, 1953, 1954, 1955, 1956, 1957, 1958, 1959, 1960, 1961, 1962, 1963, 1964, 1965, 1966, 1967, 1968, 1969, 1970, 1971, 1972, 1973, 1974, 1975, 1976, 1977, 1978, 1979, 1980, 1981, 1982, 1983, 1984, 1985, 1986, 1987, 1988, 1989, 1990, 1991, 1992, 1993, 1994, 1995, 1996, 1997, 1998, 1999, 2000, 2001, 2002, 2003, 2004, 2005, 2006, 2007, 2008, 2009, 2010, 2011, 2012, 2013, 2014, 2015, 2016, 2017, 2018]\n",
      "---------------------------------------------------------------------------------------------------------------------\n",
      "Year of interest for the data \"Life expectancy vs. GDP per capita\": \n",
      "2018\n",
      "---------------------------------------------------------------------------------------------------------------------\n"
     ]
    },
    {
     "ename": "TypeError",
     "evalue": "cannot perform reduce with flexible type",
     "output_type": "error",
     "traceback": [
      "\u001b[1;31m---------------------------------------------------------------------------\u001b[0m",
      "\u001b[1;31mTypeError\u001b[0m                                 Traceback (most recent call last)",
      "\u001b[1;32m~\\AppData\\Local\\Temp/ipykernel_12264/992140967.py\u001b[0m in \u001b[0;36m<module>\u001b[1;34m\u001b[0m\n\u001b[0;32m      1\u001b[0m \u001b[1;31m#Plot life expectancy vs GDP per capita\u001b[0m\u001b[1;33m\u001b[0m\u001b[1;33m\u001b[0m\u001b[0m\n\u001b[1;32m----> 2\u001b[1;33m plotFigure(GDPperCapita('life-expectancy-vs-gdp-per-capita.csv',\n\u001b[0m\u001b[0;32m      3\u001b[0m           \u001b[1;34m'GDP per capita'\u001b[0m\u001b[1;33m,\u001b[0m\u001b[1;33m\u001b[0m\u001b[1;33m\u001b[0m\u001b[0m\n\u001b[0;32m      4\u001b[0m           \u001b[1;34m'Life expectancy'\u001b[0m\u001b[1;33m,\u001b[0m\u001b[1;33m\u001b[0m\u001b[1;33m\u001b[0m\u001b[0m\n\u001b[0;32m      5\u001b[0m           'Life expectancy vs. GDP per capita'), 'GDP per capita ($)', \n",
      "\u001b[1;32m~\\AppData\\Local\\Temp/ipykernel_12264/4176301772.py\u001b[0m in \u001b[0;36mGDPperCapita\u001b[1;34m(csv_file, column1, column2, title)\u001b[0m\n\u001b[0;32m     44\u001b[0m     \u001b[0mfinalData\u001b[0m \u001b[1;33m=\u001b[0m \u001b[0mrelevantColumns\u001b[0m\u001b[1;33m.\u001b[0m\u001b[0mdropna\u001b[0m\u001b[1;33m(\u001b[0m\u001b[1;33m)\u001b[0m\u001b[1;33m\u001b[0m\u001b[1;33m\u001b[0m\u001b[0m\n\u001b[0;32m     45\u001b[0m \u001b[1;33m\u001b[0m\u001b[0m\n\u001b[1;32m---> 46\u001b[1;33m     \u001b[0mvariance\u001b[0m \u001b[1;33m=\u001b[0m \u001b[0mnp\u001b[0m\u001b[1;33m.\u001b[0m\u001b[0mvar\u001b[0m\u001b[1;33m(\u001b[0m\u001b[0mcolumn1\u001b[0m\u001b[1;33m)\u001b[0m\u001b[1;33m\u001b[0m\u001b[1;33m\u001b[0m\u001b[0m\n\u001b[0m\u001b[0;32m     47\u001b[0m     \u001b[0mprint\u001b[0m\u001b[1;33m(\u001b[0m\u001b[0mvariance\u001b[0m\u001b[1;33m)\u001b[0m\u001b[1;33m\u001b[0m\u001b[1;33m\u001b[0m\u001b[0m\n\u001b[0;32m     48\u001b[0m \u001b[1;33m\u001b[0m\u001b[0m\n",
      "\u001b[1;32m<__array_function__ internals>\u001b[0m in \u001b[0;36mvar\u001b[1;34m(*args, **kwargs)\u001b[0m\n",
      "\u001b[1;32m~\\anaconda3\\lib\\site-packages\\numpy\\core\\fromnumeric.py\u001b[0m in \u001b[0;36mvar\u001b[1;34m(a, axis, dtype, out, ddof, keepdims, where)\u001b[0m\n\u001b[0;32m   3700\u001b[0m             \u001b[1;32mreturn\u001b[0m \u001b[0mvar\u001b[0m\u001b[1;33m(\u001b[0m\u001b[0maxis\u001b[0m\u001b[1;33m=\u001b[0m\u001b[0maxis\u001b[0m\u001b[1;33m,\u001b[0m \u001b[0mdtype\u001b[0m\u001b[1;33m=\u001b[0m\u001b[0mdtype\u001b[0m\u001b[1;33m,\u001b[0m \u001b[0mout\u001b[0m\u001b[1;33m=\u001b[0m\u001b[0mout\u001b[0m\u001b[1;33m,\u001b[0m \u001b[0mddof\u001b[0m\u001b[1;33m=\u001b[0m\u001b[0mddof\u001b[0m\u001b[1;33m,\u001b[0m \u001b[1;33m**\u001b[0m\u001b[0mkwargs\u001b[0m\u001b[1;33m)\u001b[0m\u001b[1;33m\u001b[0m\u001b[1;33m\u001b[0m\u001b[0m\n\u001b[0;32m   3701\u001b[0m \u001b[1;33m\u001b[0m\u001b[0m\n\u001b[1;32m-> 3702\u001b[1;33m     return _methods._var(a, axis=axis, dtype=dtype, out=out, ddof=ddof,\n\u001b[0m\u001b[0;32m   3703\u001b[0m                          **kwargs)\n\u001b[0;32m   3704\u001b[0m \u001b[1;33m\u001b[0m\u001b[0m\n",
      "\u001b[1;32m~\\anaconda3\\lib\\site-packages\\numpy\\core\\_methods.py\u001b[0m in \u001b[0;36m_var\u001b[1;34m(a, axis, dtype, out, ddof, keepdims, where)\u001b[0m\n\u001b[0;32m    209\u001b[0m     \u001b[1;31m# Note that if dtype is not of inexact type then arraymean will\u001b[0m\u001b[1;33m\u001b[0m\u001b[1;33m\u001b[0m\u001b[0m\n\u001b[0;32m    210\u001b[0m     \u001b[1;31m# not be either.\u001b[0m\u001b[1;33m\u001b[0m\u001b[1;33m\u001b[0m\u001b[0m\n\u001b[1;32m--> 211\u001b[1;33m     \u001b[0marrmean\u001b[0m \u001b[1;33m=\u001b[0m \u001b[0mumr_sum\u001b[0m\u001b[1;33m(\u001b[0m\u001b[0marr\u001b[0m\u001b[1;33m,\u001b[0m \u001b[0maxis\u001b[0m\u001b[1;33m,\u001b[0m \u001b[0mdtype\u001b[0m\u001b[1;33m,\u001b[0m \u001b[0mkeepdims\u001b[0m\u001b[1;33m=\u001b[0m\u001b[1;32mTrue\u001b[0m\u001b[1;33m,\u001b[0m \u001b[0mwhere\u001b[0m\u001b[1;33m=\u001b[0m\u001b[0mwhere\u001b[0m\u001b[1;33m)\u001b[0m\u001b[1;33m\u001b[0m\u001b[1;33m\u001b[0m\u001b[0m\n\u001b[0m\u001b[0;32m    212\u001b[0m     \u001b[1;31m# The shape of rcount has to match arrmean to not change the shape of out\u001b[0m\u001b[1;33m\u001b[0m\u001b[1;33m\u001b[0m\u001b[0m\n\u001b[0;32m    213\u001b[0m     \u001b[1;31m# in broadcasting. Otherwise, it cannot be stored back to arrmean.\u001b[0m\u001b[1;33m\u001b[0m\u001b[1;33m\u001b[0m\u001b[0m\n",
      "\u001b[1;31mTypeError\u001b[0m: cannot perform reduce with flexible type"
     ]
    }
   ],
   "source": [
    "#Plot life expectancy vs GDP per capita\n",
    "plotFigure(GDPperCapita('life-expectancy-vs-gdp-per-capita.csv',\n",
    "          'GDP per capita',\n",
    "          'Life expectancy',\n",
    "          'Life expectancy vs. GDP per capita'), 'GDP per capita ($)', \n",
    "           'Life expectancy (years)', 'Life expectancy vs. GDP per capita', 100, 10000, 1, 5, 1)"
   ]
  },
  {
   "cell_type": "markdown",
   "metadata": {},
   "source": [
    "#### B. Consider whether the results obtained seem reasonable and discuss what might be the explanation for the results you obtained. [1p]"
   ]
  },
  {
   "cell_type": "markdown",
   "metadata": {},
   "source": [
    "The results show a clear trend. Countries with a higher GDP tend to also rank higher in life expectancy. However, this does mean that it is always true. We can for example see that Saudi Arabia has one of the higher GDP per capita at approximately \\\\$50,000 and a life expectancy of 75 years. On the same y-coordinate, we find Honduras which is one of Latin America's poorest countries with a GDP of  \\\\$5,000. Even though it seems to be a positive trend related to GDP per capita and life expectancy, deviations from the regression can reveal otherwise. Generally speaking, countries with higher GDP per capita might have the ability to provide better health care to their population as well as better living standards for the people, thus resulting in a higher life expectancy. One must however consider that other factors are at play when looking at life expectancy, not only GDP per capita.  "
   ]
  },
  {
   "cell_type": "markdown",
   "metadata": {},
   "source": [
    "#### C. Did you do any data cleaning (e.g., by removing entries that you think are not useful) for the task of drawing scatter plot(s) and the task of answering the questions d, e, f, and g? If so, explain what kind of entries that you chose to remove and why. If not, explain why you did not need to. [0.5p]"
   ]
  },
  {
   "cell_type": "markdown",
   "metadata": {},
   "source": [
    "As mentioned in question 1.b, we decided to remove the population size data in order to only focus on the relationship between GDP and life expectancy. Data points with null values, such as for example missing GDP data or life expectancy score, were also removed in order to avoid outliers. Lastly, we decided to only collect and visualize the data from 2018. The reasoning behind this has to do with the assumption that the quality and availability of recent data, within this context, is better than that of much earlier years. That being said, we do not believe there to be big differences between closeby years. "
   ]
  },
  {
   "cell_type": "markdown",
   "metadata": {},
   "source": [
    "#### D. Which countries have a life expectancy higher than one standard deviation above the mean? [0.5p]"
   ]
  },
  {
   "cell_type": "markdown",
   "metadata": {},
   "source": [
    "With a standard deviation of approximately 7.747 and a mean of approximately 2.66, one standard deviation above the mean would require the life expectancy to be at a minimum of 80.41. The countries with a life expectancy of one standard deviation above the mean would be those presented in table x. The data for these life expectancies are limited to that of a specific year supplied by the user. In this case, the input year was 2018. \n"
   ]
  },
  {
   "cell_type": "code",
   "execution_count": 7,
   "metadata": {},
   "outputs": [],
   "source": [
    "def aboveSD(finalData, ylabel, nbFigure):\n",
    "    \"\"\"\n",
    "    inputs: \n",
    "    - finalData (dataframe): dataframe containing the data of interest\n",
    "    - ylabel (string): data topic\n",
    "    output:\n",
    "    - displays dataframe with the data above the standard mean\n",
    "    \"\"\" \n",
    "    column1=finalData.columns[2] #GDP per capita\n",
    "    column2=finalData.columns[3] # Data on y-axis\n",
    "    \n",
    "    #Print useful statistical values\n",
    "    mean = finalData[column2].mean()\n",
    "    sd = finalData[column2].std()\n",
    "    oneSDAboveMean = mean + sd\n",
    "\n",
    "    Filter = finalData[column2] >= oneSDAboveMean\n",
    "    tableSDAboveMean = finalData[['Entity','Year', column2]]\n",
    "    \n",
    "    print('Figure', nbFigure, ':','Dataframe with countries having', ylabel ,'higher than the standard mean.')\n",
    "    display(tableSDAboveMean[Filter])"
   ]
  },
  {
   "cell_type": "code",
   "execution_count": 8,
   "metadata": {},
   "outputs": [
    {
     "name": "stdout",
     "output_type": "stream",
     "text": [
      "---------------------------------------------------------------------------------------------------------------------\n",
      "List of years for which data is available: \n",
      "\n",
      "[1543, 1548, 1553, 1558, 1563, 1568, 1573, 1578, 1583, 1588, 1593, 1598, 1603, 1608, 1613, 1618, 1623, 1628, 1633, 1638, 1643, 1648, 1653, 1658, 1663, 1668, 1673, 1678, 1683, 1688, 1693, 1698, 1703, 1708, 1713, 1718, 1723, 1728, 1733, 1738, 1743, 1748, 1751, 1752, 1753, 1754, 1755, 1756, 1757, 1758, 1759, 1760, 1761, 1762, 1763, 1764, 1765, 1766, 1767, 1768, 1769, 1770, 1771, 1772, 1773, 1774, 1775, 1776, 1777, 1778, 1779, 1780, 1781, 1782, 1783, 1784, 1785, 1786, 1787, 1788, 1789, 1790, 1791, 1792, 1793, 1794, 1795, 1796, 1797, 1798, 1799, 1800, 1801, 1802, 1803, 1804, 1805, 1806, 1807, 1808, 1809, 1810, 1811, 1812, 1813, 1814, 1815, 1816, 1817, 1818, 1819, 1820, 1821, 1822, 1823, 1824, 1825, 1826, 1827, 1828, 1829, 1830, 1831, 1832, 1833, 1834, 1835, 1836, 1837, 1838, 1839, 1840, 1841, 1842, 1843, 1844, 1845, 1846, 1847, 1848, 1849, 1850, 1851, 1852, 1853, 1854, 1855, 1856, 1857, 1858, 1859, 1860, 1861, 1862, 1863, 1864, 1865, 1866, 1867, 1868, 1869, 1870, 1871, 1872, 1873, 1874, 1875, 1876, 1877, 1878, 1879, 1880, 1881, 1882, 1883, 1884, 1885, 1886, 1887, 1888, 1889, 1890, 1891, 1892, 1893, 1894, 1895, 1896, 1897, 1898, 1899, 1900, 1901, 1902, 1903, 1904, 1905, 1906, 1907, 1908, 1909, 1910, 1911, 1912, 1913, 1914, 1915, 1916, 1917, 1918, 1919, 1920, 1921, 1922, 1923, 1924, 1925, 1926, 1927, 1928, 1929, 1930, 1931, 1932, 1933, 1934, 1935, 1936, 1937, 1938, 1939, 1940, 1941, 1942, 1943, 1944, 1945, 1946, 1947, 1948, 1949, 1950, 1951, 1952, 1953, 1954, 1955, 1956, 1957, 1958, 1959, 1960, 1961, 1962, 1963, 1964, 1965, 1966, 1967, 1968, 1969, 1970, 1971, 1972, 1973, 1974, 1975, 1976, 1977, 1978, 1979, 1980, 1981, 1982, 1983, 1984, 1985, 1986, 1987, 1988, 1989, 1990, 1991, 1992, 1993, 1994, 1995, 1996, 1997, 1998, 1999, 2000, 2001, 2002, 2003, 2004, 2005, 2006, 2007, 2008, 2009, 2010, 2011, 2012, 2013, 2014, 2015, 2016, 2017, 2018]\n",
      "---------------------------------------------------------------------------------------------------------------------\n",
      "Year of interest for the data \"Life expectancy vs. GDP per capita\": \n",
      "2018\n",
      "---------------------------------------------------------------------------------------------------------------------\n",
      "Figure 2 : Dataframe with countries having Life expectancy vs. GDP per capita higher than the standard mean.\n"
     ]
    },
    {
     "data": {
      "text/html": [
       "<div>\n",
       "<style scoped>\n",
       "    .dataframe tbody tr th:only-of-type {\n",
       "        vertical-align: middle;\n",
       "    }\n",
       "\n",
       "    .dataframe tbody tr th {\n",
       "        vertical-align: top;\n",
       "    }\n",
       "\n",
       "    .dataframe thead th {\n",
       "        text-align: right;\n",
       "    }\n",
       "</style>\n",
       "<table border=\"1\" class=\"dataframe\">\n",
       "  <thead>\n",
       "    <tr style=\"text-align: right;\">\n",
       "      <th></th>\n",
       "      <th>Entity</th>\n",
       "      <th>Year</th>\n",
       "      <th>Life expectancy</th>\n",
       "    </tr>\n",
       "  </thead>\n",
       "  <tbody>\n",
       "    <tr>\n",
       "      <th>14</th>\n",
       "      <td>Australia</td>\n",
       "      <td>2018</td>\n",
       "      <td>83.281</td>\n",
       "    </tr>\n",
       "    <tr>\n",
       "      <th>15</th>\n",
       "      <td>Austria</td>\n",
       "      <td>2018</td>\n",
       "      <td>81.434</td>\n",
       "    </tr>\n",
       "    <tr>\n",
       "      <th>22</th>\n",
       "      <td>Belgium</td>\n",
       "      <td>2018</td>\n",
       "      <td>81.468</td>\n",
       "    </tr>\n",
       "    <tr>\n",
       "      <th>39</th>\n",
       "      <td>Canada</td>\n",
       "      <td>2018</td>\n",
       "      <td>82.315</td>\n",
       "    </tr>\n",
       "    <tr>\n",
       "      <th>56</th>\n",
       "      <td>Cyprus</td>\n",
       "      <td>2018</td>\n",
       "      <td>80.828</td>\n",
       "    </tr>\n",
       "    <tr>\n",
       "      <th>60</th>\n",
       "      <td>Denmark</td>\n",
       "      <td>2018</td>\n",
       "      <td>80.784</td>\n",
       "    </tr>\n",
       "    <tr>\n",
       "      <th>78</th>\n",
       "      <td>Finland</td>\n",
       "      <td>2018</td>\n",
       "      <td>81.736</td>\n",
       "    </tr>\n",
       "    <tr>\n",
       "      <th>81</th>\n",
       "      <td>France</td>\n",
       "      <td>2018</td>\n",
       "      <td>82.541</td>\n",
       "    </tr>\n",
       "    <tr>\n",
       "      <th>87</th>\n",
       "      <td>Germany</td>\n",
       "      <td>2018</td>\n",
       "      <td>81.180</td>\n",
       "    </tr>\n",
       "    <tr>\n",
       "      <th>90</th>\n",
       "      <td>Greece</td>\n",
       "      <td>2018</td>\n",
       "      <td>82.072</td>\n",
       "    </tr>\n",
       "    <tr>\n",
       "      <th>101</th>\n",
       "      <td>Hong Kong</td>\n",
       "      <td>2018</td>\n",
       "      <td>84.687</td>\n",
       "    </tr>\n",
       "    <tr>\n",
       "      <th>103</th>\n",
       "      <td>Iceland</td>\n",
       "      <td>2018</td>\n",
       "      <td>82.855</td>\n",
       "    </tr>\n",
       "    <tr>\n",
       "      <th>108</th>\n",
       "      <td>Ireland</td>\n",
       "      <td>2018</td>\n",
       "      <td>82.103</td>\n",
       "    </tr>\n",
       "    <tr>\n",
       "      <th>110</th>\n",
       "      <td>Israel</td>\n",
       "      <td>2018</td>\n",
       "      <td>82.819</td>\n",
       "    </tr>\n",
       "    <tr>\n",
       "      <th>111</th>\n",
       "      <td>Italy</td>\n",
       "      <td>2018</td>\n",
       "      <td>83.352</td>\n",
       "    </tr>\n",
       "    <tr>\n",
       "      <th>113</th>\n",
       "      <td>Japan</td>\n",
       "      <td>2018</td>\n",
       "      <td>84.470</td>\n",
       "    </tr>\n",
       "    <tr>\n",
       "      <th>130</th>\n",
       "      <td>Luxembourg</td>\n",
       "      <td>2018</td>\n",
       "      <td>82.102</td>\n",
       "    </tr>\n",
       "    <tr>\n",
       "      <th>137</th>\n",
       "      <td>Malta</td>\n",
       "      <td>2018</td>\n",
       "      <td>82.376</td>\n",
       "    </tr>\n",
       "    <tr>\n",
       "      <th>157</th>\n",
       "      <td>Netherlands</td>\n",
       "      <td>2018</td>\n",
       "      <td>82.143</td>\n",
       "    </tr>\n",
       "    <tr>\n",
       "      <th>159</th>\n",
       "      <td>New Zealand</td>\n",
       "      <td>2018</td>\n",
       "      <td>82.145</td>\n",
       "    </tr>\n",
       "    <tr>\n",
       "      <th>169</th>\n",
       "      <td>Norway</td>\n",
       "      <td>2018</td>\n",
       "      <td>82.271</td>\n",
       "    </tr>\n",
       "    <tr>\n",
       "      <th>181</th>\n",
       "      <td>Portugal</td>\n",
       "      <td>2018</td>\n",
       "      <td>81.857</td>\n",
       "    </tr>\n",
       "    <tr>\n",
       "      <th>203</th>\n",
       "      <td>Singapore</td>\n",
       "      <td>2018</td>\n",
       "      <td>83.458</td>\n",
       "    </tr>\n",
       "    <tr>\n",
       "      <th>206</th>\n",
       "      <td>Slovenia</td>\n",
       "      <td>2018</td>\n",
       "      <td>81.172</td>\n",
       "    </tr>\n",
       "    <tr>\n",
       "      <th>211</th>\n",
       "      <td>South Korea</td>\n",
       "      <td>2018</td>\n",
       "      <td>82.846</td>\n",
       "    </tr>\n",
       "    <tr>\n",
       "      <th>214</th>\n",
       "      <td>Spain</td>\n",
       "      <td>2018</td>\n",
       "      <td>83.433</td>\n",
       "    </tr>\n",
       "    <tr>\n",
       "      <th>219</th>\n",
       "      <td>Sweden</td>\n",
       "      <td>2018</td>\n",
       "      <td>82.654</td>\n",
       "    </tr>\n",
       "    <tr>\n",
       "      <th>220</th>\n",
       "      <td>Switzerland</td>\n",
       "      <td>2018</td>\n",
       "      <td>83.630</td>\n",
       "    </tr>\n",
       "    <tr>\n",
       "      <th>239</th>\n",
       "      <td>United Kingdom</td>\n",
       "      <td>2018</td>\n",
       "      <td>81.236</td>\n",
       "    </tr>\n",
       "  </tbody>\n",
       "</table>\n",
       "</div>"
      ],
      "text/plain": [
       "             Entity  Year  Life expectancy\n",
       "14        Australia  2018           83.281\n",
       "15          Austria  2018           81.434\n",
       "22          Belgium  2018           81.468\n",
       "39           Canada  2018           82.315\n",
       "56           Cyprus  2018           80.828\n",
       "60          Denmark  2018           80.784\n",
       "78          Finland  2018           81.736\n",
       "81           France  2018           82.541\n",
       "87          Germany  2018           81.180\n",
       "90           Greece  2018           82.072\n",
       "101       Hong Kong  2018           84.687\n",
       "103         Iceland  2018           82.855\n",
       "108         Ireland  2018           82.103\n",
       "110          Israel  2018           82.819\n",
       "111           Italy  2018           83.352\n",
       "113           Japan  2018           84.470\n",
       "130      Luxembourg  2018           82.102\n",
       "137           Malta  2018           82.376\n",
       "157     Netherlands  2018           82.143\n",
       "159     New Zealand  2018           82.145\n",
       "169          Norway  2018           82.271\n",
       "181        Portugal  2018           81.857\n",
       "203       Singapore  2018           83.458\n",
       "206        Slovenia  2018           81.172\n",
       "211     South Korea  2018           82.846\n",
       "214           Spain  2018           83.433\n",
       "219          Sweden  2018           82.654\n",
       "220     Switzerland  2018           83.630\n",
       "239  United Kingdom  2018           81.236"
      ]
     },
     "metadata": {},
     "output_type": "display_data"
    }
   ],
   "source": [
    "#Display dataframe with countries having a higher life expectancy than the mean\n",
    "aboveSD(GDPperCapita('life-expectancy-vs-gdp-per-capita.csv',\n",
    "          'GDP per capita',\n",
    "          'Life expectancy',\n",
    "          'Life expectancy vs. GDP per capita'), 'Life expectancy vs. GDP per capita', 2)"
   ]
  },
  {
   "cell_type": "markdown",
   "metadata": {},
   "source": [
    "#### E. Which countries have high life expectancy but have low GDP (per capita)? [0.5p]"
   ]
  },
  {
   "cell_type": "markdown",
   "metadata": {},
   "source": [
    "It essentially depends on how you define high life expectancy and low GDP.  If we were to define low GDP as one standard deviation below the mean, it would yield a negative GDP score. This is because the standard deviation is greater than the mean, indicating a high variance between data points. Another way of defining low GDP would be to extract those data points whose GDP is below the median.  \n",
    "\n",
    "The GDP median is 12165.79 with a life expectancy median of 74.368. We can see that these countries are located closer to the upper left corner of the graph."
   ]
  },
  {
   "cell_type": "code",
   "execution_count": 9,
   "metadata": {},
   "outputs": [],
   "source": [
    "def medianFilter(finalData, ylabel, nbFigure): \n",
    "    \"\"\"\n",
    "    input:\n",
    "    - finalData: dataframe containing the data of interest\n",
    "    output:\n",
    "    - displays countries with low GDP and high \"Y-axis\" data (ex: Life expectancy)\n",
    "    \"\"\"\n",
    "    column1=finalData.columns[2] #GDP per capita\n",
    "    column2=finalData.columns[3] # Data on y-axis\n",
    "    \n",
    "    GDPmedian = finalData[column1].median()\n",
    "    Ymedian = finalData[column2].median()\n",
    "    \n",
    "    print('GPD per capita median: %f \\n' %(GDPmedian))\n",
    "    print(ylabel, 'median: %f \\n' %(Ymedian))\n",
    "    print('---------------------------------------------------------------------------------------------------------------------')\n",
    "    print('Figure', nbFigure,': Dataframe with countries having', ylabel ,'higher than the median and a GDP per capita lower than the median.')\n",
    "    \n",
    "    Filter1 = finalData[column1] < GDPmedian\n",
    "    Filter2 = finalData[column2] > Ymedian\n",
    "    \n",
    "    combinedFilter = Filter1 & Filter2\n",
    "    filteredColumns = finalData[['Entity','Year', column1, column2]]\n",
    "    \n",
    "    display(filteredColumns[combinedFilter])\n"
   ]
  },
  {
   "cell_type": "code",
   "execution_count": 10,
   "metadata": {},
   "outputs": [
    {
     "name": "stdout",
     "output_type": "stream",
     "text": [
      "---------------------------------------------------------------------------------------------------------------------\n",
      "List of years for which data is available: \n",
      "\n",
      "[1543, 1548, 1553, 1558, 1563, 1568, 1573, 1578, 1583, 1588, 1593, 1598, 1603, 1608, 1613, 1618, 1623, 1628, 1633, 1638, 1643, 1648, 1653, 1658, 1663, 1668, 1673, 1678, 1683, 1688, 1693, 1698, 1703, 1708, 1713, 1718, 1723, 1728, 1733, 1738, 1743, 1748, 1751, 1752, 1753, 1754, 1755, 1756, 1757, 1758, 1759, 1760, 1761, 1762, 1763, 1764, 1765, 1766, 1767, 1768, 1769, 1770, 1771, 1772, 1773, 1774, 1775, 1776, 1777, 1778, 1779, 1780, 1781, 1782, 1783, 1784, 1785, 1786, 1787, 1788, 1789, 1790, 1791, 1792, 1793, 1794, 1795, 1796, 1797, 1798, 1799, 1800, 1801, 1802, 1803, 1804, 1805, 1806, 1807, 1808, 1809, 1810, 1811, 1812, 1813, 1814, 1815, 1816, 1817, 1818, 1819, 1820, 1821, 1822, 1823, 1824, 1825, 1826, 1827, 1828, 1829, 1830, 1831, 1832, 1833, 1834, 1835, 1836, 1837, 1838, 1839, 1840, 1841, 1842, 1843, 1844, 1845, 1846, 1847, 1848, 1849, 1850, 1851, 1852, 1853, 1854, 1855, 1856, 1857, 1858, 1859, 1860, 1861, 1862, 1863, 1864, 1865, 1866, 1867, 1868, 1869, 1870, 1871, 1872, 1873, 1874, 1875, 1876, 1877, 1878, 1879, 1880, 1881, 1882, 1883, 1884, 1885, 1886, 1887, 1888, 1889, 1890, 1891, 1892, 1893, 1894, 1895, 1896, 1897, 1898, 1899, 1900, 1901, 1902, 1903, 1904, 1905, 1906, 1907, 1908, 1909, 1910, 1911, 1912, 1913, 1914, 1915, 1916, 1917, 1918, 1919, 1920, 1921, 1922, 1923, 1924, 1925, 1926, 1927, 1928, 1929, 1930, 1931, 1932, 1933, 1934, 1935, 1936, 1937, 1938, 1939, 1940, 1941, 1942, 1943, 1944, 1945, 1946, 1947, 1948, 1949, 1950, 1951, 1952, 1953, 1954, 1955, 1956, 1957, 1958, 1959, 1960, 1961, 1962, 1963, 1964, 1965, 1966, 1967, 1968, 1969, 1970, 1971, 1972, 1973, 1974, 1975, 1976, 1977, 1978, 1979, 1980, 1981, 1982, 1983, 1984, 1985, 1986, 1987, 1988, 1989, 1990, 1991, 1992, 1993, 1994, 1995, 1996, 1997, 1998, 1999, 2000, 2001, 2002, 2003, 2004, 2005, 2006, 2007, 2008, 2009, 2010, 2011, 2012, 2013, 2014, 2015, 2016, 2017, 2018]\n",
      "---------------------------------------------------------------------------------------------------------------------\n",
      "Year of interest for the data \"Countries with high life expectancy and low GDP\": \n",
      "2018\n",
      "---------------------------------------------------------------------------------------------------------------------\n",
      "GPD per capita median: 12080.490800 \n",
      "\n",
      "Life expectancy median: 74.386500 \n",
      "\n",
      "---------------------------------------------------------------------------------------------------------------------\n",
      "Figure 3 : Dataframe with countries having Life expectancy higher than the median and a GDP per capita lower than the median.\n"
     ]
    },
    {
     "data": {
      "text/html": [
       "<div>\n",
       "<style scoped>\n",
       "    .dataframe tbody tr th:only-of-type {\n",
       "        vertical-align: middle;\n",
       "    }\n",
       "\n",
       "    .dataframe tbody tr th {\n",
       "        vertical-align: top;\n",
       "    }\n",
       "\n",
       "    .dataframe thead th {\n",
       "        text-align: right;\n",
       "    }\n",
       "</style>\n",
       "<table border=\"1\" class=\"dataframe\">\n",
       "  <thead>\n",
       "    <tr style=\"text-align: right;\">\n",
       "      <th></th>\n",
       "      <th>Entity</th>\n",
       "      <th>Year</th>\n",
       "      <th>GDP per capita</th>\n",
       "      <th>Life expectancy</th>\n",
       "    </tr>\n",
       "  </thead>\n",
       "  <tbody>\n",
       "    <tr>\n",
       "      <th>2</th>\n",
       "      <td>Albania</td>\n",
       "      <td>2018</td>\n",
       "      <td>11104.1665</td>\n",
       "      <td>78.458</td>\n",
       "    </tr>\n",
       "    <tr>\n",
       "      <th>11</th>\n",
       "      <td>Armenia</td>\n",
       "      <td>2018</td>\n",
       "      <td>11454.4251</td>\n",
       "      <td>74.945</td>\n",
       "    </tr>\n",
       "    <tr>\n",
       "      <th>20</th>\n",
       "      <td>Barbados</td>\n",
       "      <td>2018</td>\n",
       "      <td>11995.1868</td>\n",
       "      <td>79.081</td>\n",
       "    </tr>\n",
       "    <tr>\n",
       "      <th>29</th>\n",
       "      <td>Bosnia and Herzegovina</td>\n",
       "      <td>2018</td>\n",
       "      <td>10460.5201</td>\n",
       "      <td>77.262</td>\n",
       "    </tr>\n",
       "    <tr>\n",
       "      <th>54</th>\n",
       "      <td>Cuba</td>\n",
       "      <td>2018</td>\n",
       "      <td>8325.6313</td>\n",
       "      <td>78.726</td>\n",
       "    </tr>\n",
       "    <tr>\n",
       "      <th>62</th>\n",
       "      <td>Dominica</td>\n",
       "      <td>2018</td>\n",
       "      <td>9021.1737</td>\n",
       "      <td>74.806</td>\n",
       "    </tr>\n",
       "    <tr>\n",
       "      <th>66</th>\n",
       "      <td>Ecuador</td>\n",
       "      <td>2018</td>\n",
       "      <td>10638.8251</td>\n",
       "      <td>76.800</td>\n",
       "    </tr>\n",
       "    <tr>\n",
       "      <th>100</th>\n",
       "      <td>Honduras</td>\n",
       "      <td>2018</td>\n",
       "      <td>5041.6354</td>\n",
       "      <td>75.088</td>\n",
       "    </tr>\n",
       "    <tr>\n",
       "      <th>114</th>\n",
       "      <td>Jordan</td>\n",
       "      <td>2018</td>\n",
       "      <td>11506.3383</td>\n",
       "      <td>74.405</td>\n",
       "    </tr>\n",
       "    <tr>\n",
       "      <th>151</th>\n",
       "      <td>Morocco</td>\n",
       "      <td>2018</td>\n",
       "      <td>8451.1355</td>\n",
       "      <td>76.453</td>\n",
       "    </tr>\n",
       "    <tr>\n",
       "      <th>191</th>\n",
       "      <td>Saint Lucia</td>\n",
       "      <td>2018</td>\n",
       "      <td>10475.3689</td>\n",
       "      <td>76.057</td>\n",
       "    </tr>\n",
       "    <tr>\n",
       "      <th>215</th>\n",
       "      <td>Sri Lanka</td>\n",
       "      <td>2018</td>\n",
       "      <td>11662.9064</td>\n",
       "      <td>76.812</td>\n",
       "    </tr>\n",
       "    <tr>\n",
       "      <th>231</th>\n",
       "      <td>Tunisia</td>\n",
       "      <td>2018</td>\n",
       "      <td>11353.8865</td>\n",
       "      <td>76.505</td>\n",
       "    </tr>\n",
       "    <tr>\n",
       "      <th>247</th>\n",
       "      <td>Vietnam</td>\n",
       "      <td>2018</td>\n",
       "      <td>6814.1423</td>\n",
       "      <td>75.317</td>\n",
       "    </tr>\n",
       "  </tbody>\n",
       "</table>\n",
       "</div>"
      ],
      "text/plain": [
       "                     Entity  Year  GDP per capita  Life expectancy\n",
       "2                   Albania  2018      11104.1665           78.458\n",
       "11                  Armenia  2018      11454.4251           74.945\n",
       "20                 Barbados  2018      11995.1868           79.081\n",
       "29   Bosnia and Herzegovina  2018      10460.5201           77.262\n",
       "54                     Cuba  2018       8325.6313           78.726\n",
       "62                 Dominica  2018       9021.1737           74.806\n",
       "66                  Ecuador  2018      10638.8251           76.800\n",
       "100                Honduras  2018       5041.6354           75.088\n",
       "114                  Jordan  2018      11506.3383           74.405\n",
       "151                 Morocco  2018       8451.1355           76.453\n",
       "191             Saint Lucia  2018      10475.3689           76.057\n",
       "215               Sri Lanka  2018      11662.9064           76.812\n",
       "231                 Tunisia  2018      11353.8865           76.505\n",
       "247                 Vietnam  2018       6814.1423           75.317"
      ]
     },
     "metadata": {},
     "output_type": "display_data"
    }
   ],
   "source": [
    "medianFilter(GDPperCapita('life-expectancy-vs-gdp-per-capita.csv',\n",
    "          'GDP per capita',\n",
    "          'Life expectancy', 'Countries with high life expectancy and low GDP'), 'Life expectancy', 3)"
   ]
  },
  {
   "cell_type": "markdown",
   "metadata": {},
   "source": [
    "#### F. Does every strong economy (normally indicated by GDP) have high life expectancy? [1p]"
   ]
  },
  {
   "cell_type": "markdown",
   "metadata": {},
   "source": [
    "When you only look at GDP and not GDP per capita, it is clear from the graph that there are a much greater variation among the \n",
    "data points. Countries with greater population sizes are now located further to the right of the graph, such as China and India for the year 2018. In India's case, it was located on the left half of the graph \"Life expectancy vs. GDP per capita\". It is now the other way aournd. The answer to this question is no. The majority of countries with the highest life expectancy are not those with the greater GDP. Though there seem to be a small trend, the variation is too great."
   ]
  },
  {
   "cell_type": "code",
   "execution_count": 18,
   "metadata": {},
   "outputs": [],
   "source": [
    "def GDP(csv_file, column1, column2, title):\n",
    "    \"\"\"\n",
    "    input: \n",
    "    - csv_file (string): name of csv file\n",
    "    - column1 (string): name of column for data GDP per capita\n",
    "    - column2 (string): name of column for data other than GDP per capita (ex: 'Life expectancy')\n",
    "    - title (string): Title of the plot\n",
    "    output:\n",
    "    - dataframe containing data for the chosen year without NaN values\n",
    "    \"\"\"\n",
    "    #Read the csv file containing the downloaded data\n",
    "    rawData = pd.read_csv(csv_file)\n",
    "    \n",
    "    #Remove rows containing NaN value in the 'GDP per capita' or 'Life expectancy'\n",
    "    noNaN = rawData.dropna(subset=[column1, column2])\n",
    "    \n",
    "    #Print list with years where data is available\n",
    "    yearList = []\n",
    "    for i in range(len(noNaN)):\n",
    "        if noNaN['Year'].values[i] not in yearList:\n",
    "            yearList.append(noNaN['Year'].values[i])\n",
    "    yearlist = yearList.sort() #sort it in ascending order         \n",
    "    print('---------------------------------------------------------------------------------------------------------------------')\n",
    "    print('List of years for which data is available: \\n')\n",
    "    print(yearList)\n",
    "    print('---------------------------------------------------------------------------------------------------------------------')\n",
    "\n",
    "    #Create a new table with the data for year of interest chosen by the user\n",
    "    year = int(input('Year of interest for the data \"%s\": \\n' % (title)))\n",
    "    print('---------------------------------------------------------------------------------------------------------------------')\n",
    "    yearData = rawData.loc[rawData['Year']==year].reset_index()\n",
    "        \n",
    "    #Replace NaN values in 'Continent' by the continent value for every country\n",
    "    year2015 = rawData.loc[rawData['Year']==2015].reset_index() #continents are defined only in 2015, but we want them to be defined for all the years.\n",
    "    \n",
    "    for i in range(len(yearData)):\n",
    "        for j in range(len(year2015)):\n",
    "            if yearData['Entity'][i] == year2015['Entity'][j]: #compare the 'Entity' of the chosen year to the 'Entity' in 2015 and if they are the same...\n",
    "                yearData.at[i, 'Continent'] = year2015['Continent'][j] #...assign the 'Continent' value of 2015 to the 'Continent' value of the chosen year 'Continent' value of 2015 to the 'Continent' value of the chosen year\n",
    "    \n",
    "    #Create a new column with the GDP by mulplying 'GDP per capita' by the 'Population'\n",
    "    yearData['GDP'] = yearData[column1]*yearData['Population (historical estimates)']   \n",
    "    \n",
    "    #Create a new table with only the relevant columns\n",
    "    relevantColumns = yearData.loc[:, ['Entity','Year', 'GDP', column2, 'Continent']]\n",
    "\n",
    "    #Create a new table without rows containing NaN values\n",
    "    finalData = relevantColumns.dropna()\n",
    "    \n",
    "    return finalData"
   ]
  },
  {
   "cell_type": "code",
   "execution_count": 19,
   "metadata": {},
   "outputs": [
    {
     "name": "stdout",
     "output_type": "stream",
     "text": [
      "---------------------------------------------------------------------------------------------------------------------\n",
      "List of years for which data is available: \n",
      "\n",
      "[1543, 1548, 1553, 1558, 1563, 1568, 1573, 1578, 1583, 1588, 1593, 1598, 1603, 1608, 1613, 1618, 1623, 1628, 1633, 1638, 1643, 1648, 1653, 1658, 1663, 1668, 1673, 1678, 1683, 1688, 1693, 1698, 1703, 1708, 1713, 1718, 1723, 1728, 1733, 1738, 1743, 1748, 1751, 1752, 1753, 1754, 1755, 1756, 1757, 1758, 1759, 1760, 1761, 1762, 1763, 1764, 1765, 1766, 1767, 1768, 1769, 1770, 1771, 1772, 1773, 1774, 1775, 1776, 1777, 1778, 1779, 1780, 1781, 1782, 1783, 1784, 1785, 1786, 1787, 1788, 1789, 1790, 1791, 1792, 1793, 1794, 1795, 1796, 1797, 1798, 1799, 1800, 1801, 1802, 1803, 1804, 1805, 1806, 1807, 1808, 1809, 1810, 1811, 1812, 1813, 1814, 1815, 1816, 1817, 1818, 1819, 1820, 1821, 1822, 1823, 1824, 1825, 1826, 1827, 1828, 1829, 1830, 1831, 1832, 1833, 1834, 1835, 1836, 1837, 1838, 1839, 1840, 1841, 1842, 1843, 1844, 1845, 1846, 1847, 1848, 1849, 1850, 1851, 1852, 1853, 1854, 1855, 1856, 1857, 1858, 1859, 1860, 1861, 1862, 1863, 1864, 1865, 1866, 1867, 1868, 1869, 1870, 1871, 1872, 1873, 1874, 1875, 1876, 1877, 1878, 1879, 1880, 1881, 1882, 1883, 1884, 1885, 1886, 1887, 1888, 1889, 1890, 1891, 1892, 1893, 1894, 1895, 1896, 1897, 1898, 1899, 1900, 1901, 1902, 1903, 1904, 1905, 1906, 1907, 1908, 1909, 1910, 1911, 1912, 1913, 1914, 1915, 1916, 1917, 1918, 1919, 1920, 1921, 1922, 1923, 1924, 1925, 1926, 1927, 1928, 1929, 1930, 1931, 1932, 1933, 1934, 1935, 1936, 1937, 1938, 1939, 1940, 1941, 1942, 1943, 1944, 1945, 1946, 1947, 1948, 1949, 1950, 1951, 1952, 1953, 1954, 1955, 1956, 1957, 1958, 1959, 1960, 1961, 1962, 1963, 1964, 1965, 1966, 1967, 1968, 1969, 1970, 1971, 1972, 1973, 1974, 1975, 1976, 1977, 1978, 1979, 1980, 1981, 1982, 1983, 1984, 1985, 1986, 1987, 1988, 1989, 1990, 1991, 1992, 1993, 1994, 1995, 1996, 1997, 1998, 1999, 2000, 2001, 2002, 2003, 2004, 2005, 2006, 2007, 2008, 2009, 2010, 2011, 2012, 2013, 2014, 2015, 2016, 2017, 2018]\n",
      "---------------------------------------------------------------------------------------------------------------------\n",
      "Year of interest for the data \"Life expectancy vs. GDP\": \n",
      "2018\n",
      "---------------------------------------------------------------------------------------------------------------------\n",
      "4.876661999506316e+24\n",
      "Figure 4 :\n"
     ]
    },
    {
     "data": {
      "application/vnd.plotly.v1+json": {
       "config": {
        "plotlyServerURL": "https://plot.ly"
       },
       "data": [
        {
         "customdata": [
          [
           "Afghanistan"
          ],
          [
           "Armenia"
          ],
          [
           "Azerbaijan"
          ],
          [
           "Bahrain"
          ],
          [
           "Bangladesh"
          ],
          [
           "Cambodia"
          ],
          [
           "China"
          ],
          [
           "Georgia"
          ],
          [
           "Hong Kong"
          ],
          [
           "India"
          ],
          [
           "Indonesia"
          ],
          [
           "Iran"
          ],
          [
           "Iraq"
          ],
          [
           "Israel"
          ],
          [
           "Japan"
          ],
          [
           "Jordan"
          ],
          [
           "Kazakhstan"
          ],
          [
           "Kuwait"
          ],
          [
           "Kyrgyzstan"
          ],
          [
           "Laos"
          ],
          [
           "Lebanon"
          ],
          [
           "Malaysia"
          ],
          [
           "Mongolia"
          ],
          [
           "Myanmar"
          ],
          [
           "Nepal"
          ],
          [
           "North Korea"
          ],
          [
           "Oman"
          ],
          [
           "Pakistan"
          ],
          [
           "Palestine"
          ],
          [
           "Philippines"
          ],
          [
           "Qatar"
          ],
          [
           "Saudi Arabia"
          ],
          [
           "Singapore"
          ],
          [
           "South Korea"
          ],
          [
           "Sri Lanka"
          ],
          [
           "Syria"
          ],
          [
           "Taiwan"
          ],
          [
           "Tajikistan"
          ],
          [
           "Thailand"
          ],
          [
           "Turkey"
          ],
          [
           "Turkmenistan"
          ],
          [
           "United Arab Emirates"
          ],
          [
           "Uzbekistan"
          ],
          [
           "Vietnam"
          ],
          [
           "Yemen"
          ]
         ],
         "hovertemplate": "Continent=Asia<br>GDP=%{x}<br>Life expectancy=%{y}<br>Entity=%{customdata[0]}<extra></extra>",
         "legendgroup": "Asia",
         "marker": {
          "color": "#636efa",
          "symbol": "circle"
         },
         "mode": "markers",
         "name": "Asia",
         "orientation": "v",
         "showlegend": true,
         "type": "scatter",
         "x": [
          71911127564.71,
          33810496199.099102,
          165441451445.3961,
          61990945194.368004,
          661523974895.3889,
          58963374019.974495,
          18704622174087.15,
          47974927129.835396,
          374774017651.77924,
          9206757805540.303,
          3172361002927.7227,
          1391528153866.0566,
          493326538486.61035,
          276210636276.5407,
          4919393085959.739,
          114664366200.4326,
          463624696826.72644,
          271079861239.22382,
          32635863667.9075,
          45553064054.0868,
          86147078025.5952,
          783230616612.9447,
          42425522955.0522,
          313560831301.5014,
          76628913586.7456,
          40786156972.4302,
          176167870013.474,
          1169462057841.8496,
          25325207234.048203,
          868050573635.463,
          427723008078.3526,
          1695408771936.3015,
          393826707120.28534,
          1940820255051.15,
          247589040868.064,
          56756802283.001396,
          1059715387386.732,
          40411236293.4693,
          1155888204718.7598,
          1586711665587.8179,
          153986180266.13202,
          735784788595.2847,
          364395345741.08636,
          651063760815.9657,
          65116352950.0017
         ],
         "xaxis": "x",
         "y": [
          64.486,
          74.945,
          72.864,
          77.163,
          72.32,
          69.57,
          76.704,
          73.6,
          84.687,
          69.416,
          71.509,
          76.479,
          70.454,
          82.819,
          84.47,
          74.405,
          73.236,
          75.398,
          71.321,
          67.61,
          78.875,
          75.997,
          69.689,
          66.867,
          70.478,
          72.095,
          77.633,
          67.114,
          73.895,
          71.095,
          80.1,
          74.998,
          83.458,
          82.846,
          76.812,
          71.779,
          80.283,
          70.879,
          76.931,
          77.437,
          68.073,
          77.814,
          71.573,
          75.317,
          66.096
         ],
         "yaxis": "y"
        },
        {
         "customdata": [
          [
           "Albania"
          ],
          [
           "Austria"
          ],
          [
           "Belarus"
          ],
          [
           "Belgium"
          ],
          [
           "Bosnia and Herzegovina"
          ],
          [
           "Bulgaria"
          ],
          [
           "Croatia"
          ],
          [
           "Cyprus"
          ],
          [
           "Czechia"
          ],
          [
           "Denmark"
          ],
          [
           "Estonia"
          ],
          [
           "Finland"
          ],
          [
           "France"
          ],
          [
           "Germany"
          ],
          [
           "Greece"
          ],
          [
           "Hungary"
          ],
          [
           "Iceland"
          ],
          [
           "Ireland"
          ],
          [
           "Italy"
          ],
          [
           "Latvia"
          ],
          [
           "Lithuania"
          ],
          [
           "Luxembourg"
          ],
          [
           "Malta"
          ],
          [
           "Moldova"
          ],
          [
           "Montenegro"
          ],
          [
           "Netherlands"
          ],
          [
           "North Macedonia"
          ],
          [
           "Norway"
          ],
          [
           "Poland"
          ],
          [
           "Portugal"
          ],
          [
           "Romania"
          ],
          [
           "Russia"
          ],
          [
           "Serbia"
          ],
          [
           "Slovakia"
          ],
          [
           "Slovenia"
          ],
          [
           "Spain"
          ],
          [
           "Sweden"
          ],
          [
           "Switzerland"
          ],
          [
           "Ukraine"
          ],
          [
           "United Kingdom"
          ]
         ],
         "hovertemplate": "Continent=Europe<br>GDP=%{x}<br>Life expectancy=%{y}<br>Entity=%{customdata[0]}<extra></extra>",
         "legendgroup": "Europe",
         "marker": {
          "color": "#EF553B",
          "symbol": "circle"
         },
         "mode": "markers",
         "name": "Europe",
         "orientation": "v",
         "showlegend": true,
         "type": "scatter",
         "x": [
          32010369415.3775,
          382223402803.0547,
          177022123255.524,
          456487880110.758,
          34770026115.4729,
          130061729668.922,
          91492138905.2829,
          32329393654.549202,
          327953720323.2036,
          266394671330.70328,
          36259279108.8537,
          214810334730.79248,
          2503169315457.6816,
          3838487448175.323,
          246754679734.4552,
          248733501647.8746,
          14626278084.534399,
          311693857941.588,
          2083406425434.3462,
          46886050942.8658,
          76672314044.59601,
          34700222491.2732,
          14068859916.262001,
          27337406545.575,
          12244769407.1164,
          809887419461.82,
          27233048531.722797,
          451485383830.152,
          1041146103590.645,
          277282306486.4384,
          392585669545.342,
          3595099462641.4683,
          124330949966.6157,
          147643349367.2848,
          60766117932.632996,
          1470662693336.76,
          454126897521.123,
          523240206958.78143,
          434203640781.6646,
          2555283728651.6367
         ],
         "xaxis": "x",
         "y": [
          78.458,
          81.434,
          74.59,
          81.468,
          77.262,
          74.928,
          78.342,
          80.828,
          79.222,
          80.784,
          78.567,
          81.736,
          82.541,
          81.18,
          82.072,
          76.701,
          82.855,
          82.103,
          83.352,
          75.172,
          75.737,
          82.102,
          82.376,
          71.808,
          76.77,
          82.143,
          75.688,
          82.271,
          78.544,
          81.857,
          75.924,
          72.386,
          75.849,
          77.388,
          81.172,
          83.433,
          82.654,
          83.63,
          71.953,
          81.236
         ],
         "yaxis": "y"
        },
        {
         "customdata": [
          [
           "Algeria"
          ],
          [
           "Angola"
          ],
          [
           "Benin"
          ],
          [
           "Botswana"
          ],
          [
           "Burkina Faso"
          ],
          [
           "Burundi"
          ],
          [
           "Cameroon"
          ],
          [
           "Cape Verde"
          ],
          [
           "Central African Republic"
          ],
          [
           "Chad"
          ],
          [
           "Comoros"
          ],
          [
           "Congo"
          ],
          [
           "Cote d'Ivoire"
          ],
          [
           "Democratic Republic of Congo"
          ],
          [
           "Djibouti"
          ],
          [
           "Egypt"
          ],
          [
           "Equatorial Guinea"
          ],
          [
           "Eswatini"
          ],
          [
           "Ethiopia"
          ],
          [
           "Gabon"
          ],
          [
           "Gambia"
          ],
          [
           "Ghana"
          ],
          [
           "Guinea"
          ],
          [
           "Guinea-Bissau"
          ],
          [
           "Kenya"
          ],
          [
           "Lesotho"
          ],
          [
           "Liberia"
          ],
          [
           "Libya"
          ],
          [
           "Madagascar"
          ],
          [
           "Malawi"
          ],
          [
           "Mali"
          ],
          [
           "Mauritania"
          ],
          [
           "Mauritius"
          ],
          [
           "Morocco"
          ],
          [
           "Mozambique"
          ],
          [
           "Namibia"
          ],
          [
           "Niger"
          ],
          [
           "Nigeria"
          ],
          [
           "Rwanda"
          ],
          [
           "Sao Tome and Principe"
          ],
          [
           "Senegal"
          ],
          [
           "Seychelles"
          ],
          [
           "Sierra Leone"
          ],
          [
           "South Africa"
          ],
          [
           "Sudan"
          ],
          [
           "Tanzania"
          ],
          [
           "Togo"
          ],
          [
           "Tunisia"
          ],
          [
           "Uganda"
          ],
          [
           "Zambia"
          ],
          [
           "Zimbabwe"
          ]
         ],
         "hovertemplate": "Continent=Africa<br>GDP=%{x}<br>Life expectancy=%{y}<br>Entity=%{customdata[0]}<extra></extra>",
         "legendgroup": "Africa",
         "marker": {
          "color": "#00cc96",
          "symbol": "circle"
         },
         "mode": "markers",
         "name": "Africa",
         "orientation": "v",
         "showlegend": true,
         "type": "scatter",
         "x": [
          600826944330.375,
          239436466540.89658,
          25498805957.180996,
          35709222668.1167,
          31397408339.077198,
          7279182572.5231,
          72825719194.3799,
          3714569337.024,
          2909433015.7374997,
          31673049404.673702,
          1435273202.6332,
          29969393271.5871,
          93098170691.85359,
          72246579818.7164,
          3160304791.0245004,
          1176871894602.3445,
          37343429492.598,
          9167699294.8332,
          200808018308.223,
          37327969739.61,
          4291680138.0708003,
          127018235302.1036,
          19943145460.6472,
          2814105516.1344004,
          173576883954.928,
          5758823728.2147,
          3943951638.7936,
          100267382728.70601,
          37492088543.725204,
          20259443226.243,
          31808247430.5005,
          15224517289.68,
          25519276601.4032,
          304486713080.5595,
          33412220661.3381,
          22140271185.66,
          21649703596.743103,
          1025925453148.8755,
          23734005492.3619,
          787192516.0439999,
          41492738185.9056,
          2867288856.1528,
          12881701098.605299,
          703091939294.896,
          141272277800.6124,
          161899062271.2276,
          11449924019.3855,
          131310002211.4595,
          87398829452.1496,
          61321542028.7618,
          23266776738.6224
         ],
         "xaxis": "x",
         "y": [
          76.693,
          60.782,
          61.47,
          69.275,
          61.174,
          61.247,
          58.921,
          72.782,
          52.805,
          53.977,
          64.118,
          64.29,
          57.422,
          60.368,
          66.582,
          71.825,
          58.402,
          59.401,
          66.24,
          66.187,
          61.735,
          63.78,
          61.185,
          58.003,
          66.342,
          53.705,
          63.73,
          72.724,
          66.681,
          63.798,
          58.893,
          64.704,
          74.863,
          76.453,
          60.163,
          63.373,
          62.024,
          54.332,
          68.7,
          70.17,
          67.665,
          73.333,
          54.309,
          63.857,
          65.095,
          65.015,
          60.76,
          76.505,
          62.973,
          63.51,
          61.195
         ],
         "yaxis": "y"
        },
        {
         "customdata": [
          [
           "Argentina"
          ],
          [
           "Bolivia"
          ],
          [
           "Brazil"
          ],
          [
           "Chile"
          ],
          [
           "Colombia"
          ],
          [
           "Ecuador"
          ],
          [
           "Paraguay"
          ],
          [
           "Peru"
          ],
          [
           "Uruguay"
          ],
          [
           "Venezuela"
          ]
         ],
         "hovertemplate": "Continent=South America<br>GDP=%{x}<br>Life expectancy=%{y}<br>Entity=%{customdata[0]}<extra></extra>",
         "legendgroup": "South America",
         "marker": {
          "color": "#ab63fa",
          "symbol": "circle"
         },
         "mode": "markers",
         "name": "South America",
         "orientation": "v",
         "showlegend": true,
         "type": "scatter",
         "x": [
          823182494156.565,
          76018066442.244,
          2939601443407.392,
          414003820567.65643,
          672661461742.272,
          181757507346.6109,
          64962369457.83959,
          393790561640.7455,
          69626802256.44,
          309379596046.4202
         ],
         "xaxis": "x",
         "y": [
          76.52,
          71.239,
          75.672,
          80.042,
          77.109,
          76.8,
          74.131,
          76.516,
          77.77,
          72.128
         ],
         "yaxis": "y"
        },
        {
         "customdata": [
          [
           "Australia"
          ],
          [
           "New Zealand"
          ]
         ],
         "hovertemplate": "Continent=Oceania<br>GDP=%{x}<br>Life expectancy=%{y}<br>Entity=%{customdata[0]}<extra></extra>",
         "legendgroup": "Oceania",
         "marker": {
          "color": "#FFA15A",
          "symbol": "circle"
         },
         "mode": "markers",
         "name": "Oceania",
         "orientation": "v",
         "showlegend": true,
         "type": "scatter",
         "x": [
          1240694865083.6929,
          167603923504.75528
         ],
         "xaxis": "x",
         "y": [
          83.281,
          82.145
         ],
         "yaxis": "y"
        },
        {
         "customdata": [
          [
           "Barbados"
          ],
          [
           "Canada"
          ],
          [
           "Costa Rica"
          ],
          [
           "Cuba"
          ],
          [
           "Dominica"
          ],
          [
           "Dominican Republic"
          ],
          [
           "El Salvador"
          ],
          [
           "Guatemala"
          ],
          [
           "Haiti"
          ],
          [
           "Honduras"
          ],
          [
           "Jamaica"
          ],
          [
           "Mexico"
          ],
          [
           "Nicaragua"
          ],
          [
           "Panama"
          ],
          [
           "Puerto Rico"
          ],
          [
           "Saint Lucia"
          ],
          [
           "Trinidad and Tobago"
          ],
          [
           "United States"
          ]
         ],
         "hovertemplate": "Continent=North America<br>GDP=%{x}<br>Life expectancy=%{y}<br>Entity=%{customdata[0]}<extra></extra>",
         "legendgroup": "North America",
         "marker": {
          "color": "#19d3f3",
          "symbol": "circle"
         },
         "mode": "markers",
         "name": "North America",
         "orientation": "v",
         "showlegend": true,
         "type": "scatter",
         "x": [
          3438300344.3519998,
          1663488833277.8728,
          73423089256.5777,
          94397223221.5698,
          646150587.4361999,
          169103408609.2265,
          55206795110.66801,
          127670599314.183,
          19232463928.5056,
          48336795355.114204,
          21345128639.3665,
          2081400727379.778,
          32020251241.5544,
          94552379927.8376,
          106617830962.0934,
          1905364849.221,
          39679138181.0803,
          18099786471818.863
         ],
         "xaxis": "x",
         "y": [
          79.081,
          82.315,
          80.095,
          78.726,
          74.806,
          73.892,
          73.096,
          74.063,
          63.66,
          75.088,
          74.368,
          74.992,
          74.275,
          78.329,
          79.952,
          76.057,
          73.38,
          78.851
         ],
         "yaxis": "y"
        },
        {
         "hovertemplate": "<b>OLS trendline</b><br>Life expectancy = 4.09679 * log10(GDP) + 27.3289<br>R<sup>2</sup>=0.201039<br><br>GDP=%{x}<br>Life expectancy=%{y} <b>(trend)</b><extra></extra>",
         "legendgroup": "Overall Trendline",
         "line": {
          "color": "black"
         },
         "mode": "lines",
         "name": "Overall Trendline",
         "showlegend": true,
         "type": "scatter",
         "x": [
          646150587.4361999,
          787192516.0439999,
          1435273202.6332,
          1905364849.221,
          2814105516.1344004,
          2867288856.1528,
          2909433015.7374997,
          3160304791.0245004,
          3438300344.3519998,
          3714569337.024,
          3943951638.7936,
          4291680138.0708003,
          5758823728.2147,
          7279182572.5231,
          9167699294.8332,
          11449924019.3855,
          12244769407.1164,
          12881701098.605299,
          14068859916.262001,
          14626278084.534399,
          15224517289.68,
          19232463928.5056,
          19943145460.6472,
          20259443226.243,
          21345128639.3665,
          21649703596.743103,
          22140271185.66,
          23266776738.6224,
          23734005492.3619,
          25325207234.048203,
          25498805957.180996,
          25519276601.4032,
          27233048531.722797,
          27337406545.575,
          29969393271.5871,
          31397408339.077198,
          31673049404.673702,
          31808247430.5005,
          32010369415.3775,
          32020251241.5544,
          32329393654.549202,
          32635863667.9075,
          33412220661.3381,
          33810496199.099102,
          34700222491.2732,
          34770026115.4729,
          35709222668.1167,
          36259279108.8537,
          37327969739.61,
          37343429492.598,
          37492088543.725204,
          39679138181.0803,
          40411236293.4693,
          40786156972.4302,
          41492738185.9056,
          42425522955.0522,
          45553064054.0868,
          46886050942.8658,
          47974927129.835396,
          48336795355.114204,
          55206795110.66801,
          56756802283.001396,
          58963374019.974495,
          60766117932.632996,
          61321542028.7618,
          61990945194.368004,
          64962369457.83959,
          65116352950.0017,
          69626802256.44,
          71911127564.71,
          72246579818.7164,
          72825719194.3799,
          73423089256.5777,
          76018066442.244,
          76628913586.7456,
          76672314044.59601,
          86147078025.5952,
          87398829452.1496,
          91492138905.2829,
          93098170691.85359,
          94397223221.5698,
          94552379927.8376,
          100267382728.70601,
          106617830962.0934,
          114664366200.4326,
          124330949966.6157,
          127018235302.1036,
          127670599314.183,
          130061729668.922,
          131310002211.4595,
          141272277800.6124,
          147643349367.2848,
          153986180266.13202,
          161899062271.2276,
          165441451445.3961,
          167603923504.75528,
          169103408609.2265,
          173576883954.928,
          176167870013.474,
          177022123255.524,
          181757507346.6109,
          200808018308.223,
          214810334730.79248,
          239436466540.89658,
          246754679734.4552,
          247589040868.064,
          248733501647.8746,
          266394671330.70328,
          271079861239.22382,
          276210636276.5407,
          277282306486.4384,
          304486713080.5595,
          309379596046.4202,
          311693857941.588,
          313560831301.5014,
          327953720323.2036,
          364395345741.08636,
          374774017651.77924,
          382223402803.0547,
          392585669545.342,
          393790561640.7455,
          393826707120.28534,
          414003820567.65643,
          427723008078.3526,
          434203640781.6646,
          451485383830.152,
          454126897521.123,
          456487880110.758,
          463624696826.72644,
          493326538486.61035,
          523240206958.78143,
          600826944330.375,
          651063760815.9657,
          661523974895.3889,
          672661461742.272,
          703091939294.896,
          735784788595.2847,
          783230616612.9447,
          809887419461.82,
          823182494156.565,
          868050573635.463,
          1025925453148.8755,
          1041146103590.645,
          1059715387386.732,
          1155888204718.7598,
          1169462057841.8496,
          1176871894602.3445,
          1240694865083.6929,
          1391528153866.0566,
          1470662693336.76,
          1586711665587.8179,
          1663488833277.8728,
          1695408771936.3015,
          1940820255051.15,
          2081400727379.778,
          2083406425434.3462,
          2503169315457.6816,
          2555283728651.6367,
          2939601443407.392,
          3172361002927.7227,
          3595099462641.4683,
          3838487448175.323,
          4919393085959.739,
          9206757805540.303,
          18099786471818.863,
          18704622174087.15
         ],
         "xaxis": "x",
         "y": [
          63.42295264565534,
          63.77424102365133,
          64.84290368635402,
          65.3469874400639,
          66.04082902900879,
          66.07414031758998,
          66.10010133568986,
          66.24726054030333,
          66.39726387824983,
          66.53477125696145,
          66.64138249613752,
          66.79171736315159,
          67.31490390516932,
          67.731747544425,
          68.14215480067685,
          68.53766816417607,
          68.65708144243771,
          68.74730345150014,
          68.90415189740796,
          68.97328491494929,
          69.04460883298987,
          69.46039782723489,
          69.52495804585169,
          69.55295489399393,
          69.64583434293274,
          69.67104262638549,
          69.7109084187976,
          69.79920772054625,
          69.83458275386874,
          69.95003838136098,
          69.96219288801464,
          69.96362068176516,
          70.07926448092707,
          70.08606946063043,
          70.24961596154466,
          70.33243606810376,
          70.34798780060581,
          70.355566301248,
          70.36683634739751,
          70.36738551837486,
          70.38448070531285,
          70.40126751323736,
          70.44309669043304,
          70.46417960887827,
          70.51039433603184,
          70.51396984062396,
          70.56139174689278,
          70.58858939338303,
          70.64027124274764,
          70.64100796933411,
          70.64807671300863,
          70.74895033669384,
          70.78147846950615,
          70.79790926043546,
          70.82846848898981,
          70.86802344738729,
          70.99457490773523,
          71.04589155559393,
          71.08673929741602,
          71.10010929778937,
          71.33655426537834,
          71.38581974168315,
          71.45368065242818,
          71.50726325399711,
          71.52345203017703,
          71.5427691798842,
          71.62607167708578,
          71.63028404387491,
          71.74944485801382,
          71.80688042329139,
          71.8151608307271,
          71.82936641112656,
          71.84390129639134,
          71.90569796424174,
          71.91993779163025,
          71.92094520280808,
          72.12825092205938,
          72.1539175801356,
          72.23535425825646,
          72.26631520786844,
          72.29096998803269,
          72.29389200504718,
          72.39830778434562,
          72.5075698629887,
          72.637022841666,
          72.78102821546943,
          72.81907438371627,
          72.82818901519177,
          72.86120352783443,
          72.87819817605578,
          73.0083087183994,
          73.08679069571005,
          73.16163028213555,
          73.25078704506424,
          73.28929686977838,
          73.31240215193861,
          73.32824927858304,
          73.37470494201759,
          73.40106703500662,
          73.40967374495898,
          73.45664268159697,
          73.63398738973756,
          73.75391733631571,
          73.94702006590926,
          74.0005860254136,
          74.00659200056805,
          74.01479732501721,
          74.13684583675123,
          74.16786559325398,
          74.2012263477609,
          74.20811616478952,
          74.37463508687995,
          74.40299848766793,
          74.41625806324416,
          74.42688334681546,
          74.50673288807252,
          74.69420308933967,
          74.74417022369548,
          74.77918877084927,
          74.82678187599146,
          74.83223413140337,
          74.83239743540875,
          74.92129445187416,
          74.97929789295841,
          75.00605341068132,
          75.07549497261206,
          75.08587431573969,
          75.09510039410453,
          75.12270174647183,
          75.23318365423032,
          75.3379247834182,
          75.58393006185008,
          75.72680203766032,
          75.75516029244042,
          75.78486595011489,
          75.86358812612228,
          75.94445339048727,
          76.05563557927934,
          76.11518241885423,
          76.14415276432614,
          76.23857929100836,
          76.53588656676943,
          76.56208912082141,
          76.59354248611103,
          76.74810043233242,
          76.76887240654244,
          76.78011012984308,
          76.87407327309296,
          77.07820411149447,
          77.17661343912499,
          77.31174582778482,
          77.39581965342703,
          77.42963675895246,
          77.67016298293441,
          77.79458409541826,
          77.79629777161949,
          78.12287846350719,
          78.15954024548769,
          78.40882717888266,
          78.54440698461494,
          78.76697868548104,
          78.88352916118642,
          79.3249640924312,
          80.44009080257834,
          81.64277223917213,
          81.70125592710953
         ],
         "yaxis": "y"
        }
       ],
       "layout": {
        "legend": {
         "title": {
          "text": "Continent"
         },
         "tracegroupgap": 0
        },
        "template": {
         "data": {
          "bar": [
           {
            "error_x": {
             "color": "#2a3f5f"
            },
            "error_y": {
             "color": "#2a3f5f"
            },
            "marker": {
             "line": {
              "color": "#E5ECF6",
              "width": 0.5
             },
             "pattern": {
              "fillmode": "overlay",
              "size": 10,
              "solidity": 0.2
             }
            },
            "type": "bar"
           }
          ],
          "barpolar": [
           {
            "marker": {
             "line": {
              "color": "#E5ECF6",
              "width": 0.5
             },
             "pattern": {
              "fillmode": "overlay",
              "size": 10,
              "solidity": 0.2
             }
            },
            "type": "barpolar"
           }
          ],
          "carpet": [
           {
            "aaxis": {
             "endlinecolor": "#2a3f5f",
             "gridcolor": "white",
             "linecolor": "white",
             "minorgridcolor": "white",
             "startlinecolor": "#2a3f5f"
            },
            "baxis": {
             "endlinecolor": "#2a3f5f",
             "gridcolor": "white",
             "linecolor": "white",
             "minorgridcolor": "white",
             "startlinecolor": "#2a3f5f"
            },
            "type": "carpet"
           }
          ],
          "choropleth": [
           {
            "colorbar": {
             "outlinewidth": 0,
             "ticks": ""
            },
            "type": "choropleth"
           }
          ],
          "contour": [
           {
            "colorbar": {
             "outlinewidth": 0,
             "ticks": ""
            },
            "colorscale": [
             [
              0,
              "#0d0887"
             ],
             [
              0.1111111111111111,
              "#46039f"
             ],
             [
              0.2222222222222222,
              "#7201a8"
             ],
             [
              0.3333333333333333,
              "#9c179e"
             ],
             [
              0.4444444444444444,
              "#bd3786"
             ],
             [
              0.5555555555555556,
              "#d8576b"
             ],
             [
              0.6666666666666666,
              "#ed7953"
             ],
             [
              0.7777777777777778,
              "#fb9f3a"
             ],
             [
              0.8888888888888888,
              "#fdca26"
             ],
             [
              1,
              "#f0f921"
             ]
            ],
            "type": "contour"
           }
          ],
          "contourcarpet": [
           {
            "colorbar": {
             "outlinewidth": 0,
             "ticks": ""
            },
            "type": "contourcarpet"
           }
          ],
          "heatmap": [
           {
            "colorbar": {
             "outlinewidth": 0,
             "ticks": ""
            },
            "colorscale": [
             [
              0,
              "#0d0887"
             ],
             [
              0.1111111111111111,
              "#46039f"
             ],
             [
              0.2222222222222222,
              "#7201a8"
             ],
             [
              0.3333333333333333,
              "#9c179e"
             ],
             [
              0.4444444444444444,
              "#bd3786"
             ],
             [
              0.5555555555555556,
              "#d8576b"
             ],
             [
              0.6666666666666666,
              "#ed7953"
             ],
             [
              0.7777777777777778,
              "#fb9f3a"
             ],
             [
              0.8888888888888888,
              "#fdca26"
             ],
             [
              1,
              "#f0f921"
             ]
            ],
            "type": "heatmap"
           }
          ],
          "heatmapgl": [
           {
            "colorbar": {
             "outlinewidth": 0,
             "ticks": ""
            },
            "colorscale": [
             [
              0,
              "#0d0887"
             ],
             [
              0.1111111111111111,
              "#46039f"
             ],
             [
              0.2222222222222222,
              "#7201a8"
             ],
             [
              0.3333333333333333,
              "#9c179e"
             ],
             [
              0.4444444444444444,
              "#bd3786"
             ],
             [
              0.5555555555555556,
              "#d8576b"
             ],
             [
              0.6666666666666666,
              "#ed7953"
             ],
             [
              0.7777777777777778,
              "#fb9f3a"
             ],
             [
              0.8888888888888888,
              "#fdca26"
             ],
             [
              1,
              "#f0f921"
             ]
            ],
            "type": "heatmapgl"
           }
          ],
          "histogram": [
           {
            "marker": {
             "pattern": {
              "fillmode": "overlay",
              "size": 10,
              "solidity": 0.2
             }
            },
            "type": "histogram"
           }
          ],
          "histogram2d": [
           {
            "colorbar": {
             "outlinewidth": 0,
             "ticks": ""
            },
            "colorscale": [
             [
              0,
              "#0d0887"
             ],
             [
              0.1111111111111111,
              "#46039f"
             ],
             [
              0.2222222222222222,
              "#7201a8"
             ],
             [
              0.3333333333333333,
              "#9c179e"
             ],
             [
              0.4444444444444444,
              "#bd3786"
             ],
             [
              0.5555555555555556,
              "#d8576b"
             ],
             [
              0.6666666666666666,
              "#ed7953"
             ],
             [
              0.7777777777777778,
              "#fb9f3a"
             ],
             [
              0.8888888888888888,
              "#fdca26"
             ],
             [
              1,
              "#f0f921"
             ]
            ],
            "type": "histogram2d"
           }
          ],
          "histogram2dcontour": [
           {
            "colorbar": {
             "outlinewidth": 0,
             "ticks": ""
            },
            "colorscale": [
             [
              0,
              "#0d0887"
             ],
             [
              0.1111111111111111,
              "#46039f"
             ],
             [
              0.2222222222222222,
              "#7201a8"
             ],
             [
              0.3333333333333333,
              "#9c179e"
             ],
             [
              0.4444444444444444,
              "#bd3786"
             ],
             [
              0.5555555555555556,
              "#d8576b"
             ],
             [
              0.6666666666666666,
              "#ed7953"
             ],
             [
              0.7777777777777778,
              "#fb9f3a"
             ],
             [
              0.8888888888888888,
              "#fdca26"
             ],
             [
              1,
              "#f0f921"
             ]
            ],
            "type": "histogram2dcontour"
           }
          ],
          "mesh3d": [
           {
            "colorbar": {
             "outlinewidth": 0,
             "ticks": ""
            },
            "type": "mesh3d"
           }
          ],
          "parcoords": [
           {
            "line": {
             "colorbar": {
              "outlinewidth": 0,
              "ticks": ""
             }
            },
            "type": "parcoords"
           }
          ],
          "pie": [
           {
            "automargin": true,
            "type": "pie"
           }
          ],
          "scatter": [
           {
            "marker": {
             "colorbar": {
              "outlinewidth": 0,
              "ticks": ""
             }
            },
            "type": "scatter"
           }
          ],
          "scatter3d": [
           {
            "line": {
             "colorbar": {
              "outlinewidth": 0,
              "ticks": ""
             }
            },
            "marker": {
             "colorbar": {
              "outlinewidth": 0,
              "ticks": ""
             }
            },
            "type": "scatter3d"
           }
          ],
          "scattercarpet": [
           {
            "marker": {
             "colorbar": {
              "outlinewidth": 0,
              "ticks": ""
             }
            },
            "type": "scattercarpet"
           }
          ],
          "scattergeo": [
           {
            "marker": {
             "colorbar": {
              "outlinewidth": 0,
              "ticks": ""
             }
            },
            "type": "scattergeo"
           }
          ],
          "scattergl": [
           {
            "marker": {
             "colorbar": {
              "outlinewidth": 0,
              "ticks": ""
             }
            },
            "type": "scattergl"
           }
          ],
          "scattermapbox": [
           {
            "marker": {
             "colorbar": {
              "outlinewidth": 0,
              "ticks": ""
             }
            },
            "type": "scattermapbox"
           }
          ],
          "scatterpolar": [
           {
            "marker": {
             "colorbar": {
              "outlinewidth": 0,
              "ticks": ""
             }
            },
            "type": "scatterpolar"
           }
          ],
          "scatterpolargl": [
           {
            "marker": {
             "colorbar": {
              "outlinewidth": 0,
              "ticks": ""
             }
            },
            "type": "scatterpolargl"
           }
          ],
          "scatterternary": [
           {
            "marker": {
             "colorbar": {
              "outlinewidth": 0,
              "ticks": ""
             }
            },
            "type": "scatterternary"
           }
          ],
          "surface": [
           {
            "colorbar": {
             "outlinewidth": 0,
             "ticks": ""
            },
            "colorscale": [
             [
              0,
              "#0d0887"
             ],
             [
              0.1111111111111111,
              "#46039f"
             ],
             [
              0.2222222222222222,
              "#7201a8"
             ],
             [
              0.3333333333333333,
              "#9c179e"
             ],
             [
              0.4444444444444444,
              "#bd3786"
             ],
             [
              0.5555555555555556,
              "#d8576b"
             ],
             [
              0.6666666666666666,
              "#ed7953"
             ],
             [
              0.7777777777777778,
              "#fb9f3a"
             ],
             [
              0.8888888888888888,
              "#fdca26"
             ],
             [
              1,
              "#f0f921"
             ]
            ],
            "type": "surface"
           }
          ],
          "table": [
           {
            "cells": {
             "fill": {
              "color": "#EBF0F8"
             },
             "line": {
              "color": "white"
             }
            },
            "header": {
             "fill": {
              "color": "#C8D4E3"
             },
             "line": {
              "color": "white"
             }
            },
            "type": "table"
           }
          ]
         },
         "layout": {
          "annotationdefaults": {
           "arrowcolor": "#2a3f5f",
           "arrowhead": 0,
           "arrowwidth": 1
          },
          "autotypenumbers": "strict",
          "coloraxis": {
           "colorbar": {
            "outlinewidth": 0,
            "ticks": ""
           }
          },
          "colorscale": {
           "diverging": [
            [
             0,
             "#8e0152"
            ],
            [
             0.1,
             "#c51b7d"
            ],
            [
             0.2,
             "#de77ae"
            ],
            [
             0.3,
             "#f1b6da"
            ],
            [
             0.4,
             "#fde0ef"
            ],
            [
             0.5,
             "#f7f7f7"
            ],
            [
             0.6,
             "#e6f5d0"
            ],
            [
             0.7,
             "#b8e186"
            ],
            [
             0.8,
             "#7fbc41"
            ],
            [
             0.9,
             "#4d9221"
            ],
            [
             1,
             "#276419"
            ]
           ],
           "sequential": [
            [
             0,
             "#0d0887"
            ],
            [
             0.1111111111111111,
             "#46039f"
            ],
            [
             0.2222222222222222,
             "#7201a8"
            ],
            [
             0.3333333333333333,
             "#9c179e"
            ],
            [
             0.4444444444444444,
             "#bd3786"
            ],
            [
             0.5555555555555556,
             "#d8576b"
            ],
            [
             0.6666666666666666,
             "#ed7953"
            ],
            [
             0.7777777777777778,
             "#fb9f3a"
            ],
            [
             0.8888888888888888,
             "#fdca26"
            ],
            [
             1,
             "#f0f921"
            ]
           ],
           "sequentialminus": [
            [
             0,
             "#0d0887"
            ],
            [
             0.1111111111111111,
             "#46039f"
            ],
            [
             0.2222222222222222,
             "#7201a8"
            ],
            [
             0.3333333333333333,
             "#9c179e"
            ],
            [
             0.4444444444444444,
             "#bd3786"
            ],
            [
             0.5555555555555556,
             "#d8576b"
            ],
            [
             0.6666666666666666,
             "#ed7953"
            ],
            [
             0.7777777777777778,
             "#fb9f3a"
            ],
            [
             0.8888888888888888,
             "#fdca26"
            ],
            [
             1,
             "#f0f921"
            ]
           ]
          },
          "colorway": [
           "#636efa",
           "#EF553B",
           "#00cc96",
           "#ab63fa",
           "#FFA15A",
           "#19d3f3",
           "#FF6692",
           "#B6E880",
           "#FF97FF",
           "#FECB52"
          ],
          "font": {
           "color": "#2a3f5f"
          },
          "geo": {
           "bgcolor": "white",
           "lakecolor": "white",
           "landcolor": "#E5ECF6",
           "showlakes": true,
           "showland": true,
           "subunitcolor": "white"
          },
          "hoverlabel": {
           "align": "left"
          },
          "hovermode": "closest",
          "mapbox": {
           "style": "light"
          },
          "paper_bgcolor": "white",
          "plot_bgcolor": "#E5ECF6",
          "polar": {
           "angularaxis": {
            "gridcolor": "white",
            "linecolor": "white",
            "ticks": ""
           },
           "bgcolor": "#E5ECF6",
           "radialaxis": {
            "gridcolor": "white",
            "linecolor": "white",
            "ticks": ""
           }
          },
          "scene": {
           "xaxis": {
            "backgroundcolor": "#E5ECF6",
            "gridcolor": "white",
            "gridwidth": 2,
            "linecolor": "white",
            "showbackground": true,
            "ticks": "",
            "zerolinecolor": "white"
           },
           "yaxis": {
            "backgroundcolor": "#E5ECF6",
            "gridcolor": "white",
            "gridwidth": 2,
            "linecolor": "white",
            "showbackground": true,
            "ticks": "",
            "zerolinecolor": "white"
           },
           "zaxis": {
            "backgroundcolor": "#E5ECF6",
            "gridcolor": "white",
            "gridwidth": 2,
            "linecolor": "white",
            "showbackground": true,
            "ticks": "",
            "zerolinecolor": "white"
           }
          },
          "shapedefaults": {
           "line": {
            "color": "#2a3f5f"
           }
          },
          "ternary": {
           "aaxis": {
            "gridcolor": "white",
            "linecolor": "white",
            "ticks": ""
           },
           "baxis": {
            "gridcolor": "white",
            "linecolor": "white",
            "ticks": ""
           },
           "bgcolor": "#E5ECF6",
           "caxis": {
            "gridcolor": "white",
            "linecolor": "white",
            "ticks": ""
           }
          },
          "title": {
           "x": 0.05
          },
          "xaxis": {
           "automargin": true,
           "gridcolor": "white",
           "linecolor": "white",
           "ticks": "",
           "title": {
            "standoff": 15
           },
           "zerolinecolor": "white",
           "zerolinewidth": 2
          },
          "yaxis": {
           "automargin": true,
           "gridcolor": "white",
           "linecolor": "white",
           "ticks": "",
           "title": {
            "standoff": 15
           },
           "zerolinecolor": "white",
           "zerolinewidth": 2
          }
         }
        },
        "title": {
         "text": "Life expectancy vs. GDP, 2018"
        },
        "xaxis": {
         "anchor": "y",
         "domain": [
          0,
          1
         ],
         "range": [
          8.73731240511434,
          13.294568111909959
         ],
         "title": {
          "text": "GDP"
         },
         "type": "log"
        },
        "yaxis": {
         "anchor": "x",
         "domain": [
          0,
          1
         ],
         "range": [
          47.805,
          89.687
         ],
         "title": {
          "text": "Life expectancy"
         }
        }
       }
      },
      "text/html": [
       "<div>                            <div id=\"f716d38e-7820-4ac4-8f92-ea1e10766780\" class=\"plotly-graph-div\" style=\"height:525px; width:100%;\"></div>            <script type=\"text/javascript\">                require([\"plotly\"], function(Plotly) {                    window.PLOTLYENV=window.PLOTLYENV || {};                                    if (document.getElementById(\"f716d38e-7820-4ac4-8f92-ea1e10766780\")) {                    Plotly.newPlot(                        \"f716d38e-7820-4ac4-8f92-ea1e10766780\",                        [{\"customdata\":[[\"Afghanistan\"],[\"Armenia\"],[\"Azerbaijan\"],[\"Bahrain\"],[\"Bangladesh\"],[\"Cambodia\"],[\"China\"],[\"Georgia\"],[\"Hong Kong\"],[\"India\"],[\"Indonesia\"],[\"Iran\"],[\"Iraq\"],[\"Israel\"],[\"Japan\"],[\"Jordan\"],[\"Kazakhstan\"],[\"Kuwait\"],[\"Kyrgyzstan\"],[\"Laos\"],[\"Lebanon\"],[\"Malaysia\"],[\"Mongolia\"],[\"Myanmar\"],[\"Nepal\"],[\"North Korea\"],[\"Oman\"],[\"Pakistan\"],[\"Palestine\"],[\"Philippines\"],[\"Qatar\"],[\"Saudi Arabia\"],[\"Singapore\"],[\"South Korea\"],[\"Sri Lanka\"],[\"Syria\"],[\"Taiwan\"],[\"Tajikistan\"],[\"Thailand\"],[\"Turkey\"],[\"Turkmenistan\"],[\"United Arab Emirates\"],[\"Uzbekistan\"],[\"Vietnam\"],[\"Yemen\"]],\"hovertemplate\":\"Continent=Asia<br>GDP=%{x}<br>Life expectancy=%{y}<br>Entity=%{customdata[0]}<extra></extra>\",\"legendgroup\":\"Asia\",\"marker\":{\"color\":\"#636efa\",\"symbol\":\"circle\"},\"mode\":\"markers\",\"name\":\"Asia\",\"orientation\":\"v\",\"showlegend\":true,\"x\":[71911127564.71,33810496199.099102,165441451445.3961,61990945194.368004,661523974895.3889,58963374019.974495,18704622174087.15,47974927129.835396,374774017651.77924,9206757805540.303,3172361002927.7227,1391528153866.0566,493326538486.61035,276210636276.5407,4919393085959.739,114664366200.4326,463624696826.72644,271079861239.22382,32635863667.9075,45553064054.0868,86147078025.5952,783230616612.9447,42425522955.0522,313560831301.5014,76628913586.7456,40786156972.4302,176167870013.474,1169462057841.8496,25325207234.048203,868050573635.463,427723008078.3526,1695408771936.3015,393826707120.28534,1940820255051.15,247589040868.064,56756802283.001396,1059715387386.732,40411236293.4693,1155888204718.7598,1586711665587.8179,153986180266.13202,735784788595.2847,364395345741.08636,651063760815.9657,65116352950.0017],\"xaxis\":\"x\",\"y\":[64.486,74.945,72.864,77.163,72.32,69.57,76.704,73.6,84.687,69.416,71.509,76.479,70.454,82.819,84.47,74.405,73.236,75.398,71.321,67.61,78.875,75.997,69.689,66.867,70.478,72.095,77.633,67.114,73.895,71.095,80.1,74.998,83.458,82.846,76.812,71.779,80.283,70.879,76.931,77.437,68.073,77.814,71.573,75.317,66.096],\"yaxis\":\"y\",\"type\":\"scatter\"},{\"customdata\":[[\"Albania\"],[\"Austria\"],[\"Belarus\"],[\"Belgium\"],[\"Bosnia and Herzegovina\"],[\"Bulgaria\"],[\"Croatia\"],[\"Cyprus\"],[\"Czechia\"],[\"Denmark\"],[\"Estonia\"],[\"Finland\"],[\"France\"],[\"Germany\"],[\"Greece\"],[\"Hungary\"],[\"Iceland\"],[\"Ireland\"],[\"Italy\"],[\"Latvia\"],[\"Lithuania\"],[\"Luxembourg\"],[\"Malta\"],[\"Moldova\"],[\"Montenegro\"],[\"Netherlands\"],[\"North Macedonia\"],[\"Norway\"],[\"Poland\"],[\"Portugal\"],[\"Romania\"],[\"Russia\"],[\"Serbia\"],[\"Slovakia\"],[\"Slovenia\"],[\"Spain\"],[\"Sweden\"],[\"Switzerland\"],[\"Ukraine\"],[\"United Kingdom\"]],\"hovertemplate\":\"Continent=Europe<br>GDP=%{x}<br>Life expectancy=%{y}<br>Entity=%{customdata[0]}<extra></extra>\",\"legendgroup\":\"Europe\",\"marker\":{\"color\":\"#EF553B\",\"symbol\":\"circle\"},\"mode\":\"markers\",\"name\":\"Europe\",\"orientation\":\"v\",\"showlegend\":true,\"x\":[32010369415.3775,382223402803.0547,177022123255.524,456487880110.758,34770026115.4729,130061729668.922,91492138905.2829,32329393654.549202,327953720323.2036,266394671330.70328,36259279108.8537,214810334730.79248,2503169315457.6816,3838487448175.323,246754679734.4552,248733501647.8746,14626278084.534399,311693857941.588,2083406425434.3462,46886050942.8658,76672314044.59601,34700222491.2732,14068859916.262001,27337406545.575,12244769407.1164,809887419461.82,27233048531.722797,451485383830.152,1041146103590.645,277282306486.4384,392585669545.342,3595099462641.4683,124330949966.6157,147643349367.2848,60766117932.632996,1470662693336.76,454126897521.123,523240206958.78143,434203640781.6646,2555283728651.6367],\"xaxis\":\"x\",\"y\":[78.458,81.434,74.59,81.468,77.262,74.928,78.342,80.828,79.222,80.784,78.567,81.736,82.541,81.18,82.072,76.701,82.855,82.103,83.352,75.172,75.737,82.102,82.376,71.808,76.77,82.143,75.688,82.271,78.544,81.857,75.924,72.386,75.849,77.388,81.172,83.433,82.654,83.63,71.953,81.236],\"yaxis\":\"y\",\"type\":\"scatter\"},{\"customdata\":[[\"Algeria\"],[\"Angola\"],[\"Benin\"],[\"Botswana\"],[\"Burkina Faso\"],[\"Burundi\"],[\"Cameroon\"],[\"Cape Verde\"],[\"Central African Republic\"],[\"Chad\"],[\"Comoros\"],[\"Congo\"],[\"Cote d'Ivoire\"],[\"Democratic Republic of Congo\"],[\"Djibouti\"],[\"Egypt\"],[\"Equatorial Guinea\"],[\"Eswatini\"],[\"Ethiopia\"],[\"Gabon\"],[\"Gambia\"],[\"Ghana\"],[\"Guinea\"],[\"Guinea-Bissau\"],[\"Kenya\"],[\"Lesotho\"],[\"Liberia\"],[\"Libya\"],[\"Madagascar\"],[\"Malawi\"],[\"Mali\"],[\"Mauritania\"],[\"Mauritius\"],[\"Morocco\"],[\"Mozambique\"],[\"Namibia\"],[\"Niger\"],[\"Nigeria\"],[\"Rwanda\"],[\"Sao Tome and Principe\"],[\"Senegal\"],[\"Seychelles\"],[\"Sierra Leone\"],[\"South Africa\"],[\"Sudan\"],[\"Tanzania\"],[\"Togo\"],[\"Tunisia\"],[\"Uganda\"],[\"Zambia\"],[\"Zimbabwe\"]],\"hovertemplate\":\"Continent=Africa<br>GDP=%{x}<br>Life expectancy=%{y}<br>Entity=%{customdata[0]}<extra></extra>\",\"legendgroup\":\"Africa\",\"marker\":{\"color\":\"#00cc96\",\"symbol\":\"circle\"},\"mode\":\"markers\",\"name\":\"Africa\",\"orientation\":\"v\",\"showlegend\":true,\"x\":[600826944330.375,239436466540.89658,25498805957.180996,35709222668.1167,31397408339.077198,7279182572.5231,72825719194.3799,3714569337.024,2909433015.7374997,31673049404.673702,1435273202.6332,29969393271.5871,93098170691.85359,72246579818.7164,3160304791.0245004,1176871894602.3445,37343429492.598,9167699294.8332,200808018308.223,37327969739.61,4291680138.0708003,127018235302.1036,19943145460.6472,2814105516.1344004,173576883954.928,5758823728.2147,3943951638.7936,100267382728.70601,37492088543.725204,20259443226.243,31808247430.5005,15224517289.68,25519276601.4032,304486713080.5595,33412220661.3381,22140271185.66,21649703596.743103,1025925453148.8755,23734005492.3619,787192516.0439999,41492738185.9056,2867288856.1528,12881701098.605299,703091939294.896,141272277800.6124,161899062271.2276,11449924019.3855,131310002211.4595,87398829452.1496,61321542028.7618,23266776738.6224],\"xaxis\":\"x\",\"y\":[76.693,60.782,61.47,69.275,61.174,61.247,58.921,72.782,52.805,53.977,64.118,64.29,57.422,60.368,66.582,71.825,58.402,59.401,66.24,66.187,61.735,63.78,61.185,58.003,66.342,53.705,63.73,72.724,66.681,63.798,58.893,64.704,74.863,76.453,60.163,63.373,62.024,54.332,68.7,70.17,67.665,73.333,54.309,63.857,65.095,65.015,60.76,76.505,62.973,63.51,61.195],\"yaxis\":\"y\",\"type\":\"scatter\"},{\"customdata\":[[\"Argentina\"],[\"Bolivia\"],[\"Brazil\"],[\"Chile\"],[\"Colombia\"],[\"Ecuador\"],[\"Paraguay\"],[\"Peru\"],[\"Uruguay\"],[\"Venezuela\"]],\"hovertemplate\":\"Continent=South America<br>GDP=%{x}<br>Life expectancy=%{y}<br>Entity=%{customdata[0]}<extra></extra>\",\"legendgroup\":\"South America\",\"marker\":{\"color\":\"#ab63fa\",\"symbol\":\"circle\"},\"mode\":\"markers\",\"name\":\"South America\",\"orientation\":\"v\",\"showlegend\":true,\"x\":[823182494156.565,76018066442.244,2939601443407.392,414003820567.65643,672661461742.272,181757507346.6109,64962369457.83959,393790561640.7455,69626802256.44,309379596046.4202],\"xaxis\":\"x\",\"y\":[76.52,71.239,75.672,80.042,77.109,76.8,74.131,76.516,77.77,72.128],\"yaxis\":\"y\",\"type\":\"scatter\"},{\"customdata\":[[\"Australia\"],[\"New Zealand\"]],\"hovertemplate\":\"Continent=Oceania<br>GDP=%{x}<br>Life expectancy=%{y}<br>Entity=%{customdata[0]}<extra></extra>\",\"legendgroup\":\"Oceania\",\"marker\":{\"color\":\"#FFA15A\",\"symbol\":\"circle\"},\"mode\":\"markers\",\"name\":\"Oceania\",\"orientation\":\"v\",\"showlegend\":true,\"x\":[1240694865083.6929,167603923504.75528],\"xaxis\":\"x\",\"y\":[83.281,82.145],\"yaxis\":\"y\",\"type\":\"scatter\"},{\"customdata\":[[\"Barbados\"],[\"Canada\"],[\"Costa Rica\"],[\"Cuba\"],[\"Dominica\"],[\"Dominican Republic\"],[\"El Salvador\"],[\"Guatemala\"],[\"Haiti\"],[\"Honduras\"],[\"Jamaica\"],[\"Mexico\"],[\"Nicaragua\"],[\"Panama\"],[\"Puerto Rico\"],[\"Saint Lucia\"],[\"Trinidad and Tobago\"],[\"United States\"]],\"hovertemplate\":\"Continent=North America<br>GDP=%{x}<br>Life expectancy=%{y}<br>Entity=%{customdata[0]}<extra></extra>\",\"legendgroup\":\"North America\",\"marker\":{\"color\":\"#19d3f3\",\"symbol\":\"circle\"},\"mode\":\"markers\",\"name\":\"North America\",\"orientation\":\"v\",\"showlegend\":true,\"x\":[3438300344.3519998,1663488833277.8728,73423089256.5777,94397223221.5698,646150587.4361999,169103408609.2265,55206795110.66801,127670599314.183,19232463928.5056,48336795355.114204,21345128639.3665,2081400727379.778,32020251241.5544,94552379927.8376,106617830962.0934,1905364849.221,39679138181.0803,18099786471818.863],\"xaxis\":\"x\",\"y\":[79.081,82.315,80.095,78.726,74.806,73.892,73.096,74.063,63.66,75.088,74.368,74.992,74.275,78.329,79.952,76.057,73.38,78.851],\"yaxis\":\"y\",\"type\":\"scatter\"},{\"hovertemplate\":\"<b>OLS trendline</b><br>Life expectancy = 4.09679 * log10(GDP) + 27.3289<br>R<sup>2</sup>=0.201039<br><br>GDP=%{x}<br>Life expectancy=%{y} <b>(trend)</b><extra></extra>\",\"legendgroup\":\"Overall Trendline\",\"line\":{\"color\":\"black\"},\"mode\":\"lines\",\"name\":\"Overall Trendline\",\"showlegend\":true,\"x\":[646150587.4361999,787192516.0439999,1435273202.6332,1905364849.221,2814105516.1344004,2867288856.1528,2909433015.7374997,3160304791.0245004,3438300344.3519998,3714569337.024,3943951638.7936,4291680138.0708003,5758823728.2147,7279182572.5231,9167699294.8332,11449924019.3855,12244769407.1164,12881701098.605299,14068859916.262001,14626278084.534399,15224517289.68,19232463928.5056,19943145460.6472,20259443226.243,21345128639.3665,21649703596.743103,22140271185.66,23266776738.6224,23734005492.3619,25325207234.048203,25498805957.180996,25519276601.4032,27233048531.722797,27337406545.575,29969393271.5871,31397408339.077198,31673049404.673702,31808247430.5005,32010369415.3775,32020251241.5544,32329393654.549202,32635863667.9075,33412220661.3381,33810496199.099102,34700222491.2732,34770026115.4729,35709222668.1167,36259279108.8537,37327969739.61,37343429492.598,37492088543.725204,39679138181.0803,40411236293.4693,40786156972.4302,41492738185.9056,42425522955.0522,45553064054.0868,46886050942.8658,47974927129.835396,48336795355.114204,55206795110.66801,56756802283.001396,58963374019.974495,60766117932.632996,61321542028.7618,61990945194.368004,64962369457.83959,65116352950.0017,69626802256.44,71911127564.71,72246579818.7164,72825719194.3799,73423089256.5777,76018066442.244,76628913586.7456,76672314044.59601,86147078025.5952,87398829452.1496,91492138905.2829,93098170691.85359,94397223221.5698,94552379927.8376,100267382728.70601,106617830962.0934,114664366200.4326,124330949966.6157,127018235302.1036,127670599314.183,130061729668.922,131310002211.4595,141272277800.6124,147643349367.2848,153986180266.13202,161899062271.2276,165441451445.3961,167603923504.75528,169103408609.2265,173576883954.928,176167870013.474,177022123255.524,181757507346.6109,200808018308.223,214810334730.79248,239436466540.89658,246754679734.4552,247589040868.064,248733501647.8746,266394671330.70328,271079861239.22382,276210636276.5407,277282306486.4384,304486713080.5595,309379596046.4202,311693857941.588,313560831301.5014,327953720323.2036,364395345741.08636,374774017651.77924,382223402803.0547,392585669545.342,393790561640.7455,393826707120.28534,414003820567.65643,427723008078.3526,434203640781.6646,451485383830.152,454126897521.123,456487880110.758,463624696826.72644,493326538486.61035,523240206958.78143,600826944330.375,651063760815.9657,661523974895.3889,672661461742.272,703091939294.896,735784788595.2847,783230616612.9447,809887419461.82,823182494156.565,868050573635.463,1025925453148.8755,1041146103590.645,1059715387386.732,1155888204718.7598,1169462057841.8496,1176871894602.3445,1240694865083.6929,1391528153866.0566,1470662693336.76,1586711665587.8179,1663488833277.8728,1695408771936.3015,1940820255051.15,2081400727379.778,2083406425434.3462,2503169315457.6816,2555283728651.6367,2939601443407.392,3172361002927.7227,3595099462641.4683,3838487448175.323,4919393085959.739,9206757805540.303,18099786471818.863,18704622174087.15],\"y\":[63.42295264565534,63.77424102365133,64.84290368635402,65.3469874400639,66.04082902900879,66.07414031758998,66.10010133568986,66.24726054030333,66.39726387824983,66.53477125696145,66.64138249613752,66.79171736315159,67.31490390516932,67.731747544425,68.14215480067685,68.53766816417607,68.65708144243771,68.74730345150014,68.90415189740796,68.97328491494929,69.04460883298987,69.46039782723489,69.52495804585169,69.55295489399393,69.64583434293274,69.67104262638549,69.7109084187976,69.79920772054625,69.83458275386874,69.95003838136098,69.96219288801464,69.96362068176516,70.07926448092707,70.08606946063043,70.24961596154466,70.33243606810376,70.34798780060581,70.355566301248,70.36683634739751,70.36738551837486,70.38448070531285,70.40126751323736,70.44309669043304,70.46417960887827,70.51039433603184,70.51396984062396,70.56139174689278,70.58858939338303,70.64027124274764,70.64100796933411,70.64807671300863,70.74895033669384,70.78147846950615,70.79790926043546,70.82846848898981,70.86802344738729,70.99457490773523,71.04589155559393,71.08673929741602,71.10010929778937,71.33655426537834,71.38581974168315,71.45368065242818,71.50726325399711,71.52345203017703,71.5427691798842,71.62607167708578,71.63028404387491,71.74944485801382,71.80688042329139,71.8151608307271,71.82936641112656,71.84390129639134,71.90569796424174,71.91993779163025,71.92094520280808,72.12825092205938,72.1539175801356,72.23535425825646,72.26631520786844,72.29096998803269,72.29389200504718,72.39830778434562,72.5075698629887,72.637022841666,72.78102821546943,72.81907438371627,72.82818901519177,72.86120352783443,72.87819817605578,73.0083087183994,73.08679069571005,73.16163028213555,73.25078704506424,73.28929686977838,73.31240215193861,73.32824927858304,73.37470494201759,73.40106703500662,73.40967374495898,73.45664268159697,73.63398738973756,73.75391733631571,73.94702006590926,74.0005860254136,74.00659200056805,74.01479732501721,74.13684583675123,74.16786559325398,74.2012263477609,74.20811616478952,74.37463508687995,74.40299848766793,74.41625806324416,74.42688334681546,74.50673288807252,74.69420308933967,74.74417022369548,74.77918877084927,74.82678187599146,74.83223413140337,74.83239743540875,74.92129445187416,74.97929789295841,75.00605341068132,75.07549497261206,75.08587431573969,75.09510039410453,75.12270174647183,75.23318365423032,75.3379247834182,75.58393006185008,75.72680203766032,75.75516029244042,75.78486595011489,75.86358812612228,75.94445339048727,76.05563557927934,76.11518241885423,76.14415276432614,76.23857929100836,76.53588656676943,76.56208912082141,76.59354248611103,76.74810043233242,76.76887240654244,76.78011012984308,76.87407327309296,77.07820411149447,77.17661343912499,77.31174582778482,77.39581965342703,77.42963675895246,77.67016298293441,77.79458409541826,77.79629777161949,78.12287846350719,78.15954024548769,78.40882717888266,78.54440698461494,78.76697868548104,78.88352916118642,79.3249640924312,80.44009080257834,81.64277223917213,81.70125592710953],\"type\":\"scatter\",\"xaxis\":\"x\",\"yaxis\":\"y\"}],                        {\"template\":{\"data\":{\"bar\":[{\"error_x\":{\"color\":\"#2a3f5f\"},\"error_y\":{\"color\":\"#2a3f5f\"},\"marker\":{\"line\":{\"color\":\"#E5ECF6\",\"width\":0.5},\"pattern\":{\"fillmode\":\"overlay\",\"size\":10,\"solidity\":0.2}},\"type\":\"bar\"}],\"barpolar\":[{\"marker\":{\"line\":{\"color\":\"#E5ECF6\",\"width\":0.5},\"pattern\":{\"fillmode\":\"overlay\",\"size\":10,\"solidity\":0.2}},\"type\":\"barpolar\"}],\"carpet\":[{\"aaxis\":{\"endlinecolor\":\"#2a3f5f\",\"gridcolor\":\"white\",\"linecolor\":\"white\",\"minorgridcolor\":\"white\",\"startlinecolor\":\"#2a3f5f\"},\"baxis\":{\"endlinecolor\":\"#2a3f5f\",\"gridcolor\":\"white\",\"linecolor\":\"white\",\"minorgridcolor\":\"white\",\"startlinecolor\":\"#2a3f5f\"},\"type\":\"carpet\"}],\"choropleth\":[{\"colorbar\":{\"outlinewidth\":0,\"ticks\":\"\"},\"type\":\"choropleth\"}],\"contour\":[{\"colorbar\":{\"outlinewidth\":0,\"ticks\":\"\"},\"colorscale\":[[0.0,\"#0d0887\"],[0.1111111111111111,\"#46039f\"],[0.2222222222222222,\"#7201a8\"],[0.3333333333333333,\"#9c179e\"],[0.4444444444444444,\"#bd3786\"],[0.5555555555555556,\"#d8576b\"],[0.6666666666666666,\"#ed7953\"],[0.7777777777777778,\"#fb9f3a\"],[0.8888888888888888,\"#fdca26\"],[1.0,\"#f0f921\"]],\"type\":\"contour\"}],\"contourcarpet\":[{\"colorbar\":{\"outlinewidth\":0,\"ticks\":\"\"},\"type\":\"contourcarpet\"}],\"heatmap\":[{\"colorbar\":{\"outlinewidth\":0,\"ticks\":\"\"},\"colorscale\":[[0.0,\"#0d0887\"],[0.1111111111111111,\"#46039f\"],[0.2222222222222222,\"#7201a8\"],[0.3333333333333333,\"#9c179e\"],[0.4444444444444444,\"#bd3786\"],[0.5555555555555556,\"#d8576b\"],[0.6666666666666666,\"#ed7953\"],[0.7777777777777778,\"#fb9f3a\"],[0.8888888888888888,\"#fdca26\"],[1.0,\"#f0f921\"]],\"type\":\"heatmap\"}],\"heatmapgl\":[{\"colorbar\":{\"outlinewidth\":0,\"ticks\":\"\"},\"colorscale\":[[0.0,\"#0d0887\"],[0.1111111111111111,\"#46039f\"],[0.2222222222222222,\"#7201a8\"],[0.3333333333333333,\"#9c179e\"],[0.4444444444444444,\"#bd3786\"],[0.5555555555555556,\"#d8576b\"],[0.6666666666666666,\"#ed7953\"],[0.7777777777777778,\"#fb9f3a\"],[0.8888888888888888,\"#fdca26\"],[1.0,\"#f0f921\"]],\"type\":\"heatmapgl\"}],\"histogram\":[{\"marker\":{\"pattern\":{\"fillmode\":\"overlay\",\"size\":10,\"solidity\":0.2}},\"type\":\"histogram\"}],\"histogram2d\":[{\"colorbar\":{\"outlinewidth\":0,\"ticks\":\"\"},\"colorscale\":[[0.0,\"#0d0887\"],[0.1111111111111111,\"#46039f\"],[0.2222222222222222,\"#7201a8\"],[0.3333333333333333,\"#9c179e\"],[0.4444444444444444,\"#bd3786\"],[0.5555555555555556,\"#d8576b\"],[0.6666666666666666,\"#ed7953\"],[0.7777777777777778,\"#fb9f3a\"],[0.8888888888888888,\"#fdca26\"],[1.0,\"#f0f921\"]],\"type\":\"histogram2d\"}],\"histogram2dcontour\":[{\"colorbar\":{\"outlinewidth\":0,\"ticks\":\"\"},\"colorscale\":[[0.0,\"#0d0887\"],[0.1111111111111111,\"#46039f\"],[0.2222222222222222,\"#7201a8\"],[0.3333333333333333,\"#9c179e\"],[0.4444444444444444,\"#bd3786\"],[0.5555555555555556,\"#d8576b\"],[0.6666666666666666,\"#ed7953\"],[0.7777777777777778,\"#fb9f3a\"],[0.8888888888888888,\"#fdca26\"],[1.0,\"#f0f921\"]],\"type\":\"histogram2dcontour\"}],\"mesh3d\":[{\"colorbar\":{\"outlinewidth\":0,\"ticks\":\"\"},\"type\":\"mesh3d\"}],\"parcoords\":[{\"line\":{\"colorbar\":{\"outlinewidth\":0,\"ticks\":\"\"}},\"type\":\"parcoords\"}],\"pie\":[{\"automargin\":true,\"type\":\"pie\"}],\"scatter\":[{\"marker\":{\"colorbar\":{\"outlinewidth\":0,\"ticks\":\"\"}},\"type\":\"scatter\"}],\"scatter3d\":[{\"line\":{\"colorbar\":{\"outlinewidth\":0,\"ticks\":\"\"}},\"marker\":{\"colorbar\":{\"outlinewidth\":0,\"ticks\":\"\"}},\"type\":\"scatter3d\"}],\"scattercarpet\":[{\"marker\":{\"colorbar\":{\"outlinewidth\":0,\"ticks\":\"\"}},\"type\":\"scattercarpet\"}],\"scattergeo\":[{\"marker\":{\"colorbar\":{\"outlinewidth\":0,\"ticks\":\"\"}},\"type\":\"scattergeo\"}],\"scattergl\":[{\"marker\":{\"colorbar\":{\"outlinewidth\":0,\"ticks\":\"\"}},\"type\":\"scattergl\"}],\"scattermapbox\":[{\"marker\":{\"colorbar\":{\"outlinewidth\":0,\"ticks\":\"\"}},\"type\":\"scattermapbox\"}],\"scatterpolar\":[{\"marker\":{\"colorbar\":{\"outlinewidth\":0,\"ticks\":\"\"}},\"type\":\"scatterpolar\"}],\"scatterpolargl\":[{\"marker\":{\"colorbar\":{\"outlinewidth\":0,\"ticks\":\"\"}},\"type\":\"scatterpolargl\"}],\"scatterternary\":[{\"marker\":{\"colorbar\":{\"outlinewidth\":0,\"ticks\":\"\"}},\"type\":\"scatterternary\"}],\"surface\":[{\"colorbar\":{\"outlinewidth\":0,\"ticks\":\"\"},\"colorscale\":[[0.0,\"#0d0887\"],[0.1111111111111111,\"#46039f\"],[0.2222222222222222,\"#7201a8\"],[0.3333333333333333,\"#9c179e\"],[0.4444444444444444,\"#bd3786\"],[0.5555555555555556,\"#d8576b\"],[0.6666666666666666,\"#ed7953\"],[0.7777777777777778,\"#fb9f3a\"],[0.8888888888888888,\"#fdca26\"],[1.0,\"#f0f921\"]],\"type\":\"surface\"}],\"table\":[{\"cells\":{\"fill\":{\"color\":\"#EBF0F8\"},\"line\":{\"color\":\"white\"}},\"header\":{\"fill\":{\"color\":\"#C8D4E3\"},\"line\":{\"color\":\"white\"}},\"type\":\"table\"}]},\"layout\":{\"annotationdefaults\":{\"arrowcolor\":\"#2a3f5f\",\"arrowhead\":0,\"arrowwidth\":1},\"autotypenumbers\":\"strict\",\"coloraxis\":{\"colorbar\":{\"outlinewidth\":0,\"ticks\":\"\"}},\"colorscale\":{\"diverging\":[[0,\"#8e0152\"],[0.1,\"#c51b7d\"],[0.2,\"#de77ae\"],[0.3,\"#f1b6da\"],[0.4,\"#fde0ef\"],[0.5,\"#f7f7f7\"],[0.6,\"#e6f5d0\"],[0.7,\"#b8e186\"],[0.8,\"#7fbc41\"],[0.9,\"#4d9221\"],[1,\"#276419\"]],\"sequential\":[[0.0,\"#0d0887\"],[0.1111111111111111,\"#46039f\"],[0.2222222222222222,\"#7201a8\"],[0.3333333333333333,\"#9c179e\"],[0.4444444444444444,\"#bd3786\"],[0.5555555555555556,\"#d8576b\"],[0.6666666666666666,\"#ed7953\"],[0.7777777777777778,\"#fb9f3a\"],[0.8888888888888888,\"#fdca26\"],[1.0,\"#f0f921\"]],\"sequentialminus\":[[0.0,\"#0d0887\"],[0.1111111111111111,\"#46039f\"],[0.2222222222222222,\"#7201a8\"],[0.3333333333333333,\"#9c179e\"],[0.4444444444444444,\"#bd3786\"],[0.5555555555555556,\"#d8576b\"],[0.6666666666666666,\"#ed7953\"],[0.7777777777777778,\"#fb9f3a\"],[0.8888888888888888,\"#fdca26\"],[1.0,\"#f0f921\"]]},\"colorway\":[\"#636efa\",\"#EF553B\",\"#00cc96\",\"#ab63fa\",\"#FFA15A\",\"#19d3f3\",\"#FF6692\",\"#B6E880\",\"#FF97FF\",\"#FECB52\"],\"font\":{\"color\":\"#2a3f5f\"},\"geo\":{\"bgcolor\":\"white\",\"lakecolor\":\"white\",\"landcolor\":\"#E5ECF6\",\"showlakes\":true,\"showland\":true,\"subunitcolor\":\"white\"},\"hoverlabel\":{\"align\":\"left\"},\"hovermode\":\"closest\",\"mapbox\":{\"style\":\"light\"},\"paper_bgcolor\":\"white\",\"plot_bgcolor\":\"#E5ECF6\",\"polar\":{\"angularaxis\":{\"gridcolor\":\"white\",\"linecolor\":\"white\",\"ticks\":\"\"},\"bgcolor\":\"#E5ECF6\",\"radialaxis\":{\"gridcolor\":\"white\",\"linecolor\":\"white\",\"ticks\":\"\"}},\"scene\":{\"xaxis\":{\"backgroundcolor\":\"#E5ECF6\",\"gridcolor\":\"white\",\"gridwidth\":2,\"linecolor\":\"white\",\"showbackground\":true,\"ticks\":\"\",\"zerolinecolor\":\"white\"},\"yaxis\":{\"backgroundcolor\":\"#E5ECF6\",\"gridcolor\":\"white\",\"gridwidth\":2,\"linecolor\":\"white\",\"showbackground\":true,\"ticks\":\"\",\"zerolinecolor\":\"white\"},\"zaxis\":{\"backgroundcolor\":\"#E5ECF6\",\"gridcolor\":\"white\",\"gridwidth\":2,\"linecolor\":\"white\",\"showbackground\":true,\"ticks\":\"\",\"zerolinecolor\":\"white\"}},\"shapedefaults\":{\"line\":{\"color\":\"#2a3f5f\"}},\"ternary\":{\"aaxis\":{\"gridcolor\":\"white\",\"linecolor\":\"white\",\"ticks\":\"\"},\"baxis\":{\"gridcolor\":\"white\",\"linecolor\":\"white\",\"ticks\":\"\"},\"bgcolor\":\"#E5ECF6\",\"caxis\":{\"gridcolor\":\"white\",\"linecolor\":\"white\",\"ticks\":\"\"}},\"title\":{\"x\":0.05},\"xaxis\":{\"automargin\":true,\"gridcolor\":\"white\",\"linecolor\":\"white\",\"ticks\":\"\",\"title\":{\"standoff\":15},\"zerolinecolor\":\"white\",\"zerolinewidth\":2},\"yaxis\":{\"automargin\":true,\"gridcolor\":\"white\",\"linecolor\":\"white\",\"ticks\":\"\",\"title\":{\"standoff\":15},\"zerolinecolor\":\"white\",\"zerolinewidth\":2}}},\"xaxis\":{\"anchor\":\"y\",\"domain\":[0.0,1.0],\"title\":{\"text\":\"GDP\"},\"type\":\"log\",\"range\":[8.73731240511434,13.294568111909959]},\"yaxis\":{\"anchor\":\"x\",\"domain\":[0.0,1.0],\"title\":{\"text\":\"Life expectancy\"},\"range\":[47.805,89.687]},\"legend\":{\"title\":{\"text\":\"Continent\"},\"tracegroupgap\":0},\"title\":{\"text\":\"Life expectancy vs. GDP, 2018\"}},                        {\"responsive\": true}                    ).then(function(){\n",
       "                            \n",
       "var gd = document.getElementById('f716d38e-7820-4ac4-8f92-ea1e10766780');\n",
       "var x = new MutationObserver(function (mutations, observer) {{\n",
       "        var display = window.getComputedStyle(gd).display;\n",
       "        if (!display || display === 'none') {{\n",
       "            console.log([gd, 'removed!']);\n",
       "            Plotly.purge(gd);\n",
       "            observer.disconnect();\n",
       "        }}\n",
       "}});\n",
       "\n",
       "// Listen for the removal of the full notebook cells\n",
       "var notebookContainer = gd.closest('#notebook-container');\n",
       "if (notebookContainer) {{\n",
       "    x.observe(notebookContainer, {childList: true});\n",
       "}}\n",
       "\n",
       "// Listen for the clearing of the current output cell\n",
       "var outputEl = gd.closest('.output');\n",
       "if (outputEl) {{\n",
       "    x.observe(outputEl, {childList: true});\n",
       "}}\n",
       "\n",
       "                        })                };                });            </script>        </div>"
      ]
     },
     "metadata": {},
     "output_type": "display_data"
    }
   ],
   "source": [
    "#Plot life expectancy vs. GDP\n",
    "plotFigure(GDP('life-expectancy-vs-gdp-per-capita.csv',\n",
    "          'GDP per capita',\n",
    "          'Life expectancy',\n",
    "          'Life expectancy vs. GDP'), 'GDP', 'Life expectancy', \n",
    "         'Life expectancy vs. GDP', pow(10,8), pow(10,12), 5, 5, 4)"
   ]
  },
  {
   "cell_type": "markdown",
   "metadata": {},
   "source": [
    "#### G. Related to question f, what would happen if you use GDP per capita as an indicator of strong economy? Explain the results you obtained, and discuss any insights you get from comparing the results of g and f. [1p]"
   ]
  },
  {
   "cell_type": "code",
   "execution_count": 24,
   "metadata": {},
   "outputs": [
    {
     "ename": "SyntaxError",
     "evalue": "invalid syntax (Temp/ipykernel_12264/1382377100.py, line 1)",
     "output_type": "error",
     "traceback": [
      "\u001b[1;36m  File \u001b[1;32m\"C:\\Users\\Lenia\\AppData\\Local\\Temp/ipykernel_12264/1382377100.py\"\u001b[1;36m, line \u001b[1;32m1\u001b[0m\n\u001b[1;33m    The correlation of life expectancy and GDP per capita is stronger than that of life expectancy and GDP only.\u001b[0m\n\u001b[1;37m        ^\u001b[0m\n\u001b[1;31mSyntaxError\u001b[0m\u001b[1;31m:\u001b[0m invalid syntax\n"
     ]
    }
   ],
   "source": [
    "The correlation of life expectancy and GDP per capita is stronger than that of life expectancy and GDP only.\n",
    "This is clear when comparing the same year with each other. The variance is visabily greater in the graph from \n",
    "1(f) than that of 1(a). There are however some similarities found in both graphs. For example, the majority of countries\n",
    "in Africa tend to show up below the regression line and more left of the graph. The regression line in \n",
    "1(a) is also steaper, indicating a stronger relationship. Using GDP per capity can thus provide a \n",
    "clearer indication of the country's prosperity."
   ]
  },
  {
   "cell_type": "markdown",
   "metadata": {},
   "source": [
    "## Task 2 - Download some other data sets, e.g. related to happiness and life satisfaction, trust, corruption, etc. <br>\n",
    "### A.\tThink of several meaningful questions that can be answered with these data, make several informative visualisations to answer those questions. State any assumptions and motivate decisions that you make when selecting data to be plotted, and in combining data. [2.5p] "
   ]
  },
  {
   "cell_type": "markdown",
   "metadata": {},
   "source": [
    "#### 1. Happiness vs. GDP per capita\n",
    "__Questions__\n",
    "1. _Which countries have high life satisfaction but have low GDP per capita?_ <br>\n",
    "..."
   ]
  },
  {
   "cell_type": "code",
   "execution_count": null,
   "metadata": {},
   "outputs": [],
   "source": [
    "#Plot life satisfaction  vs. GDP per capita\n",
    "plotFigure(GDPperCapita('gdp-vs-happiness.csv',\n",
    "          'GDP per capita, PPP (constant 2017 international $)',\n",
    "          'Life satisfaction in Cantril Ladder (World Happiness Report 2021)',\n",
    "          'Happiness vs. GDP per capita'), 'GDP per capita ($)', \n",
    "           'Life satisfaction (scale: 0-10)', 'Happiness vs. GDP per capita', 30, pow(10,4), 0.5, 0.5, 5)"
   ]
  },
  {
   "cell_type": "code",
   "execution_count": null,
   "metadata": {},
   "outputs": [],
   "source": [
    "medianFilter(GDPperCapita('gdp-vs-happiness.csv',\n",
    "          'GDP per capita, PPP (constant 2017 international $)',\n",
    "          'Life satisfaction in Cantril Ladder (World Happiness Report 2021)',\n",
    "          'Happiness vs. GDP per capita'), 'Life satisfaction', 6)"
   ]
  },
  {
   "cell_type": "markdown",
   "metadata": {},
   "source": [
    "---"
   ]
  },
  {
   "cell_type": "markdown",
   "metadata": {},
   "source": [
    "#### 2. Children per women vs. GDP per capita\n",
    "__Questions__\n",
    "1. _Is the number of children per women positively correlated to the GDP per capita? (increase with increasing GDP)_ <br>\n",
    "No, ..."
   ]
  },
  {
   "cell_type": "code",
   "execution_count": null,
   "metadata": {
    "scrolled": false
   },
   "outputs": [],
   "source": [
    "#Plot children per women vs. GDP per capita\n",
    "plotFigure(GDPperCapita('children-per-woman-by-gdp-per-capita.csv',\n",
    "          'Output-side real GDP per capita (gdppc_o) (PWT 9.1 (2019))',\n",
    "          'Estimates, 1950 - 2020: Annually interpolated demographic indicators - Total fertility (live births per woman)',\n",
    "          'Children per woman vs. GDP per capita'), 'GDP per capita ($)', \n",
    "           'Children per woman', 'Children per woman vs. GDP per capita', 20, pow(10,4), 0.5, 0.5, 6)"
   ]
  },
  {
   "cell_type": "markdown",
   "metadata": {},
   "source": [
    "---"
   ]
  },
  {
   "cell_type": "markdown",
   "metadata": {},
   "source": [
    "#### 3. Share of adults who smoke vs. GDP per capita\n",
    "__Questions__\n",
    "1. _Is there a trend between the share of adults who smoke vs. GDP per capita ?_"
   ]
  },
  {
   "cell_type": "code",
   "execution_count": null,
   "metadata": {},
   "outputs": [],
   "source": [
    "#Plot share of adults who smoke vs. GDP per capita\n",
    "plotFigure(GDPperCapita('share-of-adults-who-are-smoking-by-level-of-prosperity.csv',\n",
    "           'GDP per capita, PPP (constant 2017 international $)',\n",
    "          'Prevalence of current tobacco use (% of adults)',\n",
    "          'Share of adults who are smoking vs. GDP per capita'), 'GDP per capita ($)', \n",
    "           'Adults who smoke (% of adults)', 'Share of adults who are smoking vs. GDP per capita', \n",
    "           25, pow(10,4), 2, 2, 7)"
   ]
  },
  {
   "cell_type": "markdown",
   "metadata": {},
   "source": [
    "---"
   ]
  },
  {
   "cell_type": "markdown",
   "metadata": {},
   "source": [
    "#### 4. Medical doctors per 1,000 people vs. GDP per capita\n",
    "__Questions__\n",
    "1. _..._"
   ]
  },
  {
   "cell_type": "code",
   "execution_count": null,
   "metadata": {},
   "outputs": [],
   "source": [
    "# Plot Medical doctors per 1,000 people vs. GDP per capita\n",
    "plotFigure(GDPperCapita('medical-doctors-per-1000-people-vs-gdp-per-capita.csv',\n",
    "           'GDP per capita, PPP (constant 2017 international $)',\n",
    "          'Physicians (per 1,000 people)',\n",
    "          'Medical doctors per 1000 people vs. GDP per capita'), 'GDP per capita ($)', \n",
    "           'Medical doctors (per 1,000 people)', 'Medical doctors per 1000 people vs. GDP per capita',\n",
    "          25, pow(10,4), 1, 0.5, 8)"
   ]
  },
  {
   "cell_type": "markdown",
   "metadata": {},
   "source": [
    "---"
   ]
  },
  {
   "cell_type": "markdown",
   "metadata": {},
   "source": [
    "#### 5. Child mortality vs. GDP per capita\n",
    "> Child mortality is defined as the number of children born alive that die before their 5th birthday. <br>\n",
    "\n",
    "__Questions__ <br>\n",
    "1. _How has child mortality evolved from 1986 to 2016 (30 years)?_"
   ]
  },
  {
   "cell_type": "code",
   "execution_count": null,
   "metadata": {},
   "outputs": [],
   "source": [
    "# Plot child mortality vs. GDP per capita\n",
    "plotFigure(GDPperCapita('child-mortality-gdp-per-capita.csv',\n",
    "           'GDP per capita',\n",
    "          'Child mortality (Select Gapminder, v10) (2017)',\n",
    "          'Child mortality vs. GDP per capita'), 'GDP per capita ($)', \n",
    "           'Child mortality rate (% children < 5 y.o.)', 'Child mortality vs. GDP per capita',\n",
    "          25, pow(10, 4), 3, 1, 9)"
   ]
  },
  {
   "cell_type": "code",
   "execution_count": null,
   "metadata": {},
   "outputs": [],
   "source": [
    "# Plot child mortality vs. GDP per capita\n",
    "plotFigure(GDPperCapita('child-mortality-gdp-per-capita.csv',\n",
    "           'GDP per capita',\n",
    "          'Child mortality (Select Gapminder, v10) (2017)',\n",
    "          'Child mortality vs. GDP per capita'), 'GDP per capita ($)', \n",
    "           'Child mortality rate (% children < 5 y.o.)', 'Child mortality vs. GDP per capita',\n",
    "          25, pow(10, 4), 3, 1, 9)"
   ]
  },
  {
   "cell_type": "markdown",
   "metadata": {},
   "source": [
    "---"
   ]
  },
  {
   "cell_type": "markdown",
   "metadata": {},
   "source": [
    "#### B. Discuss any observations that you make, or insights obtained, from the data visualisations. [2p]"
   ]
  },
  {
   "cell_type": "markdown",
   "metadata": {},
   "source": []
  },
  {
   "cell_type": "markdown",
   "metadata": {},
   "source": [
    "## References\n",
    "#### Task 1\n",
    "1. Data was compiled by Our World in Data (2022): _Life expectancy vs. GDP per capita._ [online] Available at: <https://ourworldindata.org/grapher/life-expectancy-years-vs-real-gdp-per-capita-2011us> [Accessed 20 January 2022]. <br> Based on estimates by:\n",
    "    1. Life expectancy: James C. Riley (2005) – Estimates of Regional and Global Life Expectancy, 1800–2001. Issue Population and Development Review. Population and Development Review. Volume 31, Issue 3, pages 537–543, September 2005., Zijdeman, Richard; Ribeira da Silva, Filipa, 2015, \"Life Expectancy at Birth (Total)\", http://hdl.handle.net/10622/LKYT53, IISH Dataverse, V1, and UN Population Division (2019)\n",
    "    2. GDP per capita: Bolt, Jutta and Jan Luiten van Zanden (2020), _“Maddison style estimates of the evolution of the world economy. A new 2020 update”._\n",
    "2. Plotly. 2022. _Plotly Python Graphing Library_. [online] Available at: <https://plotly.com/python/> [Accessed 23 January 2022].\n",
    "3. Plotly. 2022. _Linear Fits_. [online] Available at: <https://plotly.com/python/linear-fits/> [Accessed 23 January 2022].\n",
    "\n",
    "#### Task 2\n",
    "1. Data compiled by Our World in Data (2022): _Self-reported Life Satisfaction vs GDP per capita._ [online] Available at: <https://ourworldindata.org/grapher/gdp-vs-happiness> [Accessed 20 January 2022]. <br> Based on estimates by:\n",
    "    1. Life satisfaction: World Happiness Report (2021) [online] Available at: https://worldhappiness.report/ed/2021/#appendices-and-data [Accessed 20 January 2022].\n",
    "    2. GDP per capita: International Comparison Program - World Bank, World Development Indicators - World Bank, Eurostat-OECD PPP Programme (2021) [online] Available at: \thttp://data.worldbank.org/data-catalog/world-development-indicators [Accessed 20 January 2022].\n",
    "2. Data compiled by Our World in Data. 2022. _Children per woman by GDP per capita._ [online] Available at: <https://ourworldindata.org/grapher/children-per-woman-by-gdp-per-capita> [Accessed 20 January 2022]. <br> Based on estimates by:\n",
    "    1. Children per woman: United Nations, Department of Economic and Social Affairs, Population Division (2019). World Population Prospects: The 2019 Revision, DVD Edition. [online] Available at: https://population.un.org/wpp2019/Download/Standard/Interpolated/ [Accessed 20 January 2022].\n",
    "    2. GDP per capita: Feenstra, Robert C., Robert Inklaar and Marcel P. Timmer (2015), \"The Next Generation of the Penn World Table\" American Economic Review, 105(10), 3150-3182, available for download at www.ggdc.net/pwt. PWT v9.1\n",
    "3. Data compiled by Our World in Data. 2022. _Share of adults who smoke vs GDP per capita._ [online] Available at: <https://ourworldindata.org/grapher/share-of-adults-who-are-smoking-by-level-of-prosperity> [Accessed 23 January 2022]. <br> Based on estimates by:\n",
    "    1. Share of adults who smoke: Global Health Observatory Data Repository - World Health Organization (2021) [online] Available at: http://data.worldbank.org/data-catalog/world-development-indicators [Accessed 23 January 2022].\n",
    "    2. GDP per capita: International Comparison Program - World Bank, World Development Indicators - World Bank, Eurostat-OECD PPP Programme (2021). [online] Available at: http://data.worldbank.org/data-catalog/world-development-indicators [Accessed 23 January 2022].\n",
    "4. Data compiled by Our World in Data. 2022. _Medical doctors per 1,000 people vs. GDP per capita._ [online] Available at: <https://ourworldindata.org/grapher/medical-doctors-per-1000-people-vs-gdp-per-capita> [Accessed 23 January 2022]. <br> Based on estimates by:\n",
    "    1. Medical doctors per 1,000 people: Global Health Workforce Statistics - World Health Organization, OECD, official national sources (2021) [online] Available at: http://data.worldbank.org/data-catalog/world-development-indicators [Accessed 23 January 2022].\n",
    "    2. GDP per capita: International Comparison Program - World Bank, World Development Indicators - World Bank, Eurostat-OECD PPP Programme [online] Available at: http://data.worldbank.org/data-catalog/world-development-indicators [Accessed 23 January 2022].\n",
    "5. Data compiled by Our World in Data. 2022. _Child mortality vs GDP per capita._ [online] Available at: <https://ourworldindata.org/grapher/child-mortality-gdp-per-capita> [Accessed 20 January 2022]. <br> Based on estimates by:\n",
    "    1. Child mortality: Gapminder [online] Available at: https://www.gapminder.org/data/documentation/gd005/ [Accessed 20 January 2022].\n",
    "    2. GDP per capita: The Maddison Project Database [online] Available at: \thttps://www.rug.nl/ggdc/historicaldevelopment/maddison/releases/maddison-project-database-2020 [Accessed 20 January 2022].\n",
    "    "
   ]
  }
 ],
 "metadata": {
  "kernelspec": {
   "display_name": "Python 3 (ipykernel)",
   "language": "python",
   "name": "python3"
  },
  "language_info": {
   "codemirror_mode": {
    "name": "ipython",
    "version": 3
   },
   "file_extension": ".py",
   "mimetype": "text/x-python",
   "name": "python",
   "nbconvert_exporter": "python",
   "pygments_lexer": "ipython3",
   "version": "3.9.7"
  }
 },
 "nbformat": 4,
 "nbformat_minor": 4
}
