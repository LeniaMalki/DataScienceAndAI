{
 "cells": [
  {
   "cell_type": "markdown",
   "metadata": {},
   "source": [
    "# Assignment 1: Introduction to Data Science and Python\n",
    "\n",
    "Student name | Hours spent on the tasks\n",
    "------------ | -------------\n",
    "Lenia Malki | 8\n",
    "Maële Belmont | 8\n",
    "\n",
    "\n",
    "To do:\n",
    "- show available year list\n",
    "- reference\n",
    "- questions"
   ]
  },
  {
   "cell_type": "markdown",
   "metadata": {},
   "source": [
    "## Setup\n",
    "Python modules need to be loaded to solve the tasks below."
   ]
  },
  {
   "cell_type": "code",
   "execution_count": 7,
   "metadata": {},
   "outputs": [],
   "source": [
    "import numpy as np\n",
    "import matplotlib.pyplot as plt\n",
    "import pandas as pd\n",
    "import seaborn as sns\n",
    "import plotly.express as px\n",
    "from sklearn.linear_model import LinearRegression"
   ]
  },
  {
   "cell_type": "markdown",
   "metadata": {},
   "source": [
    "## Task 1 - Download some data related to GDP per capita and life expectancy <br>\n",
    "#### A. Write a Python program that draws a scatter plot of GDP per capita vs life expectancy. State any assumptions and motivate decisions that you make when selecting data to be plotted, and in combining data. [1p]\n",
    "\n"
   ]
  },
  {
   "cell_type": "markdown",
   "metadata": {},
   "source": [
    "When extracting the data, we chose to not include population size as a parameter. As we are primarily interested in exploring the relationship between life expectancy and GDP, we did not consider the population size data to be contributing to this relationship. Disincluding this data makes it easier to focus and study the other two data entities.\n",
    "\n",
    "In terms of countries, we chose not to remove any data points with null values for a given year. Among the available data, we chose only to focus on the data obtained in 2018. The reason for this lies in the assumption that recent data, in this context, is more accurate as it is more available today than it might have been in the nineteen hundreds. \n",
    "\n",
    "In order to visualize the data in a readable manner, we chose to group countries together by their respective continents and color code these. To minimize cluttering, we used Plotly to create an interactive plot, which displays more information (country and exact value of life expectancy and GDP) when the cursor is on a dot. \n",
    "\n",
    "It is possible to study any data between the year 1543 and 2018. In other words, the program is not limited to only data from one specific year though only data for one year  is plotted at a time. \n"
   ]
  },
  {
   "cell_type": "code",
   "execution_count": 8,
   "metadata": {},
   "outputs": [],
   "source": [
    "def GDPperCapita(csv_file, column1, column2, title):\n",
    "    \"\"\"\n",
    "    input: \n",
    "    - csv_file (string): name of csv file\n",
    "    - column1 (string): name of column for data GDP per capita\n",
    "    - column2 (string): name of column for data other than GDP per capita (ex: 'Life expectancy')\n",
    "    - title (string): Title of the plot\n",
    "    output:\n",
    "    - dataframe containing data for the chosen year without NaN values\n",
    "    \"\"\"\n",
    "    #Read the csv file containing the downloaded data\n",
    "    rawData = pd.read_csv(csv_file)\n",
    "    \n",
    "    #Remove rows containing NaN value in the 'GDP per capita' or 'Life expectancy'\n",
    "    noNaN = rawData.dropna(subset=[column1, column2])\n",
    "    \n",
    "    #Print list with years where data is available\n",
    "    yearList = []\n",
    "    for i in range(len(noNaN)):\n",
    "        if noNaN['Year'].values[i] not in yearList:\n",
    "            yearList.append(noNaN['Year'].values[i])\n",
    "    yearlist = yearList.sort() #sort it in ascending order         \n",
    "    print('---------------------------------------------------------------------------------------------------------------------')\n",
    "    print('List of years for which data is available: \\n')\n",
    "    print(yearList)\n",
    "    print('---------------------------------------------------------------------------------------------------------------------')\n",
    "\n",
    "    #Create a new table with the data for year of interest chosen by the user\n",
    "    year = int(input('Year of interest for the data \"%s\": \\n' % (title)))\n",
    "    print('---------------------------------------------------------------------------------------------------------------------')\n",
    "    yearData = rawData.loc[rawData['Year']==year].reset_index()\n",
    "        \n",
    "    #Replace NaN values in 'Continent' by the continent value for every country\n",
    "    year2015 = rawData.loc[rawData['Year']==2015].reset_index() #continents are defined only in 2015, but we want them to be defined for all the years.\n",
    "    \n",
    "    for i in range(len(yearData)):\n",
    "        for j in range(len(year2015)):\n",
    "            if yearData['Entity'][i] == year2015['Entity'][j]: #compare the 'Entity' of the chosen year to the 'Entity' in 2015 and if they are the same...\n",
    "                yearData.at[i, 'Continent'] = year2015['Continent'][j] #...assign the 'Continent' value of 2015 to the 'Continent' value of the chosen year 'Continent' value of 2015 to the 'Continent' value of the chosen year\n",
    "\n",
    "    #Create a new table with only the relevant columns\n",
    "    relevantColumns = yearData.loc[:, ['Entity','Year', column1, column2, 'Continent']]\n",
    "\n",
    "    #Create a new table without rows containing NaN values\n",
    "    finalData = relevantColumns.dropna()\n",
    "    \n",
    "    return finalData"
   ]
  },
  {
   "cell_type": "code",
   "execution_count": 9,
   "metadata": {},
   "outputs": [],
   "source": [
    "def GDP(csv_file, column1, column2, title):\n",
    "    \"\"\"\n",
    "    input: \n",
    "    - csv_file (string): name of csv file\n",
    "    - column1 (string): name of column for data GDP per capita\n",
    "    - column2 (string): name of column for data other than GDP\n",
    "    - title (string): Title of the plot\n",
    "    output:\n",
    "    - dataframe containing data for the chosen year without NaN values\n",
    "    \"\"\"\n",
    "    #Read the csv file containing the downloaded data\n",
    "    rawData = pd.read_csv(csv_file)\n",
    "    \n",
    "    #Create a new table with the data for year of interest chosen by the user\n",
    "    year = int(input('Year of interest for the data \"%s\": \\n' % (title)))\n",
    "    print('---------------------------------------------------------------------------------------------------------------------')\n",
    "    yearData = rawData.loc[rawData['Year']==year].reset_index()\n",
    "        \n",
    "    #Replace NaN values in 'Continent' by the continent value for every country\n",
    "    year2015 = rawData.loc[rawData['Year']==2015].reset_index() #continents are defined only in 2015, but we want them to be defined for all the years.\n",
    "    \n",
    "    for i in range(len(yearData)):\n",
    "        for j in range(len(year2015)):\n",
    "            if yearData['Entity'][i] == year2015['Entity'][j]: #compare the 'Entity' of the chosen year to the 'Entity' in 2015 and if they are the same...\n",
    "                yearData.at[i, 'Continent'] = year2015['Continent'][j] #...assign the 'Continent' value of 2015 to the 'Continent' value of the chosen year 'Continent' value of 2015 to the 'Continent' value of the chosen year\n",
    "\n",
    "    yearData['GDP'] = yearData[column1]*yearData['Population (historical estimates)']\n",
    "    \n",
    "    #Create a new table with only the relevant columns\n",
    "    relevantColumns = yearData.loc[:, ['Entity','Year', 'GDP', column2, 'Continent']]\n",
    "\n",
    "    #Create a new table without rows containing NaN values\n",
    "    finalData = relevantColumns.dropna()\n",
    "    \n",
    "    return finalData"
   ]
  },
  {
   "cell_type": "code",
   "execution_count": 10,
   "metadata": {},
   "outputs": [],
   "source": [
    "def plotFigure(finalData, xlabel, ylabel, title, min_x, max_x, min_y, max_y):\n",
    "    \"\"\"\n",
    "    input: \n",
    "    - finalData: dataframe will be plotted\n",
    "    - xlabel: label displayed under x-axis\n",
    "    - ylabel: label displayed under y-axis\n",
    "    - title of the plot\n",
    "    output:\n",
    "    - figure with the plot\n",
    "    \"\"\" \n",
    "    ###Plot \n",
    "    try:\n",
    "    #Set axis limits\n",
    "        year = finalData['Year'].values[0]\n",
    "        column1=finalData.columns[2]\n",
    "        column2=finalData.columns[3]\n",
    "        minimum_x = finalData[column1].min()-min_x\n",
    "        maximum_x = finalData[column1].max()+max_x\n",
    "        minimum_y = finalData[column2].min()-min_y \n",
    "        maximum_y = finalData[column2].max()+max_y\n",
    "\n",
    "        #Create Plotly figure\n",
    "        fig = px.scatter(finalData, x=column1, \n",
    "                     y=column2, \n",
    "                     color='Continent', hover_data=['Entity'], \n",
    "                     log_x=True, title=f'{title}, {year}',\n",
    "                     labels={column1: xlabel, column2: ylabel},\n",
    "                     trendline='ols', \n",
    "                     trendline_options=dict(log_x=True), trendline_scope='overall', trendline_color_override='black', \n",
    "                     range_x=[minimum_x, maximum_x], range_y=[minimum_y, maximum_y])\n",
    "        #Display figure\n",
    "        fig.show()\n",
    "    except:\n",
    "        print('---------------------------------------------------------------------------------------------------------------------')\n",
    "        print('No data available for this year, please run the cell again and try with another year.\\n')"
   ]
  },
  {
   "cell_type": "code",
   "execution_count": 11,
   "metadata": {},
   "outputs": [],
   "source": [
    "def aboveSD(finalData, ylabel):\n",
    "    \"\"\"\n",
    "    inputs: \n",
    "    - finalData: dataframe containing the data of interest\n",
    "    - ylabel: data topic?\n",
    "    output:\n",
    "    - dataframe with value of data above the standard mean\n",
    "    \"\"\" \n",
    "    column1=finalData.columns[2]\n",
    "    column2=finalData.columns[3]\n",
    "    \n",
    "    #Print useful statistical values\n",
    "    mean = finalData[column2].mean()\n",
    "    sd = finalData[column2].std()\n",
    "    oneSDAboveMean = mean + sd\n",
    "\n",
    "    Filter = finalData[column2] >= oneSDAboveMean\n",
    "    tableSDAboveMean = finalData[['Entity','Year', column2]]\n",
    "\n",
    "    print('Dataframe with countries having', ylabel ,'higher than the standard mean.')\n",
    "    display(tableSDAboveMean[Filter])"
   ]
  },
  {
   "cell_type": "markdown",
   "metadata": {},
   "source": [
    "---"
   ]
  },
  {
   "cell_type": "code",
   "execution_count": 12,
   "metadata": {},
   "outputs": [
    {
     "name": "stdout",
     "output_type": "stream",
     "text": [
      "---------------------------------------------------------------------------------------------------------------------\n",
      "List of year where data is available for the plot: \n",
      "\n",
      "[1543, 1548, 1553, 1558, 1563, 1568, 1573, 1578, 1583, 1588, 1593, 1598, 1603, 1608, 1613, 1618, 1623, 1628, 1633, 1638, 1643, 1648, 1653, 1658, 1663, 1668, 1673, 1678, 1683, 1688, 1693, 1698, 1703, 1708, 1713, 1718, 1723, 1728, 1733, 1738, 1743, 1748, 1751, 1752, 1753, 1754, 1755, 1756, 1757, 1758, 1759, 1760, 1761, 1762, 1763, 1764, 1765, 1766, 1767, 1768, 1769, 1770, 1771, 1772, 1773, 1774, 1775, 1776, 1777, 1778, 1779, 1780, 1781, 1782, 1783, 1784, 1785, 1786, 1787, 1788, 1789, 1790, 1791, 1792, 1793, 1794, 1795, 1796, 1797, 1798, 1799, 1800, 1801, 1802, 1803, 1804, 1805, 1806, 1807, 1808, 1809, 1810, 1811, 1812, 1813, 1814, 1815, 1816, 1817, 1818, 1819, 1820, 1821, 1822, 1823, 1824, 1825, 1826, 1827, 1828, 1829, 1830, 1831, 1832, 1833, 1834, 1835, 1836, 1837, 1838, 1839, 1840, 1841, 1842, 1843, 1844, 1845, 1846, 1847, 1848, 1849, 1850, 1851, 1852, 1853, 1854, 1855, 1856, 1857, 1858, 1859, 1860, 1861, 1862, 1863, 1864, 1865, 1866, 1867, 1868, 1869, 1870, 1871, 1872, 1873, 1874, 1875, 1876, 1877, 1878, 1879, 1880, 1881, 1882, 1883, 1884, 1885, 1886, 1887, 1888, 1889, 1890, 1891, 1892, 1893, 1894, 1895, 1896, 1897, 1898, 1899, 1900, 1901, 1902, 1903, 1904, 1905, 1906, 1907, 1908, 1909, 1910, 1911, 1912, 1913, 1914, 1915, 1916, 1917, 1918, 1919, 1920, 1921, 1922, 1923, 1924, 1925, 1926, 1927, 1928, 1929, 1930, 1931, 1932, 1933, 1934, 1935, 1936, 1937, 1938, 1939, 1940, 1941, 1942, 1943, 1944, 1945, 1946, 1947, 1948, 1949, 1950, 1951, 1952, 1953, 1954, 1955, 1956, 1957, 1958, 1959, 1960, 1961, 1962, 1963, 1964, 1965, 1966, 1967, 1968, 1969, 1970, 1971, 1972, 1973, 1974, 1975, 1976, 1977, 1978, 1979, 1980, 1981, 1982, 1983, 1984, 1985, 1986, 1987, 1988, 1989, 1990, 1991, 1992, 1993, 1994, 1995, 1996, 1997, 1998, 1999, 2000, 2001, 2002, 2003, 2004, 2005, 2006, 2007, 2008, 2009, 2010, 2011, 2012, 2013, 2014, 2015, 2016, 2017, 2018]\n",
      "---------------------------------------------------------------------------------------------------------------------\n",
      "Year of interest for the data \"Life expectancy vs. GDP per capita\": \n",
      "2018\n",
      "---------------------------------------------------------------------------------------------------------------------\n"
     ]
    },
    {
     "data": {
      "application/vnd.plotly.v1+json": {
       "config": {
        "plotlyServerURL": "https://plot.ly"
       },
       "data": [
        {
         "customdata": [
          [
           "Afghanistan"
          ],
          [
           "Armenia"
          ],
          [
           "Azerbaijan"
          ],
          [
           "Bahrain"
          ],
          [
           "Bangladesh"
          ],
          [
           "Cambodia"
          ],
          [
           "China"
          ],
          [
           "Georgia"
          ],
          [
           "Hong Kong"
          ],
          [
           "India"
          ],
          [
           "Indonesia"
          ],
          [
           "Iran"
          ],
          [
           "Iraq"
          ],
          [
           "Israel"
          ],
          [
           "Japan"
          ],
          [
           "Jordan"
          ],
          [
           "Kazakhstan"
          ],
          [
           "Kuwait"
          ],
          [
           "Kyrgyzstan"
          ],
          [
           "Laos"
          ],
          [
           "Lebanon"
          ],
          [
           "Malaysia"
          ],
          [
           "Mongolia"
          ],
          [
           "Myanmar"
          ],
          [
           "Nepal"
          ],
          [
           "North Korea"
          ],
          [
           "Oman"
          ],
          [
           "Pakistan"
          ],
          [
           "Palestine"
          ],
          [
           "Philippines"
          ],
          [
           "Qatar"
          ],
          [
           "Saudi Arabia"
          ],
          [
           "Singapore"
          ],
          [
           "South Korea"
          ],
          [
           "Sri Lanka"
          ],
          [
           "Syria"
          ],
          [
           "Taiwan"
          ],
          [
           "Tajikistan"
          ],
          [
           "Thailand"
          ],
          [
           "Turkey"
          ],
          [
           "Turkmenistan"
          ],
          [
           "United Arab Emirates"
          ],
          [
           "Uzbekistan"
          ],
          [
           "Vietnam"
          ],
          [
           "Yemen"
          ]
         ],
         "hovertemplate": "Continent=Asia<br>GDP per capita ($)=%{x}<br>Life expectancy (years)=%{y}<br>Entity=%{customdata[0]}<extra></extra>",
         "legendgroup": "Asia",
         "marker": {
          "color": "#636efa",
          "symbol": "circle"
         },
         "mode": "markers",
         "name": "Asia",
         "orientation": "v",
         "showlegend": true,
         "type": "scatter",
         "x": [
          1934.555,
          11454.4251,
          16628.0553,
          39498.7672,
          4099.253,
          3628.5611,
          13101.7064,
          11984.9049,
          50839.3714,
          6806.4986,
          11851.7372,
          17011.3042,
          12835.8126,
          32954.7701,
          38673.8081,
          11506.3383,
          25307.5554,
          65520.7367,
          5176.9883,
          6450.9066,
          12558.9669,
          24842.3559,
          13382.5423,
          5838.2173,
          2727.4238,
          1596.3517,
          36477.6365,
          5510.3967,
          5207.7569,
          8139.1395,
          153764.1643,
          50304.7502,
          68402.3451,
          37927.6095,
          11662.9064,
          3349.4597,
          44663.8642,
          4440.3819,
          16648.6237,
          19270.2202,
          26318.366,
          76397.8181,
          11220.3702,
          6814.1423,
          2284.8899
         ],
         "xaxis": "x",
         "y": [
          64.486,
          74.945,
          72.86399999999999,
          77.163,
          72.32,
          69.57,
          76.704,
          73.6,
          84.68700000000001,
          69.416,
          71.509,
          76.479,
          70.454,
          82.819,
          84.47,
          74.405,
          73.236,
          75.398,
          71.321,
          67.61,
          78.875,
          75.997,
          69.689,
          66.867,
          70.47800000000001,
          72.095,
          77.633,
          67.11399999999999,
          73.895,
          71.095,
          80.1,
          74.998,
          83.458,
          82.846,
          76.812,
          71.779,
          80.283,
          70.87899999999999,
          76.931,
          77.437,
          68.07300000000001,
          77.814,
          71.57300000000001,
          75.317,
          66.096
         ],
         "yaxis": "y"
        },
        {
         "customdata": [
          [
           "Albania"
          ],
          [
           "Austria"
          ],
          [
           "Belarus"
          ],
          [
           "Belgium"
          ],
          [
           "Bosnia and Herzegovina"
          ],
          [
           "Bulgaria"
          ],
          [
           "Croatia"
          ],
          [
           "Cyprus"
          ],
          [
           "Czechia"
          ],
          [
           "Denmark"
          ],
          [
           "Estonia"
          ],
          [
           "Finland"
          ],
          [
           "France"
          ],
          [
           "Germany"
          ],
          [
           "Greece"
          ],
          [
           "Hungary"
          ],
          [
           "Iceland"
          ],
          [
           "Ireland"
          ],
          [
           "Italy"
          ],
          [
           "Latvia"
          ],
          [
           "Lithuania"
          ],
          [
           "Luxembourg"
          ],
          [
           "Malta"
          ],
          [
           "Moldova"
          ],
          [
           "Montenegro"
          ],
          [
           "Netherlands"
          ],
          [
           "North Macedonia"
          ],
          [
           "Norway"
          ],
          [
           "Poland"
          ],
          [
           "Portugal"
          ],
          [
           "Romania"
          ],
          [
           "Russia"
          ],
          [
           "Serbia"
          ],
          [
           "Slovakia"
          ],
          [
           "Slovenia"
          ],
          [
           "Spain"
          ],
          [
           "Sweden"
          ],
          [
           "Switzerland"
          ],
          [
           "Ukraine"
          ],
          [
           "United Kingdom"
          ]
         ],
         "hovertemplate": "Continent=Europe<br>GDP per capita ($)=%{x}<br>Life expectancy (years)=%{y}<br>Entity=%{customdata[0]}<extra></extra>",
         "legendgroup": "Europe",
         "marker": {
          "color": "#EF553B",
          "symbol": "circle"
         },
         "mode": "markers",
         "name": "Europe",
         "orientation": "v",
         "showlegend": true,
         "type": "scatter",
         "x": [
          11104.1665,
          42988.0709,
          18727.3176,
          39756.2031,
          10460.5201,
          18444.2602,
          22012.3147,
          27184.4166,
          30748.5084,
          46312.3443,
          27408.6649,
          38896.7005,
          38515.9193,
          46177.6187,
          23450.7658,
          25622.8123,
          43438.5412,
          64684.302,
          34364.1682,
          24312.6778,
          27370.5548,
          57427.5003,
          32028.9124,
          6746.7285,
          19504.1588,
          47474.1095,
          13074.2313,
          84580.1362,
          27455.237,
          27035.6002,
          20126.2922,
          24668.9079,
          14124.1177,
          27075.5344,
          29244.9198,
          31496.52,
          45541.8921,
          61372.7301,
          9813.3637,
          38058.0856
         ],
         "xaxis": "x",
         "y": [
          78.458,
          81.434,
          74.59,
          81.468,
          77.262,
          74.928,
          78.342,
          80.828,
          79.222,
          80.78399999999999,
          78.567,
          81.736,
          82.541,
          81.18,
          82.072,
          76.70100000000001,
          82.855,
          82.103,
          83.352,
          75.172,
          75.737,
          82.102,
          82.376,
          71.808,
          76.77,
          82.14299999999999,
          75.688,
          82.271,
          78.544,
          81.857,
          75.92399999999999,
          72.38600000000001,
          75.84899999999999,
          77.388,
          81.172,
          83.43299999999999,
          82.654,
          83.63,
          71.953,
          81.236
         ],
         "yaxis": "y"
        },
        {
         "customdata": [
          [
           "Algeria"
          ],
          [
           "Angola"
          ],
          [
           "Benin"
          ],
          [
           "Botswana"
          ],
          [
           "Burkina Faso"
          ],
          [
           "Burundi"
          ],
          [
           "Cameroon"
          ],
          [
           "Cape Verde"
          ],
          [
           "Central African Republic"
          ],
          [
           "Chad"
          ],
          [
           "Comoros"
          ],
          [
           "Congo"
          ],
          [
           "Cote d'Ivoire"
          ],
          [
           "Democratic Republic of Congo"
          ],
          [
           "Djibouti"
          ],
          [
           "Egypt"
          ],
          [
           "Equatorial Guinea"
          ],
          [
           "Eswatini"
          ],
          [
           "Ethiopia"
          ],
          [
           "Gabon"
          ],
          [
           "Gambia"
          ],
          [
           "Ghana"
          ],
          [
           "Guinea"
          ],
          [
           "Guinea-Bissau"
          ],
          [
           "Kenya"
          ],
          [
           "Lesotho"
          ],
          [
           "Liberia"
          ],
          [
           "Libya"
          ],
          [
           "Madagascar"
          ],
          [
           "Malawi"
          ],
          [
           "Mali"
          ],
          [
           "Mauritania"
          ],
          [
           "Mauritius"
          ],
          [
           "Morocco"
          ],
          [
           "Mozambique"
          ],
          [
           "Namibia"
          ],
          [
           "Niger"
          ],
          [
           "Nigeria"
          ],
          [
           "Rwanda"
          ],
          [
           "Sao Tome and Principe"
          ],
          [
           "Senegal"
          ],
          [
           "Seychelles"
          ],
          [
           "Sierra Leone"
          ],
          [
           "South Africa"
          ],
          [
           "Sudan"
          ],
          [
           "Tanzania"
          ],
          [
           "Togo"
          ],
          [
           "Tunisia"
          ],
          [
           "Uganda"
          ],
          [
           "Zambia"
          ],
          [
           "Zimbabwe"
          ]
         ],
         "hovertemplate": "Continent=Africa<br>GDP per capita ($)=%{x}<br>Life expectancy (years)=%{y}<br>Entity=%{customdata[0]}<extra></extra>",
         "legendgroup": "Africa",
         "marker": {
          "color": "#00cc96",
          "symbol": "circle"
         },
         "mode": "markers",
         "name": "Africa",
         "orientation": "v",
         "showlegend": true,
         "type": "scatter",
         "x": [
          14228.025,
          7771.4418,
          2220.1766,
          15842.1301,
          1589.6242,
          651.3589,
          2888.0459,
          6831.215999999999,
          623.4889,
          2046.3631,
          1724.4206,
          5714.5917,
          3713.6436,
          859.3817,
          3295.6815,
          11957.2122,
          28528.952999999998,
          8068.2118,
          1838.4903,
          17613.5564,
          1882.2399,
          4267.0667,
          1606.4666,
          1501.4136,
          3377.4704,
          2731.4661,
          818.4211,
          15013.3124,
          1427.6004,
          1116.6402,
          1667.2951,
          3457.515,
          20138.5723,
          8451.1355,
          1132.7709,
          9043.1202,
          964.6601,
          5237.6623,
          1929.2851,
          3730.2045,
          2617.1244,
          29531.0612,
          1683.8497,
          12165.7948,
          3379.5957,
          2874.9629,
          1451.3609,
          11353.8865,
          2045.4203,
          3534.0337,
          1611.4052
         ],
         "xaxis": "x",
         "y": [
          76.693,
          60.782,
          61.47,
          69.275,
          61.174,
          61.247,
          58.92100000000001,
          72.782,
          52.805,
          53.977,
          64.118,
          64.29,
          57.422,
          60.368,
          66.582,
          71.825,
          58.402,
          59.401,
          66.24,
          66.187,
          61.735,
          63.78,
          61.185,
          58.003,
          66.342,
          53.705,
          63.73,
          72.72399999999999,
          66.681,
          63.798,
          58.893,
          64.704,
          74.863,
          76.453,
          60.163000000000004,
          63.373000000000005,
          62.023999999999994,
          54.332,
          68.7,
          70.17,
          67.665,
          73.333,
          54.309,
          63.857,
          65.095,
          65.015,
          60.76,
          76.505,
          62.973,
          63.51,
          61.195
         ],
         "yaxis": "y"
        },
        {
         "customdata": [
          [
           "Argentina"
          ],
          [
           "Bolivia"
          ],
          [
           "Brazil"
          ],
          [
           "Chile"
          ],
          [
           "Colombia"
          ],
          [
           "Ecuador"
          ],
          [
           "Paraguay"
          ],
          [
           "Peru"
          ],
          [
           "Uruguay"
          ],
          [
           "Venezuela"
          ]
         ],
         "hovertemplate": "Continent=South America<br>GDP per capita ($)=%{x}<br>Life expectancy (years)=%{y}<br>Entity=%{customdata[0]}<extra></extra>",
         "legendgroup": "South America",
         "marker": {
          "color": "#ab63fa",
          "symbol": "circle"
         },
         "mode": "markers",
         "name": "South America",
         "orientation": "v",
         "showlegend": true,
         "type": "scatter",
         "x": [
          18556.3831,
          6695.7746,
          14033.5656,
          22104.7654,
          13545.0495,
          10638.8251,
          9338.9484,
          12310.0847,
          20185.836,
          10709.9506
         ],
         "xaxis": "x",
         "y": [
          76.52,
          71.23899999999999,
          75.672,
          80.042,
          77.109,
          76.8,
          74.131,
          76.516,
          77.77,
          72.128
         ],
         "yaxis": "y"
        },
        {
         "customdata": [
          [
           "Australia"
          ],
          [
           "New Zealand"
          ]
         ],
         "hovertemplate": "Continent=Oceania<br>GDP per capita ($)=%{x}<br>Life expectancy (years)=%{y}<br>Entity=%{customdata[0]}<extra></extra>",
         "legendgroup": "Oceania",
         "marker": {
          "color": "#FFA15A",
          "symbol": "circle"
         },
         "mode": "markers",
         "name": "Oceania",
         "orientation": "v",
         "showlegend": true,
         "type": "scatter",
         "x": [
          49830.7993,
          35336.1363
         ],
         "xaxis": "x",
         "y": [
          83.281,
          82.145
         ],
         "yaxis": "y"
        },
        {
         "customdata": [
          [
           "Barbados"
          ],
          [
           "Canada"
          ],
          [
           "Costa Rica"
          ],
          [
           "Cuba"
          ],
          [
           "Dominica"
          ],
          [
           "Dominican Republic"
          ],
          [
           "El Salvador"
          ],
          [
           "Guatemala"
          ],
          [
           "Haiti"
          ],
          [
           "Honduras"
          ],
          [
           "Jamaica"
          ],
          [
           "Mexico"
          ],
          [
           "Nicaragua"
          ],
          [
           "Panama"
          ],
          [
           "Puerto Rico"
          ],
          [
           "Saint Lucia"
          ],
          [
           "Trinidad and Tobago"
          ],
          [
           "United States"
          ]
         ],
         "hovertemplate": "Continent=North America<br>GDP per capita ($)=%{x}<br>Life expectancy (years)=%{y}<br>Entity=%{customdata[0]}<extra></extra>",
         "legendgroup": "North America",
         "marker": {
          "color": "#19d3f3",
          "symbol": "circle"
         },
         "mode": "markers",
         "name": "North America",
         "orientation": "v",
         "showlegend": true,
         "type": "scatter",
         "x": [
          11995.1868,
          44868.7435,
          14686.2539,
          8325.6313,
          9021.1737,
          15912.3995,
          8598.1982,
          7402.1146,
          1729.0432,
          5041.6354,
          7272.9805,
          16494.078999999998,
          4952.4772,
          22637.1482,
          35076.2933,
          10475.3689,
          28549.4083,
          55334.7394
         ],
         "xaxis": "x",
         "y": [
          79.081,
          82.315,
          80.095,
          78.726,
          74.806,
          73.892,
          73.096,
          74.063,
          63.66,
          75.08800000000001,
          74.368,
          74.992,
          74.275,
          78.329,
          79.952,
          76.057,
          73.38,
          78.851
         ],
         "yaxis": "y"
        },
        {
         "hovertemplate": "<b>OLS trendline</b><br>Life expectancy = 12.2435 * log10(GDP per capita) + 23.3933<br>R<sup>2</sup>=0.674900<br><br>GDP per capita ($)=%{x}<br>Life expectancy (years)=%{y} <b>(trend)</b><extra></extra>",
         "legendgroup": "Overall Trendline",
         "line": {
          "color": "black"
         },
         "mode": "lines",
         "name": "Overall Trendline",
         "showlegend": true,
         "type": "scatter",
         "x": [
          623.4889,
          651.3589,
          818.4211,
          859.3817,
          964.6601,
          1116.6402,
          1132.7709,
          1427.6004,
          1451.3609,
          1501.4136,
          1589.6242,
          1596.3517,
          1606.4666,
          1611.4052,
          1667.2951,
          1683.8497,
          1724.4206,
          1729.0432,
          1838.4903,
          1882.2399,
          1929.2851,
          1934.555,
          2045.4203,
          2046.3631,
          2220.1766,
          2284.8899,
          2617.1244,
          2727.4238,
          2731.4661,
          2874.9629,
          2888.0459,
          3295.6815,
          3349.4597,
          3377.4704,
          3379.5957,
          3457.515,
          3534.0337,
          3628.5611,
          3713.6436,
          3730.2045,
          4099.253,
          4267.0667,
          4440.3819,
          4952.4772,
          5041.6354,
          5176.9883,
          5207.7569,
          5237.6623,
          5510.3967,
          5714.5917,
          5838.2173,
          6450.9066,
          6695.7746,
          6746.7285,
          6806.4986,
          6814.1423,
          6831.215999999999,
          7272.9805,
          7402.1146,
          7771.4418,
          8068.2118,
          8139.1395,
          8325.6313,
          8451.1355,
          8598.1982,
          9021.1737,
          9043.1202,
          9338.9484,
          9813.3637,
          10460.5201,
          10475.3689,
          10638.8251,
          10709.9506,
          11104.1665,
          11220.3702,
          11353.8865,
          11454.4251,
          11506.3383,
          11662.9064,
          11851.7372,
          11957.2122,
          11984.9049,
          11995.1868,
          12165.7948,
          12310.0847,
          12558.9669,
          12835.8126,
          13074.2313,
          13101.7064,
          13382.5423,
          13545.0495,
          14033.5656,
          14124.1177,
          14228.025,
          14686.2539,
          15013.3124,
          15842.1301,
          15912.3995,
          16494.078999999998,
          16628.0553,
          16648.6237,
          17011.3042,
          17613.5564,
          18444.2602,
          18556.3831,
          18727.3176,
          19270.2202,
          19504.1588,
          20126.2922,
          20138.5723,
          20185.836,
          22012.3147,
          22104.7654,
          22637.1482,
          23450.7658,
          24312.6778,
          24668.9079,
          24842.3559,
          25307.5554,
          25622.8123,
          26318.366,
          27035.6002,
          27075.5344,
          27184.4166,
          27370.5548,
          27408.6649,
          27455.237,
          28528.952999999998,
          28549.4083,
          29244.9198,
          29531.0612,
          30748.5084,
          31496.52,
          32028.9124,
          32954.7701,
          34364.1682,
          35076.2933,
          35336.1363,
          36477.6365,
          37927.6095,
          38058.0856,
          38515.9193,
          38673.8081,
          38896.7005,
          39498.7672,
          39756.2031,
          42988.0709,
          43438.5412,
          44663.8642,
          44868.7435,
          45541.8921,
          46177.6187,
          46312.3443,
          47474.1095,
          49830.7993,
          50304.7502,
          50839.3714,
          55334.7394,
          57427.5003,
          61372.7301,
          64684.302,
          65520.7367,
          68402.3451,
          76397.8181,
          84580.1362,
          153764.1643
         ],
         "xaxis": "x",
         "y": [
          57.61177456401782,
          57.84429852984073,
          59.0583207160562,
          59.317996582145824,
          59.932475981838394,
          60.71041502805758,
          60.7866776470929,
          62.016715693085146,
          62.10448638059992,
          62.284771017970186,
          62.58833782858632,
          62.61079379533511,
          62.644379203218534,
          62.660700525714475,
          62.84199875978983,
          62.894533782169034,
          63.02113008332279,
          63.03536488947232,
          63.36172148565642,
          63.486772095614796,
          63.61803998224978,
          63.63254450318047,
          63.92885532831497,
          63.93130567106117,
          64.36478464429723,
          64.51755606074306,
          65.23942165871155,
          65.45892630219048,
          65.4668011864009,
          65.7390529137909,
          65.76319521675677,
          66.46525149717489,
          66.55131745788017,
          66.59559968430295,
          66.598944575381,
          66.72014694892974,
          66.83654117257058,
          66.97689764228858,
          67.10013803847173,
          67.12379761896717,
          67.6254392970027,
          67.83877871284402,
          68.05047975049777,
          68.63084810810938,
          68.72572238227303,
          68.86659301013411,
          68.89810189639414,
          68.92854891827223,
          69.19846142495422,
          69.39193738287359,
          69.50574132019926,
          70.03638071114904,
          70.23448141701707,
          70.27479201642382,
          70.32169105861877,
          70.32765902031235,
          70.3409654891101,
          70.67416506054138,
          70.7677468006601,
          71.02664533290861,
          71.2259167608913,
          71.2724567733044,
          71.39291667815782,
          71.4724736024068,
          71.56420664243296,
          71.81955209615332,
          71.83247215178038,
          72.00363226966343,
          72.26711139712604,
          72.60668956344294,
          72.61423214325607,
          72.69656163945183,
          72.73199186000633,
          72.92419641336022,
          72.97955198181722,
          73.04245127780709,
          73.08932855730203,
          73.11337285562753,
          73.18523793452542,
          73.27063907273161,
          73.31775112618304,
          73.3300516281546,
          73.33461139308143,
          73.40970654956489,
          73.47240005420346,
          73.57883126528145,
          73.69477050089907,
          73.79263029909475,
          73.80379268631125,
          73.9165646482217,
          73.98074472847425,
          74.16914075888357,
          74.2033405138671,
          74.24231514460749,
          74.410864215771,
          74.52797928529918,
          74.81370650411904,
          74.83723971364284,
          75.02814522055539,
          75.07116140895,
          75.07773466392005,
          75.19232492871447,
          75.37731740044462,
          75.62236108544838,
          75.65458707540768,
          75.70334370167721,
          75.85529902256216,
          75.91946165831986,
          76.08642074999173,
          76.08966411305032,
          76.10212875487214,
          76.5627166440891,
          76.58500222553685,
          76.71154864161265,
          76.89930657467734,
          77.09123280581302,
          77.16857657279549,
          77.20583177731906,
          77.30448276054494,
          77.37031114954347,
          77.51272909635483,
          77.65569758771555,
          77.66354593691705,
          77.68488611130016,
          77.72117074587497,
          77.72856925489596,
          77.73759658087714,
          77.94158108361151,
          77.94539221803055,
          78.07337747763742,
          78.12515057327214,
          78.33996277389795,
          78.46776677834035,
          78.55689480199952,
          78.70842151560772,
          78.9311007811491,
          79.04016412561442,
          79.07940905518953,
          79.24846277051059,
          79.45573028273473,
          79.47399106777145,
          79.53757559714835,
          79.55932825422578,
          79.58988588702047,
          79.67155955895086,
          79.70610287458173,
          80.12168467792499,
          80.17711437400978,
          80.32502886214918,
          80.34936420654569,
          80.4285449072379,
          80.502256449775,
          80.51774731654523,
          80.64948813416466,
          80.90710393829814,
          80.95743872133072,
          81.01365077663787,
          81.46418337646939,
          81.66157361882436,
          82.01486630009133,
          82.29430524900967,
          82.3626224580208,
          82.59148064543464,
          83.1792906391693,
          83.72029937189481,
          86.89854975894261
         ],
         "yaxis": "y"
        }
       ],
       "layout": {
        "legend": {
         "title": {
          "text": "Continent"
         },
         "tracegroupgap": 0
        },
        "template": {
         "data": {
          "bar": [
           {
            "error_x": {
             "color": "#2a3f5f"
            },
            "error_y": {
             "color": "#2a3f5f"
            },
            "marker": {
             "line": {
              "color": "#E5ECF6",
              "width": 0.5
             },
             "pattern": {
              "fillmode": "overlay",
              "size": 10,
              "solidity": 0.2
             }
            },
            "type": "bar"
           }
          ],
          "barpolar": [
           {
            "marker": {
             "line": {
              "color": "#E5ECF6",
              "width": 0.5
             },
             "pattern": {
              "fillmode": "overlay",
              "size": 10,
              "solidity": 0.2
             }
            },
            "type": "barpolar"
           }
          ],
          "carpet": [
           {
            "aaxis": {
             "endlinecolor": "#2a3f5f",
             "gridcolor": "white",
             "linecolor": "white",
             "minorgridcolor": "white",
             "startlinecolor": "#2a3f5f"
            },
            "baxis": {
             "endlinecolor": "#2a3f5f",
             "gridcolor": "white",
             "linecolor": "white",
             "minorgridcolor": "white",
             "startlinecolor": "#2a3f5f"
            },
            "type": "carpet"
           }
          ],
          "choropleth": [
           {
            "colorbar": {
             "outlinewidth": 0,
             "ticks": ""
            },
            "type": "choropleth"
           }
          ],
          "contour": [
           {
            "colorbar": {
             "outlinewidth": 0,
             "ticks": ""
            },
            "colorscale": [
             [
              0,
              "#0d0887"
             ],
             [
              0.1111111111111111,
              "#46039f"
             ],
             [
              0.2222222222222222,
              "#7201a8"
             ],
             [
              0.3333333333333333,
              "#9c179e"
             ],
             [
              0.4444444444444444,
              "#bd3786"
             ],
             [
              0.5555555555555556,
              "#d8576b"
             ],
             [
              0.6666666666666666,
              "#ed7953"
             ],
             [
              0.7777777777777778,
              "#fb9f3a"
             ],
             [
              0.8888888888888888,
              "#fdca26"
             ],
             [
              1,
              "#f0f921"
             ]
            ],
            "type": "contour"
           }
          ],
          "contourcarpet": [
           {
            "colorbar": {
             "outlinewidth": 0,
             "ticks": ""
            },
            "type": "contourcarpet"
           }
          ],
          "heatmap": [
           {
            "colorbar": {
             "outlinewidth": 0,
             "ticks": ""
            },
            "colorscale": [
             [
              0,
              "#0d0887"
             ],
             [
              0.1111111111111111,
              "#46039f"
             ],
             [
              0.2222222222222222,
              "#7201a8"
             ],
             [
              0.3333333333333333,
              "#9c179e"
             ],
             [
              0.4444444444444444,
              "#bd3786"
             ],
             [
              0.5555555555555556,
              "#d8576b"
             ],
             [
              0.6666666666666666,
              "#ed7953"
             ],
             [
              0.7777777777777778,
              "#fb9f3a"
             ],
             [
              0.8888888888888888,
              "#fdca26"
             ],
             [
              1,
              "#f0f921"
             ]
            ],
            "type": "heatmap"
           }
          ],
          "heatmapgl": [
           {
            "colorbar": {
             "outlinewidth": 0,
             "ticks": ""
            },
            "colorscale": [
             [
              0,
              "#0d0887"
             ],
             [
              0.1111111111111111,
              "#46039f"
             ],
             [
              0.2222222222222222,
              "#7201a8"
             ],
             [
              0.3333333333333333,
              "#9c179e"
             ],
             [
              0.4444444444444444,
              "#bd3786"
             ],
             [
              0.5555555555555556,
              "#d8576b"
             ],
             [
              0.6666666666666666,
              "#ed7953"
             ],
             [
              0.7777777777777778,
              "#fb9f3a"
             ],
             [
              0.8888888888888888,
              "#fdca26"
             ],
             [
              1,
              "#f0f921"
             ]
            ],
            "type": "heatmapgl"
           }
          ],
          "histogram": [
           {
            "marker": {
             "pattern": {
              "fillmode": "overlay",
              "size": 10,
              "solidity": 0.2
             }
            },
            "type": "histogram"
           }
          ],
          "histogram2d": [
           {
            "colorbar": {
             "outlinewidth": 0,
             "ticks": ""
            },
            "colorscale": [
             [
              0,
              "#0d0887"
             ],
             [
              0.1111111111111111,
              "#46039f"
             ],
             [
              0.2222222222222222,
              "#7201a8"
             ],
             [
              0.3333333333333333,
              "#9c179e"
             ],
             [
              0.4444444444444444,
              "#bd3786"
             ],
             [
              0.5555555555555556,
              "#d8576b"
             ],
             [
              0.6666666666666666,
              "#ed7953"
             ],
             [
              0.7777777777777778,
              "#fb9f3a"
             ],
             [
              0.8888888888888888,
              "#fdca26"
             ],
             [
              1,
              "#f0f921"
             ]
            ],
            "type": "histogram2d"
           }
          ],
          "histogram2dcontour": [
           {
            "colorbar": {
             "outlinewidth": 0,
             "ticks": ""
            },
            "colorscale": [
             [
              0,
              "#0d0887"
             ],
             [
              0.1111111111111111,
              "#46039f"
             ],
             [
              0.2222222222222222,
              "#7201a8"
             ],
             [
              0.3333333333333333,
              "#9c179e"
             ],
             [
              0.4444444444444444,
              "#bd3786"
             ],
             [
              0.5555555555555556,
              "#d8576b"
             ],
             [
              0.6666666666666666,
              "#ed7953"
             ],
             [
              0.7777777777777778,
              "#fb9f3a"
             ],
             [
              0.8888888888888888,
              "#fdca26"
             ],
             [
              1,
              "#f0f921"
             ]
            ],
            "type": "histogram2dcontour"
           }
          ],
          "mesh3d": [
           {
            "colorbar": {
             "outlinewidth": 0,
             "ticks": ""
            },
            "type": "mesh3d"
           }
          ],
          "parcoords": [
           {
            "line": {
             "colorbar": {
              "outlinewidth": 0,
              "ticks": ""
             }
            },
            "type": "parcoords"
           }
          ],
          "pie": [
           {
            "automargin": true,
            "type": "pie"
           }
          ],
          "scatter": [
           {
            "marker": {
             "colorbar": {
              "outlinewidth": 0,
              "ticks": ""
             }
            },
            "type": "scatter"
           }
          ],
          "scatter3d": [
           {
            "line": {
             "colorbar": {
              "outlinewidth": 0,
              "ticks": ""
             }
            },
            "marker": {
             "colorbar": {
              "outlinewidth": 0,
              "ticks": ""
             }
            },
            "type": "scatter3d"
           }
          ],
          "scattercarpet": [
           {
            "marker": {
             "colorbar": {
              "outlinewidth": 0,
              "ticks": ""
             }
            },
            "type": "scattercarpet"
           }
          ],
          "scattergeo": [
           {
            "marker": {
             "colorbar": {
              "outlinewidth": 0,
              "ticks": ""
             }
            },
            "type": "scattergeo"
           }
          ],
          "scattergl": [
           {
            "marker": {
             "colorbar": {
              "outlinewidth": 0,
              "ticks": ""
             }
            },
            "type": "scattergl"
           }
          ],
          "scattermapbox": [
           {
            "marker": {
             "colorbar": {
              "outlinewidth": 0,
              "ticks": ""
             }
            },
            "type": "scattermapbox"
           }
          ],
          "scatterpolar": [
           {
            "marker": {
             "colorbar": {
              "outlinewidth": 0,
              "ticks": ""
             }
            },
            "type": "scatterpolar"
           }
          ],
          "scatterpolargl": [
           {
            "marker": {
             "colorbar": {
              "outlinewidth": 0,
              "ticks": ""
             }
            },
            "type": "scatterpolargl"
           }
          ],
          "scatterternary": [
           {
            "marker": {
             "colorbar": {
              "outlinewidth": 0,
              "ticks": ""
             }
            },
            "type": "scatterternary"
           }
          ],
          "surface": [
           {
            "colorbar": {
             "outlinewidth": 0,
             "ticks": ""
            },
            "colorscale": [
             [
              0,
              "#0d0887"
             ],
             [
              0.1111111111111111,
              "#46039f"
             ],
             [
              0.2222222222222222,
              "#7201a8"
             ],
             [
              0.3333333333333333,
              "#9c179e"
             ],
             [
              0.4444444444444444,
              "#bd3786"
             ],
             [
              0.5555555555555556,
              "#d8576b"
             ],
             [
              0.6666666666666666,
              "#ed7953"
             ],
             [
              0.7777777777777778,
              "#fb9f3a"
             ],
             [
              0.8888888888888888,
              "#fdca26"
             ],
             [
              1,
              "#f0f921"
             ]
            ],
            "type": "surface"
           }
          ],
          "table": [
           {
            "cells": {
             "fill": {
              "color": "#EBF0F8"
             },
             "line": {
              "color": "white"
             }
            },
            "header": {
             "fill": {
              "color": "#C8D4E3"
             },
             "line": {
              "color": "white"
             }
            },
            "type": "table"
           }
          ]
         },
         "layout": {
          "annotationdefaults": {
           "arrowcolor": "#2a3f5f",
           "arrowhead": 0,
           "arrowwidth": 1
          },
          "autotypenumbers": "strict",
          "coloraxis": {
           "colorbar": {
            "outlinewidth": 0,
            "ticks": ""
           }
          },
          "colorscale": {
           "diverging": [
            [
             0,
             "#8e0152"
            ],
            [
             0.1,
             "#c51b7d"
            ],
            [
             0.2,
             "#de77ae"
            ],
            [
             0.3,
             "#f1b6da"
            ],
            [
             0.4,
             "#fde0ef"
            ],
            [
             0.5,
             "#f7f7f7"
            ],
            [
             0.6,
             "#e6f5d0"
            ],
            [
             0.7,
             "#b8e186"
            ],
            [
             0.8,
             "#7fbc41"
            ],
            [
             0.9,
             "#4d9221"
            ],
            [
             1,
             "#276419"
            ]
           ],
           "sequential": [
            [
             0,
             "#0d0887"
            ],
            [
             0.1111111111111111,
             "#46039f"
            ],
            [
             0.2222222222222222,
             "#7201a8"
            ],
            [
             0.3333333333333333,
             "#9c179e"
            ],
            [
             0.4444444444444444,
             "#bd3786"
            ],
            [
             0.5555555555555556,
             "#d8576b"
            ],
            [
             0.6666666666666666,
             "#ed7953"
            ],
            [
             0.7777777777777778,
             "#fb9f3a"
            ],
            [
             0.8888888888888888,
             "#fdca26"
            ],
            [
             1,
             "#f0f921"
            ]
           ],
           "sequentialminus": [
            [
             0,
             "#0d0887"
            ],
            [
             0.1111111111111111,
             "#46039f"
            ],
            [
             0.2222222222222222,
             "#7201a8"
            ],
            [
             0.3333333333333333,
             "#9c179e"
            ],
            [
             0.4444444444444444,
             "#bd3786"
            ],
            [
             0.5555555555555556,
             "#d8576b"
            ],
            [
             0.6666666666666666,
             "#ed7953"
            ],
            [
             0.7777777777777778,
             "#fb9f3a"
            ],
            [
             0.8888888888888888,
             "#fdca26"
            ],
            [
             1,
             "#f0f921"
            ]
           ]
          },
          "colorway": [
           "#636efa",
           "#EF553B",
           "#00cc96",
           "#ab63fa",
           "#FFA15A",
           "#19d3f3",
           "#FF6692",
           "#B6E880",
           "#FF97FF",
           "#FECB52"
          ],
          "font": {
           "color": "#2a3f5f"
          },
          "geo": {
           "bgcolor": "white",
           "lakecolor": "white",
           "landcolor": "#E5ECF6",
           "showlakes": true,
           "showland": true,
           "subunitcolor": "white"
          },
          "hoverlabel": {
           "align": "left"
          },
          "hovermode": "closest",
          "mapbox": {
           "style": "light"
          },
          "paper_bgcolor": "white",
          "plot_bgcolor": "#E5ECF6",
          "polar": {
           "angularaxis": {
            "gridcolor": "white",
            "linecolor": "white",
            "ticks": ""
           },
           "bgcolor": "#E5ECF6",
           "radialaxis": {
            "gridcolor": "white",
            "linecolor": "white",
            "ticks": ""
           }
          },
          "scene": {
           "xaxis": {
            "backgroundcolor": "#E5ECF6",
            "gridcolor": "white",
            "gridwidth": 2,
            "linecolor": "white",
            "showbackground": true,
            "ticks": "",
            "zerolinecolor": "white"
           },
           "yaxis": {
            "backgroundcolor": "#E5ECF6",
            "gridcolor": "white",
            "gridwidth": 2,
            "linecolor": "white",
            "showbackground": true,
            "ticks": "",
            "zerolinecolor": "white"
           },
           "zaxis": {
            "backgroundcolor": "#E5ECF6",
            "gridcolor": "white",
            "gridwidth": 2,
            "linecolor": "white",
            "showbackground": true,
            "ticks": "",
            "zerolinecolor": "white"
           }
          },
          "shapedefaults": {
           "line": {
            "color": "#2a3f5f"
           }
          },
          "ternary": {
           "aaxis": {
            "gridcolor": "white",
            "linecolor": "white",
            "ticks": ""
           },
           "baxis": {
            "gridcolor": "white",
            "linecolor": "white",
            "ticks": ""
           },
           "bgcolor": "#E5ECF6",
           "caxis": {
            "gridcolor": "white",
            "linecolor": "white",
            "ticks": ""
           }
          },
          "title": {
           "x": 0.05
          },
          "xaxis": {
           "automargin": true,
           "gridcolor": "white",
           "linecolor": "white",
           "ticks": "",
           "title": {
            "standoff": 15
           },
           "zerolinecolor": "white",
           "zerolinewidth": 2
          },
          "yaxis": {
           "automargin": true,
           "gridcolor": "white",
           "linecolor": "white",
           "ticks": "",
           "title": {
            "standoff": 15
           },
           "zerolinecolor": "white",
           "zerolinewidth": 2
          }
         }
        },
        "title": {
         "text": "Life expectancy vs. GDP per capita, 2018"
        },
        "xaxis": {
         "anchor": "y",
         "domain": [
          0,
          1
         ],
         "range": [
          2.7189074773809407,
          5.214218873312952
         ],
         "title": {
          "text": "GDP per capita ($)"
         },
         "type": "log"
        },
        "yaxis": {
         "anchor": "x",
         "domain": [
          0,
          1
         ],
         "range": [
          51.805,
          89.68700000000001
         ],
         "title": {
          "text": "Life expectancy (years)"
         }
        }
       }
      },
      "text/html": [
       "<div>                            <div id=\"ec915685-ac24-4179-9b2e-0460204af134\" class=\"plotly-graph-div\" style=\"height:525px; width:100%;\"></div>            <script type=\"text/javascript\">                require([\"plotly\"], function(Plotly) {                    window.PLOTLYENV=window.PLOTLYENV || {};                                    if (document.getElementById(\"ec915685-ac24-4179-9b2e-0460204af134\")) {                    Plotly.newPlot(                        \"ec915685-ac24-4179-9b2e-0460204af134\",                        [{\"customdata\":[[\"Afghanistan\"],[\"Armenia\"],[\"Azerbaijan\"],[\"Bahrain\"],[\"Bangladesh\"],[\"Cambodia\"],[\"China\"],[\"Georgia\"],[\"Hong Kong\"],[\"India\"],[\"Indonesia\"],[\"Iran\"],[\"Iraq\"],[\"Israel\"],[\"Japan\"],[\"Jordan\"],[\"Kazakhstan\"],[\"Kuwait\"],[\"Kyrgyzstan\"],[\"Laos\"],[\"Lebanon\"],[\"Malaysia\"],[\"Mongolia\"],[\"Myanmar\"],[\"Nepal\"],[\"North Korea\"],[\"Oman\"],[\"Pakistan\"],[\"Palestine\"],[\"Philippines\"],[\"Qatar\"],[\"Saudi Arabia\"],[\"Singapore\"],[\"South Korea\"],[\"Sri Lanka\"],[\"Syria\"],[\"Taiwan\"],[\"Tajikistan\"],[\"Thailand\"],[\"Turkey\"],[\"Turkmenistan\"],[\"United Arab Emirates\"],[\"Uzbekistan\"],[\"Vietnam\"],[\"Yemen\"]],\"hovertemplate\":\"Continent=Asia<br>GDP per capita ($)=%{x}<br>Life expectancy (years)=%{y}<br>Entity=%{customdata[0]}<extra></extra>\",\"legendgroup\":\"Asia\",\"marker\":{\"color\":\"#636efa\",\"symbol\":\"circle\"},\"mode\":\"markers\",\"name\":\"Asia\",\"orientation\":\"v\",\"showlegend\":true,\"x\":[1934.555,11454.4251,16628.0553,39498.7672,4099.253,3628.5611,13101.7064,11984.9049,50839.3714,6806.4986,11851.7372,17011.3042,12835.8126,32954.7701,38673.8081,11506.3383,25307.5554,65520.7367,5176.9883,6450.9066,12558.9669,24842.3559,13382.5423,5838.2173,2727.4238,1596.3517,36477.6365,5510.3967,5207.7569,8139.1395,153764.1643,50304.7502,68402.3451,37927.6095,11662.9064,3349.4597,44663.8642,4440.3819,16648.6237,19270.2202,26318.366,76397.8181,11220.3702,6814.1423,2284.8899],\"xaxis\":\"x\",\"y\":[64.486,74.945,72.86399999999999,77.163,72.32,69.57,76.704,73.6,84.68700000000001,69.416,71.509,76.479,70.454,82.819,84.47,74.405,73.236,75.398,71.321,67.61,78.875,75.997,69.689,66.867,70.47800000000001,72.095,77.633,67.11399999999999,73.895,71.095,80.1,74.998,83.458,82.846,76.812,71.779,80.283,70.87899999999999,76.931,77.437,68.07300000000001,77.814,71.57300000000001,75.317,66.096],\"yaxis\":\"y\",\"type\":\"scatter\"},{\"customdata\":[[\"Albania\"],[\"Austria\"],[\"Belarus\"],[\"Belgium\"],[\"Bosnia and Herzegovina\"],[\"Bulgaria\"],[\"Croatia\"],[\"Cyprus\"],[\"Czechia\"],[\"Denmark\"],[\"Estonia\"],[\"Finland\"],[\"France\"],[\"Germany\"],[\"Greece\"],[\"Hungary\"],[\"Iceland\"],[\"Ireland\"],[\"Italy\"],[\"Latvia\"],[\"Lithuania\"],[\"Luxembourg\"],[\"Malta\"],[\"Moldova\"],[\"Montenegro\"],[\"Netherlands\"],[\"North Macedonia\"],[\"Norway\"],[\"Poland\"],[\"Portugal\"],[\"Romania\"],[\"Russia\"],[\"Serbia\"],[\"Slovakia\"],[\"Slovenia\"],[\"Spain\"],[\"Sweden\"],[\"Switzerland\"],[\"Ukraine\"],[\"United Kingdom\"]],\"hovertemplate\":\"Continent=Europe<br>GDP per capita ($)=%{x}<br>Life expectancy (years)=%{y}<br>Entity=%{customdata[0]}<extra></extra>\",\"legendgroup\":\"Europe\",\"marker\":{\"color\":\"#EF553B\",\"symbol\":\"circle\"},\"mode\":\"markers\",\"name\":\"Europe\",\"orientation\":\"v\",\"showlegend\":true,\"x\":[11104.1665,42988.0709,18727.3176,39756.2031,10460.5201,18444.2602,22012.3147,27184.4166,30748.5084,46312.3443,27408.6649,38896.7005,38515.9193,46177.6187,23450.7658,25622.8123,43438.5412,64684.302,34364.1682,24312.6778,27370.5548,57427.5003,32028.9124,6746.7285,19504.1588,47474.1095,13074.2313,84580.1362,27455.237,27035.6002,20126.2922,24668.9079,14124.1177,27075.5344,29244.9198,31496.52,45541.8921,61372.7301,9813.3637,38058.0856],\"xaxis\":\"x\",\"y\":[78.458,81.434,74.59,81.468,77.262,74.928,78.342,80.828,79.222,80.78399999999999,78.567,81.736,82.541,81.18,82.072,76.70100000000001,82.855,82.103,83.352,75.172,75.737,82.102,82.376,71.808,76.77,82.14299999999999,75.688,82.271,78.544,81.857,75.92399999999999,72.38600000000001,75.84899999999999,77.388,81.172,83.43299999999999,82.654,83.63,71.953,81.236],\"yaxis\":\"y\",\"type\":\"scatter\"},{\"customdata\":[[\"Algeria\"],[\"Angola\"],[\"Benin\"],[\"Botswana\"],[\"Burkina Faso\"],[\"Burundi\"],[\"Cameroon\"],[\"Cape Verde\"],[\"Central African Republic\"],[\"Chad\"],[\"Comoros\"],[\"Congo\"],[\"Cote d'Ivoire\"],[\"Democratic Republic of Congo\"],[\"Djibouti\"],[\"Egypt\"],[\"Equatorial Guinea\"],[\"Eswatini\"],[\"Ethiopia\"],[\"Gabon\"],[\"Gambia\"],[\"Ghana\"],[\"Guinea\"],[\"Guinea-Bissau\"],[\"Kenya\"],[\"Lesotho\"],[\"Liberia\"],[\"Libya\"],[\"Madagascar\"],[\"Malawi\"],[\"Mali\"],[\"Mauritania\"],[\"Mauritius\"],[\"Morocco\"],[\"Mozambique\"],[\"Namibia\"],[\"Niger\"],[\"Nigeria\"],[\"Rwanda\"],[\"Sao Tome and Principe\"],[\"Senegal\"],[\"Seychelles\"],[\"Sierra Leone\"],[\"South Africa\"],[\"Sudan\"],[\"Tanzania\"],[\"Togo\"],[\"Tunisia\"],[\"Uganda\"],[\"Zambia\"],[\"Zimbabwe\"]],\"hovertemplate\":\"Continent=Africa<br>GDP per capita ($)=%{x}<br>Life expectancy (years)=%{y}<br>Entity=%{customdata[0]}<extra></extra>\",\"legendgroup\":\"Africa\",\"marker\":{\"color\":\"#00cc96\",\"symbol\":\"circle\"},\"mode\":\"markers\",\"name\":\"Africa\",\"orientation\":\"v\",\"showlegend\":true,\"x\":[14228.025,7771.4418,2220.1766,15842.1301,1589.6242,651.3589,2888.0459,6831.215999999999,623.4889,2046.3631,1724.4206,5714.5917,3713.6436,859.3817,3295.6815,11957.2122,28528.952999999998,8068.2118,1838.4903,17613.5564,1882.2399,4267.0667,1606.4666,1501.4136,3377.4704,2731.4661,818.4211,15013.3124,1427.6004,1116.6402,1667.2951,3457.515,20138.5723,8451.1355,1132.7709,9043.1202,964.6601,5237.6623,1929.2851,3730.2045,2617.1244,29531.0612,1683.8497,12165.7948,3379.5957,2874.9629,1451.3609,11353.8865,2045.4203,3534.0337,1611.4052],\"xaxis\":\"x\",\"y\":[76.693,60.782,61.47,69.275,61.174,61.247,58.92100000000001,72.782,52.805,53.977,64.118,64.29,57.422,60.368,66.582,71.825,58.402,59.401,66.24,66.187,61.735,63.78,61.185,58.003,66.342,53.705,63.73,72.72399999999999,66.681,63.798,58.893,64.704,74.863,76.453,60.163000000000004,63.373000000000005,62.023999999999994,54.332,68.7,70.17,67.665,73.333,54.309,63.857,65.095,65.015,60.76,76.505,62.973,63.51,61.195],\"yaxis\":\"y\",\"type\":\"scatter\"},{\"customdata\":[[\"Argentina\"],[\"Bolivia\"],[\"Brazil\"],[\"Chile\"],[\"Colombia\"],[\"Ecuador\"],[\"Paraguay\"],[\"Peru\"],[\"Uruguay\"],[\"Venezuela\"]],\"hovertemplate\":\"Continent=South America<br>GDP per capita ($)=%{x}<br>Life expectancy (years)=%{y}<br>Entity=%{customdata[0]}<extra></extra>\",\"legendgroup\":\"South America\",\"marker\":{\"color\":\"#ab63fa\",\"symbol\":\"circle\"},\"mode\":\"markers\",\"name\":\"South America\",\"orientation\":\"v\",\"showlegend\":true,\"x\":[18556.3831,6695.7746,14033.5656,22104.7654,13545.0495,10638.8251,9338.9484,12310.0847,20185.836,10709.9506],\"xaxis\":\"x\",\"y\":[76.52,71.23899999999999,75.672,80.042,77.109,76.8,74.131,76.516,77.77,72.128],\"yaxis\":\"y\",\"type\":\"scatter\"},{\"customdata\":[[\"Australia\"],[\"New Zealand\"]],\"hovertemplate\":\"Continent=Oceania<br>GDP per capita ($)=%{x}<br>Life expectancy (years)=%{y}<br>Entity=%{customdata[0]}<extra></extra>\",\"legendgroup\":\"Oceania\",\"marker\":{\"color\":\"#FFA15A\",\"symbol\":\"circle\"},\"mode\":\"markers\",\"name\":\"Oceania\",\"orientation\":\"v\",\"showlegend\":true,\"x\":[49830.7993,35336.1363],\"xaxis\":\"x\",\"y\":[83.281,82.145],\"yaxis\":\"y\",\"type\":\"scatter\"},{\"customdata\":[[\"Barbados\"],[\"Canada\"],[\"Costa Rica\"],[\"Cuba\"],[\"Dominica\"],[\"Dominican Republic\"],[\"El Salvador\"],[\"Guatemala\"],[\"Haiti\"],[\"Honduras\"],[\"Jamaica\"],[\"Mexico\"],[\"Nicaragua\"],[\"Panama\"],[\"Puerto Rico\"],[\"Saint Lucia\"],[\"Trinidad and Tobago\"],[\"United States\"]],\"hovertemplate\":\"Continent=North America<br>GDP per capita ($)=%{x}<br>Life expectancy (years)=%{y}<br>Entity=%{customdata[0]}<extra></extra>\",\"legendgroup\":\"North America\",\"marker\":{\"color\":\"#19d3f3\",\"symbol\":\"circle\"},\"mode\":\"markers\",\"name\":\"North America\",\"orientation\":\"v\",\"showlegend\":true,\"x\":[11995.1868,44868.7435,14686.2539,8325.6313,9021.1737,15912.3995,8598.1982,7402.1146,1729.0432,5041.6354,7272.9805,16494.078999999998,4952.4772,22637.1482,35076.2933,10475.3689,28549.4083,55334.7394],\"xaxis\":\"x\",\"y\":[79.081,82.315,80.095,78.726,74.806,73.892,73.096,74.063,63.66,75.08800000000001,74.368,74.992,74.275,78.329,79.952,76.057,73.38,78.851],\"yaxis\":\"y\",\"type\":\"scatter\"},{\"hovertemplate\":\"<b>OLS trendline</b><br>Life expectancy = 12.2435 * log10(GDP per capita) + 23.3933<br>R<sup>2</sup>=0.674900<br><br>GDP per capita ($)=%{x}<br>Life expectancy (years)=%{y} <b>(trend)</b><extra></extra>\",\"legendgroup\":\"Overall Trendline\",\"line\":{\"color\":\"black\"},\"mode\":\"lines\",\"name\":\"Overall Trendline\",\"showlegend\":true,\"x\":[623.4889,651.3589,818.4211,859.3817,964.6601,1116.6402,1132.7709,1427.6004,1451.3609,1501.4136,1589.6242,1596.3517,1606.4666,1611.4052,1667.2951,1683.8497,1724.4206,1729.0432,1838.4903,1882.2399,1929.2851,1934.555,2045.4203,2046.3631,2220.1766,2284.8899,2617.1244,2727.4238,2731.4661,2874.9629,2888.0459,3295.6815,3349.4597,3377.4704,3379.5957,3457.515,3534.0337,3628.5611,3713.6436,3730.2045,4099.253,4267.0667,4440.3819,4952.4772,5041.6354,5176.9883,5207.7569,5237.6623,5510.3967,5714.5917,5838.2173,6450.9066,6695.7746,6746.7285,6806.4986,6814.1423,6831.215999999999,7272.9805,7402.1146,7771.4418,8068.2118,8139.1395,8325.6313,8451.1355,8598.1982,9021.1737,9043.1202,9338.9484,9813.3637,10460.5201,10475.3689,10638.8251,10709.9506,11104.1665,11220.3702,11353.8865,11454.4251,11506.3383,11662.9064,11851.7372,11957.2122,11984.9049,11995.1868,12165.7948,12310.0847,12558.9669,12835.8126,13074.2313,13101.7064,13382.5423,13545.0495,14033.5656,14124.1177,14228.025,14686.2539,15013.3124,15842.1301,15912.3995,16494.078999999998,16628.0553,16648.6237,17011.3042,17613.5564,18444.2602,18556.3831,18727.3176,19270.2202,19504.1588,20126.2922,20138.5723,20185.836,22012.3147,22104.7654,22637.1482,23450.7658,24312.6778,24668.9079,24842.3559,25307.5554,25622.8123,26318.366,27035.6002,27075.5344,27184.4166,27370.5548,27408.6649,27455.237,28528.952999999998,28549.4083,29244.9198,29531.0612,30748.5084,31496.52,32028.9124,32954.7701,34364.1682,35076.2933,35336.1363,36477.6365,37927.6095,38058.0856,38515.9193,38673.8081,38896.7005,39498.7672,39756.2031,42988.0709,43438.5412,44663.8642,44868.7435,45541.8921,46177.6187,46312.3443,47474.1095,49830.7993,50304.7502,50839.3714,55334.7394,57427.5003,61372.7301,64684.302,65520.7367,68402.3451,76397.8181,84580.1362,153764.1643],\"y\":[57.61177456401782,57.84429852984073,59.0583207160562,59.317996582145824,59.932475981838394,60.71041502805758,60.7866776470929,62.016715693085146,62.10448638059992,62.284771017970186,62.58833782858632,62.61079379533511,62.644379203218534,62.660700525714475,62.84199875978983,62.894533782169034,63.02113008332279,63.03536488947232,63.36172148565642,63.486772095614796,63.61803998224978,63.63254450318047,63.92885532831497,63.93130567106117,64.36478464429723,64.51755606074306,65.23942165871155,65.45892630219048,65.4668011864009,65.7390529137909,65.76319521675677,66.46525149717489,66.55131745788017,66.59559968430295,66.598944575381,66.72014694892974,66.83654117257058,66.97689764228858,67.10013803847173,67.12379761896717,67.6254392970027,67.83877871284402,68.05047975049777,68.63084810810938,68.72572238227303,68.86659301013411,68.89810189639414,68.92854891827223,69.19846142495422,69.39193738287359,69.50574132019926,70.03638071114904,70.23448141701707,70.27479201642382,70.32169105861877,70.32765902031235,70.3409654891101,70.67416506054138,70.7677468006601,71.02664533290861,71.2259167608913,71.2724567733044,71.39291667815782,71.4724736024068,71.56420664243296,71.81955209615332,71.83247215178038,72.00363226966343,72.26711139712604,72.60668956344294,72.61423214325607,72.69656163945183,72.73199186000633,72.92419641336022,72.97955198181722,73.04245127780709,73.08932855730203,73.11337285562753,73.18523793452542,73.27063907273161,73.31775112618304,73.3300516281546,73.33461139308143,73.40970654956489,73.47240005420346,73.57883126528145,73.69477050089907,73.79263029909475,73.80379268631125,73.9165646482217,73.98074472847425,74.16914075888357,74.2033405138671,74.24231514460749,74.410864215771,74.52797928529918,74.81370650411904,74.83723971364284,75.02814522055539,75.07116140895,75.07773466392005,75.19232492871447,75.37731740044462,75.62236108544838,75.65458707540768,75.70334370167721,75.85529902256216,75.91946165831986,76.08642074999173,76.08966411305032,76.10212875487214,76.5627166440891,76.58500222553685,76.71154864161265,76.89930657467734,77.09123280581302,77.16857657279549,77.20583177731906,77.30448276054494,77.37031114954347,77.51272909635483,77.65569758771555,77.66354593691705,77.68488611130016,77.72117074587497,77.72856925489596,77.73759658087714,77.94158108361151,77.94539221803055,78.07337747763742,78.12515057327214,78.33996277389795,78.46776677834035,78.55689480199952,78.70842151560772,78.9311007811491,79.04016412561442,79.07940905518953,79.24846277051059,79.45573028273473,79.47399106777145,79.53757559714835,79.55932825422578,79.58988588702047,79.67155955895086,79.70610287458173,80.12168467792499,80.17711437400978,80.32502886214918,80.34936420654569,80.4285449072379,80.502256449775,80.51774731654523,80.64948813416466,80.90710393829814,80.95743872133072,81.01365077663787,81.46418337646939,81.66157361882436,82.01486630009133,82.29430524900967,82.3626224580208,82.59148064543464,83.1792906391693,83.72029937189481,86.89854975894261],\"type\":\"scatter\",\"xaxis\":\"x\",\"yaxis\":\"y\"}],                        {\"template\":{\"data\":{\"bar\":[{\"error_x\":{\"color\":\"#2a3f5f\"},\"error_y\":{\"color\":\"#2a3f5f\"},\"marker\":{\"line\":{\"color\":\"#E5ECF6\",\"width\":0.5},\"pattern\":{\"fillmode\":\"overlay\",\"size\":10,\"solidity\":0.2}},\"type\":\"bar\"}],\"barpolar\":[{\"marker\":{\"line\":{\"color\":\"#E5ECF6\",\"width\":0.5},\"pattern\":{\"fillmode\":\"overlay\",\"size\":10,\"solidity\":0.2}},\"type\":\"barpolar\"}],\"carpet\":[{\"aaxis\":{\"endlinecolor\":\"#2a3f5f\",\"gridcolor\":\"white\",\"linecolor\":\"white\",\"minorgridcolor\":\"white\",\"startlinecolor\":\"#2a3f5f\"},\"baxis\":{\"endlinecolor\":\"#2a3f5f\",\"gridcolor\":\"white\",\"linecolor\":\"white\",\"minorgridcolor\":\"white\",\"startlinecolor\":\"#2a3f5f\"},\"type\":\"carpet\"}],\"choropleth\":[{\"colorbar\":{\"outlinewidth\":0,\"ticks\":\"\"},\"type\":\"choropleth\"}],\"contour\":[{\"colorbar\":{\"outlinewidth\":0,\"ticks\":\"\"},\"colorscale\":[[0.0,\"#0d0887\"],[0.1111111111111111,\"#46039f\"],[0.2222222222222222,\"#7201a8\"],[0.3333333333333333,\"#9c179e\"],[0.4444444444444444,\"#bd3786\"],[0.5555555555555556,\"#d8576b\"],[0.6666666666666666,\"#ed7953\"],[0.7777777777777778,\"#fb9f3a\"],[0.8888888888888888,\"#fdca26\"],[1.0,\"#f0f921\"]],\"type\":\"contour\"}],\"contourcarpet\":[{\"colorbar\":{\"outlinewidth\":0,\"ticks\":\"\"},\"type\":\"contourcarpet\"}],\"heatmap\":[{\"colorbar\":{\"outlinewidth\":0,\"ticks\":\"\"},\"colorscale\":[[0.0,\"#0d0887\"],[0.1111111111111111,\"#46039f\"],[0.2222222222222222,\"#7201a8\"],[0.3333333333333333,\"#9c179e\"],[0.4444444444444444,\"#bd3786\"],[0.5555555555555556,\"#d8576b\"],[0.6666666666666666,\"#ed7953\"],[0.7777777777777778,\"#fb9f3a\"],[0.8888888888888888,\"#fdca26\"],[1.0,\"#f0f921\"]],\"type\":\"heatmap\"}],\"heatmapgl\":[{\"colorbar\":{\"outlinewidth\":0,\"ticks\":\"\"},\"colorscale\":[[0.0,\"#0d0887\"],[0.1111111111111111,\"#46039f\"],[0.2222222222222222,\"#7201a8\"],[0.3333333333333333,\"#9c179e\"],[0.4444444444444444,\"#bd3786\"],[0.5555555555555556,\"#d8576b\"],[0.6666666666666666,\"#ed7953\"],[0.7777777777777778,\"#fb9f3a\"],[0.8888888888888888,\"#fdca26\"],[1.0,\"#f0f921\"]],\"type\":\"heatmapgl\"}],\"histogram\":[{\"marker\":{\"pattern\":{\"fillmode\":\"overlay\",\"size\":10,\"solidity\":0.2}},\"type\":\"histogram\"}],\"histogram2d\":[{\"colorbar\":{\"outlinewidth\":0,\"ticks\":\"\"},\"colorscale\":[[0.0,\"#0d0887\"],[0.1111111111111111,\"#46039f\"],[0.2222222222222222,\"#7201a8\"],[0.3333333333333333,\"#9c179e\"],[0.4444444444444444,\"#bd3786\"],[0.5555555555555556,\"#d8576b\"],[0.6666666666666666,\"#ed7953\"],[0.7777777777777778,\"#fb9f3a\"],[0.8888888888888888,\"#fdca26\"],[1.0,\"#f0f921\"]],\"type\":\"histogram2d\"}],\"histogram2dcontour\":[{\"colorbar\":{\"outlinewidth\":0,\"ticks\":\"\"},\"colorscale\":[[0.0,\"#0d0887\"],[0.1111111111111111,\"#46039f\"],[0.2222222222222222,\"#7201a8\"],[0.3333333333333333,\"#9c179e\"],[0.4444444444444444,\"#bd3786\"],[0.5555555555555556,\"#d8576b\"],[0.6666666666666666,\"#ed7953\"],[0.7777777777777778,\"#fb9f3a\"],[0.8888888888888888,\"#fdca26\"],[1.0,\"#f0f921\"]],\"type\":\"histogram2dcontour\"}],\"mesh3d\":[{\"colorbar\":{\"outlinewidth\":0,\"ticks\":\"\"},\"type\":\"mesh3d\"}],\"parcoords\":[{\"line\":{\"colorbar\":{\"outlinewidth\":0,\"ticks\":\"\"}},\"type\":\"parcoords\"}],\"pie\":[{\"automargin\":true,\"type\":\"pie\"}],\"scatter\":[{\"marker\":{\"colorbar\":{\"outlinewidth\":0,\"ticks\":\"\"}},\"type\":\"scatter\"}],\"scatter3d\":[{\"line\":{\"colorbar\":{\"outlinewidth\":0,\"ticks\":\"\"}},\"marker\":{\"colorbar\":{\"outlinewidth\":0,\"ticks\":\"\"}},\"type\":\"scatter3d\"}],\"scattercarpet\":[{\"marker\":{\"colorbar\":{\"outlinewidth\":0,\"ticks\":\"\"}},\"type\":\"scattercarpet\"}],\"scattergeo\":[{\"marker\":{\"colorbar\":{\"outlinewidth\":0,\"ticks\":\"\"}},\"type\":\"scattergeo\"}],\"scattergl\":[{\"marker\":{\"colorbar\":{\"outlinewidth\":0,\"ticks\":\"\"}},\"type\":\"scattergl\"}],\"scattermapbox\":[{\"marker\":{\"colorbar\":{\"outlinewidth\":0,\"ticks\":\"\"}},\"type\":\"scattermapbox\"}],\"scatterpolar\":[{\"marker\":{\"colorbar\":{\"outlinewidth\":0,\"ticks\":\"\"}},\"type\":\"scatterpolar\"}],\"scatterpolargl\":[{\"marker\":{\"colorbar\":{\"outlinewidth\":0,\"ticks\":\"\"}},\"type\":\"scatterpolargl\"}],\"scatterternary\":[{\"marker\":{\"colorbar\":{\"outlinewidth\":0,\"ticks\":\"\"}},\"type\":\"scatterternary\"}],\"surface\":[{\"colorbar\":{\"outlinewidth\":0,\"ticks\":\"\"},\"colorscale\":[[0.0,\"#0d0887\"],[0.1111111111111111,\"#46039f\"],[0.2222222222222222,\"#7201a8\"],[0.3333333333333333,\"#9c179e\"],[0.4444444444444444,\"#bd3786\"],[0.5555555555555556,\"#d8576b\"],[0.6666666666666666,\"#ed7953\"],[0.7777777777777778,\"#fb9f3a\"],[0.8888888888888888,\"#fdca26\"],[1.0,\"#f0f921\"]],\"type\":\"surface\"}],\"table\":[{\"cells\":{\"fill\":{\"color\":\"#EBF0F8\"},\"line\":{\"color\":\"white\"}},\"header\":{\"fill\":{\"color\":\"#C8D4E3\"},\"line\":{\"color\":\"white\"}},\"type\":\"table\"}]},\"layout\":{\"annotationdefaults\":{\"arrowcolor\":\"#2a3f5f\",\"arrowhead\":0,\"arrowwidth\":1},\"autotypenumbers\":\"strict\",\"coloraxis\":{\"colorbar\":{\"outlinewidth\":0,\"ticks\":\"\"}},\"colorscale\":{\"diverging\":[[0,\"#8e0152\"],[0.1,\"#c51b7d\"],[0.2,\"#de77ae\"],[0.3,\"#f1b6da\"],[0.4,\"#fde0ef\"],[0.5,\"#f7f7f7\"],[0.6,\"#e6f5d0\"],[0.7,\"#b8e186\"],[0.8,\"#7fbc41\"],[0.9,\"#4d9221\"],[1,\"#276419\"]],\"sequential\":[[0.0,\"#0d0887\"],[0.1111111111111111,\"#46039f\"],[0.2222222222222222,\"#7201a8\"],[0.3333333333333333,\"#9c179e\"],[0.4444444444444444,\"#bd3786\"],[0.5555555555555556,\"#d8576b\"],[0.6666666666666666,\"#ed7953\"],[0.7777777777777778,\"#fb9f3a\"],[0.8888888888888888,\"#fdca26\"],[1.0,\"#f0f921\"]],\"sequentialminus\":[[0.0,\"#0d0887\"],[0.1111111111111111,\"#46039f\"],[0.2222222222222222,\"#7201a8\"],[0.3333333333333333,\"#9c179e\"],[0.4444444444444444,\"#bd3786\"],[0.5555555555555556,\"#d8576b\"],[0.6666666666666666,\"#ed7953\"],[0.7777777777777778,\"#fb9f3a\"],[0.8888888888888888,\"#fdca26\"],[1.0,\"#f0f921\"]]},\"colorway\":[\"#636efa\",\"#EF553B\",\"#00cc96\",\"#ab63fa\",\"#FFA15A\",\"#19d3f3\",\"#FF6692\",\"#B6E880\",\"#FF97FF\",\"#FECB52\"],\"font\":{\"color\":\"#2a3f5f\"},\"geo\":{\"bgcolor\":\"white\",\"lakecolor\":\"white\",\"landcolor\":\"#E5ECF6\",\"showlakes\":true,\"showland\":true,\"subunitcolor\":\"white\"},\"hoverlabel\":{\"align\":\"left\"},\"hovermode\":\"closest\",\"mapbox\":{\"style\":\"light\"},\"paper_bgcolor\":\"white\",\"plot_bgcolor\":\"#E5ECF6\",\"polar\":{\"angularaxis\":{\"gridcolor\":\"white\",\"linecolor\":\"white\",\"ticks\":\"\"},\"bgcolor\":\"#E5ECF6\",\"radialaxis\":{\"gridcolor\":\"white\",\"linecolor\":\"white\",\"ticks\":\"\"}},\"scene\":{\"xaxis\":{\"backgroundcolor\":\"#E5ECF6\",\"gridcolor\":\"white\",\"gridwidth\":2,\"linecolor\":\"white\",\"showbackground\":true,\"ticks\":\"\",\"zerolinecolor\":\"white\"},\"yaxis\":{\"backgroundcolor\":\"#E5ECF6\",\"gridcolor\":\"white\",\"gridwidth\":2,\"linecolor\":\"white\",\"showbackground\":true,\"ticks\":\"\",\"zerolinecolor\":\"white\"},\"zaxis\":{\"backgroundcolor\":\"#E5ECF6\",\"gridcolor\":\"white\",\"gridwidth\":2,\"linecolor\":\"white\",\"showbackground\":true,\"ticks\":\"\",\"zerolinecolor\":\"white\"}},\"shapedefaults\":{\"line\":{\"color\":\"#2a3f5f\"}},\"ternary\":{\"aaxis\":{\"gridcolor\":\"white\",\"linecolor\":\"white\",\"ticks\":\"\"},\"baxis\":{\"gridcolor\":\"white\",\"linecolor\":\"white\",\"ticks\":\"\"},\"bgcolor\":\"#E5ECF6\",\"caxis\":{\"gridcolor\":\"white\",\"linecolor\":\"white\",\"ticks\":\"\"}},\"title\":{\"x\":0.05},\"xaxis\":{\"automargin\":true,\"gridcolor\":\"white\",\"linecolor\":\"white\",\"ticks\":\"\",\"title\":{\"standoff\":15},\"zerolinecolor\":\"white\",\"zerolinewidth\":2},\"yaxis\":{\"automargin\":true,\"gridcolor\":\"white\",\"linecolor\":\"white\",\"ticks\":\"\",\"title\":{\"standoff\":15},\"zerolinecolor\":\"white\",\"zerolinewidth\":2}}},\"xaxis\":{\"anchor\":\"y\",\"domain\":[0.0,1.0],\"title\":{\"text\":\"GDP per capita ($)\"},\"type\":\"log\",\"range\":[2.7189074773809407,5.214218873312952]},\"yaxis\":{\"anchor\":\"x\",\"domain\":[0.0,1.0],\"title\":{\"text\":\"Life expectancy (years)\"},\"range\":[51.805,89.68700000000001]},\"legend\":{\"title\":{\"text\":\"Continent\"},\"tracegroupgap\":0},\"title\":{\"text\":\"Life expectancy vs. GDP per capita, 2018\"}},                        {\"responsive\": true}                    ).then(function(){\n",
       "                            \n",
       "var gd = document.getElementById('ec915685-ac24-4179-9b2e-0460204af134');\n",
       "var x = new MutationObserver(function (mutations, observer) {{\n",
       "        var display = window.getComputedStyle(gd).display;\n",
       "        if (!display || display === 'none') {{\n",
       "            console.log([gd, 'removed!']);\n",
       "            Plotly.purge(gd);\n",
       "            observer.disconnect();\n",
       "        }}\n",
       "}});\n",
       "\n",
       "// Listen for the removal of the full notebook cells\n",
       "var notebookContainer = gd.closest('#notebook-container');\n",
       "if (notebookContainer) {{\n",
       "    x.observe(notebookContainer, {childList: true});\n",
       "}}\n",
       "\n",
       "// Listen for the clearing of the current output cell\n",
       "var outputEl = gd.closest('.output');\n",
       "if (outputEl) {{\n",
       "    x.observe(outputEl, {childList: true});\n",
       "}}\n",
       "\n",
       "                        })                };                });            </script>        </div>"
      ]
     },
     "metadata": {},
     "output_type": "display_data"
    }
   ],
   "source": [
    "plotFigure(GDPperCapita('life-expectancy-vs-gdp-per-capita.csv',\n",
    "          'GDP per capita',\n",
    "          'Life expectancy',\n",
    "          'Life expectancy vs. GDP per capita'), 'GDP per capita ($)', \n",
    "           'Life expectancy (years)', 'Life expectancy vs. GDP per capita', 100, 10000, 1, 5)"
   ]
  },
  {
   "cell_type": "markdown",
   "metadata": {},
   "source": [
    "#### B. Consider whether the results obtained seem reasonable and discuss what might be the explanation for the results you obtained. [1p]"
   ]
  },
  {
   "cell_type": "markdown",
   "metadata": {},
   "source": [
    "The results show a clear trend. Countries with a higher GDP tend to also rank higher in life expectancy. However, this does mean that it is always true. We can for example see that Saudi Arabia has one of the higher GDP per capita at approximately \\\\$50,000 and a life expectancy of 75 years. On the same y-coordinate, we find Honduras which is one of Latin America's poorest countries with a GDP of  \\\\$5,000. Even though it seems to be a positive trend related to GDP per capita and life expectancy, deviations from the regression can reveal otherwise. Generally speaking, countries with higher GDP per capita might have the ability to provide better health care to their population as well as better living standards for the people, thus resulting in a higher life expectancy. One must however consider that other factors are at play when looking at life expectancy, not only GDP per capita.  "
   ]
  },
  {
   "cell_type": "code",
   "execution_count": null,
   "metadata": {},
   "outputs": [],
   "source": []
  },
  {
   "cell_type": "markdown",
   "metadata": {},
   "source": [
    "#### C. Did you do any data cleaning (e.g., by removing entries that you think are not useful) for the task of drawing scatter plot(s) and the task of answering the questions d, e, f, and g? If so, explain what kind of entries that you chose to remove and why. If not, explain why you did not need to. [0.5p]"
   ]
  },
  {
   "cell_type": "markdown",
   "metadata": {},
   "source": [
    "As mentioned in question 1.b, we decided to remove the population size data in order to only focus on the relationship between GDP and life expectancy. Data points with null values, such as for example missing GDP data or life expectancy score, were also removed in order to avoid outliers. Lastly, we decided to only collect and visualize the data from 2018. The reasoning behind this has to do with the assumption that the quality and availability of recent data, within this context, is better than that of much earlier years. That being said, we do not believe there to be big differences between closeby years. "
   ]
  },
  {
   "cell_type": "markdown",
   "metadata": {},
   "source": [
    "#### D. Which countries have a life expectancy higher than one standard deviation above the mean? [0.5p]"
   ]
  },
  {
   "cell_type": "markdown",
   "metadata": {},
   "source": [
    "With a standard deviation of approximately 7.747 and a mean of approximately 2.66, one standard deviation above the mean would require the life expectancy to be at a minimum of 80.41. The countries with a life expectancy of one standard deviation above the mean would be those presented in table x. The data for these life expectancies are limited to that of a specific year supplied by the user. In this case, the input year was 2018. \n"
   ]
  },
  {
   "cell_type": "code",
   "execution_count": 13,
   "metadata": {},
   "outputs": [
    {
     "name": "stdout",
     "output_type": "stream",
     "text": [
      "---------------------------------------------------------------------------------------------------------------------\n",
      "List of year where data is available for the plot: \n",
      "\n",
      "[1543, 1548, 1553, 1558, 1563, 1568, 1573, 1578, 1583, 1588, 1593, 1598, 1603, 1608, 1613, 1618, 1623, 1628, 1633, 1638, 1643, 1648, 1653, 1658, 1663, 1668, 1673, 1678, 1683, 1688, 1693, 1698, 1703, 1708, 1713, 1718, 1723, 1728, 1733, 1738, 1743, 1748, 1751, 1752, 1753, 1754, 1755, 1756, 1757, 1758, 1759, 1760, 1761, 1762, 1763, 1764, 1765, 1766, 1767, 1768, 1769, 1770, 1771, 1772, 1773, 1774, 1775, 1776, 1777, 1778, 1779, 1780, 1781, 1782, 1783, 1784, 1785, 1786, 1787, 1788, 1789, 1790, 1791, 1792, 1793, 1794, 1795, 1796, 1797, 1798, 1799, 1800, 1801, 1802, 1803, 1804, 1805, 1806, 1807, 1808, 1809, 1810, 1811, 1812, 1813, 1814, 1815, 1816, 1817, 1818, 1819, 1820, 1821, 1822, 1823, 1824, 1825, 1826, 1827, 1828, 1829, 1830, 1831, 1832, 1833, 1834, 1835, 1836, 1837, 1838, 1839, 1840, 1841, 1842, 1843, 1844, 1845, 1846, 1847, 1848, 1849, 1850, 1851, 1852, 1853, 1854, 1855, 1856, 1857, 1858, 1859, 1860, 1861, 1862, 1863, 1864, 1865, 1866, 1867, 1868, 1869, 1870, 1871, 1872, 1873, 1874, 1875, 1876, 1877, 1878, 1879, 1880, 1881, 1882, 1883, 1884, 1885, 1886, 1887, 1888, 1889, 1890, 1891, 1892, 1893, 1894, 1895, 1896, 1897, 1898, 1899, 1900, 1901, 1902, 1903, 1904, 1905, 1906, 1907, 1908, 1909, 1910, 1911, 1912, 1913, 1914, 1915, 1916, 1917, 1918, 1919, 1920, 1921, 1922, 1923, 1924, 1925, 1926, 1927, 1928, 1929, 1930, 1931, 1932, 1933, 1934, 1935, 1936, 1937, 1938, 1939, 1940, 1941, 1942, 1943, 1944, 1945, 1946, 1947, 1948, 1949, 1950, 1951, 1952, 1953, 1954, 1955, 1956, 1957, 1958, 1959, 1960, 1961, 1962, 1963, 1964, 1965, 1966, 1967, 1968, 1969, 1970, 1971, 1972, 1973, 1974, 1975, 1976, 1977, 1978, 1979, 1980, 1981, 1982, 1983, 1984, 1985, 1986, 1987, 1988, 1989, 1990, 1991, 1992, 1993, 1994, 1995, 1996, 1997, 1998, 1999, 2000, 2001, 2002, 2003, 2004, 2005, 2006, 2007, 2008, 2009, 2010, 2011, 2012, 2013, 2014, 2015, 2016, 2017, 2018]\n",
      "---------------------------------------------------------------------------------------------------------------------\n",
      "Year of interest for the data \"Life expectancy vs. GDP per capita\": \n",
      "2018\n",
      "---------------------------------------------------------------------------------------------------------------------\n",
      "Dataframe with countries having Life expectancy vs. GDP per capita higher than the standard mean.\n"
     ]
    },
    {
     "data": {
      "text/html": [
       "<div>\n",
       "<style scoped>\n",
       "    .dataframe tbody tr th:only-of-type {\n",
       "        vertical-align: middle;\n",
       "    }\n",
       "\n",
       "    .dataframe tbody tr th {\n",
       "        vertical-align: top;\n",
       "    }\n",
       "\n",
       "    .dataframe thead th {\n",
       "        text-align: right;\n",
       "    }\n",
       "</style>\n",
       "<table border=\"1\" class=\"dataframe\">\n",
       "  <thead>\n",
       "    <tr style=\"text-align: right;\">\n",
       "      <th></th>\n",
       "      <th>Entity</th>\n",
       "      <th>Year</th>\n",
       "      <th>Life expectancy</th>\n",
       "    </tr>\n",
       "  </thead>\n",
       "  <tbody>\n",
       "    <tr>\n",
       "      <th>14</th>\n",
       "      <td>Australia</td>\n",
       "      <td>2018</td>\n",
       "      <td>83.281</td>\n",
       "    </tr>\n",
       "    <tr>\n",
       "      <th>15</th>\n",
       "      <td>Austria</td>\n",
       "      <td>2018</td>\n",
       "      <td>81.434</td>\n",
       "    </tr>\n",
       "    <tr>\n",
       "      <th>22</th>\n",
       "      <td>Belgium</td>\n",
       "      <td>2018</td>\n",
       "      <td>81.468</td>\n",
       "    </tr>\n",
       "    <tr>\n",
       "      <th>39</th>\n",
       "      <td>Canada</td>\n",
       "      <td>2018</td>\n",
       "      <td>82.315</td>\n",
       "    </tr>\n",
       "    <tr>\n",
       "      <th>56</th>\n",
       "      <td>Cyprus</td>\n",
       "      <td>2018</td>\n",
       "      <td>80.828</td>\n",
       "    </tr>\n",
       "    <tr>\n",
       "      <th>60</th>\n",
       "      <td>Denmark</td>\n",
       "      <td>2018</td>\n",
       "      <td>80.784</td>\n",
       "    </tr>\n",
       "    <tr>\n",
       "      <th>78</th>\n",
       "      <td>Finland</td>\n",
       "      <td>2018</td>\n",
       "      <td>81.736</td>\n",
       "    </tr>\n",
       "    <tr>\n",
       "      <th>81</th>\n",
       "      <td>France</td>\n",
       "      <td>2018</td>\n",
       "      <td>82.541</td>\n",
       "    </tr>\n",
       "    <tr>\n",
       "      <th>87</th>\n",
       "      <td>Germany</td>\n",
       "      <td>2018</td>\n",
       "      <td>81.180</td>\n",
       "    </tr>\n",
       "    <tr>\n",
       "      <th>90</th>\n",
       "      <td>Greece</td>\n",
       "      <td>2018</td>\n",
       "      <td>82.072</td>\n",
       "    </tr>\n",
       "    <tr>\n",
       "      <th>101</th>\n",
       "      <td>Hong Kong</td>\n",
       "      <td>2018</td>\n",
       "      <td>84.687</td>\n",
       "    </tr>\n",
       "    <tr>\n",
       "      <th>103</th>\n",
       "      <td>Iceland</td>\n",
       "      <td>2018</td>\n",
       "      <td>82.855</td>\n",
       "    </tr>\n",
       "    <tr>\n",
       "      <th>108</th>\n",
       "      <td>Ireland</td>\n",
       "      <td>2018</td>\n",
       "      <td>82.103</td>\n",
       "    </tr>\n",
       "    <tr>\n",
       "      <th>110</th>\n",
       "      <td>Israel</td>\n",
       "      <td>2018</td>\n",
       "      <td>82.819</td>\n",
       "    </tr>\n",
       "    <tr>\n",
       "      <th>111</th>\n",
       "      <td>Italy</td>\n",
       "      <td>2018</td>\n",
       "      <td>83.352</td>\n",
       "    </tr>\n",
       "    <tr>\n",
       "      <th>113</th>\n",
       "      <td>Japan</td>\n",
       "      <td>2018</td>\n",
       "      <td>84.470</td>\n",
       "    </tr>\n",
       "    <tr>\n",
       "      <th>130</th>\n",
       "      <td>Luxembourg</td>\n",
       "      <td>2018</td>\n",
       "      <td>82.102</td>\n",
       "    </tr>\n",
       "    <tr>\n",
       "      <th>137</th>\n",
       "      <td>Malta</td>\n",
       "      <td>2018</td>\n",
       "      <td>82.376</td>\n",
       "    </tr>\n",
       "    <tr>\n",
       "      <th>157</th>\n",
       "      <td>Netherlands</td>\n",
       "      <td>2018</td>\n",
       "      <td>82.143</td>\n",
       "    </tr>\n",
       "    <tr>\n",
       "      <th>159</th>\n",
       "      <td>New Zealand</td>\n",
       "      <td>2018</td>\n",
       "      <td>82.145</td>\n",
       "    </tr>\n",
       "    <tr>\n",
       "      <th>169</th>\n",
       "      <td>Norway</td>\n",
       "      <td>2018</td>\n",
       "      <td>82.271</td>\n",
       "    </tr>\n",
       "    <tr>\n",
       "      <th>181</th>\n",
       "      <td>Portugal</td>\n",
       "      <td>2018</td>\n",
       "      <td>81.857</td>\n",
       "    </tr>\n",
       "    <tr>\n",
       "      <th>203</th>\n",
       "      <td>Singapore</td>\n",
       "      <td>2018</td>\n",
       "      <td>83.458</td>\n",
       "    </tr>\n",
       "    <tr>\n",
       "      <th>206</th>\n",
       "      <td>Slovenia</td>\n",
       "      <td>2018</td>\n",
       "      <td>81.172</td>\n",
       "    </tr>\n",
       "    <tr>\n",
       "      <th>211</th>\n",
       "      <td>South Korea</td>\n",
       "      <td>2018</td>\n",
       "      <td>82.846</td>\n",
       "    </tr>\n",
       "    <tr>\n",
       "      <th>214</th>\n",
       "      <td>Spain</td>\n",
       "      <td>2018</td>\n",
       "      <td>83.433</td>\n",
       "    </tr>\n",
       "    <tr>\n",
       "      <th>219</th>\n",
       "      <td>Sweden</td>\n",
       "      <td>2018</td>\n",
       "      <td>82.654</td>\n",
       "    </tr>\n",
       "    <tr>\n",
       "      <th>220</th>\n",
       "      <td>Switzerland</td>\n",
       "      <td>2018</td>\n",
       "      <td>83.630</td>\n",
       "    </tr>\n",
       "    <tr>\n",
       "      <th>239</th>\n",
       "      <td>United Kingdom</td>\n",
       "      <td>2018</td>\n",
       "      <td>81.236</td>\n",
       "    </tr>\n",
       "  </tbody>\n",
       "</table>\n",
       "</div>"
      ],
      "text/plain": [
       "             Entity  Year  Life expectancy\n",
       "14        Australia  2018           83.281\n",
       "15          Austria  2018           81.434\n",
       "22          Belgium  2018           81.468\n",
       "39           Canada  2018           82.315\n",
       "56           Cyprus  2018           80.828\n",
       "60          Denmark  2018           80.784\n",
       "78          Finland  2018           81.736\n",
       "81           France  2018           82.541\n",
       "87          Germany  2018           81.180\n",
       "90           Greece  2018           82.072\n",
       "101       Hong Kong  2018           84.687\n",
       "103         Iceland  2018           82.855\n",
       "108         Ireland  2018           82.103\n",
       "110          Israel  2018           82.819\n",
       "111           Italy  2018           83.352\n",
       "113           Japan  2018           84.470\n",
       "130      Luxembourg  2018           82.102\n",
       "137           Malta  2018           82.376\n",
       "157     Netherlands  2018           82.143\n",
       "159     New Zealand  2018           82.145\n",
       "169          Norway  2018           82.271\n",
       "181        Portugal  2018           81.857\n",
       "203       Singapore  2018           83.458\n",
       "206        Slovenia  2018           81.172\n",
       "211     South Korea  2018           82.846\n",
       "214           Spain  2018           83.433\n",
       "219          Sweden  2018           82.654\n",
       "220     Switzerland  2018           83.630\n",
       "239  United Kingdom  2018           81.236"
      ]
     },
     "metadata": {},
     "output_type": "display_data"
    }
   ],
   "source": [
    "aboveSD(GDPperCapita('life-expectancy-vs-gdp-per-capita.csv',\n",
    "          'GDP per capita',\n",
    "          'Life expectancy',\n",
    "          'Life expectancy vs. GDP per capita'), 'Life expectancy vs. GDP per capita')"
   ]
  },
  {
   "cell_type": "markdown",
   "metadata": {},
   "source": [
    "#### E. Which countries have high life expectancy but have low GDP (per capita)? [0.5p]"
   ]
  },
  {
   "cell_type": "markdown",
   "metadata": {},
   "source": [
    "It essentially depends on how you define high life expectancy and low GDP.  If we were to define low GDP as one standard deviation below the mean, it would yield a negative GDP score. This is because the standard deviation is greater than the mean, indicating a high variance between data points. Another way of defining low GDP would be to extract those data points whose GDP is below the median.  \n",
    "\n",
    "The GDP median is 12165.79 with a life expectancy median of 74.368. We can see that these countries are located closer to the upper left corner of the graph."
   ]
  },
  {
   "cell_type": "code",
   "execution_count": 11,
   "metadata": {},
   "outputs": [],
   "source": [
    "def medianFilter (finalData): \n",
    "    \"\"\"\n",
    "    - finalData: dataframe containing the data of interest\n",
    "    \"\"\"\n",
    "    \n",
    "    GDPmedian = finalData['GDP per capita'].median()\n",
    "    LEmedian = finalData['Life expectancy'].median()\n",
    "    \n",
    "    print(GDPmedian)\n",
    "    print(LEmedian)\n",
    "    \n",
    "    Filter1 = finalData['GDP per capita'] < GDPmedian\n",
    "    Filter2 = finalData['Life expectancy'] > LEmedian\n",
    "    \n",
    "    combinedFilter = Filter1 & Filter2\n",
    "    filteredColumns = finalData[['Entity','Year', 'GDP per capita','Life expectancy']]\n",
    "    \n",
    "    print(filteredColumns[combinedFilter])\n"
   ]
  },
  {
   "cell_type": "code",
   "execution_count": 12,
   "metadata": {},
   "outputs": [
    {
     "name": "stdout",
     "output_type": "stream",
     "text": [
      "Year of interest for the data \"Countries with high life expectancy and low GDP\": \n",
      "2018\n",
      "---------------------------------------------------------------------------------------------------------------------\n",
      "12080.4908\n",
      "74.3865\n",
      "                     Entity  Year  GDP per capita  Life expectancy\n",
      "2                   Albania  2018      11104.1665           78.458\n",
      "11                  Armenia  2018      11454.4251           74.945\n",
      "20                 Barbados  2018      11995.1868           79.081\n",
      "29   Bosnia and Herzegovina  2018      10460.5201           77.262\n",
      "54                     Cuba  2018       8325.6313           78.726\n",
      "62                 Dominica  2018       9021.1737           74.806\n",
      "66                  Ecuador  2018      10638.8251           76.800\n",
      "100                Honduras  2018       5041.6354           75.088\n",
      "114                  Jordan  2018      11506.3383           74.405\n",
      "151                 Morocco  2018       8451.1355           76.453\n",
      "191             Saint Lucia  2018      10475.3689           76.057\n",
      "215               Sri Lanka  2018      11662.9064           76.812\n",
      "231                 Tunisia  2018      11353.8865           76.505\n",
      "247                 Vietnam  2018       6814.1423           75.317\n"
     ]
    }
   ],
   "source": [
    "medianFilter(GDPperCapita('life-expectancy-vs-gdp-per-capita.csv',\n",
    "          'GDP per capita',\n",
    "          'Life expectancy', 'Countries with high life expectancy and low GDP'))"
   ]
  },
  {
   "cell_type": "markdown",
   "metadata": {},
   "source": [
    "#### F. Does every strong economy (normally indicated by GDP) have high life expectancy? [1p]"
   ]
  },
  {
   "cell_type": "code",
   "execution_count": null,
   "metadata": {},
   "outputs": [],
   "source": []
  },
  {
   "cell_type": "markdown",
   "metadata": {},
   "source": [
    "#### G. Related to question f, what would happen if you use GDP per capita as an indicator of strong economy? Explain the results you obtained, and discuss any insights you get from comparing the results of g and f. [1p]"
   ]
  },
  {
   "cell_type": "code",
   "execution_count": null,
   "metadata": {},
   "outputs": [],
   "source": [
    "plotFigure(GDP('life-expectancy-vs-gdp-per-capita.csv',\n",
    "          'GDP per capita',\n",
    "          'Life expectancy',\n",
    "          'Life expectancy vs. GDP'), 'GDP', 'Life expectancy', \n",
    "         'Life expectancy vs. GDP', pow(10,8), pow(10,12), 5, 5)"
   ]
  },
  {
   "cell_type": "markdown",
   "metadata": {},
   "source": [
    "## Task 2 - Download some other data sets, e.g. related to happiness and life satisfaction, trust, corruption, etc. <br>\n",
    "#### A.\tThink of several meaningful questions that can be answered with these data, make several informative visualisations to answer those questions. State any assumptions and motivate decisions that you make when selecting data to be plotted, and in combining data. [2.5p] "
   ]
  },
  {
   "cell_type": "markdown",
   "metadata": {},
   "source": [
    "##### 1. Happiness vs. GDP per capita"
   ]
  },
  {
   "cell_type": "code",
   "execution_count": null,
   "metadata": {},
   "outputs": [],
   "source": [
    "plotFigure(GDPperCapita('gdp-vs-happiness.csv',\n",
    "          'GDP per capita, PPP (constant 2017 international $)',\n",
    "          'Life satisfaction in Cantril Ladder (World Happiness Report 2021)',\n",
    "          'Happiness vs. GDP per capita'), 'GDP per capita ($)', \n",
    "           'Life satisfaction (scale: 0-10)', 'Happiness vs. GDP per capita', 30, pow(10,4), 0.5, 0.5)"
   ]
  },
  {
   "cell_type": "markdown",
   "metadata": {},
   "source": [
    "###### Questions\n",
    "---"
   ]
  },
  {
   "cell_type": "markdown",
   "metadata": {},
   "source": [
    "##### 2. Children per women by GDP per capita"
   ]
  },
  {
   "cell_type": "code",
   "execution_count": null,
   "metadata": {
    "scrolled": false
   },
   "outputs": [],
   "source": [
    "plotFigure(GDPperCapita('children-per-woman-by-gdp-per-capita.csv',\n",
    "          'Output-side real GDP per capita (gdppc_o) (PWT 9.1 (2019))',\n",
    "          'Estimates, 1950 - 2020: Annually interpolated demographic indicators - Total fertility (live births per woman)',\n",
    "          'Children per woman vs. GDP per capita'), 'GDP per capita ($)', \n",
    "           'Children per woman', 'Children per woman vs. GDP per capita', 20, pow(10,4), 0.5, 0.5)"
   ]
  },
  {
   "cell_type": "markdown",
   "metadata": {},
   "source": [
    "###### Questions\n",
    "---"
   ]
  },
  {
   "cell_type": "markdown",
   "metadata": {},
   "source": [
    "##### 3. Share of adults who smoke and GDP"
   ]
  },
  {
   "cell_type": "code",
   "execution_count": null,
   "metadata": {},
   "outputs": [],
   "source": [
    "plotFigure(GDPperCapita('share-of-adults-who-are-smoking-by-level-of-prosperity.csv',\n",
    "           'GDP per capita, PPP (constant 2017 international $)',\n",
    "          'Prevalence of current tobacco use (% of adults)',\n",
    "          'Share of adults who are smoking vs. GDP per capita'), 'GDP per capita ($)', \n",
    "           'Adults who smoke (% of adults)', 'Share of adults who are smoking vs. GDP per capita', \n",
    "           25, pow(10,4), 2, 2)"
   ]
  },
  {
   "cell_type": "markdown",
   "metadata": {},
   "source": [
    "###### Questions\n",
    "---"
   ]
  },
  {
   "cell_type": "markdown",
   "metadata": {},
   "source": [
    "##### 4. Medical doctors per 1,000 people vs. GDP per capita"
   ]
  },
  {
   "cell_type": "code",
   "execution_count": null,
   "metadata": {},
   "outputs": [],
   "source": [
    "plotFigure(GDPperCapita('medical-doctors-per-1000-people-vs-gdp-per-capita.csv',\n",
    "           'GDP per capita, PPP (constant 2017 international $)',\n",
    "          'Physicians (per 1,000 people)',\n",
    "          'Medical doctors per 1000 people vs. GDP per capita'), 'GDP per capita ($)', \n",
    "           'Medical doctors (per 1,000 people)', 'Medical doctors per 1000 people vs. GDP per capita',\n",
    "          25, pow(10,4), 1, 0.5)"
   ]
  },
  {
   "cell_type": "markdown",
   "metadata": {},
   "source": [
    "###### Questions\n",
    "---"
   ]
  },
  {
   "cell_type": "markdown",
   "metadata": {},
   "source": [
    "##### 5. Child mortality by GDP\n",
    "> Child mortality is defined as the number of children born alive that die before their 5th birthday."
   ]
  },
  {
   "cell_type": "code",
   "execution_count": null,
   "metadata": {},
   "outputs": [],
   "source": [
    "plotFigure(GDPperCapita('child-mortality-gdp-per-capita.csv',\n",
    "           'GDP per capita',\n",
    "          'Child mortality (Select Gapminder, v10) (2017)',\n",
    "          'Child mortality vs. GDP per capita'), 'GDP per capita ($)', \n",
    "           'Child mortality rate (% children < 5 y.o.)', 'Child mortality vs. GDP per capita',\n",
    "          25, pow(10, 4), 3, 1)"
   ]
  },
  {
   "cell_type": "markdown",
   "metadata": {},
   "source": [
    "###### Questions\n",
    "---"
   ]
  },
  {
   "cell_type": "markdown",
   "metadata": {},
   "source": [
    "#### B. Discuss any observations that you make, or insights obtained, from the data visualisations. [2p]"
   ]
  },
  {
   "cell_type": "markdown",
   "metadata": {},
   "source": [
    "## References\n",
    "#### Task 1\n",
    "1. Data was compiled by Our World in Data (2022): _Life expectancy vs. GDP per capita._ [online] Available at: <https://ourworldindata.org/grapher/life-expectancy-years-vs-real-gdp-per-capita-2011us> [Accessed 20 January 2022]. <br> Based on estimates by James C. Riley (2005) – Estimates of Regional and Global Life Expectancy, 1800–2001. Issue Population and Development Review. Population and Development Review. Volume 31, Issue 3, pages 537–543, September 2005., Zijdeman, Richard; Ribeira da Silva, Filipa, 2015, \"Life Expectancy at Birth (Total)\", http://hdl.handle.net/10622/LKYT53, IISH Dataverse, V1, and UN Population Division (2019)\n",
    "\n",
    "#### Task 2\n",
    "1. Data was compiled by Our World in Data (2022):. _Self-reported Life Satisfaction vs GDP per capita._ [online] Available at: <https://ourworldindata.org/grapher/gdp-vs-happiness> [Accessed 20 January 2022].\n",
    "2. Our World in Data. 2022. _Children per woman by GDP per capita._ [online] Available at: <https://ourworldindata.org/grapher/children-per-woman-by-gdp-per-capita> [Accessed 20 January 2022].\n",
    "3. https://ourworldindata.org/economic-growth\n",
    "4. https://ourworldindata.org/economic-growth\n",
    "5. Our World in Data. 2022. _Child mortality vs GDP per capita._ [online] Available at: <https://ourworldindata.org/grapher/child-mortality-gdp-per-capita> [Accessed 20 January 2022].\n",
    "\n",
    "- [Fundamentals of Data Visualization, Claus O. Wilke](https://clauswilke.com/dataviz/index.html)\n",
    "- [Plotly](https://plotly.com/python/)\n",
    "- [Plotly express - Linear regression](https://plotly.com/python/linear-fits/)"
   ]
  },
  {
   "cell_type": "code",
   "execution_count": null,
   "metadata": {},
   "outputs": [],
   "source": []
  }
 ],
 "metadata": {
  "kernelspec": {
   "display_name": "Python 3",
   "language": "python",
   "name": "python3"
  },
  "language_info": {
   "codemirror_mode": {
    "name": "ipython",
    "version": 3
   },
   "file_extension": ".py",
   "mimetype": "text/x-python",
   "name": "python",
   "nbconvert_exporter": "python",
   "pygments_lexer": "ipython3",
   "version": "3.8.5"
  }
 },
 "nbformat": 4,
 "nbformat_minor": 4
}
