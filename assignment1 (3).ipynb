# Assignment 1: Introduction to Data Science and Python

Student name | Hours spent on the tasks
------------ | -------------
Lenia Malki | 5
Maële Belmont | 5

To do:
- handle error
- reference

## Setup
Python modules need to be loaded to solve the tasks below.

import numpy as np
import matplotlib.pyplot as plt
import pandas as pd
import seaborn as sns
import plotly.express as px
from sklearn.linear_model import LinearRegression

## Task 1 - Download some data related to GDP per capita and life expectancy <br>
#### A. Write a Python program that draws a scatter plot of GDP per capita vs life expectancy. State any assumptions and motivate decisions that you make when selecting data to be plotted, and in combining data. [1p]



def readCSV(csv_file, column1, column2, title):
    """
    input: 
    - csv_file (string): name of csv file
    - column1 (string): name of column for data other than GDP
    - column2 (string): name of column for data about GDP
    - title (string): Title of the plot
    output:
    - dataframe containing data for the chosen year without NaN values
    """
    #Read the csv file containing the downloaded data
    rawData = pd.read_csv(csv_file)
    
    '''
    # List of year with available data
    yearList = []
    for i in range(len(rawData)):
        if (pd.notnull(rawData[column1][i])==True) & (pd.notnull(rawData[column2][i])==True) & (rawData['Year'] not in yearList):
            yearList.append(rawData['Year'])
    print(yearList)
    '''            
    
    #Create a new table with the data for year of interest chosen by the user
    year = int(input('Year of interest for the data "%s": \n' % (title)))
    print('---------------------------------------------------------------------------------------------------------------------')
    yearData = rawData.loc[rawData['Year']==year].reset_index()
        
    #Replace NaN values in 'Continent' by the continent value for every country
    year2015 = rawData.loc[rawData['Year']==2015].reset_index() #continents are defined only in 2015, but we want them to be defined for all the years.
    
    for i in range(len(yearData)):
        for j in range(len(year2015)):
            if yearData['Entity'][i] == year2015['Entity'][j]: #compare the 'Entity' of the chosen year to the 'Entity' in 2015 and if they are the same...
                yearData.at[i, 'Continent'] = year2015['Continent'][j] #...assign the 'Continent' value of 2015 to the 'Continent' value of the chosen year 'Continent' value of 2015 to the 'Continent' value of the chosen year

    #Create a new table with only the relevant columns
    relevantColumns = yearData.loc[:, ['Entity','Year', column1, column2, 'Continent']]

    #Create a new table without rows containing NaN values
    finalData = relevantColumns.dropna() 
    return finalData

def aboveSD(finalData, ylabel):
    """
    inputs: 
    - finalData: dataframe containing the data of interest
    - ylabel: data topic?
    output:
    - dataframe with value of data above the standard mean
    """ 
    column1=finalData.columns[2]
    column2=finalData.columns[3]
    
    #Print useful statistical values
    mean = finalData[column2].mean()
    sd = finalData[column2].std()
    oneSDAboveMean = mean + sd

    Filter = finalData[column2] >= oneSDAboveMean
    tableSDAboveMean = finalData[['Entity','Year', column2]]

    print('Dataframe with countries having', ylabel ,'higher than the standard mean.')
    display(tableSDAboveMean[Filter])
    
    
def plotFigure(finalData, xlabel, ylabel, title):
    """
    input: 
    - finalData: dataframe will be plotted
    - xlabel: label displayed under x-axis
    - ylabel: label displayed under y-axis
    - title of the plot
    output:
    - figure with the plot
    """ 
    ###Plot 
    #Set axis limits
    year = finalData['Year'][0]
    column1=finalData.columns[2]
    column2=finalData.columns[3]
    minimum_x = finalData[column1].min()-100 
    maximum_x = finalData[column1].max()+10000
    minimum_y = finalData[column2].min()-1 
    maximum_y = finalData[column2].max()+1

    #Create Plotly figure
    try:
        fig = px.scatter(finalData, x=column1, 
                     y=column2, 
                     color='Continent', hover_data=['Entity'], 
                     log_x=True, title=f'{title}, {year}',
                     labels={column1: xlabel, column2: ylabel},
                     trendline='ols', 
                     trendline_options=dict(log_x=True), trendline_scope='overall', trendline_color_override='black', 
                     range_x=[minimum_x, maximum_x], range_y=[minimum_y, maximum_y])
        #Display figure
        fig.show()
    except:
        print('No data available for this year, please run the cell again and try with another year.\n')


---

plotFigure(readCSV('life-expectancy-vs-gdp-per-capita.csv',
          'GDP per capita',
          'Life expectancy',
          'Life expectancy vs. GDP per capita'), 'GDP per capita ($)', 
           'Life expectancy (years)', 'Life expectancy vs. GDP per capita')

#### B. Consider whether the results obtained seem reasonable and discuss what might be the explanation for the results you obtained. [1p]



#### C. Did you do any data cleaning (e.g., by removing entries that you think are not useful) for the task of drawing scatter plot(s) and the task of answering the questions d, e, f, and g? If so, explain what kind of entries that you chose to remove and why. If not, explain why you did not need to. [0.5p]



#### D. Which countries have a life expectancy higher than one standard deviation above the mean? [0.5p]

aboveSD(readCSV('life-expectancy-vs-gdp-per-capita.csv',
          'GDP per capita',
          'Life expectancy',
          'Life expectancy vs. GDP per capita'), 'Life expectancy vs. GDP per capita')

#### E. Which countries have high life expectancy but have low GDP (per capita)? [0.5p]



#### F. Does every strong economy (normally indicated by GDP) have high life expectancy? [1p]



#### G. Related to question f, what would happen if you use GDP per capita as an indicator of strong economy? Explain the results you obtained, and discuss any insights you get from comparing the results of g and f. [1p]



## Task 2 - Download some other data sets, e.g. related to happiness and life satisfaction, trust, corruption, etc. <br>
#### A.	Think of several meaningful questions that can be answered with these data, make several informative visualisations to answer those questions. State any assumptions and motivate decisions that you make when selecting data to be plotted, and in combining data. [2.5p] 

##### 1. Happiness vs. GDP per capita

plotFigure('gdp-vs-happiness.csv',
          'GDP per capita, PPP (constant 2017 international $)',
          'Life satisfaction in Cantril Ladder (World Happiness Report 2021)',
          'Happiness vs. GDP per capita',
          'GDP per capita ($)',
          'Life satisfaction (scale: 0-10)')

###### Questions
---

##### 2. Children per women by GDP per capita

plotFigure('children-per-woman-by-gdp-per-capita.csv',
          'Output-side real GDP per capita (gdppc_o) (PWT 9.1 (2019))',
          'Estimates, 1950 - 2020: Annually interpolated demographic indicators - Total fertility (live births per woman)',
          'Children per woman vs. GDP per capita',
          'GDP per capita ($)',
          'Children per woman')

###### Questions
---

##### 3. Share of adults who smoke and GDP

plotFigure('share-of-adults-who-are-smoking-by-level-of-prosperity.csv',
           'GDP per capita, PPP (constant 2017 international $)',
          'Prevalence of current tobacco use (% of adults)',
          'Share of adults who are smoking vs. GDP per capita',
          'GDP per capita ($)',
          'Adults who smoke (% of adults)')

###### Questions
---

##### 4. Medical doctors per 1,000 people vs. GDP per capita

plotFigure('medical-doctors-per-1000-people-vs-gdp-per-capita.csv',
           'GDP per capita, PPP (constant 2017 international $)',
          'Physicians (per 1,000 people)',
          'Medical doctors per 1000 people vs. GDP per capita', 
           'GDP per capita ($)',
          'Medical doctors (per 1,000 people)')

###### Questions
---

##### 5. Child mortality by GDP
> Child mortality is defined as the number of children born alive that die before their 5th birthday.

plotFigure('child-mortality-gdp-per-capita.csv',
           'GDP per capita',
          'Child mortality (Select Gapminder, v10) (2017)',
          'Child mortality vs. GDP per capita',
          'GDP per capita ($)',
          'Child mortality rate (% children < 5 y.o.)')

###### Questions
---

#### B. Discuss any observations that you make, or insights obtained, from the data visualisations. [2p]



## References
#### Task 1
1. Our World in Data. 2022. _Life expectancy vs. GDP per capita._ [online] Available at: <https://ourworldindata.org/grapher/life-expectancy-years-vs-real-gdp-per-capita-2011us> [Accessed 20 January 2022].

#### Task 2
1. Our World in Data. 2022. _Self-reported Life Satisfaction vs GDP per capita._ [online] Available at: <https://ourworldindata.org/grapher/gdp-vs-happiness> [Accessed 20 January 2022].
2. Our World in Data. 2022. _Children per woman by GDP per capita._ [online] Available at: <https://ourworldindata.org/grapher/children-per-woman-by-gdp-per-capita> [Accessed 20 January 2022].
3. https://ourworldindata.org/economic-growth
4. https://ourworldindata.org/economic-growth
5. Our World in Data. 2022. _Child mortality vs GDP per capita._ [online] Available at: <https://ourworldindata.org/grapher/child-mortality-gdp-per-capita> [Accessed 20 January 2022].

- [Fundamentals of Data Visualization, Claus O. Wilke](https://clauswilke.com/dataviz/index.html)
- [Plotly](https://plotly.com/python/)
- [Plotly express - Linear regression](https://plotly.com/python/linear-fits/)

